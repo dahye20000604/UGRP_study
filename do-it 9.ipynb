{
 "cells": [
  {
   "cell_type": "markdown",
   "metadata": {},
   "source": [
    "# do-it9 data 불러오기"
   ]
  },
  {
   "cell_type": "code",
   "execution_count": 1,
   "metadata": {},
   "outputs": [],
   "source": [
    "import numpy as np\n",
    "from tensorflow.keras.datasets import imdb\n",
    "(x_train_all,y_train_all),(x_test,y_test)=imdb.load_data(skip_top=20,num_words=100)"
   ]
  },
  {
   "cell_type": "code",
   "execution_count": 2,
   "metadata": {},
   "outputs": [
    {
     "name": "stdout",
     "output_type": "stream",
     "text": [
      "(25000,) (25000,)\n"
     ]
    }
   ],
   "source": [
    "print(x_train_all.shape,y_train_all.shape)"
   ]
  },
  {
   "cell_type": "code",
   "execution_count": 3,
   "metadata": {},
   "outputs": [
    {
     "name": "stdout",
     "output_type": "stream",
     "text": [
      "[2, 2, 22, 2, 43, 2, 2, 2, 2, 65, 2, 2, 66, 2, 2, 2, 36, 2, 2, 25, 2, 43, 2, 2, 50, 2, 2, 2, 35, 2, 2, 2, 2, 2, 2, 2, 2, 2, 2, 2, 39, 2, 2, 2, 2, 2, 2, 38, 2, 2, 2, 2, 50, 2, 2, 2, 2, 2, 2, 22, 2, 2, 2, 2, 2, 22, 71, 87, 2, 2, 43, 2, 38, 76, 2, 2, 2, 2, 22, 2, 2, 2, 2, 2, 2, 2, 2, 2, 62, 2, 2, 2, 2, 2, 2, 2, 2, 2, 2, 2, 2, 66, 2, 33, 2, 2, 2, 2, 38, 2, 2, 25, 2, 51, 36, 2, 48, 25, 2, 33, 2, 22, 2, 2, 28, 77, 52, 2, 2, 2, 2, 82, 2, 2, 2, 2, 2, 2, 2, 2, 2, 2, 2, 2, 2, 2, 36, 71, 43, 2, 2, 26, 2, 2, 46, 2, 2, 2, 2, 2, 2, 88, 2, 2, 2, 2, 98, 32, 2, 56, 26, 2, 2, 2, 2, 2, 2, 2, 22, 21, 2, 2, 26, 2, 2, 2, 30, 2, 2, 51, 36, 28, 2, 92, 25, 2, 2, 2, 65, 2, 38, 2, 88, 2, 2, 2, 2, 2, 2, 2, 2, 32, 2, 2, 2, 2, 2, 32]\n"
     ]
    }
   ],
   "source": [
    "print(x_train_all[0])"
   ]
  },
  {
   "cell_type": "code",
   "execution_count": 4,
   "metadata": {},
   "outputs": [
    {
     "name": "stdout",
     "output_type": "stream",
     "text": [
      "[22, 43, 65, 66, 36, 25, 43, 50, 35, 39, 38, 50, 22, 22, 71, 87, 43, 38, 76, 22, 62, 66, 33, 38, 25, 51, 36, 48, 25, 33, 22, 28, 77, 52, 82, 36, 71, 43, 26, 46, 88, 98, 32, 56, 26, 22, 21, 26, 30, 51, 36, 28, 92, 25, 65, 38, 88, 32, 32]\n"
     ]
    }
   ],
   "source": [
    "for i in range(len(x_train_all)):\n",
    "    x_train_all[i]=[w for w in x_train_all[i]if w>2]\n",
    "print(x_train_all[0])\n",
    "    "
   ]
  },
  {
   "cell_type": "code",
   "execution_count": 5,
   "metadata": {},
   "outputs": [
    {
     "name": "stdout",
     "output_type": "stream",
     "text": [
      "film just story really they you just there an from so there film film were great just so much film would really at so you what they if you at film have been good also they were just are out because them all up are film but are be what they have don't you story so because all all "
     ]
    }
   ],
   "source": [
    "word_to_index=imdb.get_word_index()\n",
    "index_to_word={word_to_index[k]:k for k in word_to_index}\n",
    "for w in x_train_all[0]:\n",
    "    print(index_to_word[w-3],end=' ')"
   ]
  },
  {
   "cell_type": "code",
   "execution_count": 6,
   "metadata": {},
   "outputs": [
    {
     "name": "stdout",
     "output_type": "stream",
     "text": [
      "59 32\n"
     ]
    }
   ],
   "source": [
    "print(len(x_train_all[0]),len(x_train_all[1]))"
   ]
  },
  {
   "cell_type": "code",
   "execution_count": 7,
   "metadata": {},
   "outputs": [
    {
     "name": "stdout",
     "output_type": "stream",
     "text": [
      "[1 0 0 1 0 0 1 0 1 0]\n"
     ]
    }
   ],
   "source": [
    "print(y_train_all[:10])"
   ]
  },
  {
   "cell_type": "code",
   "execution_count": 8,
   "metadata": {},
   "outputs": [],
   "source": [
    "np.random.seed(42)\n",
    "random_index=np.random.permutation(25000)\n",
    "x_train=x_train_all[random_index[:20000]]\n",
    "y_train=y_train_all[random_index[:20000]]\n",
    "x_val=x_train_all[random_index[20000:]]\n",
    "y_val=y_train_all[random_index[20000:]]"
   ]
  },
  {
   "cell_type": "code",
   "execution_count": 9,
   "metadata": {},
   "outputs": [],
   "source": [
    "#sample data feature 길이 맞추기\n",
    "from tensorflow.keras.preprocessing import sequence\n",
    "\n",
    "maxlen=100\n",
    "x_train_seq=sequence.pad_sequences(x_train,maxlen=maxlen)\n",
    "x_val_seq=sequence.pad_sequences(x_val,maxlen=maxlen)"
   ]
  },
  {
   "cell_type": "code",
   "execution_count": 10,
   "metadata": {},
   "outputs": [
    {
     "name": "stdout",
     "output_type": "stream",
     "text": [
      "[ 0  0  0  0  0  0  0  0  0  0  0  0  0  0  0  0  0  0  0  0  0  0  0  0\n",
      "  0  0  0  0  0  0  0  0  0  0  0  0  0  0  0  0  0  0  0  0  0  0  0  0\n",
      "  0  0  0  0  0  0  0  0  0  0  0  0  0  0 35 40 27 28 40 22 83 31 85 45\n",
      " 24 23 31 70 31 76 30 98 32 22 28 51 75 56 30 33 97 53 38 46 53 74 31 35\n",
      " 23 34 22 58]\n"
     ]
    }
   ],
   "source": [
    "print(x_train_seq[0])"
   ]
  },
  {
   "cell_type": "code",
   "execution_count": 11,
   "metadata": {},
   "outputs": [],
   "source": [
    "from tensorflow.keras.utils import to_categorical\n",
    "\n",
    "x_train_onehot=to_categorical(x_train_seq)\n",
    "x_val_onehot=to_categorical(x_val_seq)"
   ]
  },
  {
   "cell_type": "code",
   "execution_count": 12,
   "metadata": {},
   "outputs": [
    {
     "name": "stdout",
     "output_type": "stream",
     "text": [
      "(20000, 100, 100)\n"
     ]
    }
   ],
   "source": [
    "print(x_train_onehot.shape)\n"
   ]
  },
  {
   "cell_type": "code",
   "execution_count": 13,
   "metadata": {},
   "outputs": [
    {
     "data": {
      "text/plain": [
       "(100, 20000, 100)"
      ]
     },
     "execution_count": 13,
     "metadata": {},
     "output_type": "execute_result"
    }
   ],
   "source": [
    "np.swapaxes(x_train_onehot,0,1).shape"
   ]
  },
  {
   "cell_type": "code",
   "execution_count": 14,
   "metadata": {},
   "outputs": [
    {
     "data": {
      "text/plain": [
       "(100, 100, 20000)"
      ]
     },
     "execution_count": 14,
     "metadata": {},
     "output_type": "execute_result"
    }
   ],
   "source": [
    "np.swapaxes(x_train_onehot,0,2).shape"
   ]
  },
  {
   "cell_type": "code",
   "execution_count": 15,
   "metadata": {},
   "outputs": [
    {
     "data": {
      "text/plain": [
       "[4, 3, 2, 1]"
      ]
     },
     "execution_count": 15,
     "metadata": {},
     "output_type": "execute_result"
    }
   ],
   "source": [
    "a=[1,2,3,4,5]\n",
    "a[:-1][::-1]"
   ]
  },
  {
   "cell_type": "code",
   "execution_count": 16,
   "metadata": {},
   "outputs": [],
   "source": [
    "import tensorflow as tf"
   ]
  },
  {
   "cell_type": "code",
   "execution_count": 49,
   "metadata": {},
   "outputs": [],
   "source": [
    "class RecurrentNetwork:\n",
    "    def __init__(self,n_cells=10,batch_size=32,learning_rate=0.1):\n",
    "        self.n_cells=n_cells\n",
    "        self.batch_size=batch_size\n",
    "        self.w1h=None\n",
    "        self.w1x=None\n",
    "        self.b1=None\n",
    "        self.w2=None\n",
    "        self.b2=None\n",
    "        self.h=None\n",
    "        self.losses=[]\n",
    "        self.val_losses=[]\n",
    "        self.lr=learning_rate\n",
    "    def forpass(self,x):\n",
    "        self.h=[np.zeros((x.shape[0],self.n_cells))]\n",
    "        seq=np.swapaxes(x,0,1)\n",
    "        for x in seq:\n",
    "            z1=np.dot(x,self.w1x)+np.dot(self.h[-1],self.w1h)+self.b1\n",
    "            h=np.tanh(z1)\n",
    "            self.h.append(h)\n",
    "            z2=np.dot(h,self.w2)+np.dot(self.h[-1],self.w1h)+self.b1\n",
    "            h=np.tanh(z1)\n",
    "            self.h.append(h)\n",
    "            z2=np.dot(h,self.w2)+self.b2\n",
    "        return z2\n",
    "    def backprop(self,x,err):\n",
    "        m=len(x)#샘플의 갯수\n",
    "        w2_grad=np.dot(self.h[-1].T,err)/m\n",
    "        b2_grad=np.sum(err)/m\n",
    "        seq=np.swapaxes(x,0,1)\n",
    "        \n",
    "        w1h_grad=w1x_grad=b1_grad=0\n",
    "        err_to_cell=np.dot(err,self.w2.T)*(1-self.h[-1]**2)\n",
    "        \n",
    "        for x,h in zip(seq[::-1][:10],self.h[:-1][::-1][:10]):\n",
    "            w1h_grad+=np.dot(h.T,err_to_cell)\n",
    "            w1x_grad+=np.dot(x.T,err_to_cell)\n",
    "            b1_grad+=np.sum(err_to_cell,axis=0)\n",
    "            err_to_cell=np.dot(err_to_cell,self.w1h)*(1-h**2)\n",
    "            \n",
    "        w1h_grad/=m\n",
    "        w1x_grad/=m\n",
    "        b1_grad/=m\n",
    "        return w1h_grad,w1x_grad,b1_grad,w2_grad,b2_grad\n",
    "    \n",
    "    def sigmoid(self,z):\n",
    "        a=1/(1+np.exp(-z))\n",
    "        return a\n",
    "    \n",
    "    def init_weights(self,n_features,n_classes):\n",
    "        orth_init=tf.initializers.Orthogonal()\n",
    "        glorot_init=tf.initializers.GlorotUniform()\n",
    "        self.w1h=orth_init((self.n_cells,self.n_cells)).numpy()\n",
    "        self.w1x=glorot_init((n_features,self.n_cells)).numpy()\n",
    "        self.b1=np.zeros(self.n_cells)\n",
    "        self.w2=glorot_init((self.n_cells,n_classes)).numpy()\n",
    "        self.b2=np.zeros(n_classes)\n",
    "        \n",
    "    def fit(self,x,y,epochs=100,x_val=None,y_val=None):\n",
    "        y=y.reshape(-1,1)\n",
    "        y_val=y_val.reshape(-1,1)\n",
    "        np.random.seed(42)\n",
    "        self.init_weights(x.shape[2],y.shape[1])\n",
    "        for i in range(epochs):\n",
    "            print('에포크',i,end='')\n",
    "            batch_losses=[]\n",
    "            for x_batch, y_batch in self.gen_batch(x,y):\n",
    "                print('.',end='')\n",
    "                a=self.training(x_batch,y_batch)\n",
    "                a=np.clip(a,1e-10,1-1e-10)\n",
    "                loss=np.mean(-(y_batch*np.log(a)+(1-y_batch)*np.log(1-a)))\n",
    "                batch_losses.append(loss)\n",
    "            print()\n",
    "            self.losses.append(np.mean(batch_losses))\n",
    "            self.update_val_loss(x_val,y_val)\n",
    "    def gen_batch(self,x,y):\n",
    "        length=len(x)\n",
    "        bins=length//self.batch_size\n",
    "        indexes=np.random.permutation(np.arange(len(x)))\n",
    "        x=x[indexes]\n",
    "        y=y[indexes]\n",
    "        for i in range(bins):\n",
    "            start=self.batch_size*i\n",
    "            end=self.batch_size*(i+1)\n",
    "            yield x[start:end], y[start:end]\n",
    "    def training(self,x,y):\n",
    "        m=len(x)\n",
    "        z=self.forpass(x)\n",
    "        a=self.sigmoid(z)\n",
    "        err=-(y-a)\n",
    "        w1h_grad,w1x_grad,b1_grad,w2_grad,b2_grad=self.backprop(x,err)\n",
    "        self.w1h-=self.lr*w1h_grad\n",
    "        self.w1x-=self.lr*w1x_grad\n",
    "        self.b1-=self.lr*b1_grad\n",
    "        self.w2-=self.lr*w2_grad\n",
    "        self.b2-=self.lr*b2_grad\n",
    "        return a\n",
    "    def predict(self,x):\n",
    "        z=self.forpass(x)\n",
    "        return z>0\n",
    "    def score(self,x,y):\n",
    "        return np.mean(self.predict(x)==y.reshape(-1,1))\n",
    "    def update_val_loss(self,x_val,y_val):\n",
    "        z=self.forpass(x_val)\n",
    "        a=self.sigmoid(z)\n",
    "        a=np.clip(a,1e-10,1-1e-10)\n",
    "        val_loss=np.mean(-(y_val*np.log(a)+(1-y_val)*np.log(1-a)))\n",
    "        self.val_losses.append(val_loss)"
   ]
  },
  {
   "cell_type": "code",
   "execution_count": 50,
   "metadata": {},
   "outputs": [
    {
     "name": "stdout",
     "output_type": "stream",
     "text": [
      "에포크 0.................................................................................................................................................................................................................................................................................................................................................................................................................................................................................................................................................................................................................................................\n",
      "에포크 1.................................................................................................................................................................................................................................................................................................................................................................................................................................................................................................................................................................................................................................................\n",
      "에포크 2.................................................................................................................................................................................................................................................................................................................................................................................................................................................................................................................................................................................................................................................\n",
      "에포크 3.................................................................................................................................................................................................................................................................................................................................................................................................................................................................................................................................................................................................................................................\n",
      "에포크 4.................................................................................................................................................................................................................................................................................................................................................................................................................................................................................................................................................................................................................................................\n",
      "에포크 5.................................................................................................................................................................................................................................................................................................................................................................................................................................................................................................................................................................................................................................................\n",
      "에포크 6.................................................................................................................................................................................................................................................................................................................................................................................................................................................................................................................................................................................................................................................\n",
      "에포크 7.................................................................................................................................................................................................................................................................................................................................................................................................................................................................................................................................................................................................................................................\n",
      "에포크 8.................................................................................................................................................................................................................................................................................................................................................................................................................................................................................................................................................................................................................................................\n",
      "에포크 9.................................................................................................................................................................................................................................................................................................................................................................................................................................................................................................................................................................................................................................................\n",
      "에포크 10.................................................................................................................................................................................................................................................................................................................................................................................................................................................................................................................................................................................................................................................\n",
      "에포크 11.................................................................................................................................................................................................................................................................................................................................................................................................................................................................................................................................................................................................................................................\n"
     ]
    },
    {
     "name": "stdout",
     "output_type": "stream",
     "text": [
      "에포크 12.................................................................................................................................................................................................................................................................................................................................................................................................................................................................................................................................................................................................................................................\n",
      "에포크 13.................................................................................................................................................................................................................................................................................................................................................................................................................................................................................................................................................................................................................................................\n",
      "에포크 14.................................................................................................................................................................................................................................................................................................................................................................................................................................................................................................................................................................................................................................................\n",
      "에포크 15.................................................................................................................................................................................................................................................................................................................................................................................................................................................................................................................................................................................................................................................\n",
      "에포크 16.................................................................................................................................................................................................................................................................................................................................................................................................................................................................................................................................................................................................................................................\n",
      "에포크 17.................................................................................................................................................................................................................................................................................................................................................................................................................................................................................................................................................................................................................................................\n",
      "에포크 18.................................................................................................................................................................................................................................................................................................................................................................................................................................................................................................................................................................................................................................................\n",
      "에포크 19.................................................................................................................................................................................................................................................................................................................................................................................................................................................................................................................................................................................................................................................\n"
     ]
    }
   ],
   "source": [
    "rn=RecurrentNetwork(n_cells=32,batch_size=32,learning_rate=0.01)\n",
    "rn.fit(x_train_onehot,y_train,epochs=20,x_val=x_val_onehot,y_val=y_val)"
   ]
  },
  {
   "cell_type": "code",
   "execution_count": 51,
   "metadata": {},
   "outputs": [
    {
     "data": {
      "image/png": "[encoded data removed]",
      "text/plain": [
       "<Figure size 432x288 with 1 Axes>"
      ]
     },
     "metadata": {
      "needs_background": "light"
     },
     "output_type": "display_data"
    }
   ],
   "source": [
    "import matplotlib.pyplot as plt\n",
    "plt.plot(rn.losses)\n",
    "plt.plot(rn.val_losses)\n",
    "plt.show()"
   ]
  },
  {
   "cell_type": "code",
   "execution_count": 52,
   "metadata": {},
   "outputs": [
    {
     "data": {
      "text/plain": [
       "0.6446"
      ]
     },
     "execution_count": 52,
     "metadata": {},
     "output_type": "execute_result"
    }
   ],
   "source": [
    "rn.score(x_val_onehot,y_val)"
   ]
  },
  {
   "cell_type": "markdown",
   "metadata": {},
   "source": [
    "# 9-3 텐서플로로 순환 신경망 만들기"
   ]
  },
  {
   "cell_type": "code",
   "execution_count": 55,
   "metadata": {},
   "outputs": [],
   "source": [
    "from tensorflow.keras.models import Sequential\n",
    "from tensorflow.keras.layers import Dense,SimpleRNN"
   ]
  },
  {
   "cell_type": "code",
   "execution_count": 56,
   "metadata": {},
   "outputs": [
    {
     "name": "stdout",
     "output_type": "stream",
     "text": [
      "Model: \"sequential\"\n",
      "_________________________________________________________________\n",
      "Layer (type)                 Output Shape              Param #   \n",
      "=================================================================\n",
      "simple_rnn (SimpleRNN)       (None, 32)                4256      \n",
      "_________________________________________________________________\n",
      "dense (Dense)                (None, 1)                 33        \n",
      "=================================================================\n",
      "Total params: 4,289\n",
      "Trainable params: 4,289\n",
      "Non-trainable params: 0\n",
      "_________________________________________________________________\n"
     ]
    }
   ],
   "source": [
    "model=Sequential()\n",
    "model.add(SimpleRNN(32,input_shape=(100,100)))\n",
    "model.add(Dense(1,activation='sigmoid'))\n",
    "model.summary()\n"
   ]
  },
  {
   "cell_type": "code",
   "execution_count": 57,
   "metadata": {},
   "outputs": [
    {
     "name": "stdout",
     "output_type": "stream",
     "text": [
      "Train on 20000 samples, validate on 5000 samples\n",
      "Epoch 1/20\n",
      "20000/20000 [==============================] - 27s 1ms/sample - loss: 0.6994 - accuracy: 0.5210 - val_loss: 0.6924 - val_accuracy: 0.5324\n",
      "Epoch 2/20\n",
      "20000/20000 [==============================] - 25s 1ms/sample - loss: 0.6792 - accuracy: 0.5696 - val_loss: 0.6673 - val_accuracy: 0.6012\n",
      "Epoch 3/20\n",
      "20000/20000 [==============================] - 23s 1ms/sample - loss: 0.6527 - accuracy: 0.6169 - val_loss: 0.6366 - val_accuracy: 0.6296\n",
      "Epoch 4/20\n",
      "20000/20000 [==============================] - 23s 1ms/sample - loss: 0.6306 - accuracy: 0.6492 - val_loss: 0.7949 - val_accuracy: 0.5114\n",
      "Epoch 5/20\n",
      "20000/20000 [==============================] - 23s 1ms/sample - loss: 0.6158 - accuracy: 0.6632 - val_loss: 0.6061 - val_accuracy: 0.6726\n",
      "Epoch 6/20\n",
      "20000/20000 [==============================] - 23s 1ms/sample - loss: 0.6064 - accuracy: 0.6758 - val_loss: 0.6173 - val_accuracy: 0.6550\n",
      "Epoch 7/20\n",
      "20000/20000 [==============================] - 23s 1ms/sample - loss: 0.5973 - accuracy: 0.6837 - val_loss: 0.5929 - val_accuracy: 0.6824\n",
      "Epoch 8/20\n",
      "20000/20000 [==============================] - 23s 1ms/sample - loss: 0.5926 - accuracy: 0.6856 - val_loss: 0.6024 - val_accuracy: 0.6702\n",
      "Epoch 9/20\n",
      "20000/20000 [==============================] - 23s 1ms/sample - loss: 0.5877 - accuracy: 0.6884 - val_loss: 0.5802 - val_accuracy: 0.6956\n",
      "Epoch 10/20\n",
      "20000/20000 [==============================] - 23s 1ms/sample - loss: 0.5878 - accuracy: 0.6916 - val_loss: 0.5740 - val_accuracy: 0.6974\n",
      "Epoch 11/20\n",
      "20000/20000 [==============================] - 27s 1ms/sample - loss: 0.5827 - accuracy: 0.6956 - val_loss: 0.5700 - val_accuracy: 0.6962\n",
      "Epoch 12/20\n",
      "20000/20000 [==============================] - 25s 1ms/sample - loss: 0.5783 - accuracy: 0.7002 - val_loss: 0.5701 - val_accuracy: 0.6910\n",
      "Epoch 13/20\n",
      "20000/20000 [==============================] - 25s 1ms/sample - loss: 0.5746 - accuracy: 0.7002 - val_loss: 0.5794 - val_accuracy: 0.6886\n",
      "Epoch 14/20\n",
      "20000/20000 [==============================] - 28s 1ms/sample - loss: 0.5754 - accuracy: 0.7043 - val_loss: 0.5753 - val_accuracy: 0.6970\n",
      "Epoch 15/20\n",
      "20000/20000 [==============================] - 33s 2ms/sample - loss: 0.5704 - accuracy: 0.7072 - val_loss: 0.5755 - val_accuracy: 0.6926\n",
      "Epoch 16/20\n",
      "20000/20000 [==============================] - 27s 1ms/sample - loss: 0.5686 - accuracy: 0.7071 - val_loss: 0.5799 - val_accuracy: 0.6916\n",
      "Epoch 17/20\n",
      "20000/20000 [==============================] - 24s 1ms/sample - loss: 0.5673 - accuracy: 0.7059 - val_loss: 0.5649 - val_accuracy: 0.7022\n",
      "Epoch 18/20\n",
      "20000/20000 [==============================] - 23s 1ms/sample - loss: 0.5689 - accuracy: 0.7085 - val_loss: 0.5618 - val_accuracy: 0.7060\n",
      "Epoch 19/20\n",
      "20000/20000 [==============================] - 23s 1ms/sample - loss: 0.5683 - accuracy: 0.7035 - val_loss: 0.5760 - val_accuracy: 0.6890\n",
      "Epoch 20/20\n",
      "20000/20000 [==============================] - 23s 1ms/sample - loss: 0.5658 - accuracy: 0.7111 - val_loss: 0.5836 - val_accuracy: 0.6876\n"
     ]
    }
   ],
   "source": [
    "model.compile(optimizer='sgd',loss='binary_crossentropy',metrics=['accuracy'])\n",
    "history=model.fit(x_train_onehot,y_train,epochs=20,batch_size=32,validation_data=(x_val_onehot,y_val))"
   ]
  },
  {
   "cell_type": "code",
   "execution_count": 58,
   "metadata": {},
   "outputs": [
    {
     "data": {
      "image/png": "[encoded data removed]",
      "text/plain": [
       "<Figure size 432x288 with 1 Axes>"
      ]
     },
     "metadata": {
      "needs_background": "light"
     },
     "output_type": "display_data"
    },
    {
     "data": {
      "image/png": "[encoded data removed]",
      "text/plain": [
       "<Figure size 432x288 with 1 Axes>"
      ]
     },
     "metadata": {
      "needs_background": "light"
     },
     "output_type": "display_data"
    }
   ],
   "source": [
    "plt.plot(history.history['loss'])\n",
    "plt.plot(history.history['val_loss'])\n",
    "plt.show()\n",
    "\n",
    "plt.plot(history.history['accuracy'])\n",
    "plt.plot(history.history['val_accuracy'])\n",
    "plt.show()"
   ]
  },
  {
   "cell_type": "code",
   "execution_count": 59,
   "metadata": {},
   "outputs": [],
   "source": [
    "loss,accuracy=model.evaluate(x_val_onehot,y_val,verbose=0)"
   ]
  },
  {
   "cell_type": "code",
   "execution_count": 60,
   "metadata": {},
   "outputs": [],
   "source": [
    "#embeding"
   ]
  },
  {
   "cell_type": "code",
   "execution_count": 61,
   "metadata": {},
   "outputs": [],
   "source": [
    "from tensorflow.keras.layers import Embedding"
   ]
  },
  {
   "cell_type": "code",
   "execution_count": 64,
   "metadata": {},
   "outputs": [],
   "source": [
    "from tensorflow.keras.datasets import imdb\n",
    "(x_train_all,y_train_all),(x_test,y_test)=imdb.load_data(skip_top=20,num_words=1000)\n",
    "for i in range(len(x_train_all)):\n",
    "    x_train_all[i]=[w for w in x_train_all[i]if w>2 ]\n",
    "x_train=x_train_all[random_index[:20000]]\n",
    "y_train=y_train_all[random_index[:20000]]\n",
    "x_val=x_train_all[random_index[20000:]]\n",
    "y_val=y_train_all[random_index[20000:]]"
   ]
  },
  {
   "cell_type": "code",
   "execution_count": 65,
   "metadata": {},
   "outputs": [],
   "source": [
    "maxlen=100\n",
    "x_train_seq=sequence.pad_sequences(x_train,maxlen=maxlen)\n",
    "x_val_seq=sequence.pad_sequences(x_val,maxlen=maxlen)"
   ]
  },
  {
   "cell_type": "code",
   "execution_count": 66,
   "metadata": {},
   "outputs": [
    {
     "name": "stdout",
     "output_type": "stream",
     "text": [
      "Model: \"sequential_1\"\n",
      "_________________________________________________________________\n",
      "Layer (type)                 Output Shape              Param #   \n",
      "=================================================================\n",
      "embedding (Embedding)        (None, None, 32)          32000     \n",
      "_________________________________________________________________\n",
      "simple_rnn_1 (SimpleRNN)     (None, 8)                 328       \n",
      "_________________________________________________________________\n",
      "dense_1 (Dense)              (None, 1)                 9         \n",
      "=================================================================\n",
      "Total params: 32,337\n",
      "Trainable params: 32,337\n",
      "Non-trainable params: 0\n",
      "_________________________________________________________________\n"
     ]
    }
   ],
   "source": [
    "model_ebd=Sequential()\n",
    "model_ebd.add(Embedding(1000,32))\n",
    "model_ebd.add(SimpleRNN(8))\n",
    "model_ebd.add(Dense(1,activation='sigmoid'))\n",
    "model_ebd.summary()"
   ]
  },
  {
   "cell_type": "markdown",
   "metadata": {},
   "source": []
  },
  {
   "cell_type": "markdown",
   "metadata": {},
   "source": [
    "modle"
   ]
  },
  {
   "cell_type": "code",
   "execution_count": 67,
   "metadata": {},
   "outputs": [
    {
     "name": "stdout",
     "output_type": "stream",
     "text": [
      "Train on 20000 samples, validate on 5000 samples\n",
      "Epoch 1/10\n",
      "20000/20000 [==============================] - 25s 1ms/sample - loss: 0.5142 - accuracy: 0.7477 - val_loss: 0.4442 - val_accuracy: 0.8064\n",
      "Epoch 2/10\n",
      "20000/20000 [==============================] - 23s 1ms/sample - loss: 0.3947 - accuracy: 0.8328 - val_loss: 0.4738 - val_accuracy: 0.7814\n",
      "Epoch 3/10\n",
      "20000/20000 [==============================] - 23s 1ms/sample - loss: 0.3769 - accuracy: 0.8399 - val_loss: 0.4335 - val_accuracy: 0.8094\n",
      "Epoch 4/10\n",
      "20000/20000 [==============================] - 23s 1ms/sample - loss: 0.3582 - accuracy: 0.8500 - val_loss: 0.4065 - val_accuracy: 0.8188\n",
      "Epoch 5/10\n",
      "20000/20000 [==============================] - 23s 1ms/sample - loss: 0.3702 - accuracy: 0.8467 - val_loss: 0.4227 - val_accuracy: 0.8188\n",
      "Epoch 6/10\n",
      "20000/20000 [==============================] - 23s 1ms/sample - loss: 0.3247 - accuracy: 0.8722 - val_loss: 0.4285 - val_accuracy: 0.8186\n",
      "Epoch 7/10\n",
      "20000/20000 [==============================] - 23s 1ms/sample - loss: 0.3042 - accuracy: 0.8824 - val_loss: 0.4496 - val_accuracy: 0.7982\n",
      "Epoch 8/10\n",
      "20000/20000 [==============================] - 23s 1ms/sample - loss: 0.2803 - accuracy: 0.8921 - val_loss: 0.4440 - val_accuracy: 0.8154\n",
      "Epoch 9/10\n",
      "20000/20000 [==============================] - 23s 1ms/sample - loss: 0.2652 - accuracy: 0.8982 - val_loss: 0.4639 - val_accuracy: 0.8070\n",
      "Epoch 10/10\n",
      "20000/20000 [==============================] - 24s 1ms/sample - loss: 0.2600 - accuracy: 0.9001 - val_loss: 0.4851 - val_accuracy: 0.7974\n"
     ]
    }
   ],
   "source": [
    "model_ebd.compile(optimizer='adam',loss='binary_crossentropy',metrics=['accuracy'])\n",
    "history=model_ebd.fit(x_train_seq,y_train,epochs=10,batch_size=32,validation_data=(x_val_seq,y_val))"
   ]
  },
  {
   "cell_type": "code",
   "execution_count": 68,
   "metadata": {},
   "outputs": [
    {
     "data": {
      "image/png": "[encoded data removed]",
      "text/plain": [
       "<Figure size 432x288 with 1 Axes>"
      ]
     },
     "metadata": {
      "needs_background": "light"
     },
     "output_type": "display_data"
    },
    {
     "data": {
      "image/png": "[encoded data removed]",
      "text/plain": [
       "<Figure size 432x288 with 1 Axes>"
      ]
     },
     "metadata": {
      "needs_background": "light"
     },
     "output_type": "display_data"
    }
   ],
   "source": [
    "plt.plot(history.history['loss'])\n",
    "plt.plot(history.history['val_loss'])\n",
    "plt.show()\n",
    "\n",
    "plt.plot(history.history['accuracy'])\n",
    "plt.plot(history.history['val_accuracy'])\n",
    "plt.show()"
   ]
  },
  {
   "cell_type": "code",
   "execution_count": 69,
   "metadata": {},
   "outputs": [],
   "source": [
    "#9-4 LSTM 순환 신경망 만들어 텍스트 분류"
   ]
  },
  {
   "cell_type": "code",
   "execution_count": 71,
   "metadata": {},
   "outputs": [
    {
     "name": "stdout",
     "output_type": "stream",
     "text": [
      "Model: \"sequential_2\"\n",
      "_________________________________________________________________\n",
      "Layer (type)                 Output Shape              Param #   \n",
      "=================================================================\n",
      "embedding_1 (Embedding)      (None, None, 32)          32000     \n",
      "_________________________________________________________________\n",
      "lstm (LSTM)                  (None, 8)                 1312      \n",
      "_________________________________________________________________\n",
      "dense_2 (Dense)              (None, 1)                 9         \n",
      "=================================================================\n",
      "Total params: 33,321\n",
      "Trainable params: 33,321\n",
      "Non-trainable params: 0\n",
      "_________________________________________________________________\n"
     ]
    }
   ],
   "source": [
    "from tensorflow.keras.layers import LSTM\n",
    "model_lstm=Sequential()\n",
    "model_lstm.add(Embedding(1000,32))\n",
    "model_lstm.add(LSTM(8))\n",
    "model_lstm.add(Dense(1,activation='sigmoid'))\n",
    "model_lstm.summary()"
   ]
  },
  {
   "cell_type": "code",
   "execution_count": 73,
   "metadata": {},
   "outputs": [
    {
     "name": "stdout",
     "output_type": "stream",
     "text": [
      "Train on 20000 samples, validate on 5000 samples\n",
      "Epoch 1/10\n",
      "20000/20000 [==============================] - 39s 2ms/sample - loss: 0.4543 - accuracy: 0.7997 - val_loss: 0.3701 - val_accuracy: 0.8442\n",
      "Epoch 2/10\n",
      "20000/20000 [==============================] - 34s 2ms/sample - loss: 0.3338 - accuracy: 0.8600 - val_loss: 0.3659 - val_accuracy: 0.8438\n",
      "Epoch 3/10\n",
      "20000/20000 [==============================] - 34s 2ms/sample - loss: 0.3062 - accuracy: 0.8716 - val_loss: 0.3555 - val_accuracy: 0.8458\n",
      "Epoch 4/10\n",
      "20000/20000 [==============================] - 34s 2ms/sample - loss: 0.2886 - accuracy: 0.8795 - val_loss: 0.3849 - val_accuracy: 0.8332\n",
      "Epoch 5/10\n",
      "20000/20000 [==============================] - 34s 2ms/sample - loss: 0.2759 - accuracy: 0.8834 - val_loss: 0.3671 - val_accuracy: 0.8428\n",
      "Epoch 6/10\n",
      "20000/20000 [==============================] - 34s 2ms/sample - loss: 0.2621 - accuracy: 0.8918 - val_loss: 0.3860 - val_accuracy: 0.8396\n",
      "Epoch 7/10\n",
      "20000/20000 [==============================] - 34s 2ms/sample - loss: 0.2520 - accuracy: 0.8960 - val_loss: 0.3962 - val_accuracy: 0.8350\n",
      "Epoch 8/10\n",
      "20000/20000 [==============================] - 36s 2ms/sample - loss: 0.2414 - accuracy: 0.8995 - val_loss: 0.3955 - val_accuracy: 0.8372\n",
      "Epoch 9/10\n",
      "20000/20000 [==============================] - 35s 2ms/sample - loss: 0.2307 - accuracy: 0.9061 - val_loss: 0.4294 - val_accuracy: 0.8298\n",
      "Epoch 10/10\n",
      "20000/20000 [==============================] - 34s 2ms/sample - loss: 0.2222 - accuracy: 0.9086 - val_loss: 0.4178 - val_accuracy: 0.8340\n"
     ]
    }
   ],
   "source": [
    "model_lstm.compile(optimizer='adam',loss='binary_crossentropy',metrics=['accuracy'])\n",
    "history=model_lstm.fit(x_train_seq,y_train,epochs=10,batch_size=32,validation_data=(x_val_seq,y_val))"
   ]
  },
  {
   "cell_type": "code",
   "execution_count": 74,
   "metadata": {},
   "outputs": [
    {
     "data": {
      "image/png": "[encoded data removed]",
      "text/plain": [
       "<Figure size 432x288 with 1 Axes>"
      ]
     },
     "metadata": {
      "needs_background": "light"
     },
     "output_type": "display_data"
    },
    {
     "data": {
      "image/png": "[encoded data removed]",
      "text/plain": [
       "<Figure size 432x288 with 1 Axes>"
      ]
     },
     "metadata": {
      "needs_background": "light"
     },
     "output_type": "display_data"
    }
   ],
   "source": [
    "plt.plot(history.history['loss'])\n",
    "plt.plot(history.history['val_loss'])\n",
    "plt.show()\n",
    "\n",
    "plt.plot(history.history['accuracy'])\n",
    "plt.plot(history.history['val_accuracy'])\n",
    "plt.show()"
   ]
  },
  {
   "cell_type": "code",
   "execution_count": null,
   "metadata": {},
   "outputs": [],
   "source": []
  }
 ],
 "metadata": {
  "kernelspec": {
   "display_name": "Python 3",
   "language": "python",
   "name": "python3"
  },
  "language_info": {
   "codemirror_mode": {
    "name": "ipython",
    "version": 3
   },
   "file_extension": ".py",
   "mimetype": "text/x-python",
   "name": "python",
   "nbconvert_exporter": "python",
   "pygments_lexer": "ipython3",
   "version": "3.6.10"
  }
 },
 "nbformat": 4,
 "nbformat_minor": 4
}
