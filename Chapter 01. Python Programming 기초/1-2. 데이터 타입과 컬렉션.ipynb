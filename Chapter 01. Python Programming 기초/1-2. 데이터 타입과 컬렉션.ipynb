{
 "cells": [
  {
   "cell_type": "code",
   "execution_count": null,
   "metadata": {},
   "outputs": [],
   "source": [
    "#shift+tab 함수 부연설명 가능"
   ]
  },
  {
   "cell_type": "markdown",
   "metadata": {},
   "source": [
    "### 01. 기본 타입 및 변수의 이해-1"
   ]
  },
  {
   "cell_type": "code",
   "execution_count": 3,
   "metadata": {},
   "outputs": [],
   "source": [
    "#으로 주석처리 가능\n",
    "a=10\n",
    "b=11.4"
   ]
  },
  {
   "cell_type": "code",
   "execution_count": 5,
   "metadata": {},
   "outputs": [
    {
     "name": "stdout",
     "output_type": "stream",
     "text": [
      "10 11.4\n",
      "10 10 200 11.4\n"
     ]
    }
   ],
   "source": [
    "print(a,b)\n",
    "print(a, 10, 200, b)"
   ]
  },
  {
   "cell_type": "code",
   "execution_count": 6,
   "metadata": {},
   "outputs": [
    {
     "name": "stdout",
     "output_type": "stream",
     "text": [
      "10*11.4*10*100!!"
     ]
    }
   ],
   "source": [
    "print(a,b,10,100,sep='*', end='!!')"
   ]
  },
  {
   "cell_type": "code",
   "execution_count": 8,
   "metadata": {},
   "outputs": [
    {
     "data": {
      "text/plain": [
       "11.4"
      ]
     },
     "execution_count": 8,
     "metadata": {},
     "output_type": "execute_result"
    }
   ],
   "source": [
    "a=10\n",
    "b=11.4\n",
    "a\n",
    "b"
   ]
  },
  {
   "cell_type": "code",
   "execution_count": 9,
   "metadata": {},
   "outputs": [],
   "source": [
    "abcABC = 100\n",
    "_abc124 = 200\n",
    "ABC124 = 200\n",
    "a456BC = 100\n",
    "# 3abc=100 err\n",
    "# class = 100 err   reserved keywords(예약어)라서 안됨.   _class=100은 가능"
   ]
  },
  {
   "cell_type": "markdown",
   "metadata": {},
   "source": [
    "### 02. 기본 타입 및 변수의 이해-2"
   ]
  },
  {
   "cell_type": "code",
   "execution_count": 11,
   "metadata": {},
   "outputs": [
    {
     "name": "stdout",
     "output_type": "stream",
     "text": [
      "<class 'int'>\n"
     ]
    },
    {
     "data": {
      "text/plain": [
       "float"
      ]
     },
     "execution_count": 11,
     "metadata": {},
     "output_type": "execute_result"
    }
   ],
   "source": [
    "print(type(a))\n",
    "type(b)"
   ]
  },
  {
   "cell_type": "code",
   "execution_count": 12,
   "metadata": {},
   "outputs": [
    {
     "name": "stdout",
     "output_type": "stream",
     "text": [
      "None\n"
     ]
    }
   ],
   "source": [
    "c=None\n",
    "print(c)"
   ]
  },
  {
   "cell_type": "code",
   "execution_count": 18,
   "metadata": {},
   "outputs": [
    {
     "name": "stdout",
     "output_type": "stream",
     "text": [
      "True\n",
      "False\n",
      "True\n",
      "False\n",
      "False\n",
      "True\n",
      "<class 'bool'>\n"
     ]
    }
   ],
   "source": [
    "a=5\n",
    "b=4\n",
    "\n",
    "print(a>b)\n",
    "print(a<b)\n",
    "print(a>=b)\n",
    "print(a<=b)\n",
    "print(a==b)\n",
    "print(a!=b)\n",
    "\n",
    "c=a>b\n",
    "print(type(c))"
   ]
  },
  {
   "cell_type": "code",
   "execution_count": 19,
   "metadata": {},
   "outputs": [
    {
     "name": "stdout",
     "output_type": "stream",
     "text": [
      "9\n",
      "20\n",
      "1\n",
      "1.25\n",
      "1\n",
      "625\n"
     ]
    }
   ],
   "source": [
    "a=5\n",
    "b=4\n",
    "\n",
    "print(a + b)\n",
    "print(a * b)\n",
    "print(a - b)\n",
    "print(a / b)\n",
    "print(a % b)\n",
    "print(a ** b)"
   ]
  },
  {
   "cell_type": "code",
   "execution_count": 25,
   "metadata": {},
   "outputs": [
    {
     "name": "stdout",
     "output_type": "stream",
     "text": [
      "22\n",
      "40\n"
     ]
    }
   ],
   "source": [
    "print(a+b*4)\n",
    "print((a+b)*4)"
   ]
  },
  {
   "cell_type": "code",
   "execution_count": 26,
   "metadata": {},
   "outputs": [
    {
     "name": "stdout",
     "output_type": "stream",
     "text": [
      "9\n",
      "6\n",
      "9\n"
     ]
    }
   ],
   "source": [
    "a=9\n",
    "print(a)\n",
    "print(a-3)\n",
    "print(a)"
   ]
  },
  {
   "cell_type": "code",
   "execution_count": 27,
   "metadata": {},
   "outputs": [
    {
     "name": "stdout",
     "output_type": "stream",
     "text": [
      "6\n"
     ]
    }
   ],
   "source": [
    "a=9\n",
    "t=a-3\n",
    "a=t\n",
    "print(a)"
   ]
  },
  {
   "cell_type": "code",
   "execution_count": 29,
   "metadata": {},
   "outputs": [
    {
     "name": "stdout",
     "output_type": "stream",
     "text": [
      "6\n"
     ]
    }
   ],
   "source": [
    "a=9\n",
    "#a=a-3\n",
    "a-=3\n",
    "print(a)"
   ]
  },
  {
   "cell_type": "markdown",
   "metadata": {},
   "source": [
    "### 03. 문자열 타입의 이해 및 활용하기"
   ]
  },
  {
   "cell_type": "code",
   "execution_count": 30,
   "metadata": {},
   "outputs": [],
   "source": [
    "a = 'Hello world'\n",
    "b = \"Hello world\""
   ]
  },
  {
   "cell_type": "code",
   "execution_count": 31,
   "metadata": {},
   "outputs": [],
   "source": [
    "c = '''Hello \n",
    "world'''\n",
    "d = \"\"\"Hell\n",
    "o \n",
    "world\"\"\""
   ]
  },
  {
   "cell_type": "code",
   "execution_count": 32,
   "metadata": {},
   "outputs": [
    {
     "name": "stdout",
     "output_type": "stream",
     "text": [
      "Hello world\n",
      "Hello world\n",
      "Hello \n",
      "world\n",
      "Hell\n",
      "o \n",
      "world\n"
     ]
    }
   ],
   "source": [
    "print(a)\n",
    "print(b)\n",
    "print(c)\n",
    "print(d)"
   ]
  },
  {
   "cell_type": "code",
   "execution_count": 33,
   "metadata": {},
   "outputs": [
    {
     "name": "stdout",
     "output_type": "stream",
     "text": [
      "Hello world\n",
      "\n",
      "\n",
      "HA\tHA\n"
     ]
    }
   ],
   "source": [
    "print(\"Hello world\\n\\n\")\n",
    "print('HA\\tHA')"
   ]
  },
  {
   "cell_type": "code",
   "execution_count": 36,
   "metadata": {},
   "outputs": [
    {
     "name": "stdout",
     "output_type": "stream",
     "text": [
      "d\n",
      "H\n",
      "d\n",
      "H\n"
     ]
    }
   ],
   "source": [
    "a='Hello world' # 길이 : 11\n",
    "print(a[10])\n",
    "print(a[0])\n",
    "print(a[-1])\n",
    "print(a[-11])"
   ]
  },
  {
   "cell_type": "code",
   "execution_count": 37,
   "metadata": {},
   "outputs": [
    {
     "ename": "IndexError",
     "evalue": "string index out of range",
     "output_type": "error",
     "traceback": [
      "\u001b[1;31m---------------------------------------------------------------------------\u001b[0m",
      "\u001b[1;31mIndexError\u001b[0m                                Traceback (most recent call last)",
      "\u001b[1;32m<ipython-input-37-2d7a8bace290>\u001b[0m in \u001b[0;36m<module>\u001b[1;34m\u001b[0m\n\u001b[0;32m      1\u001b[0m \u001b[1;31m#print(a[11])\u001b[0m\u001b[1;33m\u001b[0m\u001b[1;33m\u001b[0m\u001b[1;33m\u001b[0m\u001b[0m\n\u001b[1;32m----> 2\u001b[1;33m \u001b[0mprint\u001b[0m\u001b[1;33m(\u001b[0m\u001b[0ma\u001b[0m\u001b[1;33m[\u001b[0m\u001b[1;33m-\u001b[0m\u001b[1;36m12\u001b[0m\u001b[1;33m]\u001b[0m\u001b[1;33m)\u001b[0m\u001b[1;33m\u001b[0m\u001b[1;33m\u001b[0m\u001b[0m\n\u001b[0m",
      "\u001b[1;31mIndexError\u001b[0m: string index out of range"
     ]
    }
   ],
   "source": [
    "#print(a[11])\n",
    "#print(a[-12])"
   ]
  },
  {
   "cell_type": "code",
   "execution_count": 43,
   "metadata": {},
   "outputs": [
    {
     "name": "stdout",
     "output_type": "stream",
     "text": [
      "ello w\n",
      "H\n",
      "Hello\n",
      "lo world\n",
      "Hello world\n"
     ]
    }
   ],
   "source": [
    "print(a[1:7])\n",
    "print(a[0:1])\n",
    "\n",
    "print(a[:5])\n",
    "print(a[3:])\n",
    "print(a[:])"
   ]
  },
  {
   "cell_type": "code",
   "execution_count": 54,
   "metadata": {},
   "outputs": [
    {
     "name": "stdout",
     "output_type": "stream",
     "text": [
      "HELLO WORLD WHAT A NICE WEATHER\n",
      "jello world what a nice weather\n",
      "['Hello', 'world', 'what', 'a', 'nice', 'weather']\n",
      "['Hello ', 'orld ', 'hat a nice ', 'eather']\n"
     ]
    }
   ],
   "source": [
    "a='Hello world what a nice weather'\n",
    "print(a.upper())\n",
    "print(a.replace('H','j'))\n",
    "print(a.split())\n",
    "print(a.split('w'))"
   ]
  },
  {
   "cell_type": "code",
   "execution_count": 48,
   "metadata": {},
   "outputs": [
    {
     "name": "stdout",
     "output_type": "stream",
     "text": [
      "오늘 기온25.5도 이고, 비올 확률은 80.0% 입니다.\n"
     ]
    }
   ],
   "source": [
    "temperature=25.5\n",
    "prob=80.0\n",
    "a='오늘 기온{}도 이고, 비올 확률은 {}% 입니다.'.format(temperature,prob)\n",
    "print(a)"
   ]
  },
  {
   "cell_type": "markdown",
   "metadata": {},
   "source": [
    "### 04. 컬렉션 타입 이해-1 (List)"
   ]
  },
  {
   "cell_type": "code",
   "execution_count": 55,
   "metadata": {},
   "outputs": [
    {
     "name": "stdout",
     "output_type": "stream",
     "text": [
      "[]\n"
     ]
    }
   ],
   "source": [
    "a=[]\n",
    "print(a)"
   ]
  },
  {
   "cell_type": "code",
   "execution_count": 56,
   "metadata": {},
   "outputs": [
    {
     "name": "stdout",
     "output_type": "stream",
     "text": [
      "[1, 1, 2, 3, 5, 8]\n"
     ]
    }
   ],
   "source": [
    "a=[1,1,2,3,5,8]\n",
    "print(a)"
   ]
  },
  {
   "cell_type": "code",
   "execution_count": 57,
   "metadata": {},
   "outputs": [
    {
     "name": "stdout",
     "output_type": "stream",
     "text": [
      "['korea', 'canada', 1, 23, [34, 56]]\n"
     ]
    }
   ],
   "source": [
    "a=['korea','canada',1,23,[34,56]]\n",
    "print(a)"
   ]
  },
  {
   "cell_type": "code",
   "execution_count": 59,
   "metadata": {},
   "outputs": [
    {
     "name": "stdout",
     "output_type": "stream",
     "text": [
      "['h', 'e', 'l', 'l', 'o', ' ', 'w', 'o', 'r', 'l', 'd']\n",
      "[1, 2, 3]\n"
     ]
    }
   ],
   "source": [
    "a='hello world'\n",
    "b=list(a)\n",
    "print(b)\n",
    "\n",
    "c=(1,2,3)\n",
    "d=list(c)\n",
    "print(d)"
   ]
  },
  {
   "cell_type": "code",
   "execution_count": 60,
   "metadata": {},
   "outputs": [
    {
     "name": "stdout",
     "output_type": "stream",
     "text": [
      "['hello', 'world', 'nice', 'weather']\n"
     ]
    }
   ],
   "source": [
    "a='hello world nice weather'\n",
    "b=a.split()\n",
    "\n",
    "print(b)"
   ]
  },
  {
   "cell_type": "code",
   "execution_count": 63,
   "metadata": {},
   "outputs": [
    {
     "name": "stdout",
     "output_type": "stream",
     "text": [
      "3\n",
      "6\n",
      "6\n"
     ]
    }
   ],
   "source": [
    "a=[1,2,3,4,5,6]\n",
    "print(a[2])\n",
    "print(a[5])\n",
    "print(a[-1])"
   ]
  },
  {
   "cell_type": "code",
   "execution_count": 67,
   "metadata": {},
   "outputs": [
    {
     "name": "stdout",
     "output_type": "stream",
     "text": [
      "h\n",
      "hello world\n",
      "jello world\n",
      "jello world\n",
      "jello world\n"
     ]
    }
   ],
   "source": [
    "# str은 불변(immutable)\n",
    "a='hello world'\n",
    "print(a[0])\n",
    "\n",
    "#a[0]='j'\n",
    "b='jello world'\n",
    "c='j'+a[1:]\n",
    "d=a.replace('h','j')\n",
    "print(a,b,c,d,sep='\\n')"
   ]
  },
  {
   "cell_type": "code",
   "execution_count": 69,
   "metadata": {},
   "outputs": [
    {
     "name": "stdout",
     "output_type": "stream",
     "text": [
      "[100, 2, 3, 4, 90]\n"
     ]
    }
   ],
   "source": [
    "a=[1,2,3,4,5]\n",
    "a[0]=100\n",
    "a[-1]=90\n",
    "print(a)"
   ]
  },
  {
   "cell_type": "code",
   "execution_count": 72,
   "metadata": {},
   "outputs": [
    {
     "name": "stdout",
     "output_type": "stream",
     "text": [
      "[3, 4]\n",
      "[1, 2, 3, 4, 5]\n",
      "[3, 4, 5]\n",
      "[1, 2, 3, 4, 5]\n",
      "[1, 3, 5]\n"
     ]
    }
   ],
   "source": [
    "a=[1,2,3,4,5]\n",
    "print(a[2:4])\n",
    "print(a[:5])\n",
    "print(a[2:])\n",
    "print(a[:])\n",
    "\n",
    "#slicing\n",
    "#start:end:increment(1)\n",
    "\n",
    "print(a[::2])"
   ]
  },
  {
   "cell_type": "markdown",
   "metadata": {},
   "source": [
    "### 05. 컬렉션 타입 이해 -2 (List)"
   ]
  },
  {
   "cell_type": "code",
   "execution_count": 73,
   "metadata": {},
   "outputs": [
    {
     "name": "stdout",
     "output_type": "stream",
     "text": [
      "[1, 2, 3, 4, 5, 10]\n"
     ]
    }
   ],
   "source": [
    "a=[1,2,3,4,5]\n",
    "a.append(10)\n",
    "print(a)"
   ]
  },
  {
   "cell_type": "code",
   "execution_count": 79,
   "metadata": {},
   "outputs": [
    {
     "name": "stdout",
     "output_type": "stream",
     "text": [
      "[1, 2, 3, 4, 5, [6, 7, 8, 9, 10]]\n",
      "[1, 2, 3, 4, 5, 6, 7, 8, 9, 10]\n",
      "[1, 2, 3, 4, 5, 6, 7, 8, 9, 10]\n"
     ]
    }
   ],
   "source": [
    "a=[1,2,3,4,5]\n",
    "b=[6,7,8,9,10]\n",
    "a1=[1,2,3,4,5]\n",
    "a2=[1,2,3,4,5]\n",
    "\n",
    "a.append(b)\n",
    "print(a)\n",
    "\n",
    "a1.extend(b)\n",
    "print(a1)\n",
    "\n",
    "a2+=b\n",
    "print(a2)"
   ]
  },
  {
   "cell_type": "code",
   "execution_count": 81,
   "metadata": {},
   "outputs": [
    {
     "name": "stdout",
     "output_type": "stream",
     "text": [
      "[1, 2, 3, 4, 5, 6]\n"
     ]
    }
   ],
   "source": [
    "a=[1,3,4,5,6]\n",
    "a.insert(1,2)\n",
    "print(a)"
   ]
  },
  {
   "cell_type": "code",
   "execution_count": 85,
   "metadata": {},
   "outputs": [
    {
     "name": "stdout",
     "output_type": "stream",
     "text": [
      "[1, 2, 4, 5]\n"
     ]
    }
   ],
   "source": [
    "a=[1,2,30,30,4,5]\n",
    "a.remove(30)\n",
    "a.remove(30)\n",
    "#a.remove(0)\n",
    "print(a)"
   ]
  },
  {
   "cell_type": "code",
   "execution_count": 87,
   "metadata": {},
   "outputs": [
    {
     "name": "stdout",
     "output_type": "stream",
     "text": [
      "[1, 3, 4]\n",
      "2\n"
     ]
    }
   ],
   "source": [
    "a=[1,2,3,4,5]\n",
    "a.pop()   #default : 맨 마지막,  입력하면 해당 index에 있는 값\n",
    "d=a.pop(1)    #그 값을 return\n",
    "\n",
    "print(a)\n",
    "print(d)"
   ]
  },
  {
   "cell_type": "code",
   "execution_count": 88,
   "metadata": {},
   "outputs": [
    {
     "data": {
      "text/plain": [
       "3"
      ]
     },
     "execution_count": 88,
     "metadata": {},
     "output_type": "execute_result"
    }
   ],
   "source": [
    "a=[2,6,7,9,10]\n",
    "a.index(9)"
   ]
  },
  {
   "cell_type": "code",
   "execution_count": 90,
   "metadata": {},
   "outputs": [
    {
     "name": "stdout",
     "output_type": "stream",
     "text": [
      "False\n",
      "True\n"
     ]
    }
   ],
   "source": [
    "a = [1,2,3,4,5,10]\n",
    "b = 7\n",
    "c = 10\n",
    "b1 = b in a\n",
    "c1 = c in a\n",
    "print(b1)\n",
    "print(c1)"
   ]
  },
  {
   "cell_type": "code",
   "execution_count": 96,
   "metadata": {},
   "outputs": [
    {
     "name": "stdout",
     "output_type": "stream",
     "text": [
      "[1, 2, 7, 7, 8, 9, 10, 19, 20, 21]\n",
      "[21, 20, 19, 10, 9, 8, 7, 7, 2, 1]\n",
      "[1, 2, 7, 7, 8, 9, 10, 19, 20, 21]\n"
     ]
    }
   ],
   "source": [
    "a = [9,10,7,19,1,2,20,21,7,8]\n",
    "\n",
    "a.sort()\n",
    "print(a)\n",
    "\n",
    "a.sort(reverse=True)\n",
    "print(a)\n",
    "\n",
    "b=sorted(a)\n",
    "print(b)"
   ]
  },
  {
   "cell_type": "markdown",
   "metadata": {},
   "source": [
    "### 06. 컬렉션 타입 이해 -3 (tuple)"
   ]
  },
  {
   "cell_type": "code",
   "execution_count": 98,
   "metadata": {},
   "outputs": [
    {
     "name": "stdout",
     "output_type": "stream",
     "text": [
      "<class 'list'>\n",
      "<class 'tuple'>\n",
      "[100, 2, 3]\n",
      "(1, 2, 3)\n"
     ]
    }
   ],
   "source": [
    "a = [1,2,3]\n",
    "b = (1,2,3)\n",
    "\n",
    "print(type(a))\n",
    "print(type(b))\n",
    "\n",
    "a[0]=100\n",
    "print(a)\n",
    "\n",
    "#b[0]=50\n",
    "print(b)"
   ]
  },
  {
   "cell_type": "code",
   "execution_count": 102,
   "metadata": {},
   "outputs": [
    {
     "name": "stdout",
     "output_type": "stream",
     "text": [
      "<class 'tuple'> <class 'tuple'>\n",
      "100 200 300 400\n"
     ]
    }
   ],
   "source": [
    "a = (100, 200)\n",
    "b = 100,200\n",
    "print(type(a),type(b))\n",
    "\n",
    "a, b, c, d = 100, 200, 300, 400\n",
    "print(a,b,c,d)"
   ]
  },
  {
   "cell_type": "code",
   "execution_count": 106,
   "metadata": {},
   "outputs": [
    {
     "name": "stdout",
     "output_type": "stream",
     "text": [
      "4 5\n",
      "4 5\n"
     ]
    }
   ],
   "source": [
    "a = a1 = 5\n",
    "b = b1 = 4\n",
    "\n",
    "temp = a1\n",
    "a1 = b1\n",
    "b1 = temp\n",
    "print(a1,b1)\n",
    "\n",
    "a, b = b, a\n",
    "\n",
    "print(a,b)"
   ]
  },
  {
   "cell_type": "markdown",
   "metadata": {},
   "source": [
    "### 07. 컬렉션 타입 이해 -4 (dict)"
   ]
  },
  {
   "cell_type": "code",
   "execution_count": 111,
   "metadata": {},
   "outputs": [
    {
     "name": "stdout",
     "output_type": "stream",
     "text": [
      "{'Korea': 'Seoul', 'Canada': 'Ottawa', 'USA': 'Washington D.C'}\n",
      "<class 'dict'>\n",
      "Seoul\n"
     ]
    }
   ],
   "source": [
    "a = {'Korea': 'Seoul', \n",
    "     'Canada': 'Ottawa',\n",
    "     'USA': 'Washington D.C'}\n",
    "print(a)\n",
    "print(a['Korea'])\n",
    "\n",
    "b={}\n",
    "print(type(b))\n",
    "\n",
    "c={0:1 , 1:6, 7:9, 8:10}\n",
    "print(c[0])\n",
    "#print(c[2])"
   ]
  },
  {
   "cell_type": "code",
   "execution_count": 112,
   "metadata": {},
   "outputs": [
    {
     "name": "stdout",
     "output_type": "stream",
     "text": [
      "{'Korea': 'Seoul', 'Canada': 'Ottawa', 'USA': 'Washington D.C', 'Japan': 'Kyoto', 'Japna2': 'Kyoto', 'China': 'Beijing'}\n"
     ]
    }
   ],
   "source": [
    "a = {'Korea': 'Seoul', \n",
    "     'Canada': 'Ottawa',\n",
    "     'USA': 'Washington D.C'}\n",
    "a['Japan']='Tokyo'\n",
    "a['Japan']='Kyoto'         #key 값은 여러개 불가\n",
    "a['Japna2']='Kyoto'        #value 값은 여러개 가능\n",
    "a['China']='Beijing'\n",
    "print(a)"
   ]
  },
  {
   "cell_type": "code",
   "execution_count": 113,
   "metadata": {},
   "outputs": [
    {
     "name": "stdout",
     "output_type": "stream",
     "text": [
      "{'a': 2, 'b': 2, 'c': 3, 'd': 4, 'e': 5}\n"
     ]
    }
   ],
   "source": [
    "a = {'a' : 1, 'b' : 2, 'c' : 3}\n",
    "b = {'a' : 2, 'd' : 4, 'e' : 5}\n",
    "\n",
    "a.update(b)    #동일한 key가 있으면 b에 있는 value로 들어감 \n",
    "print(a)"
   ]
  },
  {
   "cell_type": "code",
   "execution_count": 118,
   "metadata": {},
   "outputs": [
    {
     "name": "stdout",
     "output_type": "stream",
     "text": [
      "{'a': 1, 'b': 2, 'c': 3}\n",
      "{'a': 1, 'c': 3}\n",
      "{'a': 1}\n",
      "{}\n"
     ]
    }
   ],
   "source": [
    "a = {'a' : 1, 'b' : 2, 'c' : 3}\n",
    "print(a)\n",
    "\n",
    "a.pop('b')\n",
    "print(a)\n",
    "\n",
    "del a['c']\n",
    "print(a)\n",
    "\n",
    "a.clear()\n",
    "print(a)"
   ]
  },
  {
   "cell_type": "code",
   "execution_count": 122,
   "metadata": {
    "scrolled": true
   },
   "outputs": [
    {
     "name": "stdout",
     "output_type": "stream",
     "text": [
      "{'a': 1, 'b': 2, 'c': 3}\n",
      "True\n",
      "False\n",
      "False\n",
      "\n",
      "True\n",
      "True\n"
     ]
    }
   ],
   "source": [
    "a = {'a' : 1, 'b' : 2, 'c' : 3}\n",
    "print(a)\n",
    "\n",
    "print('b' in a)\n",
    "print('d' in a)\n",
    "print(2 in a,end='\\n\\n')\n",
    "\n",
    "b=[1,2,3,4,5,6,7,9,10,100]\n",
    "print(100 in b)       # 앞에서부터 100이 나올 때 까지 모두 살펴보기 때문에 성능 저하가 있을 수 있다.\n",
    "print('b' in a)       # list와 달리 찾기 빠르다. "
   ]
  },
  {
   "cell_type": "code",
   "execution_count": 123,
   "metadata": {
    "scrolled": true
   },
   "outputs": [
    {
     "name": "stdout",
     "output_type": "stream",
     "text": [
      "None\n"
     ]
    }
   ],
   "source": [
    "print(a.get('d'))   #key가 없어도 err가 안남. a['d']는 없으면 err. 또는 if문 사용"
   ]
  },
  {
   "cell_type": "code",
   "execution_count": 133,
   "metadata": {},
   "outputs": [
    {
     "name": "stdout",
     "output_type": "stream",
     "text": [
      "{'a': 1, 'b': 2, 'c': 3}\n",
      "['a', 'b', 'c']\n",
      "[1, 2, 3]\n",
      "[('a', 1), ('b', 2), ('c', 3)]\n"
     ]
    },
    {
     "data": {
      "text/plain": [
       "'a'"
      ]
     },
     "execution_count": 133,
     "metadata": {},
     "output_type": "execute_result"
    }
   ],
   "source": [
    "a = {'a' : 1, 'b' : 2, 'c' : 3}\n",
    "print(a)\n",
    "print(list(a.keys()))\n",
    "print(list(a.values()))\n",
    "\n",
    "print(list(a.items()))   #key value의 튜플"
   ]
  },
  {
   "cell_type": "markdown",
   "metadata": {},
   "source": [
    "### 08. 컬렉션 타입 이해 -5 (set)"
   ]
  },
  {
   "cell_type": "code",
   "execution_count": 135,
   "metadata": {},
   "outputs": [
    {
     "name": "stdout",
     "output_type": "stream",
     "text": [
      "{1, 2, 4, 5}\n"
     ]
    }
   ],
   "source": [
    "a = {1,1,2,2,4,5}\n",
    "print(a)\n",
    "\n",
    "#print(a[0]) --> 오류"
   ]
  },
  {
   "cell_type": "code",
   "execution_count": 136,
   "metadata": {},
   "outputs": [
    {
     "name": "stdout",
     "output_type": "stream",
     "text": [
      "<class 'dict'>\n",
      "<class 'set'>\n"
     ]
    }
   ],
   "source": [
    "a = {}\n",
    "b = set()\n",
    "print(type(a))\n",
    "print(type(b))"
   ]
  },
  {
   "cell_type": "code",
   "execution_count": 137,
   "metadata": {},
   "outputs": [
    {
     "name": "stdout",
     "output_type": "stream",
     "text": [
      "[1, 1, 2, 3, 3, 4, 1, 5]\n",
      "{1, 2, 3, 4, 5}\n"
     ]
    }
   ],
   "source": [
    "a=[1,1,2,3,3,4,1,5]\n",
    "print(a)\n",
    "\n",
    "b=set(a)\n",
    "print(b)"
   ]
  },
  {
   "cell_type": "code",
   "execution_count": 138,
   "metadata": {},
   "outputs": [
    {
     "name": "stdout",
     "output_type": "stream",
     "text": [
      "{1, 2, 3, 4}\n",
      "{2, 3}\n",
      "{1}\n",
      "False\n"
     ]
    }
   ],
   "source": [
    "a={1,2,3}\n",
    "b={2,3,4}\n",
    "\n",
    "print(a.union(b)) #합집합\n",
    "print(a.intersection(b)) #교집합\n",
    "print(a.difference(b)) #차집합\n",
    "print(a.issubset(b)) #부분 집합"
   ]
  }
 ],
 "metadata": {
  "kernelspec": {
   "display_name": "Python 3",
   "language": "python",
   "name": "python3"
  },
  "language_info": {
   "codemirror_mode": {
    "name": "ipython",
    "version": 3
   },
   "file_extension": ".py",
   "mimetype": "text/x-python",
   "name": "python",
   "nbconvert_exporter": "python",
   "pygments_lexer": "ipython3",
   "version": "3.8.5"
  }
 },
 "nbformat": 4,
 "nbformat_minor": 4
}
