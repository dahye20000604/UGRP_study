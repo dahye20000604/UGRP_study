{
 "cells": [
  {
   "cell_type": "code",
   "execution_count": 1,
   "metadata": {},
   "outputs": [],
   "source": [
    "import numpy as np\n",
    "import tensorflow as tf\n",
    "import matplotlib.pyplot as plt"
   ]
  },
  {
   "cell_type": "code",
   "execution_count": 21,
   "metadata": {},
   "outputs": [],
   "source": [
    "class MultiClassNetwork:\n",
    "    \n",
    "    def __init__(self, units=10,batch_size=32, learning_rate=0.1, l1=0,l2=0):\n",
    "        self.units=units\n",
    "        self.batch_size=batch_size\n",
    "        self.w1=None\n",
    "        self.b1=None\n",
    "        self.w2=None\n",
    "        self.b2=None\n",
    "        self.a1=None\n",
    "        self.losses=[]\n",
    "        self.val_losses=[]\n",
    "        self.lr=learning_rate\n",
    "        self.l1=l1\n",
    "        self.l2=l2\n",
    "        \n",
    "    def forpass(self,x):\n",
    "        z1=np.dot(x,self.w1)+self.b1\n",
    "        self.a1=self.sigmoid(z1)\n",
    "        z2=np.dot(self.a1,self.w2)+self.b2\n",
    "        return z2\n",
    "    \n",
    "    def backprop(self,x,err):\n",
    "        m=len(x)\n",
    "        w2_grad=np.dot(self.a1.T,err)/m\n",
    "        b2_grad=np.sum(err)/m\n",
    "        err_to_hidden=np.dot(err,self.w2.T)*self.a1*(1-self.a1)\n",
    "        w1_grad=np.dot(x.T,err_to_hidden)/m\n",
    "        b1_grad=np.sum(err_to_hidden,axis=0)/m\n",
    "        return w1_grad,b1_grad,w2_grad,b2_grad\n",
    "    \n",
    "    def sigmoid(self,z):\n",
    "        a=1/(1+np.exp(-z))\n",
    "        return a\n",
    "    \n",
    "    def softmax(self,z):\n",
    "        exp_z=np.exp(z)\n",
    "        return exp_z/np.sum(exp_z,axis=1).reshape(-1,1)\n",
    "    \n",
    "    def init_weights(self, n_features, n_classes):\n",
    "        self.w1=np.random.normal(0,1,(n_features,self.units))\n",
    "        self.b1=np.zeros(self.units)\n",
    "        self.w2=np.random.normal(0,1,(self.units,n_classes))\n",
    "        self.b2=np.zeros(n_classes)\n",
    "        \n",
    "    def fit(self,x,y,epochs=100,x_val=None,y_val=None):\n",
    "        np.random.seed(42)\n",
    "        self.init_weights(x.shape[1],10)  #y.shape 대신에 10  \n",
    "        for i in range(epochs):\n",
    "            loss=0\n",
    "            #check=0                         #밑의 for문 때문에 추가\n",
    "            print('.',end='')\n",
    "            for x_batch,y_batch in self.gen_batch(x,y):\n",
    "                z=self.forpass(x_batch)\n",
    "                b=self.softmax(z)\n",
    "                b=np.clip(b,1e-10,1-1e-10)\n",
    "                check=0                         #밑의 for문 때문에 추가\n",
    "                a=self.training(x_batch,y_batch)\n",
    "                a=np.clip(a,1e-10,1-1e-10)\n",
    "                for i in y_batch:                 #loss구하는 것을 for 문으로 수정\n",
    "                    loss+=-np.log(b[check][i])          #b를 a로 바꾸면 왜 안될까..\n",
    "                    check+=1\n",
    "            self.losses.append((loss+self.reg_loss())/len(x))\n",
    "            self.update_val_loss(x_val,y_val)\n",
    "        \n",
    "    def gen_batch(self,x,y):\n",
    "        length=len(x)\n",
    "        bins=length//self.batch_size\n",
    "        if length % self.batch_size:\n",
    "            bins+=1          \n",
    "        indexes=np.random.permutation(np.arange(len(x)))\n",
    "        x=x[indexes]\n",
    "        y=y[indexes]\n",
    "        for i in range(bins):\n",
    "            start=self.batch_size*i\n",
    "            end=self.batch_size*(i+1)\n",
    "            yield x[start:end],y[start:end]\n",
    "            \n",
    "    def training(self,x,y):\n",
    "        m=len(x)\n",
    "        z=self.forpass(x)\n",
    "        a=self.softmax(z)\n",
    "        err=a\n",
    "        check=0\n",
    "        for i in a:\n",
    "            for j in range(len(i)):\n",
    "                if(y[check]==j):\n",
    "                    err[check][j]=-(1-i[j])\n",
    "                else:\n",
    "                    err[check][j]=i[j]\n",
    "            check+=1                                  #err 코드 수정\n",
    "        w1_grad,b1_grad,w2_grad,b2_grad=self.backprop(x,err)\n",
    "        w1_grad+=(self.l1*np.sign(self.w1)+self.l2*self.w1)/m\n",
    "        w2_grad+=(self.l1*np.sign(self.w2)+self.l2*self.w2)/m\n",
    "        self.w1-=self.lr*w1_grad\n",
    "        self.b1-=self.lr*b1_grad\n",
    "        self.w2-=self.lr*w2_grad\n",
    "        self.b2-=self.lr*b2_grad\n",
    "        return a\n",
    "    \n",
    "    def predict(self,x):\n",
    "        z=self.forpass(x)\n",
    "        return np.argmax(z,axis=1)\n",
    "    \n",
    "    def score(self,x,y):\n",
    "        return np.mean(self.predict(x)==y)             #np.argmax(y)수정\n",
    "    \n",
    "    def reg_loss(self):\n",
    "        return self.l1*(np.sum(np.abs(self.w1))+np.sum(np.abs(self.w2)))+self.l2/2*(np.sum(self.w1**2)+np.sum(self.w2**2))\n",
    "    \n",
    "    def update_val_loss(self,x_val,y_val):\n",
    "        z=self.forpass(x_val)\n",
    "        a=self.softmax(z)\n",
    "        a=np.clip(a,1e-10,1-1e-10)\n",
    "        val_loss=0\n",
    "        check=0\n",
    "        for i in y_val:                 #val_loss구하는 것을 for 문으로 수정\n",
    "            val_loss+=-np.log(a[check][i])\n",
    "            check+=1\n",
    "        self.val_losses.append((val_loss+self.reg_loss())/len(y_val))"
   ]
  },
  {
   "cell_type": "code",
   "execution_count": 22,
   "metadata": {},
   "outputs": [
    {
     "name": "stdout",
     "output_type": "stream",
     "text": [
      "(60000, 28, 28) (60000,)\n",
      "(48000, 784) (12000, 784)\n",
      "(48000,) (12000,)\n",
      "........................................"
     ]
    }
   ],
   "source": [
    "(x_train_all,y_train_all),(x_test,y_test)=tf.keras.datasets.fashion_mnist.load_data()\n",
    "print(x_train_all.shape,y_train_all.shape)\n",
    "from sklearn.model_selection import train_test_split\n",
    "x_train,x_val,y_train,y_val = train_test_split(x_train_all,y_train_all,stratify=y_train_all,test_size=0.2,random_state=42)\n",
    "x_train=x_train/255\n",
    "x_val=x_val/255\n",
    "x_train=x_train.reshape(-1,784)\n",
    "x_val=x_val.reshape(-1,784)\n",
    "print(x_train.shape,x_val.shape)\n",
    "print(y_train.shape,y_val.shape)\n",
    "fc=MultiClassNetwork(units=100,batch_size=256)\n",
    "fc.fit(x_train,y_train,x_val=x_val,y_val=y_val,epochs=40)       #y_train_encoded대신에 y_train, y_val_encoded대신에 y_val"
   ]
  },
  {
   "cell_type": "code",
   "execution_count": 23,
   "metadata": {},
   "outputs": [
    {
     "name": "stdout",
     "output_type": "stream",
     "text": [
      "[23.025850929929987, 23.025850929929987, 23.025850929929987]\n",
      "[1.2963947840037717, 1.0146374139398724]\n"
     ]
    },
    {
     "data": {
      "image/png": "[encoded data removed]",
      "text/plain": [
       "<Figure size 432x288 with 1 Axes>"
      ]
     },
     "metadata": {
      "needs_background": "light"
     },
     "output_type": "display_data"
    }
   ],
   "source": [
    "plt.plot(fc.losses)\n",
    "plt.plot(fc.val_losses)\n",
    "plt.ylabel('loss')\n",
    "plt.xlabel('iteration')\n",
    "plt.legend(['train_loss','val_loss'])\n",
    "print(fc.losses[0:3])\n",
    "print(fc.val_losses[:2])\n",
    "plt.show()"
   ]
  },
  {
   "cell_type": "code",
   "execution_count": 9,
   "metadata": {},
   "outputs": [
    {
     "data": {
      "text/plain": [
       "0.8150833333333334"
      ]
     },
     "execution_count": 9,
     "metadata": {},
     "output_type": "execute_result"
    }
   ],
   "source": [
    "fc.score(x_val,y_val)"
   ]
  },
  {
   "cell_type": "code",
   "execution_count": 15,
   "metadata": {},
   "outputs": [
    {
     "name": "stdout",
     "output_type": "stream",
     "text": [
      "[[1 1]\n",
      " [2 1]\n",
      " [3 1]]\n",
      "1\n",
      "3\n",
      "2\n",
      "3\n"
     ]
    }
   ],
   "source": [
    "a=np.array([[1,2],[2,3],[3,4]])\n",
    "for i in a:\n",
    "    i[1]=1\n",
    "print(a)\n",
    "b=np.array([1,3,2])\n",
    "for i in b:\n",
    "    print(i)"
   ]
  },
  {
   "cell_type": "code",
   "execution_count": null,
   "metadata": {},
   "outputs": [],
   "source": []
  }
 ],
 "metadata": {
  "kernelspec": {
   "display_name": "Python 3",
   "language": "python",
   "name": "python3"
  },
  "language_info": {
   "codemirror_mode": {
    "name": "ipython",
    "version": 3
   },
   "file_extension": ".py",
   "mimetype": "text/x-python",
   "name": "python",
   "nbconvert_exporter": "python",
   "pygments_lexer": "ipython3",
   "version": "3.8.5"
  }
 },
 "nbformat": 4,
 "nbformat_minor": 4
}
