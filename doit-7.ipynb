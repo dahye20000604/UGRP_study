{
 "cells": [
  {
   "cell_type": "code",
   "execution_count": 1,
   "metadata": {},
   "outputs": [
    {
     "name": "stderr",
     "output_type": "stream",
     "text": [
      "C:\\Users\\users\\lib\\site-packages\\tensorflow\\python\\framework\\dtypes.py:516: FutureWarning: Passing (type, 1) or '1type' as a synonym of type is deprecated; in a future version of numpy, it will be understood as (type, (1,)) / '(1,)type'.\n",
      "  _np_qint8 = np.dtype([(\"qint8\", np.int8, 1)])\n",
      "C:\\Users\\users\\lib\\site-packages\\tensorflow\\python\\framework\\dtypes.py:517: FutureWarning: Passing (type, 1) or '1type' as a synonym of type is deprecated; in a future version of numpy, it will be understood as (type, (1,)) / '(1,)type'.\n",
      "  _np_quint8 = np.dtype([(\"quint8\", np.uint8, 1)])\n",
      "C:\\Users\\users\\lib\\site-packages\\tensorflow\\python\\framework\\dtypes.py:518: FutureWarning: Passing (type, 1) or '1type' as a synonym of type is deprecated; in a future version of numpy, it will be understood as (type, (1,)) / '(1,)type'.\n",
      "  _np_qint16 = np.dtype([(\"qint16\", np.int16, 1)])\n",
      "C:\\Users\\users\\lib\\site-packages\\tensorflow\\python\\framework\\dtypes.py:519: FutureWarning: Passing (type, 1) or '1type' as a synonym of type is deprecated; in a future version of numpy, it will be understood as (type, (1,)) / '(1,)type'.\n",
      "  _np_quint16 = np.dtype([(\"quint16\", np.uint16, 1)])\n",
      "C:\\Users\\users\\lib\\site-packages\\tensorflow\\python\\framework\\dtypes.py:520: FutureWarning: Passing (type, 1) or '1type' as a synonym of type is deprecated; in a future version of numpy, it will be understood as (type, (1,)) / '(1,)type'.\n",
      "  _np_qint32 = np.dtype([(\"qint32\", np.int32, 1)])\n",
      "C:\\Users\\users\\lib\\site-packages\\tensorflow\\python\\framework\\dtypes.py:525: FutureWarning: Passing (type, 1) or '1type' as a synonym of type is deprecated; in a future version of numpy, it will be understood as (type, (1,)) / '(1,)type'.\n",
      "  np_resource = np.dtype([(\"resource\", np.ubyte, 1)])\n",
      "C:\\Users\\users\\lib\\site-packages\\tensorboard\\compat\\tensorflow_stub\\dtypes.py:541: FutureWarning: Passing (type, 1) or '1type' as a synonym of type is deprecated; in a future version of numpy, it will be understood as (type, (1,)) / '(1,)type'.\n",
      "  _np_qint8 = np.dtype([(\"qint8\", np.int8, 1)])\n",
      "C:\\Users\\users\\lib\\site-packages\\tensorboard\\compat\\tensorflow_stub\\dtypes.py:542: FutureWarning: Passing (type, 1) or '1type' as a synonym of type is deprecated; in a future version of numpy, it will be understood as (type, (1,)) / '(1,)type'.\n",
      "  _np_quint8 = np.dtype([(\"quint8\", np.uint8, 1)])\n",
      "C:\\Users\\users\\lib\\site-packages\\tensorboard\\compat\\tensorflow_stub\\dtypes.py:543: FutureWarning: Passing (type, 1) or '1type' as a synonym of type is deprecated; in a future version of numpy, it will be understood as (type, (1,)) / '(1,)type'.\n",
      "  _np_qint16 = np.dtype([(\"qint16\", np.int16, 1)])\n",
      "C:\\Users\\users\\lib\\site-packages\\tensorboard\\compat\\tensorflow_stub\\dtypes.py:544: FutureWarning: Passing (type, 1) or '1type' as a synonym of type is deprecated; in a future version of numpy, it will be understood as (type, (1,)) / '(1,)type'.\n",
      "  _np_quint16 = np.dtype([(\"quint16\", np.uint16, 1)])\n",
      "C:\\Users\\users\\lib\\site-packages\\tensorboard\\compat\\tensorflow_stub\\dtypes.py:545: FutureWarning: Passing (type, 1) or '1type' as a synonym of type is deprecated; in a future version of numpy, it will be understood as (type, (1,)) / '(1,)type'.\n",
      "  _np_qint32 = np.dtype([(\"qint32\", np.int32, 1)])\n",
      "C:\\Users\\users\\lib\\site-packages\\tensorboard\\compat\\tensorflow_stub\\dtypes.py:550: FutureWarning: Passing (type, 1) or '1type' as a synonym of type is deprecated; in a future version of numpy, it will be understood as (type, (1,)) / '(1,)type'.\n",
      "  np_resource = np.dtype([(\"resource\", np.ubyte, 1)])\n"
     ]
    }
   ],
   "source": [
    "import tensorflow as tf"
   ]
  },
  {
   "cell_type": "code",
   "execution_count": 2,
   "metadata": {},
   "outputs": [
    {
     "data": {
      "text/plain": [
       "'1.14.0'"
      ]
     },
     "execution_count": 2,
     "metadata": {},
     "output_type": "execute_result"
    }
   ],
   "source": [
    "tf. __version__"
   ]
  },
  {
   "cell_type": "code",
   "execution_count": 3,
   "metadata": {},
   "outputs": [],
   "source": [
    "(x_train_all,y_train_all),(x_test,y_test)=tf.keras.datasets.fashion_mnist.load_data()"
   ]
  },
  {
   "cell_type": "code",
   "execution_count": 4,
   "metadata": {},
   "outputs": [
    {
     "name": "stdout",
     "output_type": "stream",
     "text": [
      "(60000, 28, 28) (60000,)\n"
     ]
    }
   ],
   "source": [
    "print(x_train_all.shape,y_train_all.shape)"
   ]
  },
  {
   "cell_type": "code",
   "execution_count": 5,
   "metadata": {},
   "outputs": [
    {
     "data": {
      "image/png": "[encoded data removed]",
      "text/plain": [
       "<Figure size 432x288 with 1 Axes>"
      ]
     },
     "metadata": {
      "needs_background": "light"
     },
     "output_type": "display_data"
    }
   ],
   "source": [
    "import matplotlib.pyplot as plt\n",
    "plt.imshow(x_train_all[0],cmap='gray')\n",
    "plt.show()"
   ]
  },
  {
   "cell_type": "code",
   "execution_count": 6,
   "metadata": {},
   "outputs": [
    {
     "name": "stdout",
     "output_type": "stream",
     "text": [
      "[9 0 0 3 0 2 7 2 5 5]\n"
     ]
    }
   ],
   "source": [
    "print(y_train_all[:10])"
   ]
  },
  {
   "cell_type": "code",
   "execution_count": 7,
   "metadata": {},
   "outputs": [
    {
     "data": {
      "text/plain": [
       "array([6000, 6000, 6000, 6000, 6000, 6000, 6000, 6000, 6000, 6000],\n",
       "      dtype=int64)"
      ]
     },
     "execution_count": 7,
     "metadata": {},
     "output_type": "execute_result"
    }
   ],
   "source": [
    "import numpy as np\n",
    "np.bincount(y_train_all)\n"
   ]
  },
  {
   "cell_type": "code",
   "execution_count": 8,
   "metadata": {},
   "outputs": [],
   "source": [
    "from sklearn.model_selection import train_test_split\n",
    "x_train,x_val,y_train,y_val=train_test_split(x_train_all,y_train_all,stratify=y_train_all,test_size=0.2,random_state=42)"
   ]
  },
  {
   "cell_type": "code",
   "execution_count": 9,
   "metadata": {},
   "outputs": [
    {
     "name": "stdout",
     "output_type": "stream",
     "text": [
      "[4800 4800 4800 4800 4800 4800 4800 4800 4800 4800]\n"
     ]
    },
    {
     "data": {
      "text/plain": [
       "array([1200, 1200, 1200, 1200, 1200, 1200, 1200, 1200, 1200, 1200],\n",
       "      dtype=int64)"
      ]
     },
     "execution_count": 9,
     "metadata": {},
     "output_type": "execute_result"
    }
   ],
   "source": [
    "print(np.bincount(y_train))\n",
    "np.bincount(y_val)\n"
   ]
  },
  {
   "cell_type": "code",
   "execution_count": 10,
   "metadata": {},
   "outputs": [],
   "source": [
    "x_train=x_train/255\n",
    "x_val=x_val/255"
   ]
  },
  {
   "cell_type": "code",
   "execution_count": 12,
   "metadata": {},
   "outputs": [
    {
     "name": "stdout",
     "output_type": "stream",
     "text": [
      "(48000, 784) (12000, 784)\n"
     ]
    }
   ],
   "source": [
    "x_train=x_train.reshape(-1,784)\n",
    "x_val=x_val.reshape(-1,784)\n",
    "print(x_train.shape,x_val.shape)"
   ]
  },
  {
   "cell_type": "code",
   "execution_count": 14,
   "metadata": {},
   "outputs": [
    {
     "name": "stdout",
     "output_type": "stream",
     "text": [
      "[5, 10, 100, 4, 4, 4, 4, 4, 4, 4, 4, 4, 4, 4, 4, 4, 4, 4, 4, 4, 4, 4, 4, 4, 4, 4, 4, 4, 4, 4, 4, 4, 4, 4, 4, 4, 4, 4, 4, 4, 4, 4, 4, 4, 4, 4, 4, 4, 4, 4, 4, 4, 4, 4, 4, 4, 4, 4, 4, 4, 4, 4, 4, 4, 4, 4, 4, 4, 4, 4, 4, 4, 4, 4, 4, 4, 4, 4, 4, 4, 4, 4, 4, 4, 4, 4, 4, 4, 4, 4, 4, 4, 4, 4, 4, 4, 4, 4, 4, 4]\n"
     ]
    },
    {
     "data": {
      "text/plain": [
       "array([[0., 0., 0., ..., 0., 0., 0.],\n",
       "       [0., 0., 0., ..., 0., 0., 0.],\n",
       "       [0., 0., 0., ..., 0., 0., 1.],\n",
       "       ...,\n",
       "       [0., 0., 0., ..., 0., 0., 0.],\n",
       "       [0., 0., 0., ..., 0., 0., 0.],\n",
       "       [0., 0., 0., ..., 0., 0., 0.]], dtype=float32)"
      ]
     },
     "execution_count": 14,
     "metadata": {},
     "output_type": "execute_result"
    }
   ],
   "source": [
    "a=[5,10,100]\n",
    "for i in range(97):\n",
    "    a.append(4)\n",
    "print(a)\n",
    "tf.keras.utils.to_categorical(a)"
   ]
  },
  {
   "cell_type": "code",
   "execution_count": null,
   "metadata": {},
   "outputs": [],
   "source": [
    "tf.keras.utils.to_categorical([0,1,3])"
   ]
  },
  {
   "cell_type": "code",
   "execution_count": 14,
   "metadata": {},
   "outputs": [],
   "source": [
    "y_train_encoded=tf.keras.utils.to_categorical(y_train)\n",
    "y_val_encoded=tf.keras.utils.to_categorical(y_val)"
   ]
  },
  {
   "cell_type": "code",
   "execution_count": 15,
   "metadata": {},
   "outputs": [
    {
     "data": {
      "text/plain": [
       "((48000, 10), (12000, 10))"
      ]
     },
     "execution_count": 15,
     "metadata": {},
     "output_type": "execute_result"
    }
   ],
   "source": [
    "y_train_encoded.shape,y_val_encoded.shape"
   ]
  },
  {
   "cell_type": "code",
   "execution_count": 16,
   "metadata": {},
   "outputs": [
    {
     "name": "stdout",
     "output_type": "stream",
     "text": [
      "6 [0. 0. 0. 0. 0. 0. 1. 0. 0. 0.]\n"
     ]
    }
   ],
   "source": [
    "print(y_train[0],y_train_encoded[0])"
   ]
  },
  {
   "cell_type": "code",
   "execution_count": 17,
   "metadata": {},
   "outputs": [],
   "source": [
    "class MCN():\n",
    "    def __init__(self, units=10,batch_size=32,learning_rate=0.1, l1=0, l2=0):       \n",
    "        self.units=units # 은닉층 뉴런 개수\n",
    "        self.w1=None #은닉층 가중치\n",
    "        self.b1=None #은닉층 절편\n",
    "        self.w2=None #출력층 가중치\n",
    "        self.b2=None #출력층 절편\n",
    "        self.a1=None #은닉층 활성화 출력 \n",
    "        self.batch_size=batch_size\n",
    "        self.losses=[] \n",
    "        self.val_losses=[]\n",
    "        self.lr=learning_rate\n",
    "        self.l1=l1\n",
    "        self.l2=l2\n",
    "    def sigmoid(self,z):\n",
    "        a=1/(1+np.exp(-z))\n",
    "        return a\n",
    "    def softmax(self,z):\n",
    "        exp_z=np.exp(z)\n",
    "        return exp_z/np.sum(exp_z, axis=1).reshape(-1,1)\n",
    "    def forpass(self,x): \n",
    "        z1=np.dot(x,self.w1)+self.b1 \n",
    "        self.a1=self.sigmoid(z1) #activation->sigmoid\n",
    "        z2=np.dot(self.a1,self.w2)+self.b2 \n",
    "        return z2\n",
    "    def backprop(self,x,err):\n",
    "        m=len(x)\n",
    "        w2_grad=np.dot(self.a1.T,err)/m \n",
    "        b2_grad=np.sum(err)/m \n",
    "        err_to_hidden=np.dot(err,self.w2.T)*self.a1*(1-self.a1)\n",
    "        w1_grad=np.dot(x.T,err_to_hidden)/m \n",
    "        b1_grad=np.sum(err_to_hidden,axis=0)/m \n",
    "        return w1_grad, b1_grad ,w2_grad, b2_grad\n",
    "    def init_weights(self,n_features,n_classes):\n",
    "        self.w1=np.random.normal(0,1,(n_features,self.units))\n",
    "        self.b1=np.zeros(self.units)\n",
    "        self.w2=np.random.normal(0,1,(self.units, n_classes)) #w2,b2행렬크기 달라짐-> 출력층의 갯수만큼으로 조정\n",
    "        self.b2=np.zeros(n_classes)\n",
    "    def fit(self,x,y,epochs=100,x_val=None, y_val=None):\n",
    "        #y=y.reshape(-1,1) -> y가 다중 분류이므로 이미 2차원 배열 \n",
    "        #y_val=y_val.reshape(-1,1)-> y가 다중 분류이므로 이미 2차원 배열\n",
    "        np.random.seed(42)\n",
    "        self.init_weights(x.shape[1],y.shape[1])\n",
    "        for i in range (epochs):\n",
    "            loss=0\n",
    "            print('.',end='')\n",
    "            for x_batch, y_batch in self.gen_batch(x,y):\n",
    "                a=self.training(x_batch,y_batch)\n",
    "                a=np.clip(a, 1e-10, 1-1e-10)\n",
    "                loss+=np.sum(-y_batch*np.log(a))# loss function변화 \n",
    "            self.losses.append((loss+self.reg_loss())/len(x))\n",
    "            self.update_val_loss(x_val,y_val)\n",
    "    def gen_batch(self,x,y):\n",
    "        length=len(x)\n",
    "        bins=length//self.batch_size\n",
    "        if length % self.batch_size:\n",
    "            bins+=1\n",
    "        indexes=np.random.permutation(np.arange(len(x)))\n",
    "        x=x[indexes]\n",
    "        y=y[indexes]\n",
    "        for i in range(bins):\n",
    "            start=self.batch_size*i\n",
    "            end=self.batch_size*(i+1)\n",
    "            yield x[start:end], y[start:end]\n",
    "    def training(self,x,y):\n",
    "        m=len(x)\n",
    "        z=self.forpass(x) \n",
    "        a=self.softmax(z) #activation function 변화->softmax\n",
    "        err=-(y-a) # 오차계산 \n",
    "        w1_grad, b1_grad, w2_grad, b2_grad=self.backprop(x,err) \n",
    "        w1_grad+=(self.l1*np.sign(self.w1)+self.l2*self.w1)/m\n",
    "        w2_grad+=(self.l1*np.sign(self.w2)+self.l2*self.w2)/m\n",
    "        self.w1-=self.lr*w1_grad \n",
    "        self.b1-=self.lr*b1_grad \n",
    "        self.w2-=self.lr*w2_grad \n",
    "        self.b2-=self.lr*b2_grad \n",
    "        return a\n",
    "    def update_val_loss(self,x_val, y_val):\n",
    "        z=self.forpass(x_val) #정방형 계산\n",
    "        a=self.softmax(z)#activation function 변화->softmax\n",
    "        a=np.clip(a, 1e-10, 1-1e-10)\n",
    "        val_loss=np.sum(-y_val*np.log(a)) # loss function변화\n",
    "        self.val_losses.append((val_loss+self.reg_loss())/len(y_val))\n",
    "    def reg_loss(self):\n",
    "        return self.l1*(np.sum(np.abs(self.w1))+np.sum(np.abs(self.w2)))+\\\n",
    "                self.l2/2*(np.sum(self.w1**2)+np.sum(self.w2**2))\n",
    "    def predict(self, x):\n",
    "        z=self.forpass(x)\n",
    "        return np.argmax(z,axis=1)\n",
    "    def score(self, x, y):\n",
    "        return np.mean(self.predict(x)==np.argmax(y,axis=1))"
   ]
  },
  {
   "cell_type": "code",
   "execution_count": 20,
   "metadata": {},
   "outputs": [
    {
     "name": "stdout",
     "output_type": "stream",
     "text": [
      "........................................"
     ]
    }
   ],
   "source": [
    "fc=MCN(units=100,batch_size=256)\n",
    "fc.fit(x_train,y_train_encoded,x_val=x_val,y_val=y_val_encoded,epochs=40)"
   ]
  },
  {
   "cell_type": "code",
   "execution_count": 21,
   "metadata": {},
   "outputs": [
    {
     "name": "stdout",
     "output_type": "stream",
     "text": [
      "0.8150833333333334\n"
     ]
    },
    {
     "data": {
      "image/png": "[encoded data removed]",
      "text/plain": [
       "<Figure size 432x288 with 1 Axes>"
      ]
     },
     "metadata": {
      "needs_background": "light"
     },
     "output_type": "display_data"
    }
   ],
   "source": [
    "print(fc.score(x_val,y_val_encoded))\n",
    "plt.plot(fc.losses)\n",
    "plt.plot(fc.val_losses)\n",
    "plt.ylabel('loss')\n",
    "plt.xlabel('iter')\n",
    "plt.legend(['train_loss','val_loss'])\n",
    "plt.show()\n"
   ]
  },
  {
   "cell_type": "code",
   "execution_count": 24,
   "metadata": {},
   "outputs": [
    {
     "ename": "InvalidArgumentError",
     "evalue": "Incompatible shapes: [48000] vs. [37632000] [Op:Sub] name: sub/",
     "output_type": "error",
     "traceback": [
      "\u001b[1;31m---------------------------------------------------------------------------\u001b[0m",
      "\u001b[1;31mInvalidArgumentError\u001b[0m                      Traceback (most recent call last)",
      "\u001b[1;32m<ipython-input-24-1916b060bf53>\u001b[0m in \u001b[0;36m<module>\u001b[1;34m\u001b[0m\n\u001b[0;32m      7\u001b[0m         \u001b[0mz_net\u001b[0m\u001b[1;33m=\u001b[0m\u001b[0mw\u001b[0m\u001b[1;33m*\u001b[0m\u001b[0mx_train\u001b[0m\u001b[1;33m+\u001b[0m\u001b[0mb\u001b[0m\u001b[1;33m\u001b[0m\u001b[1;33m\u001b[0m\u001b[0m\n\u001b[0;32m      8\u001b[0m         \u001b[0mz_net\u001b[0m\u001b[1;33m=\u001b[0m\u001b[0mtf\u001b[0m\u001b[1;33m.\u001b[0m\u001b[0mreshape\u001b[0m\u001b[1;33m(\u001b[0m\u001b[0mz_net\u001b[0m\u001b[1;33m,\u001b[0m\u001b[1;33m[\u001b[0m\u001b[1;33m-\u001b[0m\u001b[1;36m1\u001b[0m\u001b[1;33m]\u001b[0m\u001b[1;33m)\u001b[0m\u001b[1;33m\u001b[0m\u001b[1;33m\u001b[0m\u001b[0m\n\u001b[1;32m----> 9\u001b[1;33m         \u001b[0msqr_errors\u001b[0m\u001b[1;33m=\u001b[0m\u001b[0mtf\u001b[0m\u001b[1;33m.\u001b[0m\u001b[0msquare\u001b[0m\u001b[1;33m(\u001b[0m\u001b[0my_train\u001b[0m\u001b[1;33m-\u001b[0m\u001b[0mz_net\u001b[0m\u001b[1;33m)\u001b[0m\u001b[1;33m\u001b[0m\u001b[1;33m\u001b[0m\u001b[0m\n\u001b[0m\u001b[0;32m     10\u001b[0m         \u001b[0mmean_cost\u001b[0m\u001b[1;33m=\u001b[0m\u001b[0mtf\u001b[0m\u001b[1;33m.\u001b[0m\u001b[0mreduce_mean\u001b[0m\u001b[1;33m(\u001b[0m\u001b[0msqr_errors\u001b[0m\u001b[1;33m)\u001b[0m\u001b[1;33m\u001b[0m\u001b[1;33m\u001b[0m\u001b[0m\n\u001b[0;32m     11\u001b[0m         \u001b[0mgrads\u001b[0m\u001b[1;33m=\u001b[0m\u001b[0mtape\u001b[0m\u001b[1;33m.\u001b[0m\u001b[0mgradient\u001b[0m\u001b[1;33m(\u001b[0m\u001b[0mmean_cost\u001b[0m\u001b[1;33m,\u001b[0m\u001b[1;33m[\u001b[0m\u001b[0mw\u001b[0m\u001b[1;33m,\u001b[0m\u001b[0mb\u001b[0m\u001b[1;33m]\u001b[0m\u001b[1;33m)\u001b[0m\u001b[1;33m\u001b[0m\u001b[1;33m\u001b[0m\u001b[0m\n",
      "\u001b[1;32mC:\\Users\\user\\lib\\site-packages\\tensorflow_core\\python\\ops\\math_ops.py\u001b[0m in \u001b[0;36mr_binary_op_wrapper\u001b[1;34m(y, x)\u001b[0m\n\u001b[0;32m    923\u001b[0m     \u001b[1;32mwith\u001b[0m \u001b[0mops\u001b[0m\u001b[1;33m.\u001b[0m\u001b[0mname_scope\u001b[0m\u001b[1;33m(\u001b[0m\u001b[1;32mNone\u001b[0m\u001b[1;33m,\u001b[0m \u001b[0mop_name\u001b[0m\u001b[1;33m,\u001b[0m \u001b[1;33m[\u001b[0m\u001b[0mx\u001b[0m\u001b[1;33m,\u001b[0m \u001b[0my\u001b[0m\u001b[1;33m]\u001b[0m\u001b[1;33m)\u001b[0m \u001b[1;32mas\u001b[0m \u001b[0mname\u001b[0m\u001b[1;33m:\u001b[0m\u001b[1;33m\u001b[0m\u001b[1;33m\u001b[0m\u001b[0m\n\u001b[0;32m    924\u001b[0m       \u001b[0mx\u001b[0m \u001b[1;33m=\u001b[0m \u001b[0mops\u001b[0m\u001b[1;33m.\u001b[0m\u001b[0mconvert_to_tensor\u001b[0m\u001b[1;33m(\u001b[0m\u001b[0mx\u001b[0m\u001b[1;33m,\u001b[0m \u001b[0mdtype\u001b[0m\u001b[1;33m=\u001b[0m\u001b[0my\u001b[0m\u001b[1;33m.\u001b[0m\u001b[0mdtype\u001b[0m\u001b[1;33m.\u001b[0m\u001b[0mbase_dtype\u001b[0m\u001b[1;33m,\u001b[0m \u001b[0mname\u001b[0m\u001b[1;33m=\u001b[0m\u001b[1;34m\"x\"\u001b[0m\u001b[1;33m)\u001b[0m\u001b[1;33m\u001b[0m\u001b[1;33m\u001b[0m\u001b[0m\n\u001b[1;32m--> 925\u001b[1;33m       \u001b[1;32mreturn\u001b[0m \u001b[0mfunc\u001b[0m\u001b[1;33m(\u001b[0m\u001b[0mx\u001b[0m\u001b[1;33m,\u001b[0m \u001b[0my\u001b[0m\u001b[1;33m,\u001b[0m \u001b[0mname\u001b[0m\u001b[1;33m=\u001b[0m\u001b[0mname\u001b[0m\u001b[1;33m)\u001b[0m\u001b[1;33m\u001b[0m\u001b[1;33m\u001b[0m\u001b[0m\n\u001b[0m\u001b[0;32m    926\u001b[0m \u001b[1;33m\u001b[0m\u001b[0m\n\u001b[0;32m    927\u001b[0m   \u001b[1;31m# Propagate func.__doc__ to the wrappers\u001b[0m\u001b[1;33m\u001b[0m\u001b[1;33m\u001b[0m\u001b[1;33m\u001b[0m\u001b[0m\n",
      "\u001b[1;32mC:\\Users\\user\\lib\\site-packages\\tensorflow_core\\python\\ops\\gen_math_ops.py\u001b[0m in \u001b[0;36msub\u001b[1;34m(x, y, name)\u001b[0m\n\u001b[0;32m  11082\u001b[0m       \u001b[1;32melse\u001b[0m\u001b[1;33m:\u001b[0m\u001b[1;33m\u001b[0m\u001b[1;33m\u001b[0m\u001b[0m\n\u001b[0;32m  11083\u001b[0m         \u001b[0mmessage\u001b[0m \u001b[1;33m=\u001b[0m \u001b[0me\u001b[0m\u001b[1;33m.\u001b[0m\u001b[0mmessage\u001b[0m\u001b[1;33m\u001b[0m\u001b[1;33m\u001b[0m\u001b[0m\n\u001b[1;32m> 11084\u001b[1;33m       \u001b[0m_six\u001b[0m\u001b[1;33m.\u001b[0m\u001b[0mraise_from\u001b[0m\u001b[1;33m(\u001b[0m\u001b[0m_core\u001b[0m\u001b[1;33m.\u001b[0m\u001b[0m_status_to_exception\u001b[0m\u001b[1;33m(\u001b[0m\u001b[0me\u001b[0m\u001b[1;33m.\u001b[0m\u001b[0mcode\u001b[0m\u001b[1;33m,\u001b[0m \u001b[0mmessage\u001b[0m\u001b[1;33m)\u001b[0m\u001b[1;33m,\u001b[0m \u001b[1;32mNone\u001b[0m\u001b[1;33m)\u001b[0m\u001b[1;33m\u001b[0m\u001b[1;33m\u001b[0m\u001b[0m\n\u001b[0m\u001b[0;32m  11085\u001b[0m   \u001b[1;31m# Add nodes to the TensorFlow graph.\u001b[0m\u001b[1;33m\u001b[0m\u001b[1;33m\u001b[0m\u001b[1;33m\u001b[0m\u001b[0m\n\u001b[0;32m  11086\u001b[0m   _, _, _op = _op_def_lib._apply_op_helper(\n",
      "\u001b[1;32mC:\\Users\\user\\lib\\site-packages\\six.py\u001b[0m in \u001b[0;36mraise_from\u001b[1;34m(value, from_value)\u001b[0m\n",
      "\u001b[1;31mInvalidArgumentError\u001b[0m: Incompatible shapes: [48000] vs. [37632000] [Op:Sub] name: sub/"
     ]
    }
   ],
   "source": [
    "w=tf.Variable(tf.zeros(shape=(1)))\n",
    "b=tf.Variable(tf.zeros(shape=(1)))\n",
    "optimizer=tf.optimizers.SGD(lr=0.01)\n",
    "num_epochs=10\n",
    "for step in range(num_epochs):\n",
    "    with tf.GradientTape()as tape:\n",
    "        z_net=w*x_train+b\n",
    "        z_net=tf.reshape(z_net,[-1])\n",
    "        sqr_errors=tf.square(y_train-z_net)\n",
    "        mean_cost=tf.reduce_mean(sqr_errors)\n",
    "        grads=tape.gradient(mean_cost,[w,b])\n",
    "        optimizer.apply_gradients(zip(grads,[w,b]))"
   ]
  },
  {
   "cell_type": "code",
   "execution_count": 25,
   "metadata": {},
   "outputs": [],
   "source": [
    "from tensorflow.keras import Sequential\n",
    "from tensorflow.keras.layers import Dense\n",
    "model=Sequential()"
   ]
  },
  {
   "cell_type": "code",
   "execution_count": 26,
   "metadata": {},
   "outputs": [],
   "source": [
    "model.add(Dense(100,activation='sigmoid',input_shape=(784,)))\n",
    "model.add(Dense(10,activation='softmax'))"
   ]
  },
  {
   "cell_type": "code",
   "execution_count": 27,
   "metadata": {},
   "outputs": [],
   "source": [
    "model.compile(optimizer='sgd',loss='categorical_crossentropy',metrics=['accuracy'])"
   ]
  },
  {
   "cell_type": "code",
   "execution_count": 28,
   "metadata": {},
   "outputs": [
    {
     "name": "stdout",
     "output_type": "stream",
     "text": [
      "Train on 48000 samples, validate on 12000 samples\n",
      "Epoch 1/40\n",
      "48000/48000 [==============================] - 7s 140us/sample - loss: 1.3844 - accuracy: 0.6420 - val_loss: 0.9640 - val_accuracy: 0.7319\n",
      "Epoch 2/40\n",
      "48000/48000 [==============================] - 5s 112us/sample - loss: 0.8433 - accuracy: 0.7438 - val_loss: 0.7504 - val_accuracy: 0.7583\n",
      "Epoch 3/40\n",
      "48000/48000 [==============================] - 5s 112us/sample - loss: 0.7116 - accuracy: 0.7634 - val_loss: 0.6649 - val_accuracy: 0.7760\n",
      "Epoch 4/40\n",
      "48000/48000 [==============================] - 6s 116us/sample - loss: 0.6471 - accuracy: 0.7793 - val_loss: 0.6129 - val_accuracy: 0.7913\n",
      "Epoch 5/40\n",
      "48000/48000 [==============================] - 5s 111us/sample - loss: 0.6054 - accuracy: 0.7921 - val_loss: 0.5788 - val_accuracy: 0.7999\n",
      "Epoch 6/40\n",
      "48000/48000 [==============================] - 5s 110us/sample - loss: 0.5751 - accuracy: 0.8029 - val_loss: 0.5520 - val_accuracy: 0.8094\n",
      "Epoch 7/40\n",
      "48000/48000 [==============================] - 5s 113us/sample - loss: 0.5522 - accuracy: 0.8107 - val_loss: 0.5324 - val_accuracy: 0.8164\n",
      "Epoch 8/40\n",
      "48000/48000 [==============================] - 5s 113us/sample - loss: 0.5339 - accuracy: 0.8156 - val_loss: 0.5156 - val_accuracy: 0.8209\n",
      "Epoch 9/40\n",
      "48000/48000 [==============================] - 5s 115us/sample - loss: 0.5190 - accuracy: 0.8204 - val_loss: 0.5010 - val_accuracy: 0.8278\n",
      "Epoch 10/40\n",
      "48000/48000 [==============================] - 5s 114us/sample - loss: 0.5066 - accuracy: 0.8246 - val_loss: 0.4906 - val_accuracy: 0.8303\n",
      "Epoch 11/40\n",
      "48000/48000 [==============================] - 5s 110us/sample - loss: 0.4961 - accuracy: 0.8286 - val_loss: 0.4807 - val_accuracy: 0.8310\n",
      "Epoch 12/40\n",
      "48000/48000 [==============================] - 5s 113us/sample - loss: 0.4870 - accuracy: 0.8306 - val_loss: 0.4734 - val_accuracy: 0.8355\n",
      "Epoch 13/40\n",
      "48000/48000 [==============================] - 5s 113us/sample - loss: 0.4791 - accuracy: 0.8334 - val_loss: 0.4654 - val_accuracy: 0.8366\n",
      "Epoch 14/40\n",
      "48000/48000 [==============================] - 5s 114us/sample - loss: 0.4718 - accuracy: 0.8360 - val_loss: 0.4584 - val_accuracy: 0.8376\n",
      "Epoch 15/40\n",
      "48000/48000 [==============================] - 6s 122us/sample - loss: 0.4655 - accuracy: 0.8376 - val_loss: 0.4547 - val_accuracy: 0.8394\n",
      "Epoch 16/40\n",
      "48000/48000 [==============================] - 5s 112us/sample - loss: 0.4600 - accuracy: 0.8395 - val_loss: 0.4473 - val_accuracy: 0.8432\n",
      "Epoch 17/40\n",
      "48000/48000 [==============================] - 6s 116us/sample - loss: 0.4548 - accuracy: 0.8419 - val_loss: 0.4431 - val_accuracy: 0.8443\n",
      "Epoch 18/40\n",
      "48000/48000 [==============================] - 5s 114us/sample - loss: 0.4498 - accuracy: 0.8430 - val_loss: 0.4386 - val_accuracy: 0.8468\n",
      "Epoch 19/40\n",
      "48000/48000 [==============================] - 5s 113us/sample - loss: 0.4452 - accuracy: 0.8440 - val_loss: 0.4355 - val_accuracy: 0.8455\n",
      "Epoch 20/40\n",
      "48000/48000 [==============================] - 6s 116us/sample - loss: 0.4412 - accuracy: 0.8458 - val_loss: 0.4300 - val_accuracy: 0.8485\n",
      "Epoch 21/40\n",
      "48000/48000 [==============================] - 5s 114us/sample - loss: 0.4374 - accuracy: 0.8469 - val_loss: 0.4272 - val_accuracy: 0.8489\n",
      "Epoch 22/40\n",
      "48000/48000 [==============================] - 6s 129us/sample - loss: 0.4336 - accuracy: 0.8478 - val_loss: 0.4238 - val_accuracy: 0.8521\n",
      "Epoch 23/40\n",
      "48000/48000 [==============================] - 6s 115us/sample - loss: 0.4302 - accuracy: 0.8484 - val_loss: 0.4211 - val_accuracy: 0.8528\n",
      "Epoch 24/40\n",
      "48000/48000 [==============================] - 7s 140us/sample - loss: 0.4270 - accuracy: 0.8493 - val_loss: 0.4209 - val_accuracy: 0.8517\n",
      "Epoch 25/40\n",
      "48000/48000 [==============================] - 6s 120us/sample - loss: 0.4239 - accuracy: 0.8511 - val_loss: 0.4153 - val_accuracy: 0.8544\n",
      "Epoch 26/40\n",
      "48000/48000 [==============================] - 6s 123us/sample - loss: 0.4212 - accuracy: 0.8519 - val_loss: 0.4139 - val_accuracy: 0.8560\n",
      "Epoch 27/40\n",
      "48000/48000 [==============================] - 6s 117us/sample - loss: 0.4183 - accuracy: 0.8521 - val_loss: 0.4103 - val_accuracy: 0.8558\n",
      "Epoch 28/40\n",
      "48000/48000 [==============================] - 6s 121us/sample - loss: 0.4156 - accuracy: 0.8533 - val_loss: 0.4099 - val_accuracy: 0.8568\n",
      "Epoch 29/40\n",
      "48000/48000 [==============================] - 5s 111us/sample - loss: 0.4131 - accuracy: 0.8549 - val_loss: 0.4065 - val_accuracy: 0.8577\n",
      "Epoch 30/40\n",
      "48000/48000 [==============================] - 5s 110us/sample - loss: 0.4108 - accuracy: 0.8554 - val_loss: 0.4063 - val_accuracy: 0.8571\n",
      "Epoch 31/40\n",
      "48000/48000 [==============================] - 5s 114us/sample - loss: 0.4085 - accuracy: 0.8562 - val_loss: 0.4017 - val_accuracy: 0.8593\n",
      "Epoch 32/40\n",
      "48000/48000 [==============================] - 5s 112us/sample - loss: 0.4062 - accuracy: 0.8560 - val_loss: 0.4018 - val_accuracy: 0.8593\n",
      "Epoch 33/40\n",
      "48000/48000 [==============================] - 5s 112us/sample - loss: 0.4039 - accuracy: 0.8571 - val_loss: 0.4014 - val_accuracy: 0.8587\n",
      "Epoch 34/40\n",
      "48000/48000 [==============================] - 6s 118us/sample - loss: 0.4018 - accuracy: 0.8580 - val_loss: 0.3971 - val_accuracy: 0.8612\n",
      "Epoch 35/40\n",
      "48000/48000 [==============================] - 5s 114us/sample - loss: 0.3996 - accuracy: 0.8588 - val_loss: 0.3962 - val_accuracy: 0.8601\n",
      "Epoch 36/40\n",
      "48000/48000 [==============================] - 5s 112us/sample - loss: 0.3978 - accuracy: 0.8593 - val_loss: 0.3941 - val_accuracy: 0.8623\n",
      "Epoch 37/40\n",
      "48000/48000 [==============================] - 5s 111us/sample - loss: 0.3960 - accuracy: 0.8599 - val_loss: 0.3930 - val_accuracy: 0.8625\n",
      "Epoch 38/40\n",
      "48000/48000 [==============================] - 5s 109us/sample - loss: 0.3941 - accuracy: 0.8610 - val_loss: 0.3903 - val_accuracy: 0.8637\n",
      "Epoch 39/40\n",
      "48000/48000 [==============================] - 5s 109us/sample - loss: 0.3925 - accuracy: 0.8617 - val_loss: 0.3912 - val_accuracy: 0.8620\n",
      "Epoch 40/40\n",
      "48000/48000 [==============================] - 5s 112us/sample - loss: 0.3905 - accuracy: 0.8616 - val_loss: 0.3877 - val_accuracy: 0.8642\n"
     ]
    }
   ],
   "source": [
    "history=model.fit(x_train,y_train_encoded,epochs=40,validation_data=(x_val,y_val_encoded))"
   ]
  },
  {
   "cell_type": "code",
   "execution_count": 29,
   "metadata": {},
   "outputs": [
    {
     "name": "stdout",
     "output_type": "stream",
     "text": [
      "<built-in method keys of dict object at 0x00000239A4109480>\n"
     ]
    }
   ],
   "source": [
    "print(history.history.keys)"
   ]
  },
  {
   "cell_type": "code",
   "execution_count": 30,
   "metadata": {},
   "outputs": [
    {
     "data": {
      "image/png": "[encoded data removed]",
      "text/plain": [
       "<Figure size 432x288 with 1 Axes>"
      ]
     },
     "metadata": {
      "needs_background": "light"
     },
     "output_type": "display_data"
    }
   ],
   "source": [
    "plt.plot(history.history['loss'])\n",
    "plt.plot(history.history['val_loss'])\n",
    "plt.legend(['train_loss','val_loss'])\n",
    "plt.show()\n"
   ]
  },
  {
   "cell_type": "code",
   "execution_count": 31,
   "metadata": {},
   "outputs": [
    {
     "data": {
      "image/png": "[encoded data removed]",
      "text/plain": [
       "<Figure size 432x288 with 1 Axes>"
      ]
     },
     "metadata": {
      "needs_background": "light"
     },
     "output_type": "display_data"
    }
   ],
   "source": [
    "plt.plot(history.history['accuracy'])\n",
    "plt.plot(history.history['val_accuracy'])\n",
    "plt.legend(['accuracy','val_accuracy'])\n",
    "plt.show()"
   ]
  },
  {
   "cell_type": "code",
   "execution_count": 34,
   "metadata": {},
   "outputs": [
    {
     "name": "stdout",
     "output_type": "stream",
     "text": [
      "0.8641667\n"
     ]
    }
   ],
   "source": [
    "loss,accuracy=model.evaluate(x_val,y_val_encoded,verbose=0)\n",
    "print(accuracy)\n"
   ]
  },
  {
   "cell_type": "code",
   "execution_count": null,
   "metadata": {},
   "outputs": [],
   "source": []
  }
 ],
 "metadata": {
  "kernelspec": {
   "display_name": "Python 3",
   "language": "python",
   "name": "python3"
  },
  "language_info": {
   "codemirror_mode": {
    "name": "ipython",
    "version": 3
   },
   "file_extension": ".py",
   "mimetype": "text/x-python",
   "name": "python",
   "nbconvert_exporter": "python",
   "pygments_lexer": "ipython3",
   "version": "3.7.6"
  }
 },
 "nbformat": 4,
 "nbformat_minor": 4
}
