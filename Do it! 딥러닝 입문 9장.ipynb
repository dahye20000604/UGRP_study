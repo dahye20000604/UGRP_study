{
 "cells": [
  {
   "cell_type": "markdown",
   "metadata": {},
   "source": [
    "# 9-1. 순차 데이터 & 순환 신경망"
   ]
  },
  {
   "cell_type": "markdown",
   "metadata": {},
   "source": [
    "# 9-2. 순환 신경망을 만들고 텍스트 분류"
   ]
  },
  {
   "cell_type": "code",
   "execution_count": 1,
   "metadata": {},
   "outputs": [
    {
     "name": "stderr",
     "output_type": "stream",
     "text": [
      "<__array_function__ internals>:5: VisibleDeprecationWarning: Creating an ndarray from ragged nested sequences (which is a list-or-tuple of lists-or-tuples-or ndarrays with different lengths or shapes) is deprecated. If you meant to do this, you must specify 'dtype=object' when creating the ndarray\n",
      "C:\\Users\\황윤재\\AppData\\Roaming\\Python\\Python38\\site-packages\\tensorflow\\python\\keras\\datasets\\imdb.py:159: VisibleDeprecationWarning: Creating an ndarray from ragged nested sequences (which is a list-or-tuple of lists-or-tuples-or ndarrays with different lengths or shapes) is deprecated. If you meant to do this, you must specify 'dtype=object' when creating the ndarray\n",
      "  x_train, y_train = np.array(xs[:idx]), np.array(labels[:idx])\n",
      "C:\\Users\\황윤재\\AppData\\Roaming\\Python\\Python38\\site-packages\\tensorflow\\python\\keras\\datasets\\imdb.py:160: VisibleDeprecationWarning: Creating an ndarray from ragged nested sequences (which is a list-or-tuple of lists-or-tuples-or ndarrays with different lengths or shapes) is deprecated. If you meant to do this, you must specify 'dtype=object' when creating the ndarray\n",
      "  x_test, y_test = np.array(xs[idx:]), np.array(labels[idx:])\n"
     ]
    }
   ],
   "source": [
    "import numpy as np\n",
    "import tensorflow as tf\n",
    "from tensorflow.keras.datasets import imdb\n",
    "\n",
    "(x_train_all,y_train_all),(x_test,y_test)=imdb.load_data(skip_top=20,num_words=100)"
   ]
  },
  {
   "cell_type": "code",
   "execution_count": 2,
   "metadata": {},
   "outputs": [
    {
     "name": "stdout",
     "output_type": "stream",
     "text": [
      "(25000,) (25000,)\n"
     ]
    }
   ],
   "source": [
    "print(x_train_all.shape,y_train_all.shape)"
   ]
  },
  {
   "cell_type": "code",
   "execution_count": 3,
   "metadata": {},
   "outputs": [
    {
     "name": "stdout",
     "output_type": "stream",
     "text": [
      "[2, 2, 22, 2, 43, 2, 2, 2, 2, 65, 2, 2, 66, 2, 2, 2, 36, 2, 2, 25, 2, 43, 2, 2, 50, 2, 2, 2, 35, 2, 2, 2, 2, 2, 2, 2, 2, 2, 2, 2, 39, 2, 2, 2, 2, 2, 2, 38, 2, 2, 2, 2, 50, 2, 2, 2, 2, 2, 2, 22, 2, 2, 2, 2, 2, 22, 71, 87, 2, 2, 43, 2, 38, 76, 2, 2, 2, 2, 22, 2, 2, 2, 2, 2, 2, 2, 2, 2, 62, 2, 2, 2, 2, 2, 2, 2, 2, 2, 2, 2, 2, 66, 2, 33, 2, 2, 2, 2, 38, 2, 2, 25, 2, 51, 36, 2, 48, 25, 2, 33, 2, 22, 2, 2, 28, 77, 52, 2, 2, 2, 2, 82, 2, 2, 2, 2, 2, 2, 2, 2, 2, 2, 2, 2, 2, 2, 36, 71, 43, 2, 2, 26, 2, 2, 46, 2, 2, 2, 2, 2, 2, 88, 2, 2, 2, 2, 98, 32, 2, 56, 26, 2, 2, 2, 2, 2, 2, 2, 22, 21, 2, 2, 26, 2, 2, 2, 30, 2, 2, 51, 36, 28, 2, 92, 25, 2, 2, 2, 65, 2, 38, 2, 88, 2, 2, 2, 2, 2, 2, 2, 2, 32, 2, 2, 2, 2, 2, 32]\n"
     ]
    }
   ],
   "source": [
    "print(x_train_all[0])"
   ]
  },
  {
   "cell_type": "code",
   "execution_count": 4,
   "metadata": {},
   "outputs": [
    {
     "name": "stdout",
     "output_type": "stream",
     "text": [
      "[22, 43, 65, 66, 36, 25, 43, 50, 35, 39, 38, 50, 22, 22, 71, 87, 43, 38, 76, 22, 62, 66, 33, 38, 25, 51, 36, 48, 25, 33, 22, 28, 77, 52, 82, 36, 71, 43, 26, 46, 88, 98, 32, 56, 26, 22, 21, 26, 30, 51, 36, 28, 92, 25, 65, 38, 88, 32, 32]\n"
     ]
    }
   ],
   "source": [
    "for i in range(len(x_train_all)):\n",
    "    x_train_all[i]=[w for w in x_train_all[i] if w>2]\n",
    "print(x_train_all[0])"
   ]
  },
  {
   "cell_type": "code",
   "execution_count": 5,
   "metadata": {},
   "outputs": [
    {
     "data": {
      "text/plain": [
       "17"
      ]
     },
     "execution_count": 5,
     "metadata": {},
     "output_type": "execute_result"
    }
   ],
   "source": [
    "word_to_index=imdb.get_word_index()\n",
    "word_to_index['movie']"
   ]
  },
  {
   "cell_type": "code",
   "execution_count": 34,
   "metadata": {},
   "outputs": [
    {
     "name": "stdout",
     "output_type": "stream",
     "text": [
      "movie\n",
      "film just brilliant casting story direction really part they played you could just imagine being there robert an amazing actor now same being director father came from same myself so loved fact there real film throughout film were great just brilliant so much film soon released would recommend everyone watch amazing really at end so sad you know what they say if you at film must have been good definitely also two little played paul they were just brilliant children are often left out think because stars play them all up are such big whole film but these children are amazing should be what they have done don't you think whole story so because true life after all us all "
     ]
    }
   ],
   "source": [
    "index_to_word={word_to_index[k]: k for k in word_to_index}\n",
    "print(index_to_word[17])\n",
    "for w in x_train_all[0]:\n",
    "    print(index_to_word[w-3], end=' ')     #왜 w-3..?"
   ]
  },
  {
   "cell_type": "code",
   "execution_count": 7,
   "metadata": {},
   "outputs": [
    {
     "name": "stdout",
     "output_type": "stream",
     "text": [
      "59 32\n"
     ]
    }
   ],
   "source": [
    "print(len(x_train_all[0]),len(x_train_all[1]))"
   ]
  },
  {
   "cell_type": "code",
   "execution_count": 8,
   "metadata": {},
   "outputs": [
    {
     "name": "stdout",
     "output_type": "stream",
     "text": [
      "[1 0 0 1 0 0 1 0 1 0]\n"
     ]
    }
   ],
   "source": [
    "print(y_train_all[:10])"
   ]
  },
  {
   "cell_type": "code",
   "execution_count": 9,
   "metadata": {},
   "outputs": [],
   "source": [
    "np.random.seed(42)\n",
    "random_index=np.random.permutation(25000)\n",
    "x_train=x_train_all[random_index[:20000]]\n",
    "y_train=y_train_all[random_index[:20000]]\n",
    "x_val=x_train_all[random_index[20000:]]\n",
    "y_val=y_train_all[random_index[20000:]]"
   ]
  },
  {
   "cell_type": "code",
   "execution_count": 10,
   "metadata": {},
   "outputs": [],
   "source": [
    "from tensorflow.keras.preprocessing import sequence\n",
    "\n",
    "maxlen=100         #100이 아니면 오류인듯..? 그건 아니다.\n",
    "x_train_seq=sequence.pad_sequences(x_train,maxlen=maxlen)\n",
    "x_val_seq=sequence.pad_sequences(x_val,maxlen=maxlen)"
   ]
  },
  {
   "cell_type": "code",
   "execution_count": 11,
   "metadata": {},
   "outputs": [
    {
     "name": "stdout",
     "output_type": "stream",
     "text": [
      "(20000, 100) (5000, 100)\n"
     ]
    }
   ],
   "source": [
    "print(x_train_seq.shape,x_val_seq.shape)"
   ]
  },
  {
   "cell_type": "code",
   "execution_count": 12,
   "metadata": {},
   "outputs": [
    {
     "name": "stdout",
     "output_type": "stream",
     "text": [
      "[ 0  0  0  0  0  0  0  0  0  0  0  0  0  0  0  0  0  0  0  0  0  0  0  0\n",
      "  0  0  0  0  0  0  0  0  0  0  0  0  0  0  0  0  0  0  0  0  0  0  0  0\n",
      "  0  0  0  0  0  0  0  0  0  0  0  0  0  0 35 40 27 28 40 22 83 31 85 45\n",
      " 24 23 31 70 31 76 30 98 32 22 28 51 75 56 30 33 97 53 38 46 53 74 31 35\n",
      " 23 34 22 58]\n"
     ]
    }
   ],
   "source": [
    "print(x_train_seq[0])"
   ]
  },
  {
   "cell_type": "code",
   "execution_count": 13,
   "metadata": {},
   "outputs": [],
   "source": [
    "from tensorflow.keras.utils import to_categorical\n",
    "\n",
    "x_train_onehot=to_categorical(x_train_seq)\n",
    "x_val_onehot=to_categorical(x_val_seq)"
   ]
  },
  {
   "cell_type": "code",
   "execution_count": 14,
   "metadata": {},
   "outputs": [
    {
     "name": "stdout",
     "output_type": "stream",
     "text": [
      "(20000, 100, 100)\n",
      "800000000\n"
     ]
    }
   ],
   "source": [
    "print(x_train_onehot.shape)\n",
    "print(x_train_onehot.nbytes)"
   ]
  },
  {
   "cell_type": "code",
   "execution_count": 15,
   "metadata": {},
   "outputs": [
    {
     "name": "stdout",
     "output_type": "stream",
     "text": [
      "(7, 1)\n"
     ]
    }
   ],
   "source": [
    "'''a=np.array([1,10,2,11,3,12,4,13,5,14,6,15,7,16,8,17,9,18])\n",
    "a=a.reshape(3,3,2)\n",
    "print(a.swapaxes(0,1))\n",
    "print(a)\n",
    "a[:-1][::-1]'''\n",
    "c=[np.zeros((2,3))]\n",
    "c.append(np.zeros((4,5)))\n",
    "d=np.array([1,0,1,0,1,0,1])\n",
    "d=d.reshape(-1,1)\n",
    "print(d.shape)"
   ]
  },
  {
   "cell_type": "code",
   "execution_count": 16,
   "metadata": {},
   "outputs": [],
   "source": [
    "class RecurrentNetwork:\n",
    "    def __init__(self,n_cells=10,batch_size=32,learning_rate=0.1):\n",
    "        self.n_cells=n_cells\n",
    "        self.batch_size=batch_size\n",
    "        self.w1h=None     #[n_cells,n_cells]\n",
    "        self.w1x=None     #[타임슬랩(특성개수),n_cells]  \n",
    "        self.b1=None      #[n_cells,]\n",
    "        self.w2=None      #[n_cells,]\n",
    "        self.b2=None      #1\n",
    "        self.h=None       #[타임스텝,n_cells]로 이루어진 array   array의 index 개수는 타임슬랩 개수\n",
    "        self.losses=[]\n",
    "        self.val_losses=[]\n",
    "        self.lr=learning_rate\n",
    "        \n",
    "    def forpass(self,x):\n",
    "        self.h=[np.zeros((x.shape[0],self.n_cells))]\n",
    "        seq=np.swapaxes(x,0,1)\n",
    "        for x in seq:\n",
    "            z1=np.dot(x,self.w1x)+np.dot(self.h[-1],self.w1h)+self.b1\n",
    "            h=np.tanh(z1)\n",
    "            self.h.append(h)\n",
    "            z2=np.dot(h,self.w2)+self.b2\n",
    "        return z2\n",
    "        \n",
    "    def backprop(self,x,err):\n",
    "        m=len(x)\n",
    "        w2_grad=np.dot(self.h[-1].T,err)/m\n",
    "        b2_grad=np.sum(err)/m\n",
    "        seq=np.swapaxes(x,0,1)\n",
    "        w1h_grad=w1x_grad=b1_grad=0\n",
    "        err_to_cell=np.dot(err,self.w2.T)*(1-self.h[-1]**2)    #[sample,n_cells]\n",
    "        for x,h in zip(seq[::-1][:10],self.h[:-1][::-1][:10]):\n",
    "            w1h_grad+=np.dot(h.T,err_to_cell)\n",
    "            w1x_grad+=np.dot(x.T,err_to_cell)\n",
    "            b1_grad+=np.sum(err_to_cell,axis=0)\n",
    "            err_to_cell=np.dot(err_to_cell,self.w1h)*(1-h**2)\n",
    "        w1h_grad/=m\n",
    "        w1x_grad/=m\n",
    "        b1_grad/=m         \n",
    "        return w1h_grad,w1x_grad,b1_grad,w2_grad,b2_grad\n",
    "    \n",
    "    def sigmoid(self,z):\n",
    "        a=1/(1+np.exp(-z))\n",
    "        return a\n",
    "    \n",
    "    def init_weights(self,n_features,n_classes):\n",
    "        orth_init=tf.initializers.Orthogonal()\n",
    "        glorot_init=tf.initializers.GlorotUniform()\n",
    "        \n",
    "        self.w1h=orth_init((self.n_cells,self.n_cells)).numpy()\n",
    "        self.w1x=glorot_init((n_features,self.n_cells)).numpy()\n",
    "        self.b1=np.zeros(self.n_cells)\n",
    "        self.w2=glorot_init((self.n_cells,n_classes)).numpy()\n",
    "        self.b2=np.zeros(n_classes)\n",
    "        \n",
    "    def fit(self,x,y,x_val=None,y_val=None,epochs=100):\n",
    "        y=y.reshape(-1,1)\n",
    "        y_val=y_val.reshape(-1,1)\n",
    "        np.random.seed(42)\n",
    "        self.init_weights(x.shape[2],y.shape[1])\n",
    "        for i in range(epochs):\n",
    "            print('에포크',i,end=' ')\n",
    "            batch_losses=[]\n",
    "            for x_batch,y_batch in self.gen_batch(x,y):\n",
    "                print('.', end='')\n",
    "                a=self.training(x_batch,y_batch)\n",
    "                a=np.clip(a,1e-10,1-1e-10)\n",
    "                loss=np.mean(-(y_batch*np.log(a)+(1-y_batch)*np.log(1-a)))\n",
    "                batch_losses.append(loss)\n",
    "            print()\n",
    "            self.losses.append(np.mean(batch_losses))\n",
    "            self.update_val_loss(x_val,y_val)\n",
    "            \n",
    "    def gen_batch(self,x,y):\n",
    "        length=len(x)\n",
    "        bins=length//self.batch_size\n",
    "        if length%self.batch_size:\n",
    "            bins+=1\n",
    "        indexes=np.random.permutation(np.arange(len(x)))\n",
    "        x=x[indexes]\n",
    "        y=y[indexes]\n",
    "        for i in range(bins):\n",
    "            start=self.batch_size*i\n",
    "            end=self.batch_size*(i+1)\n",
    "            yield x[start:end],y[start:end]\n",
    "    \n",
    "    def training(self,x,y):\n",
    "        m=len(x)\n",
    "        z=self.forpass(x)\n",
    "        a=self.sigmoid(z)\n",
    "        err=-(y-a)\n",
    "        w1h_grad,w1x_grad,b1_grad,w2_grad,b2_grad=self.backprop(x,err)\n",
    "        self.w1h-=self.lr*w1h_grad\n",
    "        self.w1x-=self.lr*w1x_grad\n",
    "        self.b1-=self.lr*b1_grad\n",
    "        self.w2-=self.lr*w2_grad\n",
    "        self.b2-=self.lr*b2_grad\n",
    "        return a\n",
    "    \n",
    "    def predict(self,x):\n",
    "        z=self.forpass(x)\n",
    "        return z>0\n",
    "    \n",
    "    def score(self,x,y):\n",
    "        return np.mean(self.predict(x)==y.reshape(-1,1))\n",
    "    \n",
    "    def update_val_loss(self,x_val,y_val):\n",
    "        z=self.forpass(x_val)\n",
    "        a=self.sigmoid(z)\n",
    "        a=np.clip(a,1e-10,1-1e-10)\n",
    "        val_loss=np.mean(-(y_val*np.log(a)+(1-y_val)*np.log(1-a)))\n",
    "        self.val_losses.append(val_loss)"
   ]
  },
  {
   "cell_type": "code",
   "execution_count": 17,
   "metadata": {},
   "outputs": [
    {
     "name": "stdout",
     "output_type": "stream",
     "text": [
      "에포크 0 .................................................................................................................................................................................................................................................................................................................................................................................................................................................................................................................................................................................................................................................\n",
      "에포크 1 .................................................................................................................................................................................................................................................................................................................................................................................................................................................................................................................................................................................................................................................\n",
      "에포크 2 .................................................................................................................................................................................................................................................................................................................................................................................................................................................................................................................................................................................................................................................\n",
      "에포크 3 .................................................................................................................................................................................................................................................................................................................................................................................................................................................................................................................................................................................................................................................\n",
      "에포크 4 .................................................................................................................................................................................................................................................................................................................................................................................................................................................................................................................................................................................................................................................\n",
      "에포크 5 .................................................................................................................................................................................................................................................................................................................................................................................................................................................................................................................................................................................................................................................\n",
      "에포크 6 .................................................................................................................................................................................................................................................................................................................................................................................................................................................................................................................................................................................................................................................\n",
      "에포크 7 .................................................................................................................................................................................................................................................................................................................................................................................................................................................................................................................................................................................................................................................\n",
      "에포크 8 .................................................................................................................................................................................................................................................................................................................................................................................................................................................................................................................................................................................................................................................\n",
      "에포크 9 .................................................................................................................................................................................................................................................................................................................................................................................................................................................................................................................................................................................................................................................\n",
      "에포크 10 .................................................................................................................................................................................................................................................................................................................................................................................................................................................................................................................................................................................................................................................\n",
      "에포크 11 .................................................................................................................................................................................................................................................................................................................................................................................................................................................................................................................................................................................................................................................\n"
     ]
    },
    {
     "name": "stdout",
     "output_type": "stream",
     "text": [
      "에포크 12 .................................................................................................................................................................................................................................................................................................................................................................................................................................................................................................................................................................................................................................................\n",
      "에포크 13 .................................................................................................................................................................................................................................................................................................................................................................................................................................................................................................................................................................................................................................................\n",
      "에포크 14 .................................................................................................................................................................................................................................................................................................................................................................................................................................................................................................................................................................................................................................................\n",
      "에포크 15 .................................................................................................................................................................................................................................................................................................................................................................................................................................................................................................................................................................................................................................................\n",
      "에포크 16 .................................................................................................................................................................................................................................................................................................................................................................................................................................................................................................................................................................................................................................................\n",
      "에포크 17 .................................................................................................................................................................................................................................................................................................................................................................................................................................................................................................................................................................................................................................................\n",
      "에포크 18 .................................................................................................................................................................................................................................................................................................................................................................................................................................................................................................................................................................................................................................................\n",
      "에포크 19 .................................................................................................................................................................................................................................................................................................................................................................................................................................................................................................................................................................................................................................................\n"
     ]
    }
   ],
   "source": [
    "rn=RecurrentNetwork(n_cells=32,batch_size=32,learning_rate=0.01)\n",
    "\n",
    "rn.fit(x_train_onehot,y_train,x_val_onehot,y_val,20)"
   ]
  },
  {
   "cell_type": "code",
   "execution_count": 18,
   "metadata": {},
   "outputs": [
    {
     "data": {
      "image/png": "[encoded data removed]",
      "text/plain": [
       "<Figure size 432x288 with 1 Axes>"
      ]
     },
     "metadata": {
      "needs_background": "light"
     },
     "output_type": "display_data"
    },
    {
     "data": {
      "text/plain": [
       "0.6182"
      ]
     },
     "execution_count": 18,
     "metadata": {},
     "output_type": "execute_result"
    }
   ],
   "source": [
    "import matplotlib.pyplot as plt\n",
    "\n",
    "plt.plot(rn.losses)\n",
    "plt.plot(rn.val_losses)\n",
    "plt.legend(['train_loss','val_loss'])\n",
    "plt.show()\n",
    "\n",
    "rn.score(x_val_onehot,y_val)"
   ]
  },
  {
   "cell_type": "markdown",
   "metadata": {},
   "source": [
    "# 9-3. 텐서플로 활용"
   ]
  },
  {
   "cell_type": "code",
   "execution_count": 19,
   "metadata": {},
   "outputs": [],
   "source": [
    "from tensorflow.keras.models import Sequential\n",
    "from tensorflow.keras.layers import Dense,SimpleRNN"
   ]
  },
  {
   "cell_type": "code",
   "execution_count": 20,
   "metadata": {},
   "outputs": [
    {
     "name": "stdout",
     "output_type": "stream",
     "text": [
      "Model: \"sequential\"\n",
      "_________________________________________________________________\n",
      "Layer (type)                 Output Shape              Param #   \n",
      "=================================================================\n",
      "simple_rnn (SimpleRNN)       (None, 32)                4256      \n",
      "_________________________________________________________________\n",
      "dense (Dense)                (None, 1)                 33        \n",
      "=================================================================\n",
      "Total params: 4,289\n",
      "Trainable params: 4,289\n",
      "Non-trainable params: 0\n",
      "_________________________________________________________________\n"
     ]
    }
   ],
   "source": [
    "model=Sequential()\n",
    "model.add(SimpleRNN(32,input_shape=(100,100)))\n",
    "model.add(Dense(1,activation='sigmoid'))\n",
    "model.summary()"
   ]
  },
  {
   "cell_type": "code",
   "execution_count": 21,
   "metadata": {},
   "outputs": [
    {
     "name": "stdout",
     "output_type": "stream",
     "text": [
      "Epoch 1/20\n",
      "625/625 [==============================] - 10s 14ms/step - loss: 0.7034 - accuracy: 0.5179 - val_loss: 0.6914 - val_accuracy: 0.5512\n",
      "Epoch 2/20\n",
      "625/625 [==============================] - 7s 11ms/step - loss: 0.6699 - accuracy: 0.5915 - val_loss: 0.6484 - val_accuracy: 0.6246\n",
      "Epoch 3/20\n",
      "625/625 [==============================] - 7s 11ms/step - loss: 0.6488 - accuracy: 0.6251 - val_loss: 0.6407 - val_accuracy: 0.6358\n",
      "Epoch 4/20\n",
      "625/625 [==============================] - 7s 12ms/step - loss: 0.6353 - accuracy: 0.6437 - val_loss: 0.6328 - val_accuracy: 0.6432\n",
      "Epoch 5/20\n",
      "625/625 [==============================] - 7s 12ms/step - loss: 0.6120 - accuracy: 0.6669 - val_loss: 0.6043 - val_accuracy: 0.6784\n",
      "Epoch 6/20\n",
      "625/625 [==============================] - 7s 11ms/step - loss: 0.6076 - accuracy: 0.6733 - val_loss: 0.5878 - val_accuracy: 0.6918\n",
      "Epoch 7/20\n",
      "625/625 [==============================] - 7s 12ms/step - loss: 0.5959 - accuracy: 0.6852 - val_loss: 0.5770 - val_accuracy: 0.7048\n",
      "Epoch 8/20\n",
      "625/625 [==============================] - 7s 11ms/step - loss: 0.5933 - accuracy: 0.6891 - val_loss: 0.7138 - val_accuracy: 0.5884\n",
      "Epoch 9/20\n",
      "625/625 [==============================] - 7s 12ms/step - loss: 0.5847 - accuracy: 0.6922 - val_loss: 0.6013 - val_accuracy: 0.6770\n",
      "Epoch 10/20\n",
      "625/625 [==============================] - 7s 11ms/step - loss: 0.5813 - accuracy: 0.6963 - val_loss: 0.6150 - val_accuracy: 0.6604\n",
      "Epoch 11/20\n",
      "625/625 [==============================] - 7s 11ms/step - loss: 0.5729 - accuracy: 0.6955 - val_loss: 0.6720 - val_accuracy: 0.6300\n",
      "Epoch 12/20\n",
      "625/625 [==============================] - 7s 12ms/step - loss: 0.5704 - accuracy: 0.7063 - val_loss: 0.5706 - val_accuracy: 0.6990\n",
      "Epoch 13/20\n",
      "625/625 [==============================] - 7s 11ms/step - loss: 0.5715 - accuracy: 0.7011 - val_loss: 0.6497 - val_accuracy: 0.6546\n",
      "Epoch 14/20\n",
      "625/625 [==============================] - 7s 11ms/step - loss: 0.5612 - accuracy: 0.7109 - val_loss: 0.6252 - val_accuracy: 0.6744\n",
      "Epoch 15/20\n",
      "625/625 [==============================] - 7s 11ms/step - loss: 0.5674 - accuracy: 0.7056 - val_loss: 0.5740 - val_accuracy: 0.6952\n",
      "Epoch 16/20\n",
      "625/625 [==============================] - 7s 11ms/step - loss: 0.5669 - accuracy: 0.7090 - val_loss: 0.6097 - val_accuracy: 0.6710\n",
      "Epoch 17/20\n",
      "625/625 [==============================] - 7s 11ms/step - loss: 0.5692 - accuracy: 0.7019 - val_loss: 0.5758 - val_accuracy: 0.6930\n",
      "Epoch 18/20\n",
      "625/625 [==============================] - 7s 11ms/step - loss: 0.5682 - accuracy: 0.7016 - val_loss: 0.5601 - val_accuracy: 0.7122\n",
      "Epoch 19/20\n",
      "625/625 [==============================] - 7s 11ms/step - loss: 0.5641 - accuracy: 0.7084 - val_loss: 0.5602 - val_accuracy: 0.7078\n",
      "Epoch 20/20\n",
      "625/625 [==============================] - 7s 12ms/step - loss: 0.5599 - accuracy: 0.7162 - val_loss: 0.5698 - val_accuracy: 0.7016\n"
     ]
    }
   ],
   "source": [
    "model.compile(optimizer='sgd',loss='binary_crossentropy',metrics=['accuracy'])\n",
    "history=model.fit(x_train_onehot,y_train,epochs=20,batch_size=32,validation_data=(x_val_onehot,y_val))"
   ]
  },
  {
   "cell_type": "code",
   "execution_count": 22,
   "metadata": {},
   "outputs": [
    {
     "data": {
      "image/png": "[encoded data removed]",
      "text/plain": [
       "<Figure size 432x288 with 1 Axes>"
      ]
     },
     "metadata": {
      "needs_background": "light"
     },
     "output_type": "display_data"
    },
    {
     "data": {
      "image/png": "[encoded data removed]",
      "text/plain": [
       "<Figure size 432x288 with 1 Axes>"
      ]
     },
     "metadata": {
      "needs_background": "light"
     },
     "output_type": "display_data"
    }
   ],
   "source": [
    "plt.plot(history.history['loss'])\n",
    "plt.plot(history.history['val_loss'])\n",
    "plt.show()\n",
    "plt.plot(history.history['accuracy'])\n",
    "plt.plot(history.history['val_accuracy'])\n",
    "plt.show()"
   ]
  },
  {
   "cell_type": "code",
   "execution_count": 23,
   "metadata": {},
   "outputs": [
    {
     "name": "stdout",
     "output_type": "stream",
     "text": [
      "0.7016000151634216\n"
     ]
    }
   ],
   "source": [
    "loss,accuracy=model.evaluate(x_val_onehot,y_val,verbose=0)\n",
    "print(accuracy)"
   ]
  },
  {
   "cell_type": "code",
   "execution_count": 24,
   "metadata": {},
   "outputs": [
    {
     "name": "stderr",
     "output_type": "stream",
     "text": [
      "<__array_function__ internals>:5: VisibleDeprecationWarning: Creating an ndarray from ragged nested sequences (which is a list-or-tuple of lists-or-tuples-or ndarrays with different lengths or shapes) is deprecated. If you meant to do this, you must specify 'dtype=object' when creating the ndarray\n",
      "C:\\Users\\황윤재\\AppData\\Roaming\\Python\\Python38\\site-packages\\tensorflow\\python\\keras\\datasets\\imdb.py:159: VisibleDeprecationWarning: Creating an ndarray from ragged nested sequences (which is a list-or-tuple of lists-or-tuples-or ndarrays with different lengths or shapes) is deprecated. If you meant to do this, you must specify 'dtype=object' when creating the ndarray\n",
      "  x_train, y_train = np.array(xs[:idx]), np.array(labels[:idx])\n",
      "C:\\Users\\황윤재\\AppData\\Roaming\\Python\\Python38\\site-packages\\tensorflow\\python\\keras\\datasets\\imdb.py:160: VisibleDeprecationWarning: Creating an ndarray from ragged nested sequences (which is a list-or-tuple of lists-or-tuples-or ndarrays with different lengths or shapes) is deprecated. If you meant to do this, you must specify 'dtype=object' when creating the ndarray\n",
      "  x_test, y_test = np.array(xs[idx:]), np.array(labels[idx:])\n"
     ]
    }
   ],
   "source": [
    "from tensorflow.keras.layers import Embedding\n",
    "\n",
    "(x_train_all,y_train_all),(x_test,y_test)=imdb.load_data(skip_top=20,num_words=1000)\n",
    "\n",
    "for i in range(len(x_train_all)):\n",
    "    x_train_all[i]=[w for w in x_train_all[i] if w>2]\n",
    "\n",
    "x_train=x_train_all[random_index[:20000]]\n",
    "y_train=y_train_all[random_index[:20000]]\n",
    "x_val=x_train_all[random_index[20000:]]\n",
    "y_val=y_train_all[random_index[20000:]]\n"
   ]
  },
  {
   "cell_type": "code",
   "execution_count": 25,
   "metadata": {},
   "outputs": [],
   "source": [
    "maxlen=100\n",
    "x_train_seq=sequence.pad_sequences(x_train,maxlen=maxlen)\n",
    "x_val_seq=sequence.pad_sequences(x_val,maxlen=maxlen)"
   ]
  },
  {
   "cell_type": "code",
   "execution_count": 26,
   "metadata": {},
   "outputs": [
    {
     "name": "stdout",
     "output_type": "stream",
     "text": [
      "Model: \"sequential_1\"\n",
      "_________________________________________________________________\n",
      "Layer (type)                 Output Shape              Param #   \n",
      "=================================================================\n",
      "embedding (Embedding)        (None, None, 32)          32000     \n",
      "_________________________________________________________________\n",
      "simple_rnn_1 (SimpleRNN)     (None, 8)                 328       \n",
      "_________________________________________________________________\n",
      "dense_1 (Dense)              (None, 1)                 9         \n",
      "=================================================================\n",
      "Total params: 32,337\n",
      "Trainable params: 32,337\n",
      "Non-trainable params: 0\n",
      "_________________________________________________________________\n"
     ]
    }
   ],
   "source": [
    "model_ebd=Sequential()\n",
    "model_ebd.add(Embedding(1000,32))\n",
    "model_ebd.add(SimpleRNN(8))\n",
    "model_ebd.add(Dense(1,activation='sigmoid'))\n",
    "model_ebd.summary()"
   ]
  },
  {
   "cell_type": "code",
   "execution_count": 27,
   "metadata": {},
   "outputs": [
    {
     "name": "stdout",
     "output_type": "stream",
     "text": [
      "Epoch 1/10\n",
      "625/625 [==============================] - 11s 16ms/step - loss: 0.6837 - accuracy: 0.5380 - val_loss: 0.5092 - val_accuracy: 0.7600\n",
      "Epoch 2/10\n",
      "625/625 [==============================] - 9s 15ms/step - loss: 0.4468 - accuracy: 0.8027 - val_loss: 0.4526 - val_accuracy: 0.7948\n",
      "Epoch 3/10\n",
      "625/625 [==============================] - 9s 14ms/step - loss: 0.3903 - accuracy: 0.8346 - val_loss: 0.4617 - val_accuracy: 0.7946\n",
      "Epoch 4/10\n",
      "625/625 [==============================] - 8s 13ms/step - loss: 0.3360 - accuracy: 0.8653 - val_loss: 0.4405 - val_accuracy: 0.8152\n",
      "Epoch 5/10\n",
      "625/625 [==============================] - 8s 12ms/step - loss: 0.2896 - accuracy: 0.8858 - val_loss: 0.4398 - val_accuracy: 0.8126\n",
      "Epoch 6/10\n",
      "625/625 [==============================] - 8s 12ms/step - loss: 0.2496 - accuracy: 0.9072 - val_loss: 0.4498 - val_accuracy: 0.8216\n",
      "Epoch 7/10\n",
      "625/625 [==============================] - 8s 12ms/step - loss: 0.2376 - accuracy: 0.9117 - val_loss: 0.4634 - val_accuracy: 0.8182\n",
      "Epoch 8/10\n",
      "625/625 [==============================] - 8s 13ms/step - loss: 0.2126 - accuracy: 0.9219 - val_loss: 0.4916 - val_accuracy: 0.8160\n",
      "Epoch 9/10\n",
      "625/625 [==============================] - 8s 12ms/step - loss: 0.2085 - accuracy: 0.9220 - val_loss: 0.4971 - val_accuracy: 0.8118\n",
      "Epoch 10/10\n",
      "625/625 [==============================] - 8s 12ms/step - loss: 0.1872 - accuracy: 0.9327 - val_loss: 0.5192 - val_accuracy: 0.8096\n"
     ]
    }
   ],
   "source": [
    "model_ebd.compile(optimizer='adam',loss='binary_crossentropy',metrics=['accuracy'])\n",
    "history=model_ebd.fit(x_train_seq,y_train,epochs=10,batch_size=32,validation_data=(x_val_seq,y_val))"
   ]
  },
  {
   "cell_type": "code",
   "execution_count": 28,
   "metadata": {},
   "outputs": [
    {
     "data": {
      "image/png": "[encoded data removed]",
      "text/plain": [
       "<Figure size 432x288 with 1 Axes>"
      ]
     },
     "metadata": {
      "needs_background": "light"
     },
     "output_type": "display_data"
    },
    {
     "data": {
      "text/plain": [
       "[<matplotlib.lines.Line2D at 0x19edf65d220>]"
      ]
     },
     "execution_count": 28,
     "metadata": {},
     "output_type": "execute_result"
    },
    {
     "data": {
      "image/png": "[encoded data removed]",
      "text/plain": [
       "<Figure size 432x288 with 1 Axes>"
      ]
     },
     "metadata": {
      "needs_background": "light"
     },
     "output_type": "display_data"
    }
   ],
   "source": [
    "plt.plot(history.history['loss'])\n",
    "plt.plot(history.history['val_loss'])\n",
    "plt.show()\n",
    "\n",
    "plt.plot(history.history['accuracy'])\n",
    "plt.plot(history.history['val_accuracy'])"
   ]
  },
  {
   "cell_type": "code",
   "execution_count": 29,
   "metadata": {},
   "outputs": [
    {
     "name": "stdout",
     "output_type": "stream",
     "text": [
      "0.8095999956130981\n"
     ]
    }
   ],
   "source": [
    "loss,accuracy=model_ebd.evaluate(x_val_seq,y_val,verbose=0)\n",
    "print(accuracy)"
   ]
  },
  {
   "cell_type": "markdown",
   "metadata": {},
   "source": [
    "# 9-4. LSTM 순환 신경망"
   ]
  },
  {
   "cell_type": "code",
   "execution_count": 30,
   "metadata": {},
   "outputs": [
    {
     "name": "stdout",
     "output_type": "stream",
     "text": [
      "Model: \"sequential_2\"\n",
      "_________________________________________________________________\n",
      "Layer (type)                 Output Shape              Param #   \n",
      "=================================================================\n",
      "embedding_1 (Embedding)      (None, None, 32)          32000     \n",
      "_________________________________________________________________\n",
      "lstm (LSTM)                  (None, 8)                 1312      \n",
      "_________________________________________________________________\n",
      "dense_2 (Dense)              (None, 1)                 9         \n",
      "=================================================================\n",
      "Total params: 33,321\n",
      "Trainable params: 33,321\n",
      "Non-trainable params: 0\n",
      "_________________________________________________________________\n"
     ]
    }
   ],
   "source": [
    "from tensorflow.keras.layers import LSTM\n",
    "\n",
    "model_lstm=Sequential()\n",
    "model_lstm.add(Embedding(1000,32))\n",
    "model_lstm.add(LSTM(8))\n",
    "model_lstm.add(Dense(1,activation='sigmoid'))\n",
    "model_lstm.summary()"
   ]
  },
  {
   "cell_type": "code",
   "execution_count": 31,
   "metadata": {},
   "outputs": [
    {
     "name": "stdout",
     "output_type": "stream",
     "text": [
      "Epoch 1/10\n",
      "625/625 [==============================] - 16s 23ms/step - loss: 0.5602 - accuracy: 0.7060 - val_loss: 0.3776 - val_accuracy: 0.8388\n",
      "Epoch 2/10\n",
      "625/625 [==============================] - 14s 22ms/step - loss: 0.3436 - accuracy: 0.8599 - val_loss: 0.3769 - val_accuracy: 0.8396\n",
      "Epoch 3/10\n",
      "625/625 [==============================] - 13s 22ms/step - loss: 0.3106 - accuracy: 0.8695 - val_loss: 0.3571 - val_accuracy: 0.8462\n",
      "Epoch 4/10\n",
      "625/625 [==============================] - 14s 22ms/step - loss: 0.2934 - accuracy: 0.8797 - val_loss: 0.3590 - val_accuracy: 0.8430\n",
      "Epoch 5/10\n",
      "625/625 [==============================] - 14s 22ms/step - loss: 0.2754 - accuracy: 0.8863 - val_loss: 0.3667 - val_accuracy: 0.8444\n",
      "Epoch 6/10\n",
      "625/625 [==============================] - 14s 22ms/step - loss: 0.2737 - accuracy: 0.8827 - val_loss: 0.3675 - val_accuracy: 0.8420\n",
      "Epoch 7/10\n",
      "625/625 [==============================] - 13s 21ms/step - loss: 0.2694 - accuracy: 0.8853 - val_loss: 0.3748 - val_accuracy: 0.8414\n",
      "Epoch 8/10\n",
      "625/625 [==============================] - 13s 21ms/step - loss: 0.2551 - accuracy: 0.8911 - val_loss: 0.3965 - val_accuracy: 0.8380\n",
      "Epoch 9/10\n",
      "625/625 [==============================] - 13s 21ms/step - loss: 0.2399 - accuracy: 0.8993 - val_loss: 0.3923 - val_accuracy: 0.8378\n",
      "Epoch 10/10\n",
      "625/625 [==============================] - 14s 22ms/step - loss: 0.2384 - accuracy: 0.9015 - val_loss: 0.4191 - val_accuracy: 0.8354\n"
     ]
    }
   ],
   "source": [
    "model_lstm.compile(optimizer='adam',loss='binary_crossentropy',metrics=['accuracy'])\n",
    "\n",
    "history=model_lstm.fit(x_train_seq,y_train,epochs=10,batch_size=32,validation_data=(x_val_seq,y_val))"
   ]
  },
  {
   "cell_type": "code",
   "execution_count": 32,
   "metadata": {},
   "outputs": [
    {
     "data": {
      "image/png": "[encoded data removed]",
      "text/plain": [
       "<Figure size 432x288 with 1 Axes>"
      ]
     },
     "metadata": {
      "needs_background": "light"
     },
     "output_type": "display_data"
    },
    {
     "data": {
      "image/png": "[encoded data removed]",
      "text/plain": [
       "<Figure size 432x288 with 1 Axes>"
      ]
     },
     "metadata": {
      "needs_background": "light"
     },
     "output_type": "display_data"
    }
   ],
   "source": [
    "plt.plot(history.history['loss'])\n",
    "plt.plot(history.history['val_loss'])\n",
    "plt.show()\n",
    "plt.plot(history.history['accuracy'])\n",
    "plt.plot(history.history['val_accuracy'])\n",
    "plt.show()"
   ]
  },
  {
   "cell_type": "code",
   "execution_count": 33,
   "metadata": {},
   "outputs": [
    {
     "name": "stdout",
     "output_type": "stream",
     "text": [
      "0.8095999956130981\n"
     ]
    }
   ],
   "source": [
    "loss,accurcy=model_lstm.evaluate(x_val_seq,y_val,verbose=0)     #embedding만 한거랑 똑같은 결과?\n",
    "print(accuracy)"
   ]
  }
 ],
 "metadata": {
  "kernelspec": {
   "display_name": "Python 3",
   "language": "python",
   "name": "python3"
  },
  "language_info": {
   "codemirror_mode": {
    "name": "ipython",
    "version": 3
   },
   "file_extension": ".py",
   "mimetype": "text/x-python",
   "name": "python",
   "nbconvert_exporter": "python",
   "pygments_lexer": "ipython3",
   "version": "3.8.5"
  }
 },
 "nbformat": 4,
 "nbformat_minor": 4
}
