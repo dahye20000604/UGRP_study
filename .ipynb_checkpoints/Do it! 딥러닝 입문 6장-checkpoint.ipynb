{
 "cells": [
  {
   "cell_type": "markdown",
   "metadata": {},
   "source": [
    "# 6-1. 신경망 알고리즘을 벡터화 + 전체 샘플 사용가능하게 하기"
   ]
  },
  {
   "cell_type": "code",
   "execution_count": 1,
   "metadata": {},
   "outputs": [],
   "source": [
    "import numpy as np\n",
    "import matplotlib.pyplot as plt"
   ]
  },
  {
   "cell_type": "code",
   "execution_count": 2,
   "metadata": {},
   "outputs": [],
   "source": [
    "#z=np.sum(x*self.w+self.b) #==(z=np.dot(x,self.w)+self.b)"
   ]
  },
  {
   "cell_type": "code",
   "execution_count": 3,
   "metadata": {},
   "outputs": [],
   "source": [
    "from sklearn.datasets import load_breast_cancer\n",
    "from sklearn.model_selection import train_test_split\n",
    "\n",
    "cancer=load_breast_cancer()\n",
    "x=cancer.data\n",
    "y=cancer.target\n",
    "x_train_all,x_test,y_train_all,y_test=train_test_split(x,y,stratify=y,test_size=0.2,random_state=42)\n",
    "x_train,x_val,y_train,y_val=train_test_split(x_train_all,y_train_all,stratify=y_train_all,test_size=0.2,random_state=42)"
   ]
  },
  {
   "cell_type": "code",
   "execution_count": 4,
   "metadata": {},
   "outputs": [
    {
     "name": "stdout",
     "output_type": "stream",
     "text": [
      "(364, 30) (91, 30)\n"
     ]
    }
   ],
   "source": [
    "print(x_train.shape,x_val.shape)"
   ]
  },
  {
   "cell_type": "code",
   "execution_count": 5,
   "metadata": {},
   "outputs": [],
   "source": [
    "class SingleLayer:\n",
    "    def __init__(self,learning_rate=0.1,l1=0,l2=0):\n",
    "        self.w=None\n",
    "        self.b=None\n",
    "        self.losses=[]\n",
    "        self.val_losses=[]\n",
    "        self.w_history=[]\n",
    "        self.lr=learning_rate\n",
    "        self.l1=l1\n",
    "        self.l2=l2\n",
    "    def forpass(self,x):\n",
    "        z=np.dot(x,self.w)+self.b    #[sample,feature]*[1,feature]=[sample,1]     열벡터\n",
    "        return z\n",
    "    \n",
    "    def backprop(self,x,err):\n",
    "        m=len(x)                      # sample 개수\n",
    "        w_grad=np.dot(x.T,err)/m      # [feature,sample]*[sample,1]=[feature,1]    열벡터 \n",
    "        b_grad=np.sum(err)/m        # [1,sample]*[sample,1]=[1]   값\n",
    "        return w_grad,b_grad\n",
    "    \n",
    "    def activation(self,z):\n",
    "        a=1/(1+np.exp(-z))\n",
    "        return a\n",
    "    \n",
    "    def fit(self,x,y,epochs=100,x_val=None,y_val=None):\n",
    "        y=y.reshape(-1,1)            #y.T하면 그대로 행벡터이다. 계산할때만 가능한듯?\n",
    "        y_val=y_val.reshape(-1,1)\n",
    "        m=len(x)\n",
    "        self.w=np.ones((x.shape[1],1))   #1이 특성개수만큼있는 열벡터\n",
    "        self.b=0\n",
    "        self.w_history.append(self.w.copy())\n",
    "        for i in range(epochs):\n",
    "            z=self.forpass(x)\n",
    "            a=self.activation(z)\n",
    "            err=-(y-a)\n",
    "            w_grad,b_grad=self.backprop(x,err)\n",
    "            w_grad+=(self.l1*np.sign(self.w)+self.l2*self.w)/m\n",
    "            self.w-=self.lr*w_grad\n",
    "            self.b-=self.lr*b_grad\n",
    "            self.w_history.append(self.w.copy())\n",
    "            a=np.clip(a,1e-10,1-1e-10)\n",
    "            loss=np.sum(-(y*np.log(a)+(1-y)*np.log(1-a)))\n",
    "            self.losses.append((loss+self.reg_loss())/m)    #self.reg_loss()는 왜 m으로 나누는가?\n",
    "            self.update_val_loss(x_val,y_val)\n",
    "            \n",
    "    def predict(self,x):\n",
    "        z=self.forpass(x)\n",
    "        return z>0\n",
    "    \n",
    "    def score(self,x,y):\n",
    "        return np.mean(self.predict(x)==y.reshape(-1,1))\n",
    "    \n",
    "    def reg_loss(self):\n",
    "        return self.l1*np.sum(np.abs(self.w))+self.l2/2*np.sum(self.w**2)\n",
    "    \n",
    "    def update_val_loss(self,x_val,y_val):\n",
    "        z=self.forpass(x_val)\n",
    "        a=self.activation(z)\n",
    "        a=np.clip(a,1e-10,1-1e-10)\n",
    "        val_loss=np.sum(-(y_val*np.log(a)+(1-y_val)*np.log(1-a)))\n",
    "        self.val_losses.append((val_loss+self.reg_loss())/len(y_val))   #self.reg_loss()는 왜 m으로 나누는가?"
   ]
  },
  {
   "cell_type": "code",
   "execution_count": 6,
   "metadata": {},
   "outputs": [
    {
     "name": "stdout",
     "output_type": "stream",
     "text": [
      "[[ 6]\n",
      " [12]]\n",
      "[[2.]\n",
      " [3.]\n",
      " [4.]]\n",
      "[[-1.]\n",
      " [-2.]\n",
      " [-3.]]\n",
      "[1 1 1]\n",
      "[[1]\n",
      " [1]\n",
      " [1]]\n",
      "[2 3 4]\n",
      "[ 9 12]\n"
     ]
    }
   ],
   "source": [
    "a=np.array([[1,2,3],[3,4,5]]) #sample 2개 특성 3개\n",
    "b=np.array([[1],[1],[1]])           #가중치\n",
    "c=(np.dot(a,b))#forpass\n",
    "print(c)\n",
    "a1=np.array([[1,2,3],[3,4,5]])#sample 2개 특성 3개\n",
    "b1=np.array([[1],[1]])            #sample별 error\n",
    "c1=(np.dot(a1.T,b1)/len(a1))#gradient   \n",
    "print(c1)\n",
    "print(b-c1)\n",
    "d=np.array([1,1,1])\n",
    "print(d.T)\n",
    "print(d.reshape(-1,1))\n",
    "e=np.array([1,2,3])\n",
    "print(e+1)\n",
    "f=np.array([[1,2],[3,4],[5,6]])\n",
    "print(np.sum(f,axis=0))"
   ]
  },
  {
   "cell_type": "code",
   "execution_count": 7,
   "metadata": {},
   "outputs": [],
   "source": [
    "from sklearn.preprocessing import StandardScaler\n",
    "scaler=StandardScaler()\n",
    "scaler.fit(x_train)\n",
    "x_train_scaled=scaler.transform(x_train)\n",
    "x_val_scaled=scaler.transform(x_val)"
   ]
  },
  {
   "cell_type": "code",
   "execution_count": 8,
   "metadata": {},
   "outputs": [
    {
     "data": {
      "text/plain": [
       "0.978021978021978"
      ]
     },
     "execution_count": 8,
     "metadata": {},
     "output_type": "execute_result"
    }
   ],
   "source": [
    "single_layer=SingleLayer(l2=0.01)\n",
    "single_layer.fit(x_train_scaled, y_train, x_val=x_val_scaled, y_val=y_val, epochs=10000)\n",
    "single_layer.score(x_val_scaled, y_val)"
   ]
  },
  {
   "cell_type": "code",
   "execution_count": 9,
   "metadata": {},
   "outputs": [
    {
     "data": {
      "image/png": "[encoded data removed]",
      "text/plain": [
       "<Figure size 432x288 with 1 Axes>"
      ]
     },
     "metadata": {
      "needs_background": "light"
     },
     "output_type": "display_data"
    }
   ],
   "source": [
    "plt.ylim(0,0.3)\n",
    "plt.plot(single_layer.losses)\n",
    "plt.plot(single_layer.val_losses)\n",
    "plt.ylabel('loss')\n",
    "plt.xlabel('epoch')\n",
    "plt.legend(['train_loss','val_loss'])\n",
    "plt.show()"
   ]
  },
  {
   "cell_type": "code",
   "execution_count": 10,
   "metadata": {},
   "outputs": [
    {
     "data": {
      "image/png": "[encoded data removed]",
      "text/plain": [
       "<Figure size 432x288 with 1 Axes>"
      ]
     },
     "metadata": {
      "needs_background": "light"
     },
     "output_type": "display_data"
    }
   ],
   "source": [
    "w2=[]\n",
    "w3=[]\n",
    "for w in single_layer.w_history:\n",
    "    w2.append(w[2])\n",
    "    w3.append(w[3])\n",
    "plt.plot(w2,w3)\n",
    "plt.plot(w2[-1],w3[-1],'ro')\n",
    "plt.xlabel('w[2]')\n",
    "plt.ylabel('w[3]')\n",
    "plt.show()"
   ]
  },
  {
   "cell_type": "markdown",
   "metadata": {},
   "source": [
    "# 6-2. 2개의 층을 가진 신경망을 구현합니다. "
   ]
  },
  {
   "cell_type": "code",
   "execution_count": 13,
   "metadata": {},
   "outputs": [],
   "source": [
    "class DualLayer(SingleLayer):\n",
    "    def __init__(self,units=10,learning_rate=0.1,l1=0,l2=0):\n",
    "        self.units=units\n",
    "        self.w1=None #[feature,neuron]\n",
    "        self.b1=None #[1,neuron]\n",
    "        self.w2=None #[neuron,1]\n",
    "        self.b2=None #[1]\n",
    "        self.a1=None #[sample,neuron]\n",
    "        self.losses=[]\n",
    "        self.val_losses=[]\n",
    "        self.lr=learning_rate\n",
    "        self.l1=l1\n",
    "        self.l2=l2\n",
    "        \n",
    "    def forpass(self,x):\n",
    "        z1=np.dot(x,self.w1)+self.b1\n",
    "        self.a1=self.activation(z1)         #singleLayer에서 상속\n",
    "        z2=np.dot(self.a1,self.w2)+self.b2\n",
    "        return z2\n",
    "    \n",
    "    def backprop(self,x,err):\n",
    "        m=len(x)\n",
    "        w2_grad=np.dot(self.a1.T,err)/m\n",
    "        b2_grad=np.sum(err)/m\n",
    "        err_to_hidden=np.dot(err,self.w2.T)*self.a1*(1-self.a1)   #[sample,neuron]\n",
    "        w1_grad=np.dot(x.T,err_to_hidden)/m\n",
    "        b1_grad=np.sum(err_to_hidden,axis=0)/m                    #[1,neuron]\n",
    "        return w1_grad,b1_grad,w2_grad,b2_grad\n",
    "    \n",
    "    def init_weights(self,n_features):\n",
    "        self.w1=np.ones((n_features,self.units))\n",
    "        self.b1=np.zeros(self.units)\n",
    "        self.w2=np.ones((self.units,1))\n",
    "        self.b2=0\n",
    "    \n",
    "    def fit(self,x,y,epochs=100,x_val=None,y_val=None):\n",
    "        y=y.reshape(-1,1)\n",
    "        y_val=y_val.reshape(-1,1)\n",
    "        m=len(x)\n",
    "        self.init_weights(x.shape[1])\n",
    "        for i in range(epochs):\n",
    "            a=self.training(x,y,m)\n",
    "            a=np.clip(a,1e-10,1-1e-10)\n",
    "            loss=np.sum(-(y*np.log(a)+(1-y)*np.log(1-a)))\n",
    "            self.losses.append((loss+self.reg_loss())/m)\n",
    "            self.update_val_loss(x_val,y_val)\n",
    "    \n",
    "    def training(self,x,y,m):\n",
    "        z=self.forpass(x)\n",
    "        a=self.activation(z)\n",
    "        err=-(y-a)\n",
    "        w1_grad,b1_grad,w2_grad,b2_grad=self.backprop(x,err)\n",
    "        w1_grad+=(self.l1*np.sign(self.w1)+self.l2*self.w1)/m\n",
    "        w2_grad+=(self.l1*np.sign(self.w2)+self.l2*self.w2)/m\n",
    "        self.w1-=self.lr*w1_grad\n",
    "        self.b1-=self.lr*b1_grad\n",
    "        self.w2-=self.lr*w2_grad\n",
    "        self.b2-=self.lr*b2_grad\n",
    "        return a\n",
    "    \n",
    "    def reg_loss(self):\n",
    "        return self.l1*(np.sum(np.abs(self.w1))+np.sum(np.abs(self.w2)))+self.l2/2*(np.sum(self.w1**2)+np.sum(self.w2**2))"
   ]
  },
  {
   "cell_type": "code",
   "execution_count": 14,
   "metadata": {},
   "outputs": [
    {
     "data": {
      "text/plain": [
       "0.978021978021978"
      ]
     },
     "execution_count": 14,
     "metadata": {},
     "output_type": "execute_result"
    }
   ],
   "source": [
    "dual_layer=DualLayer(l2=0.01)\n",
    "dual_layer.fit(x_train_scaled,y_train,20000,x_val_scaled,y_val)\n",
    "dual_layer.score(x_val_scaled,y_val)"
   ]
  },
  {
   "cell_type": "code",
   "execution_count": 15,
   "metadata": {},
   "outputs": [
    {
     "data": {
      "image/png": "[encoded data removed]",
      "text/plain": [
       "<Figure size 432x288 with 1 Axes>"
      ]
     },
     "metadata": {
      "needs_background": "light"
     },
     "output_type": "display_data"
    }
   ],
   "source": [
    "plt.ylim(0,0.3)\n",
    "plt.plot(dual_layer.losses)\n",
    "plt.plot(dual_layer.val_losses)\n",
    "plt.ylabel('loss')\n",
    "plt.xlabel('epoch')\n",
    "plt.legend(['train_loss','val_loss'])\n",
    "plt.show()"
   ]
  },
  {
   "cell_type": "code",
   "execution_count": 24,
   "metadata": {},
   "outputs": [],
   "source": [
    "class RandomInitNetwork(DualLayer):\n",
    "    def init_weights(self,n_features):\n",
    "        np.random.seed(42)\n",
    "        self.w1=np.random.normal(0,1,(n_features,self.units))\n",
    "        self.b1=np.zeros(self.units)\n",
    "        self.w2=np.random.normal(0,1,(self.units,1))\n",
    "        self.b2=0"
   ]
  },
  {
   "cell_type": "code",
   "execution_count": 25,
   "metadata": {},
   "outputs": [
    {
     "data": {
      "image/png": "[encoded data removed]",
      "text/plain": [
       "<Figure size 432x288 with 1 Axes>"
      ]
     },
     "metadata": {
      "needs_background": "light"
     },
     "output_type": "display_data"
    }
   ],
   "source": [
    "random_init_net=RandomInitNetwork(l2=0.01)\n",
    "random_init_net.fit(x_train_scaled,y_train,500,x_val_scaled,y_val)\n",
    "plt.ylim(0,0.8)\n",
    "plt.plot(random_init_net.losses)\n",
    "plt.plot(random_init_net.val_losses)\n",
    "plt.ylabel('loss')\n",
    "plt.xlabel('epoch')\n",
    "plt.legend(['train_loss','val_loss'])\n",
    "plt.show()"
   ]
  },
  {
   "cell_type": "markdown",
   "metadata": {},
   "source": [
    "# 6-3. 미니 배치 경사하강법"
   ]
  },
  {
   "cell_type": "code",
   "execution_count": 30,
   "metadata": {},
   "outputs": [],
   "source": [
    "class MinibatchNetwork(RandomInitNetwork):\n",
    "    def __init__(self,units=10,batch_size=32,learning_rate=0.1,l1=0,l2=0):\n",
    "        super().__init__(units,learning_rate,l1,l2)\n",
    "        self.batch_size=batch_size\n",
    "        \n",
    "    def fit(self,x,y,epochs=100,x_val=None,y_val=None):\n",
    "        y_val=y_val.reshape(-1,1)\n",
    "        self.init_weights(x.shape[1])\n",
    "        np.random.seed(42)\n",
    "        for i in range(epochs):\n",
    "            loss=0\n",
    "            for x_batch,y_batch in self.gen_batch(x,y):\n",
    "                y_batch=y_batch.reshape(-1,1)\n",
    "                m=len(x_batch)\n",
    "                a=self.training(x_batch,y_batch,m)\n",
    "                a=np.clip(a,1e-10,1-1e-10)\n",
    "                loss += np.sum(-(y_batch*np.log(a)+(1-y_batch)*np.log(1-a)))\n",
    "            self.losses.append((loss+self.reg_loss())/len(x))   #len(x)로 나누는게 맞나?\n",
    "            self.update_val_loss(x_val,y_val)\n",
    "    def gen_batch(self,x,y):\n",
    "        length=len(x)\n",
    "        bins=length//self.batch_size\n",
    "        if length%self.batch_size:\n",
    "            bins+=1\n",
    "        indexes=np.random.permutation(np.arange(len(x)))\n",
    "        x=x[indexes]\n",
    "        y=y[indexes]\n",
    "        for i in range(bins):\n",
    "            start=self.batch_size*i\n",
    "            end=self.batch_size*(i+1)\n",
    "            yield x[start:end], y[start:end]"
   ]
  },
  {
   "cell_type": "code",
   "execution_count": 31,
   "metadata": {},
   "outputs": [
    {
     "name": "stdout",
     "output_type": "stream",
     "text": [
      "0.978021978021978\n"
     ]
    },
    {
     "data": {
      "image/png": "[encoded data removed]",
      "text/plain": [
       "<Figure size 432x288 with 1 Axes>"
      ]
     },
     "metadata": {
      "needs_background": "light"
     },
     "output_type": "display_data"
    }
   ],
   "source": [
    "minibatch_net=MinibatchNetwork(l2=0.01, batch_size=32)\n",
    "minibatch_net.fit(x_train_scaled, y_train, x_val=x_val_scaled, y_val=y_val, epochs=500)\n",
    "print(minibatch_net.score(x_val_scaled,y_val))\n",
    "plt.plot(minibatch_net.losses)\n",
    "plt.plot(minibatch_net.val_losses)\n",
    "plt.xlabel('iteration')\n",
    "plt.ylabel('loss')\n",
    "plt.legend(['train loss', 'val loss'])\n",
    "plt.show()"
   ]
  },
  {
   "cell_type": "code",
   "execution_count": 33,
   "metadata": {},
   "outputs": [
    {
     "name": "stdout",
     "output_type": "stream",
     "text": [
      "0.978021978021978\n"
     ]
    },
    {
     "data": {
      "image/png": "[encoded data removed]",
      "text/plain": [
       "<Figure size 432x288 with 1 Axes>"
      ]
     },
     "metadata": {
      "needs_background": "light"
     },
     "output_type": "display_data"
    }
   ],
   "source": [
    "minibatch_net=MinibatchNetwork(l2=0.01, batch_size=128)\n",
    "minibatch_net.fit(x_train_scaled, y_train, x_val=x_val_scaled, y_val=y_val, epochs=500)\n",
    "print(minibatch_net.score(x_val_scaled,y_val))\n",
    "plt.plot(minibatch_net.losses)\n",
    "plt.plot(minibatch_net.val_losses)\n",
    "plt.xlabel('iteration')\n",
    "plt.ylabel('loss')\n",
    "plt.legend(['train loss', 'val loss'])\n",
    "plt.show()"
   ]
  },
  {
   "cell_type": "code",
   "execution_count": 34,
   "metadata": {},
   "outputs": [],
   "source": [
    "from sklearn.neural_network import MLPClassifier\n",
    "mlp=MLPClassifier(hidden_layer_sizes=(10,), activation='logistic', solver='sgd', \n",
    "                  alpha=0.01, batch_size=32, learning_rate_init=0.1, max_iter=500)"
   ]
  },
  {
   "cell_type": "code",
   "execution_count": null,
   "metadata": {},
   "outputs": [],
   "source": [
    "mlp.fit(x_train_scaled, y_train)\n",
    "mlp.score(x_val_scaled, y_val)"
   ]
  }
 ],
 "metadata": {
  "kernelspec": {
   "display_name": "Python 3",
   "language": "python",
   "name": "python3"
  },
  "language_info": {
   "codemirror_mode": {
    "name": "ipython",
    "version": 3
   },
   "file_extension": ".py",
   "mimetype": "text/x-python",
   "name": "python",
   "nbconvert_exporter": "python",
   "pygments_lexer": "ipython3",
   "version": "3.8.5"
  }
 },
 "nbformat": 4,
 "nbformat_minor": 4
}
