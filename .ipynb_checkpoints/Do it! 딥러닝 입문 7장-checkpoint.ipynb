{
 "cells": [
  {
   "cell_type": "code",
   "execution_count": 1,
   "metadata": {},
   "outputs": [],
   "source": [
    "import numpy as np"
   ]
  },
  {
   "cell_type": "code",
   "execution_count": 2,
   "metadata": {},
   "outputs": [],
   "source": [
    "class MultiClassNetwork:\n",
    "    \n",
    "    def __init__(self, units=10,batch_size=32, learning_rate=0.1, l1=0,l2=0):\n",
    "        self.units=units\n",
    "        self.batch_size=batch_size\n",
    "        self.w1=None\n",
    "        self.b1=None\n",
    "        self.w2=None\n",
    "        self.b2=None\n",
    "        self.a1=None\n",
    "        self.losses=[]\n",
    "        self.val_losses=[]\n",
    "        self.lr=learning_rate\n",
    "        self.l1=l1\n",
    "        self.l2=l2\n",
    "        \n",
    "    def forpass(self,x):\n",
    "        z1=np.dot(x,self.w1)+self.b1\n",
    "        self.a1=self.sigmoid(z1)\n",
    "        z2=np.dot(self.a1,self.w2)+self.b2\n",
    "        return z2\n",
    "    \n",
    "    def backprop(self,x,err):\n",
    "        m=len(x)\n",
    "        w2_grad=np.dot(self.a1.T,err)/m\n",
    "        b2_grad=np.sum(err)/m\n",
    "        err_to_hidden=np.dot(err,self.w2.T)*self.a1*(1-self.a1)\n",
    "        w1_grad=np.dot(x.T,err_to_hidden)/m\n",
    "        b1_grad=np.sum(err_to_hidden,axis=0)/m\n",
    "        return w1_grad,b1_grad,w2_grad,b2_grad\n",
    "    \n",
    "    def sigmoid(self,z):\n",
    "        a=1/(1+np.exp(-z))\n",
    "        return a\n",
    "    \n",
    "    def softmax(self,z):\n",
    "        exp_z=np.exp(z)\n",
    "        return exp_z/np.sum(exp_z,axis=1).reshape(-1,1)\n",
    "    \n",
    "    def init_weights(self, n_features, n_classes):\n",
    "        self.w1=np.random.normal(0,1,(n_features,self.units))\n",
    "        self.b1=np.zeros(self.units)\n",
    "        self.w2=np.random.normal(0,1,(self.units,n_classes))\n",
    "        self.b2=np.zeros(n_classes)\n",
    "        \n",
    "    def fit(self,x,y,epochs=100,x_val=None,y_val=None):\n",
    "        np.random.seed(42)\n",
    "        self.init_weights(x.shape[1],y.shape[1])  \n",
    "        for i in range(epochs):\n",
    "            loss=0\n",
    "            print('.',end='')\n",
    "            for x_batch,y_batch in self.gen_batch(x,y):\n",
    "                a=self.training(x_batch,y_batch)\n",
    "                a=np.clip(a,1e-10,1-1e-10)     #없어도 될듯?\n",
    "                loss+=np.sum(-y_batch*np.log(a))\n",
    "            self.losses.append((loss+self.reg_loss())/len(x))\n",
    "            self.update_val_loss(x_val,y_val)\n",
    "        \n",
    "    def gen_batch(self,x,y):\n",
    "        length=len(x)\n",
    "        bins=length//self.batch_size\n",
    "        if length % self.batch_size:\n",
    "            bins+=1\n",
    "            \n",
    "        indexes=np.random.permutation(np.arange(len(x)))\n",
    "        x=x[indexes]\n",
    "        y=y[indexes]\n",
    "        for i in range(bins):\n",
    "            start=self.batch_size*i\n",
    "            end=self.batch_size*(i+1)\n",
    "            yield x[start:end],y[start:end]\n",
    "            \n",
    "    def training(self,x,y):\n",
    "        m=len(x)\n",
    "        z=self.forpass(x)\n",
    "        a=self.softmax(z)\n",
    "        err=-(y-a)\n",
    "        w1_grad,b1_grad,w2_grad,b2_grad=self.backprop(x,err)\n",
    "        w1_grad+=(self.l1*np.sign(self.w1)+self.l2*self.w1)/m\n",
    "        w2_grad+=(self.l1*np.sign(self.w2)+self.l2*self.w2)/m\n",
    "        self.w1-=self.lr*w1_grad\n",
    "        self.b1-=self.lr*b1_grad\n",
    "        self.w2-=self.lr*w2_grad\n",
    "        self.b2-=self.lr*b2_grad\n",
    "        return a\n",
    "    \n",
    "    def predict(self,x):\n",
    "        z=self.forpass(x)\n",
    "        return np.argmax(z,axis=1)\n",
    "    \n",
    "    def score(self,x,y):\n",
    "        return np.mean(self.predict(x)==np.argmax(y,axis=1))\n",
    "    \n",
    "    def reg_loss(self):\n",
    "        return self.l1*(np.sum(np.abs(self.w1))+np.sum(np.abs(self.w2)))+self.l2/2*(np.sum(self.w1**2)+np.sum(self.w2**2))\n",
    "    \n",
    "    def update_val_loss(self,x_val,y_val):\n",
    "        z=self.forpass(x_val)\n",
    "        a=self.softmax(z)\n",
    "        a=np.clip(a,1e-10,1-1e-10)\n",
    "        val_loss=np.sum(-y_val*np.log(a))\n",
    "        self.val_losses.append((val_loss+self.reg_loss())/len(y_val))"
   ]
  },
  {
   "cell_type": "code",
   "execution_count": 3,
   "metadata": {},
   "outputs": [
    {
     "data": {
      "text/plain": [
       "'2.4.0'"
      ]
     },
     "execution_count": 3,
     "metadata": {},
     "output_type": "execute_result"
    }
   ],
   "source": [
    "import tensorflow as tf\n",
    "tf.__version__"
   ]
  },
  {
   "cell_type": "code",
   "execution_count": 4,
   "metadata": {},
   "outputs": [],
   "source": [
    "(x_train_all,y_train_all),(x_test,y_test)=tf.keras.datasets.fashion_mnist.load_data()"
   ]
  },
  {
   "cell_type": "code",
   "execution_count": 5,
   "metadata": {},
   "outputs": [
    {
     "name": "stdout",
     "output_type": "stream",
     "text": [
      "(60000, 28, 28) (60000,)\n"
     ]
    }
   ],
   "source": [
    "print(x_train_all.shape,y_train_all.shape)"
   ]
  },
  {
   "cell_type": "code",
   "execution_count": 6,
   "metadata": {},
   "outputs": [
    {
     "data": {
      "image/png": "[encoded data removed]",
      "text/plain": [
       "<Figure size 432x288 with 1 Axes>"
      ]
     },
     "metadata": {
      "needs_background": "light"
     },
     "output_type": "display_data"
    }
   ],
   "source": [
    "import matplotlib.pyplot as plt\n",
    "plt.imshow(x_train_all[0],cmap='gray')\n",
    "plt.show()"
   ]
  },
  {
   "cell_type": "code",
   "execution_count": 7,
   "metadata": {},
   "outputs": [
    {
     "name": "stdout",
     "output_type": "stream",
     "text": [
      "[9 0 0 3 0 2 7 2 5 5]\n"
     ]
    }
   ],
   "source": [
    "print(y_train_all[:10])"
   ]
  },
  {
   "cell_type": "code",
   "execution_count": 8,
   "metadata": {},
   "outputs": [],
   "source": [
    "class_names=['티셔츠/윗도리','바지','스웨터','드레스','코트','샌들','셔츠','스니커즈','가방','앵클부츠']"
   ]
  },
  {
   "cell_type": "code",
   "execution_count": 9,
   "metadata": {},
   "outputs": [
    {
     "name": "stdout",
     "output_type": "stream",
     "text": [
      "앵클부츠\n"
     ]
    }
   ],
   "source": [
    "print(class_names[y_train_all[0]])"
   ]
  },
  {
   "cell_type": "code",
   "execution_count": 10,
   "metadata": {},
   "outputs": [
    {
     "data": {
      "text/plain": [
       "array([6000, 6000, 6000, 6000, 6000, 6000, 6000, 6000, 6000, 6000],\n",
       "      dtype=int64)"
      ]
     },
     "execution_count": 10,
     "metadata": {},
     "output_type": "execute_result"
    }
   ],
   "source": [
    "np.bincount(y_train_all)"
   ]
  },
  {
   "cell_type": "code",
   "execution_count": 11,
   "metadata": {},
   "outputs": [],
   "source": [
    "from sklearn.model_selection import train_test_split\n",
    "x_train,x_val,y_train,y_val = train_test_split(x_train_all,y_train_all,stratify=y_train_all,test_size=0.2,random_state=42)"
   ]
  },
  {
   "cell_type": "code",
   "execution_count": 12,
   "metadata": {},
   "outputs": [
    {
     "data": {
      "text/plain": [
       "array([4800, 4800, 4800, 4800, 4800, 4800, 4800, 4800, 4800, 4800],\n",
       "      dtype=int64)"
      ]
     },
     "execution_count": 12,
     "metadata": {},
     "output_type": "execute_result"
    }
   ],
   "source": [
    "np.bincount(y_train)\n"
   ]
  },
  {
   "cell_type": "code",
   "execution_count": 13,
   "metadata": {},
   "outputs": [
    {
     "data": {
      "text/plain": [
       "array([1200, 1200, 1200, 1200, 1200, 1200, 1200, 1200, 1200, 1200],\n",
       "      dtype=int64)"
      ]
     },
     "execution_count": 13,
     "metadata": {},
     "output_type": "execute_result"
    }
   ],
   "source": [
    "np.bincount(y_val)"
   ]
  },
  {
   "cell_type": "code",
   "execution_count": 14,
   "metadata": {},
   "outputs": [],
   "source": [
    "x_train=x_train/255\n",
    "x_val=x_val/255"
   ]
  },
  {
   "cell_type": "code",
   "execution_count": 15,
   "metadata": {},
   "outputs": [],
   "source": [
    "x_train=x_train.reshape(-1,784)\n",
    "x_val=x_val.reshape(-1,784)"
   ]
  },
  {
   "cell_type": "code",
   "execution_count": 16,
   "metadata": {},
   "outputs": [
    {
     "name": "stdout",
     "output_type": "stream",
     "text": [
      "(48000, 784) (12000, 784)\n"
     ]
    }
   ],
   "source": [
    "print(x_train.shape,x_val.shape)"
   ]
  },
  {
   "cell_type": "code",
   "execution_count": 17,
   "metadata": {},
   "outputs": [
    {
     "data": {
      "text/plain": [
       "array([[1., 0., 0., 0.],\n",
       "       [0., 1., 0., 0.],\n",
       "       [0., 0., 0., 1.]], dtype=float32)"
      ]
     },
     "execution_count": 17,
     "metadata": {},
     "output_type": "execute_result"
    }
   ],
   "source": [
    "tf.keras.utils.to_categorical([0,1,3])"
   ]
  },
  {
   "cell_type": "code",
   "execution_count": 18,
   "metadata": {},
   "outputs": [
    {
     "name": "stdout",
     "output_type": "stream",
     "text": [
      "(48000, 10) (12000, 10)\n"
     ]
    }
   ],
   "source": [
    "y_train_encoded=tf.keras.utils.to_categorical(y_train)\n",
    "y_val_encoded=tf.keras.utils.to_categorical(y_val)\n",
    "print(y_train_encoded.shape,y_val_encoded.shape)"
   ]
  },
  {
   "cell_type": "code",
   "execution_count": 19,
   "metadata": {},
   "outputs": [
    {
     "name": "stdout",
     "output_type": "stream",
     "text": [
      "6 [0. 0. 0. 0. 0. 0. 1. 0. 0. 0.]\n"
     ]
    }
   ],
   "source": [
    "print(y_train[0],y_train_encoded[0])"
   ]
  },
  {
   "cell_type": "code",
   "execution_count": 22,
   "metadata": {},
   "outputs": [
    {
     "name": "stdout",
     "output_type": "stream",
     "text": [
      "........................................"
     ]
    }
   ],
   "source": [
    "fc=MultiClassNetwork(units=100,batch_size=256)\n",
    "fc.fit(x_train,y_train_encoded,x_val=x_val,y_val=y_val_encoded,epochs=40)"
   ]
  },
  {
   "cell_type": "code",
   "execution_count": 23,
   "metadata": {},
   "outputs": [
    {
     "data": {
      "image/png": "[encoded data removed]",
      "text/plain": [
       "<Figure size 432x288 with 1 Axes>"
      ]
     },
     "metadata": {
      "needs_background": "light"
     },
     "output_type": "display_data"
    }
   ],
   "source": [
    "plt.plot(fc.losses)\n",
    "plt.plot(fc.val_losses)\n",
    "plt.ylabel('loss')\n",
    "plt.xlabel('iteration')\n",
    "plt.legend(['train_loss','val_loss'])\n",
    "plt.show()"
   ]
  },
  {
   "cell_type": "code",
   "execution_count": 24,
   "metadata": {},
   "outputs": [
    {
     "data": {
      "text/plain": [
       "0.8150833333333334"
      ]
     },
     "execution_count": 24,
     "metadata": {},
     "output_type": "execute_result"
    }
   ],
   "source": [
    "fc.score(x_val,y_val_encoded)"
   ]
  },
  {
   "cell_type": "markdown",
   "metadata": {},
   "source": [
    "# 7-2. 텐서플로와 케라스"
   ]
  },
  {
   "cell_type": "code",
   "execution_count": 23,
   "metadata": {},
   "outputs": [],
   "source": [
    "from tensorflow.keras import Sequential\n",
    "from tensorflow.keras.layers import Dense\n",
    "model=Sequential()\n",
    "model.add(Dense(100,activation='sigmoid',input_shape=(784,)))\n",
    "model.add(Dense(10,activation='softmax'))\n",
    "model.compile(optimizer='sgd',loss='categorical_crossentropy',metrics=['accuracy'])"
   ]
  },
  {
   "cell_type": "code",
   "execution_count": 24,
   "metadata": {},
   "outputs": [
    {
     "name": "stdout",
     "output_type": "stream",
     "text": [
      "Epoch 1/40\n",
      "1500/1500 [==============================] - 4s 2ms/step - loss: 1.7690 - accuracy: 0.5206 - val_loss: 0.9717 - val_accuracy: 0.7325\n",
      "Epoch 2/40\n",
      "1500/1500 [==============================] - 2s 1ms/step - loss: 0.8983 - accuracy: 0.7368 - val_loss: 0.7532 - val_accuracy: 0.7592\n",
      "Epoch 3/40\n",
      "1500/1500 [==============================] - 2s 1ms/step - loss: 0.7328 - accuracy: 0.7615 - val_loss: 0.6645 - val_accuracy: 0.7772\n",
      "Epoch 4/40\n",
      "1500/1500 [==============================] - 2s 1ms/step - loss: 0.6601 - accuracy: 0.7746 - val_loss: 0.6141 - val_accuracy: 0.7884\n",
      "Epoch 5/40\n",
      "1500/1500 [==============================] - 2s 1ms/step - loss: 0.6111 - accuracy: 0.7874 - val_loss: 0.5777 - val_accuracy: 0.8015\n",
      "Epoch 6/40\n",
      "1500/1500 [==============================] - 2s 2ms/step - loss: 0.5843 - accuracy: 0.7986 - val_loss: 0.5516 - val_accuracy: 0.8092\n",
      "Epoch 7/40\n",
      "1500/1500 [==============================] - 2s 1ms/step - loss: 0.5599 - accuracy: 0.8065 - val_loss: 0.5315 - val_accuracy: 0.8155\n",
      "Epoch 8/40\n",
      "1500/1500 [==============================] - 2s 1ms/step - loss: 0.5415 - accuracy: 0.8122 - val_loss: 0.5150 - val_accuracy: 0.8209\n",
      "Epoch 9/40\n",
      "1500/1500 [==============================] - 2s 1ms/step - loss: 0.5209 - accuracy: 0.8194 - val_loss: 0.5016 - val_accuracy: 0.8242\n",
      "Epoch 10/40\n",
      "1500/1500 [==============================] - 2s 1ms/step - loss: 0.5088 - accuracy: 0.8227 - val_loss: 0.4898 - val_accuracy: 0.8290\n",
      "Epoch 11/40\n",
      "1500/1500 [==============================] - 2s 1ms/step - loss: 0.4962 - accuracy: 0.8294 - val_loss: 0.4800 - val_accuracy: 0.8310\n",
      "Epoch 12/40\n",
      "1500/1500 [==============================] - 2s 1ms/step - loss: 0.4901 - accuracy: 0.8277 - val_loss: 0.4720 - val_accuracy: 0.8353\n",
      "Epoch 13/40\n",
      "1500/1500 [==============================] - 2s 1ms/step - loss: 0.4834 - accuracy: 0.8338 - val_loss: 0.4651 - val_accuracy: 0.8368\n",
      "Epoch 14/40\n",
      "1500/1500 [==============================] - 2s 1ms/step - loss: 0.4701 - accuracy: 0.8350 - val_loss: 0.4593 - val_accuracy: 0.8383\n",
      "Epoch 15/40\n",
      "1500/1500 [==============================] - 2s 1ms/step - loss: 0.4682 - accuracy: 0.8360 - val_loss: 0.4524 - val_accuracy: 0.8402\n",
      "Epoch 16/40\n",
      "1500/1500 [==============================] - 2s 1ms/step - loss: 0.4634 - accuracy: 0.8396 - val_loss: 0.4487 - val_accuracy: 0.8409\n",
      "Epoch 17/40\n",
      "1500/1500 [==============================] - 2s 1ms/step - loss: 0.4581 - accuracy: 0.8402 - val_loss: 0.4442 - val_accuracy: 0.8416\n",
      "Epoch 18/40\n",
      "1500/1500 [==============================] - 2s 1ms/step - loss: 0.4501 - accuracy: 0.8410 - val_loss: 0.4380 - val_accuracy: 0.8445\n",
      "Epoch 19/40\n",
      "1500/1500 [==============================] - 2s 2ms/step - loss: 0.4480 - accuracy: 0.8453 - val_loss: 0.4383 - val_accuracy: 0.8459\n",
      "Epoch 20/40\n",
      "1500/1500 [==============================] - 2s 2ms/step - loss: 0.4401 - accuracy: 0.8457 - val_loss: 0.4309 - val_accuracy: 0.8466\n",
      "Epoch 21/40\n",
      "1500/1500 [==============================] - 2s 1ms/step - loss: 0.4407 - accuracy: 0.8459 - val_loss: 0.4272 - val_accuracy: 0.8487\n",
      "Epoch 22/40\n",
      "1500/1500 [==============================] - 2s 2ms/step - loss: 0.4322 - accuracy: 0.8462 - val_loss: 0.4234 - val_accuracy: 0.8508\n",
      "Epoch 23/40\n",
      "1500/1500 [==============================] - 2s 2ms/step - loss: 0.4335 - accuracy: 0.8465 - val_loss: 0.4218 - val_accuracy: 0.8493\n",
      "Epoch 24/40\n",
      "1500/1500 [==============================] - 2s 2ms/step - loss: 0.4219 - accuracy: 0.8528 - val_loss: 0.4173 - val_accuracy: 0.8537\n",
      "Epoch 25/40\n",
      "1500/1500 [==============================] - 3s 2ms/step - loss: 0.4277 - accuracy: 0.8498 - val_loss: 0.4173 - val_accuracy: 0.8518\n",
      "Epoch 26/40\n",
      "1500/1500 [==============================] - 3s 2ms/step - loss: 0.4214 - accuracy: 0.8520 - val_loss: 0.4129 - val_accuracy: 0.8534\n",
      "Epoch 27/40\n",
      "1500/1500 [==============================] - 3s 2ms/step - loss: 0.4255 - accuracy: 0.8485 - val_loss: 0.4108 - val_accuracy: 0.8555\n",
      "Epoch 28/40\n",
      "1500/1500 [==============================] - 3s 2ms/step - loss: 0.4182 - accuracy: 0.8513 - val_loss: 0.4082 - val_accuracy: 0.8564\n",
      "Epoch 29/40\n",
      "1500/1500 [==============================] - 3s 2ms/step - loss: 0.4133 - accuracy: 0.8568 - val_loss: 0.4072 - val_accuracy: 0.8559\n",
      "Epoch 30/40\n",
      "1500/1500 [==============================] - 2s 2ms/step - loss: 0.4095 - accuracy: 0.8542 - val_loss: 0.4040 - val_accuracy: 0.8575\n",
      "Epoch 31/40\n",
      "1500/1500 [==============================] - 2s 2ms/step - loss: 0.4121 - accuracy: 0.8543 - val_loss: 0.4028 - val_accuracy: 0.8574\n",
      "Epoch 32/40\n",
      "1500/1500 [==============================] - 2s 1ms/step - loss: 0.4052 - accuracy: 0.8573 - val_loss: 0.4019 - val_accuracy: 0.8572\n",
      "Epoch 33/40\n",
      "1500/1500 [==============================] - 2s 2ms/step - loss: 0.4129 - accuracy: 0.8543 - val_loss: 0.3981 - val_accuracy: 0.8597\n",
      "Epoch 34/40\n",
      "1500/1500 [==============================] - 2s 1ms/step - loss: 0.4017 - accuracy: 0.8554 - val_loss: 0.3968 - val_accuracy: 0.8605\n",
      "Epoch 35/40\n",
      "1500/1500 [==============================] - 2s 1ms/step - loss: 0.4004 - accuracy: 0.8577 - val_loss: 0.3965 - val_accuracy: 0.8609\n",
      "Epoch 36/40\n",
      "1500/1500 [==============================] - 2s 1ms/step - loss: 0.3973 - accuracy: 0.8605 - val_loss: 0.3945 - val_accuracy: 0.8602\n",
      "Epoch 37/40\n",
      "1500/1500 [==============================] - 2s 2ms/step - loss: 0.3952 - accuracy: 0.8605 - val_loss: 0.3948 - val_accuracy: 0.8613\n",
      "Epoch 38/40\n",
      "1500/1500 [==============================] - 2s 1ms/step - loss: 0.4016 - accuracy: 0.8572 - val_loss: 0.3919 - val_accuracy: 0.8613\n",
      "Epoch 39/40\n",
      "1500/1500 [==============================] - 2s 1ms/step - loss: 0.3869 - accuracy: 0.8629 - val_loss: 0.3884 - val_accuracy: 0.8626\n",
      "Epoch 40/40\n",
      "1500/1500 [==============================] - 2s 1ms/step - loss: 0.3859 - accuracy: 0.8639 - val_loss: 0.3878 - val_accuracy: 0.8640\n"
     ]
    }
   ],
   "source": [
    "history=model.fit(x_train,y_train_encoded,epochs=40,validation_data=(x_val,y_val_encoded))"
   ]
  },
  {
   "cell_type": "code",
   "execution_count": 25,
   "metadata": {},
   "outputs": [
    {
     "name": "stdout",
     "output_type": "stream",
     "text": [
      "dict_keys(['loss', 'accuracy', 'val_loss', 'val_accuracy'])\n"
     ]
    }
   ],
   "source": [
    "print(history.history.keys())"
   ]
  },
  {
   "cell_type": "code",
   "execution_count": 26,
   "metadata": {},
   "outputs": [
    {
     "data": {
      "image/png": "[encoded data removed]",
      "text/plain": [
       "<Figure size 432x288 with 1 Axes>"
      ]
     },
     "metadata": {
      "needs_background": "light"
     },
     "output_type": "display_data"
    }
   ],
   "source": [
    "plt.plot(history.history['loss'])\n",
    "plt.plot(history.history['val_loss'])\n",
    "plt.ylabel('loss')\n",
    "plt.xlabel('epoch')\n",
    "plt.legend(['train_loss','val_loss'])\n",
    "plt.show()"
   ]
  },
  {
   "cell_type": "code",
   "execution_count": 27,
   "metadata": {},
   "outputs": [
    {
     "data": {
      "image/png": "[encoded data removed]",
      "text/plain": [
       "<Figure size 432x288 with 1 Axes>"
      ]
     },
     "metadata": {
      "needs_background": "light"
     },
     "output_type": "display_data"
    }
   ],
   "source": [
    "plt.plot(history.history['accuracy'])\n",
    "plt.plot(history.history['val_accuracy'])\n",
    "plt.ylabel('accuracy')\n",
    "plt.xlabel('epoch')\n",
    "plt.legend(['train_accuracy','val_accuracy'])\n",
    "plt.show()"
   ]
  },
  {
   "cell_type": "code",
   "execution_count": 28,
   "metadata": {},
   "outputs": [
    {
     "name": "stdout",
     "output_type": "stream",
     "text": [
      "0.8640000224113464\n"
     ]
    }
   ],
   "source": [
    "loss,accuracy=model.evaluate(x_val,y_val_encoded,verbose=0)\n",
    "print(accuracy)"
   ]
  },
  {
   "cell_type": "code",
   "execution_count": 29,
   "metadata": {},
   "outputs": [],
   "source": [
    "x_test=x_test/255\n",
    "y_test_encoded=tf.keras.utils.to_categorical(y_test)\n",
    "#loss,accuracy=model.evaluate(x_test,y_test_encoded)\n",
    "#print(accuracy)"
   ]
  },
  {
   "cell_type": "code",
   "execution_count": 30,
   "metadata": {},
   "outputs": [
    {
     "name": "stdout",
     "output_type": "stream",
     "text": [
      "[3 7]\n",
      "[4 6]\n",
      "[1 1]\n",
      "6\n",
      "[0 1 2]\n"
     ]
    }
   ],
   "source": [
    "a=np.array([[1,2],[3,4]])\n",
    "print(np.sum(a,axis=1))\n",
    "print(np.sum(a,axis=0))\n",
    "print(np.argmax(a,axis=1)) #1차원 배열이면?\n",
    "b=np.array([[1,2,3],[4,5,6]])\n",
    "c=np.array([[1,0,0],[0,1,0]])\n",
    "print(np.sum(b*c))\n",
    "d=[[1,3],[2,2],[3,4]]\n",
    "indexes=np.random.permutation(np.arange(len(d)))\n",
    "#d(indexes)\n",
    "print(indexes)"
   ]
  },
  {
   "cell_type": "code",
   "execution_count": 31,
   "metadata": {},
   "outputs": [
    {
     "name": "stdout",
     "output_type": "stream",
     "text": [
      "(48000, 784, 1)\n",
      "(48000, 784)\n",
      "[[[1]\n",
      "  [2]]\n",
      "\n",
      " [[3]\n",
      "  [4]]]\n",
      "[[1 2]\n",
      " [3 4]]\n",
      "[[3]\n",
      " [7]]\n",
      "[[4]\n",
      " [6]]\n",
      "(2, 2, 1) (2, 2)\n"
     ]
    }
   ],
   "source": [
    "print(x_train.reshape(48000,-1,1).shape)\n",
    "print(x_train.shape)\n",
    "a=np.array([[[1],[2]],[[3],[4]]])\n",
    "print(a)\n",
    "print(np.sum(a,axis=2))\n",
    "print(np.sum(a,axis=1))\n",
    "print(np.sum(a,axis=0))\n",
    "a1=np.array([[1,2],[3,4]])\n",
    "print(a.shape,a1.shape)"
   ]
  },
  {
   "cell_type": "code",
   "execution_count": 32,
   "metadata": {},
   "outputs": [
    {
     "name": "stdout",
     "output_type": "stream",
     "text": [
      "(4, 1)\n",
      "(4,)\n",
      "(2, 2, 1)\n"
     ]
    }
   ],
   "source": [
    "a=np.array([[1,2],[3,4]])\n",
    "a=a.reshape(-1,1)\n",
    "print(a.shape)\n",
    "b=np.array([1,2,3,4])\n",
    "print(b.shape)\n",
    "c=np.array([[[1],[2]],[[3],[4]]])\n",
    "print(c.shape)"
   ]
  },
  {
   "cell_type": "code",
   "execution_count": null,
   "metadata": {},
   "outputs": [],
   "source": []
  }
 ],
 "metadata": {
  "kernelspec": {
   "display_name": "Python 3",
   "language": "python",
   "name": "python3"
  },
  "language_info": {
   "codemirror_mode": {
    "name": "ipython",
    "version": 3
   },
   "file_extension": ".py",
   "mimetype": "text/x-python",
   "name": "python",
   "nbconvert_exporter": "python",
   "pygments_lexer": "ipython3",
   "version": "3.8.5"
  }
 },
 "nbformat": 4,
 "nbformat_minor": 4
}
