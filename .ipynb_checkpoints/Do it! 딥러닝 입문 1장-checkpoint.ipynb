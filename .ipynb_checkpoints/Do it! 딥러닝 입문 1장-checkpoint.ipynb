{
 "cells": [
  {
   "cell_type": "markdown",
   "metadata": {},
   "source": [
    "# 01 딥러닝을 소개합니다."
   ]
  },
  {
   "cell_type": "raw",
   "metadata": {},
   "source": [
    "1-1. 인공지능\n",
    "-strong AI vs weak AI\n",
    "-현재는 모두 약 인공지능이다.\n",
    "-머신러닝 중 인공신경망 알고리즘을 사용한 것이 딥러닝\n",
    "\n",
    "1-2. 머신러닝\n",
    "-데이터의 규칙을 '스스로' 학습(훈련)한다.\n",
    "-지도 학습(supervised learning) vs 비지도 학습(unsupervised learning) vs 강화 학습(reinforcement learning)\n",
    "-머신러닝의 대부분은 supervised learning이다.\n",
    "-supervised learning : 훈련data = input + target => model 생성\n",
    "-unsupervised learning : 훈련data = only input not target, clustering(군집), 모델의 훈련 결과를 평가하기 어렵다.\n",
    "-reinforcement learning : feedback, 최대한 많은 보상을 받는 것이 목표\n",
    "-model = mathematical representation of machine learning \n",
    "-model paramater = 가중치 + 절편\n",
    "\n",
    "1-3. 딥러닝\n",
    "-인공신경망을 여러 겹 쌓은 것이 deep learning\n",
    "-머신은 정형화된 데이터에 관한 문제를 잘 해결, 딥은 이미지, 음성, 텍스트처럼 '인지'와 관련된 문제를 잘 해결"
   ]
  }
 ],
 "metadata": {
  "kernelspec": {
   "display_name": "Python 3",
   "language": "python",
   "name": "python3"
  },
  "language_info": {
   "codemirror_mode": {
    "name": "ipython",
    "version": 3
   },
   "file_extension": ".py",
   "mimetype": "text/x-python",
   "name": "python",
   "nbconvert_exporter": "python",
   "pygments_lexer": "ipython3",
   "version": "3.8.5"
  }
 },
 "nbformat": 4,
 "nbformat_minor": 4
}
