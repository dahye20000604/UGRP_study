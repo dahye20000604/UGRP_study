{
 "cells": [
  {
   "cell_type": "code",
   "execution_count": 1,
   "metadata": {},
   "outputs": [],
   "source": [
    "import matplotlib.pyplot as plt\n",
    "import numpy as np\n",
    "from sklearn.datasets import load_breast_cancer\n",
    "cancer=load_breast_cancer()"
   ]
  },
  {
   "cell_type": "code",
   "execution_count": 2,
   "metadata": {},
   "outputs": [
    {
     "name": "stdout",
     "output_type": "stream",
     "text": [
      "(569, 30) (569,)\n"
     ]
    }
   ],
   "source": [
    "print(cancer.data.shape, cancer.target.shape)\n",
    "#569개의 샘플, 30개의 특성"
   ]
  },
  {
   "cell_type": "code",
   "execution_count": 3,
   "metadata": {},
   "outputs": [
    {
     "data": {
      "text/plain": [
       "array([[1.799e+01, 1.038e+01, 1.228e+02, 1.001e+03, 1.184e-01, 2.776e-01,\n",
       "        3.001e-01, 1.471e-01, 2.419e-01, 7.871e-02, 1.095e+00, 9.053e-01,\n",
       "        8.589e+00, 1.534e+02, 6.399e-03, 4.904e-02, 5.373e-02, 1.587e-02,\n",
       "        3.003e-02, 6.193e-03, 2.538e+01, 1.733e+01, 1.846e+02, 2.019e+03,\n",
       "        1.622e-01, 6.656e-01, 7.119e-01, 2.654e-01, 4.601e-01, 1.189e-01],\n",
       "       [2.057e+01, 1.777e+01, 1.329e+02, 1.326e+03, 8.474e-02, 7.864e-02,\n",
       "        8.690e-02, 7.017e-02, 1.812e-01, 5.667e-02, 5.435e-01, 7.339e-01,\n",
       "        3.398e+00, 7.408e+01, 5.225e-03, 1.308e-02, 1.860e-02, 1.340e-02,\n",
       "        1.389e-02, 3.532e-03, 2.499e+01, 2.341e+01, 1.588e+02, 1.956e+03,\n",
       "        1.238e-01, 1.866e-01, 2.416e-01, 1.860e-01, 2.750e-01, 8.902e-02],\n",
       "       [1.969e+01, 2.125e+01, 1.300e+02, 1.203e+03, 1.096e-01, 1.599e-01,\n",
       "        1.974e-01, 1.279e-01, 2.069e-01, 5.999e-02, 7.456e-01, 7.869e-01,\n",
       "        4.585e+00, 9.403e+01, 6.150e-03, 4.006e-02, 3.832e-02, 2.058e-02,\n",
       "        2.250e-02, 4.571e-03, 2.357e+01, 2.553e+01, 1.525e+02, 1.709e+03,\n",
       "        1.444e-01, 4.245e-01, 4.504e-01, 2.430e-01, 3.613e-01, 8.758e-02]])"
      ]
     },
     "execution_count": 3,
     "metadata": {},
     "output_type": "execute_result"
    }
   ],
   "source": [
    "#처음 새개의 특성 print\n",
    "cancer.data[:3]"
   ]
  },
  {
   "cell_type": "code",
   "execution_count": 4,
   "metadata": {},
   "outputs": [
    {
     "data": {
      "image/png": "[encoded data removed]",
      "text/plain": [
       "<Figure size 432x288 with 1 Axes>"
      ]
     },
     "metadata": {
      "needs_background": "light"
     },
     "output_type": "display_data"
    }
   ],
   "source": [
    "plt.boxplot(cancer.data)\n",
    "plt.xlabel('feature')\n",
    "plt.ylabel('value')\n",
    "plt.show()"
   ]
  },
  {
   "cell_type": "code",
   "execution_count": 5,
   "metadata": {},
   "outputs": [
    {
     "data": {
      "text/plain": [
       "array(['mean area', 'area error', 'worst area'], dtype='<U23')"
      ]
     },
     "execution_count": 5,
     "metadata": {},
     "output_type": "execute_result"
    }
   ],
   "source": [
    "cancer.feature_names[[3,13,23]] #4,14,24 번째 특성 확인"
   ]
  },
  {
   "cell_type": "code",
   "execution_count": 6,
   "metadata": {},
   "outputs": [
    {
     "data": {
      "text/plain": [
       "(array([0, 1]), array([212, 357], dtype=int64))"
      ]
     },
     "execution_count": 6,
     "metadata": {},
     "output_type": "execute_result"
    }
   ],
   "source": [
    "np.unique(cancer.target, return_counts=True) #0(음성생플_양성종양): 212개, 1(양성샘플_악성종양): 357개"
   ]
  },
  {
   "cell_type": "code",
   "execution_count": 7,
   "metadata": {},
   "outputs": [],
   "source": [
    "#데이터 세트 지정\n",
    "x=cancer.data\n",
    "y=cancer.target"
   ]
  },
  {
   "cell_type": "code",
   "execution_count": 8,
   "metadata": {},
   "outputs": [],
   "source": [
    "from sklearn.model_selection import train_test_split\n",
    "x_train, x_test, y_train, y_test = train_test_split(x, y, stratify=y, test_size=0.2, random_state=42)\n",
    "#stratify=y :훈련 데이터를 나눌 때 클래스 비율을 동일하게 만들어줌\n",
    "#test_size=0.2 (80:20)으로 (훈련, 테스트) 세트로 나눔\n",
    "#random_state 를 숫자로 지정하여 항상 무작위로 나누는 결과가 항상 일정하도록"
   ]
  },
  {
   "cell_type": "code",
   "execution_count": 9,
   "metadata": {},
   "outputs": [
    {
     "name": "stdout",
     "output_type": "stream",
     "text": [
      "(455, 30) (114, 30)\n"
     ]
    }
   ],
   "source": [
    "print(x_train.shape, x_test.shape)\n",
    "#test_size=0.2 로 4:1 비율로 훈련, 테스트 세트 나눔. 뒤에 30은 특성의 개수"
   ]
  },
  {
   "cell_type": "code",
   "execution_count": 10,
   "metadata": {},
   "outputs": [
    {
     "data": {
      "text/plain": [
       "(array([0, 1]), array([170, 285], dtype=int64))"
      ]
     },
     "execution_count": 10,
     "metadata": {},
     "output_type": "execute_result"
    }
   ],
   "source": [
    "np.unique(y_train, return_counts=True) #train data 의 음성 양성 데이터 비율=훈련데이터세트 전체의 음성 양성 데이터 비율"
   ]
  },
  {
   "cell_type": "code",
   "execution_count": 11,
   "metadata": {},
   "outputs": [],
   "source": [
    "class LogisticNeuron:\n",
    "    def __init__(self):\n",
    "        self.w=None\n",
    "        self.b=None\n",
    "    def forpass(self, x):\n",
    "        z=np.sum(x*self.w)+self.b\n",
    "        return z\n",
    "    def backprop(self, x, err):\n",
    "        w_grad=x*err\n",
    "        b_grad=1*err\n",
    "        return w_grad, b_grad\n",
    "    def activation(self, z):\n",
    "        a=1/(1+np.exp(-z))\n",
    "        return a\n",
    "    def fit(self, x, y, epochs=100):\n",
    "        self.w=np.ones(x.shape[1])\n",
    "        self.b=0\n",
    "        for i in range (epochs):\n",
    "            for x_i, y_i in zip(x,y):\n",
    "                z=self.forpass(x_i)\n",
    "                a=self.activation(z)\n",
    "                err=-(y_i-a)\n",
    "                w_grad, b_grad=self.backprop(x_i, err)\n",
    "                self.w-=w_grad\n",
    "                self.b-=b_grad\n",
    "    def predict(self, x):\n",
    "        z=[self.forpass(x_i) for x_i in x]\n",
    "        a=self.activation(np.array(z))\n",
    "        return a>0.5 "
   ]
  },
  {
   "cell_type": "code",
   "execution_count": 12,
   "metadata": {},
   "outputs": [
    {
     "name": "stderr",
     "output_type": "stream",
     "text": [
      "<ipython-input-11-acc0ce11a812>:13: RuntimeWarning: overflow encountered in exp\n",
      "  a=1/(1+np.exp(-z))\n"
     ]
    }
   ],
   "source": [
    "neuron=LogisticNeuron()\n",
    "neuron.fit(x_train, y_train)"
   ]
  },
  {
   "cell_type": "code",
   "execution_count": 13,
   "metadata": {},
   "outputs": [
    {
     "name": "stderr",
     "output_type": "stream",
     "text": [
      "<ipython-input-11-acc0ce11a812>:13: RuntimeWarning: overflow encountered in exp\n",
      "  a=1/(1+np.exp(-z))\n"
     ]
    },
    {
     "data": {
      "text/plain": [
       "0.8245614035087719"
      ]
     },
     "execution_count": 13,
     "metadata": {},
     "output_type": "execute_result"
    }
   ],
   "source": [
    "np.mean(neuron.predict(x_test)==y_test)"
   ]
  },
  {
   "cell_type": "code",
   "execution_count": 16,
   "metadata": {},
   "outputs": [],
   "source": [
    "#단일층 신경망\n",
    "class SingleLayer:\n",
    "    def __init__(self):\n",
    "        self.w=None\n",
    "        self.b=None\n",
    "        self.losses=[] \n",
    "        #손실함수의 결과값을 저장하는 리스트 생성( 각 에포크마다 저장 )\n",
    "    def forpass(self,x): \n",
    "        z=np.sum(x*self.w)+self.b #직선 방정식 계산\n",
    "        return z\n",
    "    def backprop(self,x,err):\n",
    "        w_grad=x*err #가중치에 대한 그레디언트 계산\n",
    "        b_grad=1*err #절편에 대한 그레디언트 계산\n",
    "        return w_grad, b_grad\n",
    "    def activation(self,z):\n",
    "        a=1/(1+np.exp(-z)) \n",
    "        #활성화함수 계산 (로지스틱 회귀는 시그모이드 함수 이용)\n",
    "        return a\n",
    "    def fit(self,x,y,epochs=100):\n",
    "        self.w=np.ones(x.shape[1])\n",
    "        self.b=0 \n",
    "        #가중치와 절편 초기화\n",
    "        for i in range (epochs):\n",
    "            loss=0\n",
    "            indexes=np.random.permutation(np.arange(len(x)))\n",
    "            #매 에포크마다 훈련 세트의 샘플 순서를 섞어서 사용\n",
    "            #넘파이 배열의 인덱스를 섞은 후 인덱스 순서대로 샘플을 뽑음\n",
    "            #가중치의 최적값의 탐색 과정이 다양해서 가중치의 최적값을 제대로 찾을 수 있음\n",
    "            for i in indexes: #모든 샘플에 대하여 반복\n",
    "                z=self.forpass(x[i]) #정방형 계산\n",
    "                a=self.activation(z) #활성화 함수 적용\n",
    "                err=-(y[i]-a) # 오차계산 \n",
    "                w_grad, b_grad=self.backprop(x[i],err) #역방형 계산\n",
    "                self.w-=w_grad #가중치 업데이트\n",
    "                self.b-=b_grad #절편 업데이트\n",
    "                a=np.clip(a, 1e-10, 1-1e-10) #안전한 로그 계산을 위해서 클리핑 후\n",
    "                loss+=-(y[i]*np.log(a)+(1-y[i])*np.log(1-a)) # 손실 누적\n",
    "            self.losses.append(loss/len(y))1 #각 에포크마다 평균 손실 계산하여 저장\n",
    "    def predict(self, x):\n",
    "        z=[self.forpass(x_i) for x_i in x] #forpass의 결과를 새 리스트로 생성\n",
    "        #시그모이드 함수의 출력값은 0에서 1사이, z가 양수냐 음수냐에 따라 \n",
    "        #출력값은 두개로 나뉨, 따라서 굳이 시그모이드 함수의 출력값으로 갈 필요 없음\n",
    "        return np.array(z)>0\n",
    "    def score(self, x, y):\n",
    "        return np.mean(self.predict(x)==y)"
   ]
  },
  {
   "cell_type": "code",
   "execution_count": 17,
   "metadata": {},
   "outputs": [
    {
     "name": "stderr",
     "output_type": "stream",
     "text": [
      "<ipython-input-16-4dffe219e317>:15: RuntimeWarning: overflow encountered in exp\n",
      "  a=1/(1+np.exp(-z))\n"
     ]
    },
    {
     "data": {
      "text/plain": [
       "0.9122807017543859"
      ]
     },
     "execution_count": 17,
     "metadata": {},
     "output_type": "execute_result"
    }
   ],
   "source": [
    "layer=SingleLayer()\n",
    "layer.fit(x_train, y_train)\n",
    "layer.score(x_test,y_test)"
   ]
  },
  {
   "cell_type": "code",
   "execution_count": 18,
   "metadata": {},
   "outputs": [
    {
     "data": {
      "image/png": "[encoded data removed]",
      "text/plain": [
       "<Figure size 432x288 with 1 Axes>"
      ]
     },
     "metadata": {
      "needs_background": "light"
     },
     "output_type": "display_data"
    }
   ],
   "source": [
    "plt.plot(layer.losses)\n",
    "plt.xlabel('epoch')\n",
    "plt.ylabel('loss')\n",
    "plt.show()"
   ]
  },
  {
   "cell_type": "code",
   "execution_count": 21,
   "metadata": {},
   "outputs": [
    {
     "data": {
      "text/plain": [
       "0.8333333333333334"
      ]
     },
     "execution_count": 21,
     "metadata": {},
     "output_type": "execute_result"
    }
   ],
   "source": [
    "#사이킷런으로 로지스틱 회귀 수행\n",
    "from sklearn.linear_model import SGDClassifier\n",
    "sgd=SGDClassifier(loss='log', max_iter=100, tol=1e-3, random_state=42)\n",
    "#max_iter로 최대 반복횟수 설정, tol에 지정한 값만큼 감소되지 않으면 반복을 중단함\n",
    "#최적값으로 수렴할 정도의 반복 횟수인지 알려주는 역할->tol\n",
    "sgd.fit(x_train, y_train)\n",
    "sgd.score(x_test, y_test)"
   ]
  },
  {
   "cell_type": "code",
   "execution_count": 22,
   "metadata": {},
   "outputs": [
    {
     "data": {
      "text/plain": [
       "array([0, 1, 0, 0, 0, 0, 1, 0, 0, 0])"
      ]
     },
     "execution_count": 22,
     "metadata": {},
     "output_type": "execute_result"
    }
   ],
   "source": [
    "sgd.predict(x_test[0:10])"
   ]
  }
 ],
 "metadata": {
  "kernelspec": {
   "display_name": "Python 3",
   "language": "python",
   "name": "python3"
  },
  "language_info": {
   "codemirror_mode": {
    "name": "ipython",
    "version": 3
   },
   "file_extension": ".py",
   "mimetype": "text/x-python",
   "name": "python",
   "nbconvert_exporter": "python",
   "pygments_lexer": "ipython3",
   "version": "3.8.5"
  }
 },
 "nbformat": 4,
 "nbformat_minor": 4
}
