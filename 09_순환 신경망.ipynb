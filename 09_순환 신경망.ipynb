{
 "cells": [
  {
   "cell_type": "code",
   "execution_count": 1,
   "metadata": {},
   "outputs": [
    {
     "name": "stderr",
     "output_type": "stream",
     "text": [
      "<__array_function__ internals>:5: VisibleDeprecationWarning: Creating an ndarray from ragged nested sequences (which is a list-or-tuple of lists-or-tuples-or ndarrays with different lengths or shapes) is deprecated. If you meant to do this, you must specify 'dtype=object' when creating the ndarray\n",
      "C:\\Users\\Uijeong\\AppData\\Roaming\\Python\\Python38\\site-packages\\tensorflow\\python\\keras\\datasets\\imdb.py:159: VisibleDeprecationWarning: Creating an ndarray from ragged nested sequences (which is a list-or-tuple of lists-or-tuples-or ndarrays with different lengths or shapes) is deprecated. If you meant to do this, you must specify 'dtype=object' when creating the ndarray\n",
      "  x_train, y_train = np.array(xs[:idx]), np.array(labels[:idx])\n",
      "C:\\Users\\Uijeong\\AppData\\Roaming\\Python\\Python38\\site-packages\\tensorflow\\python\\keras\\datasets\\imdb.py:160: VisibleDeprecationWarning: Creating an ndarray from ragged nested sequences (which is a list-or-tuple of lists-or-tuples-or ndarrays with different lengths or shapes) is deprecated. If you meant to do this, you must specify 'dtype=object' when creating the ndarray\n",
      "  x_test, y_test = np.array(xs[idx:]), np.array(labels[idx:])\n"
     ]
    }
   ],
   "source": [
    "import numpy as np\n",
    "from tensorflow.keras.datasets import imdb\n",
    "\n",
    "(x_train_all, y_train_all),(x_test, y_test)=imdb.load_data(skip_top=20, num_words=100)"
   ]
  },
  {
   "cell_type": "code",
   "execution_count": 2,
   "metadata": {},
   "outputs": [
    {
     "name": "stdout",
     "output_type": "stream",
     "text": [
      "(25000,) (25000,)\n"
     ]
    }
   ],
   "source": [
    "print(x_train_all.shape, y_train_all.shape)"
   ]
  },
  {
   "cell_type": "code",
   "execution_count": 3,
   "metadata": {},
   "outputs": [
    {
     "name": "stdout",
     "output_type": "stream",
     "text": [
      "[2, 2, 22, 2, 43, 2, 2, 2, 2, 65, 2, 2, 66, 2, 2, 2, 36, 2, 2, 25, 2, 43, 2, 2, 50, 2, 2, 2, 35, 2, 2, 2, 2, 2, 2, 2, 2, 2, 2, 2, 39, 2, 2, 2, 2, 2, 2, 38, 2, 2, 2, 2, 50, 2, 2, 2, 2, 2, 2, 22, 2, 2, 2, 2, 2, 22, 71, 87, 2, 2, 43, 2, 38, 76, 2, 2, 2, 2, 22, 2, 2, 2, 2, 2, 2, 2, 2, 2, 62, 2, 2, 2, 2, 2, 2, 2, 2, 2, 2, 2, 2, 66, 2, 33, 2, 2, 2, 2, 38, 2, 2, 25, 2, 51, 36, 2, 48, 25, 2, 33, 2, 22, 2, 2, 28, 77, 52, 2, 2, 2, 2, 82, 2, 2, 2, 2, 2, 2, 2, 2, 2, 2, 2, 2, 2, 2, 36, 71, 43, 2, 2, 26, 2, 2, 46, 2, 2, 2, 2, 2, 2, 88, 2, 2, 2, 2, 98, 32, 2, 56, 26, 2, 2, 2, 2, 2, 2, 2, 22, 21, 2, 2, 26, 2, 2, 2, 30, 2, 2, 51, 36, 28, 2, 92, 25, 2, 2, 2, 65, 2, 38, 2, 88, 2, 2, 2, 2, 2, 2, 2, 2, 32, 2, 2, 2, 2, 2, 32]\n"
     ]
    }
   ],
   "source": [
    "print(x_train_all[0]) #2는 어휘사전에 없는 단어를 의미, 가장 많이 등장하는 영단어 20개를 건너뛰었기 때문"
   ]
  },
  {
   "cell_type": "code",
   "execution_count": 4,
   "metadata": {},
   "outputs": [
    {
     "name": "stdout",
     "output_type": "stream",
     "text": [
      "[22, 43, 65, 66, 36, 25, 43, 50, 35, 39, 38, 50, 22, 22, 71, 87, 43, 38, 76, 22, 62, 66, 33, 38, 25, 51, 36, 48, 25, 33, 22, 28, 77, 52, 82, 36, 71, 43, 26, 46, 88, 98, 32, 56, 26, 22, 21, 26, 30, 51, 36, 28, 92, 25, 65, 38, 88, 32, 32]\n"
     ]
    }
   ],
   "source": [
    "#2제외\n",
    "for i in range (len(x_train_all)):\n",
    "    x_train_all[i]=[w for w in x_train_all[i] if w>2]\n",
    "    \n",
    "print(x_train_all[0])"
   ]
  },
  {
   "cell_type": "code",
   "execution_count": 5,
   "metadata": {},
   "outputs": [
    {
     "data": {
      "text/plain": [
       "17"
      ]
     },
     "execution_count": 5,
     "metadata": {},
     "output_type": "execute_result"
    }
   ],
   "source": [
    "word_to_index=imdb.get_word_index()\n",
    "word_to_index['movie']"
   ]
  },
  {
   "cell_type": "code",
   "execution_count": 6,
   "metadata": {},
   "outputs": [
    {
     "name": "stdout",
     "output_type": "stream",
     "text": [
      "film just story really they you just there an from so there film film were great just so much film would really at so you what they if you at film have been good also they were just are out because them all up are film but are be what they have don't you story so because all all "
     ]
    }
   ],
   "source": [
    "index_to_word={word_to_index[k]: k for k in word_to_index}\n",
    "\n",
    "for w in x_train_all[0]:\n",
    "    print(index_to_word[w-3], end=' ')"
   ]
  },
  {
   "cell_type": "code",
   "execution_count": 7,
   "metadata": {},
   "outputs": [
    {
     "name": "stdout",
     "output_type": "stream",
     "text": [
      "59 32\n"
     ]
    }
   ],
   "source": [
    "print(len(x_train_all[0]), len(x_train_all[1]))"
   ]
  },
  {
   "cell_type": "code",
   "execution_count": 8,
   "metadata": {},
   "outputs": [
    {
     "name": "stdout",
     "output_type": "stream",
     "text": [
      "[1 0 0 1 0 0 1 0 1 0]\n"
     ]
    }
   ],
   "source": [
    "print(y_train_all[:10]) #1:긍정, 2:부정"
   ]
  },
  {
   "cell_type": "code",
   "execution_count": 9,
   "metadata": {},
   "outputs": [],
   "source": [
    "np.random.seed(42)\n",
    "random_index=np.random.permutation(25000)\n",
    "\n",
    "x_train=x_train_all[random_index[:20000]]\n",
    "y_train=y_train_all[random_index[:20000]]\n",
    "x_val=x_train_all[random_index[20000:]]\n",
    "y_val=y_train_all[random_index[20000:]]"
   ]
  },
  {
   "cell_type": "code",
   "execution_count": 10,
   "metadata": {},
   "outputs": [],
   "source": [
    "# 샘플의 길이 맞추는 작업\n",
    "import tensorflow as tf\n",
    "from tensorflow.keras.preprocessing import sequence\n",
    "\n",
    "maxlen=100\n",
    "x_train_seq=sequence.pad_sequences(x_train, maxlen=maxlen)\n",
    "x_val_seq=sequence.pad_sequences(x_val, maxlen=maxlen)"
   ]
  },
  {
   "cell_type": "code",
   "execution_count": 11,
   "metadata": {},
   "outputs": [
    {
     "name": "stdout",
     "output_type": "stream",
     "text": [
      "(20000, 100) (5000, 100)\n"
     ]
    }
   ],
   "source": [
    "print(x_train_seq.shape, x_val_seq.shape)"
   ]
  },
  {
   "cell_type": "code",
   "execution_count": 12,
   "metadata": {},
   "outputs": [
    {
     "name": "stdout",
     "output_type": "stream",
     "text": [
      "[ 0  0  0  0  0  0  0  0  0  0  0  0  0  0  0  0  0  0  0  0  0  0  0  0\n",
      "  0  0  0  0  0  0  0  0  0  0  0  0  0  0  0  0  0  0  0  0  0  0  0  0\n",
      "  0  0  0  0  0  0  0  0  0  0  0  0  0  0 35 40 27 28 40 22 83 31 85 45\n",
      " 24 23 31 70 31 76 30 98 32 22 28 51 75 56 30 33 97 53 38 46 53 74 31 35\n",
      " 23 34 22 58]\n"
     ]
    }
   ],
   "source": [
    "print(x_train_seq[0])"
   ]
  },
  {
   "cell_type": "code",
   "execution_count": 13,
   "metadata": {},
   "outputs": [],
   "source": [
    "#원-핫 인코딩\n",
    "from tensorflow.keras.utils import to_categorical\n",
    "\n",
    "x_train_onehot=to_categorical(x_train_seq)\n",
    "x_val_onehot=to_categorical(x_val_seq)"
   ]
  },
  {
   "cell_type": "code",
   "execution_count": 14,
   "metadata": {},
   "outputs": [
    {
     "name": "stdout",
     "output_type": "stream",
     "text": [
      "(20000, 100, 100)\n"
     ]
    }
   ],
   "source": [
    "print(x_train_onehot.shape)"
   ]
  },
  {
   "cell_type": "code",
   "execution_count": 15,
   "metadata": {},
   "outputs": [
    {
     "name": "stdout",
     "output_type": "stream",
     "text": [
      "800000000\n"
     ]
    }
   ],
   "source": [
    "print(x_train_onehot.nbytes)"
   ]
  },
  {
   "cell_type": "code",
   "execution_count": 46,
   "metadata": {},
   "outputs": [],
   "source": [
    "class RecurrentNetwork:\n",
    "    def __init__(self, n_cells=10, batch_size=32, learning_rate=0.1):       \n",
    "        self.n_cells=n_cells # 셀 개수\n",
    "        self.batch_size=batch_size\n",
    "        self.w1h=None #은닉 상태에 대한 가중치\n",
    "        self.w1x=None #입력에 대한 가중치\n",
    "        self.b1=None #순환층의 절편\n",
    "        self.w2=None #출력층의 가중치\n",
    "        self.b2=None #출력층의 절편\n",
    "        self.h=None #순환층의 활성화 출력\n",
    "        self.losses=[] \n",
    "        self.val_losses=[]\n",
    "        self.lr=learning_rate\n",
    "    def forpass(self,x):\n",
    "        self.h=[np.zeros((x.shape[0], self.n_cells))] #은닉상태 초기화 크기:(샘플 개수, 셀 개수)\n",
    "        # 배치 차원과 타임 스텝 차원을 바꾼다\n",
    "        seq=np.swapaxes(x,0,1)\n",
    "        # 순환층의 선형식을 계산한다.\n",
    "        for x in seq:\n",
    "            z1 = np.dot(x, self.w1x)+np.dot(self.h[-1], self.w1h)+self.b1  # 첫번째 층의 선형식을 계산합니다.\n",
    "            h = np.tanh(z1) # 활성화 함수를 적용\n",
    "            self.h.append(h) #역전파를 위해 은닉 상태 저장\n",
    "            z2 = np.dot(h, self.w2) + self.b2   # 두번째 층의 선형식을 계산합니다.\n",
    "        return z2\n",
    "    def backprop(self,x,err):\n",
    "        m=len(x)\n",
    "        #출력층의 가중치와 절편에 대한 그레이디언트 계산\n",
    "        w2_grad=np.dot(self.h[-1].T,err)/m\n",
    "        b2_grad=np.sum(err)/m\n",
    "        #배치차원과 타임스텝 차원을 바꿈\n",
    "        seq=np.swapaxes(x,0,1)\n",
    "        \n",
    "        w1h_grad=w1x_grad=b1_grad=0\n",
    "        #셀 직전까지 그레이디언트 계산\n",
    "        err_to_cell=np.dot(err, self.w2.T)*(1-self.h[-1]**2)\n",
    "        #모든 타임 스텝을 거슬러 가면서 그레이디언트 전파\n",
    "        for x,h in zip(seq[::-1][:10], self.h[:-1][::-1][:10]):\n",
    "            w1h_grad+=np.dot(h.T, err_to_cell)\n",
    "            w1x_grad+=np.dot(x.T, err_to_cell)\n",
    "            b1_grad+=np.sum(err_to_cell, axis=0)\n",
    "            #이전 타임 스텝의 셀 직전까지 그레이디언트 계산\n",
    "            err_to_cell=np.dot(err_to_cell, self.w1h)*(1-h**2)\n",
    "        w1h_grad/=m\n",
    "        w1x_grad/=m\n",
    "        b1_grad/=m\n",
    "        return w1h_grad, w1x_grad,b1_grad,w2_grad,b2_grad\n",
    "    def sigmoid(self,z):\n",
    "        a=1/(1+np.exp(-z))\n",
    "        return a\n",
    "    def init_weights(self, n_features, n_classes):\n",
    "        orth_init=tf.initializers.Orthogonal()\n",
    "        glorot_init=tf.initializers.GlorotUniform()\n",
    "        self.w1h=orth_init((self.n_cells, self.n_cells)).numpy()\n",
    "        self.w1x=glorot_init((n_features, self.n_cells)).numpy()   \n",
    "        self.b1=np.zeros(self.n_cells) \n",
    "        self.w2=glorot_init((self.n_cells, n_classes)).numpy()        \n",
    "        self.b2=np.zeros(n_classes)  # 클래스 개수\n",
    "\n",
    "    def fit(self, x, y, epochs=100, x_val=None, y_val=None):\n",
    "        y=y.reshape(-1,1)\n",
    "        y_val=y_val.reshape(-1,1)\n",
    "        np.random.seed(42)\n",
    "        self.init_weights(x.shape[2], y.shape[1])\n",
    "        # epochs만큼 반복합니다.\n",
    "        for i in range(epochs):\n",
    "            print('에포크', i, end=' ')\n",
    "            # 제너레이터 함수에서 반환한 미니 배치를 순환합니다.\n",
    "            batch_losses=[]\n",
    "            for x_batch, y_batch in self.gen_batch(x,y):\n",
    "                print('.', end='')\n",
    "                a= self.training(x_batch, y_batch)\n",
    "                \n",
    "                a=np.clip(a, 1e-10, 1-1e-10) #안전한 로그 계산을 위해서 클리핑 후\n",
    "                loss=np.mean(-(y_batch*np.log(a)+(1-y_batch)*np.log(1-a))) # 손실 누적\n",
    "                # 배치 손실을 기록합니다.\n",
    "                batch_losses.append(loss)\n",
    "            print()\n",
    "            # 배치 손실 평균 내어 훈련 손실값으로 저장합니다.\n",
    "            self.losses.append(np.mean(batch_losses))\n",
    "            # 검증 세트에 대한 손실을 계산합니다.\n",
    "            self.update_val_loss(x_val, y_val)\n",
    "    # 미니 배치 제너레이터 함수\n",
    "    def gen_batch(self,x,y):\n",
    "        length=len(x)\n",
    "        bins=length//self.batch_size\n",
    "        if length % self.batch_size:\n",
    "            bins+=1\n",
    "        indexes=np.random.permutation(np.arange(len(x)))\n",
    "        x=x[indexes]\n",
    "        y=y[indexes]\n",
    "        for i in range(bins):\n",
    "            start=self.batch_size*i\n",
    "            end=self.batch_size*(i+1)\n",
    "            yield x[start:end], y[start:end]\n",
    "    def training(self,x,y):\n",
    "        m=len(x)\n",
    "        z=self.forpass(x) #정방형 계산\n",
    "        a=self.sigmoid(z) #활성화 함수 적용\n",
    "        err=-(y-a) # 오차계산 \n",
    "        w1h_grad,w1x_grad, b1_grad, w2_grad, b2_grad=self.backprop(x,err) #역방형 계산\n",
    "        #셀의 가중치와 절편 업데이트\n",
    "        self.w1h-=self.lr*w1h_grad\n",
    "        self.w1x-=self.lr*w1x_grad\n",
    "        self.b1-=self.lr*b1_grad\n",
    "        #출력층의 가중치와 절편 업데이트\n",
    "        self.w2-=self.lr*w2_grad \n",
    "        self.b2-=self.lr*b2_grad \n",
    "        return a\n",
    "    def update_val_loss(self,x_val, y_val):\n",
    "        z=self.forpass(x_val) #정방형 계산\n",
    "        a=self.sigmoid(z)\n",
    "        a=np.clip(a, 1e-10, 1-1e-10)\n",
    "        val_loss=np.mean(-(y_val*np.log(a)+(1-y_val)*np.log(1-a)))\n",
    "        self.val_losses.append(val_loss)\n",
    "    def predict(self, x):\n",
    "        z = self.forpass(x)                 # 정방향 계산을 수행합니다.\n",
    "        return z>0 # 가장 큰 값의 인덱스를 반환합니다.\n",
    "    def score(self, x, y):\n",
    "        # 예측과 타깃 열 벡터를 비교하여 True의 비율을 반환합니다.\n",
    "        return np.mean(self.predict(x)==y.reshape(-1,1))"
   ]
  },
  {
   "cell_type": "code",
   "execution_count": 47,
   "metadata": {},
   "outputs": [
    {
     "name": "stdout",
     "output_type": "stream",
     "text": [
      "에포크 0 .................................................................................................................................................................................................................................................................................................................................................................................................................................................................................................................................................................................................................................................\n",
      "에포크 1 .................................................................................................................................................................................................................................................................................................................................................................................................................................................................................................................................................................................................................................................\n",
      "에포크 2 .................................................................................................................................................................................................................................................................................................................................................................................................................................................................................................................................................................................................................................................\n",
      "에포크 3 .................................................................................................................................................................................................................................................................................................................................................................................................................................................................................................................................................................................................................................................\n",
      "에포크 4 .................................................................................................................................................................................................................................................................................................................................................................................................................................................................................................................................................................................................................................................\n",
      "에포크 5 .................................................................................................................................................................................................................................................................................................................................................................................................................................................................................................................................................................................................................................................\n",
      "에포크 6 .................................................................................................................................................................................................................................................................................................................................................................................................................................................................................................................................................................................................................................................\n",
      "에포크 7 .................................................................................................................................................................................................................................................................................................................................................................................................................................................................................................................................................................................................................................................\n",
      "에포크 8 .................................................................................................................................................................................................................................................................................................................................................................................................................................................................................................................................................................................................................................................\n",
      "에포크 9 .................................................................................................................................................................................................................................................................................................................................................................................................................................................................................................................................................................................................................................................\n",
      "에포크 10 .................................................................................................................................................................................................................................................................................................................................................................................................................................................................................................................................................................................................................................................\n",
      "에포크 11 .................................................................................................................................................................................................................................................................................................................................................................................................................................................................................................................................................................................................................................................\n",
      "에포크 12 .................................................................................................................................................................................................................................................................................................................................................................................................................................................................................................................................................................................................................................................\n",
      "에포크 13 .................................................................................................................................................................................................................................................................................................................................................................................................................................................................................................................................................................................................................................................\n",
      "에포크 14 .................................................................................................................................................................................................................................................................................................................................................................................................................................................................................................................................................................................................................................................\n",
      "에포크 15 .................................................................................................................................................................................................................................................................................................................................................................................................................................................................................................................................................................................................................................................\n",
      "에포크 16 .................................................................................................................................................................................................................................................................................................................................................................................................................................................................................................................................................................................................................................................\n",
      "에포크 17 .................................................................................................................................................................................................................................................................................................................................................................................................................................................................................................................................................................................................................................................\n",
      "에포크 18 .................................................................................................................................................................................................................................................................................................................................................................................................................................................................................................................................................................................................................................................\n",
      "에포크 19 .................................................................................................................................................................................................................................................................................................................................................................................................................................................................................................................................................................................................................................................\n"
     ]
    }
   ],
   "source": [
    "rn = RecurrentNetwork(n_cells=32, batch_size=32, learning_rate=0.01)\n",
    "rn.fit(x_train_onehot, y_train, x_val=x_val_onehot, y_val=y_val, epochs=20)"
   ]
  },
  {
   "cell_type": "code",
   "execution_count": 48,
   "metadata": {},
   "outputs": [
    {
     "data": {
      "image/png": "[encoded data removed]",
      "text/plain": [
       "<Figure size 432x288 with 1 Axes>"
      ]
     },
     "metadata": {
      "needs_background": "light"
     },
     "output_type": "display_data"
    }
   ],
   "source": [
    "import matplotlib.pyplot as plt\n",
    "plt.plot(rn.losses)\n",
    "plt.plot(rn.val_losses)\n",
    "plt.xlabel('iteration')\n",
    "plt.ylabel('loss')\n",
    "plt.legend(['train loss', 'val loss'])\n",
    "plt.show()"
   ]
  },
  {
   "cell_type": "code",
   "execution_count": 49,
   "metadata": {},
   "outputs": [
    {
     "data": {
      "text/plain": [
       "0.632"
      ]
     },
     "execution_count": 49,
     "metadata": {},
     "output_type": "execute_result"
    }
   ],
   "source": [
    "rn.score(x_val_onehot, y_val)"
   ]
  },
  {
   "cell_type": "code",
   "execution_count": 21,
   "metadata": {},
   "outputs": [],
   "source": [
    "from tensorflow.keras.models import Sequential\n",
    "from tensorflow.keras.layers import Dense, SimpleRNN"
   ]
  },
  {
   "cell_type": "code",
   "execution_count": 22,
   "metadata": {},
   "outputs": [
    {
     "name": "stdout",
     "output_type": "stream",
     "text": [
      "Model: \"sequential\"\n",
      "_________________________________________________________________\n",
      "Layer (type)                 Output Shape              Param #   \n",
      "=================================================================\n",
      "simple_rnn (SimpleRNN)       (None, 32)                4256      \n",
      "_________________________________________________________________\n",
      "dense (Dense)                (None, 1)                 33        \n",
      "=================================================================\n",
      "Total params: 4,289\n",
      "Trainable params: 4,289\n",
      "Non-trainable params: 0\n",
      "_________________________________________________________________\n"
     ]
    }
   ],
   "source": [
    "model=Sequential()\n",
    "model.add(SimpleRNN(32, input_shape=(100,100)))\n",
    "model.add(Dense(1, activation='sigmoid'))\n",
    "\n",
    "model.summary()"
   ]
  },
  {
   "cell_type": "code",
   "execution_count": 23,
   "metadata": {},
   "outputs": [
    {
     "name": "stdout",
     "output_type": "stream",
     "text": [
      "Epoch 1/20\n",
      "625/625 [==============================] - 6s 9ms/step - loss: 0.7008 - accuracy: 0.5148 - val_loss: 0.6902 - val_accuracy: 0.5498\n",
      "Epoch 2/20\n",
      "625/625 [==============================] - 5s 8ms/step - loss: 0.6856 - accuracy: 0.5556 - val_loss: 0.6799 - val_accuracy: 0.5764\n",
      "Epoch 3/20\n",
      "625/625 [==============================] - 5s 8ms/step - loss: 0.6611 - accuracy: 0.6039 - val_loss: 0.6366 - val_accuracy: 0.6362\n",
      "Epoch 4/20\n",
      "625/625 [==============================] - 5s 8ms/step - loss: 0.6446 - accuracy: 0.6270 - val_loss: 0.6388 - val_accuracy: 0.6286\n",
      "Epoch 5/20\n",
      "625/625 [==============================] - 5s 8ms/step - loss: 0.6288 - accuracy: 0.6509 - val_loss: 0.6239 - val_accuracy: 0.6518\n",
      "Epoch 6/20\n",
      "625/625 [==============================] - 5s 8ms/step - loss: 0.6213 - accuracy: 0.6577 - val_loss: 0.5966 - val_accuracy: 0.6860\n",
      "Epoch 7/20\n",
      "625/625 [==============================] - 5s 8ms/step - loss: 0.6030 - accuracy: 0.6782 - val_loss: 0.6146 - val_accuracy: 0.6614\n",
      "Epoch 8/20\n",
      "625/625 [==============================] - 5s 8ms/step - loss: 0.5995 - accuracy: 0.6816 - val_loss: 0.5773 - val_accuracy: 0.7014\n",
      "Epoch 9/20\n",
      "625/625 [==============================] - 5s 8ms/step - loss: 0.5946 - accuracy: 0.6853 - val_loss: 0.6230 - val_accuracy: 0.6614\n",
      "Epoch 10/20\n",
      "625/625 [==============================] - 5s 8ms/step - loss: 0.5880 - accuracy: 0.6936 - val_loss: 0.5928 - val_accuracy: 0.6838\n",
      "Epoch 11/20\n",
      "625/625 [==============================] - 5s 9ms/step - loss: 0.5794 - accuracy: 0.7026 - val_loss: 0.5678 - val_accuracy: 0.7040\n",
      "Epoch 12/20\n",
      "625/625 [==============================] - 5s 8ms/step - loss: 0.5770 - accuracy: 0.7018 - val_loss: 0.5690 - val_accuracy: 0.7024\n",
      "Epoch 13/20\n",
      "625/625 [==============================] - 5s 8ms/step - loss: 0.5796 - accuracy: 0.7000 - val_loss: 0.6044 - val_accuracy: 0.6776\n",
      "Epoch 14/20\n",
      "625/625 [==============================] - 5s 8ms/step - loss: 0.5780 - accuracy: 0.6952 - val_loss: 0.5597 - val_accuracy: 0.7118\n",
      "Epoch 15/20\n",
      "625/625 [==============================] - 5s 8ms/step - loss: 0.5744 - accuracy: 0.6954 - val_loss: 0.6001 - val_accuracy: 0.6782\n",
      "Epoch 16/20\n",
      "625/625 [==============================] - 5s 8ms/step - loss: 0.5690 - accuracy: 0.7039 - val_loss: 0.5839 - val_accuracy: 0.6884\n",
      "Epoch 17/20\n",
      "625/625 [==============================] - 5s 8ms/step - loss: 0.5665 - accuracy: 0.7081 - val_loss: 0.5709 - val_accuracy: 0.7000\n",
      "Epoch 18/20\n",
      "625/625 [==============================] - 5s 8ms/step - loss: 0.5686 - accuracy: 0.7014 - val_loss: 0.5692 - val_accuracy: 0.7050\n",
      "Epoch 19/20\n",
      "625/625 [==============================] - 5s 8ms/step - loss: 0.5676 - accuracy: 0.7043 - val_loss: 0.5873 - val_accuracy: 0.6834\n",
      "Epoch 20/20\n",
      "625/625 [==============================] - 5s 8ms/step - loss: 0.5668 - accuracy: 0.7100 - val_loss: 0.5651 - val_accuracy: 0.7032\n"
     ]
    }
   ],
   "source": [
    "model.compile(optimizer='sgd', loss='binary_crossentropy', metrics=['accuracy'])\n",
    "history=model.fit(x_train_onehot, y_train, epochs=20, batch_size=32,\n",
    "                  validation_data=(x_val_onehot, y_val))"
   ]
  },
  {
   "cell_type": "code",
   "execution_count": 24,
   "metadata": {},
   "outputs": [
    {
     "data": {
      "image/png": "[encoded data removed]",
      "text/plain": [
       "<Figure size 432x288 with 1 Axes>"
      ]
     },
     "metadata": {
      "needs_background": "light"
     },
     "output_type": "display_data"
    }
   ],
   "source": [
    "plt.plot(history.history['loss'])\n",
    "plt.plot(history.history['val_loss'])\n",
    "plt.xlabel('epoch')\n",
    "plt.ylabel('loss')\n",
    "plt.legend(['train loss', 'val loss'])\n",
    "plt.show()"
   ]
  },
  {
   "cell_type": "code",
   "execution_count": 25,
   "metadata": {},
   "outputs": [
    {
     "data": {
      "image/png": "[encoded data removed]",
      "text/plain": [
       "<Figure size 432x288 with 1 Axes>"
      ]
     },
     "metadata": {
      "needs_background": "light"
     },
     "output_type": "display_data"
    }
   ],
   "source": [
    "plt.plot(history.history['accuracy'])\n",
    "plt.plot(history.history['val_accuracy'])\n",
    "plt.ylabel('accuracy')\n",
    "plt.xlabel('epoch')\n",
    "plt.legend(['train accuracy', 'val accuracy'])\n",
    "plt.show()"
   ]
  },
  {
   "cell_type": "code",
   "execution_count": 39,
   "metadata": {},
   "outputs": [
    {
     "name": "stdout",
     "output_type": "stream",
     "text": [
      "0.7031999826431274\n",
      "0.5650980472564697\n"
     ]
    }
   ],
   "source": [
    "loss, accuracy=model.evaluate(x_val_onehot, y_val, verbose=0)\n",
    "print(accuracy)\n",
    "print(loss)"
   ]
  },
  {
   "cell_type": "code",
   "execution_count": 27,
   "metadata": {},
   "outputs": [],
   "source": [
    "from tensorflow.keras.layers import Embedding"
   ]
  },
  {
   "cell_type": "code",
   "execution_count": 28,
   "metadata": {},
   "outputs": [
    {
     "name": "stderr",
     "output_type": "stream",
     "text": [
      "<__array_function__ internals>:5: VisibleDeprecationWarning: Creating an ndarray from ragged nested sequences (which is a list-or-tuple of lists-or-tuples-or ndarrays with different lengths or shapes) is deprecated. If you meant to do this, you must specify 'dtype=object' when creating the ndarray\n",
      "C:\\Users\\Uijeong\\AppData\\Roaming\\Python\\Python38\\site-packages\\tensorflow\\python\\keras\\datasets\\imdb.py:159: VisibleDeprecationWarning: Creating an ndarray from ragged nested sequences (which is a list-or-tuple of lists-or-tuples-or ndarrays with different lengths or shapes) is deprecated. If you meant to do this, you must specify 'dtype=object' when creating the ndarray\n",
      "  x_train, y_train = np.array(xs[:idx]), np.array(labels[:idx])\n",
      "C:\\Users\\Uijeong\\AppData\\Roaming\\Python\\Python38\\site-packages\\tensorflow\\python\\keras\\datasets\\imdb.py:160: VisibleDeprecationWarning: Creating an ndarray from ragged nested sequences (which is a list-or-tuple of lists-or-tuples-or ndarrays with different lengths or shapes) is deprecated. If you meant to do this, you must specify 'dtype=object' when creating the ndarray\n",
      "  x_test, y_test = np.array(xs[idx:]), np.array(labels[idx:])\n"
     ]
    }
   ],
   "source": [
    "(x_train_all, y_train_all),(x_test, y_test)=imdb.load_data(skip_top=20, num_words=1000)\n",
    "for i in range (len(x_train_all)):\n",
    "    x_train_all[i]=[w for w in x_train_all[i] if w>2]\n",
    "\n",
    "x_train=x_train_all[random_index[:20000]]\n",
    "y_train=y_train_all[random_index[:20000]]\n",
    "x_val=x_train_all[random_index[20000:]]\n",
    "y_val=y_train_all[random_index[20000:]]"
   ]
  },
  {
   "cell_type": "code",
   "execution_count": 29,
   "metadata": {},
   "outputs": [],
   "source": [
    "maxlen=100\n",
    "x_train_seq=sequence.pad_sequences(x_train, maxlen=maxlen)\n",
    "x_val_seq=sequence.pad_sequences(x_val, maxlen=maxlen)"
   ]
  },
  {
   "cell_type": "code",
   "execution_count": 30,
   "metadata": {},
   "outputs": [
    {
     "name": "stdout",
     "output_type": "stream",
     "text": [
      "Model: \"sequential_1\"\n",
      "_________________________________________________________________\n",
      "Layer (type)                 Output Shape              Param #   \n",
      "=================================================================\n",
      "embedding (Embedding)        (None, None, 32)          32000     \n",
      "_________________________________________________________________\n",
      "simple_rnn_1 (SimpleRNN)     (None, 8)                 328       \n",
      "_________________________________________________________________\n",
      "dense_1 (Dense)              (None, 1)                 9         \n",
      "=================================================================\n",
      "Total params: 32,337\n",
      "Trainable params: 32,337\n",
      "Non-trainable params: 0\n",
      "_________________________________________________________________\n"
     ]
    }
   ],
   "source": [
    "model_ebd=Sequential()\n",
    "model_ebd.add(Embedding(1000,32))\n",
    "model_ebd.add(SimpleRNN(8))\n",
    "model_ebd.add(Dense(1, activation='sigmoid'))\n",
    "\n",
    "model_ebd.summary()"
   ]
  },
  {
   "cell_type": "code",
   "execution_count": 33,
   "metadata": {},
   "outputs": [
    {
     "name": "stdout",
     "output_type": "stream",
     "text": [
      "Epoch 1/10\n",
      "625/625 [==============================] - 6s 9ms/step - loss: 0.5742 - accuracy: 0.6984 - val_loss: 0.5706 - val_accuracy: 0.7150\n",
      "Epoch 2/10\n",
      "625/625 [==============================] - 5s 8ms/step - loss: 0.4369 - accuracy: 0.8050 - val_loss: 0.4248 - val_accuracy: 0.8108\n",
      "Epoch 3/10\n",
      "625/625 [==============================] - 5s 8ms/step - loss: 0.3719 - accuracy: 0.8410 - val_loss: 0.4194 - val_accuracy: 0.8192\n",
      "Epoch 4/10\n",
      "625/625 [==============================] - 5s 8ms/step - loss: 0.3516 - accuracy: 0.8506 - val_loss: 0.4102 - val_accuracy: 0.8232\n",
      "Epoch 5/10\n",
      "625/625 [==============================] - 5s 8ms/step - loss: 0.3288 - accuracy: 0.8670 - val_loss: 0.4197 - val_accuracy: 0.8228\n",
      "Epoch 6/10\n",
      "625/625 [==============================] - 5s 8ms/step - loss: 0.3094 - accuracy: 0.8733 - val_loss: 0.4187 - val_accuracy: 0.8250\n",
      "Epoch 7/10\n",
      "625/625 [==============================] - 5s 9ms/step - loss: 0.2991 - accuracy: 0.8765 - val_loss: 0.4512 - val_accuracy: 0.8142\n",
      "Epoch 8/10\n",
      "625/625 [==============================] - 5s 8ms/step - loss: 0.3007 - accuracy: 0.8744 - val_loss: 0.4467 - val_accuracy: 0.8110\n",
      "Epoch 9/10\n",
      "625/625 [==============================] - 5s 8ms/step - loss: 0.2590 - accuracy: 0.8995 - val_loss: 0.4534 - val_accuracy: 0.8202\n",
      "Epoch 10/10\n",
      "625/625 [==============================] - 5s 8ms/step - loss: 0.2466 - accuracy: 0.9075 - val_loss: 0.4627 - val_accuracy: 0.8116\n"
     ]
    }
   ],
   "source": [
    "model_ebd.compile(optimizer='adam', loss='binary_crossentropy', metrics=['accuracy'])\n",
    "history=model_ebd.fit(x_train_seq, y_train, epochs=10, batch_size=32,\n",
    "                  validation_data=(x_val_seq, y_val))"
   ]
  },
  {
   "cell_type": "code",
   "execution_count": 34,
   "metadata": {},
   "outputs": [
    {
     "data": {
      "image/png": "[encoded data removed]",
      "text/plain": [
       "<Figure size 432x288 with 1 Axes>"
      ]
     },
     "metadata": {
      "needs_background": "light"
     },
     "output_type": "display_data"
    }
   ],
   "source": [
    "plt.plot(history.history['loss'])\n",
    "plt.plot(history.history['val_loss'])\n",
    "plt.xlabel('epoch')\n",
    "plt.ylabel('loss')\n",
    "plt.legend(['train loss', 'val loss'])\n",
    "plt.show()"
   ]
  },
  {
   "cell_type": "code",
   "execution_count": 35,
   "metadata": {},
   "outputs": [
    {
     "data": {
      "image/png": "[encoded data removed]",
      "text/plain": [
       "<Figure size 432x288 with 1 Axes>"
      ]
     },
     "metadata": {
      "needs_background": "light"
     },
     "output_type": "display_data"
    }
   ],
   "source": [
    "plt.plot(history.history['accuracy'])\n",
    "plt.plot(history.history['val_accuracy'])\n",
    "plt.ylabel('accuracy')\n",
    "plt.xlabel('epoch')\n",
    "plt.legend(['train accuracy', 'val accuracy'])\n",
    "plt.show()"
   ]
  },
  {
   "cell_type": "code",
   "execution_count": 38,
   "metadata": {},
   "outputs": [
    {
     "name": "stdout",
     "output_type": "stream",
     "text": [
      "0.8116000294685364\n",
      "0.4626845717430115\n"
     ]
    }
   ],
   "source": [
    "loss, accuracy=model_ebd.evaluate(x_val_seq, y_val, verbose=0)\n",
    "print(accuracy)\n",
    "print(loss)"
   ]
  },
  {
   "cell_type": "code",
   "execution_count": 40,
   "metadata": {},
   "outputs": [],
   "source": [
    "from tensorflow.keras.layers import LSTM"
   ]
  },
  {
   "cell_type": "code",
   "execution_count": 41,
   "metadata": {},
   "outputs": [
    {
     "name": "stdout",
     "output_type": "stream",
     "text": [
      "Model: \"sequential_2\"\n",
      "_________________________________________________________________\n",
      "Layer (type)                 Output Shape              Param #   \n",
      "=================================================================\n",
      "embedding_1 (Embedding)      (None, None, 32)          32000     \n",
      "_________________________________________________________________\n",
      "lstm (LSTM)                  (None, 8)                 1312      \n",
      "_________________________________________________________________\n",
      "dense_2 (Dense)              (None, 1)                 9         \n",
      "=================================================================\n",
      "Total params: 33,321\n",
      "Trainable params: 33,321\n",
      "Non-trainable params: 0\n",
      "_________________________________________________________________\n"
     ]
    }
   ],
   "source": [
    "model_lstm=Sequential()\n",
    "model_lstm.add(Embedding(1000,32))\n",
    "model_lstm.add(LSTM(8))\n",
    "model_lstm.add(Dense(1, activation='sigmoid'))\n",
    "\n",
    "model_lstm.summary()"
   ]
  },
  {
   "cell_type": "code",
   "execution_count": 42,
   "metadata": {},
   "outputs": [
    {
     "name": "stdout",
     "output_type": "stream",
     "text": [
      "Epoch 1/10\n",
      "625/625 [==============================] - 10s 13ms/step - loss: 0.5329 - accuracy: 0.7244 - val_loss: 0.3700 - val_accuracy: 0.8386\n",
      "Epoch 2/10\n",
      "625/625 [==============================] - 8s 13ms/step - loss: 0.3360 - accuracy: 0.8580 - val_loss: 0.3766 - val_accuracy: 0.8336\n",
      "Epoch 3/10\n",
      "625/625 [==============================] - 9s 14ms/step - loss: 0.3069 - accuracy: 0.8707 - val_loss: 0.3687 - val_accuracy: 0.8410\n",
      "Epoch 4/10\n",
      "625/625 [==============================] - 8s 14ms/step - loss: 0.2859 - accuracy: 0.8806 - val_loss: 0.3831 - val_accuracy: 0.8358\n",
      "Epoch 5/10\n",
      "625/625 [==============================] - 9s 14ms/step - loss: 0.2711 - accuracy: 0.8879 - val_loss: 0.3691 - val_accuracy: 0.8272\n",
      "Epoch 6/10\n",
      "625/625 [==============================] - 9s 14ms/step - loss: 0.2691 - accuracy: 0.8880 - val_loss: 0.3901 - val_accuracy: 0.8378\n",
      "Epoch 7/10\n",
      "625/625 [==============================] - 9s 14ms/step - loss: 0.2531 - accuracy: 0.8949 - val_loss: 0.3853 - val_accuracy: 0.8314\n",
      "Epoch 8/10\n",
      "625/625 [==============================] - 9s 14ms/step - loss: 0.2569 - accuracy: 0.8915 - val_loss: 0.4119 - val_accuracy: 0.8382\n",
      "Epoch 9/10\n",
      "625/625 [==============================] - 9s 14ms/step - loss: 0.2421 - accuracy: 0.9020 - val_loss: 0.4118 - val_accuracy: 0.8346\n",
      "Epoch 10/10\n",
      "625/625 [==============================] - 9s 14ms/step - loss: 0.2263 - accuracy: 0.9048 - val_loss: 0.4262 - val_accuracy: 0.8346\n"
     ]
    }
   ],
   "source": [
    "model_lstm.compile(optimizer='adam', loss='binary_crossentropy', metrics=['accuracy'])\n",
    "history=model_lstm.fit(x_train_seq, y_train, epochs=10, batch_size=32,\n",
    "                  validation_data=(x_val_seq, y_val))"
   ]
  },
  {
   "cell_type": "code",
   "execution_count": 43,
   "metadata": {},
   "outputs": [
    {
     "data": {
      "image/png": "[encoded data removed]",
      "text/plain": [
       "<Figure size 432x288 with 1 Axes>"
      ]
     },
     "metadata": {
      "needs_background": "light"
     },
     "output_type": "display_data"
    }
   ],
   "source": [
    "plt.plot(history.history['loss'])\n",
    "plt.plot(history.history['val_loss'])\n",
    "plt.xlabel('epoch')\n",
    "plt.ylabel('loss')\n",
    "plt.legend(['train loss', 'val loss'])\n",
    "plt.show()"
   ]
  },
  {
   "cell_type": "code",
   "execution_count": 44,
   "metadata": {},
   "outputs": [
    {
     "data": {
      "image/png": "[encoded data removed]",
      "text/plain": [
       "<Figure size 432x288 with 1 Axes>"
      ]
     },
     "metadata": {
      "needs_background": "light"
     },
     "output_type": "display_data"
    }
   ],
   "source": [
    "plt.plot(history.history['accuracy'])\n",
    "plt.plot(history.history['val_accuracy'])\n",
    "plt.ylabel('accuracy')\n",
    "plt.xlabel('epoch')\n",
    "plt.legend(['train accuracy', 'val accuracy'])\n",
    "plt.show()"
   ]
  },
  {
   "cell_type": "code",
   "execution_count": 45,
   "metadata": {},
   "outputs": [
    {
     "name": "stdout",
     "output_type": "stream",
     "text": [
      "0.8345999717712402\n",
      "0.42617034912109375\n"
     ]
    }
   ],
   "source": [
    "loss, accuracy=model_lstm.evaluate(x_val_seq, y_val, verbose=0)\n",
    "print(accuracy)\n",
    "print(loss)"
   ]
  }
 ],
 "metadata": {
  "kernelspec": {
   "display_name": "Python 3",
   "language": "python",
   "name": "python3"
  },
  "language_info": {
   "codemirror_mode": {
    "name": "ipython",
    "version": 3
   },
   "file_extension": ".py",
   "mimetype": "text/x-python",
   "name": "python",
   "nbconvert_exporter": "python",
   "pygments_lexer": "ipython3",
   "version": "3.8.5"
  }
 },
 "nbformat": 4,
 "nbformat_minor": 4
}
