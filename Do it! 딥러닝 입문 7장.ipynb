{
 "cells": [
  {
   "cell_type": "code",
   "execution_count": 1,
   "metadata": {},
   "outputs": [],
   "source": [
    "import numpy as np"
   ]
  },
  {
   "cell_type": "code",
   "execution_count": 2,
   "metadata": {},
   "outputs": [],
   "source": [
    "class MultiClassNetwork:\n",
    "    \n",
    "    def __init__(self, units=10,batch_size=32, learning_rate=0.1, l1=0,l2=0):\n",
    "        self.units=units\n",
    "        self.batch_size=batch_size\n",
    "        self.w1=None\n",
    "        self.b1=None\n",
    "        self.w2=None\n",
    "        self.b2=None\n",
    "        self.a1=None\n",
    "        self.losses=[]\n",
    "        self.val_losses=[]\n",
    "        self.lr=learning_rate\n",
    "        self.l1=l1\n",
    "        self.l2=l2\n",
    "        \n",
    "    def forpass(self,x):\n",
    "        z1=np.dot(x,self.w1)+self.b1\n",
    "        self.a1=self.sigmoid(z1)\n",
    "        z2=np.dot(self.a1,self.w2)+self.b2\n",
    "        return z2\n",
    "    \n",
    "    def backprop(self,x,err):\n",
    "        m=len(x)\n",
    "        w2_grad=np.dot(self.a1.T,err)/m\n",
    "        b2_grad=np.sum(err)/m\n",
    "        err_to_hidden=np.dot(err,self.w2.T)*self.a1*(1-self.a1)\n",
    "        w1_grad=np.dot(x.T,err_to_hidden)/m\n",
    "        b1_grad=np.sum(err_to_hidden,axis=0)/m\n",
    "        return w1_grad,b1_grad,w2_grad,b2_grad\n",
    "    \n",
    "    def sigmoid(self,z):\n",
    "        a=1/(1+np.exp(-z))\n",
    "        return a\n",
    "    \n",
    "    def softmax(self,z):\n",
    "        exp_z=np.exp(z)\n",
    "        return exp_z/np.sum(exp_z,axis=1).reshape(-1,1)\n",
    "    \n",
    "    def init_weights(self, n_features, n_classes):\n",
    "        self.w1=np.random.normal(0,1,(n_features,self.units))\n",
    "        self.b1=np.zeros(self.units)\n",
    "        self.w2=np.random.normal(0,1,(self.units,n_classes))\n",
    "        self.b2=np.zeros(n_classes)\n",
    "        \n",
    "    def fit(self,x,y,epochs=100,x_val=None,y_val=None):\n",
    "        np.random.seed(42)\n",
    "        self.init_weights(x.shape[1],y.shape[1])  \n",
    "        for i in range(epochs):\n",
    "            loss=0\n",
    "            print('.',end='')\n",
    "            for x_batch,y_batch in self.gen_batch(x,y):\n",
    "                a=self.training(x_batch,y_batch)\n",
    "                a=np.clip(a,1e-10,1-1e-10)     #없어도 될듯?\n",
    "                loss+=np.sum(-y_batch*np.log(a))\n",
    "            self.losses.append((loss+self.reg_loss())/len(x))\n",
    "            self.update_val_loss(x_val,y_val)\n",
    "        \n",
    "    def gen_batch(self,x,y):\n",
    "        length=len(x)\n",
    "        bins=length//self.batch_size\n",
    "        if length % self.batch_size:\n",
    "            bins+=1\n",
    "        indexes=np.random.permutation(np.arange(len(x)))\n",
    "        x=x[indexes]\n",
    "        y=y[indexes]\n",
    "        for i in range(bins):\n",
    "            start=self.batch_size*i\n",
    "            end=self.batch_size*(i+1)\n",
    "            yield x[start:end],y[start:end]\n",
    "            \n",
    "    def training(self,x,y):\n",
    "        m=len(x)\n",
    "        z=self.forpass(x)\n",
    "        a=self.softmax(z)\n",
    "        err=-(y-a)\n",
    "        w1_grad,b1_grad,w2_grad,b2_grad=self.backprop(x,err)\n",
    "        w1_grad+=(self.l1*np.sign(self.w1)+self.l2*self.w1)/m\n",
    "        w2_grad+=(self.l1*np.sign(self.w2)+self.l2*self.w2)/m\n",
    "        self.w1-=self.lr*w1_grad\n",
    "        self.b1-=self.lr*b1_grad\n",
    "        self.w2-=self.lr*w2_grad\n",
    "        self.b2-=self.lr*b2_grad\n",
    "        return a\n",
    "    \n",
    "    def predict(self,x):\n",
    "        z=self.forpass(x)\n",
    "        return np.argmax(z,axis=1)\n",
    "    \n",
    "    def score(self,x,y):\n",
    "        return np.mean(self.predict(x)==np.argmax(y,axis=1))\n",
    "    \n",
    "    def reg_loss(self):\n",
    "        return self.l1*(np.sum(np.abs(self.w1))+np.sum(np.abs(self.w2)))+self.l2/2*(np.sum(self.w1**2)+np.sum(self.w2**2))\n",
    "    \n",
    "    def update_val_loss(self,x_val,y_val):\n",
    "        z=self.forpass(x_val)\n",
    "        a=self.softmax(z)\n",
    "        a=np.clip(a,1e-10,1-1e-10)\n",
    "        val_loss=np.sum(-y_val*np.log(a))\n",
    "        self.val_losses.append((val_loss+self.reg_loss())/len(y_val))"
   ]
  },
  {
   "cell_type": "code",
   "execution_count": 3,
   "metadata": {},
   "outputs": [
    {
     "data": {
      "text/plain": [
       "'2.4.0'"
      ]
     },
     "execution_count": 3,
     "metadata": {},
     "output_type": "execute_result"
    }
   ],
   "source": [
    "import tensorflow as tf\n",
    "tf.__version__"
   ]
  },
  {
   "cell_type": "code",
   "execution_count": 4,
   "metadata": {},
   "outputs": [],
   "source": [
    "(x_train_all,y_train_all),(x_test,y_test)=tf.keras.datasets.fashion_mnist.load_data()"
   ]
  },
  {
   "cell_type": "code",
   "execution_count": 5,
   "metadata": {},
   "outputs": [
    {
     "name": "stdout",
     "output_type": "stream",
     "text": [
      "(60000, 28, 28) (60000,)\n"
     ]
    }
   ],
   "source": [
    "print(x_train_all.shape,y_train_all.shape)"
   ]
  },
  {
   "cell_type": "code",
   "execution_count": 6,
   "metadata": {},
   "outputs": [
    {
     "data": {
      "image/png": "[encoded data removed]",
      "text/plain": [
       "<Figure size 432x288 with 1 Axes>"
      ]
     },
     "metadata": {
      "needs_background": "light"
     },
     "output_type": "display_data"
    }
   ],
   "source": [
    "import matplotlib.pyplot as plt\n",
    "plt.imshow(x_train_all[0],cmap='gray')\n",
    "plt.show()"
   ]
  },
  {
   "cell_type": "code",
   "execution_count": 7,
   "metadata": {},
   "outputs": [
    {
     "name": "stdout",
     "output_type": "stream",
     "text": [
      "[9 0 0 3 0 2 7 2 5 5]\n"
     ]
    }
   ],
   "source": [
    "print(y_train_all[:10])"
   ]
  },
  {
   "cell_type": "code",
   "execution_count": 8,
   "metadata": {},
   "outputs": [],
   "source": [
    "class_names=['티셔츠/윗도리','바지','스웨터','드레스','코트','샌들','셔츠','스니커즈','가방','앵클부츠']"
   ]
  },
  {
   "cell_type": "code",
   "execution_count": 9,
   "metadata": {},
   "outputs": [
    {
     "name": "stdout",
     "output_type": "stream",
     "text": [
      "앵클부츠\n"
     ]
    }
   ],
   "source": [
    "print(class_names[y_train_all[0]])"
   ]
  },
  {
   "cell_type": "code",
   "execution_count": 10,
   "metadata": {},
   "outputs": [
    {
     "data": {
      "text/plain": [
       "array([6000, 6000, 6000, 6000, 6000, 6000, 6000, 6000, 6000, 6000],\n",
       "      dtype=int64)"
      ]
     },
     "execution_count": 10,
     "metadata": {},
     "output_type": "execute_result"
    }
   ],
   "source": [
    "np.bincount(y_train_all)"
   ]
  },
  {
   "cell_type": "code",
   "execution_count": 11,
   "metadata": {},
   "outputs": [],
   "source": [
    "from sklearn.model_selection import train_test_split\n",
    "x_train,x_val,y_train,y_val = train_test_split(x_train_all,y_train_all,stratify=y_train_all,test_size=0.2,random_state=42)"
   ]
  },
  {
   "cell_type": "code",
   "execution_count": 12,
   "metadata": {},
   "outputs": [
    {
     "data": {
      "text/plain": [
       "array([4800, 4800, 4800, 4800, 4800, 4800, 4800, 4800, 4800, 4800],\n",
       "      dtype=int64)"
      ]
     },
     "execution_count": 12,
     "metadata": {},
     "output_type": "execute_result"
    }
   ],
   "source": [
    "np.bincount(y_train)\n"
   ]
  },
  {
   "cell_type": "code",
   "execution_count": 13,
   "metadata": {},
   "outputs": [
    {
     "data": {
      "text/plain": [
       "array([1200, 1200, 1200, 1200, 1200, 1200, 1200, 1200, 1200, 1200],\n",
       "      dtype=int64)"
      ]
     },
     "execution_count": 13,
     "metadata": {},
     "output_type": "execute_result"
    }
   ],
   "source": [
    "np.bincount(y_val)"
   ]
  },
  {
   "cell_type": "code",
   "execution_count": 14,
   "metadata": {},
   "outputs": [],
   "source": [
    "x_train=x_train/255\n",
    "x_val=x_val/255"
   ]
  },
  {
   "cell_type": "code",
   "execution_count": 15,
   "metadata": {},
   "outputs": [],
   "source": [
    "x_train=x_train.reshape(-1,784)\n",
    "x_val=x_val.reshape(-1,784)"
   ]
  },
  {
   "cell_type": "code",
   "execution_count": 16,
   "metadata": {},
   "outputs": [
    {
     "name": "stdout",
     "output_type": "stream",
     "text": [
      "(48000, 784) (12000, 784)\n"
     ]
    }
   ],
   "source": [
    "print(x_train.shape,x_val.shape)"
   ]
  },
  {
   "cell_type": "code",
   "execution_count": 17,
   "metadata": {},
   "outputs": [
    {
     "data": {
      "text/plain": [
       "array([[1., 0., 0., 0.],\n",
       "       [0., 1., 0., 0.],\n",
       "       [0., 0., 0., 1.]], dtype=float32)"
      ]
     },
     "execution_count": 17,
     "metadata": {},
     "output_type": "execute_result"
    }
   ],
   "source": [
    "tf.keras.utils.to_categorical([0,1,3])"
   ]
  },
  {
   "cell_type": "code",
   "execution_count": 18,
   "metadata": {},
   "outputs": [
    {
     "name": "stdout",
     "output_type": "stream",
     "text": [
      "(48000, 10) (12000, 10)\n"
     ]
    }
   ],
   "source": [
    "y_train_encoded=tf.keras.utils.to_categorical(y_train)\n",
    "y_val_encoded=tf.keras.utils.to_categorical(y_val)\n",
    "print(y_train_encoded.shape,y_val_encoded.shape)"
   ]
  },
  {
   "cell_type": "code",
   "execution_count": 19,
   "metadata": {},
   "outputs": [
    {
     "name": "stdout",
     "output_type": "stream",
     "text": [
      "6 [0. 0. 0. 0. 0. 0. 1. 0. 0. 0.]\n"
     ]
    }
   ],
   "source": [
    "print(y_train[0],y_train_encoded[0])"
   ]
  },
  {
   "cell_type": "code",
   "execution_count": 20,
   "metadata": {},
   "outputs": [
    {
     "name": "stdout",
     "output_type": "stream",
     "text": [
      "........................................"
     ]
    }
   ],
   "source": [
    "fc=MultiClassNetwork(units=100,batch_size=256)\n",
    "fc.fit(x_train,y_train_encoded,x_val=x_val,y_val=y_val_encoded,epochs=40)"
   ]
  },
  {
   "cell_type": "code",
   "execution_count": 21,
   "metadata": {},
   "outputs": [
    {
     "data": {
      "image/png": "[encoded data removed]",
      "text/plain": [
       "<Figure size 432x288 with 1 Axes>"
      ]
     },
     "metadata": {
      "needs_background": "light"
     },
     "output_type": "display_data"
    }
   ],
   "source": [
    "plt.plot(fc.losses)\n",
    "plt.plot(fc.val_losses)\n",
    "plt.ylabel('loss')\n",
    "plt.xlabel('iteration')\n",
    "plt.legend(['train_loss','val_loss'])\n",
    "plt.show()"
   ]
  },
  {
   "cell_type": "code",
   "execution_count": 22,
   "metadata": {},
   "outputs": [
    {
     "data": {
      "text/plain": [
       "0.8150833333333334"
      ]
     },
     "execution_count": 22,
     "metadata": {},
     "output_type": "execute_result"
    }
   ],
   "source": [
    "fc.score(x_val,y_val_encoded)"
   ]
  },
  {
   "cell_type": "markdown",
   "metadata": {},
   "source": [
    "# 7-2. 텐서플로와 케라스"
   ]
  },
  {
   "cell_type": "code",
   "execution_count": 23,
   "metadata": {},
   "outputs": [],
   "source": [
    "from tensorflow.keras import Sequential\n",
    "from tensorflow.keras.layers import Dense\n",
    "model=Sequential()\n",
    "model.add(Dense(100,activation='sigmoid',input_shape=(784,)))\n",
    "model.add(Dense(10,activation='softmax'))\n",
    "model.compile(optimizer='sgd',loss='categorical_crossentropy',metrics=['accuracy'])"
   ]
  },
  {
   "cell_type": "code",
   "execution_count": 24,
   "metadata": {},
   "outputs": [
    {
     "name": "stdout",
     "output_type": "stream",
     "text": [
      "Epoch 1/40\n",
      "1500/1500 [==============================] - 4s 2ms/step - loss: 1.7083 - accuracy: 0.5387 - val_loss: 0.9627 - val_accuracy: 0.7271\n",
      "Epoch 2/40\n",
      "1500/1500 [==============================] - 2s 2ms/step - loss: 0.8962 - accuracy: 0.7394 - val_loss: 0.7520 - val_accuracy: 0.7631\n",
      "Epoch 3/40\n",
      "1500/1500 [==============================] - 2s 1ms/step - loss: 0.7344 - accuracy: 0.7628 - val_loss: 0.6642 - val_accuracy: 0.7794\n",
      "Epoch 4/40\n",
      "1500/1500 [==============================] - 2s 1ms/step - loss: 0.6582 - accuracy: 0.7775 - val_loss: 0.6126 - val_accuracy: 0.7948\n",
      "Epoch 5/40\n",
      "1500/1500 [==============================] - 2s 1ms/step - loss: 0.6118 - accuracy: 0.7944 - val_loss: 0.5774 - val_accuracy: 0.8038\n",
      "Epoch 6/40\n",
      "1500/1500 [==============================] - 2s 1ms/step - loss: 0.5795 - accuracy: 0.8027 - val_loss: 0.5519 - val_accuracy: 0.8079\n",
      "Epoch 7/40\n",
      "1500/1500 [==============================] - 2s 2ms/step - loss: 0.5566 - accuracy: 0.8099 - val_loss: 0.5301 - val_accuracy: 0.8167\n",
      "Epoch 8/40\n",
      "1500/1500 [==============================] - 3s 2ms/step - loss: 0.5358 - accuracy: 0.8147 - val_loss: 0.5142 - val_accuracy: 0.8211\n",
      "Epoch 9/40\n",
      "1500/1500 [==============================] - 3s 2ms/step - loss: 0.5237 - accuracy: 0.8190 - val_loss: 0.5010 - val_accuracy: 0.8242\n",
      "Epoch 10/40\n",
      "1500/1500 [==============================] - 3s 2ms/step - loss: 0.5082 - accuracy: 0.8240 - val_loss: 0.4914 - val_accuracy: 0.8291\n",
      "Epoch 11/40\n",
      "1500/1500 [==============================] - 3s 2ms/step - loss: 0.4963 - accuracy: 0.8285 - val_loss: 0.4822 - val_accuracy: 0.8285\n",
      "Epoch 12/40\n",
      "1500/1500 [==============================] - 3s 2ms/step - loss: 0.4889 - accuracy: 0.8300 - val_loss: 0.4728 - val_accuracy: 0.8346\n",
      "Epoch 13/40\n",
      "1500/1500 [==============================] - 3s 2ms/step - loss: 0.4802 - accuracy: 0.8345 - val_loss: 0.4675 - val_accuracy: 0.8351\n",
      "Epoch 14/40\n",
      "1500/1500 [==============================] - 3s 2ms/step - loss: 0.4794 - accuracy: 0.8328 - val_loss: 0.4598 - val_accuracy: 0.8367\n",
      "Epoch 15/40\n",
      "1500/1500 [==============================] - 3s 2ms/step - loss: 0.4704 - accuracy: 0.8363 - val_loss: 0.4535 - val_accuracy: 0.8410\n",
      "Epoch 16/40\n",
      "1500/1500 [==============================] - 2s 2ms/step - loss: 0.4636 - accuracy: 0.8375 - val_loss: 0.4487 - val_accuracy: 0.8428\n",
      "Epoch 17/40\n",
      "1500/1500 [==============================] - 2s 2ms/step - loss: 0.4534 - accuracy: 0.8416 - val_loss: 0.4439 - val_accuracy: 0.8434\n",
      "Epoch 18/40\n",
      "1500/1500 [==============================] - 2s 2ms/step - loss: 0.4490 - accuracy: 0.8426 - val_loss: 0.4392 - val_accuracy: 0.8452\n",
      "Epoch 19/40\n",
      "1500/1500 [==============================] - 2s 2ms/step - loss: 0.4514 - accuracy: 0.8432 - val_loss: 0.4368 - val_accuracy: 0.8460\n",
      "Epoch 20/40\n",
      "1500/1500 [==============================] - 2s 2ms/step - loss: 0.4384 - accuracy: 0.8473 - val_loss: 0.4323 - val_accuracy: 0.8481\n",
      "Epoch 21/40\n",
      "1500/1500 [==============================] - 2s 2ms/step - loss: 0.4371 - accuracy: 0.8488 - val_loss: 0.4278 - val_accuracy: 0.8489\n",
      "Epoch 22/40\n",
      "1500/1500 [==============================] - 2s 2ms/step - loss: 0.4318 - accuracy: 0.8489 - val_loss: 0.4256 - val_accuracy: 0.8518\n",
      "Epoch 23/40\n",
      "1500/1500 [==============================] - 2s 2ms/step - loss: 0.4314 - accuracy: 0.8492 - val_loss: 0.4229 - val_accuracy: 0.8509\n",
      "Epoch 24/40\n",
      "1500/1500 [==============================] - 2s 2ms/step - loss: 0.4282 - accuracy: 0.8487 - val_loss: 0.4206 - val_accuracy: 0.8525\n",
      "Epoch 25/40\n",
      "1500/1500 [==============================] - 2s 2ms/step - loss: 0.4279 - accuracy: 0.8493 - val_loss: 0.4165 - val_accuracy: 0.8543\n",
      "Epoch 26/40\n",
      "1500/1500 [==============================] - 2s 1ms/step - loss: 0.4263 - accuracy: 0.8512 - val_loss: 0.4129 - val_accuracy: 0.8555\n",
      "Epoch 27/40\n",
      "1500/1500 [==============================] - 2s 1ms/step - loss: 0.4221 - accuracy: 0.8529 - val_loss: 0.4103 - val_accuracy: 0.8570\n",
      "Epoch 28/40\n",
      "1500/1500 [==============================] - 2s 1ms/step - loss: 0.4195 - accuracy: 0.8525 - val_loss: 0.4081 - val_accuracy: 0.8572\n",
      "Epoch 29/40\n",
      "1500/1500 [==============================] - 2s 1ms/step - loss: 0.4018 - accuracy: 0.8574 - val_loss: 0.4069 - val_accuracy: 0.8589\n",
      "Epoch 30/40\n",
      "1500/1500 [==============================] - 2s 1ms/step - loss: 0.4074 - accuracy: 0.8571 - val_loss: 0.4039 - val_accuracy: 0.8583\n",
      "Epoch 31/40\n",
      "1500/1500 [==============================] - 2s 1ms/step - loss: 0.4124 - accuracy: 0.8568 - val_loss: 0.4018 - val_accuracy: 0.8593\n",
      "Epoch 32/40\n",
      "1500/1500 [==============================] - 2s 1ms/step - loss: 0.4089 - accuracy: 0.8563 - val_loss: 0.3998 - val_accuracy: 0.8603\n",
      "Epoch 33/40\n",
      "1500/1500 [==============================] - 2s 1ms/step - loss: 0.4041 - accuracy: 0.8590 - val_loss: 0.3993 - val_accuracy: 0.8608\n",
      "Epoch 34/40\n",
      "1500/1500 [==============================] - 2s 1ms/step - loss: 0.3979 - accuracy: 0.8593 - val_loss: 0.3977 - val_accuracy: 0.8608\n",
      "Epoch 35/40\n",
      "1500/1500 [==============================] - 2s 1ms/step - loss: 0.4019 - accuracy: 0.8595 - val_loss: 0.3956 - val_accuracy: 0.8614\n",
      "Epoch 36/40\n",
      "1500/1500 [==============================] - 2s 1ms/step - loss: 0.3969 - accuracy: 0.8618 - val_loss: 0.3947 - val_accuracy: 0.8592\n",
      "Epoch 37/40\n",
      "1500/1500 [==============================] - 2s 1ms/step - loss: 0.3939 - accuracy: 0.8612 - val_loss: 0.3916 - val_accuracy: 0.8621\n",
      "Epoch 38/40\n",
      "1500/1500 [==============================] - 2s 1ms/step - loss: 0.3896 - accuracy: 0.8623 - val_loss: 0.3902 - val_accuracy: 0.8636\n",
      "Epoch 39/40\n",
      "1500/1500 [==============================] - 2s 1ms/step - loss: 0.3852 - accuracy: 0.8655 - val_loss: 0.3905 - val_accuracy: 0.8633\n",
      "Epoch 40/40\n",
      "1500/1500 [==============================] - 2s 1ms/step - loss: 0.3866 - accuracy: 0.8633 - val_loss: 0.3883 - val_accuracy: 0.8619\n"
     ]
    }
   ],
   "source": [
    "history=model.fit(x_train,y_train_encoded,epochs=40,validation_data=(x_val,y_val_encoded))"
   ]
  },
  {
   "cell_type": "code",
   "execution_count": 25,
   "metadata": {},
   "outputs": [
    {
     "name": "stdout",
     "output_type": "stream",
     "text": [
      "dict_keys(['loss', 'accuracy', 'val_loss', 'val_accuracy'])\n"
     ]
    }
   ],
   "source": [
    "print(history.history.keys())"
   ]
  },
  {
   "cell_type": "code",
   "execution_count": 26,
   "metadata": {},
   "outputs": [
    {
     "data": {
      "image/png": "[encoded data removed]",
      "text/plain": [
       "<Figure size 432x288 with 1 Axes>"
      ]
     },
     "metadata": {
      "needs_background": "light"
     },
     "output_type": "display_data"
    }
   ],
   "source": [
    "plt.plot(history.history['loss'])\n",
    "plt.plot(history.history['val_loss'])\n",
    "plt.ylabel('loss')\n",
    "plt.xlabel('epoch')\n",
    "plt.legend(['train_loss','val_loss'])\n",
    "plt.show()"
   ]
  },
  {
   "cell_type": "code",
   "execution_count": 27,
   "metadata": {},
   "outputs": [
    {
     "data": {
      "image/png": "[encoded data removed]",
      "text/plain": [
       "<Figure size 432x288 with 1 Axes>"
      ]
     },
     "metadata": {
      "needs_background": "light"
     },
     "output_type": "display_data"
    }
   ],
   "source": [
    "plt.plot(history.history['accuracy'])\n",
    "plt.plot(history.history['val_accuracy'])\n",
    "plt.ylabel('accuracy')\n",
    "plt.xlabel('epoch')\n",
    "plt.legend(['train_accuracy','val_accuracy'])\n",
    "plt.show()"
   ]
  },
  {
   "cell_type": "code",
   "execution_count": 28,
   "metadata": {},
   "outputs": [
    {
     "name": "stdout",
     "output_type": "stream",
     "text": [
      "0.8619166612625122\n"
     ]
    }
   ],
   "source": [
    "loss,accuracy=model.evaluate(x_val,y_val_encoded,verbose=0)\n",
    "print(accuracy)"
   ]
  },
  {
   "cell_type": "code",
   "execution_count": 29,
   "metadata": {},
   "outputs": [],
   "source": [
    "x_test=x_test/255\n",
    "y_test_encoded=tf.keras.utils.to_categorical(y_test)\n",
    "#loss,accuracy=model.evaluate(x_test,y_test_encoded)\n",
    "#print(accuracy)"
   ]
  },
  {
   "cell_type": "code",
   "execution_count": null,
   "metadata": {},
   "outputs": [],
   "source": []
  }
 ],
 "metadata": {
  "kernelspec": {
   "display_name": "Python 3",
   "language": "python",
   "name": "python3"
  },
  "language_info": {
   "codemirror_mode": {
    "name": "ipython",
    "version": 3
   },
   "file_extension": ".py",
   "mimetype": "text/x-python",
   "name": "python",
   "nbconvert_exporter": "python",
   "pygments_lexer": "ipython3",
   "version": "3.8.5"
  }
 },
 "nbformat": 4,
 "nbformat_minor": 4
}
