{
 "cells": [
  {
   "cell_type": "markdown",
   "metadata": {},
   "source": [
    "## 내장함수 "
   ]
  },
  {
   "cell_type": "code",
   "execution_count": 1,
   "metadata": {},
   "outputs": [
    {
     "name": "stdout",
     "output_type": "stream",
     "text": [
      "4\n",
      "10\n"
     ]
    }
   ],
   "source": [
    "a=[1,2,3,4]\n",
    "length=len(a)\n",
    "print(length)\n",
    "summation=sum(a)\n",
    "print(summation)"
   ]
  },
  {
   "cell_type": "code",
   "execution_count": 2,
   "metadata": {},
   "outputs": [],
   "source": [
    "# def 이름(인자)\n",
    "def add(x,y):\n",
    "    n=x+y\n",
    "    return n"
   ]
  },
  {
   "cell_type": "code",
   "execution_count": 3,
   "metadata": {},
   "outputs": [
    {
     "name": "stdout",
     "output_type": "stream",
     "text": [
      "330\n"
     ]
    }
   ],
   "source": [
    "c=add(30,300)\n",
    "print(c)"
   ]
  },
  {
   "cell_type": "code",
   "execution_count": 5,
   "metadata": {},
   "outputs": [],
   "source": [
    "#함수가 요구하는 파라미터 정확히 전달해야함\n",
    "#c=add()"
   ]
  },
  {
   "cell_type": "code",
   "execution_count": 7,
   "metadata": {},
   "outputs": [
    {
     "name": "stdout",
     "output_type": "stream",
     "text": [
      "1\n"
     ]
    }
   ],
   "source": [
    "def add(x,y):\n",
    "    sub=x-y\n",
    "    return sub\n",
    "print(add(4,3))\n",
    "#naming을 신경써서 할것"
   ]
  },
  {
   "cell_type": "code",
   "execution_count": 8,
   "metadata": {},
   "outputs": [
    {
     "name": "stdout",
     "output_type": "stream",
     "text": [
      "ahaha\n",
      "100\n"
     ]
    }
   ],
   "source": [
    "def test():\n",
    "    print('ahaha')\n",
    "    return 100\n",
    "a=test()\n",
    "print(a)\n",
    "#파라미터가 없는 함수"
   ]
  },
  {
   "cell_type": "code",
   "execution_count": 10,
   "metadata": {},
   "outputs": [],
   "source": [
    "def test(x,y):\n",
    "    n=x+y\n",
    "    return n\n",
    "a=test(10,20)\n",
    "\n",
    "def sub(x,y):\n",
    "    sub=x-y\n",
    "    return sub\n",
    "#b=sub('you','me')\n",
    "#print(b) #parameter의 변수형 주의"
   ]
  },
  {
   "cell_type": "code",
   "execution_count": 11,
   "metadata": {},
   "outputs": [
    {
     "data": {
      "text/plain": [
       "35"
      ]
     },
     "execution_count": 11,
     "metadata": {},
     "output_type": "execute_result"
    }
   ],
   "source": [
    "#default값 설정 가능\n",
    "def add(x,y,z=5):\n",
    "    a=x+y+z\n",
    "    return a\n",
    "add(10,20)\n"
   ]
  },
  {
   "cell_type": "code",
   "execution_count": 15,
   "metadata": {},
   "outputs": [
    {
     "name": "stdout",
     "output_type": "stream",
     "text": [
      "1~2~3\n",
      "*"
     ]
    }
   ],
   "source": [
    "print(1,2,3,sep='~',end='\\n*')"
   ]
  },
  {
   "cell_type": "code",
   "execution_count": 16,
   "metadata": {},
   "outputs": [
    {
     "name": "stdout",
     "output_type": "stream",
     "text": [
      "10 20 1\n"
     ]
    }
   ],
   "source": [
    "#parameter의 default값은 오른쪽 끝부터 지정해줄 수 있다\n",
    "def test(a,b,c=1):\n",
    "    print(a,b,c)\n",
    "test(10,20,1)\n",
    "\n",
    "#test(a,b=1,c)는 불가능\n",
    "#test(x=10,z=3,y=8)이런식으로 순서를 바꿀 수 있다-> keyword parameter"
   ]
  },
  {
   "cell_type": "code",
   "execution_count": 24,
   "metadata": {},
   "outputs": [
    {
     "name": "stdout",
     "output_type": "stream",
     "text": [
      "6\n",
      "15\n",
      "60\n"
     ]
    }
   ],
   "source": [
    "def multiply(x,y):\n",
    "    if x>10:\n",
    "        return x*y\n",
    "    print(x+y)\n",
    "    return(x+2)*y\n",
    "    print(x+y)\n",
    "print(multiply(1,5))\n",
    "print(multiply(12,5))\n",
    "#return이 함수를 종료"
   ]
  },
  {
   "cell_type": "code",
   "execution_count": 26,
   "metadata": {},
   "outputs": [
    {
     "name": "stdout",
     "output_type": "stream",
     "text": [
      "None\n",
      "60\n"
     ]
    }
   ],
   "source": [
    "def multiply(x,y):\n",
    "    if x>10:\n",
    "        return x*y\n",
    "print(multiply(1,5))\n",
    "print(multiply(12,5))"
   ]
  },
  {
   "cell_type": "code",
   "execution_count": 31,
   "metadata": {},
   "outputs": [
    {
     "name": "stdout",
     "output_type": "stream",
     "text": [
      "(23, 60)\n"
     ]
    },
    {
     "data": {
      "text/plain": [
       "tuple"
      ]
     },
     "execution_count": 31,
     "metadata": {},
     "output_type": "execute_result"
    }
   ],
   "source": [
    "def add_mul(x,y):\n",
    "    s=x+y\n",
    "    m=x*y\n",
    "    return s,m\n",
    "a=add_mul(20,3)\n",
    "print(a)\n",
    "type(a)\n",
    "#tuple을 이용해 multiple variable 반환"
   ]
  },
  {
   "cell_type": "code",
   "execution_count": 34,
   "metadata": {},
   "outputs": [
    {
     "name": "stdout",
     "output_type": "stream",
     "text": [
      "70\n",
      "70\n",
      "10 30\n"
     ]
    }
   ],
   "source": [
    "num1=10\n",
    "num2=30\n",
    "def test(num1,num2):\n",
    "    print(num1+num2)\n",
    "    return num1+num2\n",
    "print(test(30,40))\n",
    "print(num1,num2)\n",
    "#global 변수, local변수(함수 내의 변수) #지역변수가 우선순위"
   ]
  },
  {
   "cell_type": "code",
   "execution_count": 41,
   "metadata": {},
   "outputs": [
    {
     "name": "stdout",
     "output_type": "stream",
     "text": [
      "<class 'tuple'>\n",
      "(10, 20, 30, 40)\n"
     ]
    }
   ],
   "source": [
    "#파라미터의 갯수가 정해지지 않은 경우\n",
    "#print(1,2,3,4,5,6,7,8,8,9,9,9,10)\n",
    "#가변 파라미터\n",
    "def test(*x):\n",
    "    print(type(x))\n",
    "    print(x)\n",
    "test(10,20,30,40)\n",
    "#관례적으로 가변파라미터는 *args로 사용!\n"
   ]
  },
  {
   "cell_type": "code",
   "execution_count": 43,
   "metadata": {},
   "outputs": [
    {
     "name": "stdout",
     "output_type": "stream",
     "text": [
      "<class 'dict'>\n"
     ]
    }
   ],
   "source": [
    "#keyword parameter\n",
    "def test2(**x):\n",
    "    print(type(x))\n",
    "test2(a=1,b=2,c=3,d=4,name='Bob')"
   ]
  },
  {
   "cell_type": "code",
   "execution_count": 46,
   "metadata": {},
   "outputs": [
    {
     "name": "stdout",
     "output_type": "stream",
     "text": [
      "key: a ,value: 1\n",
      "key: b ,value: 2\n",
      "key: c ,value: 3\n",
      "key: d ,value: 4\n",
      "key: name ,value: Bob\n"
     ]
    }
   ],
   "source": [
    "def test2(**x):\n",
    "    for key,value in x.items():\n",
    "        print('key:',key,',value:',value)\n",
    "test2(a=1,b=2,c=3,d=4,name='Bob')\n",
    "#관례적으로 키워드 파라미터는 **kwargs로 사용!"
   ]
  },
  {
   "cell_type": "code",
   "execution_count": 51,
   "metadata": {},
   "outputs": [
    {
     "name": "stdout",
     "output_type": "stream",
     "text": [
      "오늘 온도:100도, 강수 확률은49%,내일 온도는59도\n"
     ]
    }
   ],
   "source": [
    "a='오늘 온도:{temp1}도, 강수 확률은{rain1}%,내일 온도는{temp2}도'.format(temp1=100,rain1=49,temp2=59)\n",
    "print(a)\n",
    "#문자열 format함수도 가변함수의 대표적인 예시"
   ]
  },
  {
   "cell_type": "markdown",
   "metadata": {},
   "source": [
    "## lambda 함수"
   ]
  },
  {
   "cell_type": "code",
   "execution_count": 52,
   "metadata": {},
   "outputs": [
    {
     "data": {
      "text/plain": [
       "25"
      ]
     },
     "execution_count": 52,
     "metadata": {},
     "output_type": "execute_result"
    }
   ],
   "source": [
    "square=lambda x:x**2 #함수명=변수명:return 값\n",
    "square(5)"
   ]
  },
  {
   "cell_type": "code",
   "execution_count": 56,
   "metadata": {
    "scrolled": true
   },
   "outputs": [
    {
     "data": {
      "text/plain": [
       "5"
      ]
     },
     "execution_count": 56,
     "metadata": {},
     "output_type": "execute_result"
    }
   ],
   "source": [
    "add1=lambda x,y:x+y\n",
    "add1(2,3)"
   ]
  },
  {
   "cell_type": "code",
   "execution_count": 57,
   "metadata": {},
   "outputs": [
    {
     "data": {
      "text/plain": [
       "5"
      ]
     },
     "execution_count": 57,
     "metadata": {},
     "output_type": "execute_result"
    }
   ],
   "source": [
    "def len1(a):\n",
    "    return len(a)\n",
    "len1('goods')"
   ]
  },
  {
   "cell_type": "code",
   "execution_count": 59,
   "metadata": {
    "scrolled": true
   },
   "outputs": [
    {
     "name": "stdout",
     "output_type": "stream",
     "text": [
      "['종원', '윤재1', '진영22', '태준333']\n"
     ]
    }
   ],
   "source": [
    "strings=['종원','윤재1','진영22','태준333']\n",
    "#strings.sort(key=len1)\n",
    "strings.sort(key=lambda s:len(s))\n",
    "print(strings)\n",
    "#길이순으로 정렬하고 싶을때\n"
   ]
  },
  {
   "cell_type": "code",
   "execution_count": 61,
   "metadata": {},
   "outputs": [],
   "source": [
    "def even(n):\n",
    "    return n%2==0"
   ]
  },
  {
   "cell_type": "code",
   "execution_count": 64,
   "metadata": {},
   "outputs": [
    {
     "name": "stdout",
     "output_type": "stream",
     "text": [
      "[2, 4, 6, 8]\n"
     ]
    },
    {
     "data": {
      "text/plain": [
       "[2, 4, 6, 8]"
      ]
     },
     "execution_count": 64,
     "metadata": {},
     "output_type": "execute_result"
    }
   ],
   "source": [
    "#filter(함수,리스트) true를 반환하면 filtering list에 추가\n",
    "nums=[1,2,3,4,5,6,7,8,9]\n",
    "print(list(filter(even,nums)))\n",
    "list(filter(lambda n:n%2==0,nums))"
   ]
  },
  {
   "cell_type": "code",
   "execution_count": 66,
   "metadata": {},
   "outputs": [
    {
     "data": {
      "text/plain": [
       "[1, 4, 9, 16, 25, 36, 49, 64, 81]"
      ]
     },
     "execution_count": 66,
     "metadata": {},
     "output_type": "execute_result"
    }
   ],
   "source": [
    "#주어진 리스트, 리스트의 제곱을한 숫자로 새로운 리스트\n",
    "nums=[1,2,3,4,5,6,7,8,9]\n",
    "list(map(lambda n:n**2,nums))"
   ]
  },
  {
   "cell_type": "code",
   "execution_count": 67,
   "metadata": {},
   "outputs": [
    {
     "data": {
      "text/plain": [
       "[False, True, False, True, False, True, False, True, False]"
      ]
     },
     "execution_count": 67,
     "metadata": {},
     "output_type": "execute_result"
    }
   ],
   "source": [
    "list(map(even,nums))"
   ]
  },
  {
   "cell_type": "code",
   "execution_count": 69,
   "metadata": {},
   "outputs": [
    {
     "name": "stdout",
     "output_type": "stream",
     "text": [
      "17\n"
     ]
    },
    {
     "data": {
      "text/plain": [
       "120"
      ]
     },
     "execution_count": 69,
     "metadata": {},
     "output_type": "execute_result"
    }
   ],
   "source": [
    "import functools\n",
    "a=[1,3,5,8]\n",
    "#ㄱ=1,3 ㄴ=ㄱ,5 ㄷ=ㄴ,8\n",
    "print(functools.reduce(lambda x,y:x+y,a))\n",
    "functools.reduce(lambda x,y:x*y,a)"
   ]
  },
  {
   "cell_type": "markdown",
   "metadata": {},
   "source": [
    "## 연습문제"
   ]
  },
  {
   "cell_type": "code",
   "execution_count": 70,
   "metadata": {},
   "outputs": [
    {
     "name": "stdout",
     "output_type": "stream",
     "text": [
      "3.0\n"
     ]
    }
   ],
   "source": [
    "def mean(nums):\n",
    "    sum=0\n",
    "    for i in nums:\n",
    "        sum+=i\n",
    "    return sum/len(nums)\n",
    "    #return(sums)/len(nums)\n",
    "print(mean([1,2,4,5]))"
   ]
  },
  {
   "cell_type": "code",
   "execution_count": 76,
   "metadata": {},
   "outputs": [
    {
     "data": {
      "text/plain": [
       "False"
      ]
     },
     "execution_count": 76,
     "metadata": {},
     "output_type": "execute_result"
    }
   ],
   "source": [
    "#소수 판별\n",
    "def is_prime(num):\n",
    "    for i in range(2,num):\n",
    "        if num%i==0:\n",
    "            return False\n",
    "    return True\n",
    "is_prime(17)\n",
    "is_prime(100)"
   ]
  },
  {
   "cell_type": "code",
   "execution_count": 78,
   "metadata": {},
   "outputs": [
    {
     "name": "stdout",
     "output_type": "stream",
     "text": [
      "8\n"
     ]
    }
   ],
   "source": [
    "def prime_num(num):\n",
    "    count=0\n",
    "    for i in range(2,num+1):\n",
    "        if is_prime(i):\n",
    "            count+=1\n",
    "    return count\n",
    "print(prime_num(19))\n",
    "        "
   ]
  },
  {
   "cell_type": "markdown",
   "metadata": {},
   "source": [
    "## 모듈의 이해"
   ]
  },
  {
   "cell_type": "code",
   "execution_count": 79,
   "metadata": {},
   "outputs": [
    {
     "data": {
      "text/plain": [
       "'\\n<!doctype html>                <html lang=\"ko\" data-dark=\"false\"> <head> <meta charset=\"utf-8\"> <title>NAVER</title> <meta http-equiv=\"X-UA-Compatible\" content=\"IE=edge\"> <meta name=\"viewport\" content=\"width=1190\"> <meta name=\"apple-mobile-web-app-title\" content=\"NAVER\"/> <meta name=\"robots\" content=\"index,nofollow\"/> <meta name=\"description\" content=\"네이버 메인에서 다양한 정보와 유용한 컨텐츠를 만나 보세요\"/> <meta property=\"og:title\" content=\"네이버\"> <meta property=\"og:url\" content=\"https://www.naver.com/\"> <meta property=\"og:image\" content=\"https://s.pstatic.net/static/www/mobile/edit/2016/0705/mobile_212852414260.png\"> <meta property=\"og:description\" content=\"네이버 메인에서 다양한 정보와 유용한 컨텐츠를 만나 보세요\"/> <meta name=\"twitter:card\" content=\"summary\"> <meta name=\"twitter:title\" content=\"\"> <meta name=\"twitter:url\" content=\"https://www.naver.com/\"> <meta name=\"twitter:image\" content=\"https://s.pstatic.net/static/www/mobile/edit/2016/0705/mobile_212852414260.png\"> <meta name=\"twitter:description\" content=\"네이버 메인에서 다양한 정보와 유용한 컨텐츠를 만나 보세요\"/>  <link rel=\"stylesheet\" href=\"https://pm.pstatic.net/dist/css/nmain.20201119.css\"> <link rel=\"stylesheet\" href=\"https://ssl.pstatic.net/sstatic/search/pc/css/sp_autocomplete_201028.css\"> <link rel=\"shortcut icon\" type=\"image/x-icon\" href=\"/favicon.ico?1\"/>   <script>document.domain=\"naver.com\",window.nmain=window.nmain||{},window.nmain.supportFlicking=!1;var nsc=\"navertop.v4\",ua=navigator.userAgent;window.nmain.isIE=navigator.appName&&navigator.appName.indexOf(\"Explorer\")>0&&ua.toLocaleLowerCase().indexOf(\"msie 10.0\")<0,document.getElementsByTagName(\"html\")[0].setAttribute(\"data-useragent\",ua),window.nmain.isIE&&(Object.create=function(n){function a(){}return a.prototype=n,new a})</script> <script>var darkmode= false;window.naver_corp_da=window.naver_corp_da||{main:{}},window.naver_corp_da.main=window.naver_corp_da.main||{},window.naver_corp_da.main.darkmode=darkmode</script> <script> window.nmain.gv = {  isLogin: false,\\nuseId: null,   daInfo: {\"ANIMAL\":{\"menu\":\"ANIMAL\",\"childMenu\":\"\",\"adType\":\"singleDom\",\"multiDomAdUrl\":\"\",\"multiDomUnit\":\"\",\"infoList\":[{\"adposId\":\"1000161\",\"singleDomAdUrl\":\"https://siape.veta.naver.com/fxshow\",\"param\":{\"da_dom_id\":\"p_main_animal_1\",\"tb\":\"ANIMAL_1\",\"unit\":\"SU10567\",\"calp\":\"-\"},\"type\":{\"position\":\"abs\",\"positionIndex\":4,\"subject\":\"contents\"},\"dom\":null},{\"adposId\":\"1000162\",\"singleDomAdUrl\":\"https://siape.veta.naver.com/fxshow\",\"param\":{\"da_dom_id\":\"p_main_animal_2\",\"tb\":\"ANIMAL_1\",\"unit\":\"SU10568\",\"calp\":\"-\"},\"type\":{\"position\":\"abs\",\"positionIndex\":8,\"subject\":\"contents\"},\"dom\":null}]},\"BEAUTY\":{\"menu\":\"BEAUTY\",\"childMenu\":\"\",\"adType\":\"singleDom\",\"multiDomAdUrl\":\"\",\"multiDomUnit\":\"\",\"infoList\":[{\"adposId\":\"1000163\",\"singleDomAdUrl\":\"https://siape.veta.naver.com/fxshow\",\"param\":{\"da_dom_id\":\"p_main_beauty_1\",\"tb\":\"BEAUTY_1\",\"unit\":\"SU10595\",\"calp\":\"-\"},\"type\":{\"position\":\"abs\",\"positionIndex\":4,\"subject\":\"contents\"},\"dom\":null},{\"adposId\":\"1000164\",\"singleDomAdUrl\":\"https://siape.veta.naver.com/fxshow\",\"param\":{\"da_dom_id\":\"p_main_beauty_2\",\"tb\":\"BEAUTY_1\",\"unit\":\"SU10596\",\"calp\":\"-\"},\"type\":{\"position\":\"abs\",\"positionIndex\":8,\"subject\":\"contents\"},\"dom\":null}]},\"BUSINESS\":{\"menu\":\"BUSINESS\",\"childMenu\":\"\",\"adType\":\"singleDom\",\"multiDomAdUrl\":\"\",\"multiDomUnit\":\"\",\"infoList\":[{\"adposId\":\"1000165\",\"singleDomAdUrl\":\"https://siape.veta.naver.com/fxshow\",\"param\":{\"da_dom_id\":\"p_main_business_1\",\"tb\":\"BUSINESS_1\",\"unit\":\"SU10577\",\"calp\":\"-\"},\"type\":{\"position\":\"abs\",\"positionIndex\":4,\"subject\":\"contents\"},\"dom\":null},{\"adposId\":\"1000166\",\"singleDomAdUrl\":\"https://siape.veta.naver.com/fxshow\",\"param\":{\"da_dom_id\":\"p_main_business_2\",\"tb\":\"BUSINESS_1\",\"unit\":\"SU10578\",\"calp\":\"-\"},\"type\":{\"position\":\"abs\",\"positionIndex\":8,\"subject\":\"contents\"},\"dom\":null}]},\"CARGAME\":{\"menu\":\"CARGAME\",\"childMenu\":\"\",\"adType\":\"singleDom\",\"multiDomAdUrl\":\"\",\"multiDomUnit\":\"\",\"infoList\":[{\"adposId\":\"1000167\",\"singleDomAdUrl\":\"https://siape.veta.naver.com/fxshow\",\"param\":{\"da_dom_id\":\"p_main_cargame_1\",\"tb\":\"CARGAME_1\",\"unit\":\"SU10587\",\"calp\":\"-\"},\"type\":{\"position\":\"abs\",\"positionIndex\":4,\"subject\":\"contents\"},\"dom\":null},{\"adposId\":\"1000168\",\"singleDomAdUrl\":\"https://siape.veta.naver.com/fxshow\",\"param\":{\"da_dom_id\":\"p_main_cargame_2\",\"tb\":\"CARGAME_1\",\"unit\":\"SU10588\",\"calp\":\"-\"},\"type\":{\"position\":\"abs\",\"positionIndex\":8,\"subject\":\"contents\"},\"dom\":null}]},\"CHINA\":{\"menu\":\"CHINA\",\"childMenu\":\"\",\"adType\":\"singleDom\",\"multiDomAdUrl\":\"\",\"multiDomUnit\":\"\",\"infoList\":[{\"adposId\":\"1000169\",\"singleDomAdUrl\":\"https://siape.veta.naver.com/fxshow\",\"param\":{\"da_dom_id\":\"p_main_china_1\",\"tb\":\"CHINA_1\",\"unit\":\"SU10591\",\"calp\":\"-\"},\"type\":{\"position\":\"abs\",\"positionIndex\":4,\"subject\":\"contents\"},\"dom\":null},{\"adposId\":\"1000170\",\"singleDomAdUrl\":\"https://siape.veta.naver.com/fxshow\",\"param\":{\"da_dom_id\":\"p_main_china_2\",\"tb\":\"CHINA_1\",\"unit\":\"SU10592\",\"calp\":\"-\"},\"type\":{\"position\":\"abs\",\"positionIndex\":8,\"subject\":\"contents\"},\"dom\":null}]},\"DESIGN\":{\"menu\":\"DESIGN\",\"childMenu\":\"\",\"adType\":\"singleDom\",\"multiDomAdUrl\":\"\",\"multiDomUnit\":\"\",\"infoList\":[{\"adposId\":\"1000171\",\"singleDomAdUrl\":\"https://siape.veta.naver.com/fxshow\",\"param\":{\"da_dom_id\":\"p_main_design_1\",\"tb\":\"DESIGN_1\",\"unit\":\"SU10569\",\"calp\":\"-\"},\"type\":{\"position\":\"abs\",\"positionIndex\":4,\"subject\":\"contents\"},\"dom\":null},{\"adposId\":\"1000172\",\"singleDomAdUrl\":\"https://siape.veta.naver.com/fxshow\",\"param\":{\"da_dom_id\":\"p_main_design_2\",\"tb\":\"DESIGN_1\",\"unit\":\"SU10570\",\"calp\":\"-\"},\"type\":{\"position\":\"abs\",\"positionIndex\":8,\"subject\":\"contents\"},\"dom\":null}]},\"FARM\":{\"menu\":\"FARM\",\"childMenu\":\"\",\"adType\":\"singleDom\",\"multiDomAdUrl\":\"\",\"multiDomUnit\":\"\",\"infoList\":[{\"adposId\":\"1000173\",\"singleDomAdUrl\":\"https://siape.veta.naver.com/fxshow\",\"param\":{\"da_dom_id\":\"p_main_farm_1\",\"tb\":\"FARM_1\",\"unit\":\"SU10561\",\"calp\":\"-\"},\"type\":{\"position\":\"abs\",\"positionIndex\":4,\"subject\":\"contents\"},\"dom\":null},{\"adposId\":\"1000174\",\"singleDomAdUrl\":\"https://siape.veta.naver.com/fxshow\",\"param\":{\"da_dom_id\":\"p_main_farm_2\",\"tb\":\"FARM_1\",\"unit\":\"SU10562\",\"calp\":\"-\"},\"type\":{\"position\":\"abs\",\"positionIndex\":8,\"subject\":\"contents\"},\"dom\":null}]},\"FINANCE\":{\"menu\":\"FINANCE\",\"childMenu\":\"\",\"adType\":\"singleDom\",\"multiDomAdUrl\":\"\",\"multiDomUnit\":\"\",\"infoList\":[{\"adposId\":\"1000175\",\"singleDomAdUrl\":\"https://siape.veta.naver.com/fxshow\",\"param\":{\"da_dom_id\":\"p_main_finance_1\",\"tb\":\"FINANCE_1\",\"unit\":\"SU10563\",\"calp\":\"-\"},\"type\":{\"position\":\"abs\",\"positionIndex\":4,\"subject\":\"contents\"},\"dom\":null},{\"adposId\":\"1000176\",\"singleDomAdUrl\":\"https://siape.veta.naver.com/fxshow\",\"param\":{\"da_dom_id\":\"p_main_finance_2\",\"tb\":\"FINANCE_1\",\"unit\":\"SU10564\",\"calp\":\"-\"},\"type\":{\"position\":\"abs\",\"positionIndex\":8,\"subject\":\"contents\"},\"dom\":null}]},\"ITTECH\":{\"menu\":\"ITTECH\",\"childMenu\":\"\",\"adType\":\"singleDom\",\"multiDomAdUrl\":\"\",\"multiDomUnit\":\"\",\"infoList\":[{\"adposId\":\"1000177\",\"singleDomAdUrl\":\"https://siape.veta.naver.com/fxshow\",\"param\":{\"da_dom_id\":\"p_main_ittech_1\",\"tb\":\"ITTECH_1\",\"unit\":\"SU10593\",\"calp\":\"-\"},\"type\":{\"position\":\"abs\",\"positionIndex\":4,\"subject\":\"contents\"},\"dom\":null},{\"adposId\":\"1000178\",\"singleDomAdUrl\":\"https://siape.veta.naver.com/fxshow\",\"param\":{\"da_dom_id\":\"p_main_ittech_2\",\"tb\":\"ITTECH_1\",\"unit\":\"SU10594\",\"calp\":\"-\"},\"type\":{\"position\":\"abs\",\"positionIndex\":8,\"subject\":\"contents\"},\"dom\":null}]},\"JOB\":{\"menu\":\"JOB\",\"childMenu\":\"\",\"adType\":\"singleDom\",\"multiDomAdUrl\":\"\",\"multiDomUnit\":\"\",\"infoList\":[{\"adposId\":\"1000179\",\"singleDomAdUrl\":\"https://siape.veta.naver.com/fxshow\",\"param\":{\"da_dom_id\":\"p_main_job_1\",\"tb\":\"JOB_1\",\"unit\":\"SU10589\",\"calp\":\"-\"},\"type\":{\"position\":\"abs\",\"positionIndex\":4,\"subject\":\"contents\"},\"dom\":null},{\"adposId\":\"1000180\",\"singleDomAdUrl\":\"https://siape.veta.naver.com/fxshow\",\"param\":{\"da_dom_id\":\"p_main_job_2\",\"tb\":\"JOB_1\",\"unit\":\"SU10590\",\"calp\":\"-\"},\"type\":{\"position\":\"abs\",\"positionIndex\":8,\"subject\":\"contents\"},\"dom\":null}]},\"LAW\":{\"menu\":\"LAW\",\"childMenu\":\"\",\"adType\":\"singleDom\",\"multiDomAdUrl\":\"\",\"multiDomUnit\":\"\",\"infoList\":[{\"adposId\":\"1000181\",\"singleDomAdUrl\":\"https://siape.veta.naver.com/fxshow\",\"param\":{\"da_dom_id\":\"p_main_law_1\",\"tb\":\"LAW_1\",\"unit\":\"SU10573\",\"calp\":\"-\"},\"type\":{\"position\":\"abs\",\"positionIndex\":4,\"subject\":\"contents\"},\"dom\":null},{\"adposId\":\"1000182\",\"singleDomAdUrl\":\"https://siape.veta.naver.com/fxshow\",\"param\":{\"da_dom_id\":\"p_main_law_2\",\"tb\":\"LAW_1\",\"unit\":\"SU10574\",\"calp\":\"-\"},\"type\":{\"position\":\"abs\",\"positionIndex\":8,\"subject\":\"contents\"},\"dom\":null}]},\"LIVING\":{\"menu\":\"LIVING\",\"childMenu\":\"\",\"adType\":\"singleDom\",\"multiDomAdUrl\":\"\",\"multiDomUnit\":\"\",\"infoList\":[{\"adposId\":\"1000183\",\"singleDomAdUrl\":\"https://siape.veta.naver.com/fxshow\",\"param\":{\"da_dom_id\":\"p_main_living_1\",\"tb\":\"LIVING_1\",\"unit\":\"SU10597\",\"calp\":\"-\"},\"type\":{\"position\":\"abs\",\"positionIndex\":4,\"subject\":\"contents\"},\"dom\":null},{\"adposId\":\"1000184\",\"singleDomAdUrl\":\"https://siape.veta.naver.com/fxshow\",\"param\":{\"da_dom_id\":\"p_main_living_2\",\"tb\":\"LIVING_1\",\"unit\":\"SU10606\",\"calp\":\"-\"},\"type\":{\"position\":\"abs\",\"positionIndex\":8,\"subject\":\"contents\"},\"dom\":null}]},\"LIVINGHOME\":{\"menu\":\"LIVINGHOME\",\"childMenu\":\"\",\"adType\":\"singleDom\",\"multiDomAdUrl\":\"\",\"multiDomUnit\":\"\",\"infoList\":[{\"adposId\":\"1000185\",\"singleDomAdUrl\":\"https://siape.veta.naver.com/fxshow\",\"param\":{\"da_dom_id\":\"p_main_livinghome_1\",\"tb\":\"LIVINGHOME_1\",\"unit\":\"SU10571\",\"calp\":\"-\"},\"type\":{\"position\":\"abs\",\"positionIndex\":4,\"subject\":\"contents\"},\"dom\":null},{\"adposId\":\"1000186\",\"singleDomAdUrl\":\"https://siape.veta.naver.com/fxshow\",\"param\":{\"da_dom_id\":\"p_main_livinghome_2\",\"tb\":\"LIVINGHOME_1\",\"unit\":\"SU10572\",\"calp\":\"-\"},\"type\":{\"position\":\"abs\",\"positionIndex\":8,\"subject\":\"contents\"},\"dom\":null}]},\"MOMKIDS\":{\"menu\":\"MOMKIDS\",\"childMenu\":\"\",\"adType\":\"singleDom\",\"multiDomAdUrl\":\"\",\"multiDomUnit\":\"\",\"infoList\":[{\"adposId\":\"1000187\",\"singleDomAdUrl\":\"https://siape.veta.naver.com/fxshow\",\"param\":{\"da_dom_id\":\"p_main_momkids_1\",\"tb\":\"MOMKIDS_1\",\"unit\":\"SU10575\",\"calp\":\"-\"},\"type\":{\"position\":\"abs\",\"positionIndex\":4,\"subject\":\"contents\"},\"dom\":null},{\"adposId\":\"1000188\",\"singleDomAdUrl\":\"https://siape.veta.naver.com/fxshow\",\"param\":{\"da_dom_id\":\"p_main_momkids_2\",\"tb\":\"MOMKIDS_1\",\"unit\":\"SU10576\",\"calp\":\"-\"},\"type\":{\"position\":\"abs\",\"positionIndex\":8,\"subject\":\"contents\"},\"dom\":null}]},\"MOVIE\":{\"menu\":\"MOVIE\",\"childMenu\":\"\",\"adType\":\"singleDom\",\"multiDomAdUrl\":\"\",\"multiDomUnit\":\"\",\"infoList\":[{\"adposId\":\"1000189\",\"singleDomAdUrl\":\"https://siape.veta.naver.com/fxshow\",\"param\":{\"da_dom_id\":\"p_main_movie_1\",\"tb\":\"MOVIE_1\",\"unit\":\"SU10585\",\"calp\":\"-\"},\"type\":{\"position\":\"abs\",\"positionIndex\":4,\"subject\":\"contents\"},\"dom\":null},{\"adposId\":\"1000190\",\"singleDomAdUrl\":\"https://siape.veta.naver.com/fxshow\",\"param\":{\"da_dom_id\":\"p_main_movie_2\",\"tb\":\"MOVIE_1\",\"unit\":\"SU10586\",\"calp\":\"-\"},\"type\":{\"position\":\"abs\",\"positionIndex\":8,\"subject\":\"contents\"},\"dom\":null}]},\"SCHOOL\":{\"menu\":\"SCHOOL\",\"childMenu\":\"\",\"adType\":\"singleDom\",\"multiDomAdUrl\":\"\",\"multiDomUnit\":\"\",\"infoList\":[{\"adposId\":\"1000191\",\"singleDomAdUrl\":\"https://siape.veta.naver.com/fxshow\",\"param\":{\"da_dom_id\":\"p_main_school_1\",\"tb\":\"SCHOOL_1\",\"unit\":\"SU10579\",\"calp\":\"-\"},\"type\":{\"position\":\"abs\",\"positionIndex\":4,\"subject\":\"contents\"},\"dom\":null},{\"adposId\":\"1000192\",\"singleDomAdUrl\":\"https://siape.veta.naver.com/fxshow\",\"param\":{\"da_dom_id\":\"p_main_school_2\",\"tb\":\"SCHOOL_1\",\"unit\":\"SU10580\",\"calp\":\"-\"},\"type\":{\"position\":\"abs\",\"positionIndex\":8,\"subject\":\"contents\"},\"dom\":null}]},\"SHOW\":{\"menu\":\"SHOW\",\"childMenu\":\"\",\"adType\":\"singleDom\",\"multiDomAdUrl\":\"\",\"multiDomUnit\":\"\",\"infoList\":[{\"adposId\":\"1000193\",\"singleDomAdUrl\":\"https://siape.veta.naver.com/fxshow\",\"param\":{\"da_dom_id\":\"p_main_show_1\",\"tb\":\"SHOW_1\",\"unit\":\"SU10565\",\"calp\":\"-\"},\"type\":{\"position\":\"abs\",\"positionIndex\":4,\"subject\":\"contents\"},\"dom\":null},{\"adposId\":\"1000194\",\"singleDomAdUrl\":\"https://siape.veta.naver.com/fxshow\",\"param\":{\"da_dom_id\":\"p_main_show_2\",\"tb\":\"SHOW_1\",\"unit\":\"SU10566\",\"calp\":\"-\"},\"type\":{\"position\":\"abs\",\"positionIndex\":8,\"subject\":\"contents\"},\"dom\":null}]},\"TRAVEL\":{\"menu\":\"TRAVEL\",\"childMenu\":\"\",\"adType\":\"singleDom\",\"multiDomAdUrl\":\"\",\"multiDomUnit\":\"\",\"infoList\":[{\"adposId\":\"1000195\",\"singleDomAdUrl\":\"https://siape.veta.naver.com/fxshow\",\"param\":{\"da_dom_id\":\"p_main_travel_1\",\"tb\":\"TRAVEL_1\",\"unit\":\"SU10581\",\"calp\":\"-\"},\"type\":{\"position\":\"abs\",\"positionIndex\":4,\"subject\":\"contents\"},\"dom\":null},{\"adposId\":\"1000196\",\"singleDomAdUrl\":\"https://siape.veta.naver.com/fxshow\",\"param\":{\"da_dom_id\":\"p_main_travel_2\",\"tb\":\"TRAVEL_1\",\"unit\":\"SU10582\",\"calp\":\"-\"},\"type\":{\"position\":\"abs\",\"positionIndex\":8,\"subject\":\"contents\"},\"dom\":null}]},\"WEDDING\":{\"menu\":\"WEDDING\",\"childMenu\":\"\",\"adType\":\"singleDom\",\"multiDomAdUrl\":\"\",\"multiDomUnit\":\"\",\"infoList\":[{\"adposId\":\"1000197\",\"singleDomAdUrl\":\"https://siape.veta.naver.com/fxshow\",\"param\":{\"da_dom_id\":\"p_main_wedding_1\",\"tb\":\"WEDDING_1\",\"unit\":\"SU10583\",\"calp\":\"-\"},\"type\":{\"position\":\"abs\",\"positionIndex\":4,\"subject\":\"contents\"},\"dom\":null},{\"adposId\":\"1000198\",\"singleDomAdUrl\":\"https://siape.veta.naver.com/fxshow\",\"param\":{\"da_dom_id\":\"p_main_wedding_2\",\"tb\":\"WEDDING_1\",\"unit\":\"SU10584\",\"calp\":\"-\"},\"type\":{\"position\":\"abs\",\"positionIndex\":8,\"subject\":\"contents\"},\"dom\":null}]}},\\nsvt: 20210126112402,\\n}; </script> <script> window.nmain.newsstand = {\\nrcode: \\'06710265\\',\\nnewsCastSubsInfo: \\'\\',\\nnewsStandSubsInfo: \\'\\'\\n};\\nwindow.etc = {  };\\nwindow.svr = \"<!--aweb107-->\"; </script> <script src=\"https://ssl.pstatic.net/tveta/libs/assets/js/pc/main/min/pc.veta.core.min.js\" defer=\"defer\"></script> <script src=\"https://ssl.pstatic.net/tveta/libs/assets/js/common/min/probe.min.js\" defer=\"defer\"></script>   <script src=\"https://pm.pstatic.net/dist/js/external.f7eebdcb.js?o=www\" type=\"text/javascript\" crossorigin=\"anonymous\" defer=\"defer\"></script> <script src=\"https://pm.pstatic.net/dist/js/preload.19891a82.js?o=www\" type=\"text/javascript\" crossorigin=\"anonymous\" defer=\"defer\"></script> <script src=\"https://pm.pstatic.net/dist/js/polyfill_async.f98bbe5a.js?o=www\" type=\"text/javascript\" crossorigin=\"anonymous\" async></script>  <script src=\"https://pm.pstatic.net/dist/js/vendors~search.c2a0c3df.js?o=www\" type=\"text/javascript\" crossorigin=\"anonymous\" defer=\"defer\"></script>   <script src=\"https://pm.pstatic.net/dist/js/search.a69bb735.js?o=www\" type=\"text/javascript\" crossorigin=\"anonymous\" defer=\"defer\"></script>  <script src=\"https://pm.pstatic.net/dist/js/vendors~more~nmain~sidebar_notice.a0c019da.js?o=www\" type=\"text/javascript\" crossorigin=\"anonymous\" defer=\"defer\"></script> <script src=\"https://pm.pstatic.net/dist/js/vendors~nmain.f696c04e.js?o=www\" type=\"text/javascript\" crossorigin=\"anonymous\" defer=\"defer\"></script> <script src=\"https://pm.pstatic.net/dist/js/nmain.a118668b.js?o=www\" type=\"text/javascript\" crossorigin=\"anonymous\" defer=\"defer\"></script> <style>:root{color-scheme:light}#_nx_kbd .setkorhelp a{display:none}</style> </head> <body> <div id=\"u_skip\"> <a href=\"#newsstand\"><span>뉴스스탠드 바로가기</span></a> <a href=\"#themecast\"><span>주제별캐스트 바로가기</span></a> <a href=\"#timesquare\"><span>타임스퀘어 바로가기</span></a> <a href=\"#shopcast\"><span>쇼핑캐스트 바로가기</span></a> <a href=\"#account\"><span>로그인 바로가기</span></a> </div> <div id=\"wrap\"> <style type=\"text/css\">._1syGnXOL{padding-right:18px;font-size:14px;line-height:0;letter-spacing:-.25px;color:#000}._1syGnXOL span,._1syGnXOL strong{line-height:49px}._1syGnXOL:before{display:inline-block;content:\"\";vertical-align:top;background-image:url(https://static-whale.pstatic.net/main/sprite-20201210@2x.png);background-repeat:no-repeat;background-size:114px 107px;width:18px;height:18px;margin:16px 8px 0 0;background-position:0 -89px}[data-useragent*=\"MSIE 8\"] ._1syGnXOL:before{background-image:url(https://static-whale.pstatic.net/main/sprite-20201210.png)}._1syGnXOL._3dsvmZg2:before{background-position:-68px -63px}._1syGnXOL._1NBFx1WK:before{width:20px;height:20px;margin:15px 8px 0 0;background-position:-26px -85px}._1syGnXOL._2mcQEKCd:before{width:22px;height:22px;margin:14px 7px 0 0;background-position:-26px -63px}._1syGnXOL._18YOHi7v{color:#fff}._1syGnXOL._3di88A4c{padding-right:12px;font-size:17px}._1syGnXOL._3di88A4c:before{content:none}._1syGnXOL._3jtl_dKE{font-size:16px}._1syGnXOL ._19K4X1CD{text-decoration:underline}._2aeXMlrb{display:inline-block;position:relative;font-size:12px;height:49px;width:78px;text-decoration:none;color:#fff;font-weight:700;letter-spacing:-.5px;vertical-align:top}._2aeXMlrb span{text-align:center;margin:9px 0;height:31px;display:block;line-height:31px;border-radius:15px}._2aeXMlrb span:before{display:inline-block;content:\"\";vertical-align:top;background-image:url(https://static-whale.pstatic.net/main/sprite-20201210@2x.png);background-repeat:no-repeat;background-size:114px 107px}[data-useragent*=\"MSIE 8\"] ._2aeXMlrb span:before{background-image:url(https://static-whale.pstatic.net/main/sprite-20201210.png)}._2aeXMlrb.BMgpjddw{font-size:11px;width:94px}._2aeXMlrb.BMgpjddw span:before{margin:9px 3px 0 0;width:17px;height:13px;background-position:-98px -30px}._3h-N8T9V{position:absolute;top:0;left:0;right:0;bottom:0;background:rgba(0,0,0,0)}._1KncATpM{display:inline-block;content:\"\";vertical-align:top;background-image:url(https://static-whale.pstatic.net/main/sprite-20201210@2x.png);background-repeat:no-repeat;background-size:114px 107px;margin-top:14px;float:left;width:98px;height:21px;background-position:0 -21px}[data-useragent*=\"MSIE 8\"] ._1KncATpM{background-image:url(https://static-whale.pstatic.net/main/sprite-20201210.png)}._1KncATpM._2v3uxv2x{background-position:0 0}._1KncATpM._1yl_Ow6o{background-position:0 -42px}._20PYt6lT{font-size:11px;height:49px;cursor:pointer;position:absolute;top:0;right:0;color:#666;opacity:.7}._20PYt6lT:after{width:15px;height:15px;margin-left:4px;background-position:-98px 0;display:inline-block;content:\"\";vertical-align:top;background-image:url(https://static-whale.pstatic.net/main/sprite-20201210@2x.png);background-repeat:no-repeat;background-size:114px 107px}[data-useragent*=\"MSIE 8\"] ._20PYt6lT:after{background-image:url(https://static-whale.pstatic.net/main/sprite-20201210.png)}._20PYt6lT._39oMCV2N:after{background-position:-98px -15px}._20PYt6lT._3wm5EzmJ{color:#fff}._20PYt6lT._3wm5EzmJ:after{background-position:-48px -83px}._1hiMWemA{height:49px}._1hiMWemA .tY_u8r23{position:relative;width:1130px;margin:0 auto}._1hiMWemA .tY_u8r23 a{text-decoration:none}._1hiMWemA._23U_6TM_{position:relative}._1hiMWemA._23U_6TM_:after{position:absolute;z-index:1;content:\"\";display:block;width:100%;height:1px;bottom:0;background-color:rgba(0,0,0,.05)}</style>                  <div id=\"NM_TOP_BANNER\" data-clk-prefix=\"top\" class=\"_1hiMWemA\" style=\"background-color: #f3f1ff;\">\\n<div class=\"tY_u8r23\">\\n<a class=\"_3h-N8T9V\" href=\\'https://whale.naver.com/details/darkmode?=main&wpid=RydDy7\\'\\ndata-clk=\"dropbanner1a\"></a>\\n<i class=\"_1KncATpM\"><span class=\"blind\">NAVER whale</span></i>\\n<img src=\"https://static-whale.pstatic.net/main/img_darkmode@2x.png\" width=\"303\" height=\"49\" alt=\"\"\\nstyle=\"padding-left: 48px;\"/>\\n<span class=\"_1syGnXOL _3di88A4c\" data-clk=\"dropbanner1a\" style=\"padding-right: 10px; padding-left: 8px;\"><span>여러분의\\n눈은 소중하니까, </span><strong>지금 바로 다크 모드를 켜세요!</strong></span>\\n<a href=\\'https://installer-whale.pstatic.net/downloads/banner/RydDy7/WhaleSetup.exe\\' class=\"_2aeXMlrb\" id=\"NM_whale_download_btn\"\\ndata-clk=\"dropdownload1a\"><span style=\"background-color: #7c56d5;\">다운로드</span></a>\\n<button type=\"button\" data-ui-cookie-exp-days=\"3\" data-ui-cookie-key=\"NM_TOP_PROMOTION\" data-ui-cookie-value=\"1\"\\ndata-ui-hide-target=\"#NM_TOP_BANNER\" data-clk=\"dropclose1a\" class=\"_20PYt6lT _39oMCV2N\"\\nstyle=\"display: none;\">\\n3일 동안 보지 않기\\n</button>\\n</div>\\n</div>\\n  <div id=\"header\" role=\"banner\">\\n\\n\\n\\n\\n\\n\\n\\n\\n<div class=\"special_bg\">\\n<div class=\"group_flex\">\\n<div class=\"logo_area\">\\n<h1 class=\"logo_default\">\\n<a href=\"/\" class=\"logo_naver\" data-clk=\"top.logo\"\\n><span class=\"blind\">네이버</span></a\\n>\\n</h1>\\n</div>\\n<div class=\"service_area\">\\n<a id=\"NM_set_home_btn\" href=\"https://help.naver.com/support/welcomePage/guide.help\" class=\"link_set\" data-clk=\"top.mkhome\">네이버를 시작페이지로</a>\\n<i class=\"sa_bar\"></i>\\n<a href=\"https://jr.naver.com\" class=\"link_jrnaver\" data-clk=\"top.jrnaver\"><i class=\"ico_jrnaver\"></i><span class=\"blind\">쥬니어네이버</span></a>\\n<a href=\"https://happybean.naver.com\" class=\"link_happybin\" data-clk=\"top.happybean\"><i class=\"ico_happybin\"></i><span class=\"blind\">해피빈</span></a>\\n</div>\\n\\n<div id=\"search\" class=\"search_area\" data-clk-prefix=\"sch\">\\n<form id=\"sform\" name=\"sform\" action=\"https://search.naver.com/search.naver\" method=\"get\" role=\"search\">\\n<fieldset>\\n<legend class=\"blind\">검색</legend>\\n<select id=\"where\" name=\"where\" title=\"검색 범위 선택\" class=\"blind\">\\n<option value=\"nexearch\" selected=\"selected\">통합검색</option><option value=\"post\">블로그</option><option value=\"cafeblog\">카페</option><option value=\"cafe\">- 카페명</option><option value=\"article\">- 카페글</option><option value=\"kin\">지식iN</option><option value=\"news\">뉴스</option><option value=\"web\">사이트</option><option value=\"category\">- 카테고리</option><option value=\"site\">- 사이트</option><option value=\"movie\">영화</option><option value=\"webkr\">웹문서</option><option value=\"dic\">사전</option><option value=\"100\">- 백과사전</option><option value=\"endic\">- 영어사전</option><option value=\"eedic\">- 영영사전</option><option value=\"krdic\">- 국어사전</option><option value=\"jpdic\">- 일본어사전</option><option value=\"hanja\">- 한자사전</option><option value=\"terms\">- 용어사전</option><option value=\"book\">책</option><option value=\"music\">음악</option><option value=\"doc\">전문자료</option><option value=\"shop\">쇼핑</option><option value=\"local\">지역</option><option value=\"video\">동영상</option><option value=\"image\">이미지</option><option value=\"mypc\">내PC</option><optgroup label=\"스마트 파인더\"><option value=\"movie\">영화</option><option value=\"auto\">자동차</option><option value=\"game\">게임</option><option value=\"health\">건강</option><option value=\"people\">인물</option></optgroup><optgroup label=\"네이버 랩\"><option>긍정부정검색</option></optgroup>\\n</select>\\n<input type=\"hidden\" id=\"sm\" name=\"sm\" value=\"top_hty\" />\\n<input type=\"hidden\" id=\"fbm\" name=\"fbm\" value=\"0\" />\\n<input type=\"hidden\" id=\"acr\" name=\"acr\" value=\"\" disabled=\"disabled\" />\\n<input type=\"hidden\" id=\"acq\" name=\"acq\" value=\"\" disabled=\"disabled\" />\\n<input type=\"hidden\" id=\"qdt\" name=\"qdt\" value=\"\" disabled=\"disabled\" />\\n<input type=\"hidden\" id=\"ie\" name=\"ie\" value=\"utf8\" />\\n<input type=\"hidden\" id=\"acir\" name=\"acir\" value=\"\" disabled=\"disabled\" />\\n<input type=\"hidden\" id=\"os\" name=\"os\" value=\"\" disabled=\"disabled\" />\\n<input type=\"hidden\" id=\"bid\" name=\"bid\" value=\"\" disabled=\"disabled\" />\\n<input type=\"hidden\" id=\"pkid\" name=\"pkid\" value=\"\" disabled=\"disabled\" />\\n<input type=\"hidden\" id=\"eid\" name=\"eid\" value=\"\" disabled=\"disabled\" />\\n<input type=\"hidden\" id=\"mra\" name=\"mra\" value=\"\" disabled=\"disabled\" />\\n\\n\\n\\n<div class=\"green_window\" style=\\'\\'>\\n<!-- [AU] data-atcmp-element 에 해당하는 attribute를 추가해주세요. -->\\n<input id=\"query\" name=\"query\" type=\"text\" title=\"검색어 입력\" maxlength=\"255\" class=\"input_text\" tabindex=\"1\" accesskey=\"s\" style=\"ime-mode:active;\" autocomplete=\"off\"  placeholder=\"검색어를 입력해 주세요.\" onclick=\"document.getElementById(\\'fbm\\').value=1;\" value=\"\" data-atcmp-element>\\n</div>\\n<button id=\"search_btn\" type=\"submit\" title=\"검색\" tabindex=\"3\" class=\"btn_submit\" onclick=\"window.nclick(this,\\'sch.action\\',\\'\\',\\'\\',event);\" style=\\'\\'>\\n<span class=\"blind\">검색</span>\\n<span class=\"ico_search_submit\"></span>\\n</button>\\n</fieldset>\\n</form>\\n<!-- 한글입력기 -->\\n<a href=\"#\" id=\"ke_kbd_btn\" role=\"button\" class=\"btn_keyboard\" onclick=\"return false;\"><span class=\"blind\">한글 입력기</span><span class=\"ico_keyboard\"></span></a>\\n<div id=\"_nx_kbd\" style=\"display:none;\"></div>\\n<div class=\"autocomplete\">\\n<!-- 자동완성 열린 경우 fold 클래스 추가, 딤드인 경우 dim 추가 -->\\n<a href=\"#\" role=\"button\" id=\"nautocomplete\" tabindex=\"2\" class=\"btn_arw _btn_arw fold\" aria-pressed=\"false\" data-atcmp-element><span class=\"blind\">자동완성 레이어</span><span class=\"ico_arr\"></span></a>\\n</div>\\n<!-- 자동완성레이어 -->\\n<div id=\"autoFrame\" class=\"reatcmp\" style=\"display: none;\">\\n<!-- [AU] data-atcmp-element attribute를 추가해주세요. -->\\n<div class=\"ly_atcmp\" data-atcmp-element>\\n<div class=\"api_atcmp_wrap\">\\n<!-- 최근검색어 -->\\n<!-- [AU] _recent_layer 클래스를 추가해주세요. -->\\n<div class=\"atcmp_fixer _recent_layer\" style=\"display:none;\">\\n<!-- [AU] _recent_header 클래스를 추가해주세요. -->\\n<div class=\"atcmp_header _recent_header\">\\n<strong class=\"tit\">최근검색어</strong>\\n<div class=\"option\">\\n<!-- [AU] _delAll 클래스를 추가해주세요. -->\\n<a role=\"button\" href=\"#\" class=\"item _delAll\" aria-pressed=\"false\">전체삭제</a>\\n</div>\\n</div>\\n<div class=\"atcmp_container\">\\n<!-- [AU] _recent 클래스를 추가해주세요. -->\\n<ul class=\"kwd_lst _recent\">\\n<!-- 최근검색어 템플릿 -->\\n<!-- [AU] _item 클래스를 추가해주세요. -->\\n<!-- [AU] data-template-type=\"history\" data-keyword=\"@in_txt@\" attribute를 추가해주세요. -->\\n<li class=\"item _item\" data-rank=\"@rank@\" data-template-type=\"history\" data-keyword=\"@in_txt@\">\\n<a href=\"#\" class=\"kwd\">\\n<span class=\"fix\"><span class=\"common_ico_kwd\"><i class=\"imsc ico_search\"></i></span><span>@txt@</span></span>\\n</a>\\n<span class=\"etc\">\\n<em class=\"date\">@date@.</em>\\n<!-- [AU] _del 클래스를 추가해주세요. -->\\n<a href=\"#\" role=\"button\" class=\"bt_item _del\" aria-pressed=\"false\"><i class=\"imsc ico_del\">삭제</i></a>\\n</span>\\n</li>\\n</ul>\\n<!-- [D] 검색어 저장 꺼진 경우 atcmp_fixer에 type_off 추가 -->\\n<!-- [AU] _offMsg 클래스를 추가해주세요. -->\\n<div class=\"kwd_info kwd_off _offMsg\" style=\"display: none;\">검색어 저장 기능이 꺼져 있습니다.<br><span class=\"kwd_dsc\">설정이 초기화 된다면 <a href=\"https://help.naver.com/support/alias/search/word/word_29.naver\" class=\"kwd_help\" data-clk=\"sly.help\" target=\"_blank\">도움말</a>을 확인해주세요.</span></div>\\n<!-- [D] 검색어 내역 없는 경우 atcmp_fixer에 type_off 추가 -->\\n<!-- [AU] _recentNone 클래스를 추가해주세요. -->\\n<div class=\"kwd_info kwd_none _recentNone\" style=\"display: none;\">최근 검색어 내역이 없습니다.<br><span class=\"kwd_dsc\">설정이 초기화 된다면 <a href=\"https://help.naver.com/support/alias/search/word/word_29.naver\" class=\"kwd_help\" data-clk=\"sly.help\" target=\"_blank\">도움말</a>을 확인해주세요.</span></div>\\n</div>\\n<div class=\"atcmp_footer\">\\n<span class=\"side_opt_area\">\\n<span class=\"opt_item\"><a href=\"https://help.naver.com/support/service/main.help?serviceNo=605&amp;categoryNo=1991\" data-clk=\"sly.help\" target=\"_blank\">도움말</a></span>\\n</span>\\n<span class=\"rside_opt_area\">\\n<span class=\"opt_item\">\\n<!-- [AU] _keywordOnOff 클래스를 추가해주세요. -->\\n<a href=\"#\" class=\"close _keywordOnOff\">자동저장 끄기</a>\\n</span>\\n</span>\\n</div>\\n</div>\\n<!-- 자동완성 -->\\n<!-- [AU] _atcmp_layer 클래스를 추가해주세요. -->\\n<div class=\"atcmp_fixer _atcmp_layer\" style=\"display:none;\">\\n<!-- [AU] _words 클래스를 추가해주세요. -->\\n<div class=\"atcmp_container _words\">\\n<!-- 정답형 템플릿 : 로또당첨번호 -->\\n<!-- [AU] _answer 클래스를 추가해주세요. -->\\n<!-- [AU] data-template-type=\"answer_3\" data-code=\"@code@\" data-keyword=\"@1@\" attribute를 추가해주세요. -->\\n<div class=\"atcmp_correct type_lotto _answer\" data-template-type=\"answer_3\" data-code=\"@code@\" data-keyword=\"@1@\">\\n<a href=\"#\" class=\"link_item\">\\n<span class=\"common_ico_kwd\"><i class=\"imsc ico_search\"></i></span>\\n<div class=\"dsc_area\">\\n<span class=\"tit\">@5@회차 당첨번호</span>\\n<span class=\"dsc\">\\n<span class=\"item\">추첨 @13@.</span><span class=\"item\">지급기한 1년</span>\\n</span>\\n</div>\\n<span class=\"etc_area\">\\n<span class=\"etc lotto\">\\n<em class=\"n@6@\">@6@</em><em class=\"n@7@\">@7@</em><em class=\"n@8@\">@8@</em><em class=\"n@9@\">@9@</em><em class=\"n@10@\">@10@</em><em class=\"n@11@\">@11@</em><em class=\"imsc_bf bonus n@12@\">@12@</em>\\n</span>\\n</span>\\n</a>\\n</div>\\n<!-- 정답형 템플릿 : 환율 -->\\n<!-- [AU] _answer 클래스를 추가해주세요. -->\\n<!-- [AU] data-template-type=\"answer_9\" data-code=\"@code@\" data-keyword=\"@1@\" attribute를 추가해주세요. -->\\n<div class=\"atcmp_correct type_exchange _answer\" data-template-type=\"answer_9\" data-code=\"@code@\" data-keyword=\"@1@\">\\n<!-- [D] 상승 up, 하락 down 추가 -->\\n<a href=\"#\" class=\"link_item @11@\">\\n<!-- [D] 국가별 class 가나다순\\nZAR 남아프리카 공화국\\nNPR 네팔\\nNOK 노르웨이\\nNZD 뉴질랜드\\nTWD 대만\\nDKK 덴마크\\nRUB 러시아\\nMOP 마카오\\nMYR 말레이시아\\nMXN 멕시코\\nMNT 몽골\\nUSD 미국\\nBHD 바레인\\nBDT 방글라데시\\nVND 베트남\\nBRL 브라질\\nSAR 사우디아라비아\\nSEK 스웨덴\\nCHF 스위스\\nSGD 싱가포르\\nAED 아랍에미리트\\nGBP 영국\\nEUR 유럽연합\\nILS 이스라엘\\nEGP 이집트\\nINR 인도\\nIDR 인도네시아\\nJPY 일본\\nCNY 중국\\nCZK 체코\\nCLP 칠레\\nKZT 카자흐스탄\\nQAR 카타르\\nCAD 캐나다\\nKWD 쿠웨이트\\nTHB 태국\\nTRY 터키\\nPKR 파키스탄\\nPLN 폴란드\\nPHP 필리핀\\nHUF 헝가리\\nAUD 호주\\nHKD 홍콩\\n-->\\n<span class=\"common_ico_kwd\"><i class=\"imsc ico @12@\">@14@</i></span>\\n<div class=\"dsc_area\">\\n<span class=\"tit\">@txt@<span class=\"sub\">@currency@</span></span>\\n<span class=\"dsc\">\\n<span class=\"item\"><i class=\"imsc ico_arr\"></i>@8@(@9@%)</span>\\n</span>\\n</div>\\n<span class=\"etc_area\">\\n<span class=\"etc\"><em class=\"num\">@6@</em>원</span>\\n</span>\\n</a>\\n</div>\\n<!-- 정답형 템플릿 : 날씨(국내11, 해외12) -->\\n<!-- [AU] _answer 클래스를 추가해주세요. -->\\n<!-- [AU] data-template-type=\"answer_11\" data-code=\"@code@\" data-keyword=\"@1@\" attribute를 추가해주세요. -->\\n<div class=\"atcmp_correct type_weather _answer\" data-template-type=\"answer_11\" data-code=\"@code@\" data-keyword=\"@1@\">\\n<!-- [D] 상승 up, 하락 down 추가 -->\\n<a href=\"#\" class=\"link_item @12@\">\\n<span class=\"common_ico_kwd\"><i class=\"imsc ico_search\"></i></span>\\n<div class=\"dsc_area\">\\n<span class=\"tit\">@txt@</span>\\n<span class=\"dsc\">\\n<span class=\"item\">@7@, @message@</span>\\n</span>\\n</div>\\n<span class=\"etc_area\">\\n<span class=\"etc\">\\n<!-- [D] 날씨별 class\\nico1 맑음(낮)\\nico2 맑음(밤)\\nico3 구름조금(낮)\\nico4 구름조금(밤)\\nico5 구름많음(낮)\\nico6 구름많음(밤)\\nico7 흐림\\nico8 약한비\\nico9 비\\nico10 강한비\\nico11 약한눈\\nico12 눈\\nico13 강한눈\\nico14 진눈깨비\\nico15 소나기\\nico16 안개\\nico17 소낙눈\\nico18 번개뇌우\\nico19 우박\\nico20 황사\\nico21 비또는눈\\nico22 가끔비\\nico23 가끔눈\\nico24 가끔비또는눈\\nico25 흐린후갬\\nico26 뇌우후갬\\nico27 비후갬\\nico28 눈후갬\\nico29 흐려져비\\nico30 흐려져눈\\n-->\\n<span class=\"ico_weather\"><i class=\"imsc ico ico@iconNo@\">@7@</i></span>\\n<em class=\"degree\">@8@<sup class=\"celsius\">°</sup></em>\\n</span>\\n</span>\\n</a>\\n</div>\\n<!-- 정답형 템플릿 : 사이트 바로가기 -->\\n<!-- [AU] _answer 클래스를 추가해주세요. -->\\n<!-- [AU] data-template-type=\"answer_17\" data-code=\"@code@\" data-keyword=\"@1@\" attribute를 추가해주세요. -->\\n<div class=\"atcmp_correct type_site _answer\" data-template-type=\"answer_17\" data-code=\"@code@\" data-keyword=\"@1@\">\\n<a href=\"@5@\" class=\"link_item\" target=\"_blank\">\\n<span class=\"common_ico_kwd\"><i class=\"imsc ico_url\"></i></span>\\n<div class=\"dsc_area\">\\n<span class=\"tit\">@txt@</span>\\n<span class=\"dsc\">\\n<span class=\"item\">@5@</span>\\n</span>\\n</div>\\n<span class=\"etc_area\">\\n<span class=\"etc\">바로가기</span>\\n</span>\\n</a>\\n</div>\\n<!-- [AU] _kwd_list 클래스를 추가해주세요. -->\\n<ul class=\"kwd_lst _kwd_list\">\\n<!-- [AU] 자동완성 검색어 템플릿 -->\\n<!-- [AU] _item 클래스를 추가해주세요. -->\\n<!-- [AU] data-rank=\"@rank@\" data-template-type=\"suggestion\" data-keyword=\"@in_txt@\" attribute를 추가해주세요. -->\\n<li class=\"item _item\" data-rank=\"@rank@\" data-template-type=\"suggestion\" data-keyword=\"@in_txt@\">\\n<a href=\"#\" class=\"kwd\">\\n<span class=\"fix\"><span class=\"common_ico_kwd\"><i class=\"imsc ico_search\"></i></span>@txt@</span>\\n</a>\\n<span class=\"etc\">\\n<a href=\"#\" role=\"button\" class=\"bt_item _add\" aria-pressed=\"false\"><i class=\"imsc ico_insert\">추가</i></a>\\n</span>\\n</li>\\n<!-- [AU] 최근검색어 템플릿 -->\\n<!-- [AU] _item 클래스를 추가해주세요. -->\\n<!-- [AU] data-rank=\"@rank@\" data-template-type=\"history\" data-keyword=\"@in_txt@\" attribute를 추가해주세요. -->\\n<li class=\"item has_correct _item\" data-rank=\"@rank@\" data-template-type=\"history\" data-keyword=\"@in_txt@\">\\n<a href=\"#\" class=\"kwd\">\\n<span class=\"fix\"><span class=\"common_ico_kwd\"><i class=\"imsc ico_search\"></i></span>@txt@</span>\\n</a>\\n<span class=\"etc\">\\n<!-- 최근검색어 있으면 날짜 표시 -->\\n<em class=\"date\">@date@.</em>\\n<a href=\"#\" role=\"button\" class=\"bt_item _add\" aria-pressed=\"false\"><i class=\"imsc ico_insert\">추가</i></a>\\n</span>\\n</li>\\n</ul>\\n<!-- [AU] 문맥검색 템플릿 -->\\n<!-- [AU] _item 클래스를 추가해주세요. -->\\n<!-- [AU] data-rank=\"@rank@\" data-template-type=\"intend\" data-keyword=\"@transQuery@\" attribute를 추가해주세요. -->\\n<li class=\"item has_correct _item\" data-rank=\"@rank@\" data-intend-rank=\"@intendRank@\" data-template-type=\"intend\" data-keyword=\"@transQuery@\">\\n<a href=\"#\" class=\"kwd\">\\n<span class=\"fix\"><span class=\"common_ico_kwd\"><i class=\"imsc ico_search\"></i></span>@query@ <span class=\"context\">@intend@</span></span>\\n</a>\\n<span class=\"etc\">\\n<a href=\"#\" role=\"button\" class=\"bt_item _add\" aria-pressed=\"false\"><i class=\"imsc ico_insert\">추가</i></a>\\n</span>\\n</li>\\n<!-- [D] 선거안내문구 -->\\n<!-- [AU] _alert 클래스를 추가해주세요. -->\\n<div class=\"atcmp_alert _alert\">\\n<div class=\"dsc_election\">\\n<i class=\"imsc ico_election\"></i>\\n<p class=\"dsc\">선거 후보자에 대해 자동완성을 제공하지 않습니다.\\n<span class=\"dsc_inner\">기간 : 4월 2일 0시 ~ 4월 15일 18시까지</span>\\n<a href=\"#\" class=\"link\">자세히보기</a>\\n</p>\\n</div>\\n</div>\\n<!-- [AU] _plus 클래스를 추가해주세요. -->\\n<div class=\"atcmp_plus _plus\">\\n<div class=\"dsc_plus\">\\n<a href=\"https://help.naver.com/support/contents/contents.nhn?serviceNo=606&categoryNo=16658\" class=\"link_dsc\" data-clk=\"sug.cxhelp\" target=\"_blank\">관심사를 반영한 컨텍스트 자동완성<i class=\"imsc ico_help\">도움말</i></a>\\n</div>\\n<div class=\"switch\">\\n<!-- [D] 선택시 aria-pressed=\"ture/false\" -->\\n<!-- [AU] _plus_btn 클래스를 추가해주세요. -->\\n<a role=\"button\" href=\"#\" class=\"bt_switch active _plus_btn\" aria-pressed=\"false\"><i class=\"imsc ico_option\">컨텍스트 자동완성</i></a>\\n</div>\\n<!-- [AU] _plus_layer 클래스를 추가해주세요. -->\\n<div class=\"layer_plus _plus_layer\">\\n<strong class=\"tit\">컨텍스트 자동완성</strong>\\n<!-- [AU] _plus_layer_isloggedin 클래스를 추가해주세요. -->\\n<!-- [AU] style=\"display:none\" 추가해주세요. -->\\n<div class=\"_plus_layer_isloggedin\" style=\"display:none\">\\n<p class=\"dsc\">ON/OFF 설정은<br>해당기기(브라우저)에 저장됩니다.</p>\\n<div class=\"btn_area\">\\n<a href=\"https://help.naver.com/support/contents/contents.help?serviceNo=606&categoryNo=16659\" class=\"btn btn_view\" data-clk=\"sug.cxlink\" target=\"_blank\">자세히</a>\\n</div>\\n</div>\\n<!-- [AU] _plus_layer_isnotloggedin 클래스를 추가해주세요. -->\\n<!-- [AU] style=\"display:none\" 추가해주세요. -->\\n<div class=\"_plus_layer_isnotloggedin\" style=\"display:none\">\\n<p class=\"dsc\"><em class=\"txt\">동일한 시간대/연령/남녀별</em> 사용자 그룹의<br>관심사에 맞춰 자동완성을 제공합니다.</p>\\n<div class=\"btn_area\">\\n<a href=\"https://nid.naver.com/nidlogin.login\" class=\"btn btn_login\" data-clk=\"sug.cxlogin\">로그인</a>\\n<a href=\"https://help.naver.com/support/alias/search/word/word_16.naver\" class=\"btn btn_view\" data-clk=\"sug.cxlink\" target=\"_blank\">자세히</a>\\n</div>\\n</div>\\n<!-- [AU] _plus_layer_close 클래스를 추가해주세요. -->\\n<a href=\"#\" role=\"button\" class=\"btn_close _plus_layer_close\"><i class=\"imsc ico_close\">컨텍스트 자동완성 레이어 닫기</i></a>\\n</div>\\n</div>\\n</div>\\n<div class=\"atcmp_footer\">\\n<span class=\"side_opt_area\">\\n<span class=\"opt_item\"><a href=\"https://help.naver.com/support/service/main.help?serviceNo=605&categoryNo=1987\" data-clk=\"sug.help\" target=\"_blank\">도움말</a></span>\\n<span class=\"opt_item\"><a href=\"https://help.naver.com/support/contents/contents.help?serviceNo=605&categoryNo=18215\" class=\"report\" data-clk=\"sug.report\" target=\"_blank\">신고</a></span>\\n</span>\\n<span class=\"rside_opt_area\">\\n<span class=\"opt_item\">\\n<!-- [AU] _suggestOnOff 클래스를 추가해주세요. -->\\n<a href=\"#\" class=\"close _suggestOnOff\">자동완성 끄기</a>\\n</span>\\n</span>\\n</div>\\n</div>\\n</div>\\n</div>\\n</div>\\n</div>\\n\\n</div>\\n</div>\\n\\n<!--EMPTY-->\\n<div id=\"gnb\">\\n<div id=\"NM_FAVORITE\" class=\"gnb_inner\">\\n<div class=\"group_nav\">\\n<ul class=\"list_nav type_fix\">\\n<li class=\"nav_item\">\\n<a href=\"https://mail.naver.com/\" class=\"nav\" data-clk=\"svc.mail\"><i class=\"ico_mail\"></i>메일</a>\\n</li>\\n<li class=\"nav_item\"><a href=\"https://section.cafe.naver.com/\" class=\"nav\" data-clk=\"svc.cafe\">카페</a></li>\\n<li class=\"nav_item\"><a href=\"https://section.blog.naver.com/\" class=\"nav\" data-clk=\"svc.blog\">블로그</a></li>\\n<li class=\"nav_item\"><a href=\"https://kin.naver.com/\" class=\"nav\" data-clk=\"svc.kin\">지식iN</a></li>\\n<li class=\"nav_item\"><a href=\"https://shopping.naver.com/\" class=\"nav\" data-clk=\"svc.shopping\">쇼핑</a></li>\\n<li class=\"nav_item\"><a href=\"https://order.pay.naver.com/home\" class=\"nav\" data-clk=\"svc.pay\">Pay</a></li>\\n<li class=\"nav_item\">\\n<a href=\"https://tv.naver.com/\" class=\"nav\" data-clk=\"svc.tvcast\"><i class=\"ico_tv\"></i>TV</a>\\n</li>\\n</ul>\\n<ul\\nclass=\"list_nav NM_FAVORITE_LIST\"\\n>\\n<li class=\"nav_item\"><a href=\"https://dict.naver.com/\" class=\"nav\" data-clk=\"svc.dic\">사전</a></li>\\n<li class=\"nav_item\"><a href=\"https://news.naver.com/\" class=\"nav\" data-clk=\"svc.news\">뉴스</a></li>\\n<li class=\"nav_item\"><a href=\"https://finance.naver.com/\" class=\"nav\" data-clk=\"svc.stock\">증권</a></li>\\n<li class=\"nav_item\"><a href=\"https://land.naver.com/\" class=\"nav\" data-clk=\"svc.land\">부동산</a></li>\\n<li class=\"nav_item\"><a href=\"https://map.naver.com/\" class=\"nav\" data-clk=\"svc.map\">지도</a></li>\\n<li class=\"nav_item\"><a href=\"https://movie.naver.com/\" class=\"nav\" data-clk=\"svc.movie\">영화</a></li>\\n<li class=\"nav_item\"><a href=\"https://vibe.naver.com/\" class=\"nav\" data-clk=\"svc.vibe\">VIBE</a>\\n<li class=\"nav_item\"><a href=\"https://book.naver.com/\" class=\"nav\" data-clk=\"svc.book\">책</a></li>\\n<li class=\"nav_item\"><a href=\"https://comic.naver.com/\" class=\"nav\" data-clk=\"svc.webtoon\">웹툰</a></li>\\n\\n</ul>\\n<ul class=\"list_nav type_empty\" style=\"display: none;\"></ul>\\n<a href=\"#\" role=\"button\" class=\"btn_more\" data-clk=\"svc.more\">더보기</a>\\n<div class=\"ly_btn_area\">\\n<a href=\"more.html\" class=\"btn NM_FAVORITE_ALL\" data-clk=\"map.svcmore\">서비스 전체보기</a>\\n<a href=\"#\" role=\"button\" class=\"btn btn_set\" data-clk=\"map.edit\">메뉴설정</a>\\n<a href=\"#\" role=\"button\" class=\"btn btn_reset\" data-clk=\"edt.reset\">초기화</a>\\n<a href=\"#\" role=\"button\" class=\"btn btn_save\" data-clk=\"edt.save\">저장</a>\\n</div>\\n</div>\\n<div id=\"rtk\" class=\"group_keyword\" data-clk-prefix=\"lve\">\\n<div id=\"NM_RTK_ROLLING_WRAP\" class=\"keyword_area\" data-clk=\"open\"></div>\\n</div>\\n<div id=\"NM_RTK_VIEW\" data-clk-prefix=\"lve\"></div>\\n\\n</div>\\n<div class=\"ly_service\">\\n<div class=\"group_service NM_FAVORITE_ALL_LY\"></div>\\n<div class=\"group_service NM_FAVORITE_EDIT_LY\" style=\"display: none;\"></div>\\n</div>\\n</div>\\n</div>\\n <div id=\"container\" role=\"main\"> <div style=\"position:relative;width:1130px;margin:0 auto;z-index:11\"> <div id=\"da_top\"></div> <div id=\"da_expwide\"></div> </div> <div id=\"NM_INT_LEFT\" class=\"column_left\">  <div id=\"veta_top\"> <iframe id=\"da_iframe_time\" name=\"da_iframe_time\" data-iframe-src=\"https://siape.veta.naver.com/fxshow?su=SU10599&amp;nrefreshx=0\" data-veta-preview=\"main_time\" title=\"광고\" width=\"750\" height=\"135\" marginheight=\"0\" marginwidth=\"0\" scrolling=\"no\" frameborder=\"0\"> </iframe> <span class=\"veta_bd_t\"></span> <span class=\"veta_bd_b\"></span> <span class=\"veta_bd_l\"></span> <span class=\"veta_bd_r\"></span> </div> <div id=\"newsstand\" class=\"sc_newscast\"> <h2 class=\"blind\">뉴스스탠드</h2> <div id=\"NM_NEWSSTAND_HEADER\" class=\"group_issue\" data-clk-prefix=\"ncy\"> <div class=\"issue_area\"> <a href=\"http://news.naver.com/main/list.nhn?mode=LPOD&mid=sec&sid1=001&sid2=140&oid=001&isYeonhapFlash=Y\" class=\"link_media\" data-clk=\"newsflash\">연합뉴스</a> <div id=\"yna_rolling\" class=\"list_issue\"> <div><a href=\"http://news.naver.com/main/list.nhn?mode=LPOD&mid=sec&sid1=001&sid2=140&oid=001&isYeonhapFlash=Y&aid=0012162932\" class=\"issue\" data-clk=\"quickarticle\">[2보] 이마트, 1천352억원에 SK와이번스 인수…다음달 본계약</a></div>\\n<div><a href=\"http://news.naver.com/main/list.nhn?mode=LPOD&mid=sec&sid1=001&sid2=140&oid=001&isYeonhapFlash=Y&aid=0012162882\" class=\"issue\" data-clk=\"quickarticle\">초등 저학년·특수학교 등교 확대…과밀학급에 교사 2천명 배치</a></div>\\n<div><a href=\"http://news.naver.com/main/list.nhn?mode=LPOD&mid=sec&sid1=001&sid2=140&oid=001&isYeonhapFlash=Y&aid=0012162989\" class=\"issue\" data-clk=\"quickarticle\">정부 \"거리두기 단계 조정 논의 중…가급적 이번주 금요일 결정\"</a></div>\\n<div><a href=\"http://news.naver.com/main/list.nhn?mode=LPOD&mid=sec&sid1=001&sid2=140&oid=001&isYeonhapFlash=Y&aid=0012162949\" class=\"issue\" data-clk=\"quickarticle\">野 \"박범계, 추미애 시즌2 예고…임명 철회하라\"</a></div>\\n<div><a href=\"http://news.naver.com/main/list.nhn?mode=LPOD&mid=sec&sid1=001&sid2=140&oid=001&isYeonhapFlash=Y&aid=0012162907\" class=\"issue\" data-clk=\"quickarticle\">이재용 \"흔들림없이 한마음 돼 달라…국민과의 약속 지켜야\"</a></div>\\n<div><a href=\"http://news.naver.com/main/list.nhn?mode=LPOD&mid=sec&sid1=001&sid2=140&oid=001&isYeonhapFlash=Y&aid=0012162870\" class=\"issue\" data-clk=\"quickarticle\">백운규 조사로 정점 향하는 \\'월성원전 수사\\'…내달 마무리 전망</a></div>\\n<div><a href=\"http://news.naver.com/main/list.nhn?mode=LPOD&mid=sec&sid1=001&sid2=140&oid=001&isYeonhapFlash=Y&aid=0012162830\" class=\"issue\" data-clk=\"quickarticle\">\\'朴 피소 유출\\' 의혹 남인순 \"제 불찰… 피해자에 깊이 사과\"</a></div>\\n<div><a href=\"http://news.naver.com/main/list.nhn?mode=LPOD&mid=sec&sid1=001&sid2=140&oid=001&isYeonhapFlash=Y&aid=0012162791\" class=\"issue\" data-clk=\"quickarticle\">\"\\'아파트 부자\\' 국회의원 30명…시세보다 34% 낮게 신고\"</a></div>\\n<div><a href=\"http://news.naver.com/main/list.nhn?mode=LPOD&mid=sec&sid1=001&sid2=140&oid=001&isYeonhapFlash=Y&aid=0012162372\" class=\"issue\" data-clk=\"quickarticle\">정의당 \"음주여부·피해사실 공개, 사건 본질 흐린다\"</a></div>\\n<div><a href=\"http://news.naver.com/main/list.nhn?mode=LPOD&mid=sec&sid1=001&sid2=140&oid=001&isYeonhapFlash=Y&aid=0012162795\" class=\"issue\" data-clk=\"quickarticle\">바이든 \\'바이 아메리카\\', 트럼프 \\'아메리카 퍼스트\\' 2.0 되나</a></div> </div> </div> <div class=\"direct_area\"> <a href=\"http://news.naver.com/\" class=\"link_news\" data-clk=\"newshome\">네이버뉴스</a>\\n<a href=\"http://entertain.naver.com/home\" class=\"link_direct\" data-clk=\"entertainment\">연예</a>\\n<a href=\"http://sports.news.naver.com/\" class=\"link_direct\" data-clk=\"sports\">스포츠</a>\\n<a href=\"http://news.naver.com/main/main.nhn?mode=LSD&mid=shm&sid1=101\" class=\"link_direct\" data-clk=\"economy\">경제</a> </div> </div>        <div id=\"NM_NEWSSTAND_TITLE\" class=\"group_title\" data-clk-prefix=\"nsd\"> <a href=\"http://newsstand.naver.com/\" class=\"link_newsstand\" data-clk=\"title\" target=\"_blank\">뉴스스탠드</a> <div id=\"NM_NEWSSTAND_data_buttons\" class=\"sort_area\">  <a href=\"#\" role=\"button\" data-type=\"my\" data-clk=\"my\" class=\"btn_sort\">구독한 언론사</a> <a href=\"#\" role=\"button\" data-type=\"all\" data-clk=\"all\" class=\"btn_sort sort_on\">전체언론사</a>  </div> <div id=\"NM_NEWSSTAND_view_buttons\" class=\"set_area\">  <a href=\"#\" role=\"button\" data-type=\"list\" data-clk=\"articleview\" class=\"btn_set\"> <i class=\"ico_list\"><span class=\"blind\">리스트형</span></i></a> <a href=\"#\" role=\"button\" data-type=\"thumb\" data-clk=\"pressview\" class=\"btn_set set_on\"> <i class=\"ico_tile\"><span class=\"blind\">썸네일형</span></i></a>  <a href=\"http://newsstand.naver.com/config.html\" class=\"btn_set\" data-clk=\"set\" target=\"_blank\"> <i class=\"ico_set\"><span class=\"blind\">설정</span></i></a> </div> </div> <div id=\"NM_NEWSSTAND_VIEW_CONTAINER\" style=\"position:relative\"> <div id=\"NM_NEWSSTAND_DEFAULT_LIST\" class=\"group_news\" style=\"display:none\" data-clk-prefix=\"nsd_all\"> <a href=\"#\" role=\"button\" class=\"pm_btn_prev_l _NM_NEWSSTAND_LIST_prev_btn\" data-clk-custom=\"prev\"><i class=\"ico_btn\"><span class=\"blind\">이전</span></i></a> <a href=\"#\" role=\"button\" class=\"pm_btn_next_l _NM_NEWSSTAND_LIST_next_btn\" data-clk-custom=\"next\"><i class=\"ico_btn\"><span class=\"blind\">다음</span></i></a> <div class=\"list_view\"> <div class=\"option_area\"> <div class=\"list_option_wrap\"> <ul class=\"list_option\"> <li class=\"option_item\" data-cateid=\"ct2\"><a href=\"#\" class=\"option\" data-clk=\"daei\">종합/경제</a></li> <li class=\"option_item\" data-cateid=\"ct3\"><a href=\"#\" class=\"option\" data-clk=\"dtvcom\">방송/통신</a></li> <li class=\"option_item\" data-cateid=\"ct4\"><a href=\"#\" class=\"option\" data-clk=\"dit\">IT</a></li> <li class=\"option_item\" data-cateid=\"ct5\"><a href=\"#\" class=\"option\" data-clk=\"deng\">영자지</a></li> <li class=\"option_item\" data-cateid=\"ct6\"><a href=\"#\" class=\"option\" data-clk=\"dsporent\">스포츠/연예</a></li> <li class=\"option_item\" data-cateid=\"ct7\"><a href=\"#\" class=\"option\" data-clk=\"dmagtec\">매거진/전문지</a></li> <li class=\"option_item\" data-cateid=\"ct8\"><a href=\"#\" class=\"option\" data-clk=\"dloc\">지역</a></li> </ul> </div> </div> <div class=\"_NM_NEWSSTAND_ARTICLE_CONTAINER\" data-clk-sub=\"*a\"></div> </div> <div class=\"ly_popup NM_NEWSSTAND_POPUP NM_NEWSSTAND_invalid\" style=\"display:none\" data-clk-sub=\"*a\"> <a href=\"#\" role=\"button\" class=\"btn_close NM_NEWSSTAND_POPUP_CLOSE\"><i class=\"ico_close\"></i><span class=\"blind\">닫기</span></a> <p class=\"popup_msg\">해당 언론사 사정으로 접근이 일시 제한됩니다.</p> <div class=\"popup_btn\"> <a href=\"#\" role=\"button\" class=\"btn_confirm NM_NEWSSTAND_POPUP_CLOSE\">확인</a> </div> </div> <div class=\"ly_popup NM_NEWSSTAND_POPUP NM_NEWSSTAND_undescribe_confirm\" style=\"display:none\" data-clk-sub=\"*a\"> <a href=\"#\" role=\"button\" class=\"btn_close NM_NEWSSTAND_POPUP_CLOSE\" data-clk=\"usclose\"><i class=\"ico_close\"></i><span class=\"blind\">닫기</span></a> <p class=\"popup_msg\"><strong class=\"NM_NEWSSTAND_POPUP_PNAME\"></strong>을(를)<br>구독해지 하시겠습니까?</p> <div class=\"popup_btn\"> <a href=\"#\" role=\"button\" class=\"btn_confirm NM_NEWSSTAND_POPUP_CONFIRM\" data-clk=\"usdone\">확인</a> <a href=\"#\" role=\"button\" class=\"btn_confirm NM_NEWSSTAND_POPUP_CLOSE\" data-clk=\"uscancel\">취소</a> </div> </div> <div class=\"ly_toast NM_NEWSSTAND_TOAST\" style=\"display:none\"> <p class=\"toast_msg\">구독한 언론사에 추가되었습니다.</p> </div> </div>   <div id=\"NM_NEWSSTAND_DEFAULT_THUMB\" class=\"group_news\" style=\"display:block\" data-clk-prefix=\"nsd_all\"> <a href=\"#\" role=\"button\" class=\"pm_btn_prev_l _NM_UI_PAGE_PREV\" data-clk-custom=\"prev\"><i class=\"ico_btn\"><span class=\"blind\">이전</span></i></a> <a href=\"#\" role=\"button\" class=\"pm_btn_next_l _NM_UI_PAGE_NEXT\" data-clk-custom=\"next\"><i class=\"ico_btn\"><span class=\"blind\">다음</span></i></a> <div class=\"_NM_UI_PAGE_CONTAINER\" style=\"height:100%;overflow:hidden\" data-clk-sub=\"*p\">   <div style=\"width: 750px; float: left;\">\\n<div class=\"tile_view\">\\n<div class=\"frame_area\">\\n<i class=\"line to_right1\"></i>\\n<i class=\"line to_right2\"></i>\\n<i class=\"line to_right3\"></i>\\n<i class=\"line to_bottom1\"></i>\\n<i class=\"line to_bottom2\"></i>\\n<i class=\"line to_bottom3\"></i>\\n<i class=\"line to_bottom4\"></i>\\n<i class=\"line to_bottom5\"></i>\\n</div>\\n<div class=\"thumb_area\">\\n<div\\nclass=\"thumb_box _NM_NEWSSTAND_THUMB _NM_NEWSSTAND_THUMB_press_valid\"\\ndata-pid=\"014\"\\n>\\n<a href=\"#\" class=\"thumb\">\\n<img\\nsrc=\"https://s.pstatic.net/static/newsstand/2020/logo/light/0604/014.png\"\\nheight=\"20\"\\nalt=\"파이낸셜뉴스\"\\nclass=\"news_logo\"\\n/>\\n<span class=\"thumb_dim\"></span\\n></a>\\n<div class=\"popup_wrap\">\\n<a\\nhref=\"#\"\\nrole=\"button\"\\nclass=\"btn_popup _NM_NEWSSTAND_THUMB_subscribe_press\"\\ndata-pid=\"014\"\\ndata-clk=\"sub\"\\n>구독</a\\n>\\n<a\\nhref=\"#\"\\nrole=\"button\"\\nclass=\"btn_popup _NM_NEWSSTAND_THUMB_unsubscribe_press\"\\ndata-pid=\"014\"\\ndata-clk=\"unsub\"\\n>해지</a\\n>\\n<a\\nhref=\"http://newsstand.naver.com/?list=&pcode=014\"\\ntarget=\"_blank\"\\nclass=\"btn_popup\"\\ndata-clk=\"logo\"\\ndata-pid=\"014\"\\n>기사보기</a\\n>\\n</div>\\n</div>\\n<div\\nclass=\"thumb_box _NM_NEWSSTAND_THUMB _NM_NEWSSTAND_THUMB_press_valid\"\\ndata-pid=\"214\"\\n>\\n<a href=\"#\" class=\"thumb\">\\n<img\\nsrc=\"https://s.pstatic.net/static/newsstand/2020/logo/light/0604/214.png\"\\nheight=\"20\"\\nalt=\"MBC\"\\nclass=\"news_logo\"\\n/>\\n<span class=\"thumb_dim\"></span\\n></a>\\n<div class=\"popup_wrap\">\\n<a\\nhref=\"#\"\\nrole=\"button\"\\nclass=\"btn_popup _NM_NEWSSTAND_THUMB_subscribe_press\"\\ndata-pid=\"214\"\\ndata-clk=\"sub\"\\n>구독</a\\n>\\n<a\\nhref=\"#\"\\nrole=\"button\"\\nclass=\"btn_popup _NM_NEWSSTAND_THUMB_unsubscribe_press\"\\ndata-pid=\"214\"\\ndata-clk=\"unsub\"\\n>해지</a\\n>\\n<a\\nhref=\"http://newsstand.naver.com/?list=&pcode=214\"\\ntarget=\"_blank\"\\nclass=\"btn_popup\"\\ndata-clk=\"logo\"\\ndata-pid=\"214\"\\n>기사보기</a\\n>\\n</div>\\n</div>\\n<div\\nclass=\"thumb_box _NM_NEWSSTAND_THUMB _NM_NEWSSTAND_THUMB_press_valid\"\\ndata-pid=\"241\"\\n>\\n<a href=\"#\" class=\"thumb\">\\n<img\\nsrc=\"https://s.pstatic.net/static/newsstand/2020/logo/light/0604/241.png\"\\nheight=\"20\"\\nalt=\"일간스포츠\"\\nclass=\"news_logo\"\\n/>\\n<span class=\"thumb_dim\"></span\\n></a>\\n<div class=\"popup_wrap\">\\n<a\\nhref=\"#\"\\nrole=\"button\"\\nclass=\"btn_popup _NM_NEWSSTAND_THUMB_subscribe_press\"\\ndata-pid=\"241\"\\ndata-clk=\"sub\"\\n>구독</a\\n>\\n<a\\nhref=\"#\"\\nrole=\"button\"\\nclass=\"btn_popup _NM_NEWSSTAND_THUMB_unsubscribe_press\"\\ndata-pid=\"241\"\\ndata-clk=\"unsub\"\\n>해지</a\\n>\\n<a\\nhref=\"http://newsstand.naver.com/?list=&pcode=241\"\\ntarget=\"_blank\"\\nclass=\"btn_popup\"\\ndata-clk=\"logo\"\\ndata-pid=\"241\"\\n>기사보기</a\\n>\\n</div>\\n</div>\\n<div\\nclass=\"thumb_box _NM_NEWSSTAND_THUMB _NM_NEWSSTAND_THUMB_press_valid\"\\ndata-pid=\"032\"\\n>\\n<a href=\"#\" class=\"thumb\">\\n<img\\nsrc=\"https://s.pstatic.net/static/newsstand/2020/logo/light/0604/032.png\"\\nheight=\"20\"\\nalt=\"경향신문\"\\nclass=\"news_logo\"\\n/>\\n<span class=\"thumb_dim\"></span\\n></a>\\n<div class=\"popup_wrap\">\\n<a\\nhref=\"#\"\\nrole=\"button\"\\nclass=\"btn_popup _NM_NEWSSTAND_THUMB_subscribe_press\"\\ndata-pid=\"032\"\\ndata-clk=\"sub\"\\n>구독</a\\n>\\n<a\\nhref=\"#\"\\nrole=\"button\"\\nclass=\"btn_popup _NM_NEWSSTAND_THUMB_unsubscribe_press\"\\ndata-pid=\"032\"\\ndata-clk=\"unsub\"\\n>해지</a\\n>\\n<a\\nhref=\"http://newsstand.naver.com/?list=&pcode=032\"\\ntarget=\"_blank\"\\nclass=\"btn_popup\"\\ndata-clk=\"logo\"\\ndata-pid=\"032\"\\n>기사보기</a\\n>\\n</div>\\n</div>\\n<div\\nclass=\"thumb_box _NM_NEWSSTAND_THUMB _NM_NEWSSTAND_THUMB_press_valid\"\\ndata-pid=\"030\"\\n>\\n<a href=\"#\" class=\"thumb\">\\n<img\\nsrc=\"https://s.pstatic.net/static/newsstand/2020/logo/light/0604/030.png\"\\nheight=\"20\"\\nalt=\"전자신문\"\\nclass=\"news_logo\"\\n/>\\n<span class=\"thumb_dim\"></span\\n></a>\\n<div class=\"popup_wrap\">\\n<a\\nhref=\"#\"\\nrole=\"button\"\\nclass=\"btn_popup _NM_NEWSSTAND_THUMB_subscribe_press\"\\ndata-pid=\"030\"\\ndata-clk=\"sub\"\\n>구독</a\\n>\\n<a\\nhref=\"#\"\\nrole=\"button\"\\nclass=\"btn_popup _NM_NEWSSTAND_THUMB_unsubscribe_press\"\\ndata-pid=\"030\"\\ndata-clk=\"unsub\"\\n>해지</a\\n>\\n<a\\nhref=\"http://newsstand.naver.com/?list=&pcode=030\"\\ntarget=\"_blank\"\\nclass=\"btn_popup\"\\ndata-clk=\"logo\"\\ndata-pid=\"030\"\\n>기사보기</a\\n>\\n</div>\\n</div>\\n<div\\nclass=\"thumb_box _NM_NEWSSTAND_THUMB _NM_NEWSSTAND_THUMB_press_valid\"\\ndata-pid=\"023\"\\n>\\n<a href=\"#\" class=\"thumb\">\\n<img\\nsrc=\"https://s.pstatic.net/static/newsstand/up/2020/0903/nsd185255316.png\"\\nheight=\"20\"\\nalt=\"조선일보\"\\nclass=\"news_logo\"\\n/>\\n<span class=\"thumb_dim\"></span\\n></a>\\n<div class=\"popup_wrap\">\\n<a\\nhref=\"#\"\\nrole=\"button\"\\nclass=\"btn_popup _NM_NEWSSTAND_THUMB_subscribe_press\"\\ndata-pid=\"023\"\\ndata-clk=\"sub\"\\n>구독</a\\n>\\n<a\\nhref=\"#\"\\nrole=\"button\"\\nclass=\"btn_popup _NM_NEWSSTAND_THUMB_unsubscribe_press\"\\ndata-pid=\"023\"\\ndata-clk=\"unsub\"\\n>해지</a\\n>\\n<a\\nhref=\"http://newsstand.naver.com/?list=&pcode=023\"\\ntarget=\"_blank\"\\nclass=\"btn_popup\"\\ndata-clk=\"logo\"\\ndata-pid=\"023\"\\n>기사보기</a\\n>\\n</div>\\n</div>\\n<div\\nclass=\"thumb_box _NM_NEWSSTAND_THUMB _NM_NEWSSTAND_THUMB_press_valid\"\\ndata-pid=\"073\"\\n>\\n<a href=\"#\" class=\"thumb\">\\n<img\\nsrc=\"https://s.pstatic.net/static/newsstand/up/2020/0708/nsd94830278.png\"\\nheight=\"20\"\\nalt=\"스포츠서울\"\\nclass=\"news_logo\"\\n/>\\n<span class=\"thumb_dim\"></span\\n></a>\\n<div class=\"popup_wrap\">\\n<a\\nhref=\"#\"\\nrole=\"button\"\\nclass=\"btn_popup _NM_NEWSSTAND_THUMB_subscribe_press\"\\ndata-pid=\"073\"\\ndata-clk=\"sub\"\\n>구독</a\\n>\\n<a\\nhref=\"#\"\\nrole=\"button\"\\nclass=\"btn_popup _NM_NEWSSTAND_THUMB_unsubscribe_press\"\\ndata-pid=\"073\"\\ndata-clk=\"unsub\"\\n>해지</a\\n>\\n<a\\nhref=\"http://newsstand.naver.com/?list=&pcode=073\"\\ntarget=\"_blank\"\\nclass=\"btn_popup\"\\ndata-clk=\"logo\"\\ndata-pid=\"073\"\\n>기사보기</a\\n>\\n</div>\\n</div>\\n<div\\nclass=\"thumb_box _NM_NEWSSTAND_THUMB _NM_NEWSSTAND_THUMB_press_valid\"\\ndata-pid=\"009\"\\n>\\n<a href=\"#\" class=\"thumb\">\\n<img\\nsrc=\"https://s.pstatic.net/static/newsstand/2020/logo/light/0604/009.png\"\\nheight=\"20\"\\nalt=\"매일경제\"\\nclass=\"news_logo\"\\n/>\\n<span class=\"thumb_dim\"></span\\n></a>\\n<div class=\"popup_wrap\">\\n<a\\nhref=\"#\"\\nrole=\"button\"\\nclass=\"btn_popup _NM_NEWSSTAND_THUMB_subscribe_press\"\\ndata-pid=\"009\"\\ndata-clk=\"sub\"\\n>구독</a\\n>\\n<a\\nhref=\"#\"\\nrole=\"button\"\\nclass=\"btn_popup _NM_NEWSSTAND_THUMB_unsubscribe_press\"\\ndata-pid=\"009\"\\ndata-clk=\"unsub\"\\n>해지</a\\n>\\n<a\\nhref=\"http://newsstand.naver.com/?list=&pcode=009\"\\ntarget=\"_blank\"\\nclass=\"btn_popup\"\\ndata-clk=\"logo\"\\ndata-pid=\"009\"\\n>기사보기</a\\n>\\n</div>\\n</div>\\n<div\\nclass=\"thumb_box _NM_NEWSSTAND_THUMB _NM_NEWSSTAND_THUMB_press_valid\"\\ndata-pid=\"052\"\\n>\\n<a href=\"#\" class=\"thumb\">\\n<img\\nsrc=\"https://s.pstatic.net/static/newsstand/2020/logo/light/0604/052.png\"\\nheight=\"20\"\\nalt=\"YTN\"\\nclass=\"news_logo\"\\n/>\\n<span class=\"thumb_dim\"></span\\n></a>\\n<div class=\"popup_wrap\">\\n<a\\nhref=\"#\"\\nrole=\"button\"\\nclass=\"btn_popup _NM_NEWSSTAND_THUMB_subscribe_press\"\\ndata-pid=\"052\"\\ndata-clk=\"sub\"\\n>구독</a\\n>\\n<a\\nhref=\"#\"\\nrole=\"button\"\\nclass=\"btn_popup _NM_NEWSSTAND_THUMB_unsubscribe_press\"\\ndata-pid=\"052\"\\ndata-clk=\"unsub\"\\n>해지</a\\n>\\n<a\\nhref=\"http://newsstand.naver.com/?list=&pcode=052\"\\ntarget=\"_blank\"\\nclass=\"btn_popup\"\\ndata-clk=\"logo\"\\ndata-pid=\"052\"\\n>기사보기</a\\n>\\n</div>\\n</div>\\n<div\\nclass=\"thumb_box _NM_NEWSSTAND_THUMB _NM_NEWSSTAND_THUMB_press_valid\"\\ndata-pid=\"006\"\\n>\\n<a href=\"#\" class=\"thumb\">\\n<img\\nsrc=\"https://s.pstatic.net/static/newsstand/2020/logo/light/0604/006.png\"\\nheight=\"20\"\\nalt=\"미디어오늘\"\\nclass=\"news_logo\"\\n/>\\n<span class=\"thumb_dim\"></span\\n></a>\\n<div class=\"popup_wrap\">\\n<a\\nhref=\"#\"\\nrole=\"button\"\\nclass=\"btn_popup _NM_NEWSSTAND_THUMB_subscribe_press\"\\ndata-pid=\"006\"\\ndata-clk=\"sub\"\\n>구독</a\\n>\\n<a\\nhref=\"#\"\\nrole=\"button\"\\nclass=\"btn_popup _NM_NEWSSTAND_THUMB_unsubscribe_press\"\\ndata-pid=\"006\"\\ndata-clk=\"unsub\"\\n>해지</a\\n>\\n<a\\nhref=\"http://newsstand.naver.com/?list=&pcode=006\"\\ntarget=\"_blank\"\\nclass=\"btn_popup\"\\ndata-clk=\"logo\"\\ndata-pid=\"006\"\\n>기사보기</a\\n>\\n</div>\\n</div>\\n<div\\nclass=\"thumb_box _NM_NEWSSTAND_THUMB _NM_NEWSSTAND_THUMB_press_valid\"\\ndata-pid=\"327\"\\n>\\n<a href=\"#\" class=\"thumb\">\\n<img\\nsrc=\"https://s.pstatic.net/static/newsstand/2020/logo/light/0604/327.png\"\\nheight=\"20\"\\nalt=\"뉴데일리\"\\nclass=\"news_logo\"\\n/>\\n<span class=\"thumb_dim\"></span\\n></a>\\n<div class=\"popup_wrap\">\\n<a\\nhref=\"#\"\\nrole=\"button\"\\nclass=\"btn_popup _NM_NEWSSTAND_THUMB_subscribe_press\"\\ndata-pid=\"327\"\\ndata-clk=\"sub\"\\n>구독</a\\n>\\n<a\\nhref=\"#\"\\nrole=\"button\"\\nclass=\"btn_popup _NM_NEWSSTAND_THUMB_unsubscribe_press\"\\ndata-pid=\"327\"\\ndata-clk=\"unsub\"\\n>해지</a\\n>\\n<a\\nhref=\"http://newsstand.naver.com/?list=&pcode=327\"\\ntarget=\"_blank\"\\nclass=\"btn_popup\"\\ndata-clk=\"logo\"\\ndata-pid=\"327\"\\n>기사보기</a\\n>\\n</div>\\n</div>\\n<div\\nclass=\"thumb_box _NM_NEWSSTAND_THUMB _NM_NEWSSTAND_THUMB_press_valid\"\\ndata-pid=\"018\"\\n>\\n<a href=\"#\" class=\"thumb\">\\n<img\\nsrc=\"https://s.pstatic.net/static/newsstand/2020/logo/light/0604/018.png\"\\nheight=\"20\"\\nalt=\"이데일리\"\\nclass=\"news_logo\"\\n/>\\n<span class=\"thumb_dim\"></span\\n></a>\\n<div class=\"popup_wrap\">\\n<a\\nhref=\"#\"\\nrole=\"button\"\\nclass=\"btn_popup _NM_NEWSSTAND_THUMB_subscribe_press\"\\ndata-pid=\"018\"\\ndata-clk=\"sub\"\\n>구독</a\\n>\\n<a\\nhref=\"#\"\\nrole=\"button\"\\nclass=\"btn_popup _NM_NEWSSTAND_THUMB_unsubscribe_press\"\\ndata-pid=\"018\"\\ndata-clk=\"unsub\"\\n>해지</a\\n>\\n<a\\nhref=\"http://newsstand.naver.com/?list=&pcode=018\"\\ntarget=\"_blank\"\\nclass=\"btn_popup\"\\ndata-clk=\"logo\"\\ndata-pid=\"018\"\\n>기사보기</a\\n>\\n</div>\\n</div>\\n<div\\nclass=\"thumb_box _NM_NEWSSTAND_THUMB _NM_NEWSSTAND_THUMB_press_valid\"\\ndata-pid=\"002\"\\n>\\n<a href=\"#\" class=\"thumb\">\\n<img\\nsrc=\"https://s.pstatic.net/static/newsstand/2020/logo/light/0604/002.png\"\\nheight=\"20\"\\nalt=\"프레시안\"\\nclass=\"news_logo\"\\n/>\\n<span class=\"thumb_dim\"></span\\n></a>\\n<div class=\"popup_wrap\">\\n<a\\nhref=\"#\"\\nrole=\"button\"\\nclass=\"btn_popup _NM_NEWSSTAND_THUMB_subscribe_press\"\\ndata-pid=\"002\"\\ndata-clk=\"sub\"\\n>구독</a\\n>\\n<a\\nhref=\"#\"\\nrole=\"button\"\\nclass=\"btn_popup _NM_NEWSSTAND_THUMB_unsubscribe_press\"\\ndata-pid=\"002\"\\ndata-clk=\"unsub\"\\n>해지</a\\n>\\n<a\\nhref=\"http://newsstand.naver.com/?list=&pcode=002\"\\ntarget=\"_blank\"\\nclass=\"btn_popup\"\\ndata-clk=\"logo\"\\ndata-pid=\"002\"\\n>기사보기</a\\n>\\n</div>\\n</div>\\n<div\\nclass=\"thumb_box _NM_NEWSSTAND_THUMB _NM_NEWSSTAND_THUMB_press_valid\"\\ndata-pid=\"055\"\\n>\\n<a href=\"#\" class=\"thumb\">\\n<img\\nsrc=\"https://s.pstatic.net/static/newsstand/2020/logo/light/0604/055.png\"\\nheight=\"20\"\\nalt=\"SBS\"\\nclass=\"news_logo\"\\n/>\\n<span class=\"thumb_dim\"></span\\n></a>\\n<div class=\"popup_wrap\">\\n<a\\nhref=\"#\"\\nrole=\"button\"\\nclass=\"btn_popup _NM_NEWSSTAND_THUMB_subscribe_press\"\\ndata-pid=\"055\"\\ndata-clk=\"sub\"\\n>구독</a\\n>\\n<a\\nhref=\"#\"\\nrole=\"button\"\\nclass=\"btn_popup _NM_NEWSSTAND_THUMB_unsubscribe_press\"\\ndata-pid=\"055\"\\ndata-clk=\"unsub\"\\n>해지</a\\n>\\n<a\\nhref=\"http://newsstand.naver.com/?list=&pcode=055\"\\ntarget=\"_blank\"\\nclass=\"btn_popup\"\\ndata-clk=\"logo\"\\ndata-pid=\"055\"\\n>기사보기</a\\n>\\n</div>\\n</div>\\n<div\\nclass=\"thumb_box _NM_NEWSSTAND_THUMB _NM_NEWSSTAND_THUMB_press_valid\"\\ndata-pid=\"044\"\\n>\\n<a href=\"#\" class=\"thumb\">\\n<img\\nsrc=\"https://s.pstatic.net/static/newsstand/2020/logo/light/0604/044.png\"\\nheight=\"20\"\\nalt=\"코리아헤럴드\"\\nclass=\"news_logo\"\\n/>\\n<span class=\"thumb_dim\"></span\\n></a>\\n<div class=\"popup_wrap\">\\n<a\\nhref=\"#\"\\nrole=\"button\"\\nclass=\"btn_popup _NM_NEWSSTAND_THUMB_subscribe_press\"\\ndata-pid=\"044\"\\ndata-clk=\"sub\"\\n>구독</a\\n>\\n<a\\nhref=\"#\"\\nrole=\"button\"\\nclass=\"btn_popup _NM_NEWSSTAND_THUMB_unsubscribe_press\"\\ndata-pid=\"044\"\\ndata-clk=\"unsub\"\\n>해지</a\\n>\\n<a\\nhref=\"http://newsstand.naver.com/?list=&pcode=044\"\\ntarget=\"_blank\"\\nclass=\"btn_popup\"\\ndata-clk=\"logo\"\\ndata-pid=\"044\"\\n>기사보기</a\\n>\\n</div>\\n</div>\\n<div\\nclass=\"thumb_box _NM_NEWSSTAND_THUMB _NM_NEWSSTAND_THUMB_press_valid\"\\ndata-pid=\"337\"\\n>\\n<a href=\"#\" class=\"thumb\">\\n<img\\nsrc=\"https://s.pstatic.net/static/newsstand/2020/logo/light/0604/337.png\"\\nheight=\"20\"\\nalt=\"경북일보\"\\nclass=\"news_logo\"\\n/>\\n<span class=\"thumb_dim\"></span\\n></a>\\n<div class=\"popup_wrap\">\\n<a\\nhref=\"#\"\\nrole=\"button\"\\nclass=\"btn_popup _NM_NEWSSTAND_THUMB_subscribe_press\"\\ndata-pid=\"337\"\\ndata-clk=\"sub\"\\n>구독</a\\n>\\n<a\\nhref=\"#\"\\nrole=\"button\"\\nclass=\"btn_popup _NM_NEWSSTAND_THUMB_unsubscribe_press\"\\ndata-pid=\"337\"\\ndata-clk=\"unsub\"\\n>해지</a\\n>\\n<a\\nhref=\"http://newsstand.naver.com/?list=&pcode=337\"\\ntarget=\"_blank\"\\nclass=\"btn_popup\"\\ndata-clk=\"logo\"\\ndata-pid=\"337\"\\n>기사보기</a\\n>\\n</div>\\n</div>\\n<div\\nclass=\"thumb_box _NM_NEWSSTAND_THUMB _NM_NEWSSTAND_THUMB_press_valid\"\\ndata-pid=\"088\"\\n>\\n<a href=\"#\" class=\"thumb\">\\n<img\\nsrc=\"https://s.pstatic.net/static/newsstand/2020/logo/light/0604/088.png\"\\nheight=\"20\"\\nalt=\"매일신문\"\\nclass=\"news_logo\"\\n/>\\n<span class=\"thumb_dim\"></span\\n></a>\\n<div class=\"popup_wrap\">\\n<a\\nhref=\"#\"\\nrole=\"button\"\\nclass=\"btn_popup _NM_NEWSSTAND_THUMB_subscribe_press\"\\ndata-pid=\"088\"\\ndata-clk=\"sub\"\\n>구독</a\\n>\\n<a\\nhref=\"#\"\\nrole=\"button\"\\nclass=\"btn_popup _NM_NEWSSTAND_THUMB_unsubscribe_press\"\\ndata-pid=\"088\"\\ndata-clk=\"unsub\"\\n>해지</a\\n>\\n<a\\nhref=\"http://newsstand.naver.com/?list=&pcode=088\"\\ntarget=\"_blank\"\\nclass=\"btn_popup\"\\ndata-clk=\"logo\"\\ndata-pid=\"088\"\\n>기사보기</a\\n>\\n</div>\\n</div>\\n<div\\nclass=\"thumb_box _NM_NEWSSTAND_THUMB _NM_NEWSSTAND_THUMB_press_valid\"\\ndata-pid=\"385\"\\n>\\n<a href=\"#\" class=\"thumb\">\\n<img\\nsrc=\"https://s.pstatic.net/static/newsstand/2020/logo/light/0604/385.png\"\\nheight=\"20\"\\nalt=\"영남일보\"\\nclass=\"news_logo\"\\n/>\\n<span class=\"thumb_dim\"></span\\n></a>\\n<div class=\"popup_wrap\">\\n<a\\nhref=\"#\"\\nrole=\"button\"\\nclass=\"btn_popup _NM_NEWSSTAND_THUMB_subscribe_press\"\\ndata-pid=\"385\"\\ndata-clk=\"sub\"\\n>구독</a\\n>\\n<a\\nhref=\"#\"\\nrole=\"button\"\\nclass=\"btn_popup _NM_NEWSSTAND_THUMB_unsubscribe_press\"\\ndata-pid=\"385\"\\ndata-clk=\"unsub\"\\n>해지</a\\n>\\n<a\\nhref=\"http://newsstand.naver.com/?list=&pcode=385\"\\ntarget=\"_blank\"\\nclass=\"btn_popup\"\\ndata-clk=\"logo\"\\ndata-pid=\"385\"\\n>기사보기</a\\n>\\n</div>\\n</div>\\n<div\\nclass=\"thumb_box _NM_NEWSSTAND_THUMB _NM_NEWSSTAND_THUMB_press_valid\"\\ndata-pid=\"123\"\\n>\\n<a href=\"#\" class=\"thumb\">\\n<img\\nsrc=\"https://s.pstatic.net/static/newsstand/2020/logo/light/0604/123.png\"\\nheight=\"20\"\\nalt=\"조세일보\"\\nclass=\"news_logo\"\\n/>\\n<span class=\"thumb_dim\"></span\\n></a>\\n<div class=\"popup_wrap\">\\n<a\\nhref=\"#\"\\nrole=\"button\"\\nclass=\"btn_popup _NM_NEWSSTAND_THUMB_subscribe_press\"\\ndata-pid=\"123\"\\ndata-clk=\"sub\"\\n>구독</a\\n>\\n<a\\nhref=\"#\"\\nrole=\"button\"\\nclass=\"btn_popup _NM_NEWSSTAND_THUMB_unsubscribe_press\"\\ndata-pid=\"123\"\\ndata-clk=\"unsub\"\\n>해지</a\\n>\\n<a\\nhref=\"http://newsstand.naver.com/?list=&pcode=123\"\\ntarget=\"_blank\"\\nclass=\"btn_popup\"\\ndata-clk=\"logo\"\\ndata-pid=\"123\"\\n>기사보기</a\\n>\\n</div>\\n</div>\\n<div\\nclass=\"thumb_box _NM_NEWSSTAND_THUMB _NM_NEWSSTAND_THUMB_press_valid\"\\ndata-pid=\"820\"\\n>\\n<a href=\"#\" class=\"thumb\">\\n<img\\nsrc=\"https://s.pstatic.net/static/newsstand/2020/logo/light/0604/820.png\"\\nheight=\"20\"\\nalt=\"월간노동법률\"\\nclass=\"news_logo\"\\n/>\\n<span class=\"thumb_dim\"></span\\n></a>\\n<div class=\"popup_wrap\">\\n<a\\nhref=\"#\"\\nrole=\"button\"\\nclass=\"btn_popup _NM_NEWSSTAND_THUMB_subscribe_press\"\\ndata-pid=\"820\"\\ndata-clk=\"sub\"\\n>구독</a\\n>\\n<a\\nhref=\"#\"\\nrole=\"button\"\\nclass=\"btn_popup _NM_NEWSSTAND_THUMB_unsubscribe_press\"\\ndata-pid=\"820\"\\ndata-clk=\"unsub\"\\n>해지</a\\n>\\n<a\\nhref=\"http://newsstand.naver.com/?list=&pcode=820\"\\ntarget=\"_blank\"\\nclass=\"btn_popup\"\\ndata-clk=\"logo\"\\ndata-pid=\"820\"\\n>기사보기</a\\n>\\n</div>\\n</div>\\n<div\\nclass=\"thumb_box _NM_NEWSSTAND_THUMB _NM_NEWSSTAND_THUMB_press_valid\"\\ndata-pid=\"975\"\\n>\\n<a href=\"#\" class=\"thumb\">\\n<img\\nsrc=\"https://s.pstatic.net/static/newsstand/2020/logo/light/0604/975.png\"\\nheight=\"20\"\\nalt=\"시사저널이코노미\"\\nclass=\"news_logo\"\\n/>\\n<span class=\"thumb_dim\"></span\\n></a>\\n<div class=\"popup_wrap\">\\n<a\\nhref=\"#\"\\nrole=\"button\"\\nclass=\"btn_popup _NM_NEWSSTAND_THUMB_subscribe_press\"\\ndata-pid=\"975\"\\ndata-clk=\"sub\"\\n>구독</a\\n>\\n<a\\nhref=\"#\"\\nrole=\"button\"\\nclass=\"btn_popup _NM_NEWSSTAND_THUMB_unsubscribe_press\"\\ndata-pid=\"975\"\\ndata-clk=\"unsub\"\\n>해지</a\\n>\\n<a\\nhref=\"http://newsstand.naver.com/?list=&pcode=975\"\\ntarget=\"_blank\"\\nclass=\"btn_popup\"\\ndata-clk=\"logo\"\\ndata-pid=\"975\"\\n>기사보기</a\\n>\\n</div>\\n</div>\\n<div\\nclass=\"thumb_box _NM_NEWSSTAND_THUMB _NM_NEWSSTAND_THUMB_press_valid\"\\ndata-pid=\"346\"\\n>\\n<a href=\"#\" class=\"thumb\">\\n<img\\nsrc=\"https://s.pstatic.net/static/newsstand/2020/logo/light/0604/346.png\"\\nheight=\"20\"\\nalt=\"헬스조선\"\\nclass=\"news_logo\"\\n/>\\n<span class=\"thumb_dim\"></span\\n></a>\\n<div class=\"popup_wrap\">\\n<a\\nhref=\"#\"\\nrole=\"button\"\\nclass=\"btn_popup _NM_NEWSSTAND_THUMB_subscribe_press\"\\ndata-pid=\"346\"\\ndata-clk=\"sub\"\\n>구독</a\\n>\\n<a\\nhref=\"#\"\\nrole=\"button\"\\nclass=\"btn_popup _NM_NEWSSTAND_THUMB_unsubscribe_press\"\\ndata-pid=\"346\"\\ndata-clk=\"unsub\"\\n>해지</a\\n>\\n<a\\nhref=\"http://newsstand.naver.com/?list=&pcode=346\"\\ntarget=\"_blank\"\\nclass=\"btn_popup\"\\ndata-clk=\"logo\"\\ndata-pid=\"346\"\\n>기사보기</a\\n>\\n</div>\\n</div>\\n<div\\nclass=\"thumb_box _NM_NEWSSTAND_THUMB _NM_NEWSSTAND_THUMB_press_valid\"\\ndata-pid=\"354\"\\n>\\n<a href=\"#\" class=\"thumb\">\\n<img\\nsrc=\"https://s.pstatic.net/static/newsstand/2020/logo/light/0604/354.png\"\\nheight=\"20\"\\nalt=\"엘르\"\\nclass=\"news_logo\"\\n/>\\n<span class=\"thumb_dim\"></span\\n></a>\\n<div class=\"popup_wrap\">\\n<a\\nhref=\"#\"\\nrole=\"button\"\\nclass=\"btn_popup _NM_NEWSSTAND_THUMB_subscribe_press\"\\ndata-pid=\"354\"\\ndata-clk=\"sub\"\\n>구독</a\\n>\\n<a\\nhref=\"#\"\\nrole=\"button\"\\nclass=\"btn_popup _NM_NEWSSTAND_THUMB_unsubscribe_press\"\\ndata-pid=\"354\"\\ndata-clk=\"unsub\"\\n>해지</a\\n>\\n<a\\nhref=\"http://newsstand.naver.com/?list=&pcode=354\"\\ntarget=\"_blank\"\\nclass=\"btn_popup\"\\ndata-clk=\"logo\"\\ndata-pid=\"354\"\\n>기사보기</a\\n>\\n</div>\\n</div>\\n<div\\nclass=\"thumb_box _NM_NEWSSTAND_THUMB _NM_NEWSSTAND_THUMB_press_valid\"\\ndata-pid=\"941\"\\n>\\n<a href=\"#\" class=\"thumb\">\\n<img\\nsrc=\"https://s.pstatic.net/static/newsstand/2020/logo/light/0604/941.png\"\\nheight=\"20\"\\nalt=\"초이스경제\"\\nclass=\"news_logo\"\\n/>\\n<span class=\"thumb_dim\"></span\\n></a>\\n<div class=\"popup_wrap\">\\n<a\\nhref=\"#\"\\nrole=\"button\"\\nclass=\"btn_popup _NM_NEWSSTAND_THUMB_subscribe_press\"\\ndata-pid=\"941\"\\ndata-clk=\"sub\"\\n>구독</a\\n>\\n<a\\nhref=\"#\"\\nrole=\"button\"\\nclass=\"btn_popup _NM_NEWSSTAND_THUMB_unsubscribe_press\"\\ndata-pid=\"941\"\\ndata-clk=\"unsub\"\\n>해지</a\\n>\\n<a\\nhref=\"http://newsstand.naver.com/?list=&pcode=941\"\\ntarget=\"_blank\"\\nclass=\"btn_popup\"\\ndata-clk=\"logo\"\\ndata-pid=\"941\"\\n>기사보기</a\\n>\\n</div>\\n</div>\\n</div>\\n</div>\\n</div>\\n  </div> <div class=\"ly_popup NM_NEWSSTAND_POPUP NM_NEWSSTAND_invalid\" style=\"display:none\"> <a href=\"#\" role=\"button\" class=\"btn_close NM_NEWSSTAND_POPUP_CLOSE\"><i class=\"ico_close\"></i><span class=\"blind\">닫기</span></a> <p class=\"popup_msg\">해당 언론사 사정으로 접근이 일시 제한됩니다.</p> <div class=\"popup_btn\"> <a href=\"#\" role=\"button\" class=\"btn_confirm NM_NEWSSTAND_POPUP_CLOSE\">확인</a> </div> </div> <div class=\"ly_popup NM_NEWSSTAND_POPUP NM_NEWSSTAND_undescribe_confirm\" style=\"display:none\" data-clk-sub=\"*a\"> <a href=\"#\" role=\"button\" class=\"btn_close NM_NEWSSTAND_POPUP_CLOSE\" data-clk=\"usclose\"><i class=\"ico_close\"></i><span class=\"blind\">닫기</span></a> <p class=\"popup_msg\"><strong class=\"NM_NEWSSTAND_POPUP_PNAME\"></strong>을(를)<br/>구독해지 하시겠습니까?</p> <div class=\"popup_btn\"> <a href=\"#\" role=\"button\" class=\"btn_confirm NM_NEWSSTAND_POPUP_CONFIRM\" data-clk=\"usdone\">확인</a> <a href=\"#\" role=\"button\" class=\"btn_confirm NM_NEWSSTAND_POPUP_CLOSE\" data-clk=\"uscancel\">취소</a> </div> </div> <div class=\"ly_toast NM_NEWSSTAND_TOAST\" style=\"display:none\"> <p class=\"toast_msg\">구독한 언론사에 추가되었습니다.</p> </div> </div> <div id=\"NM_NEWSSTAND_MY_LIST\" class=\"group_news\" style=\"display:none\" data-clk-prefix=\"nsd_myn\"> <a href=\"#\" role=\"button\" class=\"pm_btn_prev_l _NM_NEWSSTAND_LIST_prev_btn\" data-clk-custom=\"prev\"><i class=\"ico_btn\"></i><span class=\"blind\">이전</span></a> <a href=\"#\" role=\"button\" class=\"pm_btn_next_l _NM_NEWSSTAND_LIST_next_btn\" data-clk-custom=\"next\"><i class=\"ico_btn\"></i><span class=\"blind\">다음</span><span class=\"blind\">다음</span></a> <div class=\"list_view\"> <div class=\"option_area\"> <div class=\"list_option_wrap\"> <ul class=\"list_option _NM_NEWSSTAND_MY_presslist\"> <!-- nvpaperlist:empty --> </ul> </div> </div> <div class=\"_NM_NEWSSTAND_ARTICLE_CONTAINER\" data-clk-sub=\"*a\">  </div> </div> <div class=\"ly_popup NM_NEWSSTAND_POPUP NM_NEWSSTAND_invalid\" style=\"display:none\"> <a href=\"#\" role=\"button\" class=\"btn_close NM_NEWSSTAND_POPUP_CLOSE\"><i class=\"ico_close\"></i><span class=\"blind\">닫기</span></a> <p class=\"popup_msg\">해당 언론사 사정으로 접근이 일시 제한됩니다.</p> <div class=\"popup_btn\"> <a href=\"#\" role=\"button\" class=\"btn_confirm NM_NEWSSTAND_POPUP_CLOSE\">확인</a> </div> </div> <div class=\"ly_popup NM_NEWSSTAND_POPUP NM_NEWSSTAND_undescribe_confirm\" style=\"display:none\" data-clk-sub=\"*a\"> <a href=\"#\" role=\"button\" class=\"btn_close NM_NEWSSTAND_POPUP_CLOSE\" data-clk=\"usclose\"><i class=\"ico_close\"></i><span class=\"blind\">닫기</span></a> <p class=\"popup_msg\"><strong class=\"NM_NEWSSTAND_POPUP_PNAME\"></strong>을(를)<br>구독해지 하시겠습니까?</p> <div class=\"popup_btn\"> <a href=\"#\" role=\"button\" class=\"btn_confirm NM_NEWSSTAND_POPUP_CONFIRM\" data-clk=\"usdone\">확인</a> <a href=\"#\" role=\"button\" class=\"btn_confirm NM_NEWSSTAND_POPUP_CLOSE\" data-clk=\"uscancel\">취소</a> </div> </div> </div> <div id=\"NM_NEWSSTAND_MY_THUMB\" class=\"group_news\" style=\"display:none\" data-clk-prefix=\"nsd_myn\"> <a href=\"#\" role=\"button\" class=\"pm_btn_prev_l _NM_UI_PAGE_PREV\" data-clk-custom=\"prev\"><i class=\"ico_btn\"><span class=\"blind\">이전</span></i></a> <a href=\"#\" role=\"button\" class=\"pm_btn_next_l _NM_UI_PAGE_NEXT\" data-clk-custom=\"next\"><i class=\"ico_btn\"><span class=\"blind\">다음</span></i></a> <div class=\"_NM_UI_PAGE_CONTAINER\" data-clk-sub=\"*p\"></div> <div class=\"ly_popup NM_NEWSSTAND_POPUP NM_NEWSSTAND_invalid\" style=\"display:none\"> <a href=\"#\" role=\"button\" class=\"btn_close NM_NEWSSTAND_POPUP_CLOSE\"><i class=\"ico_close\"></i><span class=\"blind\">닫기</span></a> <p class=\"popup_msg\">해당 언론사 사정으로 접근이 일시 제한됩니다.</p> <div class=\"popup_btn\"> <a href=\"#\" role=\"button\" class=\"btn_confirm NM_NEWSSTAND_POPUP_CLOSE\">확인</a> </div> </div> <div class=\"ly_popup NM_NEWSSTAND_POPUP NM_NEWSSTAND_undescribe_confirm\" style=\"display:none\" data-clk-sub=\"*a\"> <a href=\"#\" role=\"button\" class=\"btn_close NM_NEWSSTAND_POPUP_CLOSE\" data-clk=\"usclose\"><i class=\"ico_close\"></i><span class=\"blind\">닫기</span></a> <p class=\"popup_msg\"><strong class=\"NM_NEWSSTAND_POPUP_PNAME\"></strong>을(를)<br>구독해지 하시겠습니까?</p> <div class=\"popup_btn\"> <a href=\"#\" role=\"button\" class=\"btn_confirm NM_NEWSSTAND_POPUP_CONFIRM\" data-clk=\"usdone\">확인</a> <a href=\"#\" role=\"button\" class=\"btn_confirm NM_NEWSSTAND_POPUP_CLOSE\" data-clk=\"uscancel\">취소</a> </div> </div> </div> <div id=\"NM_NEWSSTAND_MY_EMPTY\" class=\"group_news\" style=\"display:none\"> <div class=\"error_view\"> <div class=\"error_area\"> <strong class=\"error_msg\">구독한 언론사가 없습니다.</strong> <p class=\"dsc_msg\">언론사 구독 설정에서 관심있는 언론사를 구독하시면<br>언론사가 직접 편집한 뉴스들을 네이버 홈에서 바로 보실 수 있습니다.</p> <a href=\"http://newsstand.naver.com/config.html\" class=\"link_redirect\" target=\"_blank\">언론사 구독 설정하기</a> </div> </div> </div> </div> </div> <!-- EMPTY --> <div id=\"NM_THEMECAST_CONTENTS_CONTAINER\"> <div id=\"themecast\" class=\"sc_themecast id_design\" >\\n\\t<h2 class=\"blind\">주제별 캐스트</h2>\\n\\t<div class=\"theme_head\">\\n\\t\\t<div class=\"group_title\">\\n\\t<div class=\"title_area\">\\n\\t\\t<strong class=\"title\">오늘 읽을만한 글</strong><span class=\"dsc\">주제별로 분류된 다양한 글 모음</span>\\n\\t</div>\\n\\t<div class=\"info_area\">\\n\\t\\t\\n\\t\\t\\t<span class=\"info\"><strong class=\"new\">1,771</strong> 개의 글</span>\\n\\t\\t\\n\\t\\t<a id=\"NM_THEME_EDIT_SET\" href=\"#\" role=\"button\" class=\"btn_set\" data-clk=\"tca.like\">관심주제 설정</a>\\n\\t</div>\\n</div>\\n<div class=\"theme_fix_wrap\">\\n\\t<div id=\"NM_THEME_CATE_GROUPS\" class=\"group_category\" data-demo-key=\"default\">\\n\\t\\t<div class=\"main_category\">\\n\\t\\t\\t<a href=\"#\" role=\"button\" class=\"pm_btn_prev NM_THEME_PREV\" data-clk=\"tct.prev\" style=\"display: none;\">\\n\\t\\t\\t\\t<i class=\"ico_btn\"><span class=\"blind\">이전</span></i>\\n\\t\\t\\t</a>\\n\\t\\t\\t<a href=\"#\" role=\"button\" class=\"pm_btn_next NM_THEME_NEXT\" data-clk=\"tct.next\" style=\"display: none;\">\\n\\t\\t\\t\\t<i class=\"ico_btn\"><span class=\"blind\">다음</span></i>\\n\\t\\t\\t</a>\\n\\t\\t\\t<div id=\"NM_THEME_CATE_FLICK\" class=\"_NM_UI_PAGE_CONTAINER\" style=\"height: 49px; overflow: hidden;\">\\n\\t\\t\\t\\t\\n\\t\\t\\t\\t\\t<div style=\"width: 750px;\">\\n\\t\\t\\t\\t\\t\\t<ul class=\"list_category\" role=\"tablist\">\\n\\t\\t\\t\\t\\t\\t\\t\\n\\t\\t\\t\\t\\t\\t\\t\\t<li class=\"category_item\" role=\"presentation\">\\n\\t\\t\\t\\t\\t\\t\\t\\t\\t\\n\\t\\t\\t\\t\\t\\t\\t\\t\\t\\n\\t\\t\\t\\t\\t\\t\\t\\t\\t<a href=\"#\" role=\"tab\" class=\"_NM_THEME_CATE tab id_enter\"\\n\\t\\t\\t\\t\\t\\t\\t\\t\\t   aria-selected=\"false\"\\n\\t\\t\\t\\t\\t\\t\\t\\t\\t   data-clk=\"tct.tvc\" data-panel-code=\"ENTER\">엔터</a>\\n\\t\\t\\t\\t\\t\\t\\t\\t</li>\\n\\t\\t\\t\\t\\t\\t\\t\\n\\t\\t\\t\\t\\t\\t\\t\\t<li class=\"category_item\" role=\"presentation\">\\n\\t\\t\\t\\t\\t\\t\\t\\t\\t\\n\\t\\t\\t\\t\\t\\t\\t\\t\\t\\n\\t\\t\\t\\t\\t\\t\\t\\t\\t<a href=\"#\" role=\"tab\" class=\"_NM_THEME_CATE tab id_sports\"\\n\\t\\t\\t\\t\\t\\t\\t\\t\\t   aria-selected=\"false\"\\n\\t\\t\\t\\t\\t\\t\\t\\t\\t   data-clk=\"tct.spo\" data-panel-code=\"SPORTS\">스포츠</a>\\n\\t\\t\\t\\t\\t\\t\\t\\t</li>\\n\\t\\t\\t\\t\\t\\t\\t\\n\\t\\t\\t\\t\\t\\t\\t\\t<li class=\"category_item\" role=\"presentation\">\\n\\t\\t\\t\\t\\t\\t\\t\\t\\t\\n\\t\\t\\t\\t\\t\\t\\t\\t\\t\\n\\t\\t\\t\\t\\t\\t\\t\\t\\t<a href=\"#\" role=\"tab\" class=\"_NM_THEME_CATE tab id_cargame\"\\n\\t\\t\\t\\t\\t\\t\\t\\t\\t   aria-selected=\"false\"\\n\\t\\t\\t\\t\\t\\t\\t\\t\\t   data-clk=\"tct.aut\" data-panel-code=\"CARGAME\">자동차</a>\\n\\t\\t\\t\\t\\t\\t\\t\\t</li>\\n\\t\\t\\t\\t\\t\\t\\t\\n\\t\\t\\t\\t\\t\\t\\t\\t<li class=\"category_item\" role=\"presentation\">\\n\\t\\t\\t\\t\\t\\t\\t\\t\\t\\n\\t\\t\\t\\t\\t\\t\\t\\t\\t\\n\\t\\t\\t\\t\\t\\t\\t\\t\\t<a href=\"#\" role=\"tab\" class=\"_NM_THEME_CATE tab id_bboom\"\\n\\t\\t\\t\\t\\t\\t\\t\\t\\t   aria-selected=\"false\"\\n\\t\\t\\t\\t\\t\\t\\t\\t\\t   data-clk=\"tct.web\" data-panel-code=\"BBOOM\">웹툰</a>\\n\\t\\t\\t\\t\\t\\t\\t\\t</li>\\n\\t\\t\\t\\t\\t\\t\\t\\n\\t\\t\\t\\t\\t\\t\\t\\t<li class=\"category_item\" role=\"presentation\">\\n\\t\\t\\t\\t\\t\\t\\t\\t\\t\\n\\t\\t\\t\\t\\t\\t\\t\\t\\t\\n\\t\\t\\t\\t\\t\\t\\t\\t\\t<a href=\"#\" role=\"tab\" class=\"_NM_THEME_CATE tab id_finance\"\\n\\t\\t\\t\\t\\t\\t\\t\\t\\t   aria-selected=\"false\"\\n\\t\\t\\t\\t\\t\\t\\t\\t\\t   data-clk=\"tct.fin\" data-panel-code=\"FINANCE\">경제M</a>\\n\\t\\t\\t\\t\\t\\t\\t\\t</li>\\n\\t\\t\\t\\t\\t\\t\\t\\n\\t\\t\\t\\t\\t\\t\\t\\t<li class=\"category_item\" role=\"presentation\">\\n\\t\\t\\t\\t\\t\\t\\t\\t\\t\\n\\t\\t\\t\\t\\t\\t\\t\\t\\t\\n\\t\\t\\t\\t\\t\\t\\t\\t\\t<a href=\"#\" role=\"tab\" class=\"_NM_THEME_CATE tab id_living\"\\n\\t\\t\\t\\t\\t\\t\\t\\t\\t   aria-selected=\"false\"\\n\\t\\t\\t\\t\\t\\t\\t\\t\\t   data-clk=\"tct.fod\" data-panel-code=\"LIVING\">푸드</a>\\n\\t\\t\\t\\t\\t\\t\\t\\t</li>\\n\\t\\t\\t\\t\\t\\t\\t\\n\\t\\t\\t\\t\\t\\t\\t\\t<li class=\"category_item\" role=\"presentation\">\\n\\t\\t\\t\\t\\t\\t\\t\\t\\t\\n\\t\\t\\t\\t\\t\\t\\t\\t\\t\\n\\t\\t\\t\\t\\t\\t\\t\\t\\t<a href=\"#\" role=\"tab\" class=\"_NM_THEME_CATE tab id_gameapp\"\\n\\t\\t\\t\\t\\t\\t\\t\\t\\t   aria-selected=\"false\"\\n\\t\\t\\t\\t\\t\\t\\t\\t\\t   data-clk=\"tct.gam\" data-panel-code=\"GAMEAPP\">게임</a>\\n\\t\\t\\t\\t\\t\\t\\t\\t</li>\\n\\t\\t\\t\\t\\t\\t\\t\\n\\t\\t\\t\\t\\t\\t\\t\\t<li class=\"category_item\" role=\"presentation\">\\n\\t\\t\\t\\t\\t\\t\\t\\t\\t\\n\\t\\t\\t\\t\\t\\t\\t\\t\\t\\n\\t\\t\\t\\t\\t\\t\\t\\t\\t<a href=\"#\" role=\"tab\" class=\"_NM_THEME_CATE tab id_movie\"\\n\\t\\t\\t\\t\\t\\t\\t\\t\\t   aria-selected=\"false\"\\n\\t\\t\\t\\t\\t\\t\\t\\t\\t   data-clk=\"tct.mov\" data-panel-code=\"MOVIE\">영화</a>\\n\\t\\t\\t\\t\\t\\t\\t\\t</li>\\n\\t\\t\\t\\t\\t\\t\\t\\n\\t\\t\\t\\t\\t\\t</ul>\\n\\t\\t\\t\\t\\t</div>\\n\\t\\t\\t\\t\\n\\t\\t\\t\\t\\t<div style=\"width: 750px;\">\\n\\t\\t\\t\\t\\t\\t<ul class=\"list_category\" role=\"tablist\">\\n\\t\\t\\t\\t\\t\\t\\t\\n\\t\\t\\t\\t\\t\\t\\t\\t<li class=\"category_item\" role=\"presentation\">\\n\\t\\t\\t\\t\\t\\t\\t\\t\\t\\n\\t\\t\\t\\t\\t\\t\\t\\t\\t\\n\\t\\t\\t\\t\\t\\t\\t\\t\\t<a href=\"#\" role=\"tab\" class=\"_NM_THEME_CATE tab id_job\"\\n\\t\\t\\t\\t\\t\\t\\t\\t\\t   aria-selected=\"false\"\\n\\t\\t\\t\\t\\t\\t\\t\\t\\t   data-clk=\"tct.job\" data-panel-code=\"JOB\">JOB&amp;</a>\\n\\t\\t\\t\\t\\t\\t\\t\\t</li>\\n\\t\\t\\t\\t\\t\\t\\t\\n\\t\\t\\t\\t\\t\\t\\t\\t<li class=\"category_item\" role=\"presentation\">\\n\\t\\t\\t\\t\\t\\t\\t\\t\\t\\n\\t\\t\\t\\t\\t\\t\\t\\t\\t\\n\\t\\t\\t\\t\\t\\t\\t\\t\\t<a href=\"#\" role=\"tab\" class=\"_NM_THEME_CATE tab id_ittech\"\\n\\t\\t\\t\\t\\t\\t\\t\\t\\t   aria-selected=\"false\"\\n\\t\\t\\t\\t\\t\\t\\t\\t\\t   data-clk=\"tct.tec\" data-panel-code=\"ITTECH\">테크</a>\\n\\t\\t\\t\\t\\t\\t\\t\\t</li>\\n\\t\\t\\t\\t\\t\\t\\t\\n\\t\\t\\t\\t\\t\\t\\t\\t<li class=\"category_item\" role=\"presentation\">\\n\\t\\t\\t\\t\\t\\t\\t\\t\\t\\n\\t\\t\\t\\t\\t\\t\\t\\t\\t\\n\\t\\t\\t\\t\\t\\t\\t\\t\\t<a href=\"#\" role=\"tab\" class=\"_NM_THEME_CATE tab id_travel\"\\n\\t\\t\\t\\t\\t\\t\\t\\t\\t   aria-selected=\"false\"\\n\\t\\t\\t\\t\\t\\t\\t\\t\\t   data-clk=\"tct.tra\" data-panel-code=\"TRAVEL\">여행+</a>\\n\\t\\t\\t\\t\\t\\t\\t\\t</li>\\n\\t\\t\\t\\t\\t\\t\\t\\n\\t\\t\\t\\t\\t\\t\\t\\t<li class=\"category_item\" role=\"presentation\">\\n\\t\\t\\t\\t\\t\\t\\t\\t\\t\\n\\t\\t\\t\\t\\t\\t\\t\\t\\t\\n\\t\\t\\t\\t\\t\\t\\t\\t\\t<a href=\"#\" role=\"tab\" class=\"_NM_THEME_CATE tab id_science\"\\n\\t\\t\\t\\t\\t\\t\\t\\t\\t   aria-selected=\"false\"\\n\\t\\t\\t\\t\\t\\t\\t\\t\\t   data-clk=\"tct.sci\" data-panel-code=\"SCIENCE\">과학</a>\\n\\t\\t\\t\\t\\t\\t\\t\\t</li>\\n\\t\\t\\t\\t\\t\\t\\t\\n\\t\\t\\t\\t\\t\\t\\t\\t<li class=\"category_item\" role=\"presentation\">\\n\\t\\t\\t\\t\\t\\t\\t\\t\\t\\n\\t\\t\\t\\t\\t\\t\\t\\t\\t\\n\\t\\t\\t\\t\\t\\t\\t\\t\\t<a href=\"#\" role=\"tab\" class=\"_NM_THEME_CATE tab id_livinghome\"\\n\\t\\t\\t\\t\\t\\t\\t\\t\\t   aria-selected=\"false\"\\n\\t\\t\\t\\t\\t\\t\\t\\t\\t   data-clk=\"tct.lif\" data-panel-code=\"LIVINGHOME\">리빙</a>\\n\\t\\t\\t\\t\\t\\t\\t\\t</li>\\n\\t\\t\\t\\t\\t\\t\\t\\n\\t\\t\\t\\t\\t\\t\\t\\t<li class=\"category_item\" role=\"presentation\">\\n\\t\\t\\t\\t\\t\\t\\t\\t\\t\\n\\t\\t\\t\\t\\t\\t\\t\\t\\t\\n\\t\\t\\t\\t\\t\\t\\t\\t\\t<a href=\"#\" role=\"tab\" class=\"_NM_THEME_CATE tab id_health\"\\n\\t\\t\\t\\t\\t\\t\\t\\t\\t   aria-selected=\"false\"\\n\\t\\t\\t\\t\\t\\t\\t\\t\\t   data-clk=\"tct.hea\" data-panel-code=\"HEALTH\">건강</a>\\n\\t\\t\\t\\t\\t\\t\\t\\t</li>\\n\\t\\t\\t\\t\\t\\t\\t\\n\\t\\t\\t\\t\\t\\t\\t\\t<li class=\"category_item\" role=\"presentation\">\\n\\t\\t\\t\\t\\t\\t\\t\\t\\t\\n\\t\\t\\t\\t\\t\\t\\t\\t\\t\\n\\t\\t\\t\\t\\t\\t\\t\\t\\t<a href=\"#\" role=\"tab\" class=\"_NM_THEME_CATE tab id_business\"\\n\\t\\t\\t\\t\\t\\t\\t\\t\\t   aria-selected=\"false\"\\n\\t\\t\\t\\t\\t\\t\\t\\t\\t   data-clk=\"tct.bsn\" data-panel-code=\"BUSINESS\">비즈니스</a>\\n\\t\\t\\t\\t\\t\\t\\t\\t</li>\\n\\t\\t\\t\\t\\t\\t\\t\\n\\t\\t\\t\\t\\t\\t\\t\\t<li class=\"category_item\" role=\"presentation\">\\n\\t\\t\\t\\t\\t\\t\\t\\t\\t\\n\\t\\t\\t\\t\\t\\t\\t\\t\\t\\n\\t\\t\\t\\t\\t\\t\\t\\t\\t<a href=\"#\" role=\"tab\" class=\"_NM_THEME_CATE tab id_wedding\"\\n\\t\\t\\t\\t\\t\\t\\t\\t\\t   aria-selected=\"false\"\\n\\t\\t\\t\\t\\t\\t\\t\\t\\t   data-clk=\"tct.wed\" data-panel-code=\"WEDDING\">연애·결혼</a>\\n\\t\\t\\t\\t\\t\\t\\t\\t</li>\\n\\t\\t\\t\\t\\t\\t\\t\\n\\t\\t\\t\\t\\t\\t</ul>\\n\\t\\t\\t\\t\\t</div>\\n\\t\\t\\t\\t\\n\\t\\t\\t\\t\\t<div style=\"width: 750px;\">\\n\\t\\t\\t\\t\\t\\t<ul class=\"list_category\" role=\"tablist\">\\n\\t\\t\\t\\t\\t\\t\\t\\n\\t\\t\\t\\t\\t\\t\\t\\t<li class=\"category_item\" role=\"presentation\">\\n\\t\\t\\t\\t\\t\\t\\t\\t\\t\\n\\t\\t\\t\\t\\t\\t\\t\\t\\t\\n\\t\\t\\t\\t\\t\\t\\t\\t\\t<a href=\"#\" role=\"tab\" class=\"_NM_THEME_CATE tab id_culture\"\\n\\t\\t\\t\\t\\t\\t\\t\\t\\t   aria-selected=\"false\"\\n\\t\\t\\t\\t\\t\\t\\t\\t\\t   data-clk=\"tct.bok\" data-panel-code=\"CULTURE\">책문화</a>\\n\\t\\t\\t\\t\\t\\t\\t\\t</li>\\n\\t\\t\\t\\t\\t\\t\\t\\n\\t\\t\\t\\t\\t\\t\\t\\t<li class=\"category_item\" role=\"presentation\">\\n\\t\\t\\t\\t\\t\\t\\t\\t\\t\\n\\t\\t\\t\\t\\t\\t\\t\\t\\t\\n\\t\\t\\t\\t\\t\\t\\t\\t\\t<a href=\"#\" role=\"tab\" class=\"_NM_THEME_CATE tab id_momkids\"\\n\\t\\t\\t\\t\\t\\t\\t\\t\\t   aria-selected=\"false\"\\n\\t\\t\\t\\t\\t\\t\\t\\t\\t   data-clk=\"tct.mom\" data-panel-code=\"MOMKIDS\">부모i</a>\\n\\t\\t\\t\\t\\t\\t\\t\\t</li>\\n\\t\\t\\t\\t\\t\\t\\t\\n\\t\\t\\t\\t\\t\\t\\t\\t<li class=\"category_item\" role=\"presentation\">\\n\\t\\t\\t\\t\\t\\t\\t\\t\\t\\n\\t\\t\\t\\t\\t\\t\\t\\t\\t\\n\\t\\t\\t\\t\\t\\t\\t\\t\\t<a href=\"#\" role=\"tab\" class=\"_NM_THEME_CATE tab id_law\"\\n\\t\\t\\t\\t\\t\\t\\t\\t\\t   aria-selected=\"false\"\\n\\t\\t\\t\\t\\t\\t\\t\\t\\t   data-clk=\"tct.law\" data-panel-code=\"LAW\">법률</a>\\n\\t\\t\\t\\t\\t\\t\\t\\t</li>\\n\\t\\t\\t\\t\\t\\t\\t\\n\\t\\t\\t\\t\\t\\t\\t\\t<li class=\"category_item\" role=\"presentation\">\\n\\t\\t\\t\\t\\t\\t\\t\\t\\t\\n\\t\\t\\t\\t\\t\\t\\t\\t\\t\\n\\t\\t\\t\\t\\t\\t\\t\\t\\t<a href=\"#\" role=\"tab\" class=\"_NM_THEME_CATE tab id_beauty\"\\n\\t\\t\\t\\t\\t\\t\\t\\t\\t   aria-selected=\"false\"\\n\\t\\t\\t\\t\\t\\t\\t\\t\\t   data-clk=\"tct.bty\" data-panel-code=\"BEAUTY\">패션뷰티</a>\\n\\t\\t\\t\\t\\t\\t\\t\\t</li>\\n\\t\\t\\t\\t\\t\\t\\t\\n\\t\\t\\t\\t\\t\\t\\t\\t<li class=\"category_item\" role=\"presentation\">\\n\\t\\t\\t\\t\\t\\t\\t\\t\\t\\n\\t\\t\\t\\t\\t\\t\\t\\t\\t\\n\\t\\t\\t\\t\\t\\t\\t\\t\\t<a href=\"#\" role=\"tab\" class=\"_NM_THEME_CATE tab id_animal\"\\n\\t\\t\\t\\t\\t\\t\\t\\t\\t   aria-selected=\"false\"\\n\\t\\t\\t\\t\\t\\t\\t\\t\\t   data-clk=\"tct.ani\" data-panel-code=\"ANIMAL\">동물공감</a>\\n\\t\\t\\t\\t\\t\\t\\t\\t</li>\\n\\t\\t\\t\\t\\t\\t\\t\\n\\t\\t\\t\\t\\t\\t\\t\\t<li class=\"category_item\" role=\"presentation\">\\n\\t\\t\\t\\t\\t\\t\\t\\t\\t\\n\\t\\t\\t\\t\\t\\t\\t\\t\\t\\n\\t\\t\\t\\t\\t\\t\\t\\t\\t<a href=\"#\" role=\"tab\" class=\"_NM_THEME_CATE tab id_design\"\\n\\t\\t\\t\\t\\t\\t\\t\\t\\t   aria-selected=\"true\"\\n\\t\\t\\t\\t\\t\\t\\t\\t\\t   data-clk=\"tct.des\" data-panel-code=\"DESIGN\">디자인</a>\\n\\t\\t\\t\\t\\t\\t\\t\\t</li>\\n\\t\\t\\t\\t\\t\\t\\t\\n\\t\\t\\t\\t\\t\\t\\t\\t<li class=\"category_item\" role=\"presentation\">\\n\\t\\t\\t\\t\\t\\t\\t\\t\\t\\n\\t\\t\\t\\t\\t\\t\\t\\t\\t\\n\\t\\t\\t\\t\\t\\t\\t\\t\\t<a href=\"#\" role=\"tab\" class=\"_NM_THEME_CATE tab id_china\"\\n\\t\\t\\t\\t\\t\\t\\t\\t\\t   aria-selected=\"false\"\\n\\t\\t\\t\\t\\t\\t\\t\\t\\t   data-clk=\"tct.chn\" data-panel-code=\"CHINA\">중국</a>\\n\\t\\t\\t\\t\\t\\t\\t\\t</li>\\n\\t\\t\\t\\t\\t\\t\\t\\n\\t\\t\\t\\t\\t\\t\\t\\t<li class=\"category_item\" role=\"presentation\">\\n\\t\\t\\t\\t\\t\\t\\t\\t\\t\\n\\t\\t\\t\\t\\t\\t\\t\\t\\t\\n\\t\\t\\t\\t\\t\\t\\t\\t\\t<a href=\"#\" role=\"tab\" class=\"_NM_THEME_CATE tab id_farm\"\\n\\t\\t\\t\\t\\t\\t\\t\\t\\t   aria-selected=\"false\"\\n\\t\\t\\t\\t\\t\\t\\t\\t\\t   data-clk=\"tct.far\" data-panel-code=\"FARM\">FARM</a>\\n\\t\\t\\t\\t\\t\\t\\t\\t</li>\\n\\t\\t\\t\\t\\t\\t\\t\\n\\t\\t\\t\\t\\t\\t</ul>\\n\\t\\t\\t\\t\\t</div>\\n\\t\\t\\t\\t\\n\\t\\t\\t\\t\\t<div style=\"width: 750px;\">\\n\\t\\t\\t\\t\\t\\t<ul class=\"list_category\" role=\"tablist\">\\n\\t\\t\\t\\t\\t\\t\\t\\n\\t\\t\\t\\t\\t\\t\\t\\t<li class=\"category_item\" role=\"presentation\">\\n\\t\\t\\t\\t\\t\\t\\t\\t\\t\\n\\t\\t\\t\\t\\t\\t\\t\\t\\t\\n\\t\\t\\t\\t\\t\\t\\t\\t\\t<a href=\"#\" role=\"tab\" class=\"_NM_THEME_CATE tab id_show\"\\n\\t\\t\\t\\t\\t\\t\\t\\t\\t   aria-selected=\"false\"\\n\\t\\t\\t\\t\\t\\t\\t\\t\\t   data-clk=\"tct.sow\" data-panel-code=\"SHOW\">공연전시</a>\\n\\t\\t\\t\\t\\t\\t\\t\\t</li>\\n\\t\\t\\t\\t\\t\\t\\t\\n\\t\\t\\t\\t\\t\\t\\t\\t<li class=\"category_item\" role=\"presentation\">\\n\\t\\t\\t\\t\\t\\t\\t\\t\\t\\n\\t\\t\\t\\t\\t\\t\\t\\t\\t\\n\\t\\t\\t\\t\\t\\t\\t\\t\\t<a href=\"#\" role=\"tab\" class=\"_NM_THEME_CATE tab id_with\"\\n\\t\\t\\t\\t\\t\\t\\t\\t\\t   aria-selected=\"false\"\\n\\t\\t\\t\\t\\t\\t\\t\\t\\t   data-clk=\"tct.pub\" data-panel-code=\"WITH\">함께N</a>\\n\\t\\t\\t\\t\\t\\t\\t\\t</li>\\n\\t\\t\\t\\t\\t\\t\\t\\n\\t\\t\\t\\t\\t\\t\\t\\t<li class=\"category_item\" role=\"presentation\">\\n\\t\\t\\t\\t\\t\\t\\t\\t\\t\\n\\t\\t\\t\\t\\t\\t\\t\\t\\t\\n\\t\\t\\t\\t\\t\\t\\t\\t\\t<a href=\"#\" role=\"tab\" class=\"_NM_THEME_CATE tab id_school\"\\n\\t\\t\\t\\t\\t\\t\\t\\t\\t   aria-selected=\"false\"\\n\\t\\t\\t\\t\\t\\t\\t\\t\\t   data-clk=\"tct.scl\" data-panel-code=\"SCHOOL\">스쿨잼</a>\\n\\t\\t\\t\\t\\t\\t\\t\\t</li>\\n\\t\\t\\t\\t\\t\\t\\t\\n\\t\\t\\t\\t\\t\\t</ul>\\n\\t\\t\\t\\t\\t</div>\\n\\t\\t\\t\\t\\n\\t\\t\\t</div>\\n\\t\\t</div>\\n\\t</div>\\n</div>\\n\\n\\t</div>\\n\\t<div class=\"theme_cont\" data-panel-code=\"DESIGN\">\\n\\t\\t\\n<div class=\"group_theme\" data-block-id=\"\" data-block-code=\"PC-THEME-DESIGN-MOBILE-RANKING-DEFAULT-0\" data-block-type=\"MATERIALS\" data-template-code=\"MOBILE-RANKING-LIST\"\\n\\n\\t data-da=\"container\"\\n\\t data-index=\"\"\\n     data-page=\"1\"\\n\\t >\\n\\n\\t<div class=\"list_theme_wrap\">\\n\\t\\t<ul class=\"list_theme\">\\n\\t\\t\\t\\n\\t\\t\\t\\t<li class=\"theme_item\" data-gdid=\"CAS_6e5bcce0-5c6e-11eb-9e69-130113cfcdff\" data-da-position=\"true\">\\n\\t\\t\\t\\t\\t<a href=\"https://post.naver.com/viewer/postView.nhn?volumeNo&#x3D;30522681\" class=\"theme_thumb\" data-clk=\"tcc_des.list1cont1\" target=\"_blank\">\\n\\t\\t\\t\\t\\t\\t<img src=\"https://s.pstatic.net/dthumb.phinf/?src&#x3D;%22https%3A%2F%2Fs.pstatic.net%2Fstatic%2Fwww%2Fmobile%2Fedit%2F2021%2F0122%2Fupload_1611292323871vjbCV.jpg%22&amp;type&#x3D;nf340_228\" data-src=\"https://s.pstatic.net/dthumb.phinf/?src&#x3D;%22https%3A%2F%2Fs.pstatic.net%2Fstatic%2Fwww%2Fmobile%2Fedit%2F2021%2F0122%2Fupload_1611292323871vjbCV.jpg%22&amp;type&#x3D;nf340_228\" alt=\"남편이 직접 디자인한 36평 아파트 인테리어\" width=\"170\" height=\"114\">\\n\\t\\t\\t\\t\\t\\t<span class=\"thumb_bd\"></span>\\n\\t\\t\\t\\t\\t</a>\\n\\t\\t\\t\\t\\t<a href=\"https://post.naver.com/viewer/postView.nhn?volumeNo&#x3D;30522681\" class=\"theme_info\" data-clk=\"tcc_des.list1cont1\" target=\"_blank\">\\n\\t\\t\\t\\t\\t\\t<em class=\"theme_category\"> 디자인</em>\\n\\t\\t\\t\\t\\t\\t<strong class=\"title elss\">남편이 직접 디자인한 36평 아파트 인테리어</strong>\\n\\t\\t\\t\\t\\t\\t<p class=\"desc\">· 오늘의집 @키마키마_ 님의 집들이입니다 · 인테리어 제보는 인스타그램 @todayhouse · 더 많은 인테리어는 오늘의집 앱 다운로드 · 리모델링 준비할 땐? 오늘의집 리모델링 무료견적 제가 원하는 집을 남편 스타일로 공사를 했고, 천천히 채우며 살고 있는 집을 소개하려고 해요.안녕하세요. 깔끔하고 담</p>\\n\\t\\t\\t\\t\\t\\t<div class=\"source_box\">\\n\\t\\t\\t\\t\\t\\t\\t<span class=\"date\">4일 전</span>\\n\\t\\t\\t\\t\\t\\t\\t<span class=\"source\"><span class=\"source_inner\">오늘의집</span></span>\\n\\t\\t\\t\\t\\t\\t</div>\\n\\t\\t\\t\\t\\t</a>\\n\\t\\t\\t\\t</li>\\n\\t\\t\\t\\n\\t\\t\\t\\t<li class=\"theme_item\" data-gdid=\"CAS_6e5bccdf-5c6e-11eb-9e69-557d192db9f7\" data-da-position=\"true\">\\n\\t\\t\\t\\t\\t<a href=\"https://post.naver.com/viewer/postView.nhn?volumeNo&#x3D;30503741\" class=\"theme_thumb\" data-clk=\"tcc_des.list1cont2\" target=\"_blank\">\\n\\t\\t\\t\\t\\t\\t<img src=\"https://s.pstatic.net/dthumb.phinf/?src&#x3D;%22https%3A%2F%2Fs.pstatic.net%2Fstatic%2Fwww%2Fmobile%2Fedit%2F2021%2F0125%2Fupload_1611561919948EXT3O.jpg%22&amp;type&#x3D;nf340_228\" data-src=\"https://s.pstatic.net/dthumb.phinf/?src&#x3D;%22https%3A%2F%2Fs.pstatic.net%2Fstatic%2Fwww%2Fmobile%2Fedit%2F2021%2F0125%2Fupload_1611561919948EXT3O.jpg%22&amp;type&#x3D;nf340_228\" alt=\"카디비의 그 옷! 셀럽들 줄 세운 25세 한국 디자이너\" width=\"170\" height=\"114\">\\n\\t\\t\\t\\t\\t\\t<span class=\"thumb_bd\"></span>\\n\\t\\t\\t\\t\\t</a>\\n\\t\\t\\t\\t\\t<a href=\"https://post.naver.com/viewer/postView.nhn?volumeNo&#x3D;30503741\" class=\"theme_info\" data-clk=\"tcc_des.list1cont2\" target=\"_blank\">\\n\\t\\t\\t\\t\\t\\t<em class=\"theme_category\"> 디자인</em>\\n\\t\\t\\t\\t\\t\\t<strong class=\"title elss\">카디비의 그 옷! 셀럽들 줄 세운 25세 한국 디자이너</strong>\\n\\t\\t\\t\\t\\t\\t<p class=\"desc\">모두가 갈 길을 잃은 것 같았던 2020년, 혹독한 팬데믹 속에서 이제 막 대학을 졸업한 한국인 패션 디자이너가 피워낸 글래머러스한 꽃 한 송이가 세계 패션계에 파장을 일으켰다. 마일리 사이러스와 카디 비가 선택한 디자이너 박소희가 국내 매거진 최초로 여성동아와 인터뷰를 진행했다. 한국 인문계 고등학교 졸업 후 영국 명문 패션 스쿨 유학한 신예 디자이너 마</p>\\n\\t\\t\\t\\t\\t\\t<div class=\"source_box\">\\n\\t\\t\\t\\t\\t\\t\\t<span class=\"date\">1주일 전</span>\\n\\t\\t\\t\\t\\t\\t\\t<span class=\"source\"><span class=\"source_inner\">여성동아</span></span>\\n\\t\\t\\t\\t\\t\\t</div>\\n\\t\\t\\t\\t\\t</a>\\n\\t\\t\\t\\t</li>\\n\\t\\t\\t\\n\\t\\t\\t\\t<li class=\"theme_item\" data-gdid=\"CAS_6e5bccde-5c6e-11eb-9e69-ef321c02dda3\" data-da-position=\"true\">\\n\\t\\t\\t\\t\\t<a href=\"https://post.naver.com/viewer/postView.nhn?volumeNo&#x3D;30407746\" class=\"theme_thumb\" data-clk=\"tcc_des.list1cont3\" target=\"_blank\">\\n\\t\\t\\t\\t\\t\\t<img src=\"https://s.pstatic.net/dthumb.phinf/?src&#x3D;%22https%3A%2F%2Fs.pstatic.net%2Fstatic%2Fwww%2Fmobile%2Fedit%2F2021%2F0125%2Fupload_16115653498797eTF8.jpg%22&amp;type&#x3D;nf340_228\" data-src=\"https://s.pstatic.net/dthumb.phinf/?src&#x3D;%22https%3A%2F%2Fs.pstatic.net%2Fstatic%2Fwww%2Fmobile%2Fedit%2F2021%2F0125%2Fupload_16115653498797eTF8.jpg%22&amp;type&#x3D;nf340_228\" alt=\"해외에서 더 주목받는 K-주얼리 디자이너들\" width=\"170\" height=\"114\">\\n\\t\\t\\t\\t\\t\\t<span class=\"thumb_bd\"></span>\\n\\t\\t\\t\\t\\t</a>\\n\\t\\t\\t\\t\\t<a href=\"https://post.naver.com/viewer/postView.nhn?volumeNo&#x3D;30407746\" class=\"theme_info\" data-clk=\"tcc_des.list1cont3\" target=\"_blank\">\\n\\t\\t\\t\\t\\t\\t<em class=\"theme_category\"> 디자인</em>\\n\\t\\t\\t\\t\\t\\t<strong class=\"title elss\">해외에서 더 주목받는 K-주얼리 디자이너들</strong>\\n\\t\\t\\t\\t\\t\\t<p class=\"desc\">Based in SEOUL해외여행은 멈췄지만 국경을 초월한 온라인 쇼핑은 랜선을 타고 더 활발해지고 있다. K-팝, K-뷰티만큼 해외에서 주목받는 K-주얼리 디자이너들처럼.1064STUDIO 노소담예술적인 형태가 인상 깊어요. 디자인 영감은 어디서 받나요?예전에는 똑떨어지는 것을 좋아해서 조각이나 건축물에서 영감을 받았어요. 무엇보다 다른 브랜드에서 도전하</p>\\n\\t\\t\\t\\t\\t\\t<div class=\"source_box\">\\n\\t\\t\\t\\t\\t\\t\\t<span class=\"date\">6일 전</span>\\n\\t\\t\\t\\t\\t\\t\\t<span class=\"source\"><span class=\"source_inner\">스타일러 주부생활</span></span>\\n\\t\\t\\t\\t\\t\\t</div>\\n\\t\\t\\t\\t\\t</a>\\n\\t\\t\\t\\t</li>\\n\\t\\t\\t\\n\\t\\t\\t\\t<li class=\"theme_item\" data-gdid=\"CAS_6e5bcce1-5c6e-11eb-9e69-dddf230a2f20\" data-da-position=\"true\">\\n\\t\\t\\t\\t\\t<a href=\"https://post.naver.com/viewer/postView.nhn?volumeNo&#x3D;30530347\" class=\"theme_thumb\" data-clk=\"tcc_des.list1cont4\" target=\"_blank\">\\n\\t\\t\\t\\t\\t\\t<img src=\"https://s.pstatic.net/dthumb.phinf/?src&#x3D;%22https%3A%2F%2Fs.pstatic.net%2Fstatic%2Fwww%2Fmobile%2Fedit%2F2021%2F0125%2Fupload_1611565303930pY6ed.jpg%22&amp;type&#x3D;nf340_228\" data-src=\"https://s.pstatic.net/dthumb.phinf/?src&#x3D;%22https%3A%2F%2Fs.pstatic.net%2Fstatic%2Fwww%2Fmobile%2Fedit%2F2021%2F0125%2Fupload_1611565303930pY6ed.jpg%22&amp;type&#x3D;nf340_228\" alt=\"역대급은 누구? 美 영부인의 대통령 취임식 패션\" width=\"170\" height=\"114\">\\n\\t\\t\\t\\t\\t\\t<span class=\"thumb_bd\"></span>\\n\\t\\t\\t\\t\\t</a>\\n\\t\\t\\t\\t\\t<a href=\"https://post.naver.com/viewer/postView.nhn?volumeNo&#x3D;30530347\" class=\"theme_info\" data-clk=\"tcc_des.list1cont4\" target=\"_blank\">\\n\\t\\t\\t\\t\\t\\t<em class=\"theme_category\"> 디자인</em>\\n\\t\\t\\t\\t\\t\\t<strong class=\"title elss\">역대급은 누구? 美 영부인의 대통령 취임식 패션</strong>\\n\\t\\t\\t\\t\\t\\t<p class=\"desc\">1월 20일 미국 대통령 도널드 트럼프는 백악관을 떠나고 조 바이든이 새로운 대통령으로 취임식을 올렸습니다. 이 날 바이든 대통령은 대통령 직무를 충실히 수행하고 헌법을 수호하겠다는 내용의 취임 선서를 한 뒤 취임사를 통해 미국의 나아갈 방향과 국정 구상을 밝혔는데요. 많은 미국인들의 이들의 출발을 응원하고 있습니다. 미국 대통령 취임식에서 대통령만큼 주목</p>\\n\\t\\t\\t\\t\\t\\t<div class=\"source_box\">\\n\\t\\t\\t\\t\\t\\t\\t<span class=\"date\">5일 전</span>\\n\\t\\t\\t\\t\\t\\t\\t<span class=\"source\"><span class=\"source_inner\">레드프라이데이</span></span>\\n\\t\\t\\t\\t\\t\\t</div>\\n\\t\\t\\t\\t\\t</a>\\n\\t\\t\\t\\t</li>\\n\\t\\t\\t\\n\\t\\t</ul>\\n\\t</div>\\n</div>\\n<div class=\"group_theme\" data-block-id=\"\" data-block-code=\"PC-THEME-DESIGN-MOBILE-RANKING-DEFAULT-1\" data-block-type=\"MATERIALS\" data-template-code=\"MOBILE-RANKING-LIST\"\\n\\n\\t data-da=\"container\"\\n\\t data-index=\"\"\\n     data-page=\"1\"\\n\\t >\\n\\n\\t<div class=\"list_theme_wrap\">\\n\\t\\t<ul class=\"list_theme\">\\n\\t\\t\\t\\n\\t\\t\\t\\t<li class=\"theme_item\" data-gdid=\"CAS_deb68fa5-5c74-11eb-9e69-4babfbcf5bd4\" data-da-position=\"true\">\\n\\t\\t\\t\\t\\t<a href=\"https://blog.naver.com/designpress2016/222212295978\" class=\"theme_thumb\" data-clk=\"tcc_des.list2cont1\" target=\"_blank\">\\n\\t\\t\\t\\t\\t\\t<img src=\"https://s.pstatic.net/dthumb.phinf/?src&#x3D;%22https%3A%2F%2Fs.pstatic.net%2Fstatic%2Fwww%2Fmobile%2Fedit%2F2021%2F0122%2Fupload_1611294256639HRd1J.jpg%22&amp;type&#x3D;nf340_228\" data-src=\"https://s.pstatic.net/dthumb.phinf/?src&#x3D;%22https%3A%2F%2Fs.pstatic.net%2Fstatic%2Fwww%2Fmobile%2Fedit%2F2021%2F0122%2Fupload_1611294256639HRd1J.jpg%22&amp;type&#x3D;nf340_228\" alt=\"파리 꼭대기 층 ‘하녀방’의 아름다운 변신\" width=\"170\" height=\"114\">\\n\\t\\t\\t\\t\\t\\t<span class=\"thumb_bd\"></span>\\n\\t\\t\\t\\t\\t</a>\\n\\t\\t\\t\\t\\t<a href=\"https://blog.naver.com/designpress2016/222212295978\" class=\"theme_info\" data-clk=\"tcc_des.list2cont1\" target=\"_blank\">\\n\\t\\t\\t\\t\\t\\t<em class=\"theme_category\"> 디자인</em>\\n\\t\\t\\t\\t\\t\\t<strong class=\"title elss\">파리 꼭대기 층 ‘하녀방’의 아름다운 변신</strong>\\n\\t\\t\\t\\t\\t\\t<p class=\"desc\">\\u200b인테리어 디자이너 크리스토프 포예의 집전 세계에 클라이언트를 두고 활동하고 있는 인테리어 디자인 회사 움베르트 &amp; 포예. 국내에도 지난해 조선호텔 부산점을 시작으로 2021년 1월엔 제주, 그리고 곧 서울 강남점의 리노베이션 오픈을 앞두고 있다. 움베르트&amp;포예의 공동 대표 크리스토프 포예Christophe Poyet는 파리의 9구, 사우스 피갈South </p>\\n\\t\\t\\t\\t\\t\\t<div class=\"source_box\">\\n\\t\\t\\t\\t\\t\\t\\t<span class=\"date\">6일 전</span>\\n\\t\\t\\t\\t\\t\\t\\t<span class=\"source\"><span class=\"source_inner\">디자인프레스</span></span>\\n\\t\\t\\t\\t\\t\\t</div>\\n\\t\\t\\t\\t\\t</a>\\n\\t\\t\\t\\t</li>\\n\\t\\t\\t\\n\\t\\t\\t\\t<li class=\"theme_item\" data-gdid=\"CAS_deb68fa4-5c74-11eb-9e69-1941c6f2502e\" data-da-position=\"true\">\\n\\t\\t\\t\\t\\t<a href=\"https://post.naver.com/viewer/postView.nhn?volumeNo&#x3D;30350800\" class=\"theme_thumb\" data-clk=\"tcc_des.list2cont2\" target=\"_blank\">\\n\\t\\t\\t\\t\\t\\t<img src=\"https://s.pstatic.net/dthumb.phinf/?src&#x3D;%22https%3A%2F%2Fs.pstatic.net%2Fstatic%2Fwww%2Fmobile%2Fedit%2F2021%2F0122%2Fupload_16112942095851zskX.jpg%22&amp;type&#x3D;nf340_228\" data-src=\"https://s.pstatic.net/dthumb.phinf/?src&#x3D;%22https%3A%2F%2Fs.pstatic.net%2Fstatic%2Fwww%2Fmobile%2Fedit%2F2021%2F0122%2Fupload_16112942095851zskX.jpg%22&amp;type&#x3D;nf340_228\" alt=\"요즘 구인구직에 필수라는 그 회사의 오피스\" width=\"170\" height=\"114\">\\n\\t\\t\\t\\t\\t\\t<span class=\"thumb_bd\"></span>\\n\\t\\t\\t\\t\\t</a>\\n\\t\\t\\t\\t\\t<a href=\"https://post.naver.com/viewer/postView.nhn?volumeNo&#x3D;30350800\" class=\"theme_info\" data-clk=\"tcc_des.list2cont2\" target=\"_blank\">\\n\\t\\t\\t\\t\\t\\t<em class=\"theme_category\"> 디자인</em>\\n\\t\\t\\t\\t\\t\\t<strong class=\"title elss\">요즘 구인구직에 필수라는 그 회사의 오피스</strong>\\n\\t\\t\\t\\t\\t\\t<p class=\"desc\">원티드는 지난 2015년 출발한 채용 플랫폼으로, 기업과 구직자, 추천인을 연결해주고 있다. 이용자 편의성과 일자리의 수준이 높지 않던 기존 채용 플랫폼과 다르게, 좋은 기업의 좋은 일자리를 구직자들이 보다 쉽게 찾을 수 있도록, 기업의 입장에서는 능력 있는 인재를 보다 쉽게 찾을 수 있도록 했다. 이를 통해 원티드는 광고와 헤드헌팅에 의존했던 보수적인 채</p>\\n\\t\\t\\t\\t\\t\\t<div class=\"source_box\">\\n\\t\\t\\t\\t\\t\\t\\t<span class=\"date\">2주일 전</span>\\n\\t\\t\\t\\t\\t\\t\\t<span class=\"source\"><span class=\"source_inner\">아이엑스디자인</span></span>\\n\\t\\t\\t\\t\\t\\t</div>\\n\\t\\t\\t\\t\\t</a>\\n\\t\\t\\t\\t</li>\\n\\t\\t\\t\\n\\t\\t\\t\\t<li class=\"theme_item\" data-gdid=\"CAS_b5d50a24-5c7c-11eb-a4c0-5d094a79089f\" data-da-position=\"true\">\\n\\t\\t\\t\\t\\t<a href=\"https://blog.naver.com/tim9202/222213626182\" class=\"theme_thumb\" data-clk=\"tcc_des.list2cont3\" target=\"_blank\">\\n\\t\\t\\t\\t\\t\\t<img src=\"https://s.pstatic.net/dthumb.phinf/?src&#x3D;%22https%3A%2F%2Fs.pstatic.net%2Fstatic%2Fwww%2Fmobile%2Fedit%2F2021%2F0122%2Fupload_16112988990617Heji.jpg%22&amp;type&#x3D;nf340_228\" data-src=\"https://s.pstatic.net/dthumb.phinf/?src&#x3D;%22https%3A%2F%2Fs.pstatic.net%2Fstatic%2Fwww%2Fmobile%2Fedit%2F2021%2F0122%2Fupload_16112988990617Heji.jpg%22&amp;type&#x3D;nf340_228\" alt=\"버려진 물건들의 환골탈태! 리빙 브랜드, 수퍼노바\" width=\"170\" height=\"114\">\\n\\t\\t\\t\\t\\t\\t<span class=\"thumb_bd\"></span>\\n\\t\\t\\t\\t\\t</a>\\n\\t\\t\\t\\t\\t<a href=\"https://blog.naver.com/tim9202/222213626182\" class=\"theme_info\" data-clk=\"tcc_des.list2cont3\" target=\"_blank\">\\n\\t\\t\\t\\t\\t\\t<em class=\"theme_category\"> 디자인</em>\\n\\t\\t\\t\\t\\t\\t<strong class=\"title elss\">버려진 물건들의 환골탈태! 리빙 브랜드, 수퍼노바</strong>\\n\\t\\t\\t\\t\\t\\t<p class=\"desc\">분리수거장에 갈 때마다 수북히 쌓여 있는 플라스틱 쓰레기를 보면 왠지 모를 답답함이 느껴집니다. 플라스틱은 영원히 남는 물질이라 쪼개지고 쪼개져 아주 미세한 입자의 상태가 될 때까지도 분해가 되지 않거든요. 지하수에서도 미세플라스틱이 발견됐다고 하니 어쩌면 차곡차곡 우리 몸에 쌓이고 있는지도 모릅니다. 이 문제를 해결하기 위한 명쾌한 답은 대체할 재료를 개</p>\\n\\t\\t\\t\\t\\t\\t<div class=\"source_box\">\\n\\t\\t\\t\\t\\t\\t\\t<span class=\"date\">5일 전</span>\\n\\t\\t\\t\\t\\t\\t\\t<span class=\"source\"><span class=\"source_inner\">김단장</span></span>\\n\\t\\t\\t\\t\\t\\t</div>\\n\\t\\t\\t\\t\\t</a>\\n\\t\\t\\t\\t</li>\\n\\t\\t\\t\\n\\t\\t\\t\\t<li class=\"theme_item\" data-gdid=\"CAS_6aa8afeb-5c6e-11eb-9e69-1700c6be9902\" data-da-position=\"true\">\\n\\t\\t\\t\\t\\t<a href=\"https://post.naver.com/viewer/postView.nhn?volumeNo&#x3D;30308151\" class=\"theme_thumb\" data-clk=\"tcc_des.list2cont4\" target=\"_blank\">\\n\\t\\t\\t\\t\\t\\t<img src=\"https://s.pstatic.net/dthumb.phinf/?src&#x3D;%22https%3A%2F%2Fs.pstatic.net%2Fstatic%2Fwww%2Fmobile%2Fedit%2F2021%2F0122%2Fupload_1611291572344WXBYd.jpg%22&amp;type&#x3D;nf340_228\" data-src=\"https://s.pstatic.net/dthumb.phinf/?src&#x3D;%22https%3A%2F%2Fs.pstatic.net%2Fstatic%2Fwww%2Fmobile%2Fedit%2F2021%2F0122%2Fupload_1611291572344WXBYd.jpg%22&amp;type&#x3D;nf340_228\" alt=\"패션 유튜버 수박언니의 세련된 홈 인테리어\" width=\"170\" height=\"114\">\\n\\t\\t\\t\\t\\t\\t<span class=\"thumb_bd\"></span>\\n\\t\\t\\t\\t\\t</a>\\n\\t\\t\\t\\t\\t<a href=\"https://post.naver.com/viewer/postView.nhn?volumeNo&#x3D;30308151\" class=\"theme_info\" data-clk=\"tcc_des.list2cont4\" target=\"_blank\">\\n\\t\\t\\t\\t\\t\\t<em class=\"theme_category\"> 디자인</em>\\n\\t\\t\\t\\t\\t\\t<strong class=\"title elss\">패션 유튜버 수박언니의 세련된 홈 인테리어</strong>\\n\\t\\t\\t\\t\\t\\t<p class=\"desc\">인스타그래머이자 패션 유튜브 크리에이터로서 활동하고 있는 ‘수박언니’의 로망 실현 하우스에 초대받았다. 그녀의 집은 유튜브 &lt;수박언니&gt;채널의 콘텐츠처럼 명품 브랜드가 없어도 감각적인 스타일링을 뽐내고 있었다.한국, 북유럽, 일본식 인테리어가 모두 느껴지는 이정원 씨의 집. 공간마다 다른 인테리어 포인트와 디테일로 눈에 보이지</p>\\n\\t\\t\\t\\t\\t\\t<div class=\"source_box\">\\n\\t\\t\\t\\t\\t\\t\\t<span class=\"date\">1개월 전</span>\\n\\t\\t\\t\\t\\t\\t\\t<span class=\"source\"><span class=\"source_inner\">리빙센스</span></span>\\n\\t\\t\\t\\t\\t\\t</div>\\n\\t\\t\\t\\t\\t</a>\\n\\t\\t\\t\\t</li>\\n\\t\\t\\t\\n\\t\\t</ul>\\n\\t</div>\\n</div>\\n<div class=\"group_theme\" data-block-id=\"\" data-block-code=\"PC-THEME-DESIGN-MOBILE-RANKING-DEFAULT-2\" data-block-type=\"MATERIALS\" data-template-code=\"MOBILE-RANKING-LIST\"\\n\\n\\t data-da=\"container\"\\n\\t data-index=\"\"\\n     data-page=\"2\"\\n\\t style=\"display:none\">\\n\\n\\t<div class=\"list_theme_wrap\">\\n\\t\\t<ul class=\"list_theme\">\\n\\t\\t\\t\\n\\t\\t\\t\\t<li class=\"theme_item\" data-gdid=\"CAS_b5d50a23-5c7c-11eb-a4c0-354bd682a618\" data-da-position=\"true\">\\n\\t\\t\\t\\t\\t<a href=\"https://blog.naver.com/designpress2016/222212814241\" class=\"theme_thumb\" data-clk=\"tcc_des.list3cont1\" target=\"_blank\">\\n\\t\\t\\t\\t\\t\\t<img  data-src=\"https://s.pstatic.net/dthumb.phinf/?src&#x3D;%22https%3A%2F%2Fs.pstatic.net%2Fstatic%2Fwww%2Fmobile%2Fedit%2F2021%2F0122%2Fupload_1611297982303n7l0b.jpg%22&amp;type&#x3D;nf340_228\" alt=\"패션 콘텐츠 기획자의 미감이 담긴 브랜드\" width=\"170\" height=\"114\">\\n\\t\\t\\t\\t\\t\\t<span class=\"thumb_bd\"></span>\\n\\t\\t\\t\\t\\t</a>\\n\\t\\t\\t\\t\\t<a href=\"https://blog.naver.com/designpress2016/222212814241\" class=\"theme_info\" data-clk=\"tcc_des.list3cont1\" target=\"_blank\">\\n\\t\\t\\t\\t\\t\\t<em class=\"theme_category\"> 디자인</em>\\n\\t\\t\\t\\t\\t\\t<strong class=\"title elss\">패션 콘텐츠 기획자의 미감이 담긴 브랜드</strong>\\n\\t\\t\\t\\t\\t\\t<p class=\"desc\">다음 달 매거진처럼 손꼽아 기다리게 되는,입체 공간 속 미감\\u200b\\u200b지난 해 여름. 성수동의 백색 공간 ‘퓨처 소사이어티&#x27;에 명확한 색과 형태가 펼쳐진 일이 있었다. ‘더 프레이즈THE PHRASE’ 팝업의 첫 번째 이슈 &lt;SOMEWHERE&gt;였다. 직접 기획하고 출판한 패션 사진가 신선혜의 첫 번째 사진집 &lt;SOMEWHERE&gt;과 뉴욕의 아트 디렉터인...</p>\\n\\t\\t\\t\\t\\t\\t<div class=\"source_box\">\\n\\t\\t\\t\\t\\t\\t\\t<span class=\"date\">6일 전</span>\\n\\t\\t\\t\\t\\t\\t\\t<span class=\"source\"><span class=\"source_inner\">디자인프레스</span></span>\\n\\t\\t\\t\\t\\t\\t</div>\\n\\t\\t\\t\\t\\t</a>\\n\\t\\t\\t\\t</li>\\n\\t\\t\\t\\n\\t\\t\\t\\t<li class=\"theme_item\" data-gdid=\"CAS_6aa8afea-5c6e-11eb-9e69-e1775a3d1a5a\" data-da-position=\"true\">\\n\\t\\t\\t\\t\\t<a href=\"https://post.naver.com/viewer/postView.nhn?volumeNo&#x3D;30511578\" class=\"theme_thumb\" data-clk=\"tcc_des.list3cont2\" target=\"_blank\">\\n\\t\\t\\t\\t\\t\\t<img  data-src=\"https://s.pstatic.net/dthumb.phinf/?src&#x3D;%22https%3A%2F%2Fs.pstatic.net%2Fstatic%2Fwww%2Fmobile%2Fedit%2F2021%2F0122%2Fupload_1611292433677cwumZ.jpg%22&amp;type&#x3D;nf340_228\" alt=\"&#x27;신어보고 싶네&#x27; 100% 분해 되는 에코 운동화\" width=\"170\" height=\"114\">\\n\\t\\t\\t\\t\\t\\t<span class=\"thumb_bd\"></span>\\n\\t\\t\\t\\t\\t</a>\\n\\t\\t\\t\\t\\t<a href=\"https://post.naver.com/viewer/postView.nhn?volumeNo&#x3D;30511578\" class=\"theme_info\" data-clk=\"tcc_des.list3cont2\" target=\"_blank\">\\n\\t\\t\\t\\t\\t\\t<em class=\"theme_category\"> 디자인</em>\\n\\t\\t\\t\\t\\t\\t<strong class=\"title elss\">\\'신어보고 싶네\\' 100% 분해 되는 에코 운동화</strong>\\n\\t\\t\\t\\t\\t\\t<p class=\"desc\">지구 온난화의 주범으로 낙인 찍힌 &#x27;의류산업&#x27;지금 우리는 지구의 자원이 매우 빠른 속도로 제품으로 만들어지고 있는 세상에서 살고 있다. 문제는 이 속도가 자구의 자기 재생 속도를 훨씬 뛰어넘는다는 점이다. 이처럼 인류의 과도한 생산과 소비로 인해 우리 지구는 병들어가고 있으며, 지구 온난화 현상이 갈수록 심화되고 있다. 우리는 종종 의류산업이 지구 온난화에</p>\\n\\t\\t\\t\\t\\t\\t<div class=\"source_box\">\\n\\t\\t\\t\\t\\t\\t\\t<span class=\"date\">5일 전</span>\\n\\t\\t\\t\\t\\t\\t\\t<span class=\"source\"><span class=\"source_inner\">BIZION</span></span>\\n\\t\\t\\t\\t\\t\\t</div>\\n\\t\\t\\t\\t\\t</a>\\n\\t\\t\\t\\t</li>\\n\\t\\t\\t\\n\\t\\t\\t\\t<li class=\"theme_item\" data-gdid=\"CAS_601d0734-5c7b-11eb-a4c0-e5240991ec90\" data-da-position=\"true\">\\n\\t\\t\\t\\t\\t<a href=\"https://post.naver.com/viewer/postView.nhn?volumeNo&#x3D;30526844\" class=\"theme_thumb\" data-clk=\"tcc_des.list3cont3\" target=\"_blank\">\\n\\t\\t\\t\\t\\t\\t<img  data-src=\"https://s.pstatic.net/dthumb.phinf/?src&#x3D;%22https%3A%2F%2Fs.pstatic.net%2Fstatic%2Fwww%2Fmobile%2Fedit%2F2021%2F0122%2Fupload_1611297554158tDXaG.jpg%22&amp;type&#x3D;nf340_228\" alt=\"펜디, 배우 이민호와 함께한 역대급 만남!\" width=\"170\" height=\"114\">\\n\\t\\t\\t\\t\\t\\t<span class=\"thumb_bd\"></span>\\n\\t\\t\\t\\t\\t</a>\\n\\t\\t\\t\\t\\t<a href=\"https://post.naver.com/viewer/postView.nhn?volumeNo&#x3D;30526844\" class=\"theme_info\" data-clk=\"tcc_des.list3cont3\" target=\"_blank\">\\n\\t\\t\\t\\t\\t\\t<em class=\"theme_category\"> 디자인</em>\\n\\t\\t\\t\\t\\t\\t<strong class=\"title elss\">펜디, 배우 이민호와 함께한 역대급 만남!</strong>\\n\\t\\t\\t\\t\\t\\t<p class=\"desc\">GQ 매거진 2월 호 커버 화보에서 발휘한 패션 브랜드와 톱배우의 만남글로벌 패션 하우스 펜디Fendi가 배우 이민호와 함께 한 2021년 GQ 매거진 2월 호 커버 화보를 공개했다. &#x27;밤&#x27;을 주제로 한 표지와 화보 속에서 펜디 2021 봄/여름 컬렉션을 착용한 이민호는 강인하면서도 동시에 부드러운 매력을 자아내며 신비로운 분위기를 연출했다.뚜렷한 명암 대</p>\\n\\t\\t\\t\\t\\t\\t<div class=\"source_box\">\\n\\t\\t\\t\\t\\t\\t\\t<span class=\"date\">5일 전</span>\\n\\t\\t\\t\\t\\t\\t\\t<span class=\"source\"><span class=\"source_inner\">디자인프레스</span></span>\\n\\t\\t\\t\\t\\t\\t</div>\\n\\t\\t\\t\\t\\t</a>\\n\\t\\t\\t\\t</li>\\n\\t\\t\\t\\n\\t\\t\\t\\t<li class=\"theme_item\" data-gdid=\"CAS_6aa8d6fd-5c6e-11eb-9e69-a1565c4606ad\" data-da-position=\"true\">\\n\\t\\t\\t\\t\\t<a href=\"https://blog.naver.com/tim9202/222217172498\" class=\"theme_thumb\" data-clk=\"tcc_des.list3cont4\" target=\"_blank\">\\n\\t\\t\\t\\t\\t\\t<img  data-src=\"https://s.pstatic.net/dthumb.phinf/?src&#x3D;%22https%3A%2F%2Fs.pstatic.net%2Fstatic%2Fwww%2Fmobile%2Fedit%2F2021%2F0125%2Fupload_1611544105368L0OdF.jpg%22&amp;type&#x3D;nf340_228\" alt=\"&#x27;건축 전공한&#x27; 루이비통 디자이너가 만든 독특한 옷\" width=\"170\" height=\"114\">\\n\\t\\t\\t\\t\\t\\t<span class=\"thumb_bd\"></span>\\n\\t\\t\\t\\t\\t</a>\\n\\t\\t\\t\\t\\t<a href=\"https://blog.naver.com/tim9202/222217172498\" class=\"theme_info\" data-clk=\"tcc_des.list3cont4\" target=\"_blank\">\\n\\t\\t\\t\\t\\t\\t<em class=\"theme_category\"> 디자인</em>\\n\\t\\t\\t\\t\\t\\t<strong class=\"title elss\">\\'건축 전공한\\' 루이비통 디자이너가 만든 독특한 옷</strong>\\n\\t\\t\\t\\t\\t\\t<p class=\"desc\">루이비통의 2021 F/W 맨즈웨어 컬렉션이 공개됐습니다. 이번 컬렉션은 팬데믹으로 인해 관람객없이 세트장에서 촬영된 영상으로 볼 수 있었는데요, 아티스틱한 성향의 루이비통 디렉터 버질 아블로답게 한 편의 뮤직비디오 같기도, 영화 같기도 한 영상으로 런웨이를 만들었습니다. 그 중 눈길을 끄는 독특한 패션이 있었습니다. 제일 높은 곳에 건물처럼 서 있는 모델</p>\\n\\t\\t\\t\\t\\t\\t<div class=\"source_box\">\\n\\t\\t\\t\\t\\t\\t\\t<span class=\"date\">2일 전</span>\\n\\t\\t\\t\\t\\t\\t\\t<span class=\"source\"><span class=\"source_inner\">김단장</span></span>\\n\\t\\t\\t\\t\\t\\t</div>\\n\\t\\t\\t\\t\\t</a>\\n\\t\\t\\t\\t</li>\\n\\t\\t\\t\\n\\t\\t\\t\\t<li class=\"theme_item\" data-gdid=\"CAS_1e8b769f-5c74-11eb-a4c0-3d02611532c1\" data-da-position=\"true\">\\n\\t\\t\\t\\t\\t<a href=\"https://blog.naver.com/designpress2016/222211614358\" class=\"theme_thumb\" data-clk=\"tcc_des.list3cont5\" target=\"_blank\">\\n\\t\\t\\t\\t\\t\\t<img  data-src=\"https://s.pstatic.net/dthumb.phinf/?src&#x3D;%22https%3A%2F%2Fs.pstatic.net%2Fstatic%2Fwww%2Fmobile%2Fedit%2F2021%2F0122%2Fupload_1611293933469xbJL0.jpg%22&amp;type&#x3D;nf340_228\" alt=\"‘CNN 선정’ 2021년 가장 기대되는 건축물 Top 5\" width=\"170\" height=\"114\">\\n\\t\\t\\t\\t\\t\\t<span class=\"thumb_bd\"></span>\\n\\t\\t\\t\\t\\t</a>\\n\\t\\t\\t\\t\\t<a href=\"https://blog.naver.com/designpress2016/222211614358\" class=\"theme_info\" data-clk=\"tcc_des.list3cont5\" target=\"_blank\">\\n\\t\\t\\t\\t\\t\\t<em class=\"theme_category\"> 디자인</em>\\n\\t\\t\\t\\t\\t\\t<strong class=\"title elss\">‘CNN 선정’ 2021년 가장 기대되는 건축물 Top 5</strong>\\n\\t\\t\\t\\t\\t\\t<p class=\"desc\">뉴욕부터 암스테르담까지,2021년 문 여는 공간들\\u200b지난해, 팬데믹으로 인해 전 세계 수많은 건축 프로젝트가 중단되었다. 그럼에도 불구하고 어려운 시기를 지나 2021년 문을 열게 된 공간들이 있다. 수년 전부터 의뢰를 받아 설계를 진행하며 지속 가능한 현대건축을 모색한 작업들이다. 문화 예술 공간부터 기숙사 캠퍼스에 이르기까지, CNN이 선정한 2021년 </p>\\n\\t\\t\\t\\t\\t\\t<div class=\"source_box\">\\n\\t\\t\\t\\t\\t\\t\\t<span class=\"date\">1주일 전</span>\\n\\t\\t\\t\\t\\t\\t\\t<span class=\"source\"><span class=\"source_inner\">디자인프레스</span></span>\\n\\t\\t\\t\\t\\t\\t</div>\\n\\t\\t\\t\\t\\t</a>\\n\\t\\t\\t\\t</li>\\n\\t\\t\\t\\n\\t\\t</ul>\\n\\t</div>\\n</div>\\n<div class=\"group_theme\" data-block-id=\"\" data-block-code=\"PC-THEME-DESIGN-MOBILE-RANKING-DEFAULT-3\" data-block-type=\"MATERIALS\" data-template-code=\"MOBILE-RANKING-LIST\"\\n\\n\\t data-da=\"container\"\\n\\t data-index=\"\"\\n     data-page=\"2\"\\n\\t style=\"display:none\">\\n\\n\\t<div class=\"list_theme_wrap\">\\n\\t\\t<ul class=\"list_theme\">\\n\\t\\t\\t\\n\\t\\t\\t\\t<li class=\"theme_item\" data-gdid=\"CAS_1e8b769e-5c74-11eb-a4c0-ddf169dffe25\" data-da-position=\"true\">\\n\\t\\t\\t\\t\\t<a href=\"https://blog.naver.com/designpress2016/222212340343\" class=\"theme_thumb\" data-clk=\"tcc_des.list4cont1\" target=\"_blank\">\\n\\t\\t\\t\\t\\t\\t<img  data-src=\"https://s.pstatic.net/dthumb.phinf/?src&#x3D;%22https%3A%2F%2Fs.pstatic.net%2Fstatic%2Fwww%2Fmobile%2Fedit%2F2021%2F0121%2Fupload_1611194462408c2QSj.jpg%22&amp;type&#x3D;nf340_228\" alt=\"벌써 세 번째 자살... ‘죽음의 계단’된 뉴욕 명소\" width=\"170\" height=\"114\">\\n\\t\\t\\t\\t\\t\\t<span class=\"thumb_bd\"></span>\\n\\t\\t\\t\\t\\t</a>\\n\\t\\t\\t\\t\\t<a href=\"https://blog.naver.com/designpress2016/222212340343\" class=\"theme_info\" data-clk=\"tcc_des.list4cont1\" target=\"_blank\">\\n\\t\\t\\t\\t\\t\\t<em class=\"theme_category\"> 디자인</em>\\n\\t\\t\\t\\t\\t\\t<strong class=\"title elss\">벌써 세 번째 자살... ‘죽음의 계단’된 뉴욕 명소</strong>\\n\\t\\t\\t\\t\\t\\t<p class=\"desc\">\\u200b토머스 헤더윅 ‘베슬’‘자살 계단’ 오명 벗을 수 있을까?\\u200b미국 뉴욕 명물 베슬Vessel이 개장 1년 10개월 만에 폐쇄 소식을 전했다. 잇따른 사고 때문이다. 지난해 2월에는 19세 남성이, 지난 12월에는 24세 여성이, 그리고 1월 11일(현지 시간) 텍사스 출신 21세 남성이 극단적 선택을 했다. 새로운 랜드마크로 자리매김한 건축물이 ‘죽음의 장</p>\\n\\t\\t\\t\\t\\t\\t<div class=\"source_box\">\\n\\t\\t\\t\\t\\t\\t\\t<span class=\"date\">6일 전</span>\\n\\t\\t\\t\\t\\t\\t\\t<span class=\"source\"><span class=\"source_inner\">디자인프레스</span></span>\\n\\t\\t\\t\\t\\t\\t</div>\\n\\t\\t\\t\\t\\t</a>\\n\\t\\t\\t\\t</li>\\n\\t\\t\\t\\n\\t\\t\\t\\t<li class=\"theme_item\" data-gdid=\"CAS_601d0735-5c7b-11eb-a4c0-e9f4b49a922f\" data-da-position=\"true\">\\n\\t\\t\\t\\t\\t<a href=\"https://post.naver.com/viewer/postView.nhn?volumeNo&#x3D;30487836\" class=\"theme_thumb\" data-clk=\"tcc_des.list4cont2\" target=\"_blank\">\\n\\t\\t\\t\\t\\t\\t<img  data-src=\"https://s.pstatic.net/dthumb.phinf/?src&#x3D;%22https%3A%2F%2Fs.pstatic.net%2Fstatic%2Fwww%2Fmobile%2Fedit%2F2021%2F0122%2Fupload_1611297896374Zmjfd.jpg%22&amp;type&#x3D;nf340_228\" alt=\"삼성전자, 새로운 디자인과 카메라 담은 &#x27;갤럭시 S21&#x27;\" width=\"170\" height=\"114\">\\n\\t\\t\\t\\t\\t\\t<span class=\"thumb_bd\"></span>\\n\\t\\t\\t\\t\\t</a>\\n\\t\\t\\t\\t\\t<a href=\"https://post.naver.com/viewer/postView.nhn?volumeNo&#x3D;30487836\" class=\"theme_info\" data-clk=\"tcc_des.list4cont2\" target=\"_blank\">\\n\\t\\t\\t\\t\\t\\t<em class=\"theme_category\"> 디자인</em>\\n\\t\\t\\t\\t\\t\\t<strong class=\"title elss\">삼성전자, 새로운 디자인과 카메라 담은 \\'갤럭시 S21\\'</strong>\\n\\t\\t\\t\\t\\t\\t<p class=\"desc\">다양한 선택지를 마련한 삼성의 새로운 혁신삼성전자는 15일(한국시간) 온라인을 통해 &#x27;삼성 갤럭시 언팩 2021Samsung Galaxy Unpacked 2021: Welcome to the Everyday Epic&#x27; 행사를 열고, 프리미엄 스마트폰 &#x27;갤럭시 S21Galaxy S21&#x27; 시리즈를 전격 공개했다.&#x27;갤럭시 S21&#x27; 시리즈는 스마트폰</p>\\n\\t\\t\\t\\t\\t\\t<div class=\"source_box\">\\n\\t\\t\\t\\t\\t\\t\\t<span class=\"date\">1주일 전</span>\\n\\t\\t\\t\\t\\t\\t\\t<span class=\"source\"><span class=\"source_inner\">디자인프레스</span></span>\\n\\t\\t\\t\\t\\t\\t</div>\\n\\t\\t\\t\\t\\t</a>\\n\\t\\t\\t\\t</li>\\n\\t\\t\\t\\n\\t\\t\\t\\t<li class=\"theme_item\" data-gdid=\"CAS_e6f026dc-5c71-11eb-b5d2-cbb659642982\" data-da-position=\"true\">\\n\\t\\t\\t\\t\\t<a href=\"https://blog.naver.com/clwmrjf/222208858615\" class=\"theme_thumb\" data-clk=\"tcc_des.list4cont3\" target=\"_blank\">\\n\\t\\t\\t\\t\\t\\t<img  data-src=\"https://s.pstatic.net/dthumb.phinf/?src&#x3D;%22https%3A%2F%2Fs.pstatic.net%2Fstatic%2Fwww%2Fmobile%2Fedit%2F2021%2F0122%2Fupload_1611294335460OcJAU.jpg%22&amp;type&#x3D;nf340_228\" alt=\"지루했던 보테가 베네타는 어떻게 MZ의 사랑을 독차지했을까?\" width=\"170\" height=\"114\">\\n\\t\\t\\t\\t\\t\\t<span class=\"thumb_bd\"></span>\\n\\t\\t\\t\\t\\t</a>\\n\\t\\t\\t\\t\\t<a href=\"https://blog.naver.com/clwmrjf/222208858615\" class=\"theme_info\" data-clk=\"tcc_des.list4cont3\" target=\"_blank\">\\n\\t\\t\\t\\t\\t\\t<em class=\"theme_category\"> 디자인</em>\\n\\t\\t\\t\\t\\t\\t<strong class=\"title elss\">지루했던 보테가 베네타는 어떻게 MZ의 사랑을 독차지했을까?</strong>\\n\\t\\t\\t\\t\\t\\t<p class=\"desc\">2021년 1월, 패션계에 큰 화제를 가져온 브랜드를 하나만 꼽으라면 역시 보테가 베네타 Bottega Veneta가 아닐까 합니다. 그들이 선보인 건 무엇이었을까요? 획기적인 가상현실 서비스와 디지털 전략이 아니었습니다. 이들이 선택한 건 바로 줄이는 미학이었습니다. 2021년 1월 5일, 보테가 베네타 Bottega Veneta의 모든 공식 소셜 미디어</p>\\n\\t\\t\\t\\t\\t\\t<div class=\"source_box\">\\n\\t\\t\\t\\t\\t\\t\\t<span class=\"date\">1주일 전</span>\\n\\t\\t\\t\\t\\t\\t\\t<span class=\"source\"><span class=\"source_inner\">임대리님</span></span>\\n\\t\\t\\t\\t\\t\\t</div>\\n\\t\\t\\t\\t\\t</a>\\n\\t\\t\\t\\t</li>\\n\\t\\t\\t\\n\\t\\t\\t\\t<li class=\"theme_item\" data-gdid=\"CAS_6cccb2b1-5c77-11eb-9e69-81298bf52801\" data-da-position=\"true\">\\n\\t\\t\\t\\t\\t<a href=\"https://blog.naver.com/designpress2016/222216158216\" class=\"theme_thumb\" data-clk=\"tcc_des.list4cont4\" target=\"_blank\">\\n\\t\\t\\t\\t\\t\\t<img  data-src=\"https://s.pstatic.net/dthumb.phinf/?src&#x3D;%22https%3A%2F%2Fs.pstatic.net%2Fstatic%2Fwww%2Fmobile%2Fedit%2F2020%2F1219%2Fupload_24274531699136938xT3HK.jpg%22&amp;type&#x3D;nf340_228\" alt=\"1월 5주 차 : SK, 쿡앱스, 한섬, 데상트 코리아 외\" width=\"170\" height=\"114\">\\n\\t\\t\\t\\t\\t\\t<span class=\"thumb_bd\"></span>\\n\\t\\t\\t\\t\\t</a>\\n\\t\\t\\t\\t\\t<a href=\"https://blog.naver.com/designpress2016/222216158216\" class=\"theme_info\" data-clk=\"tcc_des.list4cont4\" target=\"_blank\">\\n\\t\\t\\t\\t\\t\\t<em class=\"theme_category\"> 디자인</em>\\n\\t\\t\\t\\t\\t\\t<strong class=\"title elss\">1월 5주 차 : SK, 쿡앱스, 한섬, 데상트 코리아 외</strong>\\n\\t\\t\\t\\t\\t\\t<p class=\"desc\">\\u200b1월 5주 차 디자인 분야 채용 공고[SK(주)]디자이너 / 제안서 및 발표 자료 디자인 / 세일즈 팩 및 브로슈어 디자인 / 문서 편집 디자인 2년 이상 ~ 10년 이하 유경험자 / 제안서 디자인 유경험자 우대 / 포토샵, 일러스트레이터 등 디자인 툴 숙련자 우대 / MS 워드 편집디자인 가능자 우대 / 신입, 경력(~1월 31일)자세히 보기\\u200b[쿡앱스]</p>\\n\\t\\t\\t\\t\\t\\t<div class=\"source_box\">\\n\\t\\t\\t\\t\\t\\t\\t<span class=\"date\">3일 전</span>\\n\\t\\t\\t\\t\\t\\t\\t<span class=\"source\"><span class=\"source_inner\">디자인프레스</span></span>\\n\\t\\t\\t\\t\\t\\t</div>\\n\\t\\t\\t\\t\\t</a>\\n\\t\\t\\t\\t</li>\\n\\t\\t\\t\\n\\t\\t\\t\\t<li class=\"theme_item\" data-gdid=\"CAS_39d5d085-5bc9-11eb-955d-9f0caa682160\" data-da-position=\"true\">\\n\\t\\t\\t\\t\\t<a href=\"https://blog.naver.com/designpress2016/222145488240\" class=\"theme_thumb\" data-clk=\"tcc_des.list4cont5\" target=\"_blank\">\\n\\t\\t\\t\\t\\t\\t<img  data-src=\"https://s.pstatic.net/dthumb.phinf/?src&#x3D;%22https%3A%2F%2Fs.pstatic.net%2Fstatic%2Fwww%2Fmobile%2Fedit%2F2021%2F0121%2Fupload_1611220514179x7Y3J.jpg%22&amp;type&#x3D;nf340_228\" alt=\"송나라 시대가 생각나는 차 세트\" width=\"170\" height=\"114\">\\n\\t\\t\\t\\t\\t\\t<span class=\"thumb_bd\"></span>\\n\\t\\t\\t\\t\\t</a>\\n\\t\\t\\t\\t\\t<a href=\"https://blog.naver.com/designpress2016/222145488240\" class=\"theme_info\" data-clk=\"tcc_des.list4cont5\" target=\"_blank\">\\n\\t\\t\\t\\t\\t\\t<em class=\"theme_category\"> 디자인</em>\\n\\t\\t\\t\\t\\t\\t<strong class=\"title elss\">송나라 시대가 생각나는 차 세트</strong>\\n\\t\\t\\t\\t\\t\\t<p class=\"desc\">\\u200b제품 전문 디자인 스튜디오 린 샤오빈의 티 패키징따뜻한 ‘차茶’ 한 잔이 생각나는 계절. 음용 목적에서 나아가 명상과 심리 치유 효과까지 얻을 수 있는 만큼, 티 세트는 유독 패키지 디자인에 심혈을 기울이는 품목이기도 하다. 상하이를 중심으로 활동하는 그래픽 디자인 스튜디오 린 샤오빈Lin Shaobin은 잎차 본연의 향과 맛을 극대화하는 수려한 패키징 </p>\\n\\t\\t\\t\\t\\t\\t<div class=\"source_box\">\\n\\t\\t\\t\\t\\t\\t\\t<span class=\"date\">2개월 전</span>\\n\\t\\t\\t\\t\\t\\t\\t<span class=\"source\"><span class=\"source_inner\">디자인프레스</span></span>\\n\\t\\t\\t\\t\\t\\t</div>\\n\\t\\t\\t\\t\\t</a>\\n\\t\\t\\t\\t</li>\\n\\t\\t\\t\\n\\t\\t</ul>\\n\\t</div>\\n</div>\\n<div class=\"group_theme\" data-block-id=\"\" data-block-code=\"PC-THEME-DESIGN-MOBILE-RANKING-DEFAULT-4\" data-block-type=\"MATERIALS\" data-template-code=\"MOBILE-RANKING-LIST\"\\n\\n\\t data-da=\"container\"\\n\\t data-index=\"\"\\n     data-page=\"3\"\\n\\t style=\"display:none\">\\n\\n\\t<div class=\"list_theme_wrap\">\\n\\t\\t<ul class=\"list_theme\">\\n\\t\\t\\t\\n\\t\\t\\t\\t<li class=\"theme_item\" data-gdid=\"CAS_95f372d9-5c79-11eb-9e69-63f22bd6b44b\" data-da-position=\"true\">\\n\\t\\t\\t\\t\\t<a href=\"https://blog.naver.com/designpress2016/222208532009\" class=\"theme_thumb\" data-clk=\"tcc_des.list5cont1\" target=\"_blank\">\\n\\t\\t\\t\\t\\t\\t<img  data-src=\"https://s.pstatic.net/dthumb.phinf/?src&#x3D;%22https%3A%2F%2Fs.pstatic.net%2Fstatic%2Fwww%2Fmobile%2Fedit%2F2021%2F0122%2Fupload_1611296428783OG9CB.jpg%22&amp;type&#x3D;nf340_228\" alt=\"“황홀하다!” 미국 아티스트와 손잡은 펜디 에디션\" width=\"170\" height=\"114\">\\n\\t\\t\\t\\t\\t\\t<span class=\"thumb_bd\"></span>\\n\\t\\t\\t\\t\\t</a>\\n\\t\\t\\t\\t\\t<a href=\"https://blog.naver.com/designpress2016/222208532009\" class=\"theme_info\" data-clk=\"tcc_des.list5cont1\" target=\"_blank\">\\n\\t\\t\\t\\t\\t\\t<em class=\"theme_category\"> 디자인</em>\\n\\t\\t\\t\\t\\t\\t<strong class=\"title elss\">“황홀하다!” 미국 아티스트와 손잡은 펜디 에디션</strong>\\n\\t\\t\\t\\t\\t\\t<p class=\"desc\">\\u200b펜디 X 미술가 사라 콜만럭셔리 패션 하우스 펜디Fendi와 디자인 마이애미Design Miami의 만남은 이번에도 우리를 실망시키지 않았다. 지난달 막을 내린 이번 축제에서 펜디는 미국 미술가 사라 콜만Sarah Coleman과 손을 잡았다 \\u200b디자인 마이애미는 세계 최대 디자인 박람회 중 하나로 매년 12월 미국 마이애미에서 열린다. 2005년 첫 선을</p>\\n\\t\\t\\t\\t\\t\\t<div class=\"source_box\">\\n\\t\\t\\t\\t\\t\\t\\t<span class=\"date\">1주일 전</span>\\n\\t\\t\\t\\t\\t\\t\\t<span class=\"source\"><span class=\"source_inner\">디자인프레스</span></span>\\n\\t\\t\\t\\t\\t\\t</div>\\n\\t\\t\\t\\t\\t</a>\\n\\t\\t\\t\\t</li>\\n\\t\\t\\t\\n\\t\\t\\t\\t<li class=\"theme_item\" data-gdid=\"CAS_601d0732-5c7b-11eb-a4c0-191ca77f9d41\" data-da-position=\"true\">\\n\\t\\t\\t\\t\\t<a href=\"https://post.naver.com/viewer/postView.nhn?volumeNo&#x3D;30522473\" class=\"theme_thumb\" data-clk=\"tcc_des.list5cont2\" target=\"_blank\">\\n\\t\\t\\t\\t\\t\\t<img  data-src=\"https://s.pstatic.net/dthumb.phinf/?src&#x3D;%22https%3A%2F%2Fs.pstatic.net%2Fstatic%2Fwww%2Fmobile%2Fedit%2F2021%2F0122%2Fupload_1611297046098KHsuu.jpg%22&amp;type&#x3D;nf340_228\" alt=\"현대자동차, 뉴욕 예술 기관과 함께한 디지털 아트\" width=\"170\" height=\"114\">\\n\\t\\t\\t\\t\\t\\t<span class=\"thumb_bd\"></span>\\n\\t\\t\\t\\t\\t</a>\\n\\t\\t\\t\\t\\t<a href=\"https://post.naver.com/viewer/postView.nhn?volumeNo&#x3D;30522473\" class=\"theme_info\" data-clk=\"tcc_des.list5cont2\" target=\"_blank\">\\n\\t\\t\\t\\t\\t\\t<em class=\"theme_category\"> 디자인</em>\\n\\t\\t\\t\\t\\t\\t<strong class=\"title elss\">현대자동차, 뉴욕 예술 기관과 함께한 디지털 아트</strong>\\n\\t\\t\\t\\t\\t\\t<p class=\"desc\">디지털 아트 전시로 선보이는 무한한 가능성현대자동차는 미국 뉴욕에 위치한 현대미술관 뉴뮤지엄New Museum의 디지털 아트 기관 라이좀Rhizome과 디지털 아트의 무한한 가능성을 실험하고 전시를 선보이기 위한 2년간의 전략적 파트너십을 체결했다고 20일(수) 밝혔다.현대자동차는 이번 파트너십을 통해 진행되는 첫 번째 공동 기획 전시인 &amp;l</p>\\n\\t\\t\\t\\t\\t\\t<div class=\"source_box\">\\n\\t\\t\\t\\t\\t\\t\\t<span class=\"date\">6일 전</span>\\n\\t\\t\\t\\t\\t\\t\\t<span class=\"source\"><span class=\"source_inner\">디자인프레스</span></span>\\n\\t\\t\\t\\t\\t\\t</div>\\n\\t\\t\\t\\t\\t</a>\\n\\t\\t\\t\\t</li>\\n\\t\\t\\t\\n\\t\\t\\t\\t<li class=\"theme_item\" data-gdid=\"CAS_e6f026dd-5c71-11eb-b5d2-59eb9866a3e1\" data-da-position=\"true\">\\n\\t\\t\\t\\t\\t<a href=\"https://blog.naver.com/clwmrjf/222129560482\" class=\"theme_thumb\" data-clk=\"tcc_des.list5cont3\" target=\"_blank\">\\n\\t\\t\\t\\t\\t\\t<img  data-src=\"https://s.pstatic.net/dthumb.phinf/?src&#x3D;%22https%3A%2F%2Fs.pstatic.net%2Fstatic%2Fwww%2Fmobile%2Fedit%2F2021%2F0122%2Fupload_1611294475181BNxNr.jpg%22&amp;type&#x3D;nf340_228\" alt=\"세계 명품 브랜드 디자이너 6인의 SNS 엿보기\" width=\"170\" height=\"114\">\\n\\t\\t\\t\\t\\t\\t<span class=\"thumb_bd\"></span>\\n\\t\\t\\t\\t\\t</a>\\n\\t\\t\\t\\t\\t<a href=\"https://blog.naver.com/clwmrjf/222129560482\" class=\"theme_info\" data-clk=\"tcc_des.list5cont3\" target=\"_blank\">\\n\\t\\t\\t\\t\\t\\t<em class=\"theme_category\"> 디자인</em>\\n\\t\\t\\t\\t\\t\\t<strong class=\"title elss\">세계 명품 브랜드 디자이너 6인의 SNS 엿보기</strong>\\n\\t\\t\\t\\t\\t\\t<p class=\"desc\">최근 패션 트렌드에 대한 포스팅을 올립니다. 전보다 더 많은 분들이 관련 글에 관심을 가져주셔서 즐거운 요즘입니다.요즘 흥미로운 점 중 하나는, 연관 검색어로 디자이너들의 인스타그램 주소를 검색하는 분들이 많았다는 사실입니다.\\u200b브랜드의 SNS는 브랜드의 이미지와 스타일을 강조하기 위한 하나의 마케팅 수단이라면, 크리에이티브 디렉터와 패션 디자이너들에게인스.</p>\\n\\t\\t\\t\\t\\t\\t<div class=\"source_box\">\\n\\t\\t\\t\\t\\t\\t\\t<span class=\"date\">2개월 전</span>\\n\\t\\t\\t\\t\\t\\t\\t<span class=\"source\"><span class=\"source_inner\">임대리님</span></span>\\n\\t\\t\\t\\t\\t\\t</div>\\n\\t\\t\\t\\t\\t</a>\\n\\t\\t\\t\\t</li>\\n\\t\\t\\t\\n\\t\\t\\t\\t<li class=\"theme_item\" data-gdid=\"CAS_7dbd6d4b-5c4f-11eb-aa1c-733d3b400145\" data-da-position=\"true\">\\n\\t\\t\\t\\t\\t<a href=\"https://blog.naver.com/designpress2016/222211403391\" class=\"theme_thumb\" data-clk=\"tcc_des.list5cont4\" target=\"_blank\">\\n\\t\\t\\t\\t\\t\\t<img  data-src=\"https://s.pstatic.net/dthumb.phinf/?src&#x3D;%22https%3A%2F%2Fs.pstatic.net%2Fstatic%2Fwww%2Fmobile%2Fedit%2F2021%2F0122%2Fupload_1611279010625i0A4J.jpg%22&amp;type&#x3D;nf340_228\" alt=\"색감부터 예술인 OO자전거의 정체는?\" width=\"170\" height=\"114\">\\n\\t\\t\\t\\t\\t\\t<span class=\"thumb_bd\"></span>\\n\\t\\t\\t\\t\\t</a>\\n\\t\\t\\t\\t\\t<a href=\"https://blog.naver.com/designpress2016/222211403391\" class=\"theme_info\" data-clk=\"tcc_des.list5cont4\" target=\"_blank\">\\n\\t\\t\\t\\t\\t\\t<em class=\"theme_category\"> 디자인</em>\\n\\t\\t\\t\\t\\t\\t<strong class=\"title elss\">색감부터 예술인 OO자전거의 정체는?</strong>\\n\\t\\t\\t\\t\\t\\t<p class=\"desc\">\\u200b네덜란드의 &#x27;스튜디오 몸&#x27;이 디자인한 &#x27;라보 바이크&#x27;한국은 물론 전 세계적으로 &#x27;탄소 중립&#x27;이 화두가 되고 있다. 탄소 배출을 최소화하겠다는 비전 속에서 가장 각광받고 있는 에너지원 중 하나는 수소 에너지. 수소 형태로 에너지를 저장하고 사용하는 에너지원인 수소에너지는 석유와 석탄을 대체할 수 있는 미래의 청정에너지 원 중 하나로 ...</p>\\n\\t\\t\\t\\t\\t\\t<div class=\"source_box\">\\n\\t\\t\\t\\t\\t\\t\\t<span class=\"date\">1주일 전</span>\\n\\t\\t\\t\\t\\t\\t\\t<span class=\"source\"><span class=\"source_inner\">디자인프레스</span></span>\\n\\t\\t\\t\\t\\t\\t</div>\\n\\t\\t\\t\\t\\t</a>\\n\\t\\t\\t\\t</li>\\n\\t\\t\\t\\n\\t\\t\\t\\t<li class=\"theme_item\" data-gdid=\"CAS_95f372d8-5c79-11eb-9e69-0f1dc5db9584\" data-da-position=\"true\">\\n\\t\\t\\t\\t\\t<a href=\"https://blog.naver.com/designpress2016/222213107805\" class=\"theme_thumb\" data-clk=\"tcc_des.list5cont5\" target=\"_blank\">\\n\\t\\t\\t\\t\\t\\t<img  data-src=\"https://s.pstatic.net/dthumb.phinf/?src&#x3D;%22https%3A%2F%2Fs.pstatic.net%2Fstatic%2Fwww%2Fmobile%2Fedit%2F2021%2F0122%2Fupload_1611295787184lpuVg.jpg%22&amp;type&#x3D;nf340_228\" alt=\"250만 팔로워 떠난 명품 브랜드, SNS에 지쳤나\" width=\"170\" height=\"114\">\\n\\t\\t\\t\\t\\t\\t<span class=\"thumb_bd\"></span>\\n\\t\\t\\t\\t\\t</a>\\n\\t\\t\\t\\t\\t<a href=\"https://blog.naver.com/designpress2016/222213107805\" class=\"theme_info\" data-clk=\"tcc_des.list5cont5\" target=\"_blank\">\\n\\t\\t\\t\\t\\t\\t<em class=\"theme_category\"> 디자인</em>\\n\\t\\t\\t\\t\\t\\t<strong class=\"title elss\">250만 팔로워 떠난 명품 브랜드, SNS에 지쳤나</strong>\\n\\t\\t\\t\\t\\t\\t<p class=\"desc\">이탈리아 명품 브랜드, SNS에 지쳤나2020년, 급작스럽게 찾아온 코로나19는 전 세계를 강타했다. 패션 분야도 혼란에 빠졌다. 내수경제가 위축되었고, 많은 사람들이 모이는 백화점과 복합쇼핑몰을 찾는 발길은 뚝 끊겼다. 패션위크는 취소됐고, 화보 촬영과 공항 패션 모두 사라졌다. 텅 빈 도심을 마주한 패션업계가 돌파구로 선택한 건 디지털 미디어였다. 온라</p>\\n\\t\\t\\t\\t\\t\\t<div class=\"source_box\">\\n\\t\\t\\t\\t\\t\\t\\t<span class=\"date\">6일 전</span>\\n\\t\\t\\t\\t\\t\\t\\t<span class=\"source\"><span class=\"source_inner\">디자인프레스</span></span>\\n\\t\\t\\t\\t\\t\\t</div>\\n\\t\\t\\t\\t\\t</a>\\n\\t\\t\\t\\t</li>\\n\\t\\t\\t\\n\\t\\t</ul>\\n\\t</div>\\n</div>\\n<div class=\"group_theme\" data-block-id=\"\" data-block-code=\"PC-THEME-DESIGN-MOBILE-RANKING-DEFAULT-5\" data-block-type=\"MATERIALS\" data-template-code=\"MOBILE-RANKING-LIST\"\\n\\n\\t data-da=\"container\"\\n\\t data-index=\"\"\\n     data-page=\"3\"\\n\\t style=\"display:none\">\\n\\n\\t<div class=\"list_theme_wrap\">\\n\\t\\t<ul class=\"list_theme\">\\n\\t\\t\\t\\n\\t\\t\\t\\t<li class=\"theme_item\" data-gdid=\"CAS_95f372d7-5c79-11eb-9e69-277c75446f37\" data-da-position=\"true\">\\n\\t\\t\\t\\t\\t<a href=\"https://blog.naver.com/designpress2016/222208085871\" class=\"theme_thumb\" data-clk=\"tcc_des.list6cont1\" target=\"_blank\">\\n\\t\\t\\t\\t\\t\\t<img  data-src=\"https://s.pstatic.net/dthumb.phinf/?src&#x3D;%22https%3A%2F%2Fs.pstatic.net%2Fstatic%2Fwww%2Fmobile%2Fedit%2F2021%2F0122%2Fupload_1611295742890zqrDM.jpg%22&amp;type&#x3D;nf340_228\" alt=\"3시간이면 집 한 채 뚝딱! 접었다 펼 수 있는 폴더 주택\" width=\"170\" height=\"114\">\\n\\t\\t\\t\\t\\t\\t<span class=\"thumb_bd\"></span>\\n\\t\\t\\t\\t\\t</a>\\n\\t\\t\\t\\t\\t<a href=\"https://blog.naver.com/designpress2016/222208085871\" class=\"theme_info\" data-clk=\"tcc_des.list6cont1\" target=\"_blank\">\\n\\t\\t\\t\\t\\t\\t<em class=\"theme_category\"> 디자인</em>\\n\\t\\t\\t\\t\\t\\t<strong class=\"title elss\">3시간이면 집 한 채 뚝딱! 접었다 펼 수 있는 폴더 주택</strong>\\n\\t\\t\\t\\t\\t\\t<p class=\"desc\">\\u200b3시간이면 집 한 채가 뚝딱!폴더폰처럼 접었다 펼 수 있는 집이 등장했다. 트럭으로 운반 가능한 이 집은 크레인의 도움을 받아 3시간 만에 10평짜리 이층 주택을 완성할 수 있다. \\u200b라트비아에서 탄생한 폴더형 주택 ‘브레트 하우스Brette Haus’는 레고처럼 조립해서 짓는 모듈러주택이다. 일반적인 모듈러주택은 공장에서 70~80% 완성한 집의 각 부분</p>\\n\\t\\t\\t\\t\\t\\t<div class=\"source_box\">\\n\\t\\t\\t\\t\\t\\t\\t<span class=\"date\">1주일 전</span>\\n\\t\\t\\t\\t\\t\\t\\t<span class=\"source\"><span class=\"source_inner\">디자인프레스</span></span>\\n\\t\\t\\t\\t\\t\\t</div>\\n\\t\\t\\t\\t\\t</a>\\n\\t\\t\\t\\t</li>\\n\\t\\t\\t\\n\\t\\t\\t\\t<li class=\"theme_item\" data-gdid=\"CAS_7dbd6d4a-5c4f-11eb-aa1c-055484dfb43d\" data-da-position=\"true\">\\n\\t\\t\\t\\t\\t<a href=\"https://blog.naver.com/designpress2016/222212349483\" class=\"theme_thumb\" data-clk=\"tcc_des.list6cont2\" target=\"_blank\">\\n\\t\\t\\t\\t\\t\\t<img  data-src=\"https://s.pstatic.net/dthumb.phinf/?src&#x3D;%22https%3A%2F%2Fs.pstatic.net%2Fstatic%2Fwww%2Fmobile%2Fedit%2F2021%2F0122%2Fupload_1611278805324KkaJK.jpg%22&amp;type&#x3D;nf340_228\" alt=\"&#x27;스트레스 풀려!&#x27; 기분까지 조절해 주는 이것\" width=\"170\" height=\"114\">\\n\\t\\t\\t\\t\\t\\t<span class=\"thumb_bd\"></span>\\n\\t\\t\\t\\t\\t</a>\\n\\t\\t\\t\\t\\t<a href=\"https://blog.naver.com/designpress2016/222212349483\" class=\"theme_info\" data-clk=\"tcc_des.list6cont2\" target=\"_blank\">\\n\\t\\t\\t\\t\\t\\t<em class=\"theme_category\"> 디자인</em>\\n\\t\\t\\t\\t\\t\\t<strong class=\"title elss\">\\'스트레스 풀려!\\' 기분까지 조절해 주는 이것</strong>\\n\\t\\t\\t\\t\\t\\t<p class=\"desc\">\\u200b쓰기만 해도 기분이 좋아진다? &#x27;네코미미 헤드셋&#x27;, 방송 런닝맨에서 화제를 모으며 유행이 된 뇌파 감지 기기다. 사용자의 감정 상태에 따라 양 귀가 움직이는 이 헤드셋은 겉보기엔 귀여워 보여도 엄연히 뇌파를 분석하는 웨어러블 기기다. 상업용 브레인 웨어러블 기기의 역사는 2009년으로 거슬러 올라간다. 기업 &#x27;뉴로 스카이NeuroSky&#x27;가 게임 컨트...</p>\\n\\t\\t\\t\\t\\t\\t<div class=\"source_box\">\\n\\t\\t\\t\\t\\t\\t\\t<span class=\"date\">6일 전</span>\\n\\t\\t\\t\\t\\t\\t\\t<span class=\"source\"><span class=\"source_inner\">디자인프레스</span></span>\\n\\t\\t\\t\\t\\t\\t</div>\\n\\t\\t\\t\\t\\t</a>\\n\\t\\t\\t\\t</li>\\n\\t\\t\\t\\n\\t\\t\\t\\t<li class=\"theme_item\" data-gdid=\"CAS_39d5d086-5bc9-11eb-955d-9358fed56d95\" data-da-position=\"true\">\\n\\t\\t\\t\\t\\t<a href=\"https://post.naver.com/viewer/postView.nhn?volumeNo&#x3D;30179862\" class=\"theme_thumb\" data-clk=\"tcc_des.list6cont3\" target=\"_blank\">\\n\\t\\t\\t\\t\\t\\t<img  data-src=\"https://s.pstatic.net/dthumb.phinf/?src&#x3D;%22https%3A%2F%2Fs.pstatic.net%2Fstatic%2Fwww%2Fmobile%2Fedit%2F2021%2F0121%2Fupload_1611220534161CJjVz.jpg%22&amp;type&#x3D;nf340_228\" alt=\"&#x27;미키마우스 법&#x27;이 등장한 이유\" width=\"170\" height=\"114\">\\n\\t\\t\\t\\t\\t\\t<span class=\"thumb_bd\"></span>\\n\\t\\t\\t\\t\\t</a>\\n\\t\\t\\t\\t\\t<a href=\"https://post.naver.com/viewer/postView.nhn?volumeNo&#x3D;30179862\" class=\"theme_info\" data-clk=\"tcc_des.list6cont3\" target=\"_blank\">\\n\\t\\t\\t\\t\\t\\t<em class=\"theme_category\"> 디자인</em>\\n\\t\\t\\t\\t\\t\\t<strong class=\"title elss\">\\'미키마우스 법\\'이 등장한 이유</strong>\\n\\t\\t\\t\\t\\t\\t<p class=\"desc\">법알못 디자이너를 위한 “법과 예술이 만나면 서로 피하는 것이 최선이다(When law and art chance a meeting, they should do their best to avoid each other)”라는 말이 있다. 규제하는 법률과 파괴하는 예술은 서로 상극인 측면이 있고, 법은 최대한 미술을 멀리하려</p>\\n\\t\\t\\t\\t\\t\\t<div class=\"source_box\">\\n\\t\\t\\t\\t\\t\\t\\t<span class=\"date\">1개월 전</span>\\n\\t\\t\\t\\t\\t\\t\\t<span class=\"source\"><span class=\"source_inner\">디자인프레스</span></span>\\n\\t\\t\\t\\t\\t\\t</div>\\n\\t\\t\\t\\t\\t</a>\\n\\t\\t\\t\\t</li>\\n\\t\\t\\t\\n\\t\\t\\t\\t<li class=\"theme_item\" data-gdid=\"CAS_601d0733-5c7b-11eb-a4c0-31cc6788826b\" data-da-position=\"true\">\\n\\t\\t\\t\\t\\t<a href=\"https://post.naver.com/viewer/postView.nhn?volumeNo&#x3D;30506991\" class=\"theme_thumb\" data-clk=\"tcc_des.list6cont4\" target=\"_blank\">\\n\\t\\t\\t\\t\\t\\t<img  data-src=\"https://s.pstatic.net/dthumb.phinf/?src&#x3D;%22https%3A%2F%2Fs.pstatic.net%2Fstatic%2Fwww%2Fmobile%2Fedit%2F2021%2F0122%2Fupload_1611297638459nr3XG.jpg%22&amp;type&#x3D;nf340_228\" alt=\"에어비앤비, 온라인 축제 &#x27;인사이드 케이팝&#x27; 론칭\" width=\"170\" height=\"114\">\\n\\t\\t\\t\\t\\t\\t<span class=\"thumb_bd\"></span>\\n\\t\\t\\t\\t\\t</a>\\n\\t\\t\\t\\t\\t<a href=\"https://post.naver.com/viewer/postView.nhn?volumeNo&#x3D;30506991\" class=\"theme_info\" data-clk=\"tcc_des.list6cont4\" target=\"_blank\">\\n\\t\\t\\t\\t\\t\\t<em class=\"theme_category\"> 디자인</em>\\n\\t\\t\\t\\t\\t\\t<strong class=\"title elss\">에어비앤비, 온라인 축제 \\'인사이드 케이팝\\' 론칭</strong>\\n\\t\\t\\t\\t\\t\\t<p class=\"desc\">케이팝 아티스트, 안무가, 헤어·메이크업 디자이너들이 펼치는 페스티벌에어비앤비가 &#x27;온라인 체험&#x27;이라는 전례 없는 형식으로 케이팝의 무대 뒤 이야기를 전하며 한국 팝 음악 산업의 매력을 집중적으로 조명한다. 워너뮤직코리아와 파트너십을 맺어 진행하는 에어비앤비의 &#x27;인사이드 케이팝&#x27;에서는 아이돌 그룹 &#x27;몬스타엑스&#x27; 등이 나서 전 세계를 사로잡은 케이</p>\\n\\t\\t\\t\\t\\t\\t<div class=\"source_box\">\\n\\t\\t\\t\\t\\t\\t\\t<span class=\"date\">1주일 전</span>\\n\\t\\t\\t\\t\\t\\t\\t<span class=\"source\"><span class=\"source_inner\">디자인프레스</span></span>\\n\\t\\t\\t\\t\\t\\t</div>\\n\\t\\t\\t\\t\\t</a>\\n\\t\\t\\t\\t</li>\\n\\t\\t\\t\\n\\t\\t\\t\\t<li class=\"theme_item\" data-gdid=\"CAS_39d5d084-5bc9-11eb-955d-2fa83f8d0201\" data-da-position=\"true\">\\n\\t\\t\\t\\t\\t<a href=\"https://blog.naver.com/designpress2016/222182652652\" class=\"theme_thumb\" data-clk=\"tcc_des.list6cont5\" target=\"_blank\">\\n\\t\\t\\t\\t\\t\\t<img  data-src=\"https://s.pstatic.net/dthumb.phinf/?src&#x3D;%22https%3A%2F%2Fs.pstatic.net%2Fstatic%2Fwww%2Fmobile%2Fedit%2F2021%2F0121%2Fupload_1611220492725Mx7Cs.jpg%22&amp;type&#x3D;nf340_228\" alt=\"구글이 선사하는 &#x27;나만의 캐롤&#x27;\" width=\"170\" height=\"114\">\\n\\t\\t\\t\\t\\t\\t<span class=\"thumb_bd\"></span>\\n\\t\\t\\t\\t\\t</a>\\n\\t\\t\\t\\t\\t<a href=\"https://blog.naver.com/designpress2016/222182652652\" class=\"theme_info\" data-clk=\"tcc_des.list6cont5\" target=\"_blank\">\\n\\t\\t\\t\\t\\t\\t<em class=\"theme_category\"> 디자인</em>\\n\\t\\t\\t\\t\\t\\t<strong class=\"title elss\">구글이 선사하는 \\'나만의 캐롤\\'</strong>\\n\\t\\t\\t\\t\\t\\t<p class=\"desc\">\\u200b구글이 선사하는 언택트 시대의 크리스마스 선물코로나로 인해 크리스마스가 다가오는데도 딱히 설레지 않는 연말이다. 심지어 친구, 가족끼리 모여서 크리스마스 파티도 할 수 없는 상황이다 보니 난관을 극복할 특별한 크리스마스 이벤트를 찾는 사람들이 많아졌다. 아직 크리스마스 계획을 세우지 못한 사람들을 위해 익살스럽고 유쾌한 크리스마스 이벤트를 하나 소개한다.</p>\\n\\t\\t\\t\\t\\t\\t<div class=\"source_box\">\\n\\t\\t\\t\\t\\t\\t\\t<span class=\"date\">1개월 전</span>\\n\\t\\t\\t\\t\\t\\t\\t<span class=\"source\"><span class=\"source_inner\">디자인프레스</span></span>\\n\\t\\t\\t\\t\\t\\t</div>\\n\\t\\t\\t\\t\\t</a>\\n\\t\\t\\t\\t</li>\\n\\t\\t\\t\\n\\t\\t</ul>\\n\\t</div>\\n</div>\\n<div class=\"group_theme\" data-block-id=\"\" data-block-code=\"PC-THEME-DESIGN-MOBILE-RANKING-DEFAULT-6\" data-block-type=\"MATERIALS\" data-template-code=\"MOBILE-RANKING-LIST\"\\n\\n\\t data-da=\"container\"\\n\\t data-index=\"\"\\n     data-page=\"4\"\\n\\t style=\"display:none\">\\n\\n\\t<div class=\"list_theme_wrap\">\\n\\t\\t<ul class=\"list_theme\">\\n\\t\\t\\t\\n\\t\\t\\t\\t<li class=\"theme_item\" data-gdid=\"CAS_0a69f43d-5beb-11eb-aa1c-9d86deba9c2c\" data-da-position=\"true\">\\n\\t\\t\\t\\t\\t<a href=\"https://blog.naver.com/designpress2016/222212489459\" class=\"theme_thumb\" data-clk=\"tcc_des.list7cont1\" target=\"_blank\">\\n\\t\\t\\t\\t\\t\\t<img  data-src=\"https://s.pstatic.net/dthumb.phinf/?src&#x3D;%22https%3A%2F%2Fs.pstatic.net%2Fstatic%2Fwww%2Fmobile%2Fedit%2F2021%2F0121%2Fupload_16112355793685WsRQ.jpg%22&amp;type&#x3D;nf340_228\" alt=\"&quot;똑같네&quot; 한국 작가 카피한 프랑스 패션 디자이너\" width=\"170\" height=\"114\">\\n\\t\\t\\t\\t\\t\\t<span class=\"thumb_bd\"></span>\\n\\t\\t\\t\\t\\t</a>\\n\\t\\t\\t\\t\\t<a href=\"https://blog.naver.com/designpress2016/222212489459\" class=\"theme_info\" data-clk=\"tcc_des.list7cont1\" target=\"_blank\">\\n\\t\\t\\t\\t\\t\\t<em class=\"theme_category\"> 디자인</em>\\n\\t\\t\\t\\t\\t\\t<strong class=\"title elss\">\"똑같네\" 한국 작가 카피한 프랑스 패션 디자이너</strong>\\n\\t\\t\\t\\t\\t\\t<p class=\"desc\">베를린 로크하르트 형제의 데스크가 파리에? 지난주 프랑스 패션 디자이너 자크뮈스Jacquemus는 새로운 사무실 내부를 인스타그램에 공개했다. 프랑스 보그에 독점으로 싣기로 한 인테리어 사진들은프랑스 AD의 에디터가 촬영 스타일링을 담당한 것으로 알려졌다. 사진이 공개되자마다 멋지다는 수백 개의 덧글이 달리던 중 디자인 전문가들의 눈에는 어떤 불편한 사실이</p>\\n\\t\\t\\t\\t\\t\\t<div class=\"source_box\">\\n\\t\\t\\t\\t\\t\\t\\t<span class=\"date\">6일 전</span>\\n\\t\\t\\t\\t\\t\\t\\t<span class=\"source\"><span class=\"source_inner\">디자인프레스</span></span>\\n\\t\\t\\t\\t\\t\\t</div>\\n\\t\\t\\t\\t\\t</a>\\n\\t\\t\\t\\t</li>\\n\\t\\t\\t\\n\\t\\t\\t\\t<li class=\"theme_item\" data-gdid=\"CAS_0a69f43c-5beb-11eb-aa1c-e7fd7638b155\" data-da-position=\"true\">\\n\\t\\t\\t\\t\\t<a href=\"https://blog.naver.com/designpress2016/222208276411\" class=\"theme_thumb\" data-clk=\"tcc_des.list7cont2\" target=\"_blank\">\\n\\t\\t\\t\\t\\t\\t<img  data-src=\"https://s.pstatic.net/dthumb.phinf/?src&#x3D;%22https%3A%2F%2Fs.pstatic.net%2Fstatic%2Fwww%2Fmobile%2Fedit%2F2021%2F0121%2Fupload_16112354816237q82D.jpg%22&amp;type&#x3D;nf340_228\" alt=\"이 카드 자꾸 ‘선 넘네?’ 디자인 공식 깬 &#x27;젤리 곰돌이&#x27;\" width=\"170\" height=\"114\">\\n\\t\\t\\t\\t\\t\\t<span class=\"thumb_bd\"></span>\\n\\t\\t\\t\\t\\t</a>\\n\\t\\t\\t\\t\\t<a href=\"https://blog.naver.com/designpress2016/222208276411\" class=\"theme_info\" data-clk=\"tcc_des.list7cont2\" target=\"_blank\">\\n\\t\\t\\t\\t\\t\\t<em class=\"theme_category\"> 디자인</em>\\n\\t\\t\\t\\t\\t\\t<strong class=\"title elss\">이 카드 자꾸 ‘선 넘네?’ 디자인 공식 깬 \\'젤리 곰돌이\\'</strong>\\n\\t\\t\\t\\t\\t\\t<p class=\"desc\">\\u200b여기서 하나쯤은 내 스타일? 미니멀 디자인 벗어던진 12종의 현대카드‘MX BOOST’\\u200b\\u200b최근 출시된 현대카드의 새로운 카드, ‘MX BOOST’의 등장은 화려했다. 귀여운 젤리 곰부터 상품 포장재인 ‘뽁뽁이’까지 각양각색의 카드 플레이트 12종이 눈길을 끌었다. 현대카드가 기존 대표 오리지널 상품이었던 현대카드 M과 현대카드 X의 혜택을 강화하면서 카드</p>\\n\\t\\t\\t\\t\\t\\t<div class=\"source_box\">\\n\\t\\t\\t\\t\\t\\t\\t<span class=\"date\">1주일 전</span>\\n\\t\\t\\t\\t\\t\\t\\t<span class=\"source\"><span class=\"source_inner\">디자인프레스</span></span>\\n\\t\\t\\t\\t\\t\\t</div>\\n\\t\\t\\t\\t\\t</a>\\n\\t\\t\\t\\t</li>\\n\\t\\t\\t\\n\\t\\t\\t\\t<li class=\"theme_item\" data-gdid=\"CAS_0a69f43e-5beb-11eb-aa1c-17aa58e8d5cf\" data-da-position=\"true\">\\n\\t\\t\\t\\t\\t<a href=\"https://post.naver.com/viewer/postView.nhn?volumeNo&#x3D;30484571\" class=\"theme_thumb\" data-clk=\"tcc_des.list7cont3\" target=\"_blank\">\\n\\t\\t\\t\\t\\t\\t<img  data-src=\"https://s.pstatic.net/dthumb.phinf/?src&#x3D;%22https%3A%2F%2Fs.pstatic.net%2Fstatic%2Fwww%2Fmobile%2Fedit%2F2021%2F0121%2Fupload_1611235429186bFuMQ.jpg%22&amp;type&#x3D;nf340_228\" alt=\"패션 전문가들의 2021 패션 트렌드 예측\" width=\"170\" height=\"114\">\\n\\t\\t\\t\\t\\t\\t<span class=\"thumb_bd\"></span>\\n\\t\\t\\t\\t\\t</a>\\n\\t\\t\\t\\t\\t<a href=\"https://post.naver.com/viewer/postView.nhn?volumeNo&#x3D;30484571\" class=\"theme_info\" data-clk=\"tcc_des.list7cont3\" target=\"_blank\">\\n\\t\\t\\t\\t\\t\\t<em class=\"theme_category\"> 디자인</em>\\n\\t\\t\\t\\t\\t\\t<strong class=\"title elss\">패션 전문가들의 2021 패션 트렌드 예측</strong>\\n\\t\\t\\t\\t\\t\\t<p class=\"desc\">패션업계 종사자 10명에게 물었습니다. “2021년 알아두면 손해 보지 않을 패션 트렌드는 무엇인가요?” 디지털 패션 월드코로나19로 인해 디지털 현실을 급속도로 마주하게 됐습니다. &#x27;우리의 미래는 SF일까&#x27;라는 의문이 생겼을 때 발렌시아가가 새 컬렉션을 게임 속 가상공간의 아바타를 통해 공개했습니다. 요즘 뉴욕에서 잘나가는 브랜드 카</p>\\n\\t\\t\\t\\t\\t\\t<div class=\"source_box\">\\n\\t\\t\\t\\t\\t\\t\\t<span class=\"date\">1주일 전</span>\\n\\t\\t\\t\\t\\t\\t\\t<span class=\"source\"><span class=\"source_inner\">우먼센스 womansense</span></span>\\n\\t\\t\\t\\t\\t\\t</div>\\n\\t\\t\\t\\t\\t</a>\\n\\t\\t\\t\\t</li>\\n\\t\\t\\t\\n\\t\\t\\t\\t<li class=\"theme_item\" data-gdid=\"CAS_0a69f440-5beb-11eb-aa1c-57e89c195a75\" data-da-position=\"true\">\\n\\t\\t\\t\\t\\t<a href=\"https://post.naver.com/viewer/postView.nhn?volumeNo&#x3D;30509428\" class=\"theme_thumb\" data-clk=\"tcc_des.list7cont4\" target=\"_blank\">\\n\\t\\t\\t\\t\\t\\t<img  data-src=\"https://s.pstatic.net/dthumb.phinf/?src&#x3D;%22https%3A%2F%2Fs.pstatic.net%2Fstatic%2Fwww%2Fmobile%2Fedit%2F2021%2F0121%2Fupload_1611235689103UG8Ub.jpg%22&amp;type&#x3D;nf340_228\" alt=\"세계가 인정! 기아차의 ‘미국’스러운 디자인\" width=\"170\" height=\"114\">\\n\\t\\t\\t\\t\\t\\t<span class=\"thumb_bd\"></span>\\n\\t\\t\\t\\t\\t</a>\\n\\t\\t\\t\\t\\t<a href=\"https://post.naver.com/viewer/postView.nhn?volumeNo&#x3D;30509428\" class=\"theme_info\" data-clk=\"tcc_des.list7cont4\" target=\"_blank\">\\n\\t\\t\\t\\t\\t\\t<em class=\"theme_category\"> 디자인</em>\\n\\t\\t\\t\\t\\t\\t<strong class=\"title elss\">세계가 인정! 기아차의 ‘미국’스러운 디자인</strong>\\n\\t\\t\\t\\t\\t\\t<p class=\"desc\">기아 텔루라이드는 북미지역에서만 판매되고 있는 기아의 북미 전략 모델이다. 우리나라에선 볼 수도 없는 이 차가 종종 화제가 되는 이유는 북미 지역에서 큰 호평을 받고 있기 때문이다.  특히 북미 지역에선 높은 전문성과 공신력으로, 자동차 리뷰의 바이블이라 불리는 ‘카 앤 드라이버’(Car and Driver), 그리고 ‘모터트렌드’(Motortrend)에서</p>\\n\\t\\t\\t\\t\\t\\t<div class=\"source_box\">\\n\\t\\t\\t\\t\\t\\t\\t<span class=\"date\">1주일 전</span>\\n\\t\\t\\t\\t\\t\\t\\t<span class=\"source\"><span class=\"source_inner\">다키포스트</span></span>\\n\\t\\t\\t\\t\\t\\t</div>\\n\\t\\t\\t\\t\\t</a>\\n\\t\\t\\t\\t</li>\\n\\t\\t\\t\\n\\t\\t\\t\\t<li class=\"theme_item\" data-gdid=\"CAS_0a69f43f-5beb-11eb-aa1c-f9c89b6ab8bc\" data-da-position=\"true\">\\n\\t\\t\\t\\t\\t<a href=\"https://blog.naver.com/designpress2016/222207145790\" class=\"theme_thumb\" data-clk=\"tcc_des.list7cont5\" target=\"_blank\">\\n\\t\\t\\t\\t\\t\\t<img  data-src=\"https://s.pstatic.net/dthumb.phinf/?src&#x3D;%22https%3A%2F%2Fs.pstatic.net%2Fstatic%2Fwww%2Fmobile%2Fedit%2F2021%2F0121%2Fupload_1611235628713CLpa8.jpg%22&amp;type&#x3D;nf340_228\" alt=\"백예린, BTS를 카메라에 담은 &#x27;무궁화 소녀&#x27;의 정체\" width=\"170\" height=\"114\">\\n\\t\\t\\t\\t\\t\\t<span class=\"thumb_bd\"></span>\\n\\t\\t\\t\\t\\t</a>\\n\\t\\t\\t\\t\\t<a href=\"https://blog.naver.com/designpress2016/222207145790\" class=\"theme_info\" data-clk=\"tcc_des.list7cont5\" target=\"_blank\">\\n\\t\\t\\t\\t\\t\\t<em class=\"theme_category\"> 디자인</em>\\n\\t\\t\\t\\t\\t\\t<strong class=\"title elss\">백예린, BTS를 카메라에 담은 \\'무궁화 소녀\\'의 정체</strong>\\n\\t\\t\\t\\t\\t\\t<p class=\"desc\">\\u200b자신만의 색깔로 그려내는 몽환적인 순간들얼마 전 가수 백예린의 앨범 &lt;Tellusaboutyourself&gt; 사진이 공개되었을 때 &#x27;그분이랑 다시 작업했구나&#x27;라는 댓글이 여럿 달렸다. 필자 역시 익숙한 색채에 &#x27;이 작가&#x27;가 찍었을 거라 짐작했다. 그러니까, 여기서 말하는 &#x27;무궁화소녀&#x27;는 자신만의 분명한 색깔을 가진 작가라는 의미다. 그것이 아...</p>\\n\\t\\t\\t\\t\\t\\t<div class=\"source_box\">\\n\\t\\t\\t\\t\\t\\t\\t<span class=\"date\">1주일 전</span>\\n\\t\\t\\t\\t\\t\\t\\t<span class=\"source\"><span class=\"source_inner\">디자인프레스</span></span>\\n\\t\\t\\t\\t\\t\\t</div>\\n\\t\\t\\t\\t\\t</a>\\n\\t\\t\\t\\t</li>\\n\\t\\t\\t\\n\\t\\t</ul>\\n\\t</div>\\n</div>\\n<div class=\"group_theme\" data-block-id=\"\" data-block-code=\"PC-THEME-DESIGN-MOBILE-RANKING-DEFAULT-7\" data-block-type=\"MATERIALS\" data-template-code=\"MOBILE-RANKING-LIST\"\\n\\n\\t data-da=\"container\"\\n\\t data-index=\"\"\\n     data-page=\"4\"\\n\\t style=\"display:none\">\\n\\n\\t<div class=\"list_theme_wrap\">\\n\\t\\t<ul class=\"list_theme\">\\n\\t\\t\\t\\n\\t\\t\\t\\t<li class=\"theme_item\" data-gdid=\"CAS_914836e9-5c50-11eb-93ab-092e558b5dc0\" data-da-position=\"true\">\\n\\t\\t\\t\\t\\t<a href=\"https://blog.naver.com/designpress2016/222212979753\" class=\"theme_thumb\" data-clk=\"tcc_des.list8cont1\" target=\"_blank\">\\n\\t\\t\\t\\t\\t\\t<img  data-src=\"https://s.pstatic.net/dthumb.phinf/?src&#x3D;%22https%3A%2F%2Fs.pstatic.net%2Fstatic%2Fwww%2Fmobile%2Fedit%2F2021%2F0124%2Fupload_1611453267667Yegk3.jpg%22&amp;type&#x3D;nf340_228\" alt=\"세계가 놀란 K-음압병동 비하인드 스토리\" width=\"170\" height=\"114\">\\n\\t\\t\\t\\t\\t\\t<span class=\"thumb_bd\"></span>\\n\\t\\t\\t\\t\\t</a>\\n\\t\\t\\t\\t\\t<a href=\"https://blog.naver.com/designpress2016/222212979753\" class=\"theme_info\" data-clk=\"tcc_des.list8cont1\" target=\"_blank\">\\n\\t\\t\\t\\t\\t\\t<em class=\"theme_category\"> 디자인</em>\\n\\t\\t\\t\\t\\t\\t<strong class=\"title elss\">세계가 놀란 K-음압병동 비하인드 스토리</strong>\\n\\t\\t\\t\\t\\t\\t<p class=\"desc\">독창적이며 효율적인디자이너의 K-음압병동*1편에서 이어집니다.\\u200b\\u200b\\u200b지난 12월 28일부터 서울 노원구 한국원자력의학원 앞에 설치된 거대한 흰색 튜브. 카이스트KAIST 코로나 대응 과학기술 뉴딜사업단 기술 개발사업의 일환으로 산업디자인학과 남택진 교수 연구팀이 개발한 이동형 음압병동(Mobile Clinic Module, MCM)이다. 136평의 면적에 중</p>\\n\\t\\t\\t\\t\\t\\t<div class=\"source_box\">\\n\\t\\t\\t\\t\\t\\t\\t<span class=\"date\">6일 전</span>\\n\\t\\t\\t\\t\\t\\t\\t<span class=\"source\"><span class=\"source_inner\">디자인프레스</span></span>\\n\\t\\t\\t\\t\\t\\t</div>\\n\\t\\t\\t\\t\\t</a>\\n\\t\\t\\t\\t</li>\\n\\t\\t\\t\\n\\t\\t\\t\\t<li class=\"theme_item\" data-gdid=\"CAS_dfa406f9-5c50-11eb-955d-2b1bbdf62bc2\" data-da-position=\"true\">\\n\\t\\t\\t\\t\\t<a href=\"https://post.naver.com/viewer/postView.nhn?volumeNo&#x3D;30500943\" class=\"theme_thumb\" data-clk=\"tcc_des.list8cont2\" target=\"_blank\">\\n\\t\\t\\t\\t\\t\\t<img  data-src=\"https://s.pstatic.net/dthumb.phinf/?src&#x3D;%22https%3A%2F%2Fs.pstatic.net%2Fstatic%2Fwww%2Fmobile%2Fedit%2F2021%2F0122%2Fupload_1611279862965OmVfS.jpg%22&amp;type&#x3D;nf340_228\" alt=\"19년 만에 돌아온 &#x27;이건희폰&#x27;의 등장?\" width=\"170\" height=\"114\">\\n\\t\\t\\t\\t\\t\\t<span class=\"thumb_bd\"></span>\\n\\t\\t\\t\\t\\t</a>\\n\\t\\t\\t\\t\\t<a href=\"https://post.naver.com/viewer/postView.nhn?volumeNo&#x3D;30500943\" class=\"theme_info\" data-clk=\"tcc_des.list8cont2\" target=\"_blank\">\\n\\t\\t\\t\\t\\t\\t<em class=\"theme_category\"> 디자인</em>\\n\\t\\t\\t\\t\\t\\t<strong class=\"title elss\">19년 만에 돌아온 \\'이건희폰\\'의 등장?</strong>\\n\\t\\t\\t\\t\\t\\t<p class=\"desc\">과거 삼성 애니콜 신화 열었던 이건희 폰 SGH-T100과 벤츠폰 SGH-E700 갤럭시 버즈 프로 커버 케이스로 돌아와 레트로 감성 자극 [갓잇코리아 / 조가영 기자] 지난 15일 삼성전자 홈페이지에서 &#x27;갤럭시 버즈 프로&#x27;를 출시 · 판매를 시작했는데 신제품인 버즈 프로 보다 더욱 관심을 끈 제품이 있다. 바로 &#x27;갤럭시 버즈 프로&#x27; 스페셜 커</p>\\n\\t\\t\\t\\t\\t\\t<div class=\"source_box\">\\n\\t\\t\\t\\t\\t\\t\\t<span class=\"date\">1주일 전</span>\\n\\t\\t\\t\\t\\t\\t\\t<span class=\"source\"><span class=\"source_inner\">갓잇코리아</span></span>\\n\\t\\t\\t\\t\\t\\t</div>\\n\\t\\t\\t\\t\\t</a>\\n\\t\\t\\t\\t</li>\\n\\t\\t\\t\\n\\t\\t\\t\\t<li class=\"theme_item\" data-gdid=\"CAS_dfa406f6-5c50-11eb-955d-83a8ee5cc0cc\" data-da-position=\"true\">\\n\\t\\t\\t\\t\\t<a href=\"https://blog.naver.com/designpress2016/222212492736\" class=\"theme_thumb\" data-clk=\"tcc_des.list8cont3\" target=\"_blank\">\\n\\t\\t\\t\\t\\t\\t<img  data-src=\"https://s.pstatic.net/dthumb.phinf/?src&#x3D;%22https%3A%2F%2Fs.pstatic.net%2Fstatic%2Fwww%2Fmobile%2Fedit%2F2021%2F0122%2Fupload_1611280046363NBVI2.jpg%22&amp;type&#x3D;nf340_228\" alt=\"&quot;매력적인 동네 슈퍼&quot; 마포에 있는 &#x27;슈퍼스티치&#x27;\" width=\"170\" height=\"114\">\\n\\t\\t\\t\\t\\t\\t<span class=\"thumb_bd\"></span>\\n\\t\\t\\t\\t\\t</a>\\n\\t\\t\\t\\t\\t<a href=\"https://blog.naver.com/designpress2016/222212492736\" class=\"theme_info\" data-clk=\"tcc_des.list8cont3\" target=\"_blank\">\\n\\t\\t\\t\\t\\t\\t<em class=\"theme_category\"> 디자인</em>\\n\\t\\t\\t\\t\\t\\t<strong class=\"title elss\">\"매력적인 동네 슈퍼\" 마포에 있는 \\'슈퍼스티치\\'</strong>\\n\\t\\t\\t\\t\\t\\t<p class=\"desc\">로컬스티치 이후의 행보는 &#x27;슈퍼&#x27; 코워킹·코리빙 브랜드 로컬스티치는 언제나 그랬다. 2013년 마을호텔을 표방한 로컬스티치 1호점 이후 지난 해 11호점인 약수점까지, 언제나 지역과 크리에이터를 위한 커뮤니티를 만들어왔다. 그리고 그들이 선택한 장소는 새로운 공간이 아니라 기존에 어떤 용도로든 사용되었던 공간의 재생을 통해 탄생했다. \\u200b\\u200b코리빙과 코워킹..</p>\\n\\t\\t\\t\\t\\t\\t<div class=\"source_box\">\\n\\t\\t\\t\\t\\t\\t\\t<span class=\"date\">6일 전</span>\\n\\t\\t\\t\\t\\t\\t\\t<span class=\"source\"><span class=\"source_inner\">디자인프레스</span></span>\\n\\t\\t\\t\\t\\t\\t</div>\\n\\t\\t\\t\\t\\t</a>\\n\\t\\t\\t\\t</li>\\n\\t\\t\\t\\n\\t\\t\\t\\t<li class=\"theme_item\" data-gdid=\"CAS_ba351f29-5c73-11eb-9e69-27d306512d6d\" data-da-position=\"true\">\\n\\t\\t\\t\\t\\t<a href=\"https://post.naver.com/viewer/postView.nhn?volumeNo&#x3D;30521171\" class=\"theme_thumb\" data-clk=\"tcc_des.list8cont4\" target=\"_blank\">\\n\\t\\t\\t\\t\\t\\t<img  data-src=\"https://s.pstatic.net/dthumb.phinf/?src&#x3D;%22https%3A%2F%2Fs.pstatic.net%2Fstatic%2Fwww%2Fmobile%2Fedit%2F2021%2F0122%2Fupload_1611293351771keqUM.jpg%22&amp;type&#x3D;nf340_228\" alt=\"세 식구의 햇살 맛집! 디자이너의 아담한 아파트\" width=\"170\" height=\"114\">\\n\\t\\t\\t\\t\\t\\t<span class=\"thumb_bd\"></span>\\n\\t\\t\\t\\t\\t</a>\\n\\t\\t\\t\\t\\t<a href=\"https://post.naver.com/viewer/postView.nhn?volumeNo&#x3D;30521171\" class=\"theme_info\" data-clk=\"tcc_des.list8cont4\" target=\"_blank\">\\n\\t\\t\\t\\t\\t\\t<em class=\"theme_category\"> 디자인</em>\\n\\t\\t\\t\\t\\t\\t<strong class=\"title elss\">세 식구의 햇살 맛집! 디자이너의 아담한 아파트</strong>\\n\\t\\t\\t\\t\\t\\t<p class=\"desc\">공간\\xa0디자인\\xa0회사\\xa0탠크리에이티브를 이끌고\\xa0있는\\xa0김지은\\xa0공동대표의\\xa0아담한 아파트.\\xa0세\\xa0식구가\\xa0머무는\\xa0공간은\\xa0따뜻한 공기로\\xa0채워져\\xa0있었다. 탠크리에이티브의 김지은 공동대표. 오래되고 자연스러운 것, 아름답고 쓸모없는 것을 좋아하다 보니 지금의 공간이 탄생했다고. 햇살이 하루종일 머무는 남서향 거실. 확장한 베란다 공간에 짜 넣은 평상은 세 식구가 숲 전망을 즐</p>\\n\\t\\t\\t\\t\\t\\t<div class=\"source_box\">\\n\\t\\t\\t\\t\\t\\t\\t<span class=\"date\">5일 전</span>\\n\\t\\t\\t\\t\\t\\t\\t<span class=\"source\"><span class=\"source_inner\">리빙센스</span></span>\\n\\t\\t\\t\\t\\t\\t</div>\\n\\t\\t\\t\\t\\t</a>\\n\\t\\t\\t\\t</li>\\n\\t\\t\\t\\n\\t\\t\\t\\t<li class=\"theme_item\" data-gdid=\"CAS_dfa406f7-5c50-11eb-955d-7f6f125323a4\" data-da-position=\"true\">\\n\\t\\t\\t\\t\\t<a href=\"https://post.naver.com/viewer/postView.nhn?volumeNo&#x3D;30539206\" class=\"theme_thumb\" data-clk=\"tcc_des.list8cont5\" target=\"_blank\">\\n\\t\\t\\t\\t\\t\\t<img  data-src=\"https://s.pstatic.net/dthumb.phinf/?src&#x3D;%22https%3A%2F%2Fs.pstatic.net%2Fstatic%2Fwww%2Fmobile%2Fedit%2F2021%2F0122%2Fupload_161127916486600dVH.jpg%22&amp;type&#x3D;nf340_228\" alt=\"남편의 메시지를 옷에 담은 미국 영부인 패션\" width=\"170\" height=\"114\">\\n\\t\\t\\t\\t\\t\\t<span class=\"thumb_bd\"></span>\\n\\t\\t\\t\\t\\t</a>\\n\\t\\t\\t\\t\\t<a href=\"https://post.naver.com/viewer/postView.nhn?volumeNo&#x3D;30539206\" class=\"theme_info\" data-clk=\"tcc_des.list8cont5\" target=\"_blank\">\\n\\t\\t\\t\\t\\t\\t<em class=\"theme_category\"> 디자인</em>\\n\\t\\t\\t\\t\\t\\t<strong class=\"title elss\">남편의 메시지를 옷에 담은 미국 영부인 패션</strong>\\n\\t\\t\\t\\t\\t\\t<p class=\"desc\">조 바이든 미국 대통령이 46대 미국 대통령에 취임했습니다. 이 날 바이든 대통령은 대통령 직무를 충실히 수행하고 헌법을 수호하겠다는 내용의 취임 선서를 한 뒤 취임사를 통해 미국의 나아갈 방향과 국정 구상을 밝혔죠. 전통적으로 미국에서는 대통령 취임식을 한 후 ‘대통령 취임 축하 기념 무도회(inaugural ball)&amp;rsquo</p>\\n\\t\\t\\t\\t\\t\\t<div class=\"source_box\">\\n\\t\\t\\t\\t\\t\\t\\t<span class=\"date\">4일 전</span>\\n\\t\\t\\t\\t\\t\\t\\t<span class=\"source\"><span class=\"source_inner\">레드프라이데이</span></span>\\n\\t\\t\\t\\t\\t\\t</div>\\n\\t\\t\\t\\t\\t</a>\\n\\t\\t\\t\\t</li>\\n\\t\\t\\t\\n\\t\\t</ul>\\n\\t</div>\\n</div>\\n<div class=\"group_theme\" data-block-id=\"\" data-block-code=\"PC-THEME-DESIGN-MOBILE-RANKING-DEFAULT-8\" data-block-type=\"MATERIALS\" data-template-code=\"MOBILE-RANKING-LIST\"\\n\\n\\t data-da=\"container\"\\n\\t data-index=\"\"\\n     data-page=\"5\"\\n\\t style=\"display:none\">\\n\\n\\t<div class=\"list_theme_wrap\">\\n\\t\\t<ul class=\"list_theme\">\\n\\t\\t\\t\\n\\t\\t\\t\\t<li class=\"theme_item\" data-gdid=\"CAS_ba351f2a-5c73-11eb-9e69-59903f653a62\" data-da-position=\"true\">\\n\\t\\t\\t\\t\\t<a href=\"https://post.naver.com/viewer/postView.nhn?volumeNo&#x3D;30354571\" class=\"theme_thumb\" data-clk=\"tcc_des.list9cont1\" target=\"_blank\">\\n\\t\\t\\t\\t\\t\\t<img  data-src=\"https://s.pstatic.net/dthumb.phinf/?src&#x3D;%22https%3A%2F%2Fs.pstatic.net%2Fstatic%2Fwww%2Fmobile%2Fedit%2F2021%2F0122%2Fupload_1611293763913u0F4i.jpg%22&amp;type&#x3D;nf340_228\" alt=\"우리 집도 가능할까? 군더더기 없이 깔끔한 공간\" width=\"170\" height=\"114\">\\n\\t\\t\\t\\t\\t\\t<span class=\"thumb_bd\"></span>\\n\\t\\t\\t\\t\\t</a>\\n\\t\\t\\t\\t\\t<a href=\"https://post.naver.com/viewer/postView.nhn?volumeNo&#x3D;30354571\" class=\"theme_info\" data-clk=\"tcc_des.list9cont1\" target=\"_blank\">\\n\\t\\t\\t\\t\\t\\t<em class=\"theme_category\"> 디자인</em>\\n\\t\\t\\t\\t\\t\\t<strong class=\"title elss\">우리 집도 가능할까? 군더더기 없이 깔끔한 공간</strong>\\n\\t\\t\\t\\t\\t\\t<p class=\"desc\">집은 우리가 일상적으로 살아가는 공간이지만, 어쩌면 가장 잘 모르는 공간이기도 합니다. 전문가를 찾아 인테리어를 맡기는 분들은 대개 &quot;우리 집이 이렇게 바뀔 수 있다니&quot; 놀라곤 합니다. 집에는 늘 새로운 부분이 있습니다. 똑같은 건물이지만 어떻게 활용하느냐, 어떤 방법을 찾느냐에 따라 수백, 수천 가지 아름다운 집이 탄생하죠.IXDesign 住樂은 셀프 인</p>\\n\\t\\t\\t\\t\\t\\t<div class=\"source_box\">\\n\\t\\t\\t\\t\\t\\t\\t<span class=\"date\">4일 전</span>\\n\\t\\t\\t\\t\\t\\t\\t<span class=\"source\"><span class=\"source_inner\">아이엑스디자인</span></span>\\n\\t\\t\\t\\t\\t\\t</div>\\n\\t\\t\\t\\t\\t</a>\\n\\t\\t\\t\\t</li>\\n\\t\\t\\t\\n\\t\\t\\t\\t<li class=\"theme_item\" data-gdid=\"CAS_79796b30-5bc4-11eb-aa1c-b7cf26c13c2e\" data-da-position=\"true\">\\n\\t\\t\\t\\t\\t<a href=\"https://blog.naver.com/designpress2016/222199606361\" class=\"theme_thumb\" data-clk=\"tcc_des.list9cont2\" target=\"_blank\">\\n\\t\\t\\t\\t\\t\\t<img  data-src=\"https://s.pstatic.net/dthumb.phinf/?src&#x3D;%22https%3A%2F%2Fs.pstatic.net%2Fstatic%2Fwww%2Fmobile%2Fedit%2F2021%2F0121%2Fupload_1611218088476pJfFo.jpg%22&amp;type&#x3D;nf340_228\" alt=\"해외가 극찬한 한국의 문화 공간\" width=\"170\" height=\"114\">\\n\\t\\t\\t\\t\\t\\t<span class=\"thumb_bd\"></span>\\n\\t\\t\\t\\t\\t</a>\\n\\t\\t\\t\\t\\t<a href=\"https://blog.naver.com/designpress2016/222199606361\" class=\"theme_info\" data-clk=\"tcc_des.list9cont2\" target=\"_blank\">\\n\\t\\t\\t\\t\\t\\t<em class=\"theme_category\"> 디자인</em>\\n\\t\\t\\t\\t\\t\\t<strong class=\"title elss\">해외가 극찬한 한국의 문화 공간</strong>\\n\\t\\t\\t\\t\\t\\t<p class=\"desc\">\\u200b국립아시아문화전당 5주년 기념 인터뷰 \\u200b지금으로부터5년 전, 국립아시아문화전당의 개관식이 화려하게 열렸다. 당시 국무총리와 문화체육관광부 장관이 축사를 남기고, 해외에서 온 미술계 인사들이 공간을 극찬했다. 광주에 들어선 국립아시아문화전당(이하 ACC)의 존재는 당시로서는 유례없는 일이었다. 지역에 생긴 정부(문화체육관광부) 산하의 문화기관이라 ‘국립’.</p>\\n\\t\\t\\t\\t\\t\\t<div class=\"source_box\">\\n\\t\\t\\t\\t\\t\\t\\t<span class=\"date\">2주일 전</span>\\n\\t\\t\\t\\t\\t\\t\\t<span class=\"source\"><span class=\"source_inner\">디자인프레스</span></span>\\n\\t\\t\\t\\t\\t\\t</div>\\n\\t\\t\\t\\t\\t</a>\\n\\t\\t\\t\\t</li>\\n\\t\\t\\t\\n\\t\\t\\t\\t<li class=\"theme_item\" data-gdid=\"CAS_dfa406f8-5c50-11eb-955d-85632330905e\" data-da-position=\"true\">\\n\\t\\t\\t\\t\\t<a href=\"https://blog.naver.com/designpress2016/222215042036\" class=\"theme_thumb\" data-clk=\"tcc_des.list9cont3\" target=\"_blank\">\\n\\t\\t\\t\\t\\t\\t<img  data-src=\"https://s.pstatic.net/dthumb.phinf/?src&#x3D;%22https%3A%2F%2Fs.pstatic.net%2Fstatic%2Fwww%2Fmobile%2Fedit%2F2021%2F0122%2Fupload_1611279557062AhveV.jpg%22&amp;type&#x3D;nf340_228\" alt=\"직원 해고 NO! &#x27;뱅크시 작품&#x27; 판매한 뮤지엄 수준\" width=\"170\" height=\"114\">\\n\\t\\t\\t\\t\\t\\t<span class=\"thumb_bd\"></span>\\n\\t\\t\\t\\t\\t</a>\\n\\t\\t\\t\\t\\t<a href=\"https://blog.naver.com/designpress2016/222215042036\" class=\"theme_info\" data-clk=\"tcc_des.list9cont3\" target=\"_blank\">\\n\\t\\t\\t\\t\\t\\t<em class=\"theme_category\"> 디자인</em>\\n\\t\\t\\t\\t\\t\\t<strong class=\"title elss\">직원 해고 NO! \\'뱅크시 작품\\' 판매한 뮤지엄 수준</strong>\\n\\t\\t\\t\\t\\t\\t<p class=\"desc\">\\u200b암스테르담 모코 뮤지엄의 훈훈한 동행 스토리2020년, 우리의 삶을 뿌리째 흔들었던 코로나19는 2021년에도 여전히 진행형이다. ‘포스트 코로나’보다 ‘위드 코로나’가 익숙한 지금, 거리에서도 ‘Open’보다 ‘Closed’사인이 더 자주 보인다. 코로나19의 최대 피해자는 여행업계지만 예술 분야도 큰 고통을 겪었다. 사회적 거리 두기로 1년의 반절도 </p>\\n\\t\\t\\t\\t\\t\\t<div class=\"source_box\">\\n\\t\\t\\t\\t\\t\\t\\t<span class=\"date\">4일 전</span>\\n\\t\\t\\t\\t\\t\\t\\t<span class=\"source\"><span class=\"source_inner\">디자인프레스</span></span>\\n\\t\\t\\t\\t\\t\\t</div>\\n\\t\\t\\t\\t\\t</a>\\n\\t\\t\\t\\t</li>\\n\\t\\t\\t\\n\\t\\t\\t\\t<li class=\"theme_item\" data-gdid=\"CAS_e2dc5a0b-5c76-11eb-a4c0-9715ab3101b8\" data-da-position=\"true\">\\n\\t\\t\\t\\t\\t<a href=\"https://post.naver.com/viewer/postView.nhn?volumeNo&#x3D;30543381\" class=\"theme_thumb\" data-clk=\"tcc_des.list9cont4\" target=\"_blank\">\\n\\t\\t\\t\\t\\t\\t<img  data-src=\"https://s.pstatic.net/dthumb.phinf/?src&#x3D;%22https%3A%2F%2Fs.pstatic.net%2Fstatic%2Fwww%2Fmobile%2Fedit%2F2021%2F0122%2Fupload_1611296389746glol5.jpg%22&amp;type&#x3D;nf340_228\" alt=\"어머 이건 사야 해! 소비욕 부르는 일러스트 굿즈\" width=\"170\" height=\"114\">\\n\\t\\t\\t\\t\\t\\t<span class=\"thumb_bd\"></span>\\n\\t\\t\\t\\t\\t</a>\\n\\t\\t\\t\\t\\t<a href=\"https://post.naver.com/viewer/postView.nhn?volumeNo&#x3D;30543381\" class=\"theme_info\" data-clk=\"tcc_des.list9cont4\" target=\"_blank\">\\n\\t\\t\\t\\t\\t\\t<em class=\"theme_category\"> 디자인</em>\\n\\t\\t\\t\\t\\t\\t<strong class=\"title elss\">어머 이건 사야 해! 소비욕 부르는 일러스트 굿즈</strong>\\n\\t\\t\\t\\t\\t\\t<p class=\"desc\">단 하나 뿐인 일상의 오브제알부스 갤러리가 2021년 1월 31일까지 브랜드 슬로코스터 Slowcoaster의 주인공이자 일러스트레이터로 활동하고 있는 작가 이슬로 Yislow 의 개인전 &lt;사랑이 필요해 All We Need is LOVE&gt;을 선보인다.작가는 지난 몇 년간 브랜드 슬로코스터 Slowcoaster 팝업 스토어, 여러 기업들과의 협업</p>\\n\\t\\t\\t\\t\\t\\t<div class=\"source_box\">\\n\\t\\t\\t\\t\\t\\t\\t<span class=\"date\">3일 전</span>\\n\\t\\t\\t\\t\\t\\t\\t<span class=\"source\"><span class=\"source_inner\">디자인프레스</span></span>\\n\\t\\t\\t\\t\\t\\t</div>\\n\\t\\t\\t\\t\\t</a>\\n\\t\\t\\t\\t</li>\\n\\t\\t\\t\\n\\t\\t\\t\\t<li class=\"theme_item\" data-gdid=\"CAS_e2dc5a0c-5c76-11eb-a4c0-07ea11819b9a\" data-da-position=\"true\">\\n\\t\\t\\t\\t\\t<a href=\"https://post.naver.com/viewer/postView.nhn?volumeNo&#x3D;30498081\" class=\"theme_thumb\" data-clk=\"tcc_des.list9cont5\" target=\"_blank\">\\n\\t\\t\\t\\t\\t\\t<img  data-src=\"https://s.pstatic.net/dthumb.phinf/?src&#x3D;%22https%3A%2F%2Fs.pstatic.net%2Fstatic%2Fwww%2Fmobile%2Fedit%2F2021%2F0122%2Fupload_16112961387379bhHk.jpg%22&amp;type&#x3D;nf340_228\" alt=\"코엑스 외벽에 떴다, 한국 전통문화의 재해석!\" width=\"170\" height=\"114\">\\n\\t\\t\\t\\t\\t\\t<span class=\"thumb_bd\"></span>\\n\\t\\t\\t\\t\\t</a>\\n\\t\\t\\t\\t\\t<a href=\"https://post.naver.com/viewer/postView.nhn?volumeNo&#x3D;30498081\" class=\"theme_info\" data-clk=\"tcc_des.list9cont5\" target=\"_blank\">\\n\\t\\t\\t\\t\\t\\t<em class=\"theme_category\"> 디자인</em>\\n\\t\\t\\t\\t\\t\\t<strong class=\"title elss\">코엑스 외벽에 떴다, 한국 전통문화의 재해석!</strong>\\n\\t\\t\\t\\t\\t\\t<p class=\"desc\">증강현실로 재해석한 한국 전통미 ‘정중동(靜中動), 동중동(動中動)’올겨울 삼성동 사거리를 지나는 이들은 코엑스 아티움 외벽에 설치된 작품을 보느라 잠시 눈길을 빼앗길지도 모른다. 서울문화재단은 이예승 작가의 미디어아트 ‘정중동(靜中動), 동중동(動中動)’을</p>\\n\\t\\t\\t\\t\\t\\t<div class=\"source_box\">\\n\\t\\t\\t\\t\\t\\t\\t<span class=\"date\">1주일 전</span>\\n\\t\\t\\t\\t\\t\\t\\t<span class=\"source\"><span class=\"source_inner\">디자인프레스</span></span>\\n\\t\\t\\t\\t\\t\\t</div>\\n\\t\\t\\t\\t\\t</a>\\n\\t\\t\\t\\t</li>\\n\\t\\t\\t\\n\\t\\t</ul>\\n\\t</div>\\n</div>\\n<div class=\"group_theme\" data-block-id=\"\" data-block-code=\"PC-THEME-DESIGN-MOBILE-RANKING-DEFAULT-9\" data-block-type=\"MATERIALS\" data-template-code=\"MOBILE-RANKING-LIST\"\\n\\n\\t data-da=\"container\"\\n\\t data-index=\"\"\\n     data-page=\"5\"\\n\\t style=\"display:none\">\\n\\n\\t<div class=\"list_theme_wrap\">\\n\\t\\t<ul class=\"list_theme\">\\n\\t\\t\\t\\n\\t\\t\\t\\t<li class=\"theme_item\" data-gdid=\"CAS_e2dc5a0a-5c76-11eb-a4c0-690f117d0b89\" data-da-position=\"true\">\\n\\t\\t\\t\\t\\t<a href=\"https://blog.naver.com/designpress2016/222210572509\" class=\"theme_thumb\" data-clk=\"tcc_des.list10cont1\" target=\"_blank\">\\n\\t\\t\\t\\t\\t\\t<img  data-src=\"https://s.pstatic.net/dthumb.phinf/?src&#x3D;%22https%3A%2F%2Fs.pstatic.net%2Fstatic%2Fwww%2Fmobile%2Fedit%2F2021%2F0122%2Fupload_1611296484766vfXxE.jpg%22&amp;type&#x3D;nf340_228\" alt=\"그림 위해 몸과 마음을 다 써버린 화가\" width=\"170\" height=\"114\">\\n\\t\\t\\t\\t\\t\\t<span class=\"thumb_bd\"></span>\\n\\t\\t\\t\\t\\t</a>\\n\\t\\t\\t\\t\\t<a href=\"https://blog.naver.com/designpress2016/222210572509\" class=\"theme_info\" data-clk=\"tcc_des.list10cont1\" target=\"_blank\">\\n\\t\\t\\t\\t\\t\\t<em class=\"theme_category\"> 디자인</em>\\n\\t\\t\\t\\t\\t\\t<strong class=\"title elss\">그림 위해 몸과 마음을 다 써버린 화가</strong>\\n\\t\\t\\t\\t\\t\\t<p class=\"desc\">장욱진 30주기 기념전&lt;집, 가족, 자연 그리고 장욱진&gt;\\u200b“집도 작품이다.” 화가 장욱진이 즐겨 했던 말이다. 그는 자신의 집을 평생 화폭에 담았다. 장욱진에게 ‘집’은 가족과 생활하는 안식처이자 예술적 영혼이 깃든 아틀리에였다. 그는 화백이나 교수보다는 화가畵家라는 말을 가장 좋아했다. 집 가家자가 들어간다는 이유에서였다. 생전에는 한적한 시골의 오래된 </p>\\n\\t\\t\\t\\t\\t\\t<div class=\"source_box\">\\n\\t\\t\\t\\t\\t\\t\\t<span class=\"date\">1주일 전</span>\\n\\t\\t\\t\\t\\t\\t\\t<span class=\"source\"><span class=\"source_inner\">디자인프레스</span></span>\\n\\t\\t\\t\\t\\t\\t</div>\\n\\t\\t\\t\\t\\t</a>\\n\\t\\t\\t\\t</li>\\n\\t\\t\\t\\n\\t\\t\\t\\t<li class=\"theme_item\" data-gdid=\"CAS_95f372da-5c79-11eb-9e69-ef0825dc9f3d\" data-da-position=\"true\">\\n\\t\\t\\t\\t\\t<a href=\"https://blog.naver.com/designpress2016/222208550412\" class=\"theme_thumb\" data-clk=\"tcc_des.list10cont2\" target=\"_blank\">\\n\\t\\t\\t\\t\\t\\t<img  data-src=\"https://s.pstatic.net/dthumb.phinf/?src&#x3D;%22https%3A%2F%2Fs.pstatic.net%2Fstatic%2Fwww%2Fmobile%2Fedit%2F2021%2F0122%2Fupload_1611296281016ox5zA.jpg%22&amp;type&#x3D;nf340_228\" alt=\"젊은 디자이너, 음식물 쓰레기로 ‘이것’까지 만든다!\" width=\"170\" height=\"114\">\\n\\t\\t\\t\\t\\t\\t<span class=\"thumb_bd\"></span>\\n\\t\\t\\t\\t\\t</a>\\n\\t\\t\\t\\t\\t<a href=\"https://blog.naver.com/designpress2016/222208550412\" class=\"theme_info\" data-clk=\"tcc_des.list10cont2\" target=\"_blank\">\\n\\t\\t\\t\\t\\t\\t<em class=\"theme_category\"> 디자인</em>\\n\\t\\t\\t\\t\\t\\t<strong class=\"title elss\">젊은 디자이너, 음식물 쓰레기로 ‘이것’까지 만든다!</strong>\\n\\t\\t\\t\\t\\t\\t<p class=\"desc\">\\u200b태양광 패널, 코로나 의료진 마스크 등으로재탄생한 생분해성 폐기물퇴비로만 사용되던 음식물 쓰레기가 완전히 새로운 물건으로 업사이클링 될 수 있다면? 조리과정에서 배출된 음식물 쓰레기 그리고 상해서 먹을 수 없게 된 폐작물을 전혀 다른 물성을 가진 물건들로 재활용하는 젊은 디자이너들이 있다. 이들은 음식물 쓰레기를 다른 소재와 섞어 태양광 패널, 코로나19</p>\\n\\t\\t\\t\\t\\t\\t<div class=\"source_box\">\\n\\t\\t\\t\\t\\t\\t\\t<span class=\"date\">1주일 전</span>\\n\\t\\t\\t\\t\\t\\t\\t<span class=\"source\"><span class=\"source_inner\">디자인프레스</span></span>\\n\\t\\t\\t\\t\\t\\t</div>\\n\\t\\t\\t\\t\\t</a>\\n\\t\\t\\t\\t</li>\\n\\t\\t\\t\\n\\t\\t\\t\\t<li class=\"theme_item\" data-gdid=\"CAS_79796b2f-5bc4-11eb-aa1c-2dbd6dca1f09\" data-da-position=\"true\">\\n\\t\\t\\t\\t\\t<a href=\"https://blog.naver.com/designpress2016/222145916681\" class=\"theme_thumb\" data-clk=\"tcc_des.list10cont3\" target=\"_blank\">\\n\\t\\t\\t\\t\\t\\t<img  data-src=\"https://s.pstatic.net/dthumb.phinf/?src&#x3D;%22https%3A%2F%2Fs.pstatic.net%2Fstatic%2Fwww%2Fmobile%2Fedit%2F2021%2F0121%2Fupload_1611217848584CDuU3.jpg%22&amp;type&#x3D;nf340_228\" alt=\"보는 각도에 따라 다른 도자기\" width=\"170\" height=\"114\">\\n\\t\\t\\t\\t\\t\\t<span class=\"thumb_bd\"></span>\\n\\t\\t\\t\\t\\t</a>\\n\\t\\t\\t\\t\\t<a href=\"https://blog.naver.com/designpress2016/222145916681\" class=\"theme_info\" data-clk=\"tcc_des.list10cont3\" target=\"_blank\">\\n\\t\\t\\t\\t\\t\\t<em class=\"theme_category\"> 디자인</em>\\n\\t\\t\\t\\t\\t\\t<strong class=\"title elss\">보는 각도에 따라 다른 도자기</strong>\\n\\t\\t\\t\\t\\t\\t<p class=\"desc\">\\u200b컷앤폴드 기법으로 탈피한 도자기의 전형성도자기는 &#x27;흙으로 빚어 높은 온도에 구워낸 제품&#x27;을 말한다. 단어 자체에는 딱히 어떤 모형이어야 한다는 의미는 담겨있지 않다. 그러나 도자기 하면 떠오르는 이미지는 어떤가? 과거 역사 책에서 자주 만났던 유물의 영향 때문인지 발로 물레를 열심히 굴려 만든 둥근 항아리가 떠오른다. 각진 곳 하나 없이 매끈한 곡선으..</p>\\n\\t\\t\\t\\t\\t\\t<div class=\"source_box\">\\n\\t\\t\\t\\t\\t\\t\\t<span class=\"date\">2개월 전</span>\\n\\t\\t\\t\\t\\t\\t\\t<span class=\"source\"><span class=\"source_inner\">디자인프레스</span></span>\\n\\t\\t\\t\\t\\t\\t</div>\\n\\t\\t\\t\\t\\t</a>\\n\\t\\t\\t\\t</li>\\n\\t\\t\\t\\n\\t\\t\\t\\t<li class=\"theme_item\" data-gdid=\"CAS_81726254-5c53-11eb-aa1c-4154f6b2101a\" data-da-position=\"true\">\\n\\t\\t\\t\\t\\t<a href=\"https://post.naver.com/viewer/postView.nhn?volumeNo&#x3D;29319528\" class=\"theme_thumb\" data-clk=\"tcc_des.list10cont4\" target=\"_blank\">\\n\\t\\t\\t\\t\\t\\t<img  data-src=\"https://s.pstatic.net/dthumb.phinf/?src&#x3D;%22https%3A%2F%2Fs.pstatic.net%2Fstatic%2Fwww%2Fmobile%2Fedit%2F2021%2F0122%2Fupload_1611280551657FlkXW.jpg%22&amp;type&#x3D;nf340_228\" alt=\"&#x27;예쁘면서 실용적&#x27; 따뜻한 감성 원하는 문구덕후 모여라!\" width=\"170\" height=\"114\">\\n\\t\\t\\t\\t\\t\\t<span class=\"thumb_bd\"></span>\\n\\t\\t\\t\\t\\t</a>\\n\\t\\t\\t\\t\\t<a href=\"https://post.naver.com/viewer/postView.nhn?volumeNo&#x3D;29319528\" class=\"theme_info\" data-clk=\"tcc_des.list10cont4\" target=\"_blank\">\\n\\t\\t\\t\\t\\t\\t<em class=\"theme_category\"> 디자인</em>\\n\\t\\t\\t\\t\\t\\t<strong class=\"title elss\">\\'예쁘면서 실용적\\' 따뜻한 감성 원하는 문구덕후 모여라!</strong>\\n\\t\\t\\t\\t\\t\\t<p class=\"desc\">[인터뷰 / 애프터뷰(interVIEW / afterVIEW)]는 &lt;타이포그래피 서울&gt;이 수 년 전 인터뷰했던 디자이너들을 다시 만나 그간의 소소한 얘기와 삶의 변화를 들어보는 기획 시리즈입니다.식구가 둘이나 늘었습니다. 전반적으로 잘 지낸 것 같고, 이렇게 인터뷰를 하고 있다는 것만으로도 소소문구가 복이 많다고 생각합니다. _ 4</p>\\n\\t\\t\\t\\t\\t\\t<div class=\"source_box\">\\n\\t\\t\\t\\t\\t\\t\\t<span class=\"date\">4개월 전</span>\\n\\t\\t\\t\\t\\t\\t\\t<span class=\"source\"><span class=\"source_inner\">타이포그래피 서울</span></span>\\n\\t\\t\\t\\t\\t\\t</div>\\n\\t\\t\\t\\t\\t</a>\\n\\t\\t\\t\\t</li>\\n\\t\\t\\t\\n\\t\\t\\t\\t<li class=\"theme_item\" data-gdid=\"CAS_2b1e2def-5c4c-11eb-93ab-ed2f87c97b68\" data-da-position=\"true\">\\n\\t\\t\\t\\t\\t<a href=\"https://blog.naver.com/designpress2016/222178681296\" class=\"theme_thumb\" data-clk=\"tcc_des.list10cont5\" target=\"_blank\">\\n\\t\\t\\t\\t\\t\\t<img  data-src=\"https://s.pstatic.net/dthumb.phinf/?src&#x3D;%22https%3A%2F%2Fs.pstatic.net%2Fstatic%2Fwww%2Fmobile%2Fedit%2F2021%2F0122%2Fupload_16112778130123C67V.jpg%22&amp;type&#x3D;nf340_228\" alt=\"&#x27;회오리 감자 아니죠&#x27; 애플과도 협업한 디자이너 누구?\" width=\"170\" height=\"114\">\\n\\t\\t\\t\\t\\t\\t<span class=\"thumb_bd\"></span>\\n\\t\\t\\t\\t\\t</a>\\n\\t\\t\\t\\t\\t<a href=\"https://blog.naver.com/designpress2016/222178681296\" class=\"theme_info\" data-clk=\"tcc_des.list10cont5\" target=\"_blank\">\\n\\t\\t\\t\\t\\t\\t<em class=\"theme_category\"> 디자인</em>\\n\\t\\t\\t\\t\\t\\t<strong class=\"title elss\">\\'회오리 감자 아니죠\\' 애플과도 협업한 디자이너 누구?</strong>\\n\\t\\t\\t\\t\\t\\t<p class=\"desc\">\\u200b던지면 한 번에 펼쳐지는 옷의 미학&quot;옷 위에 디저트 올려놓고 티타임 즐기기에 딱&quot;, &quot;사회적 거리 두기를 위한 모자&quot;. 최근에 한 패션 브랜드의 SNS에서 본 네티즌들의 반응이다. 회오리 감자를 연상케 하는 드레스나 챙이 과도하게 넓은 모자에 마스크를 연결해 제작한 이 의복들은 모두 패션 브랜드 &#x27;선우Sunwoo&#x27;의 것이다.선우의 옷에는 ...</p>\\n\\t\\t\\t\\t\\t\\t<div class=\"source_box\">\\n\\t\\t\\t\\t\\t\\t\\t<span class=\"date\">1개월 전</span>\\n\\t\\t\\t\\t\\t\\t\\t<span class=\"source\"><span class=\"source_inner\">디자인프레스</span></span>\\n\\t\\t\\t\\t\\t\\t</div>\\n\\t\\t\\t\\t\\t</a>\\n\\t\\t\\t\\t</li>\\n\\t\\t\\t\\n\\t\\t</ul>\\n\\t</div>\\n</div>\\n<div class=\"group_theme\" data-block-id=\"\" data-block-code=\"PC-THEME-DESIGN-MOBILE-RANKING-DEFAULT-10\" data-block-type=\"MATERIALS\" data-template-code=\"MOBILE-RANKING-LIST\"\\n\\n\\t data-da=\"container\"\\n\\t data-index=\"\"\\n     data-page=\"6\"\\n\\t style=\"display:none\">\\n\\n\\t<div class=\"list_theme_wrap\">\\n\\t\\t<ul class=\"list_theme\">\\n\\t\\t\\t\\n\\t\\t\\t\\t<li class=\"theme_item\" data-gdid=\"CAS_2c398e8d-4e58-11eb-9acd-55a2787d22f2\" data-da-position=\"true\">\\n\\t\\t\\t\\t\\t<a href=\"https://blog.naver.com/designpress2016/222195937851\" class=\"theme_thumb\" data-clk=\"tcc_des.list11cont1\" target=\"_blank\">\\n\\t\\t\\t\\t\\t\\t<img  data-src=\"https://s.pstatic.net/dthumb.phinf/?src&#x3D;%22https%3A%2F%2Fs.pstatic.net%2Fstatic%2Fwww%2Fmobile%2Fedit%2F2020%2F1219%2Fupload_24274531699136938xT3HK.jpg%22&amp;type&#x3D;nf340_228\" alt=\"1월 4주 차 : 야놀자, 세아상역, 삼양식품, SK(주) 외\" width=\"170\" height=\"114\">\\n\\t\\t\\t\\t\\t\\t<span class=\"thumb_bd\"></span>\\n\\t\\t\\t\\t\\t</a>\\n\\t\\t\\t\\t\\t<a href=\"https://blog.naver.com/designpress2016/222195937851\" class=\"theme_info\" data-clk=\"tcc_des.list11cont1\" target=\"_blank\">\\n\\t\\t\\t\\t\\t\\t<em class=\"theme_category\"> 디자인</em>\\n\\t\\t\\t\\t\\t\\t<strong class=\"title elss\">1월 4주 차 : 야놀자, 세아상역, 삼양식품, SK(주) 외</strong>\\n\\t\\t\\t\\t\\t\\t<p class=\"desc\">\\u200b1월 4주 차 디자인 분야 채용 공고[유어스디자인그룹]패키지 디자이너 / 폴리, 단상자, 카톤 등의 패키지 디자인 / 대학(2, 3년제) 이상 / 성별 및 연령 무관 / 경력 4년 이상 되는 자 우대 / 디자인 툴 숙련자 우대 / 포트폴리오 필수 / 경력(~1월 22일)자세히 보기\\u200b[야놀자]시니어 프로모션 디자이너 / 온라인 프로모션 앱&amp;웹 디자인 / S</p>\\n\\t\\t\\t\\t\\t\\t<div class=\"source_box\">\\n\\t\\t\\t\\t\\t\\t\\t<span class=\"date\">3주일 전</span>\\n\\t\\t\\t\\t\\t\\t\\t<span class=\"source\"><span class=\"source_inner\">디자인프레스</span></span>\\n\\t\\t\\t\\t\\t\\t</div>\\n\\t\\t\\t\\t\\t</a>\\n\\t\\t\\t\\t</li>\\n\\t\\t\\t\\n\\t\\t\\t\\t<li class=\"theme_item\" data-gdid=\"CAS_e2dc5a0d-5c76-11eb-a4c0-d52d255048cd\" data-da-position=\"true\">\\n\\t\\t\\t\\t\\t<a href=\"https://blog.naver.com/designpress2016/222210381566\" class=\"theme_thumb\" data-clk=\"tcc_des.list11cont2\" target=\"_blank\">\\n\\t\\t\\t\\t\\t\\t<img  data-src=\"https://s.pstatic.net/dthumb.phinf/?src&#x3D;%22https%3A%2F%2Fs.pstatic.net%2Fstatic%2Fwww%2Fmobile%2Fedit%2F2021%2F0122%2Fupload_1611296349977NHZVd.jpg%22&amp;type&#x3D;nf340_228\" alt=\"88올림픽 전후, 서울은 어떻게 바뀌었을까\" width=\"170\" height=\"114\">\\n\\t\\t\\t\\t\\t\\t<span class=\"thumb_bd\"></span>\\n\\t\\t\\t\\t\\t</a>\\n\\t\\t\\t\\t\\t<a href=\"https://blog.naver.com/designpress2016/222210381566\" class=\"theme_info\" data-clk=\"tcc_des.list11cont2\" target=\"_blank\">\\n\\t\\t\\t\\t\\t\\t<em class=\"theme_category\"> 디자인</em>\\n\\t\\t\\t\\t\\t\\t<strong class=\"title elss\">88올림픽 전후, 서울은 어떻게 바뀌었을까</strong>\\n\\t\\t\\t\\t\\t\\t<p class=\"desc\">\\u200b1980~90년대 급성장한 한국 현대 건축과 디자인사를 재조명하다&lt;올림픽 이펙트: 한국 건축과 디자인 8090&gt;\\u200b\\u200b88서울올림픽을 기점으로 우리나라는 경제 규모, 사회 문화, 생활 전반이 전후가 뚜렷이 나뉠 정도로 급격한 변화를 맞았다. 1980년대와 1990년대는 IMF 이전까지 하루가 다르게 고도성장하던 시기였다. 그 여파는 국내 건축과 디자인 업계에</p>\\n\\t\\t\\t\\t\\t\\t<div class=\"source_box\">\\n\\t\\t\\t\\t\\t\\t\\t<span class=\"date\">1주일 전</span>\\n\\t\\t\\t\\t\\t\\t\\t<span class=\"source\"><span class=\"source_inner\">디자인프레스</span></span>\\n\\t\\t\\t\\t\\t\\t</div>\\n\\t\\t\\t\\t\\t</a>\\n\\t\\t\\t\\t</li>\\n\\t\\t\\t\\n\\t\\t\\t\\t<li class=\"theme_item\" data-gdid=\"CAS_acc63f18-32a8-11eb-a8f7-2fc5ee8e95fc\" data-da-position=\"true\">\\n\\t\\t\\t\\t\\t<a href=\"https://blog.naver.com/designpress2016/222168979722\" class=\"theme_thumb\" data-clk=\"tcc_des.list11cont3\" target=\"_blank\">\\n\\t\\t\\t\\t\\t\\t<img  data-src=\"https://s.pstatic.net/dthumb.phinf/?src&#x3D;%22https%3A%2F%2Fs.pstatic.net%2Fstatic%2Fwww%2Fmobile%2Fedit%2F2020%2F1217%2Fupload_24101312820336890e95aV.jpg%22&amp;type&#x3D;nf340_228\" alt=\"제1회 LG Z:IN 인테리어 디자인 공모전 (~01.31)\" width=\"170\" height=\"114\">\\n\\t\\t\\t\\t\\t\\t<span class=\"thumb_bd\"></span>\\n\\t\\t\\t\\t\\t</a>\\n\\t\\t\\t\\t\\t<a href=\"https://blog.naver.com/designpress2016/222168979722\" class=\"theme_info\" data-clk=\"tcc_des.list11cont3\" target=\"_blank\">\\n\\t\\t\\t\\t\\t\\t<em class=\"theme_category\"> 디자인</em>\\n\\t\\t\\t\\t\\t\\t<strong class=\"title elss\">제1회 LG Z:IN 인테리어 디자인 공모전 (~01.31)</strong>\\n\\t\\t\\t\\t\\t\\t<p class=\"desc\">공간을 넘어 공간 공감을 설계하다. 내구성, 기능성, 디자인 모두 갖춘 LG지인 자재를 활용한 제품과 소중한 사람과 함께 할 주거 공간을 디자인해주세요.\\u200b[공모 주제]- 인테리어 디자인 : 21년 트렌드가 반영된 나를 위한 주거공간 디자인ex) 친구를 초대하고 싶은 인스타그래머블한 나의 홈 카페- 제품 디자인 : LG지인 자재를 활용한 리빙 제품 디자인(가</p>\\n\\t\\t\\t\\t\\t\\t<div class=\"source_box\">\\n\\t\\t\\t\\t\\t\\t\\t<span class=\"date\">1개월 전</span>\\n\\t\\t\\t\\t\\t\\t\\t<span class=\"source\"><span class=\"source_inner\">디자인프레스</span></span>\\n\\t\\t\\t\\t\\t\\t</div>\\n\\t\\t\\t\\t\\t</a>\\n\\t\\t\\t\\t</li>\\n\\t\\t\\t\\n\\t\\t\\t\\t<li class=\"theme_item\" data-gdid=\"CAS_2b1e2ded-5c4c-11eb-93ab-b56af8b3d937\" data-da-position=\"true\">\\n\\t\\t\\t\\t\\t<a href=\"https://blog.naver.com/designpress2016/222212453979\" class=\"theme_thumb\" data-clk=\"tcc_des.list11cont4\" target=\"_blank\">\\n\\t\\t\\t\\t\\t\\t<img  data-src=\"https://s.pstatic.net/dthumb.phinf/?src&#x3D;%22https%3A%2F%2Fs.pstatic.net%2Fstatic%2Fwww%2Fmobile%2Fedit%2F2021%2F0122%2Fupload_1611277991876TRVnX.jpg%22&amp;type&#x3D;nf340_228\" alt=\"&#x27;나무에 사람이 주렁주렁&#x27; 기묘한 패션 커뮤니티의 정체\" width=\"170\" height=\"114\">\\n\\t\\t\\t\\t\\t\\t<span class=\"thumb_bd\"></span>\\n\\t\\t\\t\\t\\t</a>\\n\\t\\t\\t\\t\\t<a href=\"https://blog.naver.com/designpress2016/222212453979\" class=\"theme_info\" data-clk=\"tcc_des.list11cont4\" target=\"_blank\">\\n\\t\\t\\t\\t\\t\\t<em class=\"theme_category\"> 디자인</em>\\n\\t\\t\\t\\t\\t\\t<strong class=\"title elss\">\\'나무에 사람이 주렁주렁\\' 기묘한 패션 커뮤니티의 정체</strong>\\n\\t\\t\\t\\t\\t\\t<p class=\"desc\">\\u200b옷을 입는 행위의 본질을 탐구하는 크리에이티브 커뮤니티찬란하면서도 오묘한 색감의 옷, 과감하고 아름다운 비주얼 작업으로 취향 좀 독특하다는 디자이너와 아티스트들을 야금야금 매혹시키고 있는 바르셀로나의 디자이너 패션 브랜드이자 프로젝트, ‘팔로마울&#x27;을 소개한다. 트렌디함을 자부하는 요즘 디자이너들의 핀터레스트 폴더에 하나씩은 저장되어 있을 법한 브...</p>\\n\\t\\t\\t\\t\\t\\t<div class=\"source_box\">\\n\\t\\t\\t\\t\\t\\t\\t<span class=\"date\">5일 전</span>\\n\\t\\t\\t\\t\\t\\t\\t<span class=\"source\"><span class=\"source_inner\">디자인프레스</span></span>\\n\\t\\t\\t\\t\\t\\t</div>\\n\\t\\t\\t\\t\\t</a>\\n\\t\\t\\t\\t</li>\\n\\t\\t\\t\\n\\t\\t\\t\\t<li class=\"theme_item\" data-gdid=\"CAS_2b1e2dee-5c4c-11eb-93ab-71f2f1cd6a55\" data-da-position=\"true\">\\n\\t\\t\\t\\t\\t<a href=\"https://post.naver.com/viewer/postView.nhn?volumeNo&#x3D;30133760\" class=\"theme_thumb\" data-clk=\"tcc_des.list11cont5\" target=\"_blank\">\\n\\t\\t\\t\\t\\t\\t<img  data-src=\"https://s.pstatic.net/dthumb.phinf/?src&#x3D;%22https%3A%2F%2Fs.pstatic.net%2Fstatic%2Fwww%2Fmobile%2Fedit%2F2021%2F0122%2Fupload_1611277236816spRvW.jpg%22&amp;type&#x3D;nf340_228\" alt=\"당장 책상 위에서도 볼 수 있는 &#x27;이것&#x27;으로 만든 옷\" width=\"170\" height=\"114\">\\n\\t\\t\\t\\t\\t\\t<span class=\"thumb_bd\"></span>\\n\\t\\t\\t\\t\\t</a>\\n\\t\\t\\t\\t\\t<a href=\"https://post.naver.com/viewer/postView.nhn?volumeNo&#x3D;30133760\" class=\"theme_info\" data-clk=\"tcc_des.list11cont5\" target=\"_blank\">\\n\\t\\t\\t\\t\\t\\t<em class=\"theme_category\"> 디자인</em>\\n\\t\\t\\t\\t\\t\\t<strong class=\"title elss\">당장 책상 위에서도 볼 수 있는 \\'이것\\'으로 만든 옷</strong>\\n\\t\\t\\t\\t\\t\\t<p class=\"desc\">곧 종강을 바라보고 있는 학생들 중 즐겁지만은 않은 사람들이 있다. 바로 졸업반 4학년. 1교시의 늪에서 벗어나 수업이 많지 않은 이들은 겉으로 보이기엔 좋아 보일 수도 있지만, 속은 타 들어가는 중이다. 취업과 창업 사이의 갈등. 끝이 보이지 않은 준비. 앞으로 뭐해 먹고 사나. 하지만 시간은 멈추지 않는다. 눈 뜨면 졸업을 맞이하고 던져지다시피 사회와 </p>\\n\\t\\t\\t\\t\\t\\t<div class=\"source_box\">\\n\\t\\t\\t\\t\\t\\t\\t<span class=\"date\">1개월 전</span>\\n\\t\\t\\t\\t\\t\\t\\t<span class=\"source\"><span class=\"source_inner\">디노마드 YCK</span></span>\\n\\t\\t\\t\\t\\t\\t</div>\\n\\t\\t\\t\\t\\t</a>\\n\\t\\t\\t\\t</li>\\n\\t\\t\\t\\n\\t\\t</ul>\\n\\t</div>\\n</div>\\n<div class=\"group_theme\" data-block-id=\"\" data-block-code=\"PC-THEME-DESIGN-MOBILE-RANKING-DEFAULT-11\" data-block-type=\"MATERIALS\" data-template-code=\"MOBILE-RANKING-LIST\"\\n\\n\\t data-da=\"container\"\\n\\t data-index=\"\"\\n     data-page=\"6\"\\n\\t style=\"display:none\">\\n\\n\\t<div class=\"list_theme_wrap\">\\n\\t\\t<ul class=\"list_theme\">\\n\\t\\t\\t\\n\\t\\t\\t\\t<li class=\"theme_item\" data-gdid=\"CAS_79796b31-5bc4-11eb-aa1c-afb6854c6243\" data-da-position=\"true\">\\n\\t\\t\\t\\t\\t<a href=\"https://post.naver.com/viewer/postView.nhn?volumeNo&#x3D;30278475\" class=\"theme_thumb\" data-clk=\"tcc_des.list12cont1\" target=\"_blank\">\\n\\t\\t\\t\\t\\t\\t<img  data-src=\"https://s.pstatic.net/dthumb.phinf/?src&#x3D;%22https%3A%2F%2Fs.pstatic.net%2Fstatic%2Fwww%2Fmobile%2Fedit%2F2021%2F0121%2Fupload_16112184935679Nql6.jpg%22&amp;type&#x3D;nf340_228\" alt=\"조선 사진술의 100년 역사\" width=\"170\" height=\"114\">\\n\\t\\t\\t\\t\\t\\t<span class=\"thumb_bd\"></span>\\n\\t\\t\\t\\t\\t</a>\\n\\t\\t\\t\\t\\t<a href=\"https://post.naver.com/viewer/postView.nhn?volumeNo&#x3D;30278475\" class=\"theme_info\" data-clk=\"tcc_des.list12cont1\" target=\"_blank\">\\n\\t\\t\\t\\t\\t\\t<em class=\"theme_category\"> 디자인</em>\\n\\t\\t\\t\\t\\t\\t<strong class=\"title elss\">조선 사진술의 100년 역사</strong>\\n\\t\\t\\t\\t\\t\\t<p class=\"desc\">한국-러시아 수교 30 주년 기념 사진전러시아의 사진전문기관인 로스포토The State Russian Museum and Exhibition Centre ROSPHOTO에서 2020 년 12월 19일부터 2021년 2월 28일까지 《1920-2020 한국 예술 사진 100주년 The Centennial of Korean Art Photography 1920</p>\\n\\t\\t\\t\\t\\t\\t<div class=\"source_box\">\\n\\t\\t\\t\\t\\t\\t\\t<span class=\"date\">1개월 전</span>\\n\\t\\t\\t\\t\\t\\t\\t<span class=\"source\"><span class=\"source_inner\">디자인프레스</span></span>\\n\\t\\t\\t\\t\\t\\t</div>\\n\\t\\t\\t\\t\\t</a>\\n\\t\\t\\t\\t</li>\\n\\t\\t\\t\\n\\t\\t\\t\\t<li class=\"theme_item\" data-gdid=\"CAS_8f9a384f-5c50-11eb-955d-993962e5a609\" data-da-position=\"true\">\\n\\t\\t\\t\\t\\t<a href=\"https://blog.naver.com/designpress2016/222212960173\" class=\"theme_thumb\" data-clk=\"tcc_des.list12cont2\" target=\"_blank\">\\n\\t\\t\\t\\t\\t\\t<img  data-src=\"https://s.pstatic.net/dthumb.phinf/?src&#x3D;%22https%3A%2F%2Fs.pstatic.net%2Fstatic%2Fwww%2Fmobile%2Fedit%2F2021%2F0122%2Fupload_16112826720087dLHk.jpg%22&amp;type&#x3D;nf340_228\" alt=\"15분 만에 조립 끝! 세계 놀래킨 K-음압병동\" width=\"170\" height=\"114\">\\n\\t\\t\\t\\t\\t\\t<span class=\"thumb_bd\"></span>\\n\\t\\t\\t\\t\\t</a>\\n\\t\\t\\t\\t\\t<a href=\"https://blog.naver.com/designpress2016/222212960173\" class=\"theme_info\" data-clk=\"tcc_des.list12cont2\" target=\"_blank\">\\n\\t\\t\\t\\t\\t\\t<em class=\"theme_category\"> 디자인</em>\\n\\t\\t\\t\\t\\t\\t<strong class=\"title elss\">15분 만에 조립 끝! 세계 놀래킨 K-음압병동</strong>\\n\\t\\t\\t\\t\\t\\t<p class=\"desc\">독창적이며 효율적인디자이너의 K-음압병동\\u200b\\u200b\\u200b따뜻한 색의 간접 조명, 깔끔한 화이트 톤 실내, 일관된 패턴을 입은 창문… 아늑한 집이나 호텔 객실을 연상하게 하는 이곳은 카이스트KAIST 산업디자인학과 남택진 교수 연구팀이 개발해 지난 1월 7일 공개한 이동형 음압병동 ‘KARE MCM’의 내부다.\\u200b\\u200b\\u200b지난 12월 28일부터 서울 노원구 한국원자력의학원 앞</p>\\n\\t\\t\\t\\t\\t\\t<div class=\"source_box\">\\n\\t\\t\\t\\t\\t\\t\\t<span class=\"date\">6일 전</span>\\n\\t\\t\\t\\t\\t\\t\\t<span class=\"source\"><span class=\"source_inner\">디자인프레스</span></span>\\n\\t\\t\\t\\t\\t\\t</div>\\n\\t\\t\\t\\t\\t</a>\\n\\t\\t\\t\\t</li>\\n\\t\\t\\t\\n\\t\\t\\t\\t<li class=\"theme_item\" data-gdid=\"CAS_130cf23b-5c4b-11eb-955d-2334c2df36ed\" data-da-position=\"true\">\\n\\t\\t\\t\\t\\t<a href=\"https://post.naver.com/viewer/postView.nhn?volumeNo&#x3D;30533715\" class=\"theme_thumb\" data-clk=\"tcc_des.list12cont3\" target=\"_blank\">\\n\\t\\t\\t\\t\\t\\t<img  data-src=\"https://s.pstatic.net/dthumb.phinf/?src&#x3D;%22https%3A%2F%2Fs.pstatic.net%2Fstatic%2Fwww%2Fmobile%2Fedit%2F2021%2F0122%2Fupload_1611278086019AXyll.jpg%22&amp;type&#x3D;nf340_228\" alt=\"RM부터 빈지노까지, 미술과 사랑에 빠진 가수들!\" width=\"170\" height=\"114\">\\n\\t\\t\\t\\t\\t\\t<span class=\"thumb_bd\"></span>\\n\\t\\t\\t\\t\\t</a>\\n\\t\\t\\t\\t\\t<a href=\"https://post.naver.com/viewer/postView.nhn?volumeNo&#x3D;30533715\" class=\"theme_info\" data-clk=\"tcc_des.list12cont3\" target=\"_blank\">\\n\\t\\t\\t\\t\\t\\t<em class=\"theme_category\"> 디자인</em>\\n\\t\\t\\t\\t\\t\\t<strong class=\"title elss\">RM부터 빈지노까지, 미술과 사랑에 빠진 가수들!</strong>\\n\\t\\t\\t\\t\\t\\t<p class=\"desc\">음악과 미술 모두를 아우르는 풍부한 예술적 감성을 지닌 자들이 있습니다. 특히 가수들 중 미술을 사랑하는 스타들이 많은 듯한데요. 때로는 미술을 통해 음악적 영감을 얻기도 한다고 해요. 오늘은 미술과 사랑에 빠진 가수들을 탐구해보겠습니다!:)미술과 사랑에 빠진 가수들아이돌 3대 화백 #걸스데이 유라가수에 이어 최근 연기에도 도전한 걸스데이 멤버 &#x27;유</p>\\n\\t\\t\\t\\t\\t\\t<div class=\"source_box\">\\n\\t\\t\\t\\t\\t\\t\\t<span class=\"date\">4일 전</span>\\n\\t\\t\\t\\t\\t\\t\\t<span class=\"source\"><span class=\"source_inner\">리얼큐브</span></span>\\n\\t\\t\\t\\t\\t\\t</div>\\n\\t\\t\\t\\t\\t</a>\\n\\t\\t\\t\\t</li>\\n\\t\\t\\t\\n\\t\\t\\t\\t<li class=\"theme_item\" data-gdid=\"CAS_130cf23a-5c4b-11eb-955d-d5d21d8638af\" data-da-position=\"true\">\\n\\t\\t\\t\\t\\t<a href=\"https://blog.naver.com/designpress2016/222212860779\" class=\"theme_thumb\" data-clk=\"tcc_des.list12cont4\" target=\"_blank\">\\n\\t\\t\\t\\t\\t\\t<img  data-src=\"https://s.pstatic.net/dthumb.phinf/?src&#x3D;%22https%3A%2F%2Fs.pstatic.net%2Fstatic%2Fwww%2Fmobile%2Fedit%2F2021%2F0122%2Fupload_1611277102100lA2Iu.jpg%22&amp;type&#x3D;nf340_228\" alt=\"대기업 퇴사 후 만든 바 그리고 심야 서점 &#x27;책바&#x27;\" width=\"170\" height=\"114\">\\n\\t\\t\\t\\t\\t\\t<span class=\"thumb_bd\"></span>\\n\\t\\t\\t\\t\\t</a>\\n\\t\\t\\t\\t\\t<a href=\"https://blog.naver.com/designpress2016/222212860779\" class=\"theme_info\" data-clk=\"tcc_des.list12cont4\" target=\"_blank\">\\n\\t\\t\\t\\t\\t\\t<em class=\"theme_category\"> 디자인</em>\\n\\t\\t\\t\\t\\t\\t<strong class=\"title elss\">대기업 퇴사 후 만든 바 그리고 심야 서점 \\'책바\\'</strong>\\n\\t\\t\\t\\t\\t\\t<p class=\"desc\">\\u200b책과 술의 공감각을 구현한 바 그리고 심야 서점영화로 명성을 떨쳤던 소설 &lt;캐롤&gt;에서는 칵테일 &#x27;올드 패션드Old Fashioned&#x27;가 나왔고, 소설가 무라카미 하루키의 &lt;노르웨이의 숲&gt;에서는 보드카 토닉이 등장했다. 이처럼 술은 소설의 소재로 종종 나와 책과 술의 관련성을 적잖이 보여주곤 했다. 책과 술, 술과 책. 이 조합은 생경할 수 있겠지만 서..</p>\\n\\t\\t\\t\\t\\t\\t<div class=\"source_box\">\\n\\t\\t\\t\\t\\t\\t\\t<span class=\"date\">6일 전</span>\\n\\t\\t\\t\\t\\t\\t\\t<span class=\"source\"><span class=\"source_inner\">디자인프레스</span></span>\\n\\t\\t\\t\\t\\t\\t</div>\\n\\t\\t\\t\\t\\t</a>\\n\\t\\t\\t\\t</li>\\n\\t\\t\\t\\n\\t\\t\\t\\t<li class=\"theme_item\" data-gdid=\"CAS_130cf239-5c4b-11eb-955d-1964f986c864\" data-da-position=\"true\">\\n\\t\\t\\t\\t\\t<a href=\"https://post.naver.com/viewer/postView.nhn?volumeNo&#x3D;30517590\" class=\"theme_thumb\" data-clk=\"tcc_des.list12cont5\" target=\"_blank\">\\n\\t\\t\\t\\t\\t\\t<img  data-src=\"https://s.pstatic.net/dthumb.phinf/?src&#x3D;%22https%3A%2F%2Fs.pstatic.net%2Fstatic%2Fwww%2Fmobile%2Fedit%2F2021%2F0122%2Fupload_1611292148068LHJZP.jpg%22&amp;type&#x3D;nf340_228\" alt=\"2021 봄 패션 트렌드? 갈빗대 모양의 줄무늬 니트!\" width=\"170\" height=\"114\">\\n\\t\\t\\t\\t\\t\\t<span class=\"thumb_bd\"></span>\\n\\t\\t\\t\\t\\t</a>\\n\\t\\t\\t\\t\\t<a href=\"https://post.naver.com/viewer/postView.nhn?volumeNo&#x3D;30517590\" class=\"theme_info\" data-clk=\"tcc_des.list12cont5\" target=\"_blank\">\\n\\t\\t\\t\\t\\t\\t<em class=\"theme_category\"> 디자인</em>\\n\\t\\t\\t\\t\\t\\t<strong class=\"title elss\">2021 봄 패션 트렌드? 갈빗대 모양의 줄무늬 니트!</strong>\\n\\t\\t\\t\\t\\t\\t<p class=\"desc\">같은 니트도 조직의 짜임에 따라 다른 분위기를 나타낸다. 겨울에는 두꺼운 실로 얼기설기 짜여있는 청키 니트가 유행하는 반면, 2021 S/S 시즌 많은 디자이너들은 리브드 조직의 니트를 컬렉션에서 선보였다. 리브드 니트(Ribbed-knit)는 갈빗대를 의미하는 립(Rib)에서 파생된 용어로, 갈빗대 모양의 줄무늬로 이루어진 니</p>\\n\\t\\t\\t\\t\\t\\t<div class=\"source_box\">\\n\\t\\t\\t\\t\\t\\t\\t<span class=\"date\">6일 전</span>\\n\\t\\t\\t\\t\\t\\t\\t<span class=\"source\"><span class=\"source_inner\">알렛츠 ALLETS</span></span>\\n\\t\\t\\t\\t\\t\\t</div>\\n\\t\\t\\t\\t\\t</a>\\n\\t\\t\\t\\t</li>\\n\\t\\t\\t\\n\\t\\t</ul>\\n\\t</div>\\n</div>\\n\\n\\n\\t<p class=\"alert_msg\" data-clk-prefix=\"tcc_des\">디자인판의 컨텐츠는 <a href=\"https://blog.naver.com/designpress2016\" data-clk-suffix=\"corp\" target=\"_blank\">디자인프레스㈜</a>에 의해 운영·편집 됩니다.</p>\\n\\n\\n\\n\\t<div class=\"btn_more_wrap\">\\n\\t\\t<button type=\"button\" class=\"btn_more\" data-clk-custom=\"tcc_des.more\" data-next-page=\"2\"><i class=\"ico_more\"></i>새로운 글 더보기</button>\\n\\t</div>\\n\\n\\n\\t</div>\\n</div>\\n </div> </div> <div id=\"NM_INT_RIGHT\" class=\"column_right\"> <div class=\"column_fix_wrap\"> <div id=\"da_brand\"></div> \\n\\n\\n\\n\\n<div id=\"account\" class=\"sc_login\">\\n<h2 class=\"blind\">Sign in</h2>\\n<p class=\"login_msg\">Connect with people</p>\\n<a href=\"https://nid.naver.com/nidlogin.login?mode=form&url=https%3A%2F%2Fwww.naver.com\" class=\"link_login\" data-clk=\"log_off.login\"><i class=\"ico_naver\"><span class=\"blind\">NAVER</span></i>Sign in</a>\\n<div class=\"sub_area\">\\n<div class=\"look_box\">\\n<a href=\"https://nid.naver.com/user/help.nhn?todo=idinquiry\" class=\"link_look\" data-clk=\"log_off.searchid\">Forgot Username</a>\\n<a href=\"https://nid.naver.com/nidreminder.form\" class=\"link_look\" data-clk=\"log_off.searchpass\">Password</a>\\n</div>\\n<a href=\"https://nid.naver.com/nidregister.form?url=https%3A%2F%2Fwww.naver.com\" class=\"link_join\" data-clk=\"log_off.registration\">Sign up</a>\\n</div>\\n</div>\\n\\n\\n\\n <div id=\"timesquare\" class=\"sc_timesquare\"> <h2 class=\"blind\">타임스퀘어</h2> <div class=\"card_wrap\">\\n<div class=\"card_nav\">\\n<a href=\"#\" role=\"button\" class=\"btn_nav btn_prev\" data-clk=\"squ.pre\"><span class=\"blind\">이전</span></a>\\n<a href=\"#\" role=\"button\" class=\"btn_nav btn_next\" data-clk=\"squ.next\"><span class=\"blind\">다음</span></a>\\n</div>\\n<div id=\"NM_TS_ROLLING_WRAP\" style=\"height: 100%;\">\\n<div>\\n<a href=\"https://search.naver.com/search.naver?sm=top_hty&amp;fbm=0&amp;ie=utf8&amp;query=%EC%BD%94%EB%A1%9C%EB%82%9819\" class=\"card_news\" data-clk=\"squ.line3\"><i class=\"news_badge\">이슈</i><span class=\"news\">코로나바이러스감염증19 현황</span></a>\\n</div>\\n<div>\\n<a data-clk=\"squ.weat\" href=\"https://weather.naver.com/today/06710265\" class=\"card_weather ico_w09\">\\n<div class=\"current_box\">\\n<strong class=\"current\" aria-label=\"현재기온\">6.0°</strong><strong class=\"state\">비</strong>\\n</div>\\n<div class=\"degree_box\">\\n<span class=\"min\" aria-label=\"최저기온\">3.0°</span><span class=\"max\" aria-label=\"최고기온\">8.0°</span>\\n</div>\\n<span class=\"location\">현풍읍</span>\\n</a>\\n</div>\\n<div>\\n<a data-clk=\"squ.dust\" href=\"https://weather.naver.com/today/06710265\" class=\"card_air\">\\n<ul class=\"list_air\">\\n<li class=\"air_item\">미세<strong class=\"state state_normal\">보통</strong></li>\\n<li class=\"air_item\">초미세<strong class=\"state state_normal\">보통</strong></li>\\n</ul>\\n<span class=\"location\">현풍읍</span>\\n</a>\\n</div>\\n\\n<div>\\n<a href=\"https://finance.naver.com/sise/sise_index.nhn?code=KOSPI\" class=\"card_stock \" data-clk=\"squ.kospi\">\\n<strong class=\"stock_title\">증시</strong>\\n<div class=\"stock_box\">\\n<em class=\"name\">코스피</em>\\n<strong class=\"current\">3,155.63</strong>\\n<span class=\"rate rate_down\">53.36 -1.66%</span>\\n</div>\\n</a>\\n</div>\\n<div>\\n<a href=\"https://finance.naver.com/sise/sise_index.nhn?code=KOSDAQ\" class=\"card_stock \" data-clk=\"squ.kosdaq\">\\n<strong class=\"stock_title\">증시</strong>\\n<div class=\"stock_box\">\\n<em class=\"name\">코스닥</em>\\n<strong class=\"current\">995.32</strong>\\n<span class=\"rate rate_down\">3.98 -0.40%</span>\\n</div>\\n</a>\\n</div>\\n<div>\\n<a href=\"https://finance.naver.com/marketindex/exchangeDetail.nhn?marketindexCd=FX_USDKRW\" class=\"card_stock type_exchange\" data-clk=\"squ.usd\">\\n<strong class=\"stock_title\">환율</strong>\\n<div class=\"stock_box\">\\n<em class=\"name\">USD</em>\\n<strong class=\"current\">1,101.70</strong>\\n<span class=\"rate rate_down\">0.80 -0.07%</span>\\n</div>\\n</a>\\n</div>\\n</div>\\n</div> <!-- EMPTY --> </div>  <div id=\"veta_branding\"> <iframe id=\"da_iframe_rolling\" name=\"da_iframe_rolling\" data-iframe-src=\"https://siape.veta.naver.com/fxshow?su=SU10601&amp;nrefreshx=0\" data-veta-preview=\"main_rolling\" title=\"광고\" width=\"350\" height=\"200\" marginheight=\"0\" marginwidth=\"0\" scrolling=\"no\" frameborder=\"0\"></iframe> <span class=\"veta_bd_t\"></span> <span class=\"veta_bd_b\"></span> <span class=\"veta_bd_l\"></span> <span class=\"veta_bd_r\"></span> </div>   <div id=\"shopcast\" class=\"sc_shopcast\"> <iframe id=\"shopcast_iframe\" data-iframe-src=\"https://castbox.shopping.naver.com/shoppingboxnew/main.nhn\" title=\"쇼핑캐스트\" width=\"350\" height=\"1539\" marginheight=\"0\" marginwidth=\"0\" scrolling=\"no\" frameborder=\"0\"></iframe> </div> </div> </div> <a id=\"NM_scroll_top_btn\" href=\"#wrap\" class=\"content_top\"><span class=\"blind\">TOP</span></a> <button id=\"NM_darkmode_btn\" type=\"button\" role=\"button\" class=\"btn_theme\" aria-pressed=\"false\"  > <span class=\"blind\">라이트 모드로 보기</span> </button> </div> <div id=\"footer\" role=\"contentinfo\"> <div class=\"footer_inner\"> <div class=\"banner_area\"> <div class=\"da_box_wrap\">    <div id=\"da_public_left\"> <iframe id=\"da_iframe_bottom_left\" data-iframe-src=\"https://siape.veta.naver.com/fxshow?su=SU10641&amp;nrefreshx=0\" title=\"광고\" width=\"350\" height=\"86\" scrolling=\"no\" frameborder=\"0\"></iframe> </div> <div id=\"da_public_right\"> <iframe id=\"da_iframe_bottom_right\" data-iframe-src=\"https://siape.veta.naver.com/fxshow?su=SU10642&amp;nrefreshx=0\" title=\"광고\" width=\"350\" height=\"86\" scrolling=\"no\" frameborder=\"0\"></iframe> </div> <div id=\"veta_time2\"> <iframe id=\"da_iframe_below\" name=\"da_iframe_below\" data-iframe-src=\"https://siape.veta.naver.com/fxshow?su=SU10640&amp;nrefreshx=0\" data-veta-preview=\"main_below\" width=\"350\" height=\"86\" scrolling=\"no\" frameborder=\"0\" title=\"광고\"> </iframe> </div> </div> </div> <div class=\"notice_area\" data-clk-prefix=\"ntc\"> <div class=\"notice_box\"> <h3 class=\"title\"><a href=\"https://www.naver.com/NOTICE\">공지사항</a> </h3> <!-- EMPTY --> </div> <a href=\"more.html\" class=\"link_all\" data-clk=\"svcmap\">서비스 전체보기</a> </div> <div class=\"aside_area\"> <div class=\"partner_box_wrap\"> <div class=\"partner_box\" data-clk-prefix=\"crt\"> <h3 class=\"title\">Creators</h3> <a href=\"https://www.navercorp.com/service/creators\" class=\"link_partner\" data-clk=\"creator\">크리에이터</a> <a href=\"https://www.navercorp.com/service/business\" class=\"link_partner\" data-clk=\"smbusiness\">스몰비즈니스</a> </div> <div class=\"partner_box\" data-clk-prefix=\"crt\"> <h3 class=\"title\">Partners</h3> <a href=\"https://business.naver.com/service.html\" class=\"link_partner\" data-clk=\"service\">비즈니스 · 광고</a> <a href=\"https://sell.storefarm.naver.com/#/home/about\" class=\"link_partner\" data-clk=\"store\">스토어 개설</a> <a href=\"https://smartplace.naver.com\" class=\"link_partner\" data-clk=\"place\">지역업체 등록</a> <a href=\"https://expert.naver.com/?tab=guide#join\" class=\"link_partner\" data-clk=\"expert\">엑스퍼트 등록</a> </div> <div class=\"partner_box\" data-clk-prefix=\"crt\"> <h3 class=\"title\">Developers</h3> <a href=\"https://developers.naver.com\" class=\"link_partner\" data-clk=\"center\">네이버 개발자 센터</a> <a href=\"https://developers.naver.com/docs/common/openapiguide/#/apilist.md\" class=\"link_partner\" data-clk=\"openapi\">오픈 API</a> <a href=\"https://naver.github.io\" class=\"link_partner\" data-clk=\"opensource\">오픈소스</a> <a href=\"https://d2.naver.com\" class=\"link_partner\" data-clk=\"d2\">네이버 D2</a> <a href=\"http://d2startup.com\" class=\"link_partner\" data-clk=\"naverD2SF\">네이버 D2SF</a> <a href=\"https://www.naverlabs.com\" class=\"link_partner\" data-clk=\"labs\">네이버 랩스</a> </div> </div> <div class=\"service_box_wrap\"> <div class=\"service_box\" data-clk-prefix=\"wbd\"> <a href=\"http://whale.naver.com/\" class=\"service_logo\" data-clk=\"bt\"> <img src=\"data:image/png;base64,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\" alt=\"웨일\" width=\"48\" height=\"48\"> </a> <div class=\"service_info\"> <strong class=\"title\">웨일 브라우저</strong> <a href=\"http://whale.naver.com/\" class=\"dsc\" data-clk=\"bt\">다운받기</a> </div> </div> <div class=\"service_box\" data-clk-prefix=\"prj\"> <a href=\"https://search.naver.com/search.naver?where=nexearch&sm=top_hty&fbm=1&ie=utf8&query=%ED%94%84%EB%A1%9C%EC%A0%9D%ED%8A%B8%EA%BD%83\" class=\"service_logo\" data-clk=\"link\"> <img src=\"data:image/png;base64,iVBORw0KGgoAAAANSUhEUgAAAF4AAABkCAMAAAA47XeXAAAAgVBMVEUAAADN5PdGm99Gm99Gm99Gm99Gm95Gm99Gm99Gm99Gm99Gm99Gm99Gm99Gm99Gm99Gm99Gm99Gm99Gm99Gm99Gm99Gm99Gmt9Gm99Gm99Gm99Gm95Gm99Gm99Gm95Gm99Hm99Gm99Gm9/////3+/5cp+LO5PfR5/fO5fdcp+P7/f/zv5GhAAAAInRSTlMA/v7vH9u5qJNgGwb6l8a9uqF9WFUyLxYMCtbVmLCwe4OCj8gzEgAAA0NJREFUaN7NmmFz4iAQhkkwMTHGWrWtWvWuq8mF+/8/8Ey2nb0OhSwQZnw+MHQ7pbjAy2s2gsuiLPJMLpcyy4tyISZltnmHbxw3MzEVr/MUNNL5q5iCt2ccXCN9fhPB7CQYkTsRRlWDlboSAexzGCHfC28OKxhldfDOzBMwePLNTw0sauHFFphshQcLCUwkaQRfXYBPSkrEUBdv3jezcXXhw1ciUhc+fCUidQlH7qzqEk5d2dQlnHxvU5dwVgdXdSGclaiGyamt6hLO1qIu4ZASzcFE092SBprk1jagulvXAAw/qb5N7m176xQYmOPoLymYaK/X65/PNhlagE6LGUhfRM8FjNzuf/73//bHmInzoJEpjMyeWpp9RzGz/PT6+QvMNO2Q+67PPeYZY5h7jDVg5OM+/BGikd13JfDAj/Ad1WLMyEyUwKPT00ypN1GKAljQJtFiFgqRe86eYhbWIvPPPR5d+9pKiIgUwKNJdHXBvW9jyRye1EWLWYfnJcd141Byspizz7gbUyWDuqiW0v15D9g3ZgF86JwyKUgUHJaATUmS5rsEdkkTZLjZS8Alw+skFr8Nl6H6uosShaKOp3Zo+/jgFTDe+wcSfv0yFGfQaLX7tDO0reXOPRuMCG4Q11Y3IiYblWgzS7R+h31qdRtlGB7zikeUckz+AB3a8FuMqD7Cd2nhUHLOEIkLubQIkEuLxIdwEwUy3HyXxsbgPMJcGuGox+TSIugxuTQ+KHIaAS5N92eIIuMT5tJoPfHy5q9yKoXLelLuKRri0mjMQdhwTPw6Sv8pzKXhFyhNilEwkSCXRrnAnaPnJdyl0UrqXircpeHVglnv+62K4NJo3lFcGmWd79KO7OQoXAE8XNO6tIQGxj7fpfHTwk8RubQLWEGvgTNGKzj01fixunCMCCYcvSSlaFwUyKVx86J3bczpUR3zimq1LqdosAUbJF54ar+uk5Gju436mPTk8ZAXFdO93HRYTesUVgf3B+y0XdxLfdVputmfKp/iBtNjyl3c0kzUwtJIWewIPvAL9LOyWLsV9WAps3VRzh6hJBm3oOqsRKfHLGYzS/GP+iLBuBKdqkd+iWPkFZTHf4Em4us/uhI5qss/6zK5u8+AXpwAAAAASUVORK5CYII=\" alt=\"꽃\" width=\"47\" height=\"50\"> </a> <div class=\"service_info\"> <strong class=\"title\">프로젝트 꽃</strong> <a href=\"https://search.naver.com/search.naver?where=nexearch&sm=top_hty&fbm=1&ie=utf8&query=%ED%94%84%EB%A1%9C%EC%A0%9D%ED%8A%B8%EA%BD%83\" class=\"dsc\" data-clk=\"link\">바로가기</a> </div> </div> </div> </div> <div class=\"corp_area\" data-clk-prefix=\"plc\"> <h3 class=\"blind\">네이버 정책 및 약관</h3> <ul class=\"list_corp\"> <li class=\"corp_item\"><a href=\"https://www.navercorp.com\" data-clk=\"intronhn\">회사소개</a></li> <li class=\"corp_item\"><a href=\"https://recruit.navercorp.com/naver/recruitMain\" data-clk=\"recruit\">인재채용</a></li> <li class=\"corp_item\"><a href=\"https://www.navercorp.com/naver/proposalGuide\" data-clk=\"contact\">제휴제안</a></li> <li class=\"corp_item\"><a href=\"/policy/service.html\" data-clk=\"service\">이용약관</a></li> <li class=\"corp_item\"><a href=\"/policy/privacy.html\" data-clk=\"privacy\"><strong>개인정보처리방침</strong></a></li> <li class=\"corp_item\"><a href=\"/policy/youthpolicy.html\" data-clk=\"youth\">청소년보호정책</a></li> <li class=\"corp_item\"><a href=\"/policy/spamcheck.html\" data-clk=\"policy\">네이버 정책</a></li> <li class=\"corp_item\"><a href=\"https://help.naver.com/\" data-clk=\"helpcenter\">고객센터</a></li> </ul> <address class=\"addr\"><a href=\"https://www.navercorp.com\" target=\"_blank\" data-clk=\"nhn\">ⓒ NAVER Corp.</a></address> </div> </div> </div> </div> <div id=\"adscript\" style=\"display:none\"></div> </body> </html>\\n'"
      ]
     },
     "execution_count": 79,
     "metadata": {},
     "output_type": "execute_result"
    }
   ],
   "source": [
    "import requests\n",
    "resp=requests.get(\"http://naver.com\")\n",
    "resp.text"
   ]
  },
  {
   "cell_type": "code",
   "execution_count": 80,
   "metadata": {},
   "outputs": [],
   "source": [
    "import math"
   ]
  },
  {
   "cell_type": "code",
   "execution_count": 81,
   "metadata": {},
   "outputs": [
    {
     "data": {
      "text/plain": [
       "3.141592653589793"
      ]
     },
     "execution_count": 81,
     "metadata": {},
     "output_type": "execute_result"
    }
   ],
   "source": [
    "math.pi"
   ]
  },
  {
   "cell_type": "code",
   "execution_count": 82,
   "metadata": {},
   "outputs": [
    {
     "data": {
      "text/plain": [
       "0.8623188722876839"
      ]
     },
     "execution_count": 82,
     "metadata": {},
     "output_type": "execute_result"
    }
   ],
   "source": [
    "math.cos(100)"
   ]
  },
  {
   "cell_type": "code",
   "execution_count": 84,
   "metadata": {},
   "outputs": [],
   "source": [
    "# 특정한 부분마 import\n",
    "from math import pi\n",
    "from math import cos \n",
    "#math. 안써도 됨"
   ]
  },
  {
   "cell_type": "code",
   "execution_count": 85,
   "metadata": {},
   "outputs": [
    {
     "data": {
      "text/plain": [
       "2.718281828459045"
      ]
     },
     "execution_count": 85,
     "metadata": {},
     "output_type": "execute_result"
    }
   ],
   "source": [
    "from math import *\n",
    "#모든 함수 math. 사용안해도 됨->사용을 안하는걸 지향(다른 module의 함수이름과 겹칠 수 있다.)\n",
    "e"
   ]
  },
  {
   "cell_type": "code",
   "execution_count": 86,
   "metadata": {},
   "outputs": [
    {
     "data": {
      "text/plain": [
       "20.085536923187668"
      ]
     },
     "execution_count": 86,
     "metadata": {},
     "output_type": "execute_result"
    }
   ],
   "source": [
    "import math as m # 별명 주기\n",
    "m.exp(3)"
   ]
  },
  {
   "cell_type": "markdown",
   "metadata": {},
   "source": [
    "## class와 object\n",
    "-틀과 찍어낸 물체"
   ]
  },
  {
   "cell_type": "code",
   "execution_count": 87,
   "metadata": {},
   "outputs": [
    {
     "name": "stdout",
     "output_type": "stream",
     "text": [
      "[1, 2, 3, 4, 5]\n"
     ]
    }
   ],
   "source": [
    "a=[1,2,3,4]\n",
    "a.append(5)\n",
    "print(a)"
   ]
  },
  {
   "cell_type": "markdown",
   "metadata": {},
   "source": [
    "### class선언하기"
   ]
  },
  {
   "cell_type": "code",
   "execution_count": 89,
   "metadata": {},
   "outputs": [],
   "source": [
    "class person:\n",
    "    pass #pass를 하면 문법적으로 오류를 생성시키지 않고 실행"
   ]
  },
  {
   "cell_type": "code",
   "execution_count": 91,
   "metadata": {},
   "outputs": [
    {
     "name": "stdout",
     "output_type": "stream",
     "text": [
      "<class '__main__.person'> <class 'list'>\n"
     ]
    }
   ],
   "source": [
    "bob=person()\n",
    "cathy=person()\n",
    "a=list()\n",
    "b=list()\n",
    "print(type(bob),type(a))"
   ]
  },
  {
   "cell_type": "code",
   "execution_count": 93,
   "metadata": {},
   "outputs": [
    {
     "name": "stdout",
     "output_type": "stream",
     "text": [
      "<__main__.person object at 0x000001FB33816710> is generated\n",
      "jason 20\n"
     ]
    }
   ],
   "source": [
    "class person:\n",
    "    def __init__(self):\n",
    "        print(self,'is generated')\n",
    "        self.name='kate'\n",
    "        self.age=10\n",
    "p1=person()\n",
    "p1.name='jason'\n",
    "p1.age=20\n",
    "print(p1.name,p1.age)"
   ]
  },
  {
   "cell_type": "code",
   "execution_count": 99,
   "metadata": {},
   "outputs": [
    {
     "name": "stdout",
     "output_type": "stream",
     "text": [
      "jason 30\n",
      "park 10\n"
     ]
    }
   ],
   "source": [
    "class person:\n",
    "    def __init__(self,name='park',age=10):\n",
    "        #print(self,'is generated')\n",
    "        self.name=name#관례적으로 파라미터랑 객체의 변수랑 같게 한다.\n",
    "        self.age=age\n",
    "p1=person('jason',30)\n",
    "print(p1.name,p1.age)\n",
    "p2=person()\n",
    "print(p2.name,p2.age)"
   ]
  },
  {
   "cell_type": "code",
   "execution_count": 103,
   "metadata": {},
   "outputs": [
    {
     "name": "stdout",
     "output_type": "stream",
     "text": [
      "<__main__.person object at 0x000001FB33822CC0>\n",
      "<__main__.person object at 0x000001FB33822CC0>\n",
      "jason 은잠을 잡니다.\n"
     ]
    }
   ],
   "source": [
    "class person:\n",
    "    def __init__(self,name,age):#self는 객체 그 자체\n",
    "        self.name=name\n",
    "        self.age=age\n",
    "    def sleep(self):\n",
    "        print(self)\n",
    "        print(self.name,'은잠을 잡니다.')\n",
    "a=person('jason',20)\n",
    "\n",
    "print(a)\n",
    "\n",
    "a.sleep()"
   ]
  },
  {
   "cell_type": "code",
   "execution_count": 112,
   "metadata": {},
   "outputs": [
    {
     "name": "stdout",
     "output_type": "stream",
     "text": [
      "<__main__.counter object at 0x000001FB33829A90> 현재값은 2\n",
      "<__main__.counter object at 0x000001FB33829AC8> 현재값은 1\n"
     ]
    }
   ],
   "source": [
    "class counter:\n",
    "    def __init__(self):\n",
    "        self.num=0\n",
    "    def increment(self):\n",
    "        self.num+=1\n",
    "    def reset(self):\n",
    "        self.num=0\n",
    "    def print_value(self):\n",
    "        print(self,'현재값은',self.num)\n",
    "c1=counter()\n",
    "c1.increment()\n",
    "c1.increment()\n",
    "c2=counter()\n",
    "c2.increment()\n",
    "c1.print_value()\n",
    "c2.print_value()\n"
   ]
  },
  {
   "cell_type": "code",
   "execution_count": 114,
   "metadata": {},
   "outputs": [
    {
     "data": {
      "text/plain": [
       "30"
      ]
     },
     "execution_count": 114,
     "metadata": {},
     "output_type": "execute_result"
    }
   ],
   "source": [
    "#instance가 필요없는 경우-> object(instance)생성필요 x\n",
    "class math:\n",
    "    @staticmethod\n",
    "    def add(a,b):\n",
    "        return a+b\n",
    "    @staticmethod\n",
    "    def multiply(a,b):\n",
    "        return a*b\n",
    "math.add(10,20)"
   ]
  },
  {
   "cell_type": "code",
   "execution_count": 153,
   "metadata": {},
   "outputs": [
    {
     "name": "stdout",
     "output_type": "stream",
     "text": [
      "3,4\n",
      "(3,4)\n",
      "(8,10)\n",
      "(3,4)\n"
     ]
    },
    {
     "data": {
      "text/plain": [
       "25"
      ]
     },
     "execution_count": 153,
     "metadata": {},
     "output_type": "execute_result"
    }
   ],
   "source": [
    "from math import sqrt\n",
    "class point:\n",
    "    def __init__(self,x,y):\n",
    "        self.x=x\n",
    "        self.y=y\n",
    "    def print_pt(self):\n",
    "        print('{},{}'.format(self.x,self.y))\n",
    "    def __str__(self): #print 함수 overwritting\n",
    "        return '({},{})'.format(self.x,self.y)\n",
    "    def add(self,pt):\n",
    "        new_x=self.x+pt.x\n",
    "        new_y=self.y+pt.y\n",
    "        return point(new_x,new_y)\n",
    "    def __add__(self,pt): #+\n",
    "        new_x=self.x+pt.x\n",
    "        new_y=self.y+pt.y\n",
    "        return point(new_x,new_y)\n",
    "    def __sub__(self,pt): #-\n",
    "        new_x=self.x-pt.x\n",
    "        new_y=self.y-pt.y\n",
    "        return point(new_x,new_y)\n",
    "    def __mul__(self,factor): #*\n",
    "        new_x=self.x*factor\n",
    "        new_y=self.y*factor\n",
    "        return point(new_x,new_y)\n",
    "    def __len__(self): \n",
    "        return self.x**2+self.y**2\n",
    "    def __getitem__(self,index): #[]\n",
    "        if index==0:\n",
    "            return self.x\n",
    "        elif index==1:\n",
    "            return self.y\n",
    "        else: \n",
    "            return False\n",
    "p1=point(3,4) \n",
    "p1.print_pt()\n",
    "p2=point(5,6)\n",
    "print(p1)\n",
    "p3=p1.add(p2)\n",
    "print(p3)\n",
    "print(p3-p2)\n",
    "p3[1]\n",
    "len(p1)"
   ]
  },
  {
   "cell_type": "code",
   "execution_count": 154,
   "metadata": {},
   "outputs": [
    {
     "name": "stdout",
     "output_type": "stream",
     "text": [
      "3+5j\n",
      "-4+7j\n",
      "12+18j\n",
      "2.23606797749979\n"
     ]
    }
   ],
   "source": [
    "from math import sqrt\n",
    "class ComplexNumber:\n",
    "    def __init__(self,real,img):\n",
    "        self.real=real\n",
    "        self.img=img\n",
    "    def __str__(self):\n",
    "        if self.img>=0:\n",
    "            return '{}+{}j'.format(self.real,self.img)\n",
    "        else: \n",
    "            return '{}-{}j'.format(self.real,abs(self.img))\n",
    "    def __add__(self,cn):\n",
    "        return ComplexNumber(self.real+cn.real,self.img+cn.img)\n",
    "    def __sub__(self,cn):\n",
    "        return ComplexNumber(self.real-cn.real,self.img-cn.img)\n",
    "    def __mul__(self,x):\n",
    "        if type(x)==int:\n",
    "            return ComplexNumber(self.real*x,self.img*x)\n",
    "        elif type(x)==ComplexNumber:\n",
    "            return ComplexNumber(self.real*x.real-self.img*x.img,self.real*x.img+self.img*x.real)\n",
    "        return ComplexNumber(self.real+cn.real,self.img+cn.img)\n",
    "    def __eq__(self,cn): #==\n",
    "        return self.real==cn.real and self.img==cn.img\n",
    "    def __ne__(self,cn): #!=\n",
    "        return not(self.real==cn.real and self.img==cn.img)\n",
    "    def __abs__(self):\n",
    "        return math.sqrt(self.real**2+self.img**2)\n",
    "a=ComplexNumber(1,2)\n",
    "b=ComplexNumber(2,3)\n",
    "print(a+b)\n",
    "print(a*b)\n",
    "print(b*6)\n",
    "print(abs(a))"
   ]
  },
  {
   "cell_type": "markdown",
   "metadata": {},
   "source": [
    "## 정규표현식 "
   ]
  },
  {
   "cell_type": "code",
   "execution_count": 158,
   "metadata": {},
   "outputs": [
    {
     "name": "stdout",
     "output_type": "stream",
     "text": [
      "abcdef\n",
      "\n",
      "abcdef\\n\n"
     ]
    }
   ],
   "source": [
    "a='abcdef\\n'\n",
    "print(a)\n",
    "b=r'abcdef\\n'\n",
    "print(b)"
   ]
  },
  {
   "cell_type": "code",
   "execution_count": 159,
   "metadata": {},
   "outputs": [],
   "source": [
    "import re"
   ]
  },
  {
   "cell_type": "code",
   "execution_count": 165,
   "metadata": {},
   "outputs": [
    {
     "name": "stdout",
     "output_type": "stream",
     "text": [
      "<_sre.SRE_Match object; span=(3, 6), match='abc'>\n",
      "3\n",
      "6\n",
      "abc\n"
     ]
    }
   ],
   "source": [
    "m=re.search(r'abc','123abcdef')\n",
    "print(m)\n",
    "print(m.start())\n",
    "print(m.end())\n",
    "print(m.group())"
   ]
  },
  {
   "cell_type": "code",
   "execution_count": 169,
   "metadata": {},
   "outputs": [
    {
     "data": {
      "text/plain": [
       "'112a'"
      ]
     },
     "execution_count": 169,
     "metadata": {},
     "output_type": "execute_result"
    }
   ],
   "source": [
    "# \\d는 숫자를 의미, \\w 문자 하나와 일지\n",
    "m=re.search(r'\\d\\d\\d\\w','112abcsda119')\n",
    "m.group()"
   ]
  },
  {
   "cell_type": "code",
   "execution_count": 172,
   "metadata": {},
   "outputs": [
    {
     "data": {
      "text/plain": [
       "'%#AB'"
      ]
     },
     "execution_count": 172,
     "metadata": {},
     "output_type": "execute_result"
    }
   ],
   "source": [
    "#.은 아무 문자 하나를 의미\n",
    "m=re.search(r'..\\w\\w','#@%@#%@%#ABCDseff')\n",
    "m.group()"
   ]
  },
  {
   "cell_type": "code",
   "execution_count": 176,
   "metadata": {},
   "outputs": [
    {
     "data": {
      "text/plain": [
       "'cat'"
      ]
     },
     "execution_count": 176,
     "metadata": {},
     "output_type": "execute_result"
    }
   ],
   "source": [
    "#[a-d] -와 함께 사용되면 해당 문자 사이의 범위에 소학는 문자 중 하나 [a-zA-Z0-9] [^0-9] ,[afflna]중하나를 의미\n",
    "a=re.search(r'[cbm]at','cat')\n",
    "a.group()\n"
   ]
  },
  {
   "cell_type": "code",
   "execution_count": 180,
   "metadata": {},
   "outputs": [
    {
     "data": {
      "text/plain": [
       "'^aron'"
      ]
     },
     "execution_count": 180,
     "metadata": {},
     "output_type": "execute_result"
    }
   ],
   "source": [
    "re.search(r'[abc.^]aron','^aron').group()\n"
   ]
  },
  {
   "cell_type": "code",
   "execution_count": 184,
   "metadata": {},
   "outputs": [
    {
     "data": {
      "text/plain": [
       "'paron'"
      ]
     },
     "execution_count": 184,
     "metadata": {},
     "output_type": "execute_result"
    }
   ],
   "source": [
    "re.search(r'[^abc]aron','paron').group()"
   ]
  },
  {
   "cell_type": "markdown",
   "metadata": {},
   "source": [
    "\\D=숫자가 아닌 문자\n",
    "\\s=공백문자 \\S=공백이 아닌 문자\n",
    "\\w=알파뱃, 숫자 \\W=알파뱃, 숫자 제외 문자"
   ]
  },
  {
   "cell_type": "code",
   "execution_count": 191,
   "metadata": {},
   "outputs": [
    {
     "data": {
      "text/plain": [
       "'land'"
      ]
     },
     "execution_count": 191,
     "metadata": {},
     "output_type": "execute_result"
    }
   ],
   "source": [
    "re.search(r'\\Sand','apple land banana').group()"
   ]
  },
  {
   "cell_type": "code",
   "execution_count": 190,
   "metadata": {},
   "outputs": [
    {
     "data": {
      "text/plain": [
       "'.and'"
      ]
     },
     "execution_count": 190,
     "metadata": {},
     "output_type": "execute_result"
    }
   ],
   "source": [
    "re.search(r'\\.and','.and').group()"
   ]
  },
  {
   "cell_type": "markdown",
   "metadata": {},
   "source": [
    "- +한번이상의 패턴\n",
    "- *0번이상의 패턴 \n",
    "- ?0혹은 한 번의 패턴"
   ]
  },
  {
   "cell_type": "code",
   "execution_count": 195,
   "metadata": {},
   "outputs": [
    {
     "data": {
      "text/plain": [
       "'abcbdccb'"
      ]
     },
     "execution_count": 195,
     "metadata": {},
     "output_type": "execute_result"
    }
   ],
   "source": [
    "re.search(r'a[abcd]*b','abcbdccb').group() #찾은 패턴중 최대한 많은 부분이 매칭된것이 검색된다."
   ]
  },
  {
   "cell_type": "code",
   "execution_count": 196,
   "metadata": {},
   "outputs": [
    {
     "data": {
      "text/plain": [
       "<_sre.SRE_Match object; span=(0, 6), match='banana'>"
      ]
     },
     "execution_count": 196,
     "metadata": {},
     "output_type": "execute_result"
    }
   ],
   "source": [
    "re.search(r'b\\w+a','banana') #\\w가 한번이상"
   ]
  },
  {
   "cell_type": "code",
   "execution_count": 197,
   "metadata": {},
   "outputs": [
    {
     "data": {
      "text/plain": [
       "<_sre.SRE_Match object; span=(1, 3), match='ii'>"
      ]
     },
     "execution_count": 197,
     "metadata": {},
     "output_type": "execute_result"
    }
   ],
   "source": [
    "re.search(r'i+','piigiiii') #최대한 빨리 보이는 패턴"
   ]
  },
  {
   "cell_type": "code",
   "execution_count": 200,
   "metadata": {},
   "outputs": [
    {
     "ename": "AttributeError",
     "evalue": "'NoneType' object has no attribute 'group'",
     "output_type": "error",
     "traceback": [
      "\u001b[1;31m---------------------------------------------------------------------------\u001b[0m",
      "\u001b[1;31mAttributeError\u001b[0m                            Traceback (most recent call last)",
      "\u001b[1;32m<ipython-input-200-976da2034933>\u001b[0m in \u001b[0;36m<module>\u001b[1;34m\u001b[0m\n\u001b[1;32m----> 1\u001b[1;33m \u001b[0mre\u001b[0m\u001b[1;33m.\u001b[0m\u001b[0msearch\u001b[0m\u001b[1;33m(\u001b[0m\u001b[1;34mr'pi+g'\u001b[0m\u001b[1;33m,\u001b[0m\u001b[1;34m'pg'\u001b[0m\u001b[1;33m)\u001b[0m\u001b[1;33m.\u001b[0m\u001b[0mgroup\u001b[0m\u001b[1;33m(\u001b[0m\u001b[1;33m)\u001b[0m\u001b[1;33m\u001b[0m\u001b[1;33m\u001b[0m\u001b[0m\n\u001b[0m",
      "\u001b[1;31mAttributeError\u001b[0m: 'NoneType' object has no attribute 'group'"
     ]
    }
   ],
   "source": [
    "re.search(r'pi+g','pg').group()"
   ]
  },
  {
   "cell_type": "code",
   "execution_count": 201,
   "metadata": {},
   "outputs": [
    {
     "data": {
      "text/plain": [
       "'pg'"
      ]
     },
     "execution_count": 201,
     "metadata": {},
     "output_type": "execute_result"
    }
   ],
   "source": [
    "re.search(r'pi*g','pg').group()"
   ]
  },
  {
   "cell_type": "code",
   "execution_count": 203,
   "metadata": {},
   "outputs": [
    {
     "data": {
      "text/plain": [
       "'https'"
      ]
     },
     "execution_count": 203,
     "metadata": {},
     "output_type": "execute_result"
    }
   ],
   "source": [
    "re.search(r'https?','https//www.naver.com').group() #s는 잇던가 한 번 잇던가"
   ]
  },
  {
   "cell_type": "code",
   "execution_count": 204,
   "metadata": {},
   "outputs": [
    {
     "data": {
      "text/plain": [
       "'bana'"
      ]
     },
     "execution_count": 204,
     "metadata": {},
     "output_type": "execute_result"
    }
   ],
   "source": [
    "re.search(r'b\\w+a','cabana').group()"
   ]
  },
  {
   "cell_type": "code",
   "execution_count": 206,
   "metadata": {},
   "outputs": [
    {
     "data": {
      "text/plain": [
       "'babana'"
      ]
     },
     "execution_count": 206,
     "metadata": {},
     "output_type": "execute_result"
    }
   ],
   "source": [
    "#re.search(r'^b\\w+a','cabana').group() #^붙이면 문자열의 맨 앞 부터 일치하는 것을 찾는다\n",
    "re.search(r'^b\\w+a','babana').group()"
   ]
  },
  {
   "cell_type": "code",
   "execution_count": 208,
   "metadata": {},
   "outputs": [
    {
     "data": {
      "text/plain": [
       "'babana'"
      ]
     },
     "execution_count": 208,
     "metadata": {},
     "output_type": "execute_result"
    }
   ],
   "source": [
    "#re.search(r'b\\w+a$','babanap').group() #$붙이면 문자열의 맨 뒤 부터 일치하는 것을 찾는다\n",
    "re.search(r'b\\w+a$','babana').group()"
   ]
  },
  {
   "cell_type": "code",
   "execution_count": 224,
   "metadata": {},
   "outputs": [
    {
     "name": "stdout",
     "output_type": "stream",
     "text": [
      "test\n",
      "naver.com\n",
      "test@naver.com\n"
     ]
    }
   ],
   "source": [
    "m=re.search(r'(\\w+)@(.+)','test@naver.com')\n",
    "print(m.group(1))\n",
    "print(m.group(2))\n",
    "print(m.group(0)) #원하는 부분 소괄호로 묶어서 grouping 그리고 group(0)하면 찾은 정규식 전체"
   ]
  },
  {
   "cell_type": "code",
   "execution_count": null,
   "metadata": {},
   "outputs": [],
   "source": []
  }
 ],
 "metadata": {
  "kernelspec": {
   "display_name": "Python 3",
   "language": "python",
   "name": "python3"
  },
  "language_info": {
   "codemirror_mode": {
    "name": "ipython",
    "version": 3
   },
   "file_extension": ".py",
   "mimetype": "text/x-python",
   "name": "python",
   "nbconvert_exporter": "python",
   "pygments_lexer": "ipython3",
   "version": "3.6.10"
  }
 },
 "nbformat": 4,
 "nbformat_minor": 4
}
