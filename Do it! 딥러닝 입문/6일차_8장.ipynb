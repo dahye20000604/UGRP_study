{
 "cells": [
  {
   "cell_type": "code",
   "execution_count": 1,
   "metadata": {
    "id": "Xxce-m0pGl0j"
   },
   "outputs": [],
   "source": [
    "# 합성곱 구현하기\n",
    "import numpy as np\n",
    "w = np.array([2,1,5,3])\n",
    "x = np.array([2,8,3,7,1,2,0,4,5])"
   ]
  },
  {
   "cell_type": "code",
   "execution_count": 2,
   "metadata": {
    "colab": {
     "base_uri": "https://localhost:8080/"
    },
    "id": "24Xca5RGGvWA",
    "outputId": "a4dfe0e6-e010-4615-cbd2-37253fa952b8"
   },
   "outputs": [
    {
     "name": "stdout",
     "output_type": "stream",
     "text": [
      "[3 5 1 2]\n"
     ]
    }
   ],
   "source": [
    "w_r=np.flip(w)\n",
    "print(w_r)"
   ]
  },
  {
   "cell_type": "code",
   "execution_count": 3,
   "metadata": {
    "colab": {
     "base_uri": "https://localhost:8080/"
    },
    "id": "r4MvGWNoGx_f",
    "outputId": "55876464-d02e-4bce-c282-49171f74f5c1"
   },
   "outputs": [
    {
     "name": "stdout",
     "output_type": "stream",
     "text": [
      "[3 5 1 2]\n"
     ]
    }
   ],
   "source": [
    "w_r=w[::-1]\n",
    "print(w_r)"
   ]
  },
  {
   "cell_type": "code",
   "execution_count": 4,
   "metadata": {
    "colab": {
     "base_uri": "https://localhost:8080/"
    },
    "id": "D-JeYLgAG2_i",
    "outputId": "701f354e-2215-4bd9-8668-8e287e2ac8e9"
   },
   "outputs": [
    {
     "name": "stdout",
     "output_type": "stream",
     "text": [
      "63\n",
      "48\n",
      "49\n",
      "28\n",
      "21\n",
      "20\n"
     ]
    }
   ],
   "source": [
    "for i in range(6):\n",
    "  print(np.dot(x[i:i+4], w_r))"
   ]
  },
  {
   "cell_type": "code",
   "execution_count": 5,
   "metadata": {
    "colab": {
     "base_uri": "https://localhost:8080/"
    },
    "id": "i0E-rO7jHH-y",
    "outputId": "fecae532-6103-404a-f58b-848299ca0695"
   },
   "outputs": [
    {
     "data": {
      "text/plain": [
       "array([63, 48, 49, 28, 21, 20])"
      ]
     },
     "execution_count": 5,
     "metadata": {},
     "output_type": "execute_result"
    }
   ],
   "source": [
    "from scipy.signal import convolve\n",
    "convolve(x,w, mode='valid')"
   ]
  },
  {
   "cell_type": "code",
   "execution_count": 6,
   "metadata": {
    "colab": {
     "base_uri": "https://localhost:8080/"
    },
    "id": "r7ZNF67YHQCi",
    "outputId": "d9554f95-27e2-4976-f3a3-4045a3d440a8"
   },
   "outputs": [
    {
     "data": {
      "text/plain": [
       "array([48, 57, 24, 25, 16, 39])"
      ]
     },
     "execution_count": 6,
     "metadata": {},
     "output_type": "execute_result"
    }
   ],
   "source": [
    "from scipy.signal import correlate\n",
    "correlate(x,w,mode='valid')"
   ]
  },
  {
   "cell_type": "markdown",
   "metadata": {
    "id": "GRx25JfqJMQA"
   },
   "source": [
    "# 패딩\n",
    "- 원본 배열의 양 끝에 빈 원소를 추가하는 것\n",
    "\n",
    "# 스트라이드\n",
    "- 미끄러지는 배열의 간격을 조절하는 것\n",
    "\n",
    "### 밸리드 패딩 : 원본 배열의 원소가 합성곱 연산에 참여하는 정도가 다름\n",
    "### 풀 패딩 : 원본 배열 원소의 연산 참여도를 동일하게 만듬\n",
    "### 세임 패딩 : 출력 배열의 길이를 원본 배열의 길이와 동일하게 만듬"
   ]
  },
  {
   "cell_type": "code",
   "execution_count": 7,
   "metadata": {
    "colab": {
     "base_uri": "https://localhost:8080/"
    },
    "id": "lvxIUtrzHW1e",
    "outputId": "c39a6916-38d8-41f7-f368-e58aaa9094c9"
   },
   "outputs": [
    {
     "data": {
      "text/plain": [
       "array([ 6, 34, 51, 48, 57, 24, 25, 16, 39, 29, 13, 10])"
      ]
     },
     "execution_count": 7,
     "metadata": {},
     "output_type": "execute_result"
    }
   ],
   "source": [
    "correlate(x,w,mode='full')"
   ]
  },
  {
   "cell_type": "code",
   "execution_count": 8,
   "metadata": {
    "colab": {
     "base_uri": "https://localhost:8080/"
    },
    "id": "orpTrjBqJlms",
    "outputId": "1b55c005-3797-4a35-bd3b-7b764f09767a"
   },
   "outputs": [
    {
     "data": {
      "text/plain": [
       "array([34, 51, 48, 57, 24, 25, 16, 39, 29])"
      ]
     },
     "execution_count": 8,
     "metadata": {},
     "output_type": "execute_result"
    }
   ],
   "source": [
    "correlate(x,w,mode='same')"
   ]
  },
  {
   "cell_type": "code",
   "execution_count": 9,
   "metadata": {
    "colab": {
     "base_uri": "https://localhost:8080/"
    },
    "id": "9Ey8TBGNLLwb",
    "outputId": "7f7c1788-c4c8-419e-ef41-bc4f04b8726b"
   },
   "outputs": [
    {
     "data": {
      "text/plain": [
       "array([[ 2,  4],\n",
       "       [ 8, 10]])"
      ]
     },
     "execution_count": 9,
     "metadata": {},
     "output_type": "execute_result"
    }
   ],
   "source": [
    "x = np.array([[1,2,3],\n",
    "              [4,5,6],\n",
    "              [7,8,9]])\n",
    "w = np.array([[2,0],[0,0]])\n",
    "from scipy.signal import correlate2d\n",
    "correlate2d(x,w,mode='valid')"
   ]
  },
  {
   "cell_type": "code",
   "execution_count": 10,
   "metadata": {
    "colab": {
     "base_uri": "https://localhost:8080/"
    },
    "id": "mRcakUcVL2ua",
    "outputId": "69077c79-ced8-482e-b183-64711eb48dea"
   },
   "outputs": [
    {
     "data": {
      "text/plain": [
       "array([[ 2,  4,  6],\n",
       "       [ 8, 10, 12],\n",
       "       [14, 16, 18]])"
      ]
     },
     "execution_count": 10,
     "metadata": {},
     "output_type": "execute_result"
    }
   ],
   "source": [
    "correlate2d(x,w,mode='same')"
   ]
  },
  {
   "cell_type": "code",
   "execution_count": 11,
   "metadata": {
    "id": "yXcT_Zb2L-eL"
   },
   "outputs": [],
   "source": [
    "# 텐서플로로 합성곱을 수행합니다.\n",
    "import tensorflow as tf\n",
    "x_4d=x.astype(np.float).reshape(1,3,3,1)\n",
    "w_4d=w.reshape(2,2,1,1)"
   ]
  },
  {
   "cell_type": "code",
   "execution_count": 12,
   "metadata": {
    "id": "uN1rpvBKNbST"
   },
   "outputs": [],
   "source": [
    "c_out=tf.nn.conv2d(x_4d,w_4d,strides=1,padding='SAME')"
   ]
  },
  {
   "cell_type": "code",
   "execution_count": 13,
   "metadata": {
    "colab": {
     "base_uri": "https://localhost:8080/"
    },
    "id": "nx8TDJiVNkaR",
    "outputId": "50707729-1efd-4a5a-aec1-58a1bd531941"
   },
   "outputs": [
    {
     "data": {
      "text/plain": [
       "array([[ 2.,  4.,  6.],\n",
       "       [ 8., 10., 12.],\n",
       "       [14., 16., 18.]])"
      ]
     },
     "execution_count": 13,
     "metadata": {},
     "output_type": "execute_result"
    }
   ],
   "source": [
    "c_out.numpy().reshape(3,3)"
   ]
  },
  {
   "cell_type": "markdown",
   "metadata": {
    "id": "YIZjT5NKQAzo"
   },
   "source": [
    "# 풀링\n",
    "- 특성 맵을 스캔하여 최댓값을 고르거나 평균값을 계산하는 것\n",
    "- 최대 풀링, 평균 풀링\n"
   ]
  },
  {
   "cell_type": "code",
   "execution_count": 14,
   "metadata": {
    "id": "itrU-IDCNqMc"
   },
   "outputs": [],
   "source": [
    "# 최대 풀링과 평균 풀링을 수행합니다.\n",
    "x = np.array([[1,2,3,4],\n",
    "              [5,6,7,8],\n",
    "              [9,10,11,12],\n",
    "              [13,14,15,16]])\n",
    "\n",
    "x = x.reshape(1,4,4,1)"
   ]
  },
  {
   "cell_type": "code",
   "execution_count": 15,
   "metadata": {
    "colab": {
     "base_uri": "https://localhost:8080/"
    },
    "id": "VqOXxeKVQqMv",
    "outputId": "8c51a18d-07cf-44e1-d1bd-26d7bd66973d"
   },
   "outputs": [
    {
     "data": {
      "text/plain": [
       "array([[ 6.,  8.],\n",
       "       [14., 16.]], dtype=float32)"
      ]
     },
     "execution_count": 15,
     "metadata": {},
     "output_type": "execute_result"
    }
   ],
   "source": [
    "p_out=tf.nn.max_pool2d(x,ksize=2,strides=2,padding='VALID')\n",
    "p_out.numpy().reshape(2,2)"
   ]
  },
  {
   "cell_type": "code",
   "execution_count": 16,
   "metadata": {},
   "outputs": [],
   "source": [
    "def relu(x):\n",
    "  return np.maximum(x,0)"
   ]
  },
  {
   "cell_type": "code",
   "execution_count": 17,
   "metadata": {},
   "outputs": [
    {
     "data": {
      "text/plain": [
       "array([0, 2, 0, 4, 0])"
      ]
     },
     "execution_count": 17,
     "metadata": {},
     "output_type": "execute_result"
    }
   ],
   "source": [
    "x=np.array([-1,2,-3,4,-5])\n",
    "relu(x)"
   ]
  },
  {
   "cell_type": "code",
   "execution_count": 18,
   "metadata": {},
   "outputs": [
    {
     "data": {
      "text/plain": [
       "array([0, 2, 0, 4, 0])"
      ]
     },
     "execution_count": 18,
     "metadata": {},
     "output_type": "execute_result"
    }
   ],
   "source": [
    "r_out=tf.nn.relu(x)\n",
    "r_out.numpy()"
   ]
  },
  {
   "cell_type": "code",
   "execution_count": null,
   "metadata": {},
   "outputs": [],
   "source": [
    "x=tf.Variable(np.array[1.0,2.0,3.0])\n",
    "with tf.GradientTape() as tape:\n",
    "    y = x**3 + 2*x + 5\n",
    "\n",
    "# 그레디언트를 계산합니다.\n",
    "print(tape.gradient(y,x))"
   ]
  },
  {
   "cell_type": "code",
   "execution_count": 20,
   "metadata": {},
   "outputs": [],
   "source": [
    "# 합성곱 신경망의 역방향 계산 구현하기\n",
    "def training(self, x,y):\n",
    "    m = len(x)               # 샘플 개수를 저장합니다.\n",
    "    with tf.GradientTape() as tape:\n",
    "        z=self.forpass(x)    # 정방향 계산을 수행합니다.\n",
    "        # 손실을 계산합니다.\n",
    "        loss = tf.nn.softmax_cross_entropy_with_logits(y,z)\n",
    "        loss = tf.reduce_mean(loss)\n",
    "    weights_list=[self.conv_w,self.conv_b,\n",
    "                             self.w1, self.b1, self.w2, self.b2]\n",
    "    # 가중치에 대한 그레디언트를 계산합니다.\n",
    "    grads = tape.gradient(loss, weights_list)\n",
    "    # 가중치를 업데이트합니다.\n",
    "    self.optimizer.apply_gradients(zip(grads, weights_list))"
   ]
  },
  {
   "cell_type": "code",
   "execution_count": 21,
   "metadata": {},
   "outputs": [],
   "source": [
    "# 옵티마이저 객체를 만들어 가중치 초기화하기\n",
    "def fit(self, x, y, epochs=100, x_val=None, y_val=None):\n",
    "    self.init_weights(x.shape, y.shape[1])    # 은닉층과 출력층의 가중치를 초기화합니다.\n",
    "    self.optimizer = tf.optimizers.SGD(learning_rate=self.lr)\n",
    "    # epochs만큼 반복합니다.\n",
    "    for i in range(epochs):\n",
    "        print('에포크', i, end=' ')\n",
    "        # 제너레이터 함수에서 반환한 미니 배치를 순환합니다.\n",
    "        batch_losses=[]\n",
    "        for x_batch, y_batch in self.gen_batch(x,y):\n",
    "            print('.', end='')\n",
    "            # 제너레이터 함수에서 반환한 미니 배치를 순환합니다.\n",
    "            batch_losses=[]\n",
    "            for x_batch, y_batch in self.gen_batch(x,y):\n",
    "                print('.', end='')\n",
    "                self.training(x_batch, y_batch)\n",
    "                # 배치 손실을 기록합니다.\n",
    "                batch_losses.append(self.get_loss(x_batch, y_batch))\n",
    "            print()\n",
    "            # 배치 손실 평균 내어 훈련 손실값으로 저장합니다.\n",
    "            self.losses.append(np.mean(batch_losses))\n",
    "            # 검증 세트에 대한 손실을 계산합니다.\n",
    "            self.val_losses.append(self.get_loss(x_val, y_val))"
   ]
  },
  {
   "cell_type": "code",
   "execution_count": 22,
   "metadata": {},
   "outputs": [],
   "source": [
    "def init_weights(self, input_shape, n_classes):\n",
    "    g=tf.initializers.glorot_uniform()\n",
    "    self.conv_w=tf.Variable(g((3,3,1, self.n_kernels)))\n",
    "    self.conv_b=tf.Variable(np.zeros(self.n_kernels), dtype=float)\n",
    "    n_features=14*14*self.n_kernels\n",
    "    self.w1=tf.Variable(g((n_features, self.units)))      # (특성 개수, 은닉층의 크기)\n",
    "    self.b1=tf.Variable(np.zeros(self.units),dtype=float) # 은닉층의 크기\n",
    "    self.w2=tf.Variable(g(self.units, n_classes))         # (은닉층의 크기, 클래스 개수)\n",
    "    self.b2=tf.Variable(np.zeros(n_classes),dtype=float)  # 클래스 개수"
   ]
  },
  {
   "cell_type": "code",
   "execution_count": 23,
   "metadata": {
    "id": "glxDgAN8Q9oA"
   },
   "outputs": [],
   "source": [
    "class ConvolutionNetwork:\n",
    "    def __init__(self, n_kernels=10, units=10, batch_size=32, learning_rate=0.1):\n",
    "        self.n_kernels = n_kernels      # 합성곱의 커널 개수\n",
    "        self.kernel_size = 3            # 커널 크기\n",
    "        self.optimizer = None          # 옵티마이저\n",
    "        self.conv_w = None             # 합성곱층의 가중치\n",
    "        self.conv_b = None             # 합성곱층의 절편\n",
    "        self.units = units             # 은닉층의 뉴런 개수\n",
    "        self.batch_size = batch_size   # 배치 크기\n",
    "        self.w1 = None                # 은닉층의 가중치\n",
    "        self.b1 = None                # 은닉층의 절편\n",
    "        self.w2 = None                # 출력층의 가중치\n",
    "        self.b2 = None                # 출력층의 절편\n",
    "        self.a1 = None                # 은닉층의 활성화 출력\n",
    "        self.losses = []              # 훈련 손실\n",
    "        self.val_losses = []          # 검증 손실\n",
    "        self.lr = learning_rate       # 학습률\n",
    "    # 합성곱 신경망의 정방향 계산 구현하기\n",
    "    def forpass(self,x):\n",
    "        # 3X3 합성곱 연산을 수행합니다.\n",
    "        c_out = tf.nn.conv2d(x,self.conv_w, strides=1, padding='SAME') + self.conv_b\n",
    "        # 렐루 함수를 적용합니다.\n",
    "        r_out=tf.nn.relu(c_out)\n",
    "        # 2X2 최대 풀링을 적용합니다.\n",
    "        p_out=tf.nn.max_pool2d(r_out, ksize=2, strides=2, padding='VALID')\n",
    "        # 첫 번째 배치 차원을 제외하고 출력을 일렬로 펼칩니다.\n",
    "        f_out=tf.reshape(p_out, [x.shape[0],-1])\n",
    "        z1 = tf.matmul(f_out, self.w1)+self.b1  # 첫번째 층의 선형식을 계산합니다.\n",
    "        a1 = tf.nn.relu(z1)                      # 활성화 함수를 적용합니다.\n",
    "        z2 = tf.matmul(a1, self.w2) + self.b2   # 두번째 층의 선형식을 계산합니다.\n",
    "        return z2\n",
    "    def init_weights(self, input_shape, n_classes):\n",
    "        g=tf.initializers.glorot_uniform()\n",
    "        self.conv_w=tf.Variable(g((3,3,1, self.n_kernels)))\n",
    "        self.conv_b=tf.Variable(np.zeros(self.n_kernels), dtype=float)\n",
    "        n_features=14*14*self.n_kernels\n",
    "        self.w1=tf.Variable(g((n_features, self.units)))      # (특성 개수, 은닉층의 크기)\n",
    "        self.b1=tf.Variable(np.zeros(self.units),dtype=float) # 은닉층의 크기\n",
    "        self.w2=tf.Variable(g((self.units, n_classes)))         # (은닉층의 크기, 클래스 개수)\n",
    "        self.b2=tf.Variable(np.zeros(n_classes),dtype=float)  # 클래스 개수\n",
    "    # 옵티마이저 객체를 만들어 가중치 초기화하기\n",
    "    def fit(self, x, y, epochs=100, x_val=None, y_val=None):\n",
    "        self.init_weights(x.shape, y.shape[1])    # 은닉층과 출력층의 가중치를 초기화합니다.\n",
    "        self.optimizer = tf.optimizers.SGD(learning_rate=self.lr)\n",
    "        # epochs만큼 반복합니다.\n",
    "        for i in range(epochs):\n",
    "            print('에포크', i, end=' ')\n",
    "            # 제너레이터 함수에서 반환한 미니 배치를 순환합니다.\n",
    "            batch_losses=[]\n",
    "            for x_batch, y_batch in self.gen_batch(x,y):\n",
    "                print('.', end='')\n",
    "                self.training(x_batch, y_batch)\n",
    "                # 배치 손실을 기록합니다.\n",
    "                batch_losses.append(self.get_loss(x_batch, y_batch))\n",
    "            print()\n",
    "            # 배치 손실 평균 내어 훈련 손실값으로 저장합니다.\n",
    "            self.losses.append(np.mean(batch_losses))\n",
    "            # 검증 세트에 대한 손실을 계산합니다.\n",
    "            self.val_losses.append(self.get_loss(x_val, y_val))\n",
    "    # 미니 배치 제너레이터 함수\n",
    "    def gen_batch(self, x, y): \n",
    "        bins = len(x)//self.batch_size                     # 미니 배치 함수\n",
    "        indexes = np.random.permutation(np.arange(len(x))) # 인덱스를 섞습니다.\n",
    "        x = x[indexes]\n",
    "        y = y[indexes]\n",
    "        for i in range(bins):\n",
    "            start = self.batch_size*i\n",
    "            end = self.batch_size*(i+1)\n",
    "            yield x[start:end], y[start:end]              # batch_size만큼 슬라이싱하여 반환합니다.\n",
    "    # 합성곱 신경망의 역방향 계산 구현하기\n",
    "    def training(self, x,y):\n",
    "        m = len(x)               # 샘플 개수를 저장합니다.\n",
    "        with tf.GradientTape() as tape:\n",
    "            z=self.forpass(x)    # 정방향 계산을 수행합니다.\n",
    "            # 손실을 계산합니다.\n",
    "            loss = tf.nn.softmax_cross_entropy_with_logits(y,z)\n",
    "            loss = tf.reduce_mean(loss)\n",
    "        weights_list=[self.conv_w,self.conv_b,\n",
    "                                 self.w1, self.b1, self.w2, self.b2]\n",
    "        # 가중치에 대한 그레디언트를 계산합니다.\n",
    "        grads = tape.gradient(loss, weights_list)\n",
    "        # 가중치를 업데이트합니다.\n",
    "        self.optimizer.apply_gradients(zip(grads, weights_list))\n",
    "    def predict(self, x):\n",
    "        z = self.forpass(x)                 # 정방향 계산을 수행합니다.\n",
    "        return np.argmax(z.numpy(),axis=1) # 가장 큰 값의 인덱스를 반환합니다.\n",
    "    def score(self, x, y):\n",
    "        # 예측과 타깃 열 벡터를 비교하여 True의 비율을 반환합니다.\n",
    "        return np.mean(self.predict(x)==np.argmax(y,axis=1))\n",
    "    def get_loss(self,x,y):\n",
    "        z=self.forpass(x)                  # 정방향 계산을 수행합니다.\n",
    "        # 손실을 계산하여 저장합니다.\n",
    "        loss = tf.reduce_mean(tf.nn.softmax_cross_entropy_with_logits(y,z))\n",
    "        return loss.numpy()"
   ]
  },
  {
   "cell_type": "code",
   "execution_count": 24,
   "metadata": {},
   "outputs": [],
   "source": [
    "# 합성곱 신경망 훈련하기\n",
    "(x_train_all, y_train_all), (x_test, y_test) = tf.keras.datasets.fashion_mnist.load_data()"
   ]
  },
  {
   "cell_type": "code",
   "execution_count": 25,
   "metadata": {},
   "outputs": [],
   "source": [
    "from sklearn.model_selection import train_test_split\n",
    "x_train, x_val, y_train, y_val = train_test_split(x_train_all, y_train_all,\n",
    "                                                 stratify=y_train_all, test_size=0.2,\n",
    "                                                 random_state=42)"
   ]
  },
  {
   "cell_type": "code",
   "execution_count": 26,
   "metadata": {},
   "outputs": [],
   "source": [
    "y_train_encoded=tf.keras.utils.to_categorical(y_train)\n",
    "y_val_encoded=tf.keras.utils.to_categorical(y_val)"
   ]
  },
  {
   "cell_type": "code",
   "execution_count": 27,
   "metadata": {},
   "outputs": [],
   "source": [
    "x_train=x_train.reshape(-1,28,28,1)\n",
    "x_val = x_val.reshape(-1,28,28,1)"
   ]
  },
  {
   "cell_type": "code",
   "execution_count": 28,
   "metadata": {},
   "outputs": [
    {
     "data": {
      "text/plain": [
       "(48000, 28, 28, 1)"
      ]
     },
     "execution_count": 28,
     "metadata": {},
     "output_type": "execute_result"
    }
   ],
   "source": [
    "x_train.shape"
   ]
  },
  {
   "cell_type": "code",
   "execution_count": 29,
   "metadata": {},
   "outputs": [],
   "source": [
    "x_train = x_train/255\n",
    "x_val = x_val/255"
   ]
  },
  {
   "cell_type": "code",
   "execution_count": 30,
   "metadata": {},
   "outputs": [
    {
     "name": "stdout",
     "output_type": "stream",
     "text": [
      "에포크 0 .......................................................................................................................................................................................................................................................................................................................................................................................\n",
      "에포크 1 .......................................................................................................................................................................................................................................................................................................................................................................................\n",
      "에포크 2 .......................................................................................................................................................................................................................................................................................................................................................................................\n",
      "에포크 3 .......................................................................................................................................................................................................................................................................................................................................................................................\n",
      "에포크 4 .......................................................................................................................................................................................................................................................................................................................................................................................\n",
      "에포크 5 .......................................................................................................................................................................................................................................................................................................................................................................................\n",
      "에포크 6 .......................................................................................................................................................................................................................................................................................................................................................................................\n",
      "에포크 7 .......................................................................................................................................................................................................................................................................................................................................................................................\n",
      "에포크 8 .......................................................................................................................................................................................................................................................................................................................................................................................\n",
      "에포크 9 .......................................................................................................................................................................................................................................................................................................................................................................................\n",
      "에포크 10 .......................................................................................................................................................................................................................................................................................................................................................................................\n",
      "에포크 11 .......................................................................................................................................................................................................................................................................................................................................................................................\n",
      "에포크 12 .......................................................................................................................................................................................................................................................................................................................................................................................\n",
      "에포크 13 .......................................................................................................................................................................................................................................................................................................................................................................................\n",
      "에포크 14 .......................................................................................................................................................................................................................................................................................................................................................................................\n",
      "에포크 15 .......................................................................................................................................................................................................................................................................................................................................................................................\n",
      "에포크 16 .......................................................................................................................................................................................................................................................................................................................................................................................\n",
      "에포크 17 .......................................................................................................................................................................................................................................................................................................................................................................................\n",
      "에포크 18 .......................................................................................................................................................................................................................................................................................................................................................................................\n",
      "에포크 19 .......................................................................................................................................................................................................................................................................................................................................................................................\n"
     ]
    }
   ],
   "source": [
    "cn = ConvolutionNetwork(n_kernels=10, units=100, batch_size=128, learning_rate=0.01)\n",
    "cn.fit(x_train, y_train_encoded, x_val=x_val, y_val=y_val_encoded, epochs=20)"
   ]
  },
  {
   "cell_type": "code",
   "execution_count": 31,
   "metadata": {},
   "outputs": [
    {
     "data": {
      "image/png": "[encoded data removed]",
      "text/plain": [
       "<Figure size 432x288 with 1 Axes>"
      ]
     },
     "metadata": {
      "needs_background": "light"
     },
     "output_type": "display_data"
    }
   ],
   "source": [
    "import matplotlib.pyplot as plt\n",
    "plt.plot(cn.losses)\n",
    "plt.plot(cn.val_losses)\n",
    "plt.ylabel('loss')\n",
    "plt.xlabel('iteration')\n",
    "plt.legend(['train_loss','val_loss'])\n",
    "plt.show()"
   ]
  },
  {
   "cell_type": "code",
   "execution_count": 32,
   "metadata": {},
   "outputs": [
    {
     "data": {
      "text/plain": [
       "0.8749166666666667"
      ]
     },
     "execution_count": 32,
     "metadata": {},
     "output_type": "execute_result"
    }
   ],
   "source": [
    "cn.score(x_val, y_val_encoded)"
   ]
  },
  {
   "cell_type": "code",
   "execution_count": 34,
   "metadata": {},
   "outputs": [],
   "source": [
    "# 케라스로 합성곱 신경망 만들기\n",
    "from tensorflow.keras.layers import Conv2D, MaxPooling2D, Flatten, Dense"
   ]
  },
  {
   "cell_type": "code",
   "execution_count": 35,
   "metadata": {},
   "outputs": [],
   "source": [
    "conv1 = tf.keras.Sequential()\n",
    "conv1.add(Conv2D(10,(3,3),activation='relu',padding='same',input_shape=(28,28,1)))"
   ]
  },
  {
   "cell_type": "code",
   "execution_count": 36,
   "metadata": {},
   "outputs": [],
   "source": [
    "conv1.add(MaxPooling2D((2,2)))"
   ]
  },
  {
   "cell_type": "code",
   "execution_count": 37,
   "metadata": {},
   "outputs": [],
   "source": [
    "conv1.add(Flatten())"
   ]
  },
  {
   "cell_type": "code",
   "execution_count": 38,
   "metadata": {},
   "outputs": [],
   "source": [
    "conv1.add(Dense(100,activation='relu'))\n",
    "conv1.add(Dense(10,activation='softmax'))"
   ]
  },
  {
   "cell_type": "code",
   "execution_count": 39,
   "metadata": {},
   "outputs": [
    {
     "name": "stdout",
     "output_type": "stream",
     "text": [
      "Model: \"sequential\"\n",
      "_________________________________________________________________\n",
      "Layer (type)                 Output Shape              Param #   \n",
      "=================================================================\n",
      "conv2d (Conv2D)              (None, 28, 28, 10)        100       \n",
      "_________________________________________________________________\n",
      "max_pooling2d (MaxPooling2D) (None, 14, 14, 10)        0         \n",
      "_________________________________________________________________\n",
      "flatten (Flatten)            (None, 1960)              0         \n",
      "_________________________________________________________________\n",
      "dense (Dense)                (None, 100)               196100    \n",
      "_________________________________________________________________\n",
      "dense_1 (Dense)              (None, 10)                1010      \n",
      "=================================================================\n",
      "Total params: 197,210\n",
      "Trainable params: 197,210\n",
      "Non-trainable params: 0\n",
      "_________________________________________________________________\n"
     ]
    }
   ],
   "source": [
    "conv1.summary()"
   ]
  },
  {
   "cell_type": "code",
   "execution_count": 41,
   "metadata": {},
   "outputs": [
    {
     "name": "stdout",
     "output_type": "stream",
     "text": [
      "Epoch 1/20\n",
      "1500/1500 [==============================] - 5s 3ms/step - loss: 0.4496 - accuracy: 0.8402 - val_loss: 0.3398 - val_accuracy: 0.8807\n",
      "Epoch 2/20\n",
      "1500/1500 [==============================] - 4s 3ms/step - loss: 0.3033 - accuracy: 0.8893 - val_loss: 0.3023 - val_accuracy: 0.8900\n",
      "Epoch 3/20\n",
      "1500/1500 [==============================] - 5s 3ms/step - loss: 0.2610 - accuracy: 0.9037 - val_loss: 0.2705 - val_accuracy: 0.9031\n",
      "Epoch 4/20\n",
      "1500/1500 [==============================] - 5s 3ms/step - loss: 0.2319 - accuracy: 0.9135 - val_loss: 0.2508 - val_accuracy: 0.9111\n",
      "Epoch 5/20\n",
      "1500/1500 [==============================] - 5s 3ms/step - loss: 0.2072 - accuracy: 0.9225 - val_loss: 0.2531 - val_accuracy: 0.9113\n",
      "Epoch 6/20\n",
      "1500/1500 [==============================] - 5s 3ms/step - loss: 0.1843 - accuracy: 0.9311 - val_loss: 0.2521 - val_accuracy: 0.9134\n",
      "Epoch 7/20\n",
      "1500/1500 [==============================] - 5s 3ms/step - loss: 0.1646 - accuracy: 0.9389 - val_loss: 0.2559 - val_accuracy: 0.9131\n",
      "Epoch 8/20\n",
      "1500/1500 [==============================] - 5s 3ms/step - loss: 0.1471 - accuracy: 0.9460 - val_loss: 0.2567 - val_accuracy: 0.9145\n",
      "Epoch 9/20\n",
      "1500/1500 [==============================] - 5s 4ms/step - loss: 0.1332 - accuracy: 0.9503 - val_loss: 0.2738 - val_accuracy: 0.9137\n",
      "Epoch 10/20\n",
      "1500/1500 [==============================] - 5s 3ms/step - loss: 0.1167 - accuracy: 0.9567 - val_loss: 0.2823 - val_accuracy: 0.9148\n",
      "Epoch 11/20\n",
      "1500/1500 [==============================] - 5s 3ms/step - loss: 0.1051 - accuracy: 0.9617 - val_loss: 0.2924 - val_accuracy: 0.9136\n",
      "Epoch 12/20\n",
      "1500/1500 [==============================] - 5s 3ms/step - loss: 0.0933 - accuracy: 0.9650 - val_loss: 0.3033 - val_accuracy: 0.9119\n",
      "Epoch 13/20\n",
      "1500/1500 [==============================] - 5s 3ms/step - loss: 0.0841 - accuracy: 0.9691 - val_loss: 0.3227 - val_accuracy: 0.9107\n",
      "Epoch 14/20\n",
      "1500/1500 [==============================] - 5s 3ms/step - loss: 0.0717 - accuracy: 0.9738 - val_loss: 0.3323 - val_accuracy: 0.9107\n",
      "Epoch 15/20\n",
      "1500/1500 [==============================] - 5s 3ms/step - loss: 0.0652 - accuracy: 0.9765 - val_loss: 0.3397 - val_accuracy: 0.9133\n",
      "Epoch 16/20\n",
      "1500/1500 [==============================] - 5s 3ms/step - loss: 0.0585 - accuracy: 0.9791 - val_loss: 0.3810 - val_accuracy: 0.9058\n",
      "Epoch 17/20\n",
      "1500/1500 [==============================] - 5s 4ms/step - loss: 0.0504 - accuracy: 0.9821 - val_loss: 0.3628 - val_accuracy: 0.9122\n",
      "Epoch 18/20\n",
      "1500/1500 [==============================] - 5s 3ms/step - loss: 0.0447 - accuracy: 0.9846 - val_loss: 0.4097 - val_accuracy: 0.9103\n",
      "Epoch 19/20\n",
      "1500/1500 [==============================] - 5s 4ms/step - loss: 0.0408 - accuracy: 0.9855 - val_loss: 0.4254 - val_accuracy: 0.9125\n",
      "Epoch 20/20\n",
      "1500/1500 [==============================] - 5s 3ms/step - loss: 0.0375 - accuracy: 0.9870 - val_loss: 0.4420 - val_accuracy: 0.9110\n"
     ]
    }
   ],
   "source": [
    "# 합성곱 신경망 모델 훈련하기\n",
    "conv1.compile(optimizer='adam',loss='categorical_crossentropy',metrics=['accuracy'])\n",
    "history=conv1.fit(x_train, y_train_encoded, epochs=20, validation_data=(x_val, y_val_encoded))"
   ]
  },
  {
   "cell_type": "code",
   "execution_count": 42,
   "metadata": {},
   "outputs": [
    {
     "data": {
      "image/png": "[encoded data removed]",
      "text/plain": [
       "<Figure size 432x288 with 1 Axes>"
      ]
     },
     "metadata": {
      "needs_background": "light"
     },
     "output_type": "display_data"
    },
    {
     "data": {
      "image/png": "[encoded data removed]",
      "text/plain": [
       "<Figure size 432x288 with 1 Axes>"
      ]
     },
     "metadata": {
      "needs_background": "light"
     },
     "output_type": "display_data"
    }
   ],
   "source": [
    "plt.plot(history.history['loss'])\n",
    "plt.plot(history.history['val_loss'])\n",
    "plt.ylabel('loss')\n",
    "plt.xlabel('epoch')\n",
    "plt.legend(['train_loss','val_loss'])\n",
    "plt.show()\n",
    "\n",
    "plt.plot(history.history['accuracy'])\n",
    "plt.plot(history.history['val_accuracy'])\n",
    "plt.ylabel('loss')\n",
    "plt.xlabel('epoch')\n",
    "plt.legend(['train_loss','val_loss'])\n",
    "plt.show()"
   ]
  },
  {
   "cell_type": "code",
   "execution_count": 45,
   "metadata": {},
   "outputs": [],
   "source": [
    "# 드롭아웃을 적용해 합성곱 신경망을 구현합니다.\n",
    "from tensorflow.keras.layers import Dropout\n",
    "conv2 = tf.keras.Sequential()\n",
    "conv2.add(Conv2D(10,(3,3),activation='relu',padding='same',input_shape=(28,28,1)))\n",
    "conv2.add(MaxPooling2D((2,2)))\n",
    "conv2.add(Flatten())\n",
    "conv2.add(Dropout(0.5))\n",
    "conv2.add(Dense(100,activation='relu'))\n",
    "conv2.add(Dense(10,activation='softmax'))"
   ]
  },
  {
   "cell_type": "code",
   "execution_count": 46,
   "metadata": {},
   "outputs": [
    {
     "name": "stdout",
     "output_type": "stream",
     "text": [
      "Model: \"sequential_3\"\n",
      "_________________________________________________________________\n",
      "Layer (type)                 Output Shape              Param #   \n",
      "=================================================================\n",
      "conv2d_3 (Conv2D)            (None, 28, 28, 10)        100       \n",
      "_________________________________________________________________\n",
      "max_pooling2d_2 (MaxPooling2 (None, 14, 14, 10)        0         \n",
      "_________________________________________________________________\n",
      "flatten_1 (Flatten)          (None, 1960)              0         \n",
      "_________________________________________________________________\n",
      "dropout (Dropout)            (None, 1960)              0         \n",
      "_________________________________________________________________\n",
      "dense_2 (Dense)              (None, 100)               196100    \n",
      "_________________________________________________________________\n",
      "dense_3 (Dense)              (None, 10)                1010      \n",
      "=================================================================\n",
      "Total params: 197,210\n",
      "Trainable params: 197,210\n",
      "Non-trainable params: 0\n",
      "_________________________________________________________________\n"
     ]
    }
   ],
   "source": [
    "conv2.summary()"
   ]
  },
  {
   "cell_type": "code",
   "execution_count": 47,
   "metadata": {},
   "outputs": [
    {
     "name": "stdout",
     "output_type": "stream",
     "text": [
      "Epoch 1/20\n",
      "1500/1500 [==============================] - 5s 4ms/step - loss: 0.5165 - accuracy: 0.8106 - val_loss: 0.3438 - val_accuracy: 0.8770\n",
      "Epoch 2/20\n",
      "1500/1500 [==============================] - 5s 4ms/step - loss: 0.3739 - accuracy: 0.8639 - val_loss: 0.3044 - val_accuracy: 0.8908\n",
      "Epoch 3/20\n",
      "1500/1500 [==============================] - 5s 4ms/step - loss: 0.3305 - accuracy: 0.8791 - val_loss: 0.2899 - val_accuracy: 0.8951\n",
      "Epoch 4/20\n",
      "1500/1500 [==============================] - 5s 4ms/step - loss: 0.3044 - accuracy: 0.8873 - val_loss: 0.2653 - val_accuracy: 0.9035\n",
      "Epoch 5/20\n",
      "1500/1500 [==============================] - 5s 4ms/step - loss: 0.2823 - accuracy: 0.8963 - val_loss: 0.2552 - val_accuracy: 0.9079\n",
      "Epoch 6/20\n",
      "1500/1500 [==============================] - 5s 4ms/step - loss: 0.2666 - accuracy: 0.9001 - val_loss: 0.2494 - val_accuracy: 0.9096\n",
      "Epoch 7/20\n",
      "1500/1500 [==============================] - 6s 4ms/step - loss: 0.2536 - accuracy: 0.9058 - val_loss: 0.2506 - val_accuracy: 0.9093\n",
      "Epoch 8/20\n",
      "1500/1500 [==============================] - 6s 4ms/step - loss: 0.2443 - accuracy: 0.9091 - val_loss: 0.2337 - val_accuracy: 0.9169\n",
      "Epoch 9/20\n",
      "1500/1500 [==============================] - 6s 4ms/step - loss: 0.2331 - accuracy: 0.9130 - val_loss: 0.2334 - val_accuracy: 0.9150\n",
      "Epoch 10/20\n",
      "1500/1500 [==============================] - 6s 4ms/step - loss: 0.2279 - accuracy: 0.9139 - val_loss: 0.2368 - val_accuracy: 0.9138\n",
      "Epoch 11/20\n",
      "1500/1500 [==============================] - 6s 4ms/step - loss: 0.2178 - accuracy: 0.9173 - val_loss: 0.2420 - val_accuracy: 0.9137\n",
      "Epoch 12/20\n",
      "1500/1500 [==============================] - 6s 4ms/step - loss: 0.2116 - accuracy: 0.9202 - val_loss: 0.2284 - val_accuracy: 0.9188\n",
      "Epoch 13/20\n",
      "1500/1500 [==============================] - 6s 4ms/step - loss: 0.2043 - accuracy: 0.9226 - val_loss: 0.2296 - val_accuracy: 0.9184\n",
      "Epoch 14/20\n",
      "1500/1500 [==============================] - 6s 4ms/step - loss: 0.2001 - accuracy: 0.9246 - val_loss: 0.2275 - val_accuracy: 0.9201\n",
      "Epoch 15/20\n",
      "1500/1500 [==============================] - 6s 4ms/step - loss: 0.1953 - accuracy: 0.9262 - val_loss: 0.2280 - val_accuracy: 0.9217\n",
      "Epoch 16/20\n",
      "1500/1500 [==============================] - 7s 4ms/step - loss: 0.1879 - accuracy: 0.9297 - val_loss: 0.2329 - val_accuracy: 0.9197\n",
      "Epoch 17/20\n",
      "1500/1500 [==============================] - 7s 5ms/step - loss: 0.1877 - accuracy: 0.9292 - val_loss: 0.2266 - val_accuracy: 0.9205\n",
      "Epoch 18/20\n",
      "1500/1500 [==============================] - 7s 5ms/step - loss: 0.1822 - accuracy: 0.9311 - val_loss: 0.2382 - val_accuracy: 0.9173\n",
      "Epoch 19/20\n",
      "1500/1500 [==============================] - 7s 5ms/step - loss: 0.1792 - accuracy: 0.9308 - val_loss: 0.2370 - val_accuracy: 0.9188\n",
      "Epoch 20/20\n",
      "1500/1500 [==============================] - 7s 5ms/step - loss: 0.1783 - accuracy: 0.9324 - val_loss: 0.2331 - val_accuracy: 0.9183\n"
     ]
    }
   ],
   "source": [
    "conv2.compile(optimizer='adam', loss='categorical_crossentropy',\n",
    "              metrics=['accuracy'])\n",
    "history=conv2.fit(x_train, y_train_encoded, epochs=20, validation_data=(x_val, y_val_encoded))"
   ]
  },
  {
   "cell_type": "code",
   "execution_count": 48,
   "metadata": {},
   "outputs": [
    {
     "data": {
      "image/png": "[encoded data removed]",
      "text/plain": [
       "<Figure size 432x288 with 1 Axes>"
      ]
     },
     "metadata": {
      "needs_background": "light"
     },
     "output_type": "display_data"
    },
    {
     "data": {
      "image/png": "[encoded data removed]",
      "text/plain": [
       "<Figure size 432x288 with 1 Axes>"
      ]
     },
     "metadata": {
      "needs_background": "light"
     },
     "output_type": "display_data"
    }
   ],
   "source": [
    "plt.plot(history.history['loss'])\n",
    "plt.plot(history.history['val_loss'])\n",
    "plt.ylabel('loss')\n",
    "plt.xlabel('epoch')\n",
    "plt.legend(['train_loss','val_loss'])\n",
    "plt.show()\n",
    "\n",
    "plt.plot(history.history['accuracy'])\n",
    "plt.plot(history.history['val_accuracy'])\n",
    "plt.ylabel('loss')\n",
    "plt.xlabel('epoch')\n",
    "plt.legend(['train_loss','val_loss'])\n",
    "plt.show()"
   ]
  },
  {
   "cell_type": "code",
   "execution_count": null,
   "metadata": {},
   "outputs": [],
   "source": []
  }
 ],
 "metadata": {
  "colab": {
   "name": "6일차_8장(Colab).ipynb",
   "provenance": []
  },
  "kernelspec": {
   "display_name": "Python 3",
   "language": "python",
   "name": "python3"
  },
  "language_info": {
   "codemirror_mode": {
    "name": "ipython",
    "version": 3
   },
   "file_extension": ".py",
   "mimetype": "text/x-python",
   "name": "python",
   "nbconvert_exporter": "python",
   "pygments_lexer": "ipython3",
   "version": "3.8.5"
  }
 },
 "nbformat": 4,
 "nbformat_minor": 1
}
