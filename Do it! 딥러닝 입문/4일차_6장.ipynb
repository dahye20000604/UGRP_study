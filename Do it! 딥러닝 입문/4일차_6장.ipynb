{
 "cells": [
  {
   "cell_type": "code",
   "execution_count": 1,
   "metadata": {},
   "outputs": [],
   "source": [
    "# SingleLayer 클래스에 배치 경사 하강법 적용하기\n",
    "import numpy as np\n",
    "import matplotlib.pyplot as plt"
   ]
  },
  {
   "cell_type": "code",
   "execution_count": 2,
   "metadata": {},
   "outputs": [],
   "source": [
    "from sklearn.datasets import load_breast_cancer\n",
    "from sklearn.model_selection import train_test_split\n",
    "\n",
    "cancer=load_breast_cancer()\n",
    "x=cancer.data\n",
    "y=cancer.target\n",
    "x_train_all, x_test, y_train_all, y_test = train_test_split(x,y,stratify=y,test_size=0.2, random_state=42)\n",
    "x_train, x_val, y_train, y_val = train_test_split(x_train_all, y_train_all, stratify=y_train_all, test_size=0.2, random_state=42)"
   ]
  },
  {
   "cell_type": "code",
   "execution_count": 3,
   "metadata": {},
   "outputs": [
    {
     "name": "stdout",
     "output_type": "stream",
     "text": [
      "(364, 30) (91, 30)\n"
     ]
    }
   ],
   "source": [
    "print(x_train.shape, x_val.shape)"
   ]
  },
  {
   "cell_type": "code",
   "execution_count": 4,
   "metadata": {},
   "outputs": [],
   "source": [
    "class SingleLayer:\n",
    "    def __init__(self, learning_rate=0.1, l1=0, l2=0):\n",
    "        self.w=None           # 가중치\n",
    "        self.b=None           # 절편\n",
    "        self.losses=[]        # 훈련 손실\n",
    "        self.val_losses=[]    # 검증 손실\n",
    "        self.w_history=[]     # 가중치 기록\n",
    "        self.lr=learning_rate # 학습률\n",
    "        self.l1=l1            # L1 손실 하이퍼파라미터\n",
    "        self.l2=l2            # L2 손실 하이퍼파라미터\n",
    "    def forpass(self,x):\n",
    "        z=np.dot(x,self.w)+self.b # 선형 출력을 계산합니다.\n",
    "        return z\n",
    "    def backprop(self,x,err):\n",
    "        m=len(x)\n",
    "        w_grad=np.dot(x.T,err)/m  # 가중치에 대한 평균 그레디언트를 계산합니다.\n",
    "        b_grad=np.sum(err)/m      # 절편에 대한 평균 그레디언트를 계산합니다.\n",
    "        return w_grad, b_grad\n",
    "    def fit(self,x,y,epochs=100, x_val=None, y_val=None):\n",
    "        y=y.reshape(-1,1)                    # 타깃을 열벡터로 바꿉니다.\n",
    "        y_val=y_val.reshape(-1,1)            # 검증용 타깃을 열 벡터로 바꿉니다.\n",
    "        m=len(x)                             # 샘플 개수를 저장합니다.\n",
    "        self.w=np.ones((x.shape[1],1))       # 가중치를 초기화합니다.\n",
    "        self.b=0                             # 절편을 초기화합니다.\n",
    "        self.w_history.append(self.w.copy()) # 가중치를 기록합니다.\n",
    "        # epochs만큼 반복합니다.\n",
    "        for i in range(epochs):\n",
    "            z=self.forpass(x)                # 정방향 계산을 수행합니다.\n",
    "            a=self.activation(z)             # 활성화 함수를 적용합니다.\n",
    "            err=-(y-a)                       # 오차를 계산합니다.\n",
    "            # 오차를 역전파하여 그레디언트를 계산합니다.\n",
    "            w_grad, b_grad=self.backprop(x,err)\n",
    "            # 그레디언트에서 패널티 항의 미분값을 뺍니다.\n",
    "            w_grad+=(self.l1*np.sign(self.w)+self.l2*self.w)/m\n",
    "            # 가중치와 절편을 업데이트합니다.\n",
    "            self.w-=self.lr*w_grad\n",
    "            self.b-=self.lr*b_grad\n",
    "            # 가중치를 기록합니다.\n",
    "            self.w_history.append(self.w.copy())\n",
    "            # 안전한 로그 계산을 위해 클리핑합니다.\n",
    "            a=np.clip(a,1e-10, 1-1e-10)\n",
    "            # 로그 손실과 규제 손실을 더하여 리스트에 추가합니다.\n",
    "            loss=np.sum(-(y*np.log(a)+(1-y)*np.log(1-a)))\n",
    "            self.losses.append((loss+self.reg_loss())/m)\n",
    "            # 검증 세트에 대한 손실을 계산합니다.\n",
    "            self.update_val_loss(x_val,y_val)\n",
    "    def reg_loss(self):\n",
    "        # 가중치에 규제를 적용합니다.\n",
    "        return self.l1*np.sum(np.abs(self.w))+self.l2/2*np.sum(self.w**2)\n",
    "    def update_val_loss(self, x_val, y_val):\n",
    "        z=self.forpass(x_val)      #정방향 계산을 수행합니다.\n",
    "        a=self.activation(z)       # 활성화 함수를 적용합니다.\n",
    "        a=np.clip(a,1e-10,1-1e-10) # 출력값을 클리핑합니다.\n",
    "        # 로그 손실과 규제 손실을 더하여 리스트에 추가합니다.\n",
    "        val_loss=np.sum(-(y_val*np.log(a)+(1-y_val)*np.log(1-a)))\n",
    "        self.val_losses.append((val_loss+self.reg_loss())/len(y_val))\n",
    "    def activation(self,z):\n",
    "        a=1/(1+np.exp(-z))       # 시그모이드 계산\n",
    "        return a\n",
    "    #예측하는 메서드 구현하기\n",
    "    def predict(self, x):\n",
    "        z=self.forpass(x) # 정방향 계산을 수행합니다.\n",
    "        return z>0       # 스텝함수를 적용합니다.\n",
    "    def score(self,x,y):\n",
    "        # 예측과 타깃 열 벡터를 비교하여 True의 비율을 반환합니다.\n",
    "        return np.mean(self.predict(x)==y.reshape(-1,1))"
   ]
  },
  {
   "cell_type": "code",
   "execution_count": 5,
   "metadata": {},
   "outputs": [],
   "source": [
    "from sklearn.preprocessing import StandardScaler\n",
    "scaler=StandardScaler()\n",
    "scaler.fit(x_train)\n",
    "x_train_scaled=scaler.transform(x_train)\n",
    "x_val_scaled=scaler.transform(x_val)"
   ]
  },
  {
   "cell_type": "code",
   "execution_count": 6,
   "metadata": {},
   "outputs": [
    {
     "data": {
      "text/plain": [
       "0.978021978021978"
      ]
     },
     "execution_count": 6,
     "metadata": {},
     "output_type": "execute_result"
    }
   ],
   "source": [
    "single_layer=SingleLayer(l2=0.01)\n",
    "single_layer.fit(x_train_scaled, y_train, x_val=x_val_scaled, y_val=y_val, epochs=10000)\n",
    "single_layer.score(x_val_scaled, y_val)"
   ]
  },
  {
   "cell_type": "code",
   "execution_count": 7,
   "metadata": {},
   "outputs": [
    {
     "data": {
      "image/png": "[encoded data removed]",
      "text/plain": [
       "<Figure size 432x288 with 1 Axes>"
      ]
     },
     "metadata": {
      "needs_background": "light"
     },
     "output_type": "display_data"
    }
   ],
   "source": [
    "plt.ylim(0,0.3)\n",
    "plt.plot(single_layer.losses)\n",
    "plt.plot(single_layer.val_losses)\n",
    "plt.ylabel('loss')\n",
    "plt.xlabel('epoch')\n",
    "plt.legend(['train loss', 'val_loss'])\n",
    "plt.show()"
   ]
  },
  {
   "cell_type": "code",
   "execution_count": 8,
   "metadata": {},
   "outputs": [
    {
     "data": {
      "image/png": "[encoded data removed]",
      "text/plain": [
       "<Figure size 432x288 with 1 Axes>"
      ]
     },
     "metadata": {
      "needs_background": "light"
     },
     "output_type": "display_data"
    }
   ],
   "source": [
    "w2=[]\n",
    "w3=[]\n",
    "for w in single_layer.w_history:\n",
    "    w2.append(w[2])\n",
    "    w3.append(w[3])\n",
    "plt.plot(w2,w3)\n",
    "plt.plot(w2[-1],w3[-1],'ro')\n",
    "plt.xlabel('w[2]')\n",
    "plt.ylabel('w[3]')\n",
    "plt.show()"
   ]
  },
  {
   "cell_type": "code",
   "execution_count": 9,
   "metadata": {},
   "outputs": [],
   "source": [
    "# 2개의 층을 가진 신경망 구현하기\n",
    "class DualLayer(SingleLayer):\n",
    "    def __init__(self, units=10, leraning_rate=0.1, l1=0, l2=0):\n",
    "        self.units=units       # 은닉층의 뉴런 개수\n",
    "        self.w1=None           # 은닉층의 가중치\n",
    "        self.b1=None           # 은닉층의 절편\n",
    "        self.w2=None           # 출력층의 가중치\n",
    "        self.b2=None           # 출력층의 절편\n",
    "        self.a1=None           # 은닉층의 활성화 출력\n",
    "        self.losses=[]         # 훈련 손실\n",
    "        self.val_losses=[]     # 검증 손실\n",
    "        self.lr=leraning_rate  # 학습률\n",
    "        self.l1=l1             # L1 손실 하이퍼파라미터\n",
    "        self.l2=l2             # L2 손실 하이퍼파라미터\n",
    "    def forpass(self,x):\n",
    "        z1=np.dot(x, self.w1)+self.b1       # 첫 번째 층의 선형식을 계산합니다.\n",
    "        self.a1=self.activation(z1)         # 활성화 함수를 적용하니다.\n",
    "        z2=np.dot(self.a1, self.w2)+self.b2 # 두 번째 층의 선형식을 계산합니다.\n",
    "        return z2\n",
    "    def backprop(self, x, err):\n",
    "        m=len(x)  # 샘플 개수\n",
    "        # 출력층의 가중치와 절편에 대한 그레디언트를 계산합니다.\n",
    "        w2_grad=np.dot(self.a1.T, err)/m\n",
    "        b2_grad=np.sum(err)/m\n",
    "        # 시그모이드 함수까지 그레디언트를 계산합니다.\n",
    "        err_to_hidden=np.dot(err,self.w2.T)*self.a1*(1-self.a1)\n",
    "        # 은닉층의 가중치와 절편에 대한 그레디언트를 계산합니다.\n",
    "        w1_grad=np.dot(x.T, err_to_hidden)/m\n",
    "        b1_grad=np.sum(err_to_hidden, axis=0)/m\n",
    "        return w1_grad, b1_grad, w2_grad, b2_grad\n",
    "    def init_weights(self, n_features):\n",
    "        self.w1=np.ones((n_features, self.units)) # (특성 개수, 은닉층의 크기)\n",
    "        self.b1=np.zeros(self.units)              # 은닉층의 크기\n",
    "        self.w2=np.ones((self.units,1))           # (은닉층의 크기, 1)\n",
    "        self.b2=0\n",
    "    def fit(self,x,y,epochs=100,x_val=None,y_val=None):\n",
    "        y=y.reshape(-1,1)            # 타깃을 열 벡터로 바꿉니다.\n",
    "        y_val=y_val.reshape(-1,1)    \n",
    "        m=len(x)                     # 샘플의 개수를 저장합니다.\n",
    "        self.init_weights(x.shape[1])# 은닉층과 출력층의 가중치를 초기화합니다.\n",
    "        # epochs만큼 반복합니다. \n",
    "        for i in range(epochs):\n",
    "            a=self.training(x,y,m)\n",
    "            # 안전한 로그 계산을 위해 클리핑합니다.\n",
    "            a=np.clip(a,1e-10,1-1e-10)\n",
    "            # 로그 손실과 규제 손실을 더하여 리스트에 추가합니다.\n",
    "            loss=np.sum(-(y*np.log(a)+(1-y)*np.log(1-a)))\n",
    "            self.losses.append((loss+self.reg_loss())/m)\n",
    "            # 검증 세트에 대한 손실을 계산합니다.\n",
    "            self.update_val_loss(x_val,y_val)\n",
    "    def training(self,x,y,m):\n",
    "        z=self.forpass(x)      # 정방향 계산을 수행합니다.\n",
    "        a=self.activation(z)   # 활성화 함수를 적용합니다.\n",
    "        err=-(y-a)             # 오차를 계산합니다.\n",
    "        # 오차를 역전파하여 그레디언트를 계산합니다.\n",
    "        w1_grad, b1_grad, w2_grad, b2_grad=self.backprop(x,err)\n",
    "        # 그레디언트에서 페널티 항의 미분값을 뺍니다.\n",
    "        w1_grad+=(self.l1*np.sign(self.w1)+self.l2*self.w1)/m\n",
    "        w2_grad+=(self.l1*np.sign(self.w2)+self.l2*self.w2)/m\n",
    "        # 은닉층의 가중치와 절편을 업데이트합니다.\n",
    "        self.w1-=self.lr*w1_grad\n",
    "        self.b1-=self.lr*b1_grad\n",
    "        # 출력층의 가중치와 절편을 업데이트합니다.\n",
    "        self.w2-=self.lr*w2_grad\n",
    "        self.b2-=self.lr*b2_grad\n",
    "        return a\n",
    "    def reg_loss(self):\n",
    "        # 은닉층과 출력층의 가중치에 규제를 적용합니다.\n",
    "        return self.l1*np.sum(np.abs(self.w1))+np.sum(np.abs(self.w2))+\\\n",
    "                self.l2/2*(np.sum(self.w1**2)+np.sum(self.w2**2))"
   ]
  },
  {
   "cell_type": "code",
   "execution_count": 10,
   "metadata": {},
   "outputs": [
    {
     "data": {
      "text/plain": [
       "0.978021978021978"
      ]
     },
     "execution_count": 10,
     "metadata": {},
     "output_type": "execute_result"
    }
   ],
   "source": [
    "# 모델 훈련하기\n",
    "dual_layer=DualLayer(l2=0.01)\n",
    "dual_layer.fit(x_train_scaled, y_train, x_val=x_val_scaled, y_val=y_val, epochs=20000)\n",
    "dual_layer.score(x_val_scaled, y_val)"
   ]
  },
  {
   "cell_type": "code",
   "execution_count": 11,
   "metadata": {},
   "outputs": [
    {
     "data": {
      "image/png": "[encoded data removed]",
      "text/plain": [
       "<Figure size 432x288 with 1 Axes>"
      ]
     },
     "metadata": {
      "needs_background": "light"
     },
     "output_type": "display_data"
    }
   ],
   "source": [
    "plt.ylim(0,0.3)\n",
    "plt.plot(dual_layer.losses)\n",
    "plt.plot(dual_layer.val_losses)\n",
    "plt.ylabel('loss')\n",
    "plt.xlabel('epoch')\n",
    "plt.legend(['train loss','val_loss'])\n",
    "plt.show()"
   ]
  },
  {
   "cell_type": "code",
   "execution_count": 12,
   "metadata": {},
   "outputs": [],
   "source": [
    "# 가중치 초기화 개선하기\n",
    "class RandomInitNetwork(DualLayer):\n",
    "    def init_weights(self, n_features):\n",
    "        np.random.seed(42)\n",
    "        self.w1=np.random.normal(0,1,(n_features, self.units)) # (특성 개수, 은닉층의 크기)\n",
    "        self.b1=np.zeros(self.units)                           # 은닉층의 크기\n",
    "        self.w2=np.random.normal(0,1,(self.units,1))           # (은닉층의 크기,1)\n",
    "        self.b2=0"
   ]
  },
  {
   "cell_type": "code",
   "execution_count": 13,
   "metadata": {},
   "outputs": [
    {
     "data": {
      "image/png": "[encoded data removed]",
      "text/plain": [
       "<Figure size 432x288 with 1 Axes>"
      ]
     },
     "metadata": {
      "needs_background": "light"
     },
     "output_type": "display_data"
    }
   ],
   "source": [
    "random_init_net=RandomInitNetwork(l2=0.01)\n",
    "random_init_net.fit(x_train_scaled, y_train, x_val=x_val_scaled, y_val=y_val, epochs=500)\n",
    "#plt.ylim(0,0.7)\n",
    "plt.plot(random_init_net.losses)\n",
    "plt.plot(random_init_net.val_losses)\n",
    "plt.ylabel('loss')\n",
    "plt.xlabel('epoch')\n",
    "plt.legend(['train loss','val_loss'])\n",
    "plt.show()"
   ]
  },
  {
   "cell_type": "code",
   "execution_count": 14,
   "metadata": {},
   "outputs": [],
   "source": [
    "class MinibatchNetwork(RandomInitNetwork):\n",
    "    def __init__(self, units=10, batch_size=32, learning_rate=0.1, l1=0, l2=0):\n",
    "        super().__init__(units,learning_rate,l1,l2)\n",
    "        self.batch_size=batch_size    # 배치 크기\n",
    "    def fit(self, x, y, epochs=100, x_val=None, y_val=None):\n",
    "        y_val=y_val.reshape(-1,1)     # 타깃을 열 벡터로 바꿉니다.\n",
    "        self.init_weights(x.shape[1]) # 은닉층과 출력층의 가중치를 초기화합니다.\n",
    "        np.random.seed(42)\n",
    "        # epochs만큼 반복합니다.\n",
    "        for i in range(epochs):\n",
    "            loss=0\n",
    "            # 제너레이터 함수에서 반환한 미니 배치를 순화합니다.\n",
    "            for x_batch, y_batch in self.gen_batch(x,y):\n",
    "                y_batch=y_batch.reshape(-1,1)  # 타깃을 열 벡터로 바꿉니다.\n",
    "                m=len(x_batch)                 # 샘플 개수를 저장합니다.\n",
    "                a=self.training(x_batch, y_batch, m)\n",
    "                # 안전한 로그 계산을 위해 클리핑합니다.\n",
    "                a=np.clip(a, 1e-10, 1-1e-10)\n",
    "                # 로그 손실과 규제 손실을 더하여 리스트에 추가합니다.\n",
    "                loss+=np.sum(-(y_batch*np.log(a)+(1-y_batch)*np.log(1-a)))\n",
    "            self.losses.append((loss+self.reg_loss())/len(x))\n",
    "            # 검증 세트에 대한 손실을 계산합니다.\n",
    "            self.update_val_loss(x_val, y_val)\n",
    "    # 미니 배치 제너레이터 함수\n",
    "    def gen_batch(self, x,y):\n",
    "        length=len(x)\n",
    "        bins=length//self.batch_size # 미니 배치 횟수\n",
    "        if length%self.batch_size:\n",
    "            bins+=1                  # 나누어 떨어지지 않을 때\n",
    "        indexes=np.random.permutation(np.arange(len(x))) # 인덱스를 섞습니다.\n",
    "        x=x[indexes]\n",
    "        y=y[indexes]\n",
    "        for i in range(bins):\n",
    "            start=self.batch_size*i\n",
    "            end=self.batch_size*(i+1)\n",
    "            yield x[start:end], y[start:end] # 배치 사이즈만큼 슬라이싱하여 반환합니다."
   ]
  },
  {
   "cell_type": "code",
   "execution_count": 15,
   "metadata": {},
   "outputs": [
    {
     "data": {
      "text/plain": [
       "0.978021978021978"
      ]
     },
     "execution_count": 15,
     "metadata": {},
     "output_type": "execute_result"
    }
   ],
   "source": [
    "minibatch_net=MinibatchNetwork(l2=0.01, batch_size=32)\n",
    "minibatch_net.fit(x_train_scaled, y_train, x_val=x_val_scaled, y_val=y_val, epochs=500)\n",
    "minibatch_net.score(x_val_scaled, y_val)"
   ]
  },
  {
   "cell_type": "code",
   "execution_count": 16,
   "metadata": {},
   "outputs": [
    {
     "data": {
      "image/png": "[encoded data removed]",
      "text/plain": [
       "<Figure size 432x288 with 1 Axes>"
      ]
     },
     "metadata": {
      "needs_background": "light"
     },
     "output_type": "display_data"
    }
   ],
   "source": [
    "plt.plot(minibatch_net.losses)\n",
    "plt.plot(minibatch_net.val_losses)\n",
    "plt.ylabel('loss')\n",
    "plt.xlabel('iteration')\n",
    "plt.legend(['train loss','val loss'])\n",
    "plt.show()"
   ]
  },
  {
   "cell_type": "code",
   "execution_count": 17,
   "metadata": {},
   "outputs": [
    {
     "data": {
      "text/plain": [
       "0.978021978021978"
      ]
     },
     "execution_count": 17,
     "metadata": {},
     "output_type": "execute_result"
    }
   ],
   "source": [
    "minibatch_net=MinibatchNetwork(l2=0.01, batch_size=128)\n",
    "minibatch_net.fit(x_train_scaled, y_train, x_val=x_val_scaled, y_val=y_val, epochs=500)\n",
    "minibatch_net.score(x_val_scaled, y_val)"
   ]
  },
  {
   "cell_type": "code",
   "execution_count": 18,
   "metadata": {},
   "outputs": [
    {
     "data": {
      "image/png": "[encoded data removed]",
      "text/plain": [
       "<Figure size 432x288 with 1 Axes>"
      ]
     },
     "metadata": {
      "needs_background": "light"
     },
     "output_type": "display_data"
    }
   ],
   "source": [
    "plt.plot(minibatch_net.losses)\n",
    "plt.plot(minibatch_net.val_losses)\n",
    "plt.ylabel('loss')\n",
    "plt.xlabel('iteration')\n",
    "plt.legend(['train loss','val loss'])\n",
    "plt.show()"
   ]
  },
  {
   "cell_type": "code",
   "execution_count": 19,
   "metadata": {},
   "outputs": [],
   "source": [
    "# 사이킷런 사용해 다층 신경망 훈련하기\n",
    "from sklearn.neural_network import MLPClassifier\n",
    "mlp=MLPClassifier(hidden_layer_sizes=(10,), activation='logistic',\n",
    "                 solver='sgd', alpha=0.01, batch_size=32,\n",
    "                 learning_rate_init=0.1, max_iter=500)"
   ]
  },
  {
   "cell_type": "code",
   "execution_count": 20,
   "metadata": {},
   "outputs": [
    {
     "data": {
      "text/plain": [
       "0.989010989010989"
      ]
     },
     "execution_count": 20,
     "metadata": {},
     "output_type": "execute_result"
    }
   ],
   "source": [
    "mlp.fit(x_train_scaled, y_train)\n",
    "mlp.score(x_val_scaled, y_val)"
   ]
  },
  {
   "cell_type": "code",
   "execution_count": 24,
   "metadata": {},
   "outputs": [
    {
     "data": {
      "text/plain": [
       "array([1., 1., 1., 1., 1., 1., 1., 1., 1., 1., 1., 1., 1., 1., 1., 1., 1.,\n",
       "       1., 1., 1., 1., 1., 1., 1., 1., 1., 1., 1., 1., 1.])"
      ]
     },
     "execution_count": 24,
     "metadata": {},
     "output_type": "execute_result"
    }
   ],
   "source": [
    "np.ones(x.shape[1])     "
   ]
  },
  {
   "cell_type": "code",
   "execution_count": null,
   "metadata": {},
   "outputs": [],
   "source": []
  }
 ],
 "metadata": {
  "kernelspec": {
   "display_name": "Python 3",
   "language": "python",
   "name": "python3"
  },
  "language_info": {
   "codemirror_mode": {
    "name": "ipython",
    "version": 3
   },
   "file_extension": ".py",
   "mimetype": "text/x-python",
   "name": "python",
   "nbconvert_exporter": "python",
   "pygments_lexer": "ipython3",
   "version": "3.8.5"
  }
 },
 "nbformat": 4,
 "nbformat_minor": 4
}
