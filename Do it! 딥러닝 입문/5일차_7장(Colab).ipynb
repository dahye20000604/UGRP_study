{
  "nbformat": 4,
  "nbformat_minor": 0,
  "metadata": {
    "colab": {
      "name": "5일차_7장(Colab)",
      "provenance": []
    },
    "kernelspec": {
      "name": "python3",
      "display_name": "Python 3"
    }
  },
  "cells": [
    {
      "cell_type": "markdown",
      "metadata": {
        "id": "u_HdfZLJD_JX"
      },
      "source": [
        "# 소프트맥스 함수\r\n",
        "$$ e^z_i \\over {e^z_1+e^z_2+e^z_3} $$\r\n",
        "$$ z=-ln({1 \\over \\hat{y}} -1) $$\r\n",
        "# 크로스 엔트로피 손실 함수\r\n",
        "$$ L=-log(a_{y=1}) $$\r\n",
        "$$ {\\partial L \\over \\partial z} = {-(y-a)} $$"
      ]
    },
    {
      "cell_type": "code",
      "metadata": {
        "id": "EO-x17ly85G_"
      },
      "source": [
        "# 다중 분류 신경망을 구현합니다.\r\n",
        "class MultiClassNetwork:\r\n",
        "    def __init__(self, units=10, batch_size=32, leraning_rate=0.1, l1=0, l2=0):\r\n",
        "        self.units=units       # 은닉층의 뉴런 개수\r\n",
        "        self.w1=None           # 은닉층의 가중치\r\n",
        "        self.b1=None           # 은닉층의 절편\r\n",
        "        self.w2=None           # 출력층의 가중치\r\n",
        "        self.b2=None           # 출력층의 절편\r\n",
        "        self.a1=None           # 은닉층의 활성화 출력\r\n",
        "        self.losses=[]         # 훈련 손실\r\n",
        "        self.val_losses=[]     # 검증 손실\r\n",
        "        self.lr=leraning_rate  # 학습률\r\n",
        "        self.l1=l1             # L1 손실 하이퍼파라미터\r\n",
        "        self.l2=l2             # L2 손실 하이퍼파라미터\r\n",
        "        self.batch_size=batch_size    # 배치 크기\r\n",
        "    def forpass(self,x):\r\n",
        "        z1=np.dot(x, self.w1)+self.b1       # 첫 번째 층의 선형식을 계산합니다.\r\n",
        "        self.a1=self.sigmoid(z1)            # 활성화 함수를 적용합니다.\r\n",
        "        z2=np.dot(self.a1, self.w2)+self.b2 # 두 번째 층의 선형식을 계산합니다.\r\n",
        "        return z2\r\n",
        "    def backprop(self, x, err):\r\n",
        "        m=len(x)  # 샘플 개수\r\n",
        "        # 출력층의 가중치와 절편에 대한 그레디언트를 계산합니다.\r\n",
        "        w2_grad=np.dot(self.a1.T, err)/m\r\n",
        "        b2_grad=np.sum(err)/m\r\n",
        "        # 시그모이드 함수까지 그레디언트를 계산합니다.\r\n",
        "        err_to_hidden=np.dot(err,self.w2.T)*self.a1*(1-self.a1)\r\n",
        "        # 은닉층의 가중치와 절편에 대한 그레디언트를 계산합니다.\r\n",
        "        w1_grad=np.dot(x.T, err_to_hidden)/m\r\n",
        "        b1_grad=np.sum(err_to_hidden, axis=0)/m\r\n",
        "        return w1_grad, b1_grad, w2_grad, b2_grad\r\n",
        "    def sigmoid(self,z):\r\n",
        "        a=1/(1+np.exp(-z)) # 시그모이드 계산\r\n",
        "        return a\r\n",
        "    def softmax(self,z):\r\n",
        "        # 소프트맥스 함수\r\n",
        "        exp_z=np.exp(z)\r\n",
        "        return exp_z/np.sum(exp_z,axis=1).reshape(-1,1)\r\n",
        "    def init_weights(self, n_features, n_classes):\r\n",
        "        np.random.seed(42)\r\n",
        "        self.w1=np.random.normal(0,1,(n_features, self.units)) # (특성 개수, 은닉층의 크기)\r\n",
        "        self.b1=np.zeros(self.units)                           # 은닉층의 크기\r\n",
        "        self.w2=np.random.normal(0,1,(self.units,n_classes))           # (은닉층의 크기,1)\r\n",
        "        self.b2=np.zeros(n_classes)\r\n",
        "    # 미니 배치 제너레이터 함수\r\n",
        "    def gen_batch(self, x,y):\r\n",
        "        length=len(x)\r\n",
        "        bins=length//self.batch_size # 미니 배치 횟수\r\n",
        "        if length%self.batch_size:\r\n",
        "            bins+=1                  # 나누어 떨어지지 않을 때\r\n",
        "        indexes=np.random.permutation(np.arange(len(x))) # 인덱스를 섞습니다.\r\n",
        "        x=x[indexes]\r\n",
        "        y=y[indexes]\r\n",
        "        for i in range(bins):\r\n",
        "            start=self.batch_size*i\r\n",
        "            end=self.batch_size*(i+1)\r\n",
        "            yield x[start:end], y[start:end] # 배치 사이즈만큼 슬라이싱하여 반환합니다.\r\n",
        "    def fit(self,x,y,epochs=100, x_val=None, y_val=None):\r\n",
        "        np.random.seed(42)\r\n",
        "        self.init_weights(x.shape[1],y.shape[1]) # 은닉층과 출력층의 가중치를 초기화합니다.\r\n",
        "        # epochs만큼 반복합니다.\r\n",
        "        for i in range(epochs):\r\n",
        "            loss=0\r\n",
        "            print(',',end='')\r\n",
        "            # 제너레이터 함수에서 반환한 미니 배치를 순환합니다.\r\n",
        "            for x_batch, y_batch in self.gen_batch(x,y):\r\n",
        "                a=self.training(x_batch,y_batch)\r\n",
        "                # 안전한 로그 계산을 위해 클리핑합니다.\r\n",
        "                a=np.clip(a,1e-10,1-1e-10)\r\n",
        "                # 로그 손실과 규제 손실을 더하여 리스트에 추가합니다.\r\n",
        "                loss+=np.sum(-y_batch*np.log(a))\r\n",
        "            self.losses.append((loss+self.reg_loss())/len(x))\r\n",
        "            # 검증 세트에 대한 손실을 계산합니다.\r\n",
        "            self.update_val_loss(x_val, y_val)\r\n",
        "    def training(self, x, y):\r\n",
        "        m=len(x)           # 샘플 개수를 저장합니다.\r\n",
        "        z=self.forpass(x)  # 정방향 계산을 수행합니다.\r\n",
        "        a=self.softmax(z)  # 활성화 함수를 적용합니다.\r\n",
        "        err=-(y-a)             # 오차를 계산합니다.\r\n",
        "        # 오차를 역전파하여 그레디언트를 계산합니다.\r\n",
        "        w1_grad, b1_grad, w2_grad, b2_grad=self.backprop(x,err)\r\n",
        "        # 그레디언트에서 페널티 항의 미분값을 뺍니다.\r\n",
        "        w1_grad+=(self.l1*np.sign(self.w1)+self.l2*self.w1)/m\r\n",
        "        w2_grad+=(self.l1*np.sign(self.w2)+self.l2*self.w2)/m\r\n",
        "        # 은닉층의 가중치와 절편을 업데이트합니다.\r\n",
        "        self.w1-=self.lr*w1_grad\r\n",
        "        self.b1-=self.lr*b1_grad\r\n",
        "        # 출력층의 가중치와 절편을 업데이트합니다.\r\n",
        "        self.w2-=self.lr*w2_grad\r\n",
        "        self.b2-=self.lr*b2_grad\r\n",
        "        return a\r\n",
        "    def predict(self,x):\r\n",
        "        z=self.forpass(x)           # 정방향 계산을 수행합니다.\r\n",
        "        return np.argmax(z, axis=1)# 가장 큰 값의 인덱스를 반환합니다.\r\n",
        "    def score(self, x, y):\r\n",
        "        # 예측과 타깃 열 벡터를 비교하여 True의 비율을 반환합니다.\r\n",
        "        return np.mean(self.predict(x)==np.argmax(y,axis=1))\r\n",
        "    def update_val_loss(self, x_val,y_val):\r\n",
        "        z=self.forpass(x_val)      #정방향 계산을 수행합니다.\r\n",
        "        a=self.softmax(z)          # 활성화 함수를 적용합니다.\r\n",
        "        a=np.clip(a,1e-10,1-1e-10) # 출력값을 클리핑합니다.\r\n",
        "        # 크로스 엔트로피 손실과 규제 손실을 더하여 리스트에 추가합니다.\r\n",
        "        val_loss=np.sum(-y_val*np.log(a))\r\n",
        "        self.val_losses.append((val_loss+self.reg_loss())/len(y_val))\r\n",
        "    def reg_loss(self):\r\n",
        "        # 은닉층과 출력층의 가중치에 규제를 적용합니다.\r\n",
        "        return self.l1*np.sum(np.abs(self.w1))+np.sum(np.abs(self.w2))+\\\r\n",
        "                self.l2/2*(np.sum(self.w1**2)+np.sum(self.w2**2))"
      ],
      "execution_count": 1,
      "outputs": []
    },
    {
      "cell_type": "code",
      "metadata": {
        "colab": {
          "base_uri": "https://localhost:8080/",
          "height": 36
        },
        "id": "7zO8atme8-RG",
        "outputId": "87b16e23-faae-411a-f4c5-bcbacd734143"
      },
      "source": [
        "# 의류 데이터를 준비합니다.\r\n",
        "import tensorflow as tf\r\n",
        "tf.__version__"
      ],
      "execution_count": 2,
      "outputs": [
        {
          "output_type": "execute_result",
          "data": {
            "application/vnd.google.colaboratory.intrinsic+json": {
              "type": "string"
            },
            "text/plain": [
              "'2.4.0'"
            ]
          },
          "metadata": {
            "tags": []
          },
          "execution_count": 2
        }
      ]
    },
    {
      "cell_type": "code",
      "metadata": {
        "id": "sMaus10I9FYo",
        "colab": {
          "base_uri": "https://localhost:8080/"
        },
        "outputId": "890c255f-7658-468e-e9d9-ba1cadaf35a5"
      },
      "source": [
        "(x_train_all, y_train_all),(x_test,y_test)=tf.keras.datasets.fashion_mnist.load_data()"
      ],
      "execution_count": 3,
      "outputs": [
        {
          "output_type": "stream",
          "text": [
            "Downloading data from https://storage.googleapis.com/tensorflow/tf-keras-datasets/train-labels-idx1-ubyte.gz\n",
            "32768/29515 [=================================] - 0s 0us/step\n",
            "Downloading data from https://storage.googleapis.com/tensorflow/tf-keras-datasets/train-images-idx3-ubyte.gz\n",
            "26427392/26421880 [==============================] - 0s 0us/step\n",
            "Downloading data from https://storage.googleapis.com/tensorflow/tf-keras-datasets/t10k-labels-idx1-ubyte.gz\n",
            "8192/5148 [===============================================] - 0s 0us/step\n",
            "Downloading data from https://storage.googleapis.com/tensorflow/tf-keras-datasets/t10k-images-idx3-ubyte.gz\n",
            "4423680/4422102 [==============================] - 0s 0us/step\n"
          ],
          "name": "stdout"
        }
      ]
    },
    {
      "cell_type": "code",
      "metadata": {
        "colab": {
          "base_uri": "https://localhost:8080/"
        },
        "id": "Gh75lUi_9Kmc",
        "outputId": "05262dd3-afc2-4273-9fe8-3e907d61c677"
      },
      "source": [
        "print(x_train_all.shape, y_train_all.shape)"
      ],
      "execution_count": 4,
      "outputs": [
        {
          "output_type": "stream",
          "text": [
            "(60000, 28, 28) (60000,)\n"
          ],
          "name": "stdout"
        }
      ]
    },
    {
      "cell_type": "code",
      "metadata": {
        "colab": {
          "base_uri": "https://localhost:8080/",
          "height": 265
        },
        "id": "M87ooiuA9Q-3",
        "outputId": "63a53a13-398b-452e-8cb7-e588ca4226fb"
      },
      "source": [
        "import matplotlib.pyplot as plt\r\n",
        "plt.imshow(x_train_all[0],cmap='gray')\r\n",
        "plt.show()"
      ],
      "execution_count": 5,
      "outputs": [
        {
          "output_type": "display_data",
          "data": {
            "image/png": "[encoded data removed]",
            "text/plain": [
              "<Figure size 432x288 with 1 Axes>"
            ]
          },
          "metadata": {
            "tags": [],
            "needs_background": "light"
          }
        }
      ]
    },
    {
      "cell_type": "code",
      "metadata": {
        "colab": {
          "base_uri": "https://localhost:8080/"
        },
        "id": "x4tmivZq9ZeM",
        "outputId": "f3bfdd74-1e00-4bfa-dd55-e92ee8942a8f"
      },
      "source": [
        "print(y_train_all[:10])"
      ],
      "execution_count": 6,
      "outputs": [
        {
          "output_type": "stream",
          "text": [
            "[9 0 0 3 0 2 7 2 5 5]\n"
          ],
          "name": "stdout"
        }
      ]
    },
    {
      "cell_type": "code",
      "metadata": {
        "id": "8vMAio4Y9dAh"
      },
      "source": [
        "class_names=['티셔츠/윗도리','바지','스웨터','드레스','코트','샌들','셔츠','스니커즈','가방','앵클부츠']"
      ],
      "execution_count": 7,
      "outputs": []
    },
    {
      "cell_type": "code",
      "metadata": {
        "colab": {
          "base_uri": "https://localhost:8080/"
        },
        "id": "jkebsNpR9nI_",
        "outputId": "79583dde-6806-4093-b052-7c8be462128d"
      },
      "source": [
        "print(class_names[y_train_all[0]])"
      ],
      "execution_count": 8,
      "outputs": [
        {
          "output_type": "stream",
          "text": [
            "앵클부츠\n"
          ],
          "name": "stdout"
        }
      ]
    },
    {
      "cell_type": "code",
      "metadata": {
        "colab": {
          "base_uri": "https://localhost:8080/"
        },
        "id": "BX_ugY-j9sVW",
        "outputId": "563a65c7-d971-436e-d804-e99b53da412e"
      },
      "source": [
        "import numpy as np\r\n",
        "np.bincount(y_train_all)"
      ],
      "execution_count": 9,
      "outputs": [
        {
          "output_type": "execute_result",
          "data": {
            "text/plain": [
              "array([6000, 6000, 6000, 6000, 6000, 6000, 6000, 6000, 6000, 6000])"
            ]
          },
          "metadata": {
            "tags": []
          },
          "execution_count": 9
        }
      ]
    },
    {
      "cell_type": "code",
      "metadata": {
        "id": "jA5Qy6Kc9wPv"
      },
      "source": [
        "from sklearn.model_selection import train_test_split\r\n",
        "x_train, x_val, y_train, y_val = train_test_split(x_train_all, y_train_all, stratify=y_train_all, test_size=0.2, random_state=42)"
      ],
      "execution_count": 10,
      "outputs": []
    },
    {
      "cell_type": "code",
      "metadata": {
        "colab": {
          "base_uri": "https://localhost:8080/"
        },
        "id": "6nGDdcTt-B8_",
        "outputId": "4d19fe96-4a1a-4b60-bbdb-1d1ceb0d5e0f"
      },
      "source": [
        "np.bincount(y_train)"
      ],
      "execution_count": 11,
      "outputs": [
        {
          "output_type": "execute_result",
          "data": {
            "text/plain": [
              "array([4800, 4800, 4800, 4800, 4800, 4800, 4800, 4800, 4800, 4800])"
            ]
          },
          "metadata": {
            "tags": []
          },
          "execution_count": 11
        }
      ]
    },
    {
      "cell_type": "code",
      "metadata": {
        "colab": {
          "base_uri": "https://localhost:8080/"
        },
        "id": "T9hhx74V-HWJ",
        "outputId": "174a7c35-d287-4be7-a569-0d6e5c8e14c2"
      },
      "source": [
        "np.bincount(y_val)"
      ],
      "execution_count": 12,
      "outputs": [
        {
          "output_type": "execute_result",
          "data": {
            "text/plain": [
              "array([1200, 1200, 1200, 1200, 1200, 1200, 1200, 1200, 1200, 1200])"
            ]
          },
          "metadata": {
            "tags": []
          },
          "execution_count": 12
        }
      ]
    },
    {
      "cell_type": "code",
      "metadata": {
        "id": "KnC0W02q-Iqv"
      },
      "source": [
        "x_train=x_train/255\r\n",
        "x_val=x_val/255"
      ],
      "execution_count": 13,
      "outputs": []
    },
    {
      "cell_type": "code",
      "metadata": {
        "id": "Bh06HTsd-Nd_"
      },
      "source": [
        "x_train=x_train.reshape(-1,784)\r\n",
        "x_val=x_val.reshape(-1,784)"
      ],
      "execution_count": 14,
      "outputs": []
    },
    {
      "cell_type": "code",
      "metadata": {
        "colab": {
          "base_uri": "https://localhost:8080/"
        },
        "id": "E_zOm_cM-bxv",
        "outputId": "afca09d5-a9e9-4e0b-d248-d1004fe2ac80"
      },
      "source": [
        "print(x_train.shape, x_val.shape)"
      ],
      "execution_count": 15,
      "outputs": [
        {
          "output_type": "stream",
          "text": [
            "(48000, 784) (12000, 784)\n"
          ],
          "name": "stdout"
        }
      ]
    },
    {
      "cell_type": "code",
      "metadata": {
        "colab": {
          "base_uri": "https://localhost:8080/"
        },
        "id": "aSxfH1L9-iHX",
        "outputId": "f3eba2e0-d5b7-4c8a-ebc5-8d1e0b1ac569"
      },
      "source": [
        "# 타깃 데이터를 준비하고 다중 분류 신경망을 훈련합니다.\r\n",
        "tf.keras.utils.to_categorical([0,1,3])"
      ],
      "execution_count": 16,
      "outputs": [
        {
          "output_type": "execute_result",
          "data": {
            "text/plain": [
              "array([[1., 0., 0., 0.],\n",
              "       [0., 1., 0., 0.],\n",
              "       [0., 0., 0., 1.]], dtype=float32)"
            ]
          },
          "metadata": {
            "tags": []
          },
          "execution_count": 16
        }
      ]
    },
    {
      "cell_type": "code",
      "metadata": {
        "id": "H53ikCBN-q25"
      },
      "source": [
        "y_train_encoded=tf.keras.utils.to_categorical(y_train)\r\n",
        "y_val_encoded=tf.keras.utils.to_categorical(y_val)"
      ],
      "execution_count": 17,
      "outputs": []
    },
    {
      "cell_type": "code",
      "metadata": {
        "colab": {
          "base_uri": "https://localhost:8080/"
        },
        "id": "e-_irr5w_9aY",
        "outputId": "d56c26c4-4e79-48da-8b7f-4f23c0691670"
      },
      "source": [
        "print(y_train_encoded.shape, y_val_encoded.shape)"
      ],
      "execution_count": 18,
      "outputs": [
        {
          "output_type": "stream",
          "text": [
            "(48000, 10) (12000, 10)\n"
          ],
          "name": "stdout"
        }
      ]
    },
    {
      "cell_type": "code",
      "metadata": {
        "colab": {
          "base_uri": "https://localhost:8080/"
        },
        "id": "SnXIJ51DADqF",
        "outputId": "ceb2590d-d5df-494e-d81d-f819438bfcdb"
      },
      "source": [
        "print(y_train[0], y_train_encoded[0])"
      ],
      "execution_count": 19,
      "outputs": [
        {
          "output_type": "stream",
          "text": [
            "6 [0. 0. 0. 0. 0. 0. 1. 0. 0. 0.]\n"
          ],
          "name": "stdout"
        }
      ]
    },
    {
      "cell_type": "code",
      "metadata": {
        "colab": {
          "base_uri": "https://localhost:8080/"
        },
        "id": "KKzeTbp2AG_v",
        "outputId": "43af51aa-b14b-4908-9289-5ee14cededcf"
      },
      "source": [
        "fc=MultiClassNetwork(units=100, batch_size=256)\r\n",
        "fc.fit(x_train, y_train_encoded, x_val=x_val, y_val=y_val_encoded, epochs=40)"
      ],
      "execution_count": 20,
      "outputs": [
        {
          "output_type": "stream",
          "text": [
            ",,,,,,,,,,,,,,,,,,,,,,,,,,,,,,,,,,,,,,,,"
          ],
          "name": "stdout"
        }
      ]
    },
    {
      "cell_type": "code",
      "metadata": {
        "colab": {
          "base_uri": "https://localhost:8080/",
          "height": 279
        },
        "id": "RA3ZVjzFBCIv",
        "outputId": "bee343e9-bfd2-4828-c71f-63f7368c021d"
      },
      "source": [
        "plt.plot(fc.losses)\r\n",
        "plt.plot(fc.val_losses)\r\n",
        "plt.ylabel('loss')\r\n",
        "plt.xlabel('iteration')\r\n",
        "plt.legend(['train loss','val_loss'])\r\n",
        "plt.show()"
      ],
      "execution_count": 22,
      "outputs": [
        {
          "output_type": "display_data",
          "data": {
            "image/png": "[encoded data removed]",
            "text/plain": [
              "<Figure size 432x288 with 1 Axes>"
            ]
          },
          "metadata": {
            "tags": [],
            "needs_background": "light"
          }
        }
      ]
    },
    {
      "cell_type": "code",
      "metadata": {
        "colab": {
          "base_uri": "https://localhost:8080/"
        },
        "id": "cjqEgld6D1jV",
        "outputId": "4beb9c97-28c4-4def-d9cb-3871efe5f590"
      },
      "source": [
        "fc.score(x_val, y_val_encoded)"
      ],
      "execution_count": 23,
      "outputs": [
        {
          "output_type": "execute_result",
          "data": {
            "text/plain": [
              "0.8150833333333334"
            ]
          },
          "metadata": {
            "tags": []
          },
          "execution_count": 23
        }
      ]
    },
    {
      "cell_type": "code",
      "metadata": {
        "id": "tkdKnW2lD5KE"
      },
      "source": [
        "# 케라스에 대해 알아봅니다.\r\n",
        "# 훈련할 가중치 변수를 선언합니다.\r\n",
        "w=tf.Variable(tf.zeros(shape=(1)))\r\n",
        "b=tf.Variable(tf.zeros(shape=(1)))\r\n",
        "\r\n",
        "# 경사 하강법 옵티마이저를 설정합니다.\r\n",
        "optimizer=tf.optimizers.SGD(lr=0.01)\r\n",
        "# 에포크 횟수만큼 훈련합니다.\r\n",
        "num_epochs=10\r\n",
        "for step in range(num_epochs):\r\n",
        "  # 자동 미분을 위해 연산 과정을 기록합니다.\r\n",
        "  with tf.GradientTape() as tape:\r\n",
        "    z_net=w*x_train+b\r\n",
        "    print(z_net)\r\n",
        "    z_net=tf.reshape(z_net, [-1])\r\n",
        "    sqr_errors=tf.square(y_train-z_net)\r\n",
        "    mean_cost=tf.reduce_mean(sqr_errors)\r\n",
        "  # 손실 함수에 대한 가중치의 그레디언트를 계산합니다.\r\n",
        "  grads=tape.gradient(mean_cost, [w,b])\r\n",
        "  # 옵티마이저에 그레디언트를 반영합니다.\r\n",
        "  optimizer.apply_gradients(zip(grads,[w,b]))"
      ],
      "execution_count": null,
      "outputs": []
    },
    {
      "cell_type": "code",
      "metadata": {
        "id": "sNrUiUEQE4VO",
        "colab": {
          "base_uri": "https://localhost:8080/"
        },
        "outputId": "510c103f-a3fc-4be9-822d-eed9cb747995"
      },
      "source": [
        "# 신경망 모델을 만듭니다.\r\n",
        "model = tf.keras.models.Sequential()\r\n",
        "# 완전 연결층을 추가합니다.\r\n",
        "model.add(tf.keras.layers.Dense(1))\r\n",
        "# 옵티마이저와 손실 함수를 지정합니다.\r\n",
        "model.compile(optimizer='sgd',loss='mse')\r\n",
        "# 훈련 데이터를 사용하여 에포크 횟수만큼 훈련합니다.\r\n",
        "model.fit(x_train, y_train, epochs=10)"
      ],
      "execution_count": 29,
      "outputs": [
        {
          "output_type": "stream",
          "text": [
            "Epoch 1/10\n",
            "1500/1500 [==============================] - 2s 824us/step - loss: nan\n",
            "Epoch 2/10\n",
            "1500/1500 [==============================] - 1s 827us/step - loss: nan\n",
            "Epoch 3/10\n",
            "1500/1500 [==============================] - 1s 870us/step - loss: nan\n",
            "Epoch 4/10\n",
            "1500/1500 [==============================] - 1s 852us/step - loss: nan\n",
            "Epoch 5/10\n",
            "1500/1500 [==============================] - 1s 851us/step - loss: nan\n",
            "Epoch 6/10\n",
            "1500/1500 [==============================] - 1s 886us/step - loss: nan\n",
            "Epoch 7/10\n",
            "1500/1500 [==============================] - 1s 886us/step - loss: nan\n",
            "Epoch 8/10\n",
            "1500/1500 [==============================] - 1s 833us/step - loss: nan\n",
            "Epoch 9/10\n",
            "1500/1500 [==============================] - 1s 829us/step - loss: nan\n",
            "Epoch 10/10\n",
            "1500/1500 [==============================] - 1s 874us/step - loss: nan\n"
          ],
          "name": "stdout"
        },
        {
          "output_type": "execute_result",
          "data": {
            "text/plain": [
              "<tensorflow.python.keras.callbacks.History at 0x7f7e51c75588>"
            ]
          },
          "metadata": {
            "tags": []
          },
          "execution_count": 29
        }
      ]
    },
    {
      "cell_type": "code",
      "metadata": {
        "id": "BTvizDRGiWln"
      },
      "source": [
        "# 케라스로 다중 분류 신경망을 만들어봅니다.\r\n",
        "from tensorflow.keras import Sequential\r\n",
        "from tensorflow.keras.layers import Dense\r\n",
        "model=Sequential()"
      ],
      "execution_count": 31,
      "outputs": []
    },
    {
      "cell_type": "code",
      "metadata": {
        "id": "OUivOJ3ki0NW"
      },
      "source": [
        "model.add(Dense(100,activation='sigmoid',input_shape=(784,)))\r\n",
        "model.add(Dense(10,activation='softmax'))"
      ],
      "execution_count": 32,
      "outputs": []
    },
    {
      "cell_type": "code",
      "metadata": {
        "id": "2r82cZd0kFxR"
      },
      "source": [
        "model.compile(optimizer='sgd',loss='categorical_crossentropy',metrics=['accuracy'])"
      ],
      "execution_count": 33,
      "outputs": []
    },
    {
      "cell_type": "code",
      "metadata": {
        "colab": {
          "base_uri": "https://localhost:8080/"
        },
        "id": "a-Mm5rQrkVZa",
        "outputId": "c1153d00-9381-44c2-c04c-e6f1d4e43809"
      },
      "source": [
        "history=model.fit(x_train, y_train_encoded, epochs=40, validation_data=(x_val, y_val_encoded))"
      ],
      "execution_count": 34,
      "outputs": [
        {
          "output_type": "stream",
          "text": [
            "Epoch 1/40\n",
            "1500/1500 [==============================] - 3s 2ms/step - loss: 1.7110 - accuracy: 0.5401 - val_loss: 0.9468 - val_accuracy: 0.7315\n",
            "Epoch 2/40\n",
            "1500/1500 [==============================] - 2s 2ms/step - loss: 0.8869 - accuracy: 0.7352 - val_loss: 0.7430 - val_accuracy: 0.7633\n",
            "Epoch 3/40\n",
            "1500/1500 [==============================] - 2s 2ms/step - loss: 0.7295 - accuracy: 0.7608 - val_loss: 0.6583 - val_accuracy: 0.7774\n",
            "Epoch 4/40\n",
            "1500/1500 [==============================] - 3s 2ms/step - loss: 0.6514 - accuracy: 0.7772 - val_loss: 0.6088 - val_accuracy: 0.7919\n",
            "Epoch 5/40\n",
            "1500/1500 [==============================] - 3s 2ms/step - loss: 0.6024 - accuracy: 0.7943 - val_loss: 0.5733 - val_accuracy: 0.8031\n",
            "Epoch 6/40\n",
            "1500/1500 [==============================] - 3s 2ms/step - loss: 0.5733 - accuracy: 0.8041 - val_loss: 0.5476 - val_accuracy: 0.8122\n",
            "Epoch 7/40\n",
            "1500/1500 [==============================] - 3s 2ms/step - loss: 0.5571 - accuracy: 0.8075 - val_loss: 0.5281 - val_accuracy: 0.8163\n",
            "Epoch 8/40\n",
            "1500/1500 [==============================] - 3s 2ms/step - loss: 0.5355 - accuracy: 0.8135 - val_loss: 0.5122 - val_accuracy: 0.8231\n",
            "Epoch 9/40\n",
            "1500/1500 [==============================] - 2s 2ms/step - loss: 0.5155 - accuracy: 0.8219 - val_loss: 0.4990 - val_accuracy: 0.8248\n",
            "Epoch 10/40\n",
            "1500/1500 [==============================] - 3s 2ms/step - loss: 0.5074 - accuracy: 0.8208 - val_loss: 0.4867 - val_accuracy: 0.8291\n",
            "Epoch 11/40\n",
            "1500/1500 [==============================] - 2s 2ms/step - loss: 0.4925 - accuracy: 0.8253 - val_loss: 0.4775 - val_accuracy: 0.8328\n",
            "Epoch 12/40\n",
            "1500/1500 [==============================] - 3s 2ms/step - loss: 0.4899 - accuracy: 0.8306 - val_loss: 0.4693 - val_accuracy: 0.8349\n",
            "Epoch 13/40\n",
            "1500/1500 [==============================] - 2s 2ms/step - loss: 0.4891 - accuracy: 0.8287 - val_loss: 0.4625 - val_accuracy: 0.8367\n",
            "Epoch 14/40\n",
            "1500/1500 [==============================] - 3s 2ms/step - loss: 0.4731 - accuracy: 0.8351 - val_loss: 0.4573 - val_accuracy: 0.8389\n",
            "Epoch 15/40\n",
            "1500/1500 [==============================] - 3s 2ms/step - loss: 0.4710 - accuracy: 0.8356 - val_loss: 0.4525 - val_accuracy: 0.8402\n",
            "Epoch 16/40\n",
            "1500/1500 [==============================] - 2s 2ms/step - loss: 0.4667 - accuracy: 0.8370 - val_loss: 0.4471 - val_accuracy: 0.8420\n",
            "Epoch 17/40\n",
            "1500/1500 [==============================] - 3s 2ms/step - loss: 0.4534 - accuracy: 0.8414 - val_loss: 0.4417 - val_accuracy: 0.8430\n",
            "Epoch 18/40\n",
            "1500/1500 [==============================] - 2s 2ms/step - loss: 0.4491 - accuracy: 0.8428 - val_loss: 0.4368 - val_accuracy: 0.8464\n",
            "Epoch 19/40\n",
            "1500/1500 [==============================] - 2s 2ms/step - loss: 0.4427 - accuracy: 0.8426 - val_loss: 0.4329 - val_accuracy: 0.8468\n",
            "Epoch 20/40\n",
            "1500/1500 [==============================] - 2s 2ms/step - loss: 0.4427 - accuracy: 0.8445 - val_loss: 0.4294 - val_accuracy: 0.8495\n",
            "Epoch 21/40\n",
            "1500/1500 [==============================] - 2s 2ms/step - loss: 0.4402 - accuracy: 0.8442 - val_loss: 0.4279 - val_accuracy: 0.8508\n",
            "Epoch 22/40\n",
            "1500/1500 [==============================] - 2s 2ms/step - loss: 0.4392 - accuracy: 0.8459 - val_loss: 0.4222 - val_accuracy: 0.8509\n",
            "Epoch 23/40\n",
            "1500/1500 [==============================] - 2s 2ms/step - loss: 0.4339 - accuracy: 0.8474 - val_loss: 0.4202 - val_accuracy: 0.8537\n",
            "Epoch 24/40\n",
            "1500/1500 [==============================] - 2s 2ms/step - loss: 0.4303 - accuracy: 0.8484 - val_loss: 0.4165 - val_accuracy: 0.8537\n",
            "Epoch 25/40\n",
            "1500/1500 [==============================] - 2s 2ms/step - loss: 0.4237 - accuracy: 0.8508 - val_loss: 0.4140 - val_accuracy: 0.8547\n",
            "Epoch 26/40\n",
            "1500/1500 [==============================] - 2s 2ms/step - loss: 0.4186 - accuracy: 0.8530 - val_loss: 0.4106 - val_accuracy: 0.8560\n",
            "Epoch 27/40\n",
            "1500/1500 [==============================] - 2s 2ms/step - loss: 0.4144 - accuracy: 0.8541 - val_loss: 0.4086 - val_accuracy: 0.8577\n",
            "Epoch 28/40\n",
            "1500/1500 [==============================] - 2s 2ms/step - loss: 0.4191 - accuracy: 0.8525 - val_loss: 0.4094 - val_accuracy: 0.8572\n",
            "Epoch 29/40\n",
            "1500/1500 [==============================] - 2s 2ms/step - loss: 0.4127 - accuracy: 0.8530 - val_loss: 0.4043 - val_accuracy: 0.8571\n",
            "Epoch 30/40\n",
            "1500/1500 [==============================] - 2s 2ms/step - loss: 0.4055 - accuracy: 0.8559 - val_loss: 0.4034 - val_accuracy: 0.8602\n",
            "Epoch 31/40\n",
            "1500/1500 [==============================] - 2s 2ms/step - loss: 0.4106 - accuracy: 0.8536 - val_loss: 0.4021 - val_accuracy: 0.8573\n",
            "Epoch 32/40\n",
            "1500/1500 [==============================] - 2s 2ms/step - loss: 0.4108 - accuracy: 0.8560 - val_loss: 0.4004 - val_accuracy: 0.8594\n",
            "Epoch 33/40\n",
            "1500/1500 [==============================] - 2s 2ms/step - loss: 0.4094 - accuracy: 0.8562 - val_loss: 0.3970 - val_accuracy: 0.8592\n",
            "Epoch 34/40\n",
            "1500/1500 [==============================] - 2s 2ms/step - loss: 0.3965 - accuracy: 0.8585 - val_loss: 0.3973 - val_accuracy: 0.8589\n",
            "Epoch 35/40\n",
            "1500/1500 [==============================] - 2s 2ms/step - loss: 0.3964 - accuracy: 0.8591 - val_loss: 0.3953 - val_accuracy: 0.8630\n",
            "Epoch 36/40\n",
            "1500/1500 [==============================] - 2s 2ms/step - loss: 0.4031 - accuracy: 0.8582 - val_loss: 0.3914 - val_accuracy: 0.8620\n",
            "Epoch 37/40\n",
            "1500/1500 [==============================] - 2s 2ms/step - loss: 0.3918 - accuracy: 0.8614 - val_loss: 0.3907 - val_accuracy: 0.8624\n",
            "Epoch 38/40\n",
            "1500/1500 [==============================] - 2s 2ms/step - loss: 0.3952 - accuracy: 0.8609 - val_loss: 0.3885 - val_accuracy: 0.8631\n",
            "Epoch 39/40\n",
            "1500/1500 [==============================] - 2s 2ms/step - loss: 0.3922 - accuracy: 0.8606 - val_loss: 0.3883 - val_accuracy: 0.8643\n",
            "Epoch 40/40\n",
            "1500/1500 [==============================] - 2s 2ms/step - loss: 0.3904 - accuracy: 0.8605 - val_loss: 0.3877 - val_accuracy: 0.8626\n"
          ],
          "name": "stdout"
        }
      ]
    },
    {
      "cell_type": "code",
      "metadata": {
        "colab": {
          "base_uri": "https://localhost:8080/"
        },
        "id": "Ej22ky3skhWt",
        "outputId": "d4e3a1a1-34c4-4d42-e6df-5b4fa95f84b4"
      },
      "source": [
        "print(history.history.keys())"
      ],
      "execution_count": 36,
      "outputs": [
        {
          "output_type": "stream",
          "text": [
            "dict_keys(['loss', 'accuracy', 'val_loss', 'val_accuracy'])\n"
          ],
          "name": "stdout"
        }
      ]
    },
    {
      "cell_type": "code",
      "metadata": {
        "colab": {
          "base_uri": "https://localhost:8080/",
          "height": 281
        },
        "id": "NZfK9_yRk7_z",
        "outputId": "b88cb683-30b0-4144-83c9-08f3eb57904e"
      },
      "source": [
        "plt.plot(history.history['loss'])\r\n",
        "plt.plot(history.history['val_loss'])\r\n",
        "plt.ylabel('loss')\r\n",
        "plt.xlabel('epoch')\r\n",
        "plt.legend(['train_loss','val_loss'])\r\n",
        "plt.show()"
      ],
      "execution_count": 37,
      "outputs": [
        {
          "output_type": "display_data",
          "data": {
            "image/png": "[encoded data removed]",
            "text/plain": [
              "<Figure size 432x288 with 1 Axes>"
            ]
          },
          "metadata": {
            "tags": [],
            "needs_background": "light"
          }
        }
      ]
    },
    {
      "cell_type": "code",
      "metadata": {
        "colab": {
          "base_uri": "https://localhost:8080/",
          "height": 279
        },
        "id": "vuZOV_8NlJgJ",
        "outputId": "a97c5043-e13d-4413-bc55-b67d95bd3b23"
      },
      "source": [
        "plt.plot(history.history['accuracy'])\r\n",
        "plt.plot(history.history['val_accuracy'])\r\n",
        "plt.ylabel('accuracy')\r\n",
        "plt.xlabel('epoch')\r\n",
        "plt.legend(['train_accuracy','val_accuracy'])\r\n",
        "plt.show()"
      ],
      "execution_count": 38,
      "outputs": [
        {
          "output_type": "display_data",
          "data": {
            "image/png": "[encoded data removed]",
            "text/plain": [
              "<Figure size 432x288 with 1 Axes>"
            ]
          },
          "metadata": {
            "tags": [],
            "needs_background": "light"
          }
        }
      ]
    },
    {
      "cell_type": "code",
      "metadata": {
        "colab": {
          "base_uri": "https://localhost:8080/"
        },
        "id": "Repw3nPdlaY4",
        "outputId": "a5021e2a-ce96-408d-d5a9-9f9222aa5431"
      },
      "source": [
        "loss, accuracy = model.evaluate(x_val, y_val_encoded, verbose=0)\r\n",
        "print(accuracy)"
      ],
      "execution_count": 39,
      "outputs": [
        {
          "output_type": "stream",
          "text": [
            "0.862583339214325\n"
          ],
          "name": "stdout"
        }
      ]
    },
    {
      "cell_type": "code",
      "metadata": {
        "id": "4HrCjzmrl-KG"
      },
      "source": [
        ""
      ],
      "execution_count": null,
      "outputs": []
    }
  ]
}