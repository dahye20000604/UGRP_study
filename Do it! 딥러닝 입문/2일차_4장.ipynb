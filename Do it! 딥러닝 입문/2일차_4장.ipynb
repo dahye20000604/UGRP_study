{
 "cells": [
  {
   "cell_type": "markdown",
   "metadata": {},
   "source": [
    "# 퍼셉트론\n",
    "- 이진분류 : 임의의 샘플 데이터를 True나 False로 구분하는 문제\n",
    "- 퍼셉트론의 전체 구조 : 선형 회귀와 유사 / 마지막 단계에서 샘플을 이진 분류하기 위해 계단 함수 사용\n",
    "- 계단 함수 : z가 0보다 크거나 같으면 1(양성 클래스), 0보다 작으면 -1(음성 클래스)로 분류\n",
    "\n",
    "# 아달린\n",
    "- 퍼셉트론을 개선한 적응형 선형 뉴런\n",
    "- 계단 함수 출력 전 역방향 계산\n",
    "\n",
    "# 로지스틱 회귀\n",
    "- 아달린에서 조금 더 발전된 형태\n",
    "- 선형 회귀 -> z -> 활성화 함수 -> a -> 임계 함수 -> y_hat\n",
    "- 활성화 함수는 비선형 함수를 사용함(로지스틱 회귀에서는 시그모이드 함수를 사용)"
   ]
  },
  {
   "cell_type": "markdown",
   "metadata": {},
   "source": [
    "# 시그모이드 함수 : 오즈 비>로짓 함수>시그모이드 함수\n",
    "### 오즈비\n",
    "- p/(1-p) (p=성공 확률)\n",
    "\n",
    "### 로짓 함수\n",
    "- logit(p)=log(p/(1-p))\n",
    "- p가 0.5일 때 0이 되고 p가 0과 1일 때 각각 무한대로 음수와 양수가 된다.\n",
    "\n",
    "### 로지스틱 함수(시그모이드 함수)\n",
    "- log(p/(1-p))=z를 z에 대해 정리 -> $$p={1 \\over 1+e^{-z}}$$"
   ]
  },
  {
   "cell_type": "markdown",
   "metadata": {},
   "source": [
    "# 로지스틱 손실 함수\n",
    "- 다중 분류를 위한 손실 함수인 크로스 엔트로피 손실 함수를 이진 분류 버전으로 만든 것\n",
    " $$ L=-(ylog(a)+(1-y)log(1-a)) $$\n",
    "- y=1(양성 클래스), L=-log(a)\n",
    "- y=0(음성 클래스), L=-log(1-a)\n",
    "- 가중치에 대한 미분\n",
    "$$ {\\partial \\over \\partial w_i} L=-(y-a)x_i $$\n",
    "- 절편에 대한 미분\n",
    "$$ {\\partial \\over \\partial b} L=-(y-a)1 $$\n",
    "$$ => w_i=w_i+(y-a)x_i, b=b+(y-a)1 $$ "
   ]
  },
  {
   "cell_type": "code",
   "execution_count": 1,
   "metadata": {},
   "outputs": [],
   "source": [
    "# 유방암 데이터 세트 준비하기\n",
    "from sklearn.datasets import load_breast_cancer\n",
    "cancer = load_breast_cancer()"
   ]
  },
  {
   "cell_type": "code",
   "execution_count": 2,
   "metadata": {},
   "outputs": [
    {
     "name": "stdout",
     "output_type": "stream",
     "text": [
      "(569, 30) (569,)\n"
     ]
    }
   ],
   "source": [
    "print(cancer.data.shape, cancer.target.shape)"
   ]
  },
  {
   "cell_type": "code",
   "execution_count": 3,
   "metadata": {},
   "outputs": [
    {
     "data": {
      "text/plain": [
       "array([[1.799e+01, 1.038e+01, 1.228e+02, 1.001e+03, 1.184e-01, 2.776e-01,\n",
       "        3.001e-01, 1.471e-01, 2.419e-01, 7.871e-02, 1.095e+00, 9.053e-01,\n",
       "        8.589e+00, 1.534e+02, 6.399e-03, 4.904e-02, 5.373e-02, 1.587e-02,\n",
       "        3.003e-02, 6.193e-03, 2.538e+01, 1.733e+01, 1.846e+02, 2.019e+03,\n",
       "        1.622e-01, 6.656e-01, 7.119e-01, 2.654e-01, 4.601e-01, 1.189e-01],\n",
       "       [2.057e+01, 1.777e+01, 1.329e+02, 1.326e+03, 8.474e-02, 7.864e-02,\n",
       "        8.690e-02, 7.017e-02, 1.812e-01, 5.667e-02, 5.435e-01, 7.339e-01,\n",
       "        3.398e+00, 7.408e+01, 5.225e-03, 1.308e-02, 1.860e-02, 1.340e-02,\n",
       "        1.389e-02, 3.532e-03, 2.499e+01, 2.341e+01, 1.588e+02, 1.956e+03,\n",
       "        1.238e-01, 1.866e-01, 2.416e-01, 1.860e-01, 2.750e-01, 8.902e-02],\n",
       "       [1.969e+01, 2.125e+01, 1.300e+02, 1.203e+03, 1.096e-01, 1.599e-01,\n",
       "        1.974e-01, 1.279e-01, 2.069e-01, 5.999e-02, 7.456e-01, 7.869e-01,\n",
       "        4.585e+00, 9.403e+01, 6.150e-03, 4.006e-02, 3.832e-02, 2.058e-02,\n",
       "        2.250e-02, 4.571e-03, 2.357e+01, 2.553e+01, 1.525e+02, 1.709e+03,\n",
       "        1.444e-01, 4.245e-01, 4.504e-01, 2.430e-01, 3.613e-01, 8.758e-02]])"
      ]
     },
     "execution_count": 3,
     "metadata": {},
     "output_type": "execute_result"
    }
   ],
   "source": [
    "cancer.data[:3]"
   ]
  },
  {
   "cell_type": "code",
   "execution_count": 4,
   "metadata": {},
   "outputs": [],
   "source": [
    "import matplotlib.pyplot as plt\n",
    "import numpy as np"
   ]
  },
  {
   "cell_type": "code",
   "execution_count": 5,
   "metadata": {},
   "outputs": [
    {
     "data": {
      "text/plain": [
       "Text(0, 0.5, 'value')"
      ]
     },
     "execution_count": 5,
     "metadata": {},
     "output_type": "execute_result"
    },
    {
     "data": {
      "image/png": "[encoded data removed]",
      "text/plain": [
       "<Figure size 432x288 with 1 Axes>"
      ]
     },
     "metadata": {
      "needs_background": "light"
     },
     "output_type": "display_data"
    }
   ],
   "source": [
    "plt.boxplot(cancer.data)\n",
    "plt.xlabel('feature')\n",
    "plt.ylabel('value')"
   ]
  },
  {
   "cell_type": "code",
   "execution_count": 6,
   "metadata": {},
   "outputs": [
    {
     "data": {
      "text/plain": [
       "array(['mean area', 'area error', 'worst area'], dtype='<U23')"
      ]
     },
     "execution_count": 6,
     "metadata": {},
     "output_type": "execute_result"
    }
   ],
   "source": [
    "cancer.feature_names[[3,13,23]]"
   ]
  },
  {
   "cell_type": "code",
   "execution_count": 7,
   "metadata": {},
   "outputs": [
    {
     "data": {
      "text/plain": [
       "(array([0, 1]), array([212, 357], dtype=int64))"
      ]
     },
     "execution_count": 7,
     "metadata": {},
     "output_type": "execute_result"
    }
   ],
   "source": [
    "np.unique(cancer.target, return_counts=True)"
   ]
  },
  {
   "cell_type": "code",
   "execution_count": 8,
   "metadata": {},
   "outputs": [],
   "source": [
    "x=cancer.data\n",
    "y=cancer.target"
   ]
  },
  {
   "cell_type": "code",
   "execution_count": 9,
   "metadata": {},
   "outputs": [],
   "source": [
    "# 훈련 세트와 테스트 세트로 나누기\n",
    "from sklearn.model_selection import train_test_split"
   ]
  },
  {
   "cell_type": "code",
   "execution_count": 10,
   "metadata": {},
   "outputs": [],
   "source": [
    "x_train, x_test, y_train, y_test = train_test_split(x, y, stratify=y, test_size=0.2, random_state=42)"
   ]
  },
  {
   "cell_type": "code",
   "execution_count": 11,
   "metadata": {},
   "outputs": [
    {
     "name": "stdout",
     "output_type": "stream",
     "text": [
      "(455, 30) (114, 30)\n"
     ]
    }
   ],
   "source": [
    "print(x_train.shape, x_test.shape)"
   ]
  },
  {
   "cell_type": "code",
   "execution_count": 12,
   "metadata": {},
   "outputs": [
    {
     "data": {
      "text/plain": [
       "(array([0, 1]), array([170, 285], dtype=int64))"
      ]
     },
     "execution_count": 12,
     "metadata": {},
     "output_type": "execute_result"
    }
   ],
   "source": [
    "np.unique(y_train, return_counts=True)"
   ]
  },
  {
   "cell_type": "code",
   "execution_count": 13,
   "metadata": {},
   "outputs": [],
   "source": [
    "# 로지스틱 회귀 분석하기\n",
    "class LogisticNeuron:\n",
    "    def __init__(self):\n",
    "        self.w = None\n",
    "        self.b = None\n",
    "    def forpass(self,x):\n",
    "        z=np.sum(x*self.w)+self.b # 직선 방정식을 계산합니다.\n",
    "        return z\n",
    "    def backprop(self,x,err):\n",
    "        w_grad =x*err             # 가중치에 대한 그레디언트를 계산합니다.\n",
    "        b_grad=1*err              # 절편에 대한 그레디언트를 계산합니다.\n",
    "        return w_grad, b_grad\n",
    "    # 훈련하는 메서드 구현하기\n",
    "    def fit(self, x, y, epochs=100):\n",
    "        self.w=np.ones(x.shape[1]) # 가중치를 초기화합니다.\n",
    "        self.b=0.5                 # 절편을 초기화합니다. \n",
    "        for i in range(epochs):   # epochs만큼 반복합니다.\n",
    "            for x_i, y_i in zip(x,y): # 모든 샘플에 대해 반복합니다.\n",
    "                z=self.forpass(x_i)   # 정방향 계산\n",
    "                a=self.activation(z)  # 활성화 함수 적용\n",
    "                err=-(y_i-a)          # 오차 계산\n",
    "                w_grad, b_grad = self.backprop(x_i,err)  #역방향 계산\n",
    "                self.w -= w_grad  # 가중치 업데이트\n",
    "                self.b -= b_grad  # 절편 업데이트\n",
    "    def activation(self,z):\n",
    "        a=1/(1+np.exp(-z))       # 시그모이드 계산\n",
    "        return a\n",
    "    #예측하는 메서드 구현하기\n",
    "    def predict(self, x):\n",
    "        z=[self.forpass(x_i) for x_i in x]  # 정방향 계산\n",
    "        a=self.activation(np.array(z))      # 활성화 함수 적용\n",
    "        return a>0.5"
   ]
  },
  {
   "cell_type": "code",
   "execution_count": 14,
   "metadata": {},
   "outputs": [
    {
     "name": "stderr",
     "output_type": "stream",
     "text": [
      "<ipython-input-13-72e7f55e7309>:26: RuntimeWarning: overflow encountered in exp\n",
      "  a=1/(1+np.exp(-z))       # 시그모이드 계산\n"
     ]
    }
   ],
   "source": [
    "#로지스틱 회귀 모델 훈련시키기\n",
    "neuron = LogisticNeuron()\n",
    "neuron.fit(x_train, y_train)"
   ]
  },
  {
   "cell_type": "code",
   "execution_count": 15,
   "metadata": {},
   "outputs": [
    {
     "name": "stderr",
     "output_type": "stream",
     "text": [
      "<ipython-input-13-72e7f55e7309>:26: RuntimeWarning: overflow encountered in exp\n",
      "  a=1/(1+np.exp(-z))       # 시그모이드 계산\n"
     ]
    },
    {
     "data": {
      "text/plain": [
       "0.8245614035087719"
      ]
     },
     "execution_count": 15,
     "metadata": {},
     "output_type": "execute_result"
    }
   ],
   "source": [
    "np.mean(neuron.predict(x_test)==y_test)"
   ]
  },
  {
   "cell_type": "code",
   "execution_count": 16,
   "metadata": {},
   "outputs": [],
   "source": [
    "# 단일층 신경망을 구현합니다\n",
    "class SingleLayer:\n",
    "    def __init__(self):\n",
    "        self.w = None\n",
    "        self.b = None\n",
    "        self.losses=[]\n",
    "    def forpass(self,x):\n",
    "        z=np.sum(x*self.w)+self.b # 직선 방정식을 계산합니다.\n",
    "        return z\n",
    "    def backprop(self,x,err):\n",
    "        w_grad =x*err             # 가중치에 대한 그레디언트를 계산합니다.\n",
    "        b_grad=1*err              # 절편에 대한 그레디언트를 계산합니다.\n",
    "        return w_grad, b_grad\n",
    "    # 훈련하는 메서드 구현하기\n",
    "    def fit(self, x, y, epochs=100):\n",
    "        self.w=np.ones(x.shape[1]) # 가중치를 초기화합니다.\n",
    "        self.b=0.5                 # 절편을 초기화합니다. \n",
    "        for i in range(epochs):   # epochs만큼 반복합니다.\n",
    "            loss=0\n",
    "            indexes=np.random.permutation(np.arange(len(x))) # 인덱스를 섞습니다.\n",
    "            for i in indexes: # 모든 샘플에 대해 반복합니다.\n",
    "                z=self.forpass(x[i])   # 정방향 계산\n",
    "                a=self.activation(z)  # 활성화 함수 적용\n",
    "                err=-(y[i]-a)          # 오차 계산\n",
    "                w_grad, b_grad = self.backprop(x[i],err)  #역방향 계산\n",
    "                self.w -= w_grad  # 가중치 업데이트\n",
    "                self.b -= b_grad  # 절편 업데이트\n",
    "                a=np.clip(a,1e-10,1-1e-10) # 안전한 로그 계산을 위해 클리핑한 후 손실을 누적합니다.\n",
    "                loss += -(y[i]*np.log(a)+(1-y[i])*np.log(1-a)) # 에포크마다 평균 손실을 누적합니다.\n",
    "            self.losses.append(loss/len(y))\n",
    "                \n",
    "    def activation(self,z):\n",
    "        a=1/(1+np.exp(-z))       # 시그모이드 계산\n",
    "        return a\n",
    "    #예측하는 메서드 구현하기\n",
    "    def predict(self, x):\n",
    "        z=[self.forpass(x_i) for x_i in x]  # 정방향 계산\n",
    "        return np.array(z)>0\n",
    "    def score(self,x,y):\n",
    "        return np.mean(self.predict(x)==y)"
   ]
  },
  {
   "cell_type": "markdown",
   "metadata": {},
   "source": [
    "# 경사 하강법\n",
    "### 확률적 경사 하강법\n",
    "- 샘플 데이터 1개에 대한 그레디언트 계산\n",
    "- 계산 비용이 적지만 불안정함\n",
    "\n",
    "### 배치 경사 하강법\n",
    "- 샘플 데이터 전체에 대한 그레디언트 계산\n",
    "- 최적값에 수렴하는 과정이 안정적이지만 계산 비용이 많이 듬\n",
    "\n",
    "### 미니 배치 경사 하강법\n",
    "- 샘플 데이터에서 무작위로 선택한 일부에 대한 그레디언트 계산\n",
    "- 확률적 경사 하강법과 배치 경사 하강법의 장점을 절충한 것"
   ]
  },
  {
   "cell_type": "code",
   "execution_count": 17,
   "metadata": {},
   "outputs": [
    {
     "name": "stderr",
     "output_type": "stream",
     "text": [
      "<ipython-input-16-68c9305768c8>:33: RuntimeWarning: overflow encountered in exp\n",
      "  a=1/(1+np.exp(-z))       # 시그모이드 계산\n"
     ]
    },
    {
     "data": {
      "text/plain": [
       "0.9298245614035088"
      ]
     },
     "execution_count": 17,
     "metadata": {},
     "output_type": "execute_result"
    }
   ],
   "source": [
    "# 단일층 신경망 훈련하기\n",
    "layer = SingleLayer()\n",
    "layer.fit(x_train, y_train)\n",
    "layer.score(x_test, y_test)"
   ]
  },
  {
   "cell_type": "code",
   "execution_count": 18,
   "metadata": {},
   "outputs": [
    {
     "data": {
      "image/png": "[encoded data removed]",
      "text/plain": [
       "<Figure size 432x288 with 1 Axes>"
      ]
     },
     "metadata": {
      "needs_background": "light"
     },
     "output_type": "display_data"
    }
   ],
   "source": [
    "plt.plot(layer.losses)\n",
    "plt.xlabel('epoch')\n",
    "plt.ylabel('loss')\n",
    "plt.show()"
   ]
  },
  {
   "cell_type": "code",
   "execution_count": 19,
   "metadata": {},
   "outputs": [],
   "source": [
    "# 사이킷런으로 경사 하강법 적용하기\n",
    "from sklearn.linear_model import SGDClassifier\n",
    "sgd = SGDClassifier(loss='log', max_iter=100, tol=1e-3, random_state=42)"
   ]
  },
  {
   "cell_type": "code",
   "execution_count": 20,
   "metadata": {},
   "outputs": [
    {
     "data": {
      "text/plain": [
       "0.8333333333333334"
      ]
     },
     "execution_count": 20,
     "metadata": {},
     "output_type": "execute_result"
    }
   ],
   "source": [
    "sgd.fit(x_train,y_train)\n",
    "sgd.score(x_test,y_test)"
   ]
  },
  {
   "cell_type": "code",
   "execution_count": 21,
   "metadata": {},
   "outputs": [
    {
     "data": {
      "text/plain": [
       "array([0, 1, 0, 0, 0, 0, 1, 0, 0, 0])"
      ]
     },
     "execution_count": 21,
     "metadata": {},
     "output_type": "execute_result"
    }
   ],
   "source": [
    "sgd.predict(x_test[0:10])"
   ]
  },
  {
   "cell_type": "code",
   "execution_count": null,
   "metadata": {},
   "outputs": [],
   "source": []
  }
 ],
 "metadata": {
  "kernelspec": {
   "display_name": "Python 3",
   "language": "python",
   "name": "python3"
  },
  "language_info": {
   "codemirror_mode": {
    "name": "ipython",
    "version": 3
   },
   "file_extension": ".py",
   "mimetype": "text/x-python",
   "name": "python",
   "nbconvert_exporter": "python",
   "pygments_lexer": "ipython3",
   "version": "3.8.5"
  }
 },
 "nbformat": 4,
 "nbformat_minor": 4
}
