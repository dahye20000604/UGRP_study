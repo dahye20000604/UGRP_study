{
 "cells": [
  {
   "cell_type": "markdown",
   "metadata": {},
   "source": [
    "# 8-1. 합성곱 연산"
   ]
  },
  {
   "cell_type": "code",
   "execution_count": 1,
   "metadata": {},
   "outputs": [],
   "source": [
    "import numpy as np\n",
    "w=np.array([2,1,5,3])\n",
    "x=np.array([2,8,3,7,1,2,0,4,5])"
   ]
  },
  {
   "cell_type": "code",
   "execution_count": 2,
   "metadata": {},
   "outputs": [
    {
     "name": "stdout",
     "output_type": "stream",
     "text": [
      "[3 5 1 2]\n"
     ]
    }
   ],
   "source": [
    "w_r=np.flip(w)\n",
    "print(w_r)"
   ]
  },
  {
   "cell_type": "code",
   "execution_count": 3,
   "metadata": {},
   "outputs": [
    {
     "name": "stdout",
     "output_type": "stream",
     "text": [
      "63\n",
      "48\n",
      "49\n",
      "28\n",
      "21\n",
      "20\n"
     ]
    }
   ],
   "source": [
    "for i in range(6):\n",
    "    print(np.dot(x[i:i+4],w_r))"
   ]
  },
  {
   "cell_type": "code",
   "execution_count": 4,
   "metadata": {},
   "outputs": [
    {
     "data": {
      "text/plain": [
       "array([63, 48, 49, 28, 21, 20])"
      ]
     },
     "execution_count": 4,
     "metadata": {},
     "output_type": "execute_result"
    }
   ],
   "source": [
    "from scipy.signal import convolve\n",
    "convolve(x,w,mode='valid')"
   ]
  },
  {
   "cell_type": "code",
   "execution_count": 5,
   "metadata": {},
   "outputs": [
    {
     "data": {
      "text/plain": [
       "array([48, 57, 24, 25, 16, 39])"
      ]
     },
     "execution_count": 5,
     "metadata": {},
     "output_type": "execute_result"
    }
   ],
   "source": [
    "from scipy.signal import correlate\n",
    "correlate(x,w,mode='valid')  #valid 패딩"
   ]
  },
  {
   "cell_type": "code",
   "execution_count": 6,
   "metadata": {},
   "outputs": [
    {
     "data": {
      "text/plain": [
       "array([ 6, 34, 51, 48, 57, 24, 25, 16, 39, 29, 13, 10])"
      ]
     },
     "execution_count": 6,
     "metadata": {},
     "output_type": "execute_result"
    }
   ],
   "source": [
    "correlate(x,w,mode='full')  #full 패딩==zero 패딩"
   ]
  },
  {
   "cell_type": "code",
   "execution_count": 7,
   "metadata": {},
   "outputs": [
    {
     "data": {
      "text/plain": [
       "array([34, 51, 48, 57, 24, 25, 16, 39, 29])"
      ]
     },
     "execution_count": 7,
     "metadata": {},
     "output_type": "execute_result"
    }
   ],
   "source": [
    "correlate(x,w,mode='same')  #same 패딩"
   ]
  },
  {
   "cell_type": "code",
   "execution_count": 8,
   "metadata": {},
   "outputs": [
    {
     "data": {
      "text/plain": [
       "array([[ 2,  4],\n",
       "       [ 8, 10]])"
      ]
     },
     "execution_count": 8,
     "metadata": {},
     "output_type": "execute_result"
    }
   ],
   "source": [
    "x=np.array([[1,2,3],[4,5,6],[7,8,9]])\n",
    "w=np.array([[2,0],[0,0]])\n",
    "from scipy.signal import correlate2d\n",
    "correlate2d(x,w,mode='valid')"
   ]
  },
  {
   "cell_type": "code",
   "execution_count": 9,
   "metadata": {},
   "outputs": [
    {
     "data": {
      "text/plain": [
       "array([[ 2,  4,  6],\n",
       "       [ 8, 10, 12],\n",
       "       [14, 16, 18]])"
      ]
     },
     "execution_count": 9,
     "metadata": {},
     "output_type": "execute_result"
    }
   ],
   "source": [
    "correlate2d(x,w,mode='same')"
   ]
  },
  {
   "cell_type": "code",
   "execution_count": 10,
   "metadata": {},
   "outputs": [],
   "source": [
    "import tensorflow as tf\n",
    "x_4d=x.astype(np.float).reshape(1,3,3,1)\n",
    "w_4d=w.reshape(2,2,1,1)"
   ]
  },
  {
   "cell_type": "code",
   "execution_count": 11,
   "metadata": {},
   "outputs": [],
   "source": [
    "c_out=tf.nn.conv2d(x_4d,w_4d,strides=1,padding='SAME')"
   ]
  },
  {
   "cell_type": "code",
   "execution_count": 12,
   "metadata": {},
   "outputs": [
    {
     "data": {
      "text/plain": [
       "array([[ 2.,  4.,  6.],\n",
       "       [ 8., 10., 12.],\n",
       "       [14., 16., 18.]])"
      ]
     },
     "execution_count": 12,
     "metadata": {},
     "output_type": "execute_result"
    }
   ],
   "source": [
    "c_out.numpy().reshape(3,3)"
   ]
  },
  {
   "cell_type": "markdown",
   "metadata": {},
   "source": [
    "# 8-2. 풀링 연산"
   ]
  },
  {
   "cell_type": "code",
   "execution_count": 13,
   "metadata": {},
   "outputs": [],
   "source": [
    "x=np.array([[1,2,3,4],[5,6,7,8],[9,10,11,12],[13,14,15,16]])\n",
    "x=x.reshape(1,4,4,1)"
   ]
  },
  {
   "cell_type": "code",
   "execution_count": 16,
   "metadata": {},
   "outputs": [
    {
     "data": {
      "text/plain": [
       "array([[ 6.,  8.],\n",
       "       [14., 16.]], dtype=float32)"
      ]
     },
     "execution_count": 16,
     "metadata": {},
     "output_type": "execute_result"
    }
   ],
   "source": [
    "p_out=tf.nn.max_pool2d(x,ksize=2,strides=2,padding='VALID')\n",
    "p_out.numpy().reshape(2,2)"
   ]
  },
  {
   "cell_type": "markdown",
   "metadata": {},
   "source": [
    "# 8-3. 합성곱 신경망의 구조"
   ]
  },
  {
   "cell_type": "code",
   "execution_count": 17,
   "metadata": {},
   "outputs": [],
   "source": [
    "def relu(x):\n",
    "    return np.maximum(x,0)"
   ]
  },
  {
   "cell_type": "code",
   "execution_count": 19,
   "metadata": {},
   "outputs": [
    {
     "data": {
      "text/plain": [
       "array([0, 2, 0, 4, 0])"
      ]
     },
     "execution_count": 19,
     "metadata": {},
     "output_type": "execute_result"
    }
   ],
   "source": [
    "x=np.array([-1,2,-3,4,-5])\n",
    "relu(x)"
   ]
  },
  {
   "cell_type": "code",
   "execution_count": 20,
   "metadata": {},
   "outputs": [
    {
     "data": {
      "text/plain": [
       "array([0, 2, 0, 4, 0])"
      ]
     },
     "execution_count": 20,
     "metadata": {},
     "output_type": "execute_result"
    }
   ],
   "source": [
    "r_out=tf.nn.relu(x)\n",
    "r_out.numpy()"
   ]
  },
  {
   "cell_type": "markdown",
   "metadata": {},
   "source": [
    "# 8-4. 합성곱 신경망 만들기"
   ]
  },
  {
   "cell_type": "code",
   "execution_count": 22,
   "metadata": {},
   "outputs": [
    {
     "name": "stdout",
     "output_type": "stream",
     "text": [
      "tf.Tensor([ 5. 14. 29.], shape=(3,), dtype=float64)\n"
     ]
    }
   ],
   "source": [
    "x=tf.Variable(np.array([1.0,2.0,3.0]))\n",
    "with tf.GradientTape() as tape:\n",
    "    y=x**3+2*x+5\n",
    "print(tape.gradient(y,x))"
   ]
  },
  {
   "cell_type": "code",
   "execution_count": 33,
   "metadata": {},
   "outputs": [],
   "source": [
    "class ConvolutionNetwork:\n",
    "    \n",
    "    def __init__(self,n_kernels=10,units=10,batch_size=32,learning_rate=0.1):\n",
    "        self.n_kernels=n_kernels\n",
    "        self.kernel_size=3\n",
    "        self.optimizer=None     \n",
    "        self.conv_w=None\n",
    "        self.conv_b=None\n",
    "        self.units=units\n",
    "        self.batch_size=batch_size\n",
    "        self.w1=None\n",
    "        self.b1=None\n",
    "        self.w2=None\n",
    "        self.b2=None\n",
    "        self.a1=None\n",
    "        self.losses=[]\n",
    "        self.val_losses=[]\n",
    "        self.lr=learning_rate\n",
    "        \n",
    "    def forpass(self,x):\n",
    "        c_out=tf.nn.conv2d(x,self.conv_w,strides=1,padding='SAME')+self.conv_b\n",
    "        r_out=tf.nn.relu(c_out)\n",
    "        p_out=tf.nn.max_pool2d(r_out,ksize=2,strides=2,padding='VALID')\n",
    "        f_out=tf.reshape(p_out,[x.shape[0],-1])\n",
    "        z1=tf.matmul(f_out,self.w1)+self.b1\n",
    "        a1=tf.nn.relu(z1)\n",
    "        z2=tf.matmul(a1,self.w2)+self.b2\n",
    "        return z2\n",
    "    \n",
    "    def init_weights(self,input_shape,n_classes):             #input_shape 없어도 된다.\n",
    "        g=tf.initializers.glorot_uniform()\n",
    "        self.conv_w=tf.Variable(g((3,3,1,self.n_kernels)))\n",
    "        self.conv_b=tf.Variable(np.zeros(self.n_kernels),dtype=float)\n",
    "        n_features=14*14*self.n_kernels                      # 28*28인 이미지에만 가능하게 되는디\n",
    "        self.w1=tf.Variable(g((n_features,self.units)))\n",
    "        self.b1=tf.Variable(np.zeros(self.units),dtype=float)\n",
    "        self.w2=tf.Variable(g((self.units,n_classes)))\n",
    "        self.b2=tf.Variable(np.zeros(n_classes),dtype=float)\n",
    "        \n",
    "    def fit(self,x,y,epochs=100,x_val=None,y_val=None):\n",
    "        self.init_weights(x.shape,y.shape[1])\n",
    "        self.optimizer=tf.optimizers.SGD(learning_rate=self.lr)\n",
    "        for i in range(epochs):\n",
    "            print('에포크',i,end=' ')\n",
    "            batch_losses=[]\n",
    "            for x_batch,y_batch in self.gen_batch(x,y):\n",
    "                print('.',end='')\n",
    "                self.training(x_batch,y_batch)\n",
    "                batch_losses.append(self.get_loss(x_batch,y_batch))\n",
    "            print()\n",
    "            self.losses.append(np.mean(batch_losses))\n",
    "            self.val_losses.append(self.get_loss(x_val,y_val))\n",
    "            \n",
    "    def gen_batch(self,x,y):\n",
    "        bins=len(x)//self.batch_size\n",
    "        indexes=np.random.permutation(np.arange(len(x)))\n",
    "        x=x[indexes]\n",
    "        y=y[indexes]\n",
    "        for i in range(bins):\n",
    "            start=self.batch_size*i\n",
    "            end=self.batch_size*(i+1)\n",
    "            yield x[start:end],y[start:end]\n",
    "    def training(self,x,y):\n",
    "        m=len(x)\n",
    "        with tf.GradientTape() as tape:\n",
    "            z=self.forpass(x)\n",
    "            loss=tf.nn.softmax_cross_entropy_with_logits(y,z)\n",
    "            loss=tf.reduce_mean(loss)\n",
    "        weights_list=[self.conv_w,self.conv_b,self.w1,self.b1,self.w2,self.b2]\n",
    "        grads=tape.gradient(loss,weights_list)\n",
    "        self.optimizer.apply_gradients(zip(grads,weights_list))\n",
    "        \n",
    "    def predict(self,x):\n",
    "        z=self.forpass(x)\n",
    "        return np.argmax(z.numpy(),axis=1)\n",
    "    \n",
    "    def score(self,x,y):\n",
    "        return np.mean(self.predict(x)==np.argmax(y,axis=1))\n",
    "    \n",
    "    def get_loss(self,x,y):\n",
    "        z=self.forpass(x)\n",
    "        loss=tf.reduce_mean(tf.nn.softmax_cross_entropy_with_logits(y,z))\n",
    "        return loss.numpy()"
   ]
  },
  {
   "cell_type": "code",
   "execution_count": 34,
   "metadata": {},
   "outputs": [],
   "source": [
    "(x_train_all,y_train_all),(x_test,y_test)=tf.keras.datasets.fashion_mnist.load_data()"
   ]
  },
  {
   "cell_type": "code",
   "execution_count": 35,
   "metadata": {},
   "outputs": [],
   "source": [
    "from sklearn.model_selection import train_test_split\n",
    "x_train,x_val,y_train,y_val=train_test_split(x_train_all,y_train_all,stratify=y_train_all,test_size=0.2,random_state=42)"
   ]
  },
  {
   "cell_type": "code",
   "execution_count": 36,
   "metadata": {},
   "outputs": [],
   "source": [
    "y_train_encoded=tf.keras.utils.to_categorical(y_train)\n",
    "y_val_encoded=tf.keras.utils.to_categorical(y_val)"
   ]
  },
  {
   "cell_type": "code",
   "execution_count": 37,
   "metadata": {},
   "outputs": [],
   "source": [
    "x_train=x_train.reshape(-1,28,28,1)\n",
    "x_val=x_val.reshape(-1,28,28,1)"
   ]
  },
  {
   "cell_type": "code",
   "execution_count": 38,
   "metadata": {},
   "outputs": [
    {
     "data": {
      "text/plain": [
       "(48000, 28, 28, 1)"
      ]
     },
     "execution_count": 38,
     "metadata": {},
     "output_type": "execute_result"
    }
   ],
   "source": [
    "x_train.shape"
   ]
  },
  {
   "cell_type": "code",
   "execution_count": 39,
   "metadata": {},
   "outputs": [],
   "source": [
    "x_train=x_train/255\n",
    "x_val=x_val/255"
   ]
  },
  {
   "cell_type": "code",
   "execution_count": 40,
   "metadata": {},
   "outputs": [
    {
     "name": "stdout",
     "output_type": "stream",
     "text": [
      "에포크 0 .......................................................................................................................................................................................................................................................................................................................................................................................\n",
      "에포크 1 .......................................................................................................................................................................................................................................................................................................................................................................................\n",
      "에포크 2 .......................................................................................................................................................................................................................................................................................................................................................................................\n",
      "에포크 3 .......................................................................................................................................................................................................................................................................................................................................................................................\n",
      "에포크 4 .......................................................................................................................................................................................................................................................................................................................................................................................\n",
      "에포크 5 .......................................................................................................................................................................................................................................................................................................................................................................................\n",
      "에포크 6 .......................................................................................................................................................................................................................................................................................................................................................................................\n",
      "에포크 7 .......................................................................................................................................................................................................................................................................................................................................................................................\n",
      "에포크 8 .......................................................................................................................................................................................................................................................................................................................................................................................\n",
      "에포크 9 .......................................................................................................................................................................................................................................................................................................................................................................................\n",
      "에포크 10 .......................................................................................................................................................................................................................................................................................................................................................................................\n",
      "에포크 11 .......................................................................................................................................................................................................................................................................................................................................................................................\n",
      "에포크 12 .......................................................................................................................................................................................................................................................................................................................................................................................\n",
      "에포크 13 .......................................................................................................................................................................................................................................................................................................................................................................................\n",
      "에포크 14 .......................................................................................................................................................................................................................................................................................................................................................................................\n",
      "에포크 15 .......................................................................................................................................................................................................................................................................................................................................................................................\n",
      "에포크 16 .......................................................................................................................................................................................................................................................................................................................................................................................\n",
      "에포크 17 .......................................................................................................................................................................................................................................................................................................................................................................................\n",
      "에포크 18 .......................................................................................................................................................................................................................................................................................................................................................................................\n",
      "에포크 19 .......................................................................................................................................................................................................................................................................................................................................................................................\n"
     ]
    }
   ],
   "source": [
    "cn=ConvolutionNetwork(n_kernels=10,units=100,batch_size=128,learning_rate=0.01)\n",
    "cn.fit(x_train,y_train_encoded,20,x_val,y_val_encoded)"
   ]
  },
  {
   "cell_type": "code",
   "execution_count": 61,
   "metadata": {},
   "outputs": [
    {
     "name": "stdout",
     "output_type": "stream",
     "text": [
      "[[[[1 5]\n",
      "   [2 6]\n",
      "   [0 0]]\n",
      "\n",
      "  [[3 7]\n",
      "   [4 8]\n",
      "   [0 0]]\n",
      "\n",
      "  [[0 0]\n",
      "   [0 0]\n",
      "   [0 0]]]]\n",
      "[[[[1]\n",
      "   [2]\n",
      "   [3]]\n",
      "\n",
      "  [[4]\n",
      "   [5]\n",
      "   [6]]\n",
      "\n",
      "  [[7]\n",
      "   [8]\n",
      "   [9]]]]\n"
     ]
    },
    {
     "data": {
      "text/plain": [
       "array([[[36, 20,  0],\n",
       "        [22, 12,  0],\n",
       "        [ 0,  0,  0]]])"
      ]
     },
     "execution_count": 61,
     "metadata": {},
     "output_type": "execute_result"
    }
   ],
   "source": [
    "a=np.array([1,5,2,6,0,0,3,7,4,8,0,0,0,0,0,0,0,0])     \n",
    "a1=a.reshape(1,3,3,2)\n",
    "b=np.array([1,1,1,1,1,1,1,1])\n",
    "b1=b.reshape(2,2,2,1)\n",
    "c_out=tf.nn.conv2d(a1,b1,strides=1,padding='SAME')\n",
    "c_out.numpy().reshape(-1,3,3)"
   ]
  },
  {
   "cell_type": "code",
   "execution_count": 49,
   "metadata": {},
   "outputs": [
    {
     "data": {
      "image/png": "[encoded data removed]",
      "text/plain": [
       "<Figure size 432x288 with 1 Axes>"
      ]
     },
     "metadata": {
      "needs_background": "light"
     },
     "output_type": "display_data"
    }
   ],
   "source": [
    "import matplotlib.pyplot as plt\n",
    "plt.plot(cn.losses)\n",
    "plt.plot(cn.val_losses)\n",
    "plt.ylabel('loss')\n",
    "plt.xlabel('iteration')\n",
    "plt.legend(['train_loss','val_loss'])\n",
    "plt.show()"
   ]
  },
  {
   "cell_type": "code",
   "execution_count": 50,
   "metadata": {},
   "outputs": [
    {
     "data": {
      "text/plain": [
       "0.88025"
      ]
     },
     "execution_count": 50,
     "metadata": {},
     "output_type": "execute_result"
    }
   ],
   "source": [
    "cn.score(x_val,y_val_encoded)"
   ]
  },
  {
   "cell_type": "markdown",
   "metadata": {},
   "source": [
    "# 8-5. 케라스로 합성곱 신경만 만들기"
   ]
  },
  {
   "cell_type": "code",
   "execution_count": 62,
   "metadata": {},
   "outputs": [],
   "source": [
    "from tensorflow.keras.layers import Conv2D,MaxPooling2D,Flatten,Dense"
   ]
  },
  {
   "cell_type": "code",
   "execution_count": 63,
   "metadata": {},
   "outputs": [],
   "source": [
    "conv1=tf.keras.Sequential()\n",
    "conv1.add(Conv2D(10,(3,3),activation='relu',padding='same',input_shape=(28,28,1)))\n",
    "conv1.add(MaxPooling2D((2,2)))\n",
    "conv1.add(Flatten())\n",
    "conv1.add(Dense(100,activation='relu'))\n",
    "conv1.add(Dense(10,activation='softmax'))"
   ]
  },
  {
   "cell_type": "code",
   "execution_count": 64,
   "metadata": {},
   "outputs": [
    {
     "name": "stdout",
     "output_type": "stream",
     "text": [
      "Model: \"sequential\"\n",
      "_________________________________________________________________\n",
      "Layer (type)                 Output Shape              Param #   \n",
      "=================================================================\n",
      "conv2d (Conv2D)              (None, 28, 28, 10)        100       \n",
      "_________________________________________________________________\n",
      "max_pooling2d (MaxPooling2D) (None, 14, 14, 10)        0         \n",
      "_________________________________________________________________\n",
      "flatten (Flatten)            (None, 1960)              0         \n",
      "_________________________________________________________________\n",
      "dense (Dense)                (None, 100)               196100    \n",
      "_________________________________________________________________\n",
      "dense_1 (Dense)              (None, 10)                1010      \n",
      "=================================================================\n",
      "Total params: 197,210\n",
      "Trainable params: 197,210\n",
      "Non-trainable params: 0\n",
      "_________________________________________________________________\n"
     ]
    }
   ],
   "source": [
    "conv1.summary()"
   ]
  },
  {
   "cell_type": "code",
   "execution_count": 65,
   "metadata": {},
   "outputs": [
    {
     "name": "stdout",
     "output_type": "stream",
     "text": [
      "Epoch 1/20\n",
      "1500/1500 [==============================] - 9s 6ms/step - loss: 0.5781 - accuracy: 0.8003 - val_loss: 0.3363 - val_accuracy: 0.8792\n",
      "Epoch 2/20\n",
      "1500/1500 [==============================] - 9s 6ms/step - loss: 0.3080 - accuracy: 0.8883 - val_loss: 0.2914 - val_accuracy: 0.8947\n",
      "Epoch 3/20\n",
      "1500/1500 [==============================] - 9s 6ms/step - loss: 0.2577 - accuracy: 0.9071 - val_loss: 0.2688 - val_accuracy: 0.9056\n",
      "Epoch 4/20\n",
      "1500/1500 [==============================] - 9s 6ms/step - loss: 0.2223 - accuracy: 0.9181 - val_loss: 0.2494 - val_accuracy: 0.9127\n",
      "Epoch 5/20\n",
      "1500/1500 [==============================] - 9s 6ms/step - loss: 0.2011 - accuracy: 0.9263 - val_loss: 0.2414 - val_accuracy: 0.9159\n",
      "Epoch 6/20\n",
      "1500/1500 [==============================] - 9s 6ms/step - loss: 0.1748 - accuracy: 0.9355 - val_loss: 0.2454 - val_accuracy: 0.9143\n",
      "Epoch 7/20\n",
      "1500/1500 [==============================] - 9s 6ms/step - loss: 0.1588 - accuracy: 0.9401 - val_loss: 0.2503 - val_accuracy: 0.9134\n",
      "Epoch 8/20\n",
      "1500/1500 [==============================] - 9s 6ms/step - loss: 0.1411 - accuracy: 0.9495 - val_loss: 0.2575 - val_accuracy: 0.9157\n",
      "Epoch 9/20\n",
      "1500/1500 [==============================] - 10s 7ms/step - loss: 0.1308 - accuracy: 0.9507 - val_loss: 0.2452 - val_accuracy: 0.9195\n",
      "Epoch 10/20\n",
      "1500/1500 [==============================] - 12s 8ms/step - loss: 0.1093 - accuracy: 0.9606 - val_loss: 0.2706 - val_accuracy: 0.9131\n",
      "Epoch 11/20\n",
      "1500/1500 [==============================] - 12s 8ms/step - loss: 0.1016 - accuracy: 0.9634 - val_loss: 0.2759 - val_accuracy: 0.9168\n",
      "Epoch 12/20\n",
      "1500/1500 [==============================] - 12s 8ms/step - loss: 0.0903 - accuracy: 0.9670 - val_loss: 0.2917 - val_accuracy: 0.9166\n",
      "Epoch 13/20\n",
      "1500/1500 [==============================] - 12s 8ms/step - loss: 0.0821 - accuracy: 0.9704 - val_loss: 0.2881 - val_accuracy: 0.9180\n",
      "Epoch 14/20\n",
      "1500/1500 [==============================] - 12s 8ms/step - loss: 0.0736 - accuracy: 0.9736 - val_loss: 0.3033 - val_accuracy: 0.9209\n",
      "Epoch 15/20\n",
      "1500/1500 [==============================] - 10s 7ms/step - loss: 0.0658 - accuracy: 0.9757 - val_loss: 0.3281 - val_accuracy: 0.9140\n",
      "Epoch 16/20\n",
      "1500/1500 [==============================] - 9s 6ms/step - loss: 0.0544 - accuracy: 0.9802 - val_loss: 0.3383 - val_accuracy: 0.9134\n",
      "Epoch 17/20\n",
      "1500/1500 [==============================] - 9s 6ms/step - loss: 0.0488 - accuracy: 0.9826 - val_loss: 0.3351 - val_accuracy: 0.9186\n",
      "Epoch 18/20\n",
      "1500/1500 [==============================] - 9s 6ms/step - loss: 0.0440 - accuracy: 0.9850 - val_loss: 0.3587 - val_accuracy: 0.9196\n",
      "Epoch 19/20\n",
      "1500/1500 [==============================] - 9s 6ms/step - loss: 0.0391 - accuracy: 0.9875 - val_loss: 0.3655 - val_accuracy: 0.9161\n",
      "Epoch 20/20\n",
      "1500/1500 [==============================] - 9s 6ms/step - loss: 0.0352 - accuracy: 0.9888 - val_loss: 0.3849 - val_accuracy: 0.9154\n"
     ]
    }
   ],
   "source": [
    "conv1.compile(optimizer='adam',loss='categorical_crossentropy',metrics=['accuracy'])\n",
    "history=conv1.fit(x_train,y_train_encoded,epochs=20,validation_data=(x_val,y_val_encoded))"
   ]
  },
  {
   "cell_type": "code",
   "execution_count": 66,
   "metadata": {},
   "outputs": [
    {
     "data": {
      "image/png": "[encoded data removed]",
      "text/plain": [
       "<Figure size 432x288 with 1 Axes>"
      ]
     },
     "metadata": {
      "needs_background": "light"
     },
     "output_type": "display_data"
    },
    {
     "data": {
      "image/png": "[encoded data removed]",
      "text/plain": [
       "<Figure size 432x288 with 1 Axes>"
      ]
     },
     "metadata": {
      "needs_background": "light"
     },
     "output_type": "display_data"
    }
   ],
   "source": [
    "plt.plot(history.history['loss'])\n",
    "plt.plot(history.history['val_loss'])\n",
    "plt.ylabel('loss')\n",
    "plt.xlabel('epoch')\n",
    "plt.legend(['train_loss','val_loss'])\n",
    "plt.show()\n",
    "\n",
    "plt.plot(history.history['accuracy'])\n",
    "plt.plot(history.history['val_accuracy'])\n",
    "plt.ylabel('accuracy')\n",
    "plt.xlabel('epoch')\n",
    "plt.legend(['train_accuracy','val_accuracy'])\n",
    "plt.show()"
   ]
  },
  {
   "cell_type": "code",
   "execution_count": 68,
   "metadata": {},
   "outputs": [],
   "source": [
    "from tensorflow.keras.layers import Dropout\n",
    "\n",
    "conv2=tf.keras.Sequential()\n",
    "conv2.add(Conv2D(10,(3,3),activation='relu',padding='same',input_shape=(28,28,1)))\n",
    "conv2.add(MaxPooling2D((2,2)))\n",
    "conv2.add(Flatten())\n",
    "conv2.add(Dropout(0.5))\n",
    "conv2.add(Dense(100,activation='relu'))\n",
    "conv2.add(Dense(10,activation='softmax'))"
   ]
  },
  {
   "cell_type": "code",
   "execution_count": 69,
   "metadata": {},
   "outputs": [
    {
     "name": "stdout",
     "output_type": "stream",
     "text": [
      "Model: \"sequential_1\"\n",
      "_________________________________________________________________\n",
      "Layer (type)                 Output Shape              Param #   \n",
      "=================================================================\n",
      "conv2d_1 (Conv2D)            (None, 28, 28, 10)        100       \n",
      "_________________________________________________________________\n",
      "max_pooling2d_1 (MaxPooling2 (None, 14, 14, 10)        0         \n",
      "_________________________________________________________________\n",
      "flatten_1 (Flatten)          (None, 1960)              0         \n",
      "_________________________________________________________________\n",
      "dropout (Dropout)            (None, 1960)              0         \n",
      "_________________________________________________________________\n",
      "dense_2 (Dense)              (None, 100)               196100    \n",
      "_________________________________________________________________\n",
      "dense_3 (Dense)              (None, 10)                1010      \n",
      "=================================================================\n",
      "Total params: 197,210\n",
      "Trainable params: 197,210\n",
      "Non-trainable params: 0\n",
      "_________________________________________________________________\n"
     ]
    }
   ],
   "source": [
    "conv2.summary()"
   ]
  },
  {
   "cell_type": "code",
   "execution_count": 72,
   "metadata": {},
   "outputs": [
    {
     "name": "stdout",
     "output_type": "stream",
     "text": [
      "Epoch 1/20\n",
      "1500/1500 [==============================] - 10s 6ms/step - loss: 0.7322 - accuracy: 0.7367 - val_loss: 0.3919 - val_accuracy: 0.8577\n",
      "Epoch 2/20\n",
      "1500/1500 [==============================] - 9s 6ms/step - loss: 0.4118 - accuracy: 0.8501 - val_loss: 0.3231 - val_accuracy: 0.8855\n",
      "Epoch 3/20\n",
      "1500/1500 [==============================] - 9s 6ms/step - loss: 0.3631 - accuracy: 0.8695 - val_loss: 0.2945 - val_accuracy: 0.8932\n",
      "Epoch 4/20\n",
      "1500/1500 [==============================] - 9s 6ms/step - loss: 0.3238 - accuracy: 0.8795 - val_loss: 0.2814 - val_accuracy: 0.8964\n",
      "Epoch 5/20\n",
      "1500/1500 [==============================] - 9s 6ms/step - loss: 0.3022 - accuracy: 0.8898 - val_loss: 0.2745 - val_accuracy: 0.8997\n",
      "Epoch 6/20\n",
      "1500/1500 [==============================] - 9s 6ms/step - loss: 0.2882 - accuracy: 0.8932 - val_loss: 0.2566 - val_accuracy: 0.9068\n",
      "Epoch 7/20\n",
      "1500/1500 [==============================] - 11s 7ms/step - loss: 0.2757 - accuracy: 0.8975 - val_loss: 0.2480 - val_accuracy: 0.9112\n",
      "Epoch 8/20\n",
      "1500/1500 [==============================] - 13s 9ms/step - loss: 0.2619 - accuracy: 0.9031 - val_loss: 0.2452 - val_accuracy: 0.9112\n",
      "Epoch 9/20\n",
      "1500/1500 [==============================] - 12s 8ms/step - loss: 0.2480 - accuracy: 0.9081 - val_loss: 0.2378 - val_accuracy: 0.9136\n",
      "Epoch 10/20\n",
      "1500/1500 [==============================] - 12s 8ms/step - loss: 0.2397 - accuracy: 0.9093 - val_loss: 0.2416 - val_accuracy: 0.9124\n",
      "Epoch 11/20\n",
      "1500/1500 [==============================] - 12s 8ms/step - loss: 0.2316 - accuracy: 0.9123 - val_loss: 0.2482 - val_accuracy: 0.9103\n",
      "Epoch 12/20\n",
      "1500/1500 [==============================] - 12s 8ms/step - loss: 0.2316 - accuracy: 0.9159 - val_loss: 0.2333 - val_accuracy: 0.9164\n",
      "Epoch 13/20\n",
      "1500/1500 [==============================] - 9s 6ms/step - loss: 0.2170 - accuracy: 0.9184 - val_loss: 0.2296 - val_accuracy: 0.9169\n",
      "Epoch 14/20\n",
      "1500/1500 [==============================] - 9s 6ms/step - loss: 0.2128 - accuracy: 0.9199 - val_loss: 0.2298 - val_accuracy: 0.9171\n",
      "Epoch 15/20\n",
      "1500/1500 [==============================] - 10s 7ms/step - loss: 0.2074 - accuracy: 0.9218 - val_loss: 0.2360 - val_accuracy: 0.9149\n",
      "Epoch 16/20\n",
      "1500/1500 [==============================] - 12s 8ms/step - loss: 0.1994 - accuracy: 0.9232 - val_loss: 0.2273 - val_accuracy: 0.9203\n",
      "Epoch 17/20\n",
      "1500/1500 [==============================] - 12s 8ms/step - loss: 0.2031 - accuracy: 0.9239 - val_loss: 0.2278 - val_accuracy: 0.9200\n",
      "Epoch 18/20\n",
      "1500/1500 [==============================] - 12s 8ms/step - loss: 0.1944 - accuracy: 0.9264 - val_loss: 0.2353 - val_accuracy: 0.9158\n",
      "Epoch 19/20\n",
      "1500/1500 [==============================] - 12s 8ms/step - loss: 0.1884 - accuracy: 0.9296 - val_loss: 0.2298 - val_accuracy: 0.9208\n",
      "Epoch 20/20\n",
      "1500/1500 [==============================] - 12s 8ms/step - loss: 0.1922 - accuracy: 0.9288 - val_loss: 0.2352 - val_accuracy: 0.9189\n"
     ]
    }
   ],
   "source": [
    "conv2.compile(optimizer='adam',loss='categorical_crossentropy',metrics=['accuracy'])\n",
    "history=conv2.fit(x_train,y_train_encoded,epochs=20,validation_data=(x_val,y_val_encoded))"
   ]
  },
  {
   "cell_type": "code",
   "execution_count": 73,
   "metadata": {},
   "outputs": [
    {
     "data": {
      "image/png": "[encoded data removed]",
      "text/plain": [
       "<Figure size 432x288 with 1 Axes>"
      ]
     },
     "metadata": {
      "needs_background": "light"
     },
     "output_type": "display_data"
    },
    {
     "data": {
      "image/png": "[encoded data removed]",
      "text/plain": [
       "<Figure size 432x288 with 1 Axes>"
      ]
     },
     "metadata": {
      "needs_background": "light"
     },
     "output_type": "display_data"
    }
   ],
   "source": [
    "plt.plot(history.history['loss'])\n",
    "plt.plot(history.history['val_loss'])\n",
    "plt.ylabel('loss')\n",
    "plt.xlabel('epoch')\n",
    "plt.legend(['train_loss','val_loss'])\n",
    "plt.show()\n",
    "\n",
    "plt.plot(history.history['accuracy'])\n",
    "plt.plot(history.history['val_accuracy'])\n",
    "plt.ylabel('accuracy')\n",
    "plt.xlabel('epoch')\n",
    "plt.legend(['train_accuracy','val_accuracy'])\n",
    "plt.show()"
   ]
  },
  {
   "cell_type": "code",
   "execution_count": null,
   "metadata": {},
   "outputs": [],
   "source": []
  }
 ],
 "metadata": {
  "kernelspec": {
   "display_name": "Python 3",
   "language": "python",
   "name": "python3"
  },
  "language_info": {
   "codemirror_mode": {
    "name": "ipython",
    "version": 3
   },
   "file_extension": ".py",
   "mimetype": "text/x-python",
   "name": "python",
   "nbconvert_exporter": "python",
   "pygments_lexer": "ipython3",
   "version": "3.8.5"
  }
 },
 "nbformat": 4,
 "nbformat_minor": 4
}
