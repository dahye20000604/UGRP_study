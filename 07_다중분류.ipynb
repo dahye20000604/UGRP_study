{
 "cells": [
  {
   "cell_type": "code",
   "execution_count": 64,
   "metadata": {},
   "outputs": [],
   "source": [
    "import matplotlib.pyplot as plt\n",
    "import numpy as np"
   ]
  },
  {
   "cell_type": "code",
   "execution_count": 85,
   "metadata": {},
   "outputs": [],
   "source": [
    "class MultiClassNetwork:\n",
    "    def __init__(self, units=10,batch_size=32, learning_rate=0.1, l1=0, l2=0):       \n",
    "        self.units=units # 은닉층의 뉴런 개수\n",
    "        self.batch_size=batch_size\n",
    "        self.w1=None #은닉층의 가중치\n",
    "        self.b1=None #은닉층의 절편\n",
    "        self.w2=None #출력층의 가중치\n",
    "        self.b2=None #출력층의 절편\n",
    "        self.a1=None #은닉층의 활성화 출력 -> 역방향을 계산할 때 필요하다\n",
    "        self.losses=[] \n",
    "        self.val_losses=[]\n",
    "        self.lr=learning_rate\n",
    "        self.l1=l1\n",
    "        self.l2=l2\n",
    "    def forpass(self,x): \n",
    "        z1=np.dot(x,self.w1)+self.b1 #첫번째 층의 선형식\n",
    "        self.a1=self.sigmoid(z1)\n",
    "        z2=np.dot(self.a1,self.w2)+self.b2 #두번째 층의 선형식\n",
    "        return z2\n",
    "    def backprop(self,x,err):\n",
    "        m=len(x)\n",
    "        #출력층의 가중치와 절편에 대한 그레이디언트 계산\n",
    "        w2_grad=np.dot(self.a1.T,err)/m \n",
    "        b2_grad=np.sum(err)/m \n",
    "        #시그모이드 함수까지의 그레이드언트를 계산\n",
    "        err_to_hidden=np.dot(err,self.w2.T)*self.a1*(1-self.a1)\n",
    "        #은닉층의 가중치와 절편에 대한 그레이디언트 계산\n",
    "        w1_grad=np.dot(x.T,err_to_hidden)/m \n",
    "        b1_grad=np.sum(err_to_hidden,axis=0)/m \n",
    "        return w1_grad, b1_grad ,w2_grad, b2_grad\n",
    "    def sigmoid(self,z):\n",
    "        a=1/(1+np.exp(-z))\n",
    "        return a\n",
    "    def softmax(self, z):\n",
    "        exp_z=np.exp(z)\n",
    "        return (exp_z)/np.sum(exp_z, axis=1).reshape(-1,1)\n",
    "    def init_weights(self,n_features,n_classes):\n",
    "        self.w1=np.random.normal(0,1,(n_features,self.units)) #특성개수, 은닉층의 크기\n",
    "        self.b1=np.zeros(self.units) #은닉층의 크기\n",
    "        self.w2=np.random.normal(0,1,(self.units, n_classes)) #은닉층의 크기, 1\n",
    "        self.b2=np.zeros(n_classes)\n",
    "    def fit(self,x,y,epochs=100,x_val=None, y_val=None):\n",
    "        np.random.seed(42)\n",
    "        self.init_weights(x.shape[1], y.shape[1])\n",
    "        for i in range (epochs):\n",
    "            loss=0\n",
    "            print('.',end='')\n",
    "            for x_batch, y_batch in self.gen_batch(x,y):\n",
    "                a=self.training(x_batch,y_batch)\n",
    "                a=np.clip(a, 1e-10, 1-1e-10) #안전한 로그 계산을 위해서 클리핑 후\n",
    "                loss+=np.sum(-(y_batch*np.log(a))) # 손실 누적\n",
    "            self.losses.append((loss+self.reg_loss())/len(x)) #각 에포크마다 평균 손실 계산하여 저장\n",
    "            self.update_val_loss(x_val,y_val)#검증세트에 대한 손실을 계산\n",
    "    def gen_batch(self,x,y):\n",
    "        length=len(x)\n",
    "        bins=length//self.batch_size\n",
    "        if length % self.batch_size:\n",
    "            bins+=1\n",
    "        indexes=np.random.permutation(np.arange(len(x)))\n",
    "        x=x[indexes]\n",
    "        y=y[indexes]\n",
    "        for i in range(bins):\n",
    "            start=self.batch_size*i\n",
    "            end=self.batch_size*(i+1)\n",
    "            yield x[start:end], y[start:end]\n",
    "    def training(self,x,y):\n",
    "        m=len(x)\n",
    "        z=self.forpass(x) #정방형 계산\n",
    "        a=self.softmax(z) #활성화 함수 적용\n",
    "        err=-(y-a) # 오차계산 \n",
    "        w1_grad, b1_grad, w2_grad, b2_grad=self.backprop(x,err) #역방형 계산\n",
    "        w1_grad+=(self.l1*np.sign(self.w1)+self.l2*self.w1)/m\n",
    "        w2_grad+=(self.l1*np.sign(self.w2)+self.l2*self.w2)/m\n",
    "        self.w1-=self.lr*w1_grad #가중치 업데이트(학습률 적용)\n",
    "        self.b1-=self.lr*b1_grad #절편 업데이트\n",
    "        self.w2-=self.lr*w2_grad #가중치 업데이트(학습률 적용)\n",
    "        self.b2-=self.lr*b2_grad #절편 업데이트\n",
    "        return a\n",
    "    def update_val_loss(self,x_val, y_val):\n",
    "        z=self.forpass(x_val) #정방형 계산\n",
    "        a=self.softmax(z)\n",
    "        a=np.clip(a, 1e-10, 1-1e-10)\n",
    "        val_loss=np.sum(-(y_val*np.log(a)))\n",
    "        self.val_losses.append((val_loss+self.reg_loss())/len(y_val))\n",
    "    def reg_loss(self):\n",
    "        return self.l1*(np.sum(np.abs(self.w1))+np.sum(np.abs(self.w2)))+\\\n",
    "                self.l2/2*(np.sum(self.w1**2)+np.sum(self.w2**2))\n",
    "    def predict(self, x):\n",
    "        z=self.forpass(x)\n",
    "        return np.argmax(z,axis=1)\n",
    "    def score(self, x, y):\n",
    "        return np.mean(self.predict(x)==np.argmax(y, axis=1))"
   ]
  },
  {
   "cell_type": "code",
   "execution_count": 86,
   "metadata": {},
   "outputs": [
    {
     "data": {
      "text/plain": [
       "'2.4.0'"
      ]
     },
     "execution_count": 86,
     "metadata": {},
     "output_type": "execute_result"
    }
   ],
   "source": [
    "import tensorflow as tf\n",
    "tf.__version__"
   ]
  },
  {
   "cell_type": "code",
   "execution_count": 87,
   "metadata": {},
   "outputs": [],
   "source": [
    "(x_train_all, y_train_all),(x_test, y_test)=tf.keras.datasets.fashion_mnist.load_data()"
   ]
  },
  {
   "cell_type": "code",
   "execution_count": 88,
   "metadata": {},
   "outputs": [
    {
     "name": "stdout",
     "output_type": "stream",
     "text": [
      "(60000, 28, 28) (60000,)\n"
     ]
    }
   ],
   "source": [
    "print(x_train_all.shape, y_train_all.shape)"
   ]
  },
  {
   "cell_type": "code",
   "execution_count": 89,
   "metadata": {},
   "outputs": [
    {
     "data": {
      "image/png": "[encoded data removed]",
      "text/plain": [
       "<Figure size 432x288 with 1 Axes>"
      ]
     },
     "metadata": {
      "needs_background": "light"
     },
     "output_type": "display_data"
    }
   ],
   "source": [
    "plt.imshow(x_train_all[0], cmap='gray')\n",
    "plt.show()"
   ]
  },
  {
   "cell_type": "code",
   "execution_count": 90,
   "metadata": {},
   "outputs": [
    {
     "name": "stdout",
     "output_type": "stream",
     "text": [
      "[9 0 0 3 0 2 7 2 5 5]\n"
     ]
    }
   ],
   "source": [
    "print(y_train_all[:10])"
   ]
  },
  {
   "cell_type": "code",
   "execution_count": 91,
   "metadata": {},
   "outputs": [
    {
     "name": "stdout",
     "output_type": "stream",
     "text": [
      "앵클부츠\n"
     ]
    }
   ],
   "source": [
    "class_names=['티셔츠/윗도리','바지', '스웨터', '드레스', '코트',\n",
    "            '샌들','셔츠', '스니커즈', '가방', '앵클부츠']\n",
    "print(class_names[y_train_all[0]])"
   ]
  },
  {
   "cell_type": "code",
   "execution_count": 92,
   "metadata": {},
   "outputs": [
    {
     "data": {
      "text/plain": [
       "array([6000, 6000, 6000, 6000, 6000, 6000, 6000, 6000, 6000, 6000],\n",
       "      dtype=int64)"
      ]
     },
     "execution_count": 92,
     "metadata": {},
     "output_type": "execute_result"
    }
   ],
   "source": [
    "np.bincount(y_train_all)"
   ]
  },
  {
   "cell_type": "code",
   "execution_count": 93,
   "metadata": {},
   "outputs": [],
   "source": [
    "from sklearn.model_selection import train_test_split\n",
    "x_train, x_val, y_train, y_val=train_test_split(x_train_all, y_train_all, stratify=y_train_all, test_size=0.2, random_state=42)"
   ]
  },
  {
   "cell_type": "code",
   "execution_count": 94,
   "metadata": {},
   "outputs": [
    {
     "data": {
      "text/plain": [
       "array([4800, 4800, 4800, 4800, 4800, 4800, 4800, 4800, 4800, 4800],\n",
       "      dtype=int64)"
      ]
     },
     "execution_count": 94,
     "metadata": {},
     "output_type": "execute_result"
    }
   ],
   "source": [
    "np.bincount(y_train)"
   ]
  },
  {
   "cell_type": "code",
   "execution_count": 95,
   "metadata": {},
   "outputs": [
    {
     "data": {
      "text/plain": [
       "array([1200, 1200, 1200, 1200, 1200, 1200, 1200, 1200, 1200, 1200],\n",
       "      dtype=int64)"
      ]
     },
     "execution_count": 95,
     "metadata": {},
     "output_type": "execute_result"
    }
   ],
   "source": [
    "np.bincount(y_val)"
   ]
  },
  {
   "cell_type": "code",
   "execution_count": 96,
   "metadata": {},
   "outputs": [],
   "source": [
    "#정규화 작업\n",
    "x_train=x_train/225 #이미지 데이터는 픽셀마다 0에서 225사이의 값을 가지기 때문에\n",
    "x_val=x_val/225"
   ]
  },
  {
   "cell_type": "code",
   "execution_count": 97,
   "metadata": {},
   "outputs": [
    {
     "name": "stdout",
     "output_type": "stream",
     "text": [
      "(48000, 784) (12000, 784)\n"
     ]
    }
   ],
   "source": [
    "x_train=x_train.reshape(-1, 784) #28*28(2차원 배열)=784(1차원 배열 , 각 샘플을 행벡터로 ) \n",
    "x_val=x_val.reshape(-1, 784)\n",
    "print(x_train.shape, x_val.shape)"
   ]
  },
  {
   "cell_type": "code",
   "execution_count": 98,
   "metadata": {},
   "outputs": [
    {
     "data": {
      "text/plain": [
       "array([[1., 0., 0., 0.],\n",
       "       [0., 1., 0., 0.],\n",
       "       [0., 0., 0., 1.]], dtype=float32)"
      ]
     },
     "execution_count": 98,
     "metadata": {},
     "output_type": "execute_result"
    }
   ],
   "source": [
    "# one- hot encoding\n",
    "tf.keras.utils.to_categorical([0,1,3])#example"
   ]
  },
  {
   "cell_type": "code",
   "execution_count": 99,
   "metadata": {},
   "outputs": [],
   "source": [
    "y_train_encoded=tf.keras.utils.to_categorical(y_train)\n",
    "y_val_encoded=tf.keras.utils.to_categorical(y_val)"
   ]
  },
  {
   "cell_type": "code",
   "execution_count": 100,
   "metadata": {},
   "outputs": [
    {
     "name": "stdout",
     "output_type": "stream",
     "text": [
      "(48000, 10) (12000, 10)\n"
     ]
    }
   ],
   "source": [
    "print(y_train_encoded.shape, y_val_encoded.shape) #2차원 배열로 바뀐 것 확인 가능"
   ]
  },
  {
   "cell_type": "code",
   "execution_count": 101,
   "metadata": {},
   "outputs": [
    {
     "name": "stdout",
     "output_type": "stream",
     "text": [
      "6 [0. 0. 0. 0. 0. 0. 1. 0. 0. 0.]\n"
     ]
    }
   ],
   "source": [
    "print(y_train[0], y_train_encoded[0])"
   ]
  },
  {
   "cell_type": "code",
   "execution_count": 102,
   "metadata": {},
   "outputs": [
    {
     "name": "stdout",
     "output_type": "stream",
     "text": [
      "........................................"
     ]
    }
   ],
   "source": [
    "fc=MultiClassNetwork(units=100, batch_size=256)\n",
    "fc.fit(x_train, y_train_encoded, x_val=x_val, y_val=y_val_encoded, epochs=40)"
   ]
  },
  {
   "cell_type": "code",
   "execution_count": 103,
   "metadata": {},
   "outputs": [
    {
     "data": {
      "image/png": "[encoded data removed]",
      "text/plain": [
       "<Figure size 432x288 with 1 Axes>"
      ]
     },
     "metadata": {
      "needs_background": "light"
     },
     "output_type": "display_data"
    }
   ],
   "source": [
    "plt.plot(fc.losses)\n",
    "plt.plot(fc.val_losses)\n",
    "plt.xlabel('iteration')\n",
    "plt.ylabel('loss')\n",
    "plt.legend(['train loss', 'val loss'])\n",
    "plt.show()"
   ]
  },
  {
   "cell_type": "code",
   "execution_count": 104,
   "metadata": {},
   "outputs": [
    {
     "data": {
      "text/plain": [
       "0.8111666666666667"
      ]
     },
     "execution_count": 104,
     "metadata": {},
     "output_type": "execute_result"
    }
   ],
   "source": [
    "fc.score(x_val, y_val_encoded)"
   ]
  },
  {
   "cell_type": "code",
   "execution_count": 105,
   "metadata": {},
   "outputs": [],
   "source": [
    "from tensorflow.keras import Sequential\n",
    "from tensorflow.keras.layers import Dense\n",
    "model=Sequential()\n",
    "model.add(Dense(100, activation='sigmoid', input_shape=(784,)))\n",
    "model.add(Dense(10, activation='softmax'))"
   ]
  },
  {
   "cell_type": "code",
   "execution_count": 106,
   "metadata": {},
   "outputs": [],
   "source": [
    "model.compile(optimizer='sgd', loss='categorical_crossentropy', metrics=['accuracy'])"
   ]
  },
  {
   "cell_type": "code",
   "execution_count": 107,
   "metadata": {},
   "outputs": [
    {
     "name": "stdout",
     "output_type": "stream",
     "text": [
      "Epoch 1/40\n",
      "1500/1500 [==============================] - 1s 846us/step - loss: 1.6805 - accuracy: 0.5380 - val_loss: 0.9146 - val_accuracy: 0.7367\n",
      "Epoch 2/40\n",
      "1500/1500 [==============================] - 1s 767us/step - loss: 0.8473 - accuracy: 0.7450 - val_loss: 0.7211 - val_accuracy: 0.7659\n",
      "Epoch 3/40\n",
      "1500/1500 [==============================] - 1s 763us/step - loss: 0.7075 - accuracy: 0.7681 - val_loss: 0.6399 - val_accuracy: 0.7893\n",
      "Epoch 4/40\n",
      "1500/1500 [==============================] - 1s 783us/step - loss: 0.6352 - accuracy: 0.7865 - val_loss: 0.5912 - val_accuracy: 0.7998\n",
      "Epoch 5/40\n",
      "1500/1500 [==============================] - 1s 773us/step - loss: 0.5990 - accuracy: 0.7966 - val_loss: 0.5582 - val_accuracy: 0.8098\n",
      "Epoch 6/40\n",
      "1500/1500 [==============================] - 1s 769us/step - loss: 0.5539 - accuracy: 0.8125 - val_loss: 0.5318 - val_accuracy: 0.8148\n",
      "Epoch 7/40\n",
      "1500/1500 [==============================] - 1s 777us/step - loss: 0.5397 - accuracy: 0.8148 - val_loss: 0.5142 - val_accuracy: 0.8223\n",
      "Epoch 8/40\n",
      "1500/1500 [==============================] - 1s 755us/step - loss: 0.5201 - accuracy: 0.8200 - val_loss: 0.4998 - val_accuracy: 0.8251\n",
      "Epoch 9/40\n",
      "1500/1500 [==============================] - 1s 791us/step - loss: 0.5037 - accuracy: 0.8263 - val_loss: 0.4883 - val_accuracy: 0.8292\n",
      "Epoch 10/40\n",
      "1500/1500 [==============================] - 1s 774us/step - loss: 0.4918 - accuracy: 0.8293 - val_loss: 0.4762 - val_accuracy: 0.8332\n",
      "Epoch 11/40\n",
      "1500/1500 [==============================] - 1s 774us/step - loss: 0.4832 - accuracy: 0.8304 - val_loss: 0.4677 - val_accuracy: 0.8368\n",
      "Epoch 12/40\n",
      "1500/1500 [==============================] - 1s 775us/step - loss: 0.4742 - accuracy: 0.8360 - val_loss: 0.4592 - val_accuracy: 0.8394\n",
      "Epoch 13/40\n",
      "1500/1500 [==============================] - 1s 773us/step - loss: 0.4697 - accuracy: 0.8364 - val_loss: 0.4526 - val_accuracy: 0.8408\n",
      "Epoch 14/40\n",
      "1500/1500 [==============================] - 1s 793us/step - loss: 0.4578 - accuracy: 0.8407 - val_loss: 0.4468 - val_accuracy: 0.8421\n",
      "Epoch 15/40\n",
      "1500/1500 [==============================] - 1s 768us/step - loss: 0.4514 - accuracy: 0.8407 - val_loss: 0.4446 - val_accuracy: 0.8426\n",
      "Epoch 16/40\n",
      "1500/1500 [==============================] - 1s 777us/step - loss: 0.4416 - accuracy: 0.8465 - val_loss: 0.4360 - val_accuracy: 0.8456\n",
      "Epoch 17/40\n",
      "1500/1500 [==============================] - 1s 770us/step - loss: 0.4466 - accuracy: 0.8448 - val_loss: 0.4323 - val_accuracy: 0.8470\n",
      "Epoch 18/40\n",
      "1500/1500 [==============================] - 1s 783us/step - loss: 0.4350 - accuracy: 0.8459 - val_loss: 0.4287 - val_accuracy: 0.8496\n",
      "Epoch 19/40\n",
      "1500/1500 [==============================] - 1s 790us/step - loss: 0.4339 - accuracy: 0.8472 - val_loss: 0.4241 - val_accuracy: 0.8499\n",
      "Epoch 20/40\n",
      "1500/1500 [==============================] - 1s 774us/step - loss: 0.4367 - accuracy: 0.8456 - val_loss: 0.4203 - val_accuracy: 0.8525\n",
      "Epoch 21/40\n",
      "1500/1500 [==============================] - 1s 767us/step - loss: 0.4217 - accuracy: 0.8515 - val_loss: 0.4199 - val_accuracy: 0.8528\n",
      "Epoch 22/40\n",
      "1500/1500 [==============================] - 1s 786us/step - loss: 0.4244 - accuracy: 0.8502 - val_loss: 0.4173 - val_accuracy: 0.8526\n",
      "Epoch 23/40\n",
      "1500/1500 [==============================] - 1s 781us/step - loss: 0.4201 - accuracy: 0.8540 - val_loss: 0.4120 - val_accuracy: 0.8549\n",
      "Epoch 24/40\n",
      "1500/1500 [==============================] - 1s 777us/step - loss: 0.4192 - accuracy: 0.8537 - val_loss: 0.4087 - val_accuracy: 0.8567\n",
      "Epoch 25/40\n",
      "1500/1500 [==============================] - 1s 782us/step - loss: 0.4119 - accuracy: 0.8555 - val_loss: 0.4061 - val_accuracy: 0.8581\n",
      "Epoch 26/40\n",
      "1500/1500 [==============================] - 1s 789us/step - loss: 0.4123 - accuracy: 0.8542 - val_loss: 0.4059 - val_accuracy: 0.8563\n",
      "Epoch 27/40\n",
      "1500/1500 [==============================] - 1s 775us/step - loss: 0.4095 - accuracy: 0.8557 - val_loss: 0.4020 - val_accuracy: 0.8571\n",
      "Epoch 28/40\n",
      "1500/1500 [==============================] - 1s 777us/step - loss: 0.4026 - accuracy: 0.8589 - val_loss: 0.3996 - val_accuracy: 0.8608\n",
      "Epoch 29/40\n",
      "1500/1500 [==============================] - 1s 793us/step - loss: 0.4006 - accuracy: 0.8576 - val_loss: 0.3974 - val_accuracy: 0.8605\n",
      "Epoch 30/40\n",
      "1500/1500 [==============================] - 1s 793us/step - loss: 0.4038 - accuracy: 0.8566 - val_loss: 0.3967 - val_accuracy: 0.8618\n",
      "Epoch 31/40\n",
      "1500/1500 [==============================] - 1s 786us/step - loss: 0.3955 - accuracy: 0.8593 - val_loss: 0.3942 - val_accuracy: 0.8603\n",
      "Epoch 32/40\n",
      "1500/1500 [==============================] - 1s 790us/step - loss: 0.3918 - accuracy: 0.8645 - val_loss: 0.3932 - val_accuracy: 0.8623\n",
      "Epoch 33/40\n",
      "1500/1500 [==============================] - 1s 780us/step - loss: 0.3949 - accuracy: 0.8602 - val_loss: 0.3914 - val_accuracy: 0.8622\n",
      "Epoch 34/40\n",
      "1500/1500 [==============================] - 1s 810us/step - loss: 0.3897 - accuracy: 0.8611 - val_loss: 0.3894 - val_accuracy: 0.8611\n",
      "Epoch 35/40\n",
      "1500/1500 [==============================] - 1s 764us/step - loss: 0.3904 - accuracy: 0.8618 - val_loss: 0.3868 - val_accuracy: 0.8631\n",
      "Epoch 36/40\n",
      "1500/1500 [==============================] - 1s 760us/step - loss: 0.3818 - accuracy: 0.8671 - val_loss: 0.3859 - val_accuracy: 0.8635\n",
      "Epoch 37/40\n",
      "1500/1500 [==============================] - 1s 770us/step - loss: 0.3909 - accuracy: 0.8617 - val_loss: 0.3848 - val_accuracy: 0.8633\n",
      "Epoch 38/40\n",
      "1500/1500 [==============================] - 1s 769us/step - loss: 0.3836 - accuracy: 0.8665 - val_loss: 0.3845 - val_accuracy: 0.8639\n",
      "Epoch 39/40\n",
      "1500/1500 [==============================] - 1s 765us/step - loss: 0.3819 - accuracy: 0.8649 - val_loss: 0.3839 - val_accuracy: 0.8645\n",
      "Epoch 40/40\n",
      "1500/1500 [==============================] - 1s 814us/step - loss: 0.3759 - accuracy: 0.8667 - val_loss: 0.3801 - val_accuracy: 0.8653\n"
     ]
    }
   ],
   "source": [
    "history=model.fit(x_train, y_train_encoded, epochs=40, validation_data=(x_val, y_val_encoded))"
   ]
  },
  {
   "cell_type": "code",
   "execution_count": 108,
   "metadata": {},
   "outputs": [
    {
     "data": {
      "image/png": "[encoded data removed]",
      "text/plain": [
       "<Figure size 432x288 with 1 Axes>"
      ]
     },
     "metadata": {
      "needs_background": "light"
     },
     "output_type": "display_data"
    }
   ],
   "source": [
    "plt.plot(history.history['loss'])\n",
    "plt.plot(history.history['val_loss'])\n",
    "plt.xlabel('epoch')\n",
    "plt.ylabel('loss')\n",
    "plt.legend(['train loss', 'val loss'])\n",
    "plt.show()"
   ]
  },
  {
   "cell_type": "code",
   "execution_count": 109,
   "metadata": {},
   "outputs": [
    {
     "data": {
      "image/png": "[encoded data removed]",
      "text/plain": [
       "<Figure size 432x288 with 1 Axes>"
      ]
     },
     "metadata": {
      "needs_background": "light"
     },
     "output_type": "display_data"
    }
   ],
   "source": [
    "plt.plot(history.history['accuracy'])\n",
    "plt.plot(history.history['val_accuracy'])\n",
    "plt.ylabel('accuracy')\n",
    "plt.xlabel('epoch')\n",
    "plt.legend(['train accuracy', 'val accuracy'])\n",
    "plt.show()"
   ]
  },
  {
   "cell_type": "code",
   "execution_count": 111,
   "metadata": {},
   "outputs": [
    {
     "name": "stdout",
     "output_type": "stream",
     "text": [
      "0.8653333187103271\n",
      "0.3801240622997284\n"
     ]
    }
   ],
   "source": [
    "loss, accuracy=model.evaluate(x_val, y_val_encoded, verbose=0)\n",
    "print(accuracy)\n",
    "print(loss)"
   ]
  }
 ],
 "metadata": {
  "kernelspec": {
   "display_name": "Python 3",
   "language": "python",
   "name": "python3"
  },
  "language_info": {
   "codemirror_mode": {
    "name": "ipython",
    "version": 3
   },
   "file_extension": ".py",
   "mimetype": "text/x-python",
   "name": "python",
   "nbconvert_exporter": "python",
   "pygments_lexer": "ipython3",
   "version": "3.8.5"
  }
 },
 "nbformat": 4,
 "nbformat_minor": 4
}
