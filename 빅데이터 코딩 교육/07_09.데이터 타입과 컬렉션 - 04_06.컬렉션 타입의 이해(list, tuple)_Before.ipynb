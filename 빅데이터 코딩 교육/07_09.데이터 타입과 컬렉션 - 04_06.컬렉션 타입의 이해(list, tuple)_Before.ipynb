{
 "cells": [
  {
   "cell_type": "markdown",
   "metadata": {},
   "source": [
    "## 학습목표\n",
    " 1. list, tuple에 대해 이해 및 실습\n"
   ]
  },
  {
   "cell_type": "markdown",
   "metadata": {},
   "source": [
    "### **리스트 & 튜플**\n",
    " * 복수개의 값을 담을 수 있는 데이터 구조\n",
    " * 실생활에서 사용하는 리스트(학생 리스트, 성적 리스트 등등)과 동일한 의미로 이해\n",
    " * list - mutable    (생성된 후에 변경 가능)  \n",
    " * tuple - immutable (생성된 후에 변경 불가능)  "
   ]
  },
  {
   "cell_type": "markdown",
   "metadata": {},
   "source": [
    "#### **리스트 초기화**\n",
    " - [] 안에 값을 담아서 생성\n",
    " - list() 함수로 생성\n",
    " - str.split()함수로 생성"
   ]
  },
  {
   "cell_type": "markdown",
   "metadata": {},
   "source": [
    "* **list() 함수**\n",
    " + 다른 데이터 타입을 리스트로 변환할 때도 사용"
   ]
  },
  {
   "cell_type": "code",
   "execution_count": 2,
   "metadata": {
    "scrolled": true
   },
   "outputs": [
    {
     "name": "stdout",
     "output_type": "stream",
     "text": [
      "[]\n"
     ]
    }
   ],
   "source": [
    "a=[]\n",
    "print(a) #빈 리스트"
   ]
  },
  {
   "cell_type": "code",
   "execution_count": 6,
   "metadata": {},
   "outputs": [
    {
     "name": "stdout",
     "output_type": "stream",
     "text": [
      "[1, 2, 3, 10]\n",
      "['korea', 'canada', 2, [1, 2, 3, 10]]\n"
     ]
    }
   ],
   "source": [
    "a=[1,2,3,10]\n",
    "print(a)\n",
    "b=['korea','canada',2,a]\n",
    "print(b)"
   ]
  },
  {
   "cell_type": "code",
   "execution_count": 9,
   "metadata": {},
   "outputs": [
    {
     "name": "stdout",
     "output_type": "stream",
     "text": [
      "['h', 'e', 'l', 'l', 'o', ' ', 'w', 'o', 'r', 'l', 'd']\n",
      "[1, 2, 3]\n"
     ]
    }
   ],
   "source": [
    "a='hello world'\n",
    "b=list(a)\n",
    "print(b)\n",
    "\n",
    "c=(1,2,3)\n",
    "d=list(c)\n",
    "print(d)"
   ]
  },
  {
   "cell_type": "markdown",
   "metadata": {},
   "source": [
    "+ **string split 함수**\n",
    " * 구분자로 구분되는 리스트를 반환 (빈번히 사용 됨)"
   ]
  },
  {
   "cell_type": "code",
   "execution_count": 10,
   "metadata": {},
   "outputs": [
    {
     "name": "stdout",
     "output_type": "stream",
     "text": [
      "['hello', 'world', 'nice', 'weather']\n"
     ]
    }
   ],
   "source": [
    "a='hello world nice weather'\n",
    "b=a.split()\n",
    "\n",
    "print(b)"
   ]
  },
  {
   "cell_type": "markdown",
   "metadata": {},
   "source": [
    "#### **리스트 indexing**\n",
    " * 문자열의 인덱싱과 동일하게 동작\n",
    " * [] 연산자를 이용하여 항목 얻어오기\n",
    " * [i] - i번째 원소를 반환\n",
    " * i가 음수인 경우도 가능하며 마지막원소가 -1로 하여 앞으로 갈때마다 1씩 감소함"
   ]
  },
  {
   "cell_type": "code",
   "execution_count": 13,
   "metadata": {},
   "outputs": [
    {
     "name": "stdout",
     "output_type": "stream",
     "text": [
      "4\n",
      "4\n",
      "6\n"
     ]
    }
   ],
   "source": [
    "a=[1,2,3,4,5,6]\n",
    "print(a[3])\n",
    "print(a[-3])\n",
    "print(a[5])"
   ]
  },
  {
   "cell_type": "markdown",
   "metadata": {},
   "source": [
    "#### **리스트 개별 아이템에 접근**\n",
    " - 인덱스에 접근하여 값을 업데이트 가능"
   ]
  },
  {
   "cell_type": "code",
   "execution_count": 18,
   "metadata": {},
   "outputs": [
    {
     "name": "stdout",
     "output_type": "stream",
     "text": [
      "h\n",
      "jello world jello world\n",
      "jello world\n",
      "hello world\n"
     ]
    }
   ],
   "source": [
    "a='hello world'\n",
    "print(a[0])\n",
    "\n",
    "# a[0]='j' -> 문자열은 불변(immutable)\n",
    "b='jello world'\n",
    "c='j'+a[1:]\n",
    "print (b,c)\n",
    "\n",
    "d=a.replace('h','j')\n",
    "print(d)\n",
    "print(a)"
   ]
  },
  {
   "cell_type": "code",
   "execution_count": 19,
   "metadata": {},
   "outputs": [
    {
     "name": "stdout",
     "output_type": "stream",
     "text": [
      "[100, 2, 3, 4, 5]\n"
     ]
    }
   ],
   "source": [
    "a=[1,2,3,4,5]\n",
    "a[0]=100\n",
    "print(a)"
   ]
  },
  {
   "cell_type": "markdown",
   "metadata": {},
   "source": [
    "#### **리스트 slicing**\n",
    " - 문자열 슬라이싱과 동일하게 동작\n",
    " - 슬라이싱의 결과 역시 list!"
   ]
  },
  {
   "cell_type": "code",
   "execution_count": 23,
   "metadata": {},
   "outputs": [
    {
     "name": "stdout",
     "output_type": "stream",
     "text": [
      "[5, 6, 7]\n",
      "[1, 2, 3, 4, 5, 6, 7]\n",
      "[4, 5, 6, 7, 8]\n",
      "[1, 2, 3, 4, 5, 6, 7, 8]\n",
      "[2, 3, 4, 5, 6, 7]\n",
      "[2, 5]\n"
     ]
    }
   ],
   "source": [
    "a=[1,2,3,4,5,6,7,8]\n",
    "print(a[4:7])\n",
    "print(a[:7])\n",
    "print(a[3:])\n",
    "print(a[:])\n",
    "\n",
    "#slicing\n",
    "#start:end:increment\n",
    "print(a[1:7:1])\n",
    "print(a[1:7:3])"
   ]
  },
  {
   "cell_type": "markdown",
   "metadata": {},
   "source": [
    "### list 멤버 함수\n",
    " - 생성된 리스트 객체에 동작하는 함수\n",
    " - 향후, 클래스와 멤버 함수 개념을 이해할 예정"
   ]
  },
  {
   "cell_type": "markdown",
   "metadata": {},
   "source": [
    "* **append()**\n",
    " + 리스트의 끝에 항목을 추가함"
   ]
  },
  {
   "cell_type": "code",
   "execution_count": 24,
   "metadata": {},
   "outputs": [
    {
     "name": "stdout",
     "output_type": "stream",
     "text": [
      "[1, 2, 3, 4, 5, 10]\n"
     ]
    }
   ],
   "source": [
    "a=[1,2,3,4,5]\n",
    "a.append(10)\n",
    "\n",
    "print(a)"
   ]
  },
  {
   "cell_type": "markdown",
   "metadata": {},
   "source": [
    "+ **extend()**\n",
    " * 리스트를 연장\n",
    " * += 로도 가능함"
   ]
  },
  {
   "cell_type": "code",
   "execution_count": 32,
   "metadata": {
    "scrolled": true
   },
   "outputs": [
    {
     "name": "stdout",
     "output_type": "stream",
     "text": [
      "[1, 2, 3, 4, 5, [6, 7, 8, 9, 10]]\n",
      "[6, 7, 8, 9, 10]\n",
      "[6, 7, 8, 9, 10, 1, 2, 3, 4, 5]\n",
      "[1, 2, 3, 4, 5, 6, 7, 8, 9, 10, 1, 2, 3, 4, 5]\n"
     ]
    }
   ],
   "source": [
    "a=[1,2,3,4,5]\n",
    "b=[6,7,8,9,10]\n",
    "\n",
    "a.append(b)\n",
    "print(a)\n",
    "print(a[5])\n",
    "\n",
    "c=[1,2,3,4,5]\n",
    "d=[6,7,8,9,10]\n",
    "d.extend(c) \n",
    "#새로운 list를 만드는 게 아니라, 아예 대입해서 저장\n",
    "print(d)\n",
    "\n",
    "c+=d\n",
    "print(c)"
   ]
  },
  {
   "cell_type": "markdown",
   "metadata": {},
   "source": [
    "+ **insert()로 항목추가**\n",
    " * 리스트의 원하는 위치에 추가 가능\n",
    " * 앞에 인덱스를, 뒤에 아이템을 명시"
   ]
  },
  {
   "cell_type": "code",
   "execution_count": 33,
   "metadata": {},
   "outputs": [
    {
     "name": "stdout",
     "output_type": "stream",
     "text": [
      "[1, 40, 2, 3, 4, 5]\n"
     ]
    }
   ],
   "source": [
    "a=[1,2,3,4,5]\n",
    "a.insert(1,40) #1번째 인덱스에 40 추가\n",
    "print(a)"
   ]
  },
  {
   "cell_type": "markdown",
   "metadata": {},
   "source": [
    "+ **remove()**\n",
    " * 값으로 항목 삭제"
   ]
  },
  {
   "cell_type": "code",
   "execution_count": 39,
   "metadata": {},
   "outputs": [
    {
     "name": "stdout",
     "output_type": "stream",
     "text": [
      "[1, 3, 4, 5]\n",
      "[1, 2, 30, 2]\n",
      "[1, 2, 2]\n"
     ]
    }
   ],
   "source": [
    "a=[1,2,3,4,5]\n",
    "a.remove(2)\n",
    "print(a)\n",
    "\n",
    "c=[1,2,30,30,2]\n",
    "c.remove(30) #맨 앞에것 하나만 지움\n",
    "print(c)\n",
    "c.remove(c[2])\n",
    "print(c)"
   ]
  },
  {
   "cell_type": "markdown",
   "metadata": {},
   "source": [
    "+ **pop()**\n",
    "  - 지우고자 하는 아이템을 반환 후, 삭제"
   ]
  },
  {
   "cell_type": "code",
   "execution_count": 43,
   "metadata": {},
   "outputs": [
    {
     "name": "stdout",
     "output_type": "stream",
     "text": [
      "[1, 2, 4, 5]\n",
      "3\n",
      "5\n",
      "[1, 2, 4]\n",
      "[1, 4]\n"
     ]
    }
   ],
   "source": [
    "a=[1,2,3,4,5]\n",
    "d=a.pop(2) #지운 값을 가지고 와서 대입을 함\n",
    "\n",
    "print(a)\n",
    "print(d)\n",
    "\n",
    "print(a.pop())\n",
    "print(a)\n",
    "a.pop(1)\n",
    "print(a)"
   ]
  },
  {
   "cell_type": "markdown",
   "metadata": {},
   "source": [
    "+ **index()**\n",
    " * 찾고자 하는 값의 인덱스 반환"
   ]
  },
  {
   "cell_type": "code",
   "execution_count": 44,
   "metadata": {},
   "outputs": [
    {
     "data": {
      "text/plain": [
       "3"
      ]
     },
     "execution_count": 44,
     "metadata": {},
     "output_type": "execute_result"
    }
   ],
   "source": [
    "a=[2,6,7,9,10]\n",
    "a.index(9)"
   ]
  },
  {
   "cell_type": "markdown",
   "metadata": {},
   "source": [
    "* **in 키워드**\n",
    " + 리스트 내에 해당 값이 존재하는지 확인\n",
    " + value in [list]\n",
    " + True, False 중 한가지로 반환"
   ]
  },
  {
   "cell_type": "code",
   "execution_count": 47,
   "metadata": {},
   "outputs": [
    {
     "name": "stdout",
     "output_type": "stream",
     "text": [
      "False\n",
      "True\n"
     ]
    }
   ],
   "source": [
    "a=[1,2,3,4,5,6,7,8,9,10]\n",
    "\n",
    "b=19\n",
    "c=b in a\n",
    "print(c)\n",
    "\n",
    "b=8\n",
    "c=b in a\n",
    "print(c)"
   ]
  },
  {
   "cell_type": "markdown",
   "metadata": {},
   "source": [
    "* **list 정렬**\n",
    " + sort() -> 리스트 자체를 내부적으로 정렬\n",
    " + sorted() -> 리스트의 정렬된 복사본을 반환"
   ]
  },
  {
   "cell_type": "code",
   "execution_count": 52,
   "metadata": {
    "scrolled": true
   },
   "outputs": [
    {
     "name": "stdout",
     "output_type": "stream",
     "text": [
      "[3, 4, 7, 8, 56, 81]\n",
      "[88, 72, 53, 7, 5, 2, 1]\n",
      "[1, 2, 5, 7, 53, 72, 88]\n",
      "[88, 72, 53, 7, 5, 2, 1]\n"
     ]
    }
   ],
   "source": [
    "a=[8,4,81,56,3,7]\n",
    "c=[2,7,53,88,1,5,72]\n",
    "a.sort() #내부적으로 아예 변경\n",
    "print(a)\n",
    "c.sort(reverse=True)\n",
    "print(c)\n",
    "\n",
    "d=sorted(c)\n",
    "print(d)#복사본 반환\n",
    "print(c)"
   ]
  },
  {
   "cell_type": "markdown",
   "metadata": {},
   "source": [
    "### **tuple**\n",
    " - 리스트와 같이 복수개의 값을 갖는 컬렉션 타입\n",
    " - 생성된 후 변경이 불가능"
   ]
  },
  {
   "cell_type": "code",
   "execution_count": 53,
   "metadata": {},
   "outputs": [
    {
     "name": "stdout",
     "output_type": "stream",
     "text": [
      "<class 'tuple'>\n",
      "<class 'list'>\n",
      "[100, 3, 4]\n"
     ]
    }
   ],
   "source": [
    "a=[12,3,4]\n",
    "b=(1,2,3,5)\n",
    "print(type(b))\n",
    "print(type(a))\n",
    "\n",
    "a[0]=100\n",
    "print(a)\n",
    "#b[0]=100\n",
    "#immutable"
   ]
  },
  {
   "cell_type": "markdown",
   "metadata": {},
   "source": [
    "#### **tuple unpacking**\n",
    " - 튜플의 값을 차례대로 변수에 대입"
   ]
  },
  {
   "cell_type": "code",
   "execution_count": 58,
   "metadata": {},
   "outputs": [
    {
     "name": "stdout",
     "output_type": "stream",
     "text": [
      "<class 'tuple'>\n",
      "1 2\n"
     ]
    }
   ],
   "source": [
    "a=100,200\n",
    "#괄호생략가능\n",
    "print(type(a))\n",
    "b,c=1,2\n",
    "print(b,c) #tuple unpacking"
   ]
  },
  {
   "cell_type": "code",
   "execution_count": 59,
   "metadata": {},
   "outputs": [
    {
     "name": "stdout",
     "output_type": "stream",
     "text": [
      "100 200 300 400\n"
     ]
    }
   ],
   "source": [
    "a,b,c,d=100,200,300,400\n",
    "print(a,b,c,d)"
   ]
  },
  {
   "cell_type": "markdown",
   "metadata": {},
   "source": [
    "* **연습문제** a와 b의 값을 교환하시오"
   ]
  },
  {
   "cell_type": "code",
   "execution_count": 60,
   "metadata": {},
   "outputs": [
    {
     "name": "stdout",
     "output_type": "stream",
     "text": [
      "2 1\n"
     ]
    }
   ],
   "source": [
    "a=1\n",
    "b=2\n",
    "a,b=b,a\n",
    "print(a,b)"
   ]
  },
  {
   "cell_type": "code",
   "execution_count": 61,
   "metadata": {},
   "outputs": [
    {
     "name": "stdout",
     "output_type": "stream",
     "text": [
      "4 5\n"
     ]
    }
   ],
   "source": [
    "a=5\n",
    "b=4\n",
    "\n",
    "temp=a\n",
    "a=b\n",
    "b=temp\n",
    "\n",
    "print(a,b)"
   ]
  }
 ],
 "metadata": {
  "kernelspec": {
   "display_name": "Python 3",
   "language": "python",
   "name": "python3"
  },
  "language_info": {
   "codemirror_mode": {
    "name": "ipython",
    "version": 3
   },
   "file_extension": ".py",
   "mimetype": "text/x-python",
   "name": "python",
   "nbconvert_exporter": "python",
   "pygments_lexer": "ipython3",
   "version": "3.8.5"
  }
 },
 "nbformat": 4,
 "nbformat_minor": 1
}
