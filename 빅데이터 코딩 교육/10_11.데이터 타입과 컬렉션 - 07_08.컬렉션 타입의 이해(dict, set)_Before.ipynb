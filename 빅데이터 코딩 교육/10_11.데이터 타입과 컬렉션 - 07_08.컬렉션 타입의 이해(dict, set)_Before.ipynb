{
 "cells": [
  {
   "cell_type": "markdown",
   "metadata": {},
   "source": [
    "## 학습목표\n",
    " 1. dictionary, set에 대해 이해 및 실습\n"
   ]
  },
  {
   "cell_type": "markdown",
   "metadata": {},
   "source": [
    "### **dictionary**\n",
    " + 키와 값을 갖는 데이터 구조\n",
    " + 키는 내부적으로 hash값으로 저장\n",
    " + 순서를 따지지 않음. 즉, 인덱스가 없음"
   ]
  },
  {
   "cell_type": "code",
   "execution_count": 6,
   "metadata": {},
   "outputs": [
    {
     "name": "stdout",
     "output_type": "stream",
     "text": [
      "0\n",
      "4\n",
      "{'Korea': 'Seoul', 'Canada': 'Ottawa', 'USA': 'Washington D.C'}\n",
      "<class 'dict'>\n",
      "Seoul\n",
      "10\n"
     ]
    }
   ],
   "source": [
    "a=[0,1,2,3,4]\n",
    "print(a[0])\n",
    "print(a[4])\n",
    "#원소의 인덱스만 알면 값에 접근하는 시간 매우 빠름\n",
    "\n",
    "#dictionary의 key 값을 알면, 값에 접근하는 시간 매우 빠름\n",
    "\n",
    "a={'Korea':'Seoul',\n",
    "   'Canada': 'Ottawa', \n",
    "  'USA':'Washington D.C'}\n",
    "print(a)\n",
    "#print(a[0]) -> 순서가 없음\n",
    "b={0:1, 1:6, 2:7, 8:10}\n",
    "print(type(b))\n",
    "print(a['Korea'])\n",
    "print(b[8])"
   ]
  },
  {
   "cell_type": "markdown",
   "metadata": {},
   "source": [
    "+ **항목 추가 및 변경**\n",
    " - 기존에 키가 존재 하면, 새로운 값으로 업데이트\n",
    " - 존재하지 않으면, 새로운 키, 값 생성"
   ]
  },
  {
   "cell_type": "code",
   "execution_count": 8,
   "metadata": {},
   "outputs": [
    {
     "name": "stdout",
     "output_type": "stream",
     "text": [
      "{'Korea': 'Seoul', 'Canada': 'Ottawa', 'USA': 'Washington D.C', 'Japan': 'Kyoto', 'China': 'Beijing'}\n"
     ]
    }
   ],
   "source": [
    "a={'Korea':'Seoul',\n",
    "   'Canada': 'Ottawa', \n",
    "  'USA':'Washington D.C'}\n",
    "a['Japan']='Tokyo'\n",
    "a['Japan']='Kyoto' #중복 안돼서, 마지막에 받은 값으로 업데이트\n",
    "#값에는 동일한 것 여러번 써도 괜찮음\n",
    "a['China']='Beijing'\n",
    "\n",
    "print(a)"
   ]
  },
  {
   "cell_type": "markdown",
   "metadata": {},
   "source": [
    "+ **update()**\n",
    " * 두 딕셔너리를 병합함\n",
    " * 겹치는 키가 있다면 parameter로 전달되는 키 값이 overwrite된다."
   ]
  },
  {
   "cell_type": "code",
   "execution_count": 10,
   "metadata": {},
   "outputs": [
    {
     "name": "stdout",
     "output_type": "stream",
     "text": [
      "{'a': 2, 'b': 2, 'c': 3, 'd': 4, 'e': 5}\n"
     ]
    }
   ],
   "source": [
    "a={'a':1, 'b':2, 'c':3}\n",
    "b={'a':2, 'd':4, 'e':5}\n",
    "\n",
    "a.update(b)\n",
    "print(a)"
   ]
  },
  {
   "cell_type": "markdown",
   "metadata": {},
   "source": [
    "* **key삭제**\n",
    " - del 키워드 사용\n",
    " - pop 함수 이용"
   ]
  },
  {
   "cell_type": "code",
   "execution_count": 18,
   "metadata": {},
   "outputs": [],
   "source": [
    "c=100\n",
    "del c #stack에서 지울 수도 있음"
   ]
  },
  {
   "cell_type": "code",
   "execution_count": 19,
   "metadata": {},
   "outputs": [
    {
     "name": "stdout",
     "output_type": "stream",
     "text": [
      "{'a': 1, 'b': 2, 'c': 3}\n",
      "{'a': 1, 'c': 3}\n"
     ]
    }
   ],
   "source": [
    "a={'a':1, 'b':2, 'c':3}\n",
    "print(a)\n",
    "\n",
    "#a.pop('b')\n",
    "del a['b']\n",
    "print(a)"
   ]
  },
  {
   "cell_type": "code",
   "execution_count": 21,
   "metadata": {},
   "outputs": [],
   "source": [
    "#print(c) -> del c 해서 오류"
   ]
  },
  {
   "cell_type": "markdown",
   "metadata": {},
   "source": [
    "* **clear()**\n",
    " + 딕셔너리의 모든 값을 초기화\n"
   ]
  },
  {
   "cell_type": "code",
   "execution_count": 22,
   "metadata": {},
   "outputs": [
    {
     "name": "stdout",
     "output_type": "stream",
     "text": [
      "{'a': 1, 'c': 3}\n",
      "{}\n"
     ]
    }
   ],
   "source": [
    "print(a)\n",
    "a.clear()\n",
    "print(a)"
   ]
  },
  {
   "cell_type": "markdown",
   "metadata": {},
   "source": [
    "* **in**\n",
    " + key값 존재 확인\n",
    " + O(1) 연산 - 딕셔너리의 크기와 관계없이 항상 연산의 속도가 일정하다는 의미"
   ]
  },
  {
   "cell_type": "code",
   "execution_count": 25,
   "metadata": {},
   "outputs": [
    {
     "name": "stdout",
     "output_type": "stream",
     "text": [
      "{'a': 1, 'b': 2, 'c': 3}\n",
      "True\n",
      "False\n",
      "True\n",
      "True\n"
     ]
    }
   ],
   "source": [
    "a={'a':1, 'b':2, 'c':3}\n",
    "print(a)\n",
    "\n",
    "print('b' in a)\n",
    "print('d' in a)\n",
    "\n",
    "b=[1,2,3,4,5,10,100]\n",
    "\n",
    "print(100 in b) # 리스트안에서 찾으려면 시간 많이 걸림, 성능 저하\n",
    "print('b' in a) #key의 개수와 상관 없이 바로 결과 출력, 성능 관계 없음"
   ]
  },
  {
   "cell_type": "markdown",
   "metadata": {},
   "source": [
    "* **value access**\n",
    " + dict[key]로 접급, 키가 없는 경우 에러 발생 \n",
    " + .get() 함수로 접근, 키가 없는 경우 None반환"
   ]
  },
  {
   "cell_type": "code",
   "execution_count": 26,
   "metadata": {},
   "outputs": [
    {
     "name": "stdout",
     "output_type": "stream",
     "text": [
      "2\n",
      "None\n"
     ]
    }
   ],
   "source": [
    "print(a['b'])\n",
    "print(a.get('d'))#프로그램 죽는 것 방지\n",
    "#print(a['d'])->에러"
   ]
  },
  {
   "cell_type": "markdown",
   "metadata": {},
   "source": [
    "#### **모든 keys, values 접근**\n",
    " + keys() - 키만 반환\n",
    " + values() - 값만 반환\n",
    " + items() - 키, 값의 튜플을 반환"
   ]
  },
  {
   "cell_type": "code",
   "execution_count": 28,
   "metadata": {},
   "outputs": [
    {
     "name": "stdout",
     "output_type": "stream",
     "text": [
      "{'a': 1, 'b': 2, 'c': 3}\n",
      "dict_keys(['a', 'b', 'c'])\n",
      "dict_values([1, 2, 3])\n",
      "dict_items([('a', 1), ('b', 2), ('c', 3)])\n",
      "['a', 'b', 'c']\n",
      "[1, 2, 3]\n",
      "[('a', 1), ('b', 2), ('c', 3)]\n"
     ]
    }
   ],
   "source": [
    "print(a)\n",
    "print(a.keys())\n",
    "print(a.values())\n",
    "print(a.items())\n",
    "\n",
    "print(list(a.keys()))\n",
    "print(list(a.values()))\n",
    "print(list(a.items()))"
   ]
  },
  {
   "cell_type": "markdown",
   "metadata": {},
   "source": [
    "### **set**\n",
    " + dictionary에서 key만 활용하는 데이터 구조로 이해\n",
    " + 수학에서의 집합과 동일한 개념"
   ]
  },
  {
   "cell_type": "code",
   "execution_count": 29,
   "metadata": {},
   "outputs": [
    {
     "name": "stdout",
     "output_type": "stream",
     "text": [
      "{1, 2, 3, 4, 5}\n"
     ]
    }
   ],
   "source": [
    "a={1,1,2,2,3,3,4,1,5}\n",
    "print(a)\n",
    "\n",
    "#print(a[1]) -> 인덱싱 안되어있음, 순서 없음"
   ]
  },
  {
   "cell_type": "markdown",
   "metadata": {},
   "source": [
    "* **set()으로 집합으로 변환**"
   ]
  },
  {
   "cell_type": "code",
   "execution_count": 30,
   "metadata": {},
   "outputs": [
    {
     "name": "stdout",
     "output_type": "stream",
     "text": [
      "[1, 2, 3, 4, 4, 5, 5, 6, 6, 6, 7]\n",
      "{1, 2, 3, 4, 5, 6, 7}\n"
     ]
    }
   ],
   "source": [
    "a=set() # 빈 set\n",
    "\n",
    "b=[1,2,3,4,4,5,5,6,6,6,7]\n",
    "c=set(b)\n",
    "print(b)\n",
    "print(c)"
   ]
  },
  {
   "cell_type": "markdown",
   "metadata": {},
   "source": [
    "+ **set operations**\n",
    " - 수학 연산과 동일\n",
    " - 교집합, 합집합, 차집합 등 지원"
   ]
  },
  {
   "cell_type": "code",
   "execution_count": 31,
   "metadata": {},
   "outputs": [
    {
     "name": "stdout",
     "output_type": "stream",
     "text": [
      "{1, 2, 3, 4}\n",
      "{2, 3}\n",
      "{1}\n",
      "False\n"
     ]
    }
   ],
   "source": [
    "a={1,2,3}\n",
    "b={2,3,4}\n",
    "\n",
    "print(a.union(b)) #합집합\n",
    "print(a.intersection(b)) #교집합\n",
    "print(a.difference(b)) #차집합\n",
    "print(a.issubset(b)) #a가 b의 부분집합 인가? "
   ]
  }
 ],
 "metadata": {
  "kernelspec": {
   "display_name": "Python 3",
   "language": "python",
   "name": "python3"
  },
  "language_info": {
   "codemirror_mode": {
    "name": "ipython",
    "version": 3
   },
   "file_extension": ".py",
   "mimetype": "text/x-python",
   "name": "python",
   "nbconvert_exporter": "python",
   "pygments_lexer": "ipython3",
   "version": "3.8.5"
  }
 },
 "nbformat": 4,
 "nbformat_minor": 1
}
