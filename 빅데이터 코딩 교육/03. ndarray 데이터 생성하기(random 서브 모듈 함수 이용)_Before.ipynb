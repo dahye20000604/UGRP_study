{
 "cells": [
  {
   "cell_type": "markdown",
   "metadata": {},
   "source": [
    "### 학습목표\n",
    " - random 서브모듈 함수를 통해 ndarray 생성하기"
   ]
  },
  {
   "cell_type": "code",
   "execution_count": 1,
   "metadata": {},
   "outputs": [],
   "source": [
    "import numpy as np"
   ]
  },
  {
   "cell_type": "markdown",
   "metadata": {},
   "source": [
    "#### random 서브모듈"
   ]
  },
  {
   "cell_type": "markdown",
   "metadata": {},
   "source": [
    "#### rand 함수\n",
    " - 0, 1사이의 분포로 랜덤한 ndarray 생성"
   ]
  },
  {
   "cell_type": "code",
   "execution_count": 2,
   "metadata": {},
   "outputs": [
    {
     "data": {
      "text/plain": [
       "array([[0.51901339, 0.82994773, 0.27700643],\n",
       "       [0.92441946, 0.02085435, 0.88987473]])"
      ]
     },
     "execution_count": 2,
     "metadata": {},
     "output_type": "execute_result"
    }
   ],
   "source": [
    "np.random.rand(2,3) #2행 3열의 행렬을 random한 수(0과 1사이)로 채움"
   ]
  },
  {
   "cell_type": "code",
   "execution_count": 3,
   "metadata": {},
   "outputs": [
    {
     "data": {
      "text/plain": [
       "array([[[0.7547341 , 0.58183333, 0.77684354],\n",
       "        [0.78247387, 0.27671873, 0.62875319],\n",
       "        [0.6610927 , 0.19734056, 0.95990641],\n",
       "        [0.76793953, 0.21569409, 0.493048  ],\n",
       "        [0.67242182, 0.21488719, 0.06411678]],\n",
       "\n",
       "       [[0.01682501, 0.96144018, 0.06770717],\n",
       "        [0.06065453, 0.41806361, 0.51500282],\n",
       "        [0.02048266, 0.1309278 , 0.62293715],\n",
       "        [0.83116838, 0.92018084, 0.67986427],\n",
       "        [0.04779733, 0.62126144, 0.04918577]],\n",
       "\n",
       "       [[0.26095322, 0.14797382, 0.22402045],\n",
       "        [0.8443063 , 0.67257146, 0.14136287],\n",
       "        [0.09217242, 0.12358002, 0.27759933],\n",
       "        [0.10539653, 0.33706692, 0.74318595],\n",
       "        [0.85492848, 0.66228002, 0.24339658]],\n",
       "\n",
       "       [[0.96175924, 0.21079073, 0.79788791],\n",
       "        [0.60055622, 0.77195055, 0.70355161],\n",
       "        [0.0532903 , 0.30849422, 0.06702795],\n",
       "        [0.97019868, 0.2186087 , 0.48170824],\n",
       "        [0.8414124 , 0.71569918, 0.98370962]]])"
      ]
     },
     "execution_count": 3,
     "metadata": {},
     "output_type": "execute_result"
    }
   ],
   "source": [
    "np.random.rand(4,5,3)"
   ]
  },
  {
   "cell_type": "markdown",
   "metadata": {},
   "source": [
    "#### randn함수\n",
    " - n: normal distribution(정규분포)\n",
    " - 정규분포로 샘플링된 랜덤 ndarray 생성"
   ]
  },
  {
   "cell_type": "code",
   "execution_count": 5,
   "metadata": {},
   "outputs": [
    {
     "data": {
      "text/plain": [
       "array([[-0.30984537, -0.85046967, -0.52706508],\n",
       "       [ 0.08205883,  1.29833729, -1.24540505]])"
      ]
     },
     "execution_count": 5,
     "metadata": {},
     "output_type": "execute_result"
    }
   ],
   "source": [
    "np.random.randn(2,3) #정규분포를 따르는 랜덤한 수로"
   ]
  },
  {
   "cell_type": "code",
   "execution_count": 6,
   "metadata": {},
   "outputs": [
    {
     "data": {
      "text/plain": [
       "array([[[ 0.61087835, -0.48598874, -0.26589398, -0.84753985],\n",
       "        [-1.35772584,  2.40127246,  0.25478233, -0.84544511],\n",
       "        [-1.31313305,  1.28216624,  0.12582722, -1.24521738]],\n",
       "\n",
       "       [[-0.58033516, -0.2947902 , -0.62942338, -0.49251171],\n",
       "        [ 1.01894817, -1.40570659, -2.19089129,  0.69266019],\n",
       "        [-0.05726528, -1.70716778,  0.32050736, -0.59340214]]])"
      ]
     },
     "execution_count": 6,
     "metadata": {},
     "output_type": "execute_result"
    }
   ],
   "source": [
    "np.random.randn(2,3,4) #3행 4열짜리 2개"
   ]
  },
  {
   "cell_type": "markdown",
   "metadata": {},
   "source": [
    "#### randint 함수\n",
    " - 특정 정수 사이에서 랜덤하게 샘플링"
   ]
  },
  {
   "cell_type": "code",
   "execution_count": 11,
   "metadata": {},
   "outputs": [
    {
     "data": {
      "text/plain": [
       "array([[12, 75, 93, 16, 39],\n",
       "       [61, 15, 23, 13,  6],\n",
       "       [94, 38, 52, 99, 78]])"
      ]
     },
     "execution_count": 11,
     "metadata": {},
     "output_type": "execute_result"
    }
   ],
   "source": [
    "np.random.randint(1,100, size=(3,5)) #(low, high=None,size=())"
   ]
  },
  {
   "cell_type": "markdown",
   "metadata": {},
   "source": [
    "#### seed 함수\n",
    " - 랜덤한 값을 동일하게 다시 생성하고자 할때 사용"
   ]
  },
  {
   "cell_type": "code",
   "execution_count": 22,
   "metadata": {},
   "outputs": [
    {
     "data": {
      "text/plain": [
       "array([[ 0.49671415, -0.1382643 ,  0.64768854],\n",
       "       [ 1.52302986, -0.23415337, -0.23413696]])"
      ]
     },
     "execution_count": 22,
     "metadata": {},
     "output_type": "execute_result"
    }
   ],
   "source": [
    "np.random.seed(42)\n",
    "\n",
    "np.random.randn(2,3)"
   ]
  },
  {
   "cell_type": "markdown",
   "metadata": {},
   "source": [
    "#### choice\n",
    " - 주어진 1차원 ndarray로 부터 랜덤으로 샘플링\n",
    " - 정수가 주어진 경우, np.arange(해당숫자)로 간주"
   ]
  },
  {
   "cell_type": "code",
   "execution_count": 24,
   "metadata": {},
   "outputs": [
    {
     "data": {
      "text/plain": [
       "array([[ 1, 63, 59, 20],\n",
       "       [32, 75, 57, 21],\n",
       "       [88, 48, 90, 58]])"
      ]
     },
     "execution_count": 24,
     "metadata": {},
     "output_type": "execute_result"
    }
   ],
   "source": [
    "np.random.choice(100,size=(3, 4))"
   ]
  },
  {
   "cell_type": "code",
   "execution_count": 26,
   "metadata": {},
   "outputs": [
    {
     "data": {
      "text/plain": [
       "array([[1. , 2. ],\n",
       "       [2.6, 1.5]])"
      ]
     },
     "execution_count": 26,
     "metadata": {},
     "output_type": "execute_result"
    }
   ],
   "source": [
    "x=np.array([1,2,3,1.5,2.6,4.9])\n",
    "np.random.choice(x,size=(2, 2),replace=False) # replace False이면, 중복 허용 안함"
   ]
  },
  {
   "cell_type": "markdown",
   "metadata": {},
   "source": [
    "#### 확률분포에 따른 ndarray 생성\n",
    " - uniform\n",
    " - normal 등등"
   ]
  },
  {
   "cell_type": "code",
   "execution_count": 28,
   "metadata": {},
   "outputs": [
    {
     "data": {
      "text/plain": [
       "array([[1.09290083, 2.2150897 , 1.34104825, 1.13010319, 2.89777107],\n",
       "       [2.93126407, 2.6167947 , 1.60922754, 1.19534423, 2.36846605],\n",
       "       [1.88030499, 1.24407647, 1.99035382, 1.06877704, 2.8186408 ],\n",
       "       [1.51755996, 2.32504457, 1.62342215, 2.04013604, 2.09342056]])"
      ]
     },
     "execution_count": 28,
     "metadata": {},
     "output_type": "execute_result"
    }
   ],
   "source": [
    "np.random.uniform(1.0,3.0,size=(4,5))"
   ]
  },
  {
   "cell_type": "code",
   "execution_count": 31,
   "metadata": {},
   "outputs": [
    {
     "data": {
      "text/plain": [
       "array([[-0.21216142, -0.42686879,  0.50144833,  1.15818665],\n",
       "       [ 0.25711687,  0.3145129 ,  1.37186213,  0.17555329],\n",
       "       [-0.30928855,  0.6731255 , -0.25663018, -0.36782572]])"
      ]
     },
     "execution_count": 31,
     "metadata": {},
     "output_type": "execute_result"
    }
   ],
   "source": [
    "np.random.normal(size=(4,5))\n",
    "#np.random.randn(3,4)"
   ]
  }
 ],
 "metadata": {
  "kernelspec": {
   "display_name": "Python 3",
   "language": "python",
   "name": "python3"
  },
  "language_info": {
   "codemirror_mode": {
    "name": "ipython",
    "version": 3
   },
   "file_extension": ".py",
   "mimetype": "text/x-python",
   "name": "python",
   "nbconvert_exporter": "python",
   "pygments_lexer": "ipython3",
   "version": "3.8.5"
  }
 },
 "nbformat": 4,
 "nbformat_minor": 2
}
