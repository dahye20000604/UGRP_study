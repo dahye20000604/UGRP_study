{
 "cells": [
  {
   "cell_type": "markdown",
   "metadata": {},
   "source": [
    "# 알고리즘 결과 Visualization"
   ]
  },
  {
   "cell_type": "markdown",
   "metadata": {},
   "source": [
    "## Import modules"
   ]
  },
  {
   "cell_type": "code",
   "execution_count": 16,
   "metadata": {},
   "outputs": [
    {
     "name": "stdout",
     "output_type": "stream",
     "text": [
      "Requirement already satisfied: matplotlib in c:\\users\\uijeong\\anaconda3\\lib\\site-packages (3.3.2)\n",
      "Requirement already satisfied: kiwisolver>=1.0.1 in c:\\users\\uijeong\\anaconda3\\lib\\site-packages (from matplotlib) (1.3.0)\n",
      "Requirement already satisfied: pyparsing!=2.0.4,!=2.1.2,!=2.1.6,>=2.0.3 in c:\\users\\uijeong\\anaconda3\\lib\\site-packages (from matplotlib) (2.4.7)\n",
      "Requirement already satisfied: certifi>=2020.06.20 in c:\\users\\uijeong\\anaconda3\\lib\\site-packages (from matplotlib) (2020.6.20)\n",
      "Requirement already satisfied: cycler>=0.10 in c:\\users\\uijeong\\anaconda3\\lib\\site-packages (from matplotlib) (0.10.0)\n",
      "Requirement already satisfied: python-dateutil>=2.1 in c:\\users\\uijeong\\anaconda3\\lib\\site-packages (from matplotlib) (2.8.1)\n",
      "Requirement already satisfied: pillow>=6.2.0 in c:\\users\\uijeong\\anaconda3\\lib\\site-packages (from matplotlib) (8.0.1)\n",
      "Requirement already satisfied: numpy>=1.15 in c:\\users\\uijeong\\anaconda3\\lib\\site-packages (from matplotlib) (1.19.2)\n",
      "Requirement already satisfied: six in c:\\users\\uijeong\\anaconda3\\lib\\site-packages (from cycler>=0.10->matplotlib) (1.15.0)\n"
     ]
    }
   ],
   "source": [
    "!pip install matplotlib"
   ]
  },
  {
   "cell_type": "code",
   "execution_count": 19,
   "metadata": {},
   "outputs": [],
   "source": [
    "import numpy as np\n",
    "import matplotlib.pyplot as plt"
   ]
  },
  {
   "cell_type": "markdown",
   "metadata": {},
   "source": [
    "## 손실 함수 정의"
   ]
  },
  {
   "cell_type": "code",
   "execution_count": 20,
   "metadata": {},
   "outputs": [],
   "source": [
    "def f(x):\n",
    "    return 0.1*x**4-1.5*x**3+0.6*x**2+20.0"
   ]
  },
  {
   "cell_type": "markdown",
   "metadata": {},
   "source": [
    "## 손실 함수 미분 정의"
   ]
  },
  {
   "cell_type": "code",
   "execution_count": 21,
   "metadata": {},
   "outputs": [],
   "source": [
    "def df_dx(x):\n",
    "    return 0.4*x**3-4.5*x**2+1.2*x"
   ]
  },
  {
   "cell_type": "markdown",
   "metadata": {},
   "source": [
    "## Gradient Descent 알고리즘 구현"
   ]
  },
  {
   "cell_type": "code",
   "execution_count": 22,
   "metadata": {},
   "outputs": [],
   "source": [
    "def gradient_descent(initial_x, max_epoch=1000,lr=0.01, eps=1e-5):\n",
    "    x=initial_x\n",
    "    \n",
    "    x_log=[x]\n",
    "    min_x=x\n",
    "    min_y=f(min_x)\n",
    "    for _ in range(max_epoch):\n",
    "        grad=df_dx(x)\n",
    "        new_x=x-lr*grad\n",
    "        y=f(new_x)\n",
    "        \n",
    "        x_log.append(new_x)\n",
    "\n",
    "        if min_y>y:\n",
    "            min_x=new_x\n",
    "            min_y=y\n",
    "        if np.abs(x-new_x)<eps:\n",
    "            break\n",
    "        x=new_x\n",
    "    return min_x, min_y, x_log"
   ]
  },
  {
   "cell_type": "markdown",
   "metadata": {},
   "source": [
    "## 알고리즘 결과 시각화"
   ]
  },
  {
   "cell_type": "code",
   "execution_count": 26,
   "metadata": {},
   "outputs": [
    {
     "data": {
      "image/png": "[encoded data removed]",
      "text/plain": [
       "<Figure size 432x288 with 1 Axes>"
      ]
     },
     "metadata": {
      "needs_background": "light"
     },
     "output_type": "display_data"
    }
   ],
   "source": [
    "min_x1, min_y1, x_log1=gradient_descent(initial_x=5)\n",
    "min_x2, min_y2, x_log2=gradient_descent(initial_x=-5)\n",
    "min_x3, min_y3, x_log3=gradient_descent(initial_x=0)\n",
    "min_x4, min_y4, x_log4=gradient_descent(initial_x=15, lr=0.02)\n",
    "#learning_rate가 중요함.\n",
    "y_log1=f(np.array(x_log1))\n",
    "y_log2=f(np.array(x_log2))\n",
    "y_log3=f(np.array(x_log3))\n",
    "y_log4=f(np.array(x_log4))\n",
    "\n",
    "plt.plot(x_log1, y_log1,'.-')\n",
    "plt.plot(x_log2, y_log2,'.-')\n",
    "plt.plot(x_log3, y_log3,'.-')\n",
    "plt.plot(x_log4, y_log4,'.-')\n",
    "\n",
    "plt.show()"
   ]
  }
 ],
 "metadata": {
  "kernelspec": {
   "display_name": "Python 3",
   "language": "python",
   "name": "python3"
  },
  "language_info": {
   "codemirror_mode": {
    "name": "ipython",
    "version": 3
   },
   "file_extension": ".py",
   "mimetype": "text/x-python",
   "name": "python",
   "nbconvert_exporter": "python",
   "pygments_lexer": "ipython3",
   "version": "3.8.5"
  }
 },
 "nbformat": 4,
 "nbformat_minor": 2
}
