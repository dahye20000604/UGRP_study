{
 "cells": [
  {
   "cell_type": "markdown",
   "id": "animated-douglas",
   "metadata": {},
   "source": [
    "## 과적합이란\n",
    "- 복잡한 모형일수록, 데이터가 적을수록 과적합이 일어나기 쉬움\n",
    "\n",
    "### 분산(Variance)과 편파성(Bias)의 트레이드오프(Tradeoff)\n",
    "- 모형으로 모집단의 전체 데이터를 예측할 때 발생하는 총 error를 계산하며 reducible error와 irreducible error로 표현되며, reducible error는 다시 분산과 편파성으로 구성\n",
    "- 분산 : 전체 데이터 집합 중 다른 학습 데이터를 이용했을때, f_hat이 변하는 정도(복잡한 모형일수록 분산이 높음)\n",
    "- 편파성 : 학습 알고리즘에서 잘못된 가정을 했을 때 발생하는 오차(간단한 모형일수록 편파성이 높음)\n",
    "- 복잡한 모형을 사용하여 편파성을 줄이면, 반대로 분산이 커짐"
   ]
  },
  {
   "cell_type": "code",
   "execution_count": null,
   "id": "democratic-decrease",
   "metadata": {},
   "outputs": [],
   "source": []
  }
 ],
 "metadata": {
  "kernelspec": {
   "display_name": "Python 3",
   "language": "python",
   "name": "python3"
  },
  "language_info": {
   "codemirror_mode": {
    "name": "ipython",
    "version": 3
   },
   "file_extension": ".py",
   "mimetype": "text/x-python",
   "name": "python",
   "nbconvert_exporter": "python",
   "pygments_lexer": "ipython3",
   "version": "3.8.5"
  }
 },
 "nbformat": 4,
 "nbformat_minor": 5
}
