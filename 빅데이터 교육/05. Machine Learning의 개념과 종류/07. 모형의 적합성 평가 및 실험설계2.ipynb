{
 "cells": [
  {
   "cell_type": "markdown",
   "id": "champion-container",
   "metadata": {},
   "source": [
    "## 데이터 분석과정\n",
    "raw데이터->전처리된 데이터->실험설계->모델"
   ]
  },
  {
   "cell_type": "markdown",
   "id": "warming-enterprise",
   "metadata": {},
   "source": [
    "### 전처리\n",
    "Raw데이터를 모델링할 수 있도록 데이터를 병합 및 파생 변수 생성"
   ]
  },
  {
   "cell_type": "markdown",
   "id": "presidential-scroll",
   "metadata": {},
   "source": [
    "### 실험설계\n",
    "실험설계에서 test데이터는 실제로 우리가 모데을 적용을 한다는 가정하에 해야 함"
   ]
  },
  {
   "cell_type": "code",
   "execution_count": null,
   "id": "excellent-choir",
   "metadata": {},
   "outputs": [],
   "source": []
  }
 ],
 "metadata": {
  "kernelspec": {
   "display_name": "Python 3",
   "language": "python",
   "name": "python3"
  },
  "language_info": {
   "codemirror_mode": {
    "name": "ipython",
    "version": 3
   },
   "file_extension": ".py",
   "mimetype": "text/x-python",
   "name": "python",
   "nbconvert_exporter": "python",
   "pygments_lexer": "ipython3",
   "version": "3.8.5"
  }
 },
 "nbformat": 4,
 "nbformat_minor": 5
}
