{
 "cells": [
  {
   "cell_type": "markdown",
   "id": "flush-bracket",
   "metadata": {},
   "source": [
    "## 선형 회귀분석(Linear Regression)\n",
    "- 독립변수와 종속변수가 선형적인 관계가 있다라ㄴㄴ 가정하에 분석\n",
    "- 직선을 통해 종속변수를 예측하기 때문에 독립변수의 중요도와 영향력을 파악하기 쉬움\n",
    "- 단점 : 비선형 데이터에 대해 잘 표현하지 못함"
   ]
  },
  {
   "cell_type": "markdown",
   "id": "entertaining-despite",
   "metadata": {},
   "source": [
    "## 의사결정나무(Decision Tree)\n",
    "- 독립 변수의 조건에 따라 종속변수를 분리\n",
    "- 이해하기 쉬우나 overfitting이 잘 일어남\n",
    "- 간단한 모형에는 좋으나 복잡한 모형에는 좋지 않음\n",
    "- Ensemble Learning에 이용됨"
   ]
  },
  {
   "cell_type": "markdown",
   "id": "ranging-evans",
   "metadata": {},
   "source": [
    "## KNN(K-Neares Neighbor)\n",
    "- 새로 들어온 데이터의 주변 k개의 데이터의 class로 분류하는 기법\n",
    "- hyperparameter : 사람이 지정해야되는 parameter ex) k"
   ]
  },
  {
   "cell_type": "markdown",
   "id": "closing-broad",
   "metadata": {},
   "source": [
    "## Neural Network\n",
    "- 입력, 은닉, 출력층으로 구성된 모형으로서 각 층을 연결하는 노드의 가중치를 업데이트하면서 학습"
   ]
  },
  {
   "cell_type": "markdown",
   "id": "acting-homework",
   "metadata": {},
   "source": [
    "## SVM(Support Vector Machine)\n",
    "- class 간의 거리(margin)가 최대가 되도록 decision boundary를 만드는 방법"
   ]
  },
  {
   "cell_type": "markdown",
   "id": "tight-berlin",
   "metadata": {},
   "source": [
    "## Ensemble Learning\n",
    "- 여러 개의 모델(classifier)을 결합하여 사용하는 모델\n",
    "- 대표적으로 Bagging, Random Forest, Boosting"
   ]
  },
  {
   "cell_type": "markdown",
   "id": "pressing-british",
   "metadata": {},
   "source": [
    "## K-means clustering : 비지도학습의 예시\n",
    "- label 없이 데이터의 군집으로 k개로 생성"
   ]
  }
 ],
 "metadata": {
  "kernelspec": {
   "display_name": "Python 3",
   "language": "python",
   "name": "python3"
  },
  "language_info": {
   "codemirror_mode": {
    "name": "ipython",
    "version": 3
   },
   "file_extension": ".py",
   "mimetype": "text/x-python",
   "name": "python",
   "nbconvert_exporter": "python",
   "pygments_lexer": "ipython3",
   "version": "3.8.5"
  }
 },
 "nbformat": 4,
 "nbformat_minor": 5
}
