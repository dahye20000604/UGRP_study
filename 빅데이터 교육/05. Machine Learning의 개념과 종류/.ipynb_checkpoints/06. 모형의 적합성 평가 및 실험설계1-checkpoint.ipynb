{
 "cells": [
  {
   "cell_type": "markdown",
   "id": "adult-narrow",
   "metadata": {},
   "source": [
    "## 모형의 적합성을 평가하는 방법\n",
    "### 데이터 분할\n",
    "- 과적합을 방지하기 위해 전체 데이터를 학습 데이터, 검증 데이터, 테스트 데이터로 나누며 보통 5:3:2로 정함\n",
    "- 학습 데이터(training data):모형을 추정하는데 필요\n",
    "- 검증 데이터(validation data):추정한 모형이 적합한지 검증함\n",
    "- 테스트 데이터(test data):최종적으로 선택한 모형의 성능을 평가\n",
    "\n",
    "### k-Fold 교차검증(k-Fold Cross Validation)\n",
    "- 모형의 적합성을 보다 객관저긍로 평가하기 위한 방법\n",
    "- 데이터를 k개 부분으로 나눈 뒤, 그 중 하나를 검증 집합, 나머지를 학습 집합으로 분류\n",
    "- 위 과정을 k번 반복하고 k개의 성능 지표를 평균하여 모형의 적합성을 평가\n",
    "\n",
    "### LOOCV(Leave-One-Out Cross Validation)\n",
    "- 데이터의 수가 적을 때 교차검증 방법\n",
    "- 총 n(데이터 수)개의 모델을 만드는데, 각 모델은 하나의 샘플만 제외하면서 모델을 만들고 제외한 샘플로 성능을 계산함. 이렇게 도출된 n개의 성능 지표를 평균 내어 최종 성능 지표를 도출"
   ]
  },
  {
   "cell_type": "code",
   "execution_count": null,
   "id": "operational-financing",
   "metadata": {},
   "outputs": [],
   "source": []
  }
 ],
 "metadata": {
  "kernelspec": {
   "display_name": "Python 3",
   "language": "python",
   "name": "python3"
  },
  "language_info": {
   "codemirror_mode": {
    "name": "ipython",
    "version": 3
   },
   "file_extension": ".py",
   "mimetype": "text/x-python",
   "name": "python",
   "nbconvert_exporter": "python",
   "pygments_lexer": "ipython3",
   "version": "3.8.5"
  }
 },
 "nbformat": 4,
 "nbformat_minor": 5
}
