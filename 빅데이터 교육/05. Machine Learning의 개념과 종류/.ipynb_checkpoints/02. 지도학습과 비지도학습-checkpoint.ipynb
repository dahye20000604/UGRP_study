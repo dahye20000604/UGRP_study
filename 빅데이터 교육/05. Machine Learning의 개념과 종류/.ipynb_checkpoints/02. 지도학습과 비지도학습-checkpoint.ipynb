{
 "cells": [
  {
   "cell_type": "markdown",
   "id": "western-commodity",
   "metadata": {},
   "source": [
    "## 지도학습(supervised learning), labeled data\n",
    "Y=f(X)에 대하여 입력 변수(X)와 출력 변수(Y)의 관계에 대하여 모델링하는 것\n",
    "- 회귀(regression) : 입력 변수 X에 대해서 연속형 변수 Y를 예측\n",
    "- 분류(classification) : 입력 변수 X에 대해서 이산형 출력 변수 Y(class)를 예측"
   ]
  },
  {
   "cell_type": "markdown",
   "id": "large-patrick",
   "metadata": {},
   "source": [
    "## 비지도학습(unsupervised learning), unlabeled data\n",
    "출력 변수(Y)가 존재하지 않고, 입력 변수(X) 간의 관계에 대해 모델링하는 것"
   ]
  },
  {
   "cell_type": "markdown",
   "id": "wired-walnut",
   "metadata": {},
   "source": [
    "## 강화학습(reinforcement learning)\n",
    "- 수 많은 시뮬레이션을 통해 현재의 선택이 먼 미래에 보상이 최대가 되도록 학습\n",
    "- Agent가 action을 취하고 환경에서 보상을 받고 이 보상이 최대가 되도록 최적의 action을 취하는 방법을 배움"
   ]
  }
 ],
 "metadata": {
  "kernelspec": {
   "display_name": "Python 3",
   "language": "python",
   "name": "python3"
  },
  "language_info": {
   "codemirror_mode": {
    "name": "ipython",
    "version": 3
   },
   "file_extension": ".py",
   "mimetype": "text/x-python",
   "name": "python",
   "nbconvert_exporter": "python",
   "pygments_lexer": "ipython3",
   "version": "3.8.5"
  }
 },
 "nbformat": 4,
 "nbformat_minor": 5
}
