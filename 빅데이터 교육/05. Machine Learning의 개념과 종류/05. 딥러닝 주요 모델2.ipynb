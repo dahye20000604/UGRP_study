{
 "cells": [
  {
   "cell_type": "markdown",
   "id": "painful-telling",
   "metadata": {},
   "source": [
    "## GAN(Generative Adversarial Netwrk)\n",
    "data를 만들어내는 Generator와 만들어진 data를 평가하는 Discriminator가 서로 대립(Adversarial)적으로 학습해가며 성능을 점차 개선해 나가자는 개념\n",
    "- Discriminator를 학습시킬 때에는 D(x)가 1이 되고 D(G(z))가 0이 되도록 학습시킴 (x:real, z: noise, G(z):fake) \n",
    "\n",
    "=> 진짜 데이터를 진짜로 판별, 가짜 데이터를 가짜로 판별\n",
    "- Generator를 학습시킬 때에는 D(G(z))가 1이 되도록 학습시킴 \n",
    "\n",
    "=> 가짜 데이터를 discriminator가 구분못하도록 학습, discriminator를 헷갈리게 하도록"
   ]
  },
  {
   "cell_type": "markdown",
   "id": "competent-settlement",
   "metadata": {},
   "source": [
    "## 강화학습(Reinforcement Learning)\n",
    "현재 상태에서부터 먼 미래까지 가장 큰 보상을 얻을 수 있는 행동을 학습하게 하는 것\n",
    "- Q-learning + Deep Learning = DQN (지금은 잘 안 쓰임)\n",
    "\n",
    "## Deep Reinforcement Learning\n",
    "- 더 효율적으로 빠르게 학습할 수 있는 강화학습 모델\n",
    "- action이 연속한 경우\n",
    "- reward가 매우 sparse한 경우\n",
    "- multi agent 강화학습 모델\n",
    "- 실제 분야에 적용하기 아직 어려움"
   ]
  },
  {
   "cell_type": "code",
   "execution_count": null,
   "id": "statutory-assignment",
   "metadata": {},
   "outputs": [],
   "source": []
  }
 ],
 "metadata": {
  "kernelspec": {
   "display_name": "Python 3",
   "language": "python",
   "name": "python3"
  },
  "language_info": {
   "codemirror_mode": {
    "name": "ipython",
    "version": 3
   },
   "file_extension": ".py",
   "mimetype": "text/x-python",
   "name": "python",
   "nbconvert_exporter": "python",
   "pygments_lexer": "ipython3",
   "version": "3.8.5"
  }
 },
 "nbformat": 4,
 "nbformat_minor": 5
}
