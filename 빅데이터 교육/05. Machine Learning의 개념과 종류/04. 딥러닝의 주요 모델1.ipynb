{
 "cells": [
  {
   "cell_type": "markdown",
   "id": "juvenile-denver",
   "metadata": {},
   "source": [
    "## Neural Network\n",
    "- 입력, 은닉, 출력층으로 구성된 모형으로서 각 층을 연결하는 노드의 가중치를 업데이트하면서 학습\n",
    "- overfittting이 심하게 일어나고 학습시간이 매우 오래걸려 잘 안 씀."
   ]
  },
  {
   "cell_type": "markdown",
   "id": "illegal-escape",
   "metadata": {},
   "source": [
    "## Deep Learning\n",
    "- 알고리즘 및 GPU의 발전이 deep learning의 부흥을 이끔\n",
    "- graphical representation learning (이미지 처리에 주로 쓰임)\n",
    "- 다양한 형태로 발전(CNN, RNN, AutoEncoder 등)"
   ]
  },
  {
   "cell_type": "markdown",
   "id": "alone-clark",
   "metadata": {},
   "source": []
  }
 ],
 "metadata": {
  "kernelspec": {
   "display_name": "Python 3",
   "language": "python",
   "name": "python3"
  },
  "language_info": {
   "codemirror_mode": {
    "name": "ipython",
    "version": 3
   },
   "file_extension": ".py",
   "mimetype": "text/x-python",
   "name": "python",
   "nbconvert_exporter": "python",
   "pygments_lexer": "ipython3",
   "version": "3.8.5"
  }
 },
 "nbformat": 4,
 "nbformat_minor": 5
}
