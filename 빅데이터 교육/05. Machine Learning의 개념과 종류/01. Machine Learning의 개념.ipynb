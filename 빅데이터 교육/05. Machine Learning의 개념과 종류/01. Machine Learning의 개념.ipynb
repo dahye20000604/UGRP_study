{
 "cells": [
  {
   "cell_type": "markdown",
   "id": "brutal-georgia",
   "metadata": {},
   "source": [
    "# Machine Learning의 개념\n",
    "\n",
    "### 무엇(X)으로 무엇(Y)을 예측하고 싶다\n",
    "- Y=f(X)\n",
    "- X를 가지고 Y를 예측하는 함수 만들기\n",
    "- X만을 가지고 X 내에서 특징을 찾아내는 것\n",
    "- Y 출력변수(종속변수, 반응변수), X 입력변수(독립변수, feature)\n",
    "\n",
    "\n",
    "- f란 무엇인가\n",
    "    1. 회귀분석의 경우 : Y=f(X)+e(엡실론, 오차항)\n",
    "        - 샘플 데이터 : 학습 데이터"
   ]
  },
  {
   "cell_type": "code",
   "execution_count": null,
   "id": "banner-bicycle",
   "metadata": {},
   "outputs": [],
   "source": []
  }
 ],
 "metadata": {
  "kernelspec": {
   "display_name": "Python 3",
   "language": "python",
   "name": "python3"
  },
  "language_info": {
   "codemirror_mode": {
    "name": "ipython",
    "version": 3
   },
   "file_extension": ".py",
   "mimetype": "text/x-python",
   "name": "python",
   "nbconvert_exporter": "python",
   "pygments_lexer": "ipython3",
   "version": "3.8.5"
  }
 },
 "nbformat": 4,
 "nbformat_minor": 5
}
