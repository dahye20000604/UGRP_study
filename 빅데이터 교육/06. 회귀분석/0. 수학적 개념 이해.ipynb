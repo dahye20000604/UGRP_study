{
 "cells": [
  {
   "cell_type": "markdown",
   "id": "arctic-optics",
   "metadata": {},
   "source": [
    "# 통계학 개념, 자료의 종류, 자료의 요약"
   ]
  },
  {
   "cell_type": "markdown",
   "id": "pursuant-nothing",
   "metadata": {},
   "source": [
    "- 모집단(popultaion)\n",
    "- 표본(sample)\n",
    "- 모수(parameter) : 수치로 표현되는 모집단의 특성\n",
    "- 통계량(statistic) : 표본의 관측값들에 의해서 결정되는 양\n",
    "- 추정량(Estimator) : 모수를 추정하고자 하는 목적을 지닌 통계량"
   ]
  },
  {
   "cell_type": "markdown",
   "id": "thermal-minimum",
   "metadata": {},
   "source": [
    "### 자료의 종류\n",
    "- 수치형(양적자료) : 연속형, 이산형\n",
    "- 범주형(질적자료) : 순위형(학점), 명목형(성별)"
   ]
  },
  {
   "cell_type": "markdown",
   "id": "crucial-newspaper",
   "metadata": {},
   "source": [
    "### 자료의 요약 - 그림,표\n",
    "- 범주형 자료\n",
    "    - 도수 분포표, 막대/원형 그래프\n",
    "-연속형 자료\n",
    "    - Box plot, histogram"
   ]
  },
  {
   "cell_type": "markdown",
   "id": "contained-dating",
   "metadata": {},
   "source": [
    "### 자료의 요약 - 수치\n",
    "- 중심 경향값(대표값)\n",
    "    - 평균(Mean)\n",
    "    - 중앙값(Median) : 크기순으로 정렬시켜 중앙에 위치한 값\n",
    "    - 최빈값(Mode) : 가장 자주 나오는 값\n",
    "- 산포도(퍼진 정도)\n",
    "    - 분산(Variance)\n",
    "    - 사분위수 범위(Inter quartile range)\n",
    "        : 전체 관측값을 크기 순으로 정렬했을 때 중앙에 위치한 50%의 관측치가 가지는 범위\n",
    "- 정규분포\n",
    "    - 자연과학 현상을 설명할 때 가장 널리 쓰이는 분포\n",
    "    - 위치는 평균에 의해, 모양은 분산에 의해 결정\n",
    "- 분포도\n",
    "    - 왜도(Skewness) : 분포의 비대칭 정도\n",
    "        - 꼬리가 긴쪽-skewed\n",
    "    - 첨도(Kurtosis) : 꼬리 부분의 비중에 대한 측도\n",
    "        - 뾰족할수록 첨도가 큼"
   ]
  },
  {
   "cell_type": "markdown",
   "id": "dependent-cambridge",
   "metadata": {},
   "source": [
    "### 확률\n",
    "- 확률실험(Random experiment)\n",
    "    - 실험의 결과는 미리 알 수 없다.\n",
    "    - 실험에서 일어날 수 있는 모든 결과는 사전에 알려져 있다.\n",
    "    - 이론적으로는 실험을 반복할 수 있다.\n",
    "- 표본공간(Sample space) : 모든 결과들의 모임\n",
    "- 근원사건(Sample outcome) : 표본 공간의 원소\n",
    "- 사건(Event) : 표본 공간의 부분집합. 근원사건의 집합\n",
    "    - 배반사건 : 서로 교집합이 공집합인 사건\n",
    "- 조건부 확률 : 사건 B에 대한 정보가 주어졌을 때 사건 A의 교정된 확률\n",
    "- 독립 : 사건 A와 B가 서로에게 아무런 영향을 미치지 않을 때\n",
    "- 확률변수 : 각가의 근원사건들에 실수값을 대응시키는 함수\n",
    "- 공분산 : 두개의 확률변수 X,Y가 상호 어떤 관계를 가지며 변화하는가를 나타낸 측도\n",
    "    - $Cov(X,Y)=E(X-μ_x)(Y-μ_y)$\n",
    "- 상관계수 : 공부산을 단위화한 값\n",
    "    - $ρ= {Cov(X,Y) \\over \\sqrt{Var(X)Var(Y)}}$"
   ]
  },
  {
   "cell_type": "markdown",
   "id": "powered-symphony",
   "metadata": {},
   "source": [
    "### 이산형 확률분포\n",
    "- 베르누이 시행 : 실험의 결과의 범주가 2가지인 경우(성공/실패)\n",
    "- 이항분포 : 성공확률이 ρ인 베르누이 시행을 독립적으로 n번 시행했을 때 성공한 횟수의 분포\n",
    "- 다항분포\n",
    "    - 다항시행 : 1회의 시행결과로 나올 수 있는 범주가 3개 이상이 되는 확률 시험\n",
    "- 포아송분포 : 주어진 단위 구간 내에 평균적으로 발생하는 사건의 횟수가 정해져 있을 때, 동일 단위에서의 발생 횟수"
   ]
  },
  {
   "cell_type": "markdown",
   "id": "terminal-intranet",
   "metadata": {},
   "source": [
    "### 연속형 확률분포\n",
    "- 지수분포 : 평균 소요시간이 μ인 사건이 발생하기까지 걸리는 소요시간\n",
    "- 정규분포\n",
    "- 표준정규분포 : 평균이 0이고 분산이 1인 정규분포"
   ]
  },
  {
   "cell_type": "markdown",
   "id": "deadly-sleep",
   "metadata": {},
   "source": [
    "### 통계적 추론\n",
    "- 점추정(Point estimation) : 추정량을 통해 모수를 추정\n",
    "- 구간 추정(Interval estimation) : 일정 신뢰수준 하에서 모수를 포함할 것으로 예상되는 구간을 제시\n",
    "    - 신뢰수준과 구간의 길이는 반비례\n",
    "- 대립가설(H1) : 입증하여 주장하고자하는 가설\n",
    "- 귀무가설(H0) : 대립가설의 반대가설"
   ]
  },
  {
   "cell_type": "markdown",
   "id": "committed-bones",
   "metadata": {},
   "source": [
    "### 오류의 종류\n",
    "- 1종 오류 : 귀무가설이 맞을 때, 귀무가설을 기각하는 오류\n",
    "- 2종 오류 : 귀무가설이 틀렸을 때 귀무가설을 기각하지 않는 오류"
   ]
  },
  {
   "cell_type": "markdown",
   "id": "frank-consumer",
   "metadata": {},
   "source": [
    "### 검정 통계량, 기각역\n",
    "- 검정 통계량 : 표본에서 구해낼 수 있는 함수\n",
    "    - 이 값을 기준으로 귀무가설 기각여부를 결정\n",
    "- 기각역 : 검정통계량이 취하는 구간 중 귀무가설을 기각하는 구간\n",
    "- 단측검정\n",
    "- 양측검정"
   ]
  },
  {
   "cell_type": "markdown",
   "id": "relative-prompt",
   "metadata": {},
   "source": [
    "### 유의확률\n",
    "- 유의확률(P-value) : 주어진 검정통계량값을 기준으로 해당 값보다 대립가설을 더 선호하는 검정통계량 값이 나올 확률\n",
    "    - 이 값이 유의수준보다 낮으면 귀무가설을 기각"
   ]
  },
  {
   "cell_type": "markdown",
   "id": "empirical-chapter",
   "metadata": {},
   "source": [
    "### 검정통계량과 관련된 분포\n",
    "- Z 통계량\n",
    "    - 귀무가설 : X의 평균이 μ_0이다.\n",
    "- t 분포\n",
    "- 카이제곱 분포 : 확률변수의 제곱합으로 이루어진 통계량\n",
    "- F 분포 : 확률변수의 제곱합을 관측치로 나눈 것의 비율로 이루어진 통계량"
   ]
  },
  {
   "cell_type": "markdown",
   "id": "wrapped-champion",
   "metadata": {},
   "source": [
    "### 미분의 개념\n",
    "- 평균변화율\n",
    "- 순간변화율\n",
    "- 극대값, 극소값"
   ]
  },
  {
   "cell_type": "markdown",
   "id": "measured-canvas",
   "metadata": {},
   "source": [
    "### Likelihood\n",
    "- Likelihood function(가능도함수/우도함수) : x축(μ)\n",
    "- 확률분포함수(Probability distribution function)\n",
    "    - 종류\n",
    "        - 확률밀도함수(Probability density function) : 연속형 확률변수의 확률 분포함수\n",
    "        - 확률질량함수(Probability mass function) : 이산형 확률변수의 분포함수\n",
    "        - 누적분포함수(Cumulative distributio function) : 누적 확률 분포함수\n",
    "            F(x)=P(X<=x)\n",
    "- Maximum Likelihood Estimator(MLE)\n",
    "    - Likelihood는 μ에 대한 함수\n",
    "        - $\\hat{μ}$=최대값을 가지는 μ-> 극대값을 가지는 μ->Likelihood를 μ로 미분해서 0을 만드는 값"
   ]
  },
  {
   "cell_type": "markdown",
   "id": "eleven-programmer",
   "metadata": {},
   "source": [
    "### Matrix 미분\n",
    "- 미분 표기법의 종류\n",
    "    - Numerator layout : 미분 당하는 변수를 기준으로 결과의 형태를 표기\n",
    "    - Denumerator layout : 미분을 하는 변수를 기준으로 결과의 형태를 표기"
   ]
  },
  {
   "cell_type": "markdown",
   "id": "burning-tourist",
   "metadata": {},
   "source": [
    "\n"
   ]
  }
 ],
 "metadata": {
  "kernelspec": {
   "display_name": "Python 3",
   "language": "python",
   "name": "python3"
  },
  "language_info": {
   "codemirror_mode": {
    "name": "ipython",
    "version": 3
   },
   "file_extension": ".py",
   "mimetype": "text/x-python",
   "name": "python",
   "nbconvert_exporter": "python",
   "pygments_lexer": "ipython3",
   "version": "3.8.5"
  }
 },
 "nbformat": 4,
 "nbformat_minor": 5
}
