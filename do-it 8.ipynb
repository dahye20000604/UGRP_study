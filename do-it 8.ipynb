{
 "cells": [
  {
   "cell_type": "markdown",
   "metadata": {},
   "source": [
    "# # 합성곱 신경망"
   ]
  },
  {
   "cell_type": "code",
   "execution_count": 1,
   "metadata": {},
   "outputs": [],
   "source": [
    "import numpy as np\n",
    "import tensorflow as tf"
   ]
  },
  {
   "cell_type": "code",
   "execution_count": 12,
   "metadata": {},
   "outputs": [],
   "source": [
    "class ConvolutionNetwork:\n",
    "    def __init__(self, n_kernels=10, units=10, batch_size=32,learning_rate=0.1):\n",
    "        self.n_kernels=n_kernels\n",
    "        self.kernel_size=3\n",
    "        self.optimizer=None\n",
    "        self.conv_w=None\n",
    "        self.conv_b=None\n",
    "        self.units=units\n",
    "        self.batch_size=batch_size\n",
    "        self.w1=None\n",
    "        self.b1=None\n",
    "        self.w2=None\n",
    "        self.b2=None\n",
    "        self.a1=None\n",
    "        self.losses=[]\n",
    "        self.val_losses=[]\n",
    "        self.lr=learning_rate\n",
    "    def forpass(self,x):\n",
    "        c_out=tf.nn.conv2d(x,self.conv_w,strides=1,padding='SAME')+self.conv_b\n",
    "        r_out=tf.nn.relu(c_out)\n",
    "        p_out=tf.nn.max_pool2d(r_out,ksize=2,strides=2,padding='VALID')\n",
    "        f_out=tf.reshape(p_out,[x.shape[0],-1])\n",
    "        z1=tf.matmul(f_out,self.w1)+self.b1\n",
    "        a1=tf.nn.relu(z1)\n",
    "        z2=tf.matmul(a1,self.w2)+self.b2\n",
    "        return z2\n",
    "    def init_weights(self,input_shape,n_classes):\n",
    "        g=tf.initializers.glorot_uniform()\n",
    "        self.conv_w=tf.Variable(g((3,3,1,self.n_kernels)))\n",
    "        self.conv_b=tf.Variable(np.zeros(self.n_kernels),dtype=float)\n",
    "        n_features=14*14*self.n_kernels\n",
    "        self.w1=tf.Variable(g((n_features,self.units)))\n",
    "        self.b1=tf.Variable(np.zeros(self.units),dtype=float)\n",
    "        self.w2=tf.Variable(g((self.units,n_classes)))\n",
    "        self.b2=tf.Variable(np.zeros(n_classes),dtype=float)\n",
    "    def fit(self,x,y,epochs=100,x_val=None, y_val=None):\n",
    "      \n",
    "        self.init_weights(x.shape,y.shape[1])\n",
    "        self.optimizer = tf.optimizers.SGD(learning_rate=self.lr)\n",
    "        for i in range (epochs):\n",
    "            print('에포크',i,end='')\n",
    "            batch_losses=[]\n",
    "            for x_batch, y_batch in self.gen_batch(x,y):\n",
    "                print('.',end='')\n",
    "                self.training(x_batch,y_batch)\n",
    "                batch_losses.append(self.get_loss(x_batch,y_batch))\n",
    "            print()\n",
    "            self.losses.append(np.mean(batch_losses))\n",
    "            self.val_losses.append(self.get_loss(x_val,y_val))\n",
    "    def gen_batch(self,x,y):\n",
    "        \n",
    "        bins=len(x)//self.batch_size\n",
    "        indexes=np.random.permutation(np.arange(len(x)))\n",
    "        x=x[indexes]\n",
    "        y=y[indexes]\n",
    "        for i in range(bins):\n",
    "            start=self.batch_size*i\n",
    "            end=self.batch_size*(i+1)\n",
    "            yield x[start:end], y[start:end]\n",
    "    def training(self,x,y):\n",
    "        m=len(x)\n",
    "        with tf.GradientTape() as tape:\n",
    "            z=self.forpass(x)\n",
    "            loss=tf.nn.softmax_cross_entropy_with_logits(y,z)\n",
    "            loss=tf.reduce_mean(loss)\n",
    "        weights_list=[self.conv_w,self.conv_b,self.w1,self.b1,self.w2,self.b2]\n",
    "        grads=tape.gradient(loss,weights_list)\n",
    "        self.optimizer.apply_gradients(zip(grads,weights_list))\n",
    "    def predict(self,x):\n",
    "        z=self.forpass(x)\n",
    "        return np.argmax(z.numpy(),axis=1)\n",
    "    def score(self,x,y):\n",
    "        return np.mean(self.predict(x)==np.argmax(y,axis=1))\n",
    "    def get_loss(self,x,y):\n",
    "        z=self.forpass(x)\n",
    "        loss=tf.reduce_mean(tf.nn.softmax_cross_entropy_with_logits(y,z))\n",
    "        return loss.numpy()"
   ]
  },
  {
   "cell_type": "code",
   "execution_count": 3,
   "metadata": {},
   "outputs": [],
   "source": [
    "(x_train_all,y_train_all),(x_test,y_test)=tf.keras.datasets.fashion_mnist.load_data()"
   ]
  },
  {
   "cell_type": "code",
   "execution_count": 4,
   "metadata": {},
   "outputs": [],
   "source": [
    "from sklearn.model_selection import train_test_split\n",
    "x_train,x_val,y_train,y_val=train_test_split(x_train_all,y_train_all,stratify=y_train_all,test_size=0.2,random_state=42)"
   ]
  },
  {
   "cell_type": "code",
   "execution_count": 5,
   "metadata": {},
   "outputs": [],
   "source": [
    "y_train_encoded=tf.keras.utils.to_categorical(y_train)\n",
    "y_val_encoded=tf.keras.utils.to_categorical(y_val)"
   ]
  },
  {
   "cell_type": "code",
   "execution_count": 6,
   "metadata": {},
   "outputs": [
    {
     "data": {
      "text/plain": [
       "(48000, 28, 28, 1)"
      ]
     },
     "execution_count": 6,
     "metadata": {},
     "output_type": "execute_result"
    }
   ],
   "source": [
    "x_train=x_train.reshape(-1,28,28,1)\n",
    "x_val=x_val.reshape(-1,28,28,1)\n",
    "x_train.shape"
   ]
  },
  {
   "cell_type": "code",
   "execution_count": 7,
   "metadata": {},
   "outputs": [],
   "source": [
    "x_train=x_train/255\n",
    "x_val=x_val/255"
   ]
  },
  {
   "cell_type": "code",
   "execution_count": 13,
   "metadata": {},
   "outputs": [
    {
     "name": "stdout",
     "output_type": "stream",
     "text": [
      "에포크 0.......................................................................................................................................................................................................................................................................................................................................................................................\n",
      "에포크 1.......................................................................................................................................................................................................................................................................................................................................................................................\n",
      "에포크 2.......................................................................................................................................................................................................................................................................................................................................................................................\n",
      "에포크 3.......................................................................................................................................................................................................................................................................................................................................................................................\n",
      "에포크 4.......................................................................................................................................................................................................................................................................................................................................................................................\n",
      "에포크 5.......................................................................................................................................................................................................................................................................................................................................................................................\n",
      "에포크 6.......................................................................................................................................................................................................................................................................................................................................................................................\n",
      "에포크 7.......................................................................................................................................................................................................................................................................................................................................................................................\n",
      "에포크 8.......................................................................................................................................................................................................................................................................................................................................................................................\n",
      "에포크 9.......................................................................................................................................................................................................................................................................................................................................................................................\n",
      "에포크 10.......................................................................................................................................................................................................................................................................................................................................................................................\n",
      "에포크 11.......................................................................................................................................................................................................................................................................................................................................................................................\n",
      "에포크 12.......................................................................................................................................................................................................................................................................................................................................................................................\n",
      "에포크 13.......................................................................................................................................................................................................................................................................................................................................................................................\n",
      "에포크 14.......................................................................................................................................................................................................................................................................................................................................................................................\n",
      "에포크 15.......................................................................................................................................................................................................................................................................................................................................................................................\n",
      "에포크 16.......................................................................................................................................................................................................................................................................................................................................................................................\n",
      "에포크 17.......................................................................................................................................................................................................................................................................................................................................................................................\n",
      "에포크 18.......................................................................................................................................................................................................................................................................................................................................................................................\n",
      "에포크 19.......................................................................................................................................................................................................................................................................................................................................................................................\n"
     ]
    }
   ],
   "source": [
    "cn=ConvolutionNetwork(n_kernels=10,units=100,batch_size=128,learning_rate=0.01)\n",
    "cn.fit(x_train,y_train_encoded,x_val=x_val,y_val=y_val_encoded,epochs=20)"
   ]
  },
  {
   "cell_type": "code",
   "execution_count": 19,
   "metadata": {},
   "outputs": [
    {
     "data": {
      "image/png": "[encoded data removed]",
      "text/plain": [
       "<Figure size 432x288 with 1 Axes>"
      ]
     },
     "metadata": {
      "needs_background": "light"
     },
     "output_type": "display_data"
    }
   ],
   "source": [
    "import matplotlib.pyplot as plt\n",
    "plt.plot(cn.losses)\n",
    "plt.plot(cn.val_losses)\n",
    "plt.ylabel('loss')\n",
    "plt.xlabel('iteration')\n",
    "plt.legend(['train_loss','val_loss'])\n",
    "plt.show()"
   ]
  },
  {
   "cell_type": "code",
   "execution_count": 16,
   "metadata": {},
   "outputs": [
    {
     "data": {
      "text/plain": [
       "0.87725"
      ]
     },
     "execution_count": 16,
     "metadata": {},
     "output_type": "execute_result"
    }
   ],
   "source": [
    "cn.score(x_val,y_val_encoded)"
   ]
  },
  {
   "cell_type": "code",
   "execution_count": 18,
   "metadata": {},
   "outputs": [],
   "source": [
    "from tensorflow.keras.layers import Conv2D,MaxPooling2D,Flatten,Dense"
   ]
  },
  {
   "cell_type": "code",
   "execution_count": 20,
   "metadata": {},
   "outputs": [],
   "source": [
    "conv1=tf.keras.Sequential()\n",
    "conv1.add(Conv2D(10,(3,3),activation='relu',padding='same',input_shape=(28,28,1)))"
   ]
  },
  {
   "cell_type": "code",
   "execution_count": 21,
   "metadata": {},
   "outputs": [],
   "source": [
    "conv1.add(MaxPooling2D(2,2))"
   ]
  },
  {
   "cell_type": "code",
   "execution_count": 22,
   "metadata": {},
   "outputs": [],
   "source": [
    "conv1.add(Flatten())"
   ]
  },
  {
   "cell_type": "code",
   "execution_count": 23,
   "metadata": {},
   "outputs": [],
   "source": [
    "conv1.add(Dense(100,activation='relu'))\n",
    "conv1.add(Dense(10,activation='softmax'))"
   ]
  },
  {
   "cell_type": "code",
   "execution_count": 24,
   "metadata": {},
   "outputs": [
    {
     "name": "stdout",
     "output_type": "stream",
     "text": [
      "Model: \"sequential\"\n",
      "_________________________________________________________________\n",
      "Layer (type)                 Output Shape              Param #   \n",
      "=================================================================\n",
      "conv2d (Conv2D)              (None, 28, 28, 10)        100       \n",
      "_________________________________________________________________\n",
      "max_pooling2d (MaxPooling2D) (None, 14, 14, 10)        0         \n",
      "_________________________________________________________________\n",
      "flatten (Flatten)            (None, 1960)              0         \n",
      "_________________________________________________________________\n",
      "dense (Dense)                (None, 100)               196100    \n",
      "_________________________________________________________________\n",
      "dense_1 (Dense)              (None, 10)                1010      \n",
      "=================================================================\n",
      "Total params: 197,210\n",
      "Trainable params: 197,210\n",
      "Non-trainable params: 0\n",
      "_________________________________________________________________\n"
     ]
    }
   ],
   "source": [
    "conv1.summary()"
   ]
  },
  {
   "cell_type": "code",
   "execution_count": 25,
   "metadata": {},
   "outputs": [],
   "source": [
    "conv1.compile(optimizer='adam',loss='categorical_crossentropy',metrics=['accuracy'])"
   ]
  },
  {
   "cell_type": "code",
   "execution_count": 28,
   "metadata": {},
   "outputs": [
    {
     "name": "stdout",
     "output_type": "stream",
     "text": [
      "Train on 48000 samples, validate on 12000 samples\n",
      "Epoch 1/20\n",
      "48000/48000 [==============================] - 21s 438us/sample - loss: 0.4441 - accuracy: 0.8439 - val_loss: 0.3315 - val_accuracy: 0.8823\n",
      "Epoch 2/20\n",
      "48000/48000 [==============================] - 19s 405us/sample - loss: 0.3062 - accuracy: 0.8909 - val_loss: 0.2981 - val_accuracy: 0.8956\n",
      "Epoch 3/20\n",
      "48000/48000 [==============================] - 19s 404us/sample - loss: 0.2613 - accuracy: 0.9040 - val_loss: 0.2656 - val_accuracy: 0.9053\n",
      "Epoch 4/20\n",
      "48000/48000 [==============================] - 19s 403us/sample - loss: 0.2289 - accuracy: 0.9153 - val_loss: 0.2574 - val_accuracy: 0.9061\n",
      "Epoch 5/20\n",
      "48000/48000 [==============================] - 19s 405us/sample - loss: 0.2015 - accuracy: 0.9248 - val_loss: 0.2557 - val_accuracy: 0.9081\n",
      "Epoch 6/20\n",
      "48000/48000 [==============================] - 19s 403us/sample - loss: 0.1812 - accuracy: 0.9325 - val_loss: 0.2492 - val_accuracy: 0.9115\n",
      "Epoch 7/20\n",
      "48000/48000 [==============================] - 19s 397us/sample - loss: 0.1587 - accuracy: 0.9412 - val_loss: 0.2482 - val_accuracy: 0.9158\n",
      "Epoch 8/20\n",
      "48000/48000 [==============================] - 19s 396us/sample - loss: 0.1427 - accuracy: 0.9472 - val_loss: 0.2594 - val_accuracy: 0.9128\n",
      "Epoch 9/20\n",
      "48000/48000 [==============================] - 19s 400us/sample - loss: 0.1248 - accuracy: 0.9543 - val_loss: 0.2772 - val_accuracy: 0.9109\n",
      "Epoch 10/20\n",
      "48000/48000 [==============================] - 19s 402us/sample - loss: 0.1105 - accuracy: 0.9597 - val_loss: 0.2608 - val_accuracy: 0.9128\n",
      "Epoch 11/20\n",
      "48000/48000 [==============================] - 19s 394us/sample - loss: 0.0992 - accuracy: 0.9631 - val_loss: 0.2968 - val_accuracy: 0.9093\n",
      "Epoch 12/20\n",
      "48000/48000 [==============================] - 20s 406us/sample - loss: 0.0859 - accuracy: 0.9691 - val_loss: 0.2943 - val_accuracy: 0.9116\n",
      "Epoch 13/20\n",
      "48000/48000 [==============================] - 19s 401us/sample - loss: 0.0767 - accuracy: 0.9723 - val_loss: 0.3031 - val_accuracy: 0.9142\n",
      "Epoch 14/20\n",
      "48000/48000 [==============================] - 19s 391us/sample - loss: 0.0671 - accuracy: 0.9757 - val_loss: 0.3270 - val_accuracy: 0.9155\n",
      "Epoch 15/20\n",
      "48000/48000 [==============================] - 19s 399us/sample - loss: 0.0601 - accuracy: 0.9786 - val_loss: 0.3471 - val_accuracy: 0.9153\n",
      "Epoch 16/20\n",
      "48000/48000 [==============================] - 19s 396us/sample - loss: 0.0542 - accuracy: 0.9809 - val_loss: 0.3473 - val_accuracy: 0.9164\n",
      "Epoch 17/20\n",
      "48000/48000 [==============================] - 19s 394us/sample - loss: 0.0471 - accuracy: 0.9832 - val_loss: 0.3715 - val_accuracy: 0.9137\n",
      "Epoch 18/20\n",
      "48000/48000 [==============================] - 19s 404us/sample - loss: 0.0429 - accuracy: 0.9855 - val_loss: 0.4016 - val_accuracy: 0.9092\n",
      "Epoch 19/20\n",
      "48000/48000 [==============================] - 19s 403us/sample - loss: 0.0392 - accuracy: 0.9857 - val_loss: 0.4215 - val_accuracy: 0.9114\n",
      "Epoch 20/20\n",
      "48000/48000 [==============================] - 19s 395us/sample - loss: 0.0344 - accuracy: 0.9878 - val_loss: 0.4360 - val_accuracy: 0.9095\n"
     ]
    }
   ],
   "source": [
    "history=conv1.fit(x_train,y_train_encoded,epochs=20,validation_data=(x_val,y_val_encoded))"
   ]
  },
  {
   "cell_type": "code",
   "execution_count": 29,
   "metadata": {},
   "outputs": [
    {
     "data": {
      "image/png": "[encoded data removed]",
      "text/plain": [
       "<Figure size 432x288 with 1 Axes>"
      ]
     },
     "metadata": {
      "needs_background": "light"
     },
     "output_type": "display_data"
    },
    {
     "data": {
      "image/png": "[encoded data removed]",
      "text/plain": [
       "<Figure size 432x288 with 1 Axes>"
      ]
     },
     "metadata": {
      "needs_background": "light"
     },
     "output_type": "display_data"
    }
   ],
   "source": [
    "plt.plot(history.history['loss'])\n",
    "plt.plot(history.history['val_loss'])\n",
    "plt.legend(['train_loss','val_loss'])\n",
    "plt.show()\n",
    "\n",
    "plt.plot(history.history['accuracy'])\n",
    "plt.plot(history.history['val_accuracy'])\n",
    "plt.legend(['train_accuracy','val_accuracy'])\n",
    "plt.show()"
   ]
  },
  {
   "cell_type": "code",
   "execution_count": 31,
   "metadata": {},
   "outputs": [
    {
     "name": "stdout",
     "output_type": "stream",
     "text": [
      "Model: \"sequential_1\"\n",
      "_________________________________________________________________\n",
      "Layer (type)                 Output Shape              Param #   \n",
      "=================================================================\n",
      "conv2d_1 (Conv2D)            (None, 28, 28, 10)        100       \n",
      "_________________________________________________________________\n",
      "max_pooling2d_1 (MaxPooling2 (None, 14, 14, 10)        0         \n",
      "_________________________________________________________________\n",
      "flatten_1 (Flatten)          (None, 1960)              0         \n",
      "_________________________________________________________________\n",
      "dropout (Dropout)            (None, 1960)              0         \n",
      "_________________________________________________________________\n",
      "dense_2 (Dense)              (None, 100)               196100    \n",
      "_________________________________________________________________\n",
      "dense_3 (Dense)              (None, 10)                1010      \n",
      "=================================================================\n",
      "Total params: 197,210\n",
      "Trainable params: 197,210\n",
      "Non-trainable params: 0\n",
      "_________________________________________________________________\n"
     ]
    }
   ],
   "source": [
    "from tensorflow.keras.layers import Dropout\n",
    "\n",
    "conv2=tf.keras.Sequential()\n",
    "conv2.add(Conv2D(10,(3,3),activation='relu',padding='same',input_shape=(28,28,1)))\n",
    "conv2.add(MaxPooling2D(2,2))\n",
    "conv2.add(Flatten())\n",
    "conv2.add(Dropout(0.5))\n",
    "conv2.add(Dense(100,activation='relu'))\n",
    "conv2.add(Dense(10,activation='softmax'))\n",
    "conv2.summary()"
   ]
  },
  {
   "cell_type": "code",
   "execution_count": 33,
   "metadata": {},
   "outputs": [
    {
     "name": "stdout",
     "output_type": "stream",
     "text": [
      "Train on 48000 samples, validate on 12000 samples\n",
      "Epoch 1/20\n",
      "48000/48000 [==============================] - 24s 501us/sample - loss: 0.5163 - accuracy: 0.8143 - val_loss: 0.3603 - val_accuracy: 0.8774\n",
      "Epoch 2/20\n",
      "48000/48000 [==============================] - 22s 459us/sample - loss: 0.3724 - accuracy: 0.8651 - val_loss: 0.3032 - val_accuracy: 0.8941\n",
      "Epoch 3/20\n",
      "48000/48000 [==============================] - 22s 459us/sample - loss: 0.3317 - accuracy: 0.8787 - val_loss: 0.2815 - val_accuracy: 0.8976\n",
      "Epoch 4/20\n",
      "48000/48000 [==============================] - 22s 457us/sample - loss: 0.3052 - accuracy: 0.8873 - val_loss: 0.2670 - val_accuracy: 0.9027\n",
      "Epoch 5/20\n",
      "48000/48000 [==============================] - 22s 457us/sample - loss: 0.2842 - accuracy: 0.8937 - val_loss: 0.2511 - val_accuracy: 0.9071\n",
      "Epoch 6/20\n",
      "48000/48000 [==============================] - 22s 457us/sample - loss: 0.2667 - accuracy: 0.9005 - val_loss: 0.2428 - val_accuracy: 0.9115\n",
      "Epoch 7/20\n",
      "48000/48000 [==============================] - 22s 463us/sample - loss: 0.2555 - accuracy: 0.9051 - val_loss: 0.2368 - val_accuracy: 0.9162\n",
      "Epoch 8/20\n",
      "48000/48000 [==============================] - 22s 462us/sample - loss: 0.2438 - accuracy: 0.9087 - val_loss: 0.2399 - val_accuracy: 0.9140\n",
      "Epoch 9/20\n",
      "48000/48000 [==============================] - 22s 458us/sample - loss: 0.2334 - accuracy: 0.9125 - val_loss: 0.2326 - val_accuracy: 0.9148\n",
      "Epoch 10/20\n",
      "48000/48000 [==============================] - 22s 461us/sample - loss: 0.2257 - accuracy: 0.9126 - val_loss: 0.2250 - val_accuracy: 0.9185\n",
      "Epoch 11/20\n",
      "48000/48000 [==============================] - 22s 467us/sample - loss: 0.2184 - accuracy: 0.9177 - val_loss: 0.2247 - val_accuracy: 0.9196\n",
      "Epoch 12/20\n",
      "48000/48000 [==============================] - 22s 460us/sample - loss: 0.2092 - accuracy: 0.9218 - val_loss: 0.2287 - val_accuracy: 0.9170\n",
      "Epoch 13/20\n",
      "48000/48000 [==============================] - 22s 464us/sample - loss: 0.2030 - accuracy: 0.9239 - val_loss: 0.2399 - val_accuracy: 0.9148\n",
      "Epoch 14/20\n",
      "48000/48000 [==============================] - 22s 460us/sample - loss: 0.2009 - accuracy: 0.9240 - val_loss: 0.2208 - val_accuracy: 0.9220\n",
      "Epoch 15/20\n",
      "48000/48000 [==============================] - 22s 459us/sample - loss: 0.1934 - accuracy: 0.9278 - val_loss: 0.2280 - val_accuracy: 0.9193\n",
      "Epoch 16/20\n",
      "48000/48000 [==============================] - 23s 479us/sample - loss: 0.1865 - accuracy: 0.9300 - val_loss: 0.2295 - val_accuracy: 0.9190\n",
      "Epoch 17/20\n",
      "48000/48000 [==============================] - 23s 473us/sample - loss: 0.1842 - accuracy: 0.9313 - val_loss: 0.2220 - val_accuracy: 0.9225\n",
      "Epoch 18/20\n",
      "48000/48000 [==============================] - 22s 467us/sample - loss: 0.1828 - accuracy: 0.9312 - val_loss: 0.2217 - val_accuracy: 0.9237\n",
      "Epoch 19/20\n",
      "48000/48000 [==============================] - 22s 462us/sample - loss: 0.1767 - accuracy: 0.9326 - val_loss: 0.2317 - val_accuracy: 0.9207\n",
      "Epoch 20/20\n",
      "48000/48000 [==============================] - 24s 503us/sample - loss: 0.1727 - accuracy: 0.9346 - val_loss: 0.2284 - val_accuracy: 0.9210\n"
     ]
    }
   ],
   "source": [
    "conv2.compile(optimizer='adam',loss='categorical_crossentropy',metrics=['accuracy'])\n",
    "history=conv2.fit(x_train,y_train_encoded,epochs=20,validation_data=(x_val,y_val_encoded))"
   ]
  },
  {
   "cell_type": "code",
   "execution_count": 34,
   "metadata": {},
   "outputs": [
    {
     "data": {
      "image/png": "[encoded data removed]",
      "text/plain": [
       "<Figure size 432x288 with 1 Axes>"
      ]
     },
     "metadata": {
      "needs_background": "light"
     },
     "output_type": "display_data"
    },
    {
     "data": {
      "image/png": "[encoded data removed]",
      "text/plain": [
       "<Figure size 432x288 with 1 Axes>"
      ]
     },
     "metadata": {
      "needs_background": "light"
     },
     "output_type": "display_data"
    }
   ],
   "source": [
    "plt.plot(history.history['loss'])\n",
    "plt.plot(history.history['val_loss'])\n",
    "plt.legend(['train_loss','val_loss'])\n",
    "plt.show()\n",
    "\n",
    "plt.plot(history.history['accuracy'])\n",
    "plt.plot(history.history['val_accuracy'])\n",
    "plt.legend(['train_accuracy','val_accuracy'])\n",
    "plt.show()"
   ]
  },
  {
   "cell_type": "code",
   "execution_count": null,
   "metadata": {},
   "outputs": [],
   "source": []
  }
 ],
 "metadata": {
  "kernelspec": {
   "display_name": "Python 3",
   "language": "python",
   "name": "python3"
  },
  "language_info": {
   "codemirror_mode": {
    "name": "ipython",
    "version": 3
   },
   "file_extension": ".py",
   "mimetype": "text/x-python",
   "name": "python",
   "nbconvert_exporter": "python",
   "pygments_lexer": "ipython3",
   "version": "3.7.6"
  }
 },
 "nbformat": 4,
 "nbformat_minor": 4
}
