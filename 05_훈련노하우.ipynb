{
 "cells": [
  {
   "cell_type": "code",
   "execution_count": 6,
   "metadata": {},
   "outputs": [],
   "source": [
    "from sklearn.datasets import load_breast_cancer\n",
    "from sklearn.model_selection import train_test_split\n",
    "cancer=load_breast_cancer()\n",
    "x=cancer.data\n",
    "y=cancer.target\n",
    "x_train_all, x_test, y_train_all, y_test = train_test_split(x,y,stratify=y,test_size=0.2, random_state=42)"
   ]
  },
  {
   "cell_type": "code",
   "execution_count": 7,
   "metadata": {},
   "outputs": [
    {
     "data": {
      "text/plain": [
       "0.8333333333333334"
      ]
     },
     "execution_count": 7,
     "metadata": {},
     "output_type": "execute_result"
    }
   ],
   "source": [
    "#SGDClassifier 클래스를 이영하여 로지스틱 회귀 모델을 훈련\n",
    "from sklearn.linear_model import SGDClassifier\n",
    "sgd=SGDClassifier(loss='log', random_state=42) #여기서 loss 같이 사용자가 직접 지정해주어야하는 것을, 하이퍼 파라미터라고 부름\n",
    "sgd.fit(x_train_all, y_train_all)\n",
    "sgd.score(x_test,y_test)"
   ]
  },
  {
   "cell_type": "code",
   "execution_count": 8,
   "metadata": {},
   "outputs": [
    {
     "data": {
      "text/plain": [
       "0.9385964912280702"
      ]
     },
     "execution_count": 8,
     "metadata": {},
     "output_type": "execute_result"
    }
   ],
   "source": [
    "#서포트 벡터 머신으로 로지스틱 회귀 모델을 훈련하면?\n",
    "#여기서 서포트 벡터 머신은 '훈련 데이터의 클래스를 구분하는 경계선을 찾는 작업'정도로 이해\n",
    "sgd2=SGDClassifier(loss='hinge', random_state=42) #hinge가 서포트 벡터머신 문제를 푸는 모델로 바꿔줌\n",
    "sgd2.fit(x_train_all, y_train_all)\n",
    "sgd2.score(x_test,y_test)\n",
    "#모델을 튜닝한다!"
   ]
  },
  {
   "cell_type": "code",
   "execution_count": 13,
   "metadata": {},
   "outputs": [
    {
     "name": "stdout",
     "output_type": "stream",
     "text": [
      "364 91\n"
     ]
    }
   ],
   "source": [
    "#모델을 튜닝할 때 테스트 세트를 안 사용하여 일반화 성능이 왜곡되지 않도록 한다\n",
    "#모델을 튜닝하는 용도의 세트인 검증세트(개발 세트)를 따로 준비한다\n",
    "#훈련(60%)검증(20%)테스트(20%)\n",
    "\n",
    "x_train, x_val, y_train, y_val=train_test_split(x_train_all, y_train_all, stratify=y_train_all, test_size=0.2, random_state=42)\n",
    "#여기서 stratify=y_train_all인 것 주의\n",
    "print(len(x_train), len(x_val))"
   ]
  },
  {
   "cell_type": "markdown",
   "metadata": {},
   "source": [
    "sgd3=SGDClassifier(loss='log', random_state=42) #여기서 loss 같이 사용자가 직접 지정해주어야하는 것을, 하이퍼 파라미터라고 부름\n",
    "sgd3.fit(x_train, y_train)\n",
    "sgd3.score(x_val,y_val) # 훈련 세트의 크기가 줄어들었기 때문에 평가 점수가 낮아짐\n",
    "#데이터의 양이 너무 적은 경우리서 검증세트의 비율이나, random변수를 조금만 수정해도 성능 평가 점수가 큰 폭으로 변화됨\n",
    "#데이터의 양이 너무 적은 경우는 검증세트를 만들지 않고 '교차검증'이라는 방법을 활용하기도 함\n",
    "#훈련세트에 압도적으로 많은 샘플을 할당하는 것이 좋음"
   ]
  },
  {
   "cell_type": "markdown",
   "metadata": {},
   "source": [
    "# 데이터전처리"
   ]
  },
  {
   "cell_type": "code",
   "execution_count": 15,
   "metadata": {},
   "outputs": [],
   "source": [
    "#준비 되어있는 데이터가 아닌 경우-> 데이터 전처리 필요\n",
    "#일단 특성의 스케일이 다른 경우에 대해서 살펴보자(특성끼리의 값의 범위가 다르다는 의미)\n",
    "#경사 하강법은 스케일에 민감한 알고리즘 이므로 특성의 스케일을 맞추는 전처리 필요"
   ]
  },
  {
   "cell_type": "code",
   "execution_count": 20,
   "metadata": {},
   "outputs": [
    {
     "name": "stdout",
     "output_type": "stream",
     "text": [
      "['mean perimeter' 'mean area']\n"
     ]
    },
    {
     "data": {
      "image/png": "[encoded data removed]",
      "text/plain": [
       "<Figure size 432x288 with 1 Axes>"
      ]
     },
     "metadata": {
      "needs_background": "light"
     },
     "output_type": "display_data"
    }
   ],
   "source": [
    "#두 특성의 스케일 비교\n",
    "import matplotlib.pyplot as plt\n",
    "import numpy as np\n",
    "print(cancer.feature_names[[2,3]])\n",
    "plt.boxplot(x_train[:,2:4])\n",
    "plt.xlabel('feature')\n",
    "plt.ylabel('value')\n",
    "plt.show()"
   ]
  },
  {
   "cell_type": "code",
   "execution_count": 36,
   "metadata": {},
   "outputs": [],
   "source": [
    "class SingleLayer:\n",
    "    def __init__(self, learning_rate=0.1):\n",
    "        self.w=None\n",
    "        self.b=None\n",
    "        self.losses=[] \n",
    "        self.w_history=[]# 매 에포크마다 가중치의 값을 저장하여 가중치의 변화를 관찰\n",
    "        self.lr=learning_rate #학습률(하이퍼 파라미터 중 하나, 가중치의 업데이트 양 조절)\n",
    "    def forpass(self,x): \n",
    "        z=np.sum(x*self.w)+self.b #직선 방정식 계산\n",
    "        return z\n",
    "    def backprop(self,x,err):\n",
    "        w_grad=x*err #가중치에 대한 그레디언트 계산\n",
    "        b_grad=1*err #절편에 대한 그레디언트 계산\n",
    "        return w_grad, b_grad\n",
    "    def activation(self,z):\n",
    "        a=1/(1+np.exp(-z)) \n",
    "        #활성화함수 계산 (로지스틱 회귀는 시그모이드 함수 이용)\n",
    "        return a\n",
    "    def fit(self,x,y,epochs=100):\n",
    "        self.w=np.ones(x.shape[1])\n",
    "        self.b=0 \n",
    "        self.w_history.append(self.w.copy())#가중치 기록\n",
    "        np.random.seed(42)\n",
    "        for i in range (epochs):\n",
    "            loss=0\n",
    "            indexes=np.random.permutation(np.arange(len(x)))\n",
    "            #매 에포크마다 훈련 세트의 샘플 순서를 섞어서 사용\n",
    "            #넘파이 배열의 인덱스를 섞은 후 인덱스 순서대로 샘플을 뽑음\n",
    "            #가중치의 최적값의 탐색 과정이 다양해서 가중치의 최적값을 제대로 찾을 수 있음\n",
    "            for i in indexes: #모든 샘플에 대하여 반복\n",
    "                z=self.forpass(x[i]) #정방형 계산\n",
    "                a=self.activation(z) #활성화 함수 적용\n",
    "                err=-(y[i]-a) # 오차계산 \n",
    "                w_grad, b_grad=self.backprop(x[i],err) #역방형 계산\n",
    "                self.w-=self.lr*w_grad #가중치 업데이트(학습률 적용)\n",
    "                self.b-=b_grad #절편 업데이트\n",
    "                self.w_history.append(self.w.copy())\n",
    "                a=np.clip(a, 1e-10, 1-1e-10) #안전한 로그 계산을 위해서 클리핑 후\n",
    "                loss+=-(y[i]*np.log(a)+(1-y[i])*np.log(1-a)) # 손실 누적\n",
    "            self.losses.append(loss/len(y)) #각 에포크마다 평균 손실 계산하여 저장\n",
    "    def predict(self, x):\n",
    "        z=[self.forpass(x_i) for x_i in x] #forpass의 결과를 새 리스트로 생성\n",
    "        #시그모이드 함수의 출력값은 0에서 1사이, z가 양수냐 음수냐에 따라 \n",
    "        #출력값은 두개로 나뉨, 따라서 굳이 시그모이드 함수의 출력값으로 갈 필요 없음\n",
    "        return np.array(z)>0\n",
    "    def score(self, x, y):\n",
    "        return np.mean(self.predict(x)==y)"
   ]
  },
  {
   "cell_type": "code",
   "execution_count": 37,
   "metadata": {},
   "outputs": [
    {
     "name": "stdout",
     "output_type": "stream",
     "text": [
      "[array([1, 2, 3])]\n",
      "[array([1, 2, 3]), array([1, 2, 3])]\n"
     ]
    }
   ],
   "source": [
    "a=np.array([1,2,3])\n",
    "lst=[]\n",
    "lst.append(a)\n",
    "print(lst) #이런식으로 넘파이 배열을 파이썬 리스트에 append 하면 참조로 들어감\n",
    "lst.append(a.copy())\n",
    "print(lst)"
   ]
  },
  {
   "cell_type": "code",
   "execution_count": 38,
   "metadata": {},
   "outputs": [
    {
     "name": "stderr",
     "output_type": "stream",
     "text": [
      "<ipython-input-36-e3d9bf994761>:16: RuntimeWarning: overflow encountered in exp\n",
      "  a=1/(1+np.exp(-z))\n"
     ]
    },
    {
     "data": {
      "text/plain": [
       "0.9120879120879121"
      ]
     },
     "execution_count": 38,
     "metadata": {},
     "output_type": "execute_result"
    }
   ],
   "source": [
    "layer1=SingleLayer()\n",
    "layer1.fit(x_train, y_train)\n",
    "layer1.score(x_val,y_val)"
   ]
  },
  {
   "cell_type": "code",
   "execution_count": 39,
   "metadata": {},
   "outputs": [
    {
     "data": {
      "image/png": "[encoded data removed]",
      "text/plain": [
       "<Figure size 432x288 with 1 Axes>"
      ]
     },
     "metadata": {
      "needs_background": "light"
     },
     "output_type": "display_data"
    }
   ],
   "source": [
    "w2=[]\n",
    "w3=[]\n",
    "for w in layer1.w_history:\n",
    "    w2.append(w[2])\n",
    "    w3.append(w[3])\n",
    "plt.plot(w2,w3)\n",
    "plt.plot(w2[-1],w3[-1],'ro')\n",
    "plt.xlabel('w[2]')\n",
    "plt.ylabel('w[3]')\n",
    "plt.show()\n",
    "#w[3]의 mean area의 스케일이 너무 커서 w3의 학습 과정에서 가중치가 큰 폭으로 흔들리며 변화하고 있음을 확인할 수 있음\n",
    "#'w3에 대한 그레이디언트가 크기 때문에 w3 축을 따라 가중치가 크게 요동치고 있다'\n",
    "#스케일을 조정해 모델이 최종 가중치에 안정적으로 수렴할 수 있게끔 해야 한다."
   ]
  },
  {
   "cell_type": "code",
   "execution_count": 40,
   "metadata": {},
   "outputs": [],
   "source": [
    "#대표적인 스케일 조정 : 표준화 -> 사이킷런에 StandardSclar 클래스로 구현이 되어있음\n",
    "#먼저, 넘파이로 표준화 구현하기\n",
    "train_mean=np.mean(x_train, axis=0) #axis=0 은 2차원 배열의 열을 기준으로 통계치를 계산하여 하나의 행벡터로 변환해줌\n",
    "train_std=np.std(x_train, axis=0)\n",
    "x_train_scaled=(x_train-train_mean)/train_std"
   ]
  },
  {
   "cell_type": "code",
   "execution_count": 41,
   "metadata": {},
   "outputs": [
    {
     "data": {
      "image/png": "[encoded data removed]",
      "text/plain": [
       "<Figure size 432x288 with 1 Axes>"
      ]
     },
     "metadata": {
      "needs_background": "light"
     },
     "output_type": "display_data"
    }
   ],
   "source": [
    "layer2=SingleLayer()\n",
    "layer2.fit(x_train_scaled, y_train)\n",
    "w2=[]\n",
    "w3=[]\n",
    "for w in layer2.w_history:\n",
    "    w2.append(w[2])\n",
    "    w3.append(w[3])\n",
    "plt.plot(w2,w3)\n",
    "plt.plot(w2[-1],w3[-1],'ro')\n",
    "plt.xlabel('w[2]')\n",
    "plt.ylabel('w[3]')\n",
    "plt.show() #두 변화 비율이 비슷하기 때문에 대각선 방향으로 가중치 이동, 최적값에 빠르게 근접"
   ]
  },
  {
   "cell_type": "code",
   "execution_count": 42,
   "metadata": {},
   "outputs": [
    {
     "data": {
      "text/plain": [
       "0.37362637362637363"
      ]
     },
     "execution_count": 42,
     "metadata": {},
     "output_type": "execute_result"
    }
   ],
   "source": [
    "layer2.score(x_val,y_val) #검증세트는 전처리가 안되어 있기 때문에 성능이 좋지 않음"
   ]
  },
  {
   "cell_type": "code",
   "execution_count": 44,
   "metadata": {},
   "outputs": [
    {
     "data": {
      "text/plain": [
       "0.967032967032967"
      ]
     },
     "execution_count": 44,
     "metadata": {},
     "output_type": "execute_result"
    }
   ],
   "source": [
    "val_mean=np.mean(x_val, axis=0) #axis=0 은 2차원 배열의 열을 기준으로 통계치를 계산하여 하나의 행벡터로 변환해줌\n",
    "val_std=np.std(x_val, axis=0)\n",
    "x_val_scaled=(x_val-val_mean)/val_std\n",
    "layer2.score(x_val_scaled,y_val)"
   ]
  },
  {
   "cell_type": "code",
   "execution_count": 45,
   "metadata": {},
   "outputs": [
    {
     "data": {
      "image/png": "[encoded data removed]",
      "text/plain": [
       "<Figure size 432x288 with 1 Axes>"
      ]
     },
     "metadata": {
      "needs_background": "light"
     },
     "output_type": "display_data"
    }
   ],
   "source": [
    "#스케일을 조정한 후, 실수하기 쉬운 함정 -> '훈련세트와 검증 세트가 다른 비율로 스케일이 조정된 경우'\n",
    "plt.plot(x_train[:50, 0], x_train[:50,1],'bo')\n",
    "plt.plot(x_val[:50, 0], x_val[:50,1],'ro')\n",
    "plt.xlabel('fature 1')\n",
    "plt.ylabel('fature 2')\n",
    "plt.legend(['train set', 'val set'])\n",
    "plt.show()\n",
    "#파란점이 훈련세트, 빨간점이 검증 세트, 산점도 그리기 -> 전처리 전"
   ]
  },
  {
   "cell_type": "code",
   "execution_count": 46,
   "metadata": {},
   "outputs": [
    {
     "data": {
      "image/png": "[encoded data removed]",
      "text/plain": [
       "<Figure size 432x288 with 1 Axes>"
      ]
     },
     "metadata": {
      "needs_background": "light"
     },
     "output_type": "display_data"
    }
   ],
   "source": [
    "plt.plot(x_train_scaled[:50, 0], x_train_scaled[:50,1],'bo')\n",
    "plt.plot(x_val_scaled[:50, 0], x_val_scaled[:50,1],'ro')\n",
    "plt.xlabel('fature 1')\n",
    "plt.ylabel('fature 2')\n",
    "plt.legend(['train set', 'val set'])\n",
    "plt.show() #원본 훈련 세트와 검증세트의 점과 점 사이의 거리가 변환된 이후에 그대로 유지되지 않았음 \n",
    "#-> 훈련세트와 검증세트를 각각 다른 비율로 전처리 했기 때문"
   ]
  },
  {
   "cell_type": "code",
   "execution_count": 47,
   "metadata": {},
   "outputs": [
    {
     "data": {
      "image/png": "[encoded data removed]",
      "text/plain": [
       "<Figure size 432x288 with 1 Axes>"
      ]
     },
     "metadata": {
      "needs_background": "light"
     },
     "output_type": "display_data"
    }
   ],
   "source": [
    "#같은 비율로 검증세트를 변환하기 위해서는 훈련세트의 평균과 표준편차를 사용하여, 검증세트를 변환하면 된다\n",
    "x_val_scaled=(x_val-train_mean)/train_std\n",
    "\n",
    "plt.plot(x_train_scaled[:50, 0], x_train_scaled[:50,1],'bo')\n",
    "plt.plot(x_val_scaled[:50, 0], x_val_scaled[:50,1],'ro')\n",
    "plt.xlabel('fature 1')\n",
    "plt.ylabel('fature 2')\n",
    "plt.legend(['train set', 'val set'])\n",
    "plt.show() #산점도가 원본데이터와 스케일 조정 이후가 같게 나타남"
   ]
  },
  {
   "cell_type": "code",
   "execution_count": 49,
   "metadata": {},
   "outputs": [
    {
     "data": {
      "text/plain": [
       "0.967032967032967"
      ]
     },
     "execution_count": 49,
     "metadata": {},
     "output_type": "execute_result"
    }
   ],
   "source": [
    "layer2.score(x_val_scaled,y_val) #데이터 세트가 크지가 않아 성능의 변화는 없음 (크기가 커지면 성능의 차이가 나타날 수 있음)"
   ]
  },
  {
   "cell_type": "markdown",
   "metadata": {},
   "source": [
    "# 과대적합과 과소적합"
   ]
  },
  {
   "cell_type": "code",
   "execution_count": 53,
   "metadata": {},
   "outputs": [],
   "source": [
    "class SingleLayer:\n",
    "    def __init__(self, learning_rate=0.1):\n",
    "        self.w=None\n",
    "        self.b=None\n",
    "        self.losses=[] \n",
    "        self.val_losses=[]\n",
    "        self.w_history=[]# 매 에포크마다 가중치의 값을 저장하여 가중치의 변화를 관찰\n",
    "        self.lr=learning_rate #학습률(하이퍼 파라미터 중 하나, 가중치의 업데이트 양 조절)\n",
    "    def forpass(self,x): \n",
    "        z=np.sum(x*self.w)+self.b #직선 방정식 계산\n",
    "        return z\n",
    "    def backprop(self,x,err):\n",
    "        w_grad=x*err #가중치에 대한 그레디언트 계산\n",
    "        b_grad=1*err #절편에 대한 그레디언트 계산\n",
    "        return w_grad, b_grad\n",
    "    def activation(self,z):\n",
    "        a=1/(1+np.exp(-z)) \n",
    "        #활성화함수 계산 (로지스틱 회귀는 시그모이드 함수 이용)\n",
    "        return a\n",
    "    def fit(self,x,y,epochs=100,x_val=None, y_val=None):\n",
    "        self.w=np.ones(x.shape[1])\n",
    "        self.b=0 \n",
    "        self.w_history.append(self.w.copy())#가중치 기록\n",
    "        np.random.seed(42)\n",
    "        for i in range (epochs):\n",
    "            loss=0\n",
    "            indexes=np.random.permutation(np.arange(len(x)))\n",
    "            #매 에포크마다 훈련 세트의 샘플 순서를 섞어서 사용\n",
    "            #넘파이 배열의 인덱스를 섞은 후 인덱스 순서대로 샘플을 뽑음\n",
    "            #가중치의 최적값의 탐색 과정이 다양해서 가중치의 최적값을 제대로 찾을 수 있음\n",
    "            for i in indexes: #모든 샘플에 대하여 반복\n",
    "                z=self.forpass(x[i]) #정방형 계산\n",
    "                a=self.activation(z) #활성화 함수 적용\n",
    "                err=-(y[i]-a) # 오차계산 \n",
    "                w_grad, b_grad=self.backprop(x[i],err) #역방형 계산\n",
    "                self.w-=self.lr*w_grad #가중치 업데이트(학습률 적용)\n",
    "                self.b-=b_grad #절편 업데이트\n",
    "                self.w_history.append(self.w.copy())\n",
    "                a=np.clip(a, 1e-10, 1-1e-10) #안전한 로그 계산을 위해서 클리핑 후\n",
    "                loss+=-(y[i]*np.log(a)+(1-y[i])*np.log(1-a)) # 손실 누적\n",
    "            self.losses.append(loss/len(y)) #각 에포크마다 평균 손실 계산하여 저장\n",
    "            self.update_val_loss(x_val,y_val)#검증세트에 대한 손실을 계산\n",
    "    def update_val_loss(self,x_val, y_val):\n",
    "        if x_val is None:\n",
    "            return \n",
    "        val_loss=0\n",
    "        for i in range(len(x_val)):\n",
    "            z=self.forpass(x_val[i]) #정방형 계산\n",
    "            a=self.activation(z)\n",
    "            a=np.clip(a, 1e-10, 1-1e-10)\n",
    "            val_loss+=-(y_val[i]*np.log(a)+(1-y_val[i])*np.log(1-a))\n",
    "        self.val_losses.append(val_loss/len(y_val))\n",
    "    def predict(self, x):\n",
    "        z=[self.forpass(x_i) for x_i in x] #forpass의 결과를 새 리스트로 생성\n",
    "        #시그모이드 함수의 출력값은 0에서 1사이, z가 양수냐 음수냐에 따라 \n",
    "        #출력값은 두개로 나뉨, 따라서 굳이 시그모이드 함수의 출력값으로 갈 필요 없음\n",
    "        return np.array(z)>0\n",
    "    def score(self, x, y):\n",
    "        return np.mean(self.predict(x)==y)"
   ]
  },
  {
   "cell_type": "code",
   "execution_count": 54,
   "metadata": {},
   "outputs": [],
   "source": [
    "layer3=SingleLayer()\n",
    "layer3.fit(x_train_scaled, y_train, x_val=x_val_scaled, y_val=y_val)"
   ]
  },
  {
   "cell_type": "code",
   "execution_count": 55,
   "metadata": {},
   "outputs": [
    {
     "data": {
      "image/png": "[encoded data removed]",
      "text/plain": [
       "<Figure size 432x288 with 1 Axes>"
      ]
     },
     "metadata": {
      "needs_background": "light"
     },
     "output_type": "display_data"
    }
   ],
   "source": [
    "plt.ylim(0,0.3)\n",
    "plt.plot(layer3.losses)\n",
    "plt.plot(layer3.val_losses)\n",
    "plt.xlabel('epoch')\n",
    "plt.ylabel('loss')\n",
    "plt.legend(['train loss', 'val loss'])\n",
    "plt.show()#검증 손실이 대략 20번째 에포크 이후에 훈련세트보다 높아지는 것을 알 수 있음\n",
    "#에포크가 진행됨에 따라 가중치는 훈련 세트에 잘 맞게 되지만 검증 세트에는 잘 맞지 않게 됨. 20번째 이후의 에포크는 훈련필요없음"
   ]
  },
  {
   "cell_type": "code",
   "execution_count": 56,
   "metadata": {},
   "outputs": [
    {
     "data": {
      "text/plain": [
       "0.978021978021978"
      ]
     },
     "execution_count": 56,
     "metadata": {},
     "output_type": "execute_result"
    }
   ],
   "source": [
    "#훈련 조기 종료\n",
    "layer4=SingleLayer()\n",
    "layer4.fit(x_train_scaled, y_train, epochs=20) #early stopping\n",
    "layer4.score(x_val_scaled,y_val)"
   ]
  }
 ],
 "metadata": {
  "kernelspec": {
   "display_name": "Python 3",
   "language": "python",
   "name": "python3"
  },
  "language_info": {
   "codemirror_mode": {
    "name": "ipython",
    "version": 3
   },
   "file_extension": ".py",
   "mimetype": "text/x-python",
   "name": "python",
   "nbconvert_exporter": "python",
   "pygments_lexer": "ipython3",
   "version": "3.8.5"
  }
 },
 "nbformat": 4,
 "nbformat_minor": 4
}
